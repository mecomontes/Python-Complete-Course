{
  "nbformat": 4,
  "nbformat_minor": 0,
  "metadata": {
    "kernelspec": {
      "display_name": "Python",
      "language": "python",
      "name": "conda-env-python-py"
    },
    "language_info": {
      "codemirror_mode": {
        "name": "ipython",
        "version": 3
      },
      "file_extension": ".py",
      "mimetype": "text/x-python",
      "name": "python",
      "nbconvert_exporter": "python",
      "pygments_lexer": "ipython3",
      "version": "3.6.11"
    },
    "colab": {
      "name": "ExamenMatesDiscretas.ipynb",
      "provenance": []
    }
  },
  "cells": [
    {
      "cell_type": "markdown",
      "metadata": {
        "id": "ILXbNHGfpzGw"
      },
      "source": [
        "# Examen Matematicas Discretas\n",
        "\n",
        "## Fernando Vazquez Sanchez - No 420082523.\n",
        "\n",
        "### **Pregunta 1:**\n",
        "\n",
        "Sean los conjuntos $A=({a,b,c})$ y $B=({1,2,3,4,5})$ calcular:\n",
        "\n",
        "* $AXB$\n"
      ]
    },
    {
      "cell_type": "code",
      "metadata": {
        "id": "1idTb8cvpzGw",
        "outputId": "843e80c2-69c4-41f5-9bfb-c480467626d3"
      },
      "source": [
        "import itertools\n",
        "for i in itertools.product(['a','b','c'],[1,2,3,4,5]):\n",
        "    print(i)"
      ],
      "execution_count": null,
      "outputs": [
        {
          "output_type": "stream",
          "text": [
            "('a', 1)\n",
            "('a', 2)\n",
            "('a', 3)\n",
            "('a', 4)\n",
            "('a', 5)\n",
            "('b', 1)\n",
            "('b', 2)\n",
            "('b', 3)\n",
            "('b', 4)\n",
            "('b', 5)\n",
            "('c', 1)\n",
            "('c', 2)\n",
            "('c', 3)\n",
            "('c', 4)\n",
            "('c', 5)\n"
          ],
          "name": "stdout"
        }
      ]
    },
    {
      "cell_type": "markdown",
      "metadata": {
        "id": "WX8cBDl5pzG0"
      },
      "source": [
        "---\n",
        "\n",
        "## **2. Encontrar el conjunto potencia de $R$** \n",
        "* $R={ (1,2,3,4,5) } $"
      ]
    },
    {
      "cell_type": "code",
      "metadata": {
        "id": "F64uBds0pzG0",
        "colab": {
          "base_uri": "https://localhost:8080/"
        },
        "outputId": "a35fb27c-2646-4a9e-d2ca-8cf33af54984"
      },
      "source": [
        "def pset(myset):\n",
        "    if not myset:\n",
        "        return [set()]\n",
        "    r = []\n",
        "    for y in myset:\n",
        "        sy = set((y,))\n",
        "        for x in pset(myset - sy):\n",
        "            if x not in r:\n",
        "                r.extend([x, x|sy])\n",
        "        return r\n",
        "\n",
        "print(pset(set((1,2,3,4,5))))"
      ],
      "execution_count": 61,
      "outputs": [
        {
          "output_type": "stream",
          "text": [
            "[set(), {1}, {2}, {1, 2}, {3}, {1, 3}, {2, 3}, {1, 2, 3}, {4}, {1, 4}, {2, 4}, {1, 2, 4}, {3, 4}, {1, 3, 4}, {2, 3, 4}, {1, 2, 3, 4}, {5}, {1, 5}, {2, 5}, {1, 2, 5}, {3, 5}, {1, 3, 5}, {2, 3, 5}, {1, 2, 3, 5}, {4, 5}, {1, 4, 5}, {2, 4, 5}, {1, 2, 4, 5}, {3, 4, 5}, {1, 3, 4, 5}, {2, 3, 4, 5}, {1, 2, 3, 4, 5}]\n"
          ],
          "name": "stdout"
        }
      ]
    },
    {
      "cell_type": "markdown",
      "metadata": {
        "id": "6IEtuNOnpzG1"
      },
      "source": [
        "---\n",
        "\n",
        "### **3. Sean los conjuntos:**\n",
        "\n",
        "* $A=({a,b,c})$\n",
        "* $B= ({s,t,u,v})$\n",
        "* $C=({1,2,3,4,5})$\n",
        "\n",
        "& las relaciones $R $ y $S$ definidas como:\n",
        "\n",
        "* $R={(a,s),(a,t),(c,v),(d,u)} , A -> B$\n",
        "\n",
        "* $S={(s,2),(t,1),(t,4),(u,3)} , B->C$\n",
        "\n",
        "Hallar $S ∘ S$\n",
        "\n",
        "**No ennedi como realizar la composicion de un mismo conjunto**, sin embaro realizre $S∘R$\n",
        "\n",
        "| A   |     B      |  C |\n",
        "|----------|:-------------:|:-------------:|\n",
        "| a |  s | 1|\n",
        "| b |   t   |   2 |\n",
        "| c| u |    3 |\n",
        "| d| v |   4 |\n",
        "| |  |   5 |\n",
        "\n",
        "\n",
        "**RESPUESTA - $S∘R$ = ${(a,2),(a,1),(a,4),(d,3)}$**"
      ]
    },
    {
      "cell_type": "markdown",
      "metadata": {
        "id": "cI2QsztUpzG1"
      },
      "source": [
        "---\n",
        "\n",
        "### 4. Liste y grafique con una matriz los pares ordenados\n",
        "\n",
        "\n",
        "En la relacion $R$ del conjunto $a=({13,15,18,19})$ donde (a,b)estan en R syss $a>b$"
      ]
    },
    {
      "cell_type": "code",
      "metadata": {
        "id": "gQoAxMLMpzG1",
        "colab": {
          "base_uri": "https://localhost:8080/",
          "height": 173
        },
        "outputId": "80212cfa-1aaf-4988-daa1-48478d00e645"
      },
      "source": [
        "R = {'13': [0,1,1,1],\n",
        "        '15': [0,0,1,1],\n",
        "        '18':[0,0,0,1],\n",
        "        '19':[0,0,0,0]\n",
        "        }\n",
        "\n",
        "df = pd.DataFrame(R, columns = ['13','15','18','19'], index=['13','15','18','19'])\n",
        "df"
      ],
      "execution_count": 63,
      "outputs": [
        {
          "output_type": "execute_result",
          "data": {
            "text/html": [
              "<div>\n",
              "<style scoped>\n",
              "    .dataframe tbody tr th:only-of-type {\n",
              "        vertical-align: middle;\n",
              "    }\n",
              "\n",
              "    .dataframe tbody tr th {\n",
              "        vertical-align: top;\n",
              "    }\n",
              "\n",
              "    .dataframe thead th {\n",
              "        text-align: right;\n",
              "    }\n",
              "</style>\n",
              "<table border=\"1\" class=\"dataframe\">\n",
              "  <thead>\n",
              "    <tr style=\"text-align: right;\">\n",
              "      <th></th>\n",
              "      <th>13</th>\n",
              "      <th>15</th>\n",
              "      <th>18</th>\n",
              "      <th>19</th>\n",
              "    </tr>\n",
              "  </thead>\n",
              "  <tbody>\n",
              "    <tr>\n",
              "      <th>13</th>\n",
              "      <td>0</td>\n",
              "      <td>0</td>\n",
              "      <td>0</td>\n",
              "      <td>0</td>\n",
              "    </tr>\n",
              "    <tr>\n",
              "      <th>15</th>\n",
              "      <td>1</td>\n",
              "      <td>0</td>\n",
              "      <td>0</td>\n",
              "      <td>0</td>\n",
              "    </tr>\n",
              "    <tr>\n",
              "      <th>18</th>\n",
              "      <td>1</td>\n",
              "      <td>1</td>\n",
              "      <td>0</td>\n",
              "      <td>0</td>\n",
              "    </tr>\n",
              "    <tr>\n",
              "      <th>19</th>\n",
              "      <td>1</td>\n",
              "      <td>1</td>\n",
              "      <td>1</td>\n",
              "      <td>0</td>\n",
              "    </tr>\n",
              "  </tbody>\n",
              "</table>\n",
              "</div>"
            ],
            "text/plain": [
              "    13  15  18  19\n",
              "13   0   0   0   0\n",
              "15   1   0   0   0\n",
              "18   1   1   0   0\n",
              "19   1   1   1   0"
            ]
          },
          "metadata": {
            "tags": []
          },
          "execution_count": 63
        }
      ]
    },
    {
      "cell_type": "markdown",
      "metadata": {
        "id": "M4oJzbIzT0MH"
      },
      "source": [
        "Por lo tanto la respuesta es **R={(19,13),(19,15),(19,18),(18,13),(18,15),(15,13)}**"
      ]
    },
    {
      "cell_type": "markdown",
      "metadata": {
        "id": "IA0tNNNBpzG1"
      },
      "source": [
        "---\n",
        "\n",
        "### 5. Para los siguientes conjuntos:\n",
        "\n",
        "* R={(1,1),(1,2),(2,1),(2,2),(3,4),(4,1),(4,4)}\n",
        "* S={(1,1),(1,2),(2,1)}\n",
        "* T={(1,1),(1,2),(1,4),(2,1),(2,2),(3,3),(4,1),(4,4)}\n",
        "* U={(2,1),(3,1),(3,2),(4,1),(4,2),(4,3)}\n",
        "* V={(1,1),(1,2),(1,3),(1,4),(2,2),(2,3),(2,4),(3,3),(3,4),(4,4)}\n",
        "* W={(3,4)}\n",
        "\n",
        "\n",
        "Hallar los conjuntos **Simetricos**\n",
        "\n",
        "### **RECORDATORIO**\n",
        "Recordemos que una Relacion simetrica es el conjunto de pares o par ordenado donde **todo par ordenado de R debe tener su inverso.**\n",
        "\n",
        "Para este problema , representare las tablas como un dataframe de pandas.\n"
      ]
    },
    {
      "cell_type": "code",
      "metadata": {
        "id": "y4DGJWq9pzG1"
      },
      "source": [
        "import pandas as pd\n",
        "import numpy as np"
      ],
      "execution_count": null,
      "outputs": []
    },
    {
      "cell_type": "code",
      "metadata": {
        "colab": {
          "base_uri": "https://localhost:8080/",
          "height": 173
        },
        "id": "p3UvjbU4rYpy",
        "outputId": "1764e7dd-b9f8-46d8-b366-2a3b575444a2"
      },
      "source": [
        "R = {'1': [1,1,np.nan,np.nan],\n",
        "        '2': [1,1,np.nan,np.nan],\n",
        "        '3':[np.nan,np.nan,np.nan,1],\n",
        "        '4':[1,np.nan,np.nan,1]\n",
        "        }\n",
        "\n",
        "df = pd.DataFrame(R, columns = ['1','2','3','4'], index=['1','2','3','4'])\n",
        "df"
      ],
      "execution_count": null,
      "outputs": [
        {
          "output_type": "execute_result",
          "data": {
            "text/html": [
              "<div>\n",
              "<style scoped>\n",
              "    .dataframe tbody tr th:only-of-type {\n",
              "        vertical-align: middle;\n",
              "    }\n",
              "\n",
              "    .dataframe tbody tr th {\n",
              "        vertical-align: top;\n",
              "    }\n",
              "\n",
              "    .dataframe thead th {\n",
              "        text-align: right;\n",
              "    }\n",
              "</style>\n",
              "<table border=\"1\" class=\"dataframe\">\n",
              "  <thead>\n",
              "    <tr style=\"text-align: right;\">\n",
              "      <th></th>\n",
              "      <th>1</th>\n",
              "      <th>2</th>\n",
              "      <th>3</th>\n",
              "      <th>4</th>\n",
              "    </tr>\n",
              "  </thead>\n",
              "  <tbody>\n",
              "    <tr>\n",
              "      <th>1</th>\n",
              "      <td>1.0</td>\n",
              "      <td>1.0</td>\n",
              "      <td>NaN</td>\n",
              "      <td>1.0</td>\n",
              "    </tr>\n",
              "    <tr>\n",
              "      <th>2</th>\n",
              "      <td>1.0</td>\n",
              "      <td>1.0</td>\n",
              "      <td>NaN</td>\n",
              "      <td>NaN</td>\n",
              "    </tr>\n",
              "    <tr>\n",
              "      <th>3</th>\n",
              "      <td>NaN</td>\n",
              "      <td>NaN</td>\n",
              "      <td>NaN</td>\n",
              "      <td>NaN</td>\n",
              "    </tr>\n",
              "    <tr>\n",
              "      <th>4</th>\n",
              "      <td>NaN</td>\n",
              "      <td>NaN</td>\n",
              "      <td>1.0</td>\n",
              "      <td>1.0</td>\n",
              "    </tr>\n",
              "  </tbody>\n",
              "</table>\n",
              "</div>"
            ],
            "text/plain": [
              "     1    2    3    4\n",
              "1  1.0  1.0  NaN  1.0\n",
              "2  1.0  1.0  NaN  NaN\n",
              "3  NaN  NaN  NaN  NaN\n",
              "4  NaN  NaN  1.0  1.0"
            ]
          },
          "metadata": {
            "tags": []
          },
          "execution_count": 16
        }
      ]
    },
    {
      "cell_type": "markdown",
      "metadata": {
        "id": "q5m_mmi9tbrM"
      },
      "source": [
        "Notemos que R no cumple con la propiedad simetrica , ya que no existen los pares ordenados $(4,3),(1,4)$, por lo tanto no cumple con la propiedad , pasemos ahora con el conjunto $S$"
      ]
    },
    {
      "cell_type": "code",
      "metadata": {
        "colab": {
          "base_uri": "https://localhost:8080/",
          "height": 111
        },
        "id": "WGXPc_Ytrpvk",
        "outputId": "d720fdc3-414c-46a4-87c0-37b5afa28fd9"
      },
      "source": [
        "S = {'1': [1,1],\n",
        "        '2': [1,np.nan]\n",
        "        }\n",
        "\n",
        "df_S = pd.DataFrame(S, columns = ['1','2'], index=['1','2'])\n",
        "df_S"
      ],
      "execution_count": null,
      "outputs": [
        {
          "output_type": "execute_result",
          "data": {
            "text/html": [
              "<div>\n",
              "<style scoped>\n",
              "    .dataframe tbody tr th:only-of-type {\n",
              "        vertical-align: middle;\n",
              "    }\n",
              "\n",
              "    .dataframe tbody tr th {\n",
              "        vertical-align: top;\n",
              "    }\n",
              "\n",
              "    .dataframe thead th {\n",
              "        text-align: right;\n",
              "    }\n",
              "</style>\n",
              "<table border=\"1\" class=\"dataframe\">\n",
              "  <thead>\n",
              "    <tr style=\"text-align: right;\">\n",
              "      <th></th>\n",
              "      <th>1</th>\n",
              "      <th>2</th>\n",
              "    </tr>\n",
              "  </thead>\n",
              "  <tbody>\n",
              "    <tr>\n",
              "      <th>1</th>\n",
              "      <td>1</td>\n",
              "      <td>1.0</td>\n",
              "    </tr>\n",
              "    <tr>\n",
              "      <th>2</th>\n",
              "      <td>1</td>\n",
              "      <td>NaN</td>\n",
              "    </tr>\n",
              "  </tbody>\n",
              "</table>\n",
              "</div>"
            ],
            "text/plain": [
              "   1    2\n",
              "1  1  1.0\n",
              "2  1  NaN"
            ]
          },
          "metadata": {
            "tags": []
          },
          "execution_count": 19
        }
      ]
    },
    {
      "cell_type": "markdown",
      "metadata": {
        "id": "DtsJbAh-uvDu"
      },
      "source": [
        "Notemos que en el conjunto $S$ existen los pares ordenados $(1,2)$ y $(2,1)$ , por lo tanto podemos afirmar que $S$ es una relacion simetrica.\n",
        "\n",
        "\n",
        "Procedamos a la relacion $T$"
      ]
    },
    {
      "cell_type": "code",
      "metadata": {
        "colab": {
          "base_uri": "https://localhost:8080/",
          "height": 173
        },
        "id": "6anwL3tUuloS",
        "outputId": "5759aa9a-4acd-47b5-ba2b-5b7b5e815a52"
      },
      "source": [
        "T = {'1': [1,1,np.nan,1],\n",
        "        '2': [1,1,np.nan,np.nan],\n",
        "        '3':[np.nan,np.nan,1,np.nan],\n",
        "        '4':[1,np.nan,np.nan,1]\n",
        "        }\n",
        "\n",
        "df_T = pd.DataFrame(T, columns = ['1','2','3','4'], index=['1','2','3','4'])\n",
        "df_T"
      ],
      "execution_count": null,
      "outputs": [
        {
          "output_type": "execute_result",
          "data": {
            "text/html": [
              "<div>\n",
              "<style scoped>\n",
              "    .dataframe tbody tr th:only-of-type {\n",
              "        vertical-align: middle;\n",
              "    }\n",
              "\n",
              "    .dataframe tbody tr th {\n",
              "        vertical-align: top;\n",
              "    }\n",
              "\n",
              "    .dataframe thead th {\n",
              "        text-align: right;\n",
              "    }\n",
              "</style>\n",
              "<table border=\"1\" class=\"dataframe\">\n",
              "  <thead>\n",
              "    <tr style=\"text-align: right;\">\n",
              "      <th></th>\n",
              "      <th>1</th>\n",
              "      <th>2</th>\n",
              "      <th>3</th>\n",
              "      <th>4</th>\n",
              "    </tr>\n",
              "  </thead>\n",
              "  <tbody>\n",
              "    <tr>\n",
              "      <th>1</th>\n",
              "      <td>1.0</td>\n",
              "      <td>1.0</td>\n",
              "      <td>NaN</td>\n",
              "      <td>1.0</td>\n",
              "    </tr>\n",
              "    <tr>\n",
              "      <th>2</th>\n",
              "      <td>1.0</td>\n",
              "      <td>1.0</td>\n",
              "      <td>NaN</td>\n",
              "      <td>NaN</td>\n",
              "    </tr>\n",
              "    <tr>\n",
              "      <th>3</th>\n",
              "      <td>NaN</td>\n",
              "      <td>NaN</td>\n",
              "      <td>1.0</td>\n",
              "      <td>NaN</td>\n",
              "    </tr>\n",
              "    <tr>\n",
              "      <th>4</th>\n",
              "      <td>1.0</td>\n",
              "      <td>NaN</td>\n",
              "      <td>NaN</td>\n",
              "      <td>1.0</td>\n",
              "    </tr>\n",
              "  </tbody>\n",
              "</table>\n",
              "</div>"
            ],
            "text/plain": [
              "     1    2    3    4\n",
              "1  1.0  1.0  NaN  1.0\n",
              "2  1.0  1.0  NaN  NaN\n",
              "3  NaN  NaN  1.0  NaN\n",
              "4  1.0  NaN  NaN  1.0"
            ]
          },
          "metadata": {
            "tags": []
          },
          "execution_count": 20
        }
      ]
    },
    {
      "cell_type": "markdown",
      "metadata": {
        "id": "tiGpS9QDvrHg"
      },
      "source": [
        "Veamos que si existen los pares relacionados , podemos ver en todos los casos y no aparece nigun nan , por lo tanto $T$ , tambien es una relacion simetrica.\n",
        "\n",
        "Considero que ees suficiente , las demostraciones que cabao de realizar , sin embargo para las ultimas 3 relaciones , no creare un dataframe , simplemente lo describire:\n",
        "\n",
        "* $U$ - No es una relacion simetrica por que no existen los pares ordenados (1,2),(3,2) etc..\n",
        "\n",
        "* $V$ - Veamos que si existen la mitad de los pares ordenados pero la otra mitad no , por lo tanto no es una relacion simetrica.\n",
        "\n",
        "---\n",
        "\n",
        "\n",
        "### 6.- Demostracion\n",
        "\n",
        "P.D que la relación de división denotada por $|$ en el conjunto de los enteros\n",
        "positivos **no es una relación de equivalencia**.\n",
        "\n",
        "\n",
        "Veamos que si se cumplen las siguientes propiedades:\n",
        "\n",
        "* **Reflexiva** ✓ \n",
        "\n",
        "Fijaremos 2 numeros , para aplicarlo en codigo\n"
      ]
    },
    {
      "cell_type": "code",
      "metadata": {
        "colab": {
          "base_uri": "https://localhost:8080/"
        },
        "id": "AEKy2K2Dvood",
        "outputId": "6337be56-b92d-4542-dbfc-3617416cd012"
      },
      "source": [
        "a =1\n",
        "a_1 =1 \n",
        "reflex = a_1/a\n",
        "reflex_1 = a/a_1\n",
        "print(reflex)\n",
        "print(reflex_1)"
      ],
      "execution_count": null,
      "outputs": [
        {
          "output_type": "stream",
          "text": [
            "1.0\n",
            "1.0\n"
          ],
          "name": "stdout"
        }
      ]
    },
    {
      "cell_type": "markdown",
      "metadata": {
        "id": "Kicwv8fsy0w7"
      },
      "source": [
        "* **Simetrica** X\n",
        "\n",
        "Fijaremos 2 numeros para aplicarlo en codigo"
      ]
    },
    {
      "cell_type": "code",
      "metadata": {
        "colab": {
          "base_uri": "https://localhost:8080/"
        },
        "id": "o8d1q8M4ykEx",
        "outputId": "bd40d9f8-e43c-4343-90f2-198449f6c602"
      },
      "source": [
        "a = 2\n",
        "b = 4\n",
        "\n",
        "div_1 = a/b\n",
        "div_2 = b/a\n",
        "\n",
        "print(div_1)\n",
        "print(div_2)"
      ],
      "execution_count": null,
      "outputs": [
        {
          "output_type": "stream",
          "text": [
            "0.5\n",
            "2.0\n"
          ],
          "name": "stdout"
        }
      ]
    },
    {
      "cell_type": "markdown",
      "metadata": {
        "id": "DBYiS0Tqzxjh"
      },
      "source": [
        "Como los resultados no son los mismos no podemos afirmar que sea simetrica y por lo tanto **NO ES UNA RELACION DE EQUIVALENCIA**\n",
        "\n",
        "---\n",
        "\n",
        "\n",
        "## **7. Sea $X$ , el conjunto de todos los seres humanos vivos:**\n",
        "\n",
        "* R={(a,b)|a tiene el mismo cumple que b}\n",
        "\n",
        "* Describir 3 individuos de las siguientes clases de equivalencia:\n",
        "\n",
        "* [1-noviembre]\n",
        "* [24 noviembre]\n",
        "* [25 diciembre]\n",
        "\n",
        "## [1 noviembre]:\n",
        "\n",
        "* {Eric Turner,Tina Arena,Mose Allison}\n",
        "\n",
        "## [24 noviembre]:\n",
        "\n",
        "* {Celina Jaitley,María Amalia de Sajonia,Tsung-Dao Lee }\n",
        "\n",
        "* [25 diciembre]:\n",
        "\n",
        "* {Humphrey BOgart,Justin Trudeau,Armin Vann Burenn}\n",
        "\n",
        "---\n",
        "\n",
        "## **8.Demostracion**\n",
        "\n",
        " P.D que la relación de inclusión $⊆$ es un orden parcial en el conjunto\n",
        "potencia del conjunto $S$.\n",
        "\n",
        "Recordemos que el conjunto potencia se refiere a que los elementos de un conjunto pueden verse como un  numero de conjuntos que podemos elevar a un numero.\n",
        "\n",
        "* **REFLEXIVA**- Entonces si suponemos que $F$ es un subconjunto de S  entonces**$F⊆F$**, por lo tanto **es reflexiva.**\n",
        "\n",
        "\n",
        "* **ANTISIMETRICA** - Para esta demostracion fijaremos aun conjunto $W$ , como un subconjunto de $F$, entonces $W⊆F$ -> $F⊆W$ , de aqui ya que todos son subconjuntos dentro de si mismos podemos afirmar que $F=W$ , por lo tanto **si es antisimetrica.**\n",
        "\n",
        "\n",
        "* **TRANSITIVA** - ES transitiva ya que si nostros definimos un $K$ , como un subconjunto potencia de $W$, entonces podemos decir que $F⊆K$ , ya que K esta dentro de F , por lo tanto **si es transitiva.**\n",
        "\n",
        "\n",
        "Una vez demostradas estas 3 propiedades , podemos concluir que la relacion $⊆$ **SI es un un orden parcial en S**.\n",
        "\n",
        "\n",
        "---\n",
        "\n",
        "\n",
        "## 9. Diagrama Hasse\n",
        "\n",
        "Dibuje el diagrama de Hasse que represente el conjunto de orden parcial ${(a,b) | a\n",
        "divide b}$ en ${1,2,3,4,5,6,8,12}$\n",
        "\n",
        "\n",
        "![](https://raw.githubusercontent.com/Chilangdon20/IMAGENES/master/ImagenesPython/1.png?token=AOSXAEAC6Q7Q3R47HDSS3VC7Y25QC)\n",
        "\n",
        "\n",
        "**Trate de graficarlos con la libreria Networkx , debido a mis faltas de conocimiento en la libreria , no logre realizar la grafica.**\n",
        "\n",
        "\n",
        "\n",
        "---\n",
        "\n",
        "## 10. Diagrama Hasse 2\n",
        "Dibuje el diagrama de Hasse para el orden parcial de todos los subconjuntos de\n",
        "${A,B|A⊆B}$ en el conjunto potencia de $P(S)$ donde $S={a,b,c}$"
      ]
    },
    {
      "cell_type": "code",
      "metadata": {
        "colab": {
          "base_uri": "https://localhost:8080/"
        },
        "id": "8943bHjbQGU4",
        "outputId": "3dcd2233-0d87-44ac-e52d-2b8385c8aaec"
      },
      "source": [
        "print(pset(set(('a','b','c'))))"
      ],
      "execution_count": 62,
      "outputs": [
        {
          "output_type": "stream",
          "text": [
            "[set(), {'c'}, {'a'}, {'c', 'a'}, {'b'}, {'c', 'b'}, {'a', 'b'}, {'c', 'a', 'b'}]\n"
          ],
          "name": "stdout"
        }
      ]
    },
    {
      "cell_type": "markdown",
      "metadata": {
        "id": "XPSaS8GySenT"
      },
      "source": [
        "Resultado:\n",
        "\n",
        "\n",
        "\n",
        "![imagen](https://raw.githubusercontent.com/Chilangdon20/PYTHON/master/Curso%20Matem%C3%A1ticas/10.png)\n",
        "\n"
      ]
    },
    {
      "cell_type": "code",
      "metadata": {
        "id": "ibXkA_bvdQg_"
      },
      "source": [
        ""
      ],
      "execution_count": null,
      "outputs": []
    }
  ]
}