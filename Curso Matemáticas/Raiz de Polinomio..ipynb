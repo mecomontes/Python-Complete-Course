{
 "cells": [
  {
   "cell_type": "markdown",
   "metadata": {},
   "source": [
    "# Raíces de un polinomio"
   ]
  },
  {
   "cell_type": "code",
   "execution_count": 2,
   "metadata": {},
   "outputs": [],
   "source": [
    "import numpy as np\n",
    "from numpy.polynomial import Polynomial as P"
   ]
  },
  {
   "cell_type": "markdown",
   "metadata": {},
   "source": [
    " Calcularemos las raices de este polinomio :\n",
    " f(x) = x^6-5x^5+2x^4+10x^3-7x^2-5x+4"
   ]
  },
  {
   "cell_type": "code",
   "execution_count": 3,
   "metadata": {},
   "outputs": [],
   "source": [
    "p=P([4,-5,-7,10,2,-5,1]) #Con la funcion P guardamos los valores del polinomio"
   ]
  },
  {
   "cell_type": "code",
   "execution_count": 5,
   "metadata": {
    "collapsed": true
   },
   "outputs": [
    {
     "name": "stdout",
     "output_type": "stream",
     "text": [
      "[-1.        -2.29002035e-08j -1.        +2.29002035e-08j\n",
      "  0.99999827-2.98915525e-06j  0.99999827+2.98915525e-06j\n",
      "  1.00000345+0.00000000e+00j  4.        +0.00000000e+00j]\n"
     ]
    }
   ],
   "source": [
    "print(p.roots())#Mostramos el valor exacto de las raices OBS:INCLUYE RAICES COMPLEJAS"
   ]
  },
  {
   "cell_type": "code",
   "execution_count": 6,
   "metadata": {},
   "outputs": [],
   "source": [
    "P=np.zeros([4])"
   ]
  },
  {
   "cell_type": "code",
   "execution_count": 8,
   "metadata": {},
   "outputs": [
    {
     "name": "stdout",
     "output_type": "stream",
     "text": [
      "Ingresa el termino al cubo: 6\n",
      "Ingresa el termino cuadratico: 4\n",
      "Ingresa el termino lineal: 3\n",
      "Ingresa el termino independiente : 2\n"
     ]
    }
   ],
   "source": [
    "P[0]=float(input(\"Ingresa el termino al cubo: \"))\n",
    "P[1]=float(input(\"Ingresa el termino cuadratico: \"))\n",
    "P[2]=float(input(\"Ingresa el termino lineal: \"))\n",
    "P[3]=float(input(\"Ingresa el termino independiente : \"))"
   ]
  },
  {
   "cell_type": "code",
   "execution_count": 9,
   "metadata": {},
   "outputs": [
    {
     "name": "stdout",
     "output_type": "stream",
     "text": [
      "[-6.66666667e-01+0.j          1.11022302e-16+0.70710678j\n",
      "  1.11022302e-16-0.70710678j]\n"
     ]
    }
   ],
   "source": [
    "print(np.roots(P))"
   ]
  },
  {
   "cell_type": "code",
   "execution_count": null,
   "metadata": {},
   "outputs": [],
   "source": []
  }
 ],
 "metadata": {
  "kernelspec": {
   "display_name": "Python 3",
   "language": "python",
   "name": "python3"
  },
  "language_info": {
   "codemirror_mode": {
    "name": "ipython",
    "version": 3
   },
   "file_extension": ".py",
   "mimetype": "text/x-python",
   "name": "python",
   "nbconvert_exporter": "python",
   "pygments_lexer": "ipython3",
   "version": "3.7.3"
  }
 },
 "nbformat": 4,
 "nbformat_minor": 2
}
