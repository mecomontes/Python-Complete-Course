{
 "cells": [
  {
   "cell_type": "markdown",
   "metadata": {},
   "source": [
    "# Derivadas ."
   ]
  },
  {
   "cell_type": "code",
   "execution_count": 16,
   "metadata": {},
   "outputs": [],
   "source": [
    "from sympy import Symbol\n",
    "from sympy import diff\n",
    "from scipy.misc import derivative\n",
    "from sympy import sin,cos,tan,cot\n",
    "from math import pi\n"
   ]
  },
  {
   "cell_type": "code",
   "execution_count": 17,
   "metadata": {},
   "outputs": [
    {
     "name": "stdout",
     "output_type": "stream",
     "text": [
      "La derivada de cos es : -sin(x) \n",
      "\n",
      "La derivada de sin es : cos(x)\n",
      "\n",
      "La derivada de tangente es : tan(x)**2 + 1\n",
      "\n",
      "La derivada de cotangente es : -cot(x)**2 - 1\n"
     ]
    }
   ],
   "source": [
    "x = Symbol('x') #X es la variable dentro de la derivada\n",
    "y = diff(cos(x),x)#Y es el resultado de la derivada cos(x) depende de x y se deriva respecto a x\n",
    "z = diff(sin(x),x)\n",
    "t = diff(tan(x),x)\n",
    "c = diff(cot(x),x)\n",
    "\n",
    "print(\"La derivada de cos es : {} \\n\".format(y)) \n",
    "print(\"La derivada de sin es : {}\\n\".format(z)) \n",
    "print(\"La derivada de tangente es : {}\\n\".format(t)) \n",
    "print(\"La derivada de cotangente es : {}\".format(c)) "
   ]
  },
  {
   "cell_type": "code",
   "execution_count": 19,
   "metadata": {},
   "outputs": [
    {
     "name": "stdout",
     "output_type": "stream",
     "text": [
      "1.00000008274037\n"
     ]
    }
   ],
   "source": [
    "f = lambda x:sin(x)\n",
    "print(derivative(f,2*pi,dx=1e-10))"
   ]
  },
  {
   "cell_type": "code",
   "execution_count": 22,
   "metadata": {},
   "outputs": [
    {
     "name": "stdout",
     "output_type": "stream",
     "text": [
      "1.00000008274037\n"
     ]
    }
   ],
   "source": [
    "g = lambda x:tan(x)\n",
    "print(derivative(g,2*pi,dx=1e-10))"
   ]
  },
  {
   "cell_type": "markdown",
   "metadata": {},
   "source": [
    "# Derivadas de forma SIMBOLICA Y NUMERICA"
   ]
  },
  {
   "cell_type": "code",
   "execution_count": 29,
   "metadata": {},
   "outputs": [],
   "source": [
    "from sympy import Symbol\n",
    "from scipy.misc import derivative\n",
    "from math import pi"
   ]
  },
  {
   "cell_type": "code",
   "execution_count": 37,
   "metadata": {},
   "outputs": [
    {
     "name": "stdout",
     "output_type": "stream",
     "text": [
      "La derivada de forma simbolica es: 6.28318530717959*x**2.14159265358979 \n"
     ]
    }
   ],
   "source": [
    "x = Symbol('x')\n",
    "y = 2*x**pi\n",
    "derivada = y.diff(x)\n",
    "print(\"La derivada de forma simbolica es: {} \".format(derivada))"
   ]
  },
  {
   "cell_type": "code",
   "execution_count": 40,
   "metadata": {},
   "outputs": [
    {
     "name": "stdout",
     "output_type": "stream",
     "text": [
      "La derivada de forma numerica es 66.06618701709976 evaluada en 3 \n"
     ]
    }
   ],
   "source": [
    "#Haciendo derivadas y evaluando un valor en el resultado\n",
    "f = lambda x:2*x**pi\n",
    "print(\"La derivada de forma numerica es {} evaluada en 3 \".format(derivative(f,3,dx=1e-6)))"
   ]
  },
  {
   "cell_type": "code",
   "execution_count": null,
   "metadata": {},
   "outputs": [],
   "source": []
  }
 ],
 "metadata": {
  "kernelspec": {
   "display_name": "Python 3",
   "language": "python",
   "name": "python3"
  },
  "language_info": {
   "codemirror_mode": {
    "name": "ipython",
    "version": 3
   },
   "file_extension": ".py",
   "mimetype": "text/x-python",
   "name": "python",
   "nbconvert_exporter": "python",
   "pygments_lexer": "ipython3",
   "version": "3.7.3"
  }
 },
 "nbformat": 4,
 "nbformat_minor": 2
}
