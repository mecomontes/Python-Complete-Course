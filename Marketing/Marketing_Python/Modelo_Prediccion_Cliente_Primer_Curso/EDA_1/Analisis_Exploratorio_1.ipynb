{
  "nbformat": 4,
  "nbformat_minor": 0,
  "metadata": {
    "colab": {
      "name": "Analisis_Exploratorio_1.ipynb",
      "provenance": [],
      "collapsed_sections": []
    },
    "kernelspec": {
      "name": "python3",
      "display_name": "Python 3"
    }
  },
  "cells": [
    {
      "cell_type": "markdown",
      "metadata": {
        "id": "9Jjw_qqGDvKi",
        "colab_type": "text"
      },
      "source": [
        "# Explorando la rotación de clientes - customer churn 📊\n",
        "\n",
        "Ahora que sabemos qué es la rotación de clientes, examinemos la estructura de nuestro conjunto de datos de clientes.\n",
        "\n",
        "Poder verificar la estructura de los datos es un paso fundamental en el proceso de modelado de abandono y, a menudo se pasa por alto.\n",
        "\n",
        "Usaremos `pandas` métodos como `.info()` para tener una idea de su estructura y notar las diferentes columnas (también conocidas como \"características-`features`\" en Machine Learning), como `CustServ_Calls`, que denota la cantidad de llamadas de servicio al cliente que hizo el cliente, y `State`, que indica el estado del que es el cliente.\n",
        "\n",
        "\n",
        "Una característica es de particular interés para nosotros: `Churn`, que puede tomar dos valores, `yes` y `no`, que indican si el cliente ha abandonado o no. Podemos acceder usando data_phone['Churn`].\n",
        "\n",
        "Nuestra pregunta es:\n",
        "\n",
        "¿Cuántos abandonos tiene el conjunto de datos y cuántos no abandonos? Para responder fácilmente a esto,  usaremos el método .`value_counts()` en data_phone['Churn']."
      ]
    },
    {
      "cell_type": "code",
      "metadata": {
        "id": "ZJVZ9F6fDI_o",
        "colab_type": "code",
        "colab": {
          "base_uri": "https://localhost:8080/",
          "height": 309
        },
        "outputId": "10cfbd1b-b129-4cfe-82a4-57657009aa54"
      },
      "source": [
        "from urllib.request import urlretrieve\n",
        "import pandas as pd\n",
        "\n",
        "#-- Asignación URL\n",
        "url = 'https://assets.datacamp.com/production/repositories/1764/datasets/79c5446a4a753e728e32b4a67138344847b8f131/Churn.csv'\n",
        "\n",
        "#-- Guardar archivo localmente.\n",
        "\n",
        "urlretrieve(url)\n",
        "\n",
        "#-- Leer archivo\n",
        "data_phones = pd.read_csv(url)\n",
        "\n",
        "#-- Verificamos los datos\n",
        "\n",
        "data_phones.head()"
      ],
      "execution_count": 5,
      "outputs": [
        {
          "output_type": "execute_result",
          "data": {
            "text/html": [
              "<div>\n",
              "<style scoped>\n",
              "    .dataframe tbody tr th:only-of-type {\n",
              "        vertical-align: middle;\n",
              "    }\n",
              "\n",
              "    .dataframe tbody tr th {\n",
              "        vertical-align: top;\n",
              "    }\n",
              "\n",
              "    .dataframe thead th {\n",
              "        text-align: right;\n",
              "    }\n",
              "</style>\n",
              "<table border=\"1\" class=\"dataframe\">\n",
              "  <thead>\n",
              "    <tr style=\"text-align: right;\">\n",
              "      <th></th>\n",
              "      <th>Account_Length</th>\n",
              "      <th>Vmail_Message</th>\n",
              "      <th>Day_Mins</th>\n",
              "      <th>Eve_Mins</th>\n",
              "      <th>Night_Mins</th>\n",
              "      <th>Intl_Mins</th>\n",
              "      <th>CustServ_Calls</th>\n",
              "      <th>Churn</th>\n",
              "      <th>Intl_Plan</th>\n",
              "      <th>Vmail_Plan</th>\n",
              "      <th>Day_Calls</th>\n",
              "      <th>Day_Charge</th>\n",
              "      <th>Eve_Calls</th>\n",
              "      <th>Eve_Charge</th>\n",
              "      <th>Night_Calls</th>\n",
              "      <th>Night_Charge</th>\n",
              "      <th>Intl_Calls</th>\n",
              "      <th>Intl_Charge</th>\n",
              "      <th>State</th>\n",
              "      <th>Area_Code</th>\n",
              "      <th>Phone</th>\n",
              "    </tr>\n",
              "  </thead>\n",
              "  <tbody>\n",
              "    <tr>\n",
              "      <th>0</th>\n",
              "      <td>128</td>\n",
              "      <td>25</td>\n",
              "      <td>265.1</td>\n",
              "      <td>197.4</td>\n",
              "      <td>244.7</td>\n",
              "      <td>10.0</td>\n",
              "      <td>1</td>\n",
              "      <td>no</td>\n",
              "      <td>no</td>\n",
              "      <td>yes</td>\n",
              "      <td>110</td>\n",
              "      <td>45.07</td>\n",
              "      <td>99</td>\n",
              "      <td>16.78</td>\n",
              "      <td>91</td>\n",
              "      <td>11.01</td>\n",
              "      <td>3</td>\n",
              "      <td>2.70</td>\n",
              "      <td>KS</td>\n",
              "      <td>415</td>\n",
              "      <td>382-4657</td>\n",
              "    </tr>\n",
              "    <tr>\n",
              "      <th>1</th>\n",
              "      <td>107</td>\n",
              "      <td>26</td>\n",
              "      <td>161.6</td>\n",
              "      <td>195.5</td>\n",
              "      <td>254.4</td>\n",
              "      <td>13.7</td>\n",
              "      <td>1</td>\n",
              "      <td>no</td>\n",
              "      <td>no</td>\n",
              "      <td>yes</td>\n",
              "      <td>123</td>\n",
              "      <td>27.47</td>\n",
              "      <td>103</td>\n",
              "      <td>16.62</td>\n",
              "      <td>103</td>\n",
              "      <td>11.45</td>\n",
              "      <td>3</td>\n",
              "      <td>3.70</td>\n",
              "      <td>OH</td>\n",
              "      <td>415</td>\n",
              "      <td>371-7191</td>\n",
              "    </tr>\n",
              "    <tr>\n",
              "      <th>2</th>\n",
              "      <td>137</td>\n",
              "      <td>0</td>\n",
              "      <td>243.4</td>\n",
              "      <td>121.2</td>\n",
              "      <td>162.6</td>\n",
              "      <td>12.2</td>\n",
              "      <td>0</td>\n",
              "      <td>no</td>\n",
              "      <td>no</td>\n",
              "      <td>no</td>\n",
              "      <td>114</td>\n",
              "      <td>41.38</td>\n",
              "      <td>110</td>\n",
              "      <td>10.30</td>\n",
              "      <td>104</td>\n",
              "      <td>7.32</td>\n",
              "      <td>5</td>\n",
              "      <td>3.29</td>\n",
              "      <td>NJ</td>\n",
              "      <td>415</td>\n",
              "      <td>358-1921</td>\n",
              "    </tr>\n",
              "    <tr>\n",
              "      <th>3</th>\n",
              "      <td>84</td>\n",
              "      <td>0</td>\n",
              "      <td>299.4</td>\n",
              "      <td>61.9</td>\n",
              "      <td>196.9</td>\n",
              "      <td>6.6</td>\n",
              "      <td>2</td>\n",
              "      <td>no</td>\n",
              "      <td>yes</td>\n",
              "      <td>no</td>\n",
              "      <td>71</td>\n",
              "      <td>50.90</td>\n",
              "      <td>88</td>\n",
              "      <td>5.26</td>\n",
              "      <td>89</td>\n",
              "      <td>8.86</td>\n",
              "      <td>7</td>\n",
              "      <td>1.78</td>\n",
              "      <td>OH</td>\n",
              "      <td>408</td>\n",
              "      <td>375-9999</td>\n",
              "    </tr>\n",
              "    <tr>\n",
              "      <th>4</th>\n",
              "      <td>75</td>\n",
              "      <td>0</td>\n",
              "      <td>166.7</td>\n",
              "      <td>148.3</td>\n",
              "      <td>186.9</td>\n",
              "      <td>10.1</td>\n",
              "      <td>3</td>\n",
              "      <td>no</td>\n",
              "      <td>yes</td>\n",
              "      <td>no</td>\n",
              "      <td>113</td>\n",
              "      <td>28.34</td>\n",
              "      <td>122</td>\n",
              "      <td>12.61</td>\n",
              "      <td>121</td>\n",
              "      <td>8.41</td>\n",
              "      <td>3</td>\n",
              "      <td>2.73</td>\n",
              "      <td>OK</td>\n",
              "      <td>415</td>\n",
              "      <td>330-6626</td>\n",
              "    </tr>\n",
              "  </tbody>\n",
              "</table>\n",
              "</div>"
            ],
            "text/plain": [
              "   Account_Length  Vmail_Message  Day_Mins  ...  State  Area_Code     Phone\n",
              "0             128             25     265.1  ...     KS        415  382-4657\n",
              "1             107             26     161.6  ...     OH        415  371-7191\n",
              "2             137              0     243.4  ...     NJ        415  358-1921\n",
              "3              84              0     299.4  ...     OH        408  375-9999\n",
              "4              75              0     166.7  ...     OK        415  330-6626\n",
              "\n",
              "[5 rows x 21 columns]"
            ]
          },
          "metadata": {
            "tags": []
          },
          "execution_count": 5
        }
      ]
    },
    {
      "cell_type": "code",
      "metadata": {
        "id": "PTeqEc3yHkK6",
        "colab_type": "code",
        "colab": {
          "base_uri": "https://localhost:8080/",
          "height": 68
        },
        "outputId": "05ebbed9-7d79-47cc-b5ca-63d541cfb80d"
      },
      "source": [
        "#-- Consultar cuantos si y no hay en Churn\n",
        "\n",
        "data_phones['Churn'].value_counts()"
      ],
      "execution_count": 6,
      "outputs": [
        {
          "output_type": "execute_result",
          "data": {
            "text/plain": [
              "no     2850\n",
              "yes     483\n",
              "Name: Churn, dtype: int64"
            ]
          },
          "metadata": {
            "tags": []
          },
          "execution_count": 6
        }
      ]
    },
    {
      "cell_type": "markdown",
      "metadata": {
        "id": "fE_9Yt1lFH3d",
        "colab_type": "text"
      },
      "source": [
        "Recordemos que estamos interesados en el grupo de clientes que abandonan el servicio , en este caso seria la columna `Churn`.Como pudimos ver la mayoria de estos clientes no abandonaron.\n",
        "\n",
        "Nuestro objetivo es construir un modelo que use la información sobre cada cliente en el conjunto de datos para clasificar si un nuevo cliente abandonara o no el servicio.\n",
        "\n",
        "Este modelo, por lo tanto, tiene dos resultados o clases:\n",
        "\n",
        "* `Yes`- Si el cliente abandona 😥.\n",
        "\n",
        "* `No`- Si el cliente no abandona 😀.\n",
        "\n",
        "\n",
        "Incluso antes de llegar a la etapa de construcción del modelo, podemos usar el análisis exploratorio de datos -(EDA) para identificar las diferencias entre estos dos resultados y esto lo haremos con el objetivo de comprender mejor los impulsores de la perdida de clientes.\n",
        "\n",
        "Recordemos que pandas tiene un método para agrupar datos llamado `.groupby()` veamos que podemos hacer...🤨\n",
        "\n",
        "### Agrupando por Estado 🗺️.\n",
        "\n",
        "Cuando se trata de datos de clientes, las regiones geográficas pueden desempeñar un papel importante a la hora de determinar si un cliente cancelará su servicio o no. Es posible que haya notado que hay una columna 'Estado' en el conjunto de datos. En este ejemplo, agruparemos `'State'` y `'Churn'` para contar el número de abandonos y no abandonos por estado.\n",
        "\n",
        "\n"
      ]
    },
    {
      "cell_type": "code",
      "metadata": {
        "id": "yZtM2iMgDsRj",
        "colab_type": "code",
        "colab": {
          "base_uri": "https://localhost:8080/",
          "height": 238
        },
        "outputId": "ddeb8173-35f0-419d-d4a4-80cb2df9f6ea"
      },
      "source": [
        "#-- Contamos el numero de abandonos y no abandonos por estado.\n",
        "\n",
        "print(data_phones.groupby('State')['Churn'].value_counts())"
      ],
      "execution_count": 8,
      "outputs": [
        {
          "output_type": "stream",
          "text": [
            "State  Churn\n",
            "AK     no       49\n",
            "       yes       3\n",
            "AL     no       72\n",
            "       yes       8\n",
            "AR     no       44\n",
            "                ..\n",
            "WI     yes       7\n",
            "WV     no       96\n",
            "       yes      10\n",
            "WY     no       68\n",
            "       yes       9\n",
            "Name: Churn, Length: 102, dtype: int64\n"
          ],
          "name": "stdout"
        }
      ]
    },
    {
      "cell_type": "markdown",
      "metadata": {
        "id": "8Wdlxof1IfUu",
        "colab_type": "text"
      },
      "source": [
        "## Explorando nuestros datos.\n",
        "\n",
        "Una de las partes mas importantes del flujo de trabajo de EDA es la visualicación de datos ya que no sayuda a comprender mejor nuestros datos, nos permite comunicar de manera efectiva ideas tanto a partes técnicas como no técnicas.\n",
        "\n",
        "En Python, la biblioteca `seaborn` nos permite crear fácilmente tramas informativas y atractivas.\n",
        "\n",
        "Suopngamos que deseamos visualizar la distribución de las longitudes de cuenta de nuestros clientes, muchos algoritmos de Machine Learning hacen suposiciones sobre cómo se distribuyen los datos, por lo que es importante saber cómo se distribuyen las variables es nuetro conjunto de datos antes de aplicar algoritmos de ML.\n",
        "\n",
        "Un histograma es una forma efectiva de visualizar la ditribución de una variable y podemos crear uno usando `sns.distplot`.\n",
        "\n",
        "* Primero importamos matplotlib & Seaborn.\n",
        "\n",
        "* Despues usamos `sns.distplot()` pasando como argumento el parametro que queremos graficar. "
      ]
    },
    {
      "cell_type": "code",
      "metadata": {
        "id": "jFR5tFzXH25n",
        "colab_type": "code",
        "colab": {
          "base_uri": "https://localhost:8080/",
          "height": 280
        },
        "outputId": "24fde922-56e9-4790-dde4-188e776f5855"
      },
      "source": [
        "import matplotlib.pyplot as plt\n",
        "import seaborn as sns\n",
        "\n",
        "#-- histograma\n",
        "sns.distplot(data_phones['Account_Length'],color='green')\n",
        "\n",
        "#-- Mostramos el histograma\n",
        "plt.show()"
      ],
      "execution_count": 10,
      "outputs": [
        {
          "output_type": "display_data",
          "data": {
            "image/png": "[encoded data removed]",
            "text/plain": [
              "<Figure size 432x288 with 1 Axes>"
            ]
          },
          "metadata": {
            "tags": [],
            "needs_background": "light"
          }
        }
      ]
    },
    {
      "cell_type": "markdown",
      "metadata": {
        "id": "qDRlqatPK33G",
        "colab_type": "text"
      },
      "source": [
        "Podemos ver aquí que se asemeja a una curva de campana , también conocida como distribución normal.Resulta que muchas cosas que medimos en el mundo real están bien aproximadas por la distribución normal & muchos modelos  de ML en realidad suponen que nuestron datos estan distribuidos normalmente.\n",
        "\n",
        "### ¿Afecta el tamaño de la cuenta con el abandono de servicio?\n",
        "\n",
        "Ahora visualicemos las diferencias en la duración de la cuenta en relacion con los que abandonan y no, una forma de hacer esto es mediante un diagrama de cajas o boxplot, que podemos crear usando `sns.boxplot` especificando los parametros de `x`e `y`:"
      ]
    },
    {
      "cell_type": "code",
      "metadata": {
        "id": "pZt--cy0Kk04",
        "colab_type": "code",
        "colab": {
          "base_uri": "https://localhost:8080/",
          "height": 279
        },
        "outputId": "6449a1c0-47f8-4d8b-8b04-02b50674e833"
      },
      "source": [
        "#-- Boxplot.\n",
        "\n",
        "\n",
        "sns.boxplot(x='Churn',\n",
        "            y='Account_Length',\n",
        "            data = data_phones,\n",
        "            palette='Set3',\n",
        "            hue=\"Churn\")\n",
        "\n",
        "\n",
        "\n",
        "plt.show()"
      ],
      "execution_count": 19,
      "outputs": [
        {
          "output_type": "display_data",
          "data": {
            "image/png": "[encoded data removed]",
            "text/plain": [
              "<Figure size 432x288 with 1 Axes>"
            ]
          },
          "metadata": {
            "tags": [],
            "needs_background": "light"
          }
        }
      ]
    },
    {
      "cell_type": "markdown",
      "metadata": {
        "id": "qKXgbymBMlBl",
        "colab_type": "text"
      },
      "source": [
        "Como podemos ver, no parece haber ninguna diferencia notable en la duración de la cuenta, recordemos que la linea de enmedio del diagrama representa la media, los cuadros de colores representan el 50% del las longitudes de cuenta para cada grupo.\n",
        "\n",
        "Los valores que van aquí van del percentil 25 al percentil 75.\n",
        "\n",
        "Los puntos en la parte superior representan los datos atípicos que podemos elminar con el parametro `sym`."
      ]
    },
    {
      "cell_type": "code",
      "metadata": {
        "id": "X2k6FD3OLyF7",
        "colab_type": "code",
        "colab": {
          "base_uri": "https://localhost:8080/",
          "height": 279
        },
        "outputId": "5f68fffb-1b1a-4056-b2c3-09d53d428196"
      },
      "source": [
        "#-- Boxplot.\n",
        "\n",
        "\n",
        "sns.boxplot(x='Churn',\n",
        "            y='Account_Length',\n",
        "            data = data_phones,\n",
        "            palette='Set3',\n",
        "            sym=\"\",\n",
        "            hue=\"Churn\")\n",
        "\n",
        "plt.show()"
      ],
      "execution_count": 20,
      "outputs": [
        {
          "output_type": "display_data",
          "data": {
            "image/png": "[encoded data removed]",
            "text/plain": [
              "<Figure size 432x288 with 1 Axes>"
            ]
          },
          "metadata": {
            "tags": [],
            "needs_background": "light"
          }
        }
      ]
    },
    {
      "cell_type": "markdown",
      "metadata": {
        "id": "QB9nGfNaNxCU",
        "colab_type": "text"
      },
      "source": [
        "Seaborn nos permite agregar fácilmente una tercera variable a nuestra trama, por ejemplo estamos interesados en visualizar si `Int1_Plan` afecta las decisiones de nuestros cliente, esta columna describe los clientes que tienen una cuenta para llamadas internacionales."
      ]
    },
    {
      "cell_type": "code",
      "metadata": {
        "id": "FWvZpyxRNSD9",
        "colab_type": "code",
        "colab": {
          "base_uri": "https://localhost:8080/",
          "height": 279
        },
        "outputId": "13675f3c-1ed3-48fb-a02c-1399e31e67c0"
      },
      "source": [
        "#-- Boxplot.\n",
        "\n",
        "\n",
        "sns.boxplot(x='Churn',\n",
        "            y='Account_Length',\n",
        "            data = data_phones,\n",
        "            palette='GnBu_d',\n",
        "            sym=\"\",\n",
        "            hue=\"Intl_Plan\")\n",
        "\n",
        "plt.show()"
      ],
      "execution_count": 22,
      "outputs": [
        {
          "output_type": "display_data",
          "data": {
            "image/png": "[encoded data removed]",
            "text/plain": [
              "<Figure size 432x288 with 1 Axes>"
            ]
          },
          "metadata": {
            "tags": [],
            "needs_background": "light"
          }
        }
      ]
    },
    {
      "cell_type": "markdown",
      "metadata": {
        "id": "GVgxkcQdO8O5",
        "colab_type": "text"
      },
      "source": [
        "Desde la trama , parece que en cuanto a prediccion de abandono de servicio no importa si un cliente tenia o no un plan internacional.\n",
        "\n",
        "# Explorando distribuciones de caracteristicas\n",
        "\n",
        "\n",
        "Recordemos que la característica 'Account_Length' se distribuyó normalmente. Visualicemos ahora las distribuciones de las siguientes características usando la gráfica de distribución de seaborn:\n",
        "\n",
        "* 'Day_Mins'\n",
        "* 'Eve_Mins'\n",
        "* 'Night_Mins'\n",
        "* 'Intl_Mins'\n",
        "\n"
      ]
    },
    {
      "cell_type": "code",
      "metadata": {
        "id": "pMGj3j-yOMuj",
        "colab_type": "code",
        "colab": {
          "base_uri": "https://localhost:8080/",
          "height": 280
        },
        "outputId": "c61aa1f6-a10f-4802-ecf6-601d68473d57"
      },
      "source": [
        "#-- Minutos diarios\n",
        "_ = sns.distplot(data_phones['Day_Mins'],color='#3498db')\n",
        "\n",
        "#-- plot\n",
        "plt.show()"
      ],
      "execution_count": 30,
      "outputs": [
        {
          "output_type": "display_data",
          "data": {
            "image/png": "[encoded data removed]",
            "text/plain": [
              "<Figure size 432x288 with 1 Axes>"
            ]
          },
          "metadata": {
            "tags": [],
            "needs_background": "light"
          }
        }
      ]
    },
    {
      "cell_type": "code",
      "metadata": {
        "id": "8om68vMOQQjn",
        "colab_type": "code",
        "colab": {
          "base_uri": "https://localhost:8080/",
          "height": 280
        },
        "outputId": "47e55bd2-0c21-42b6-f482-58a0669349e9"
      },
      "source": [
        "#-- Eve Mins\n",
        "_ = sns.distplot(data_phones['Eve_Mins'],color='#9b59b6')\n",
        "\n",
        "#-- plot\n",
        "plt.show()"
      ],
      "execution_count": 29,
      "outputs": [
        {
          "output_type": "display_data",
          "data": {
            "image/png": "[encoded data removed]",
            "text/plain": [
              "<Figure size 432x288 with 1 Axes>"
            ]
          },
          "metadata": {
            "tags": [],
            "needs_background": "light"
          }
        }
      ]
    },
    {
      "cell_type": "code",
      "metadata": {
        "id": "dYI7YzOUQ7IF",
        "colab_type": "code",
        "colab": {
          "base_uri": "https://localhost:8080/",
          "height": 280
        },
        "outputId": "3b5ebbe9-d673-4b24-f5fd-0fa11b16cdf7"
      },
      "source": [
        "\n",
        "#-- Night Mins\n",
        "_ = sns.distplot(data_phones['Night_Mins'],color='#9b59b6')\n",
        "\n",
        "#-- plot\n",
        "plt.show()"
      ],
      "execution_count": 34,
      "outputs": [
        {
          "output_type": "display_data",
          "data": {
            "image/png": "[encoded data removed]",
            "text/plain": [
              "<Figure size 432x288 with 1 Axes>"
            ]
          },
          "metadata": {
            "tags": [],
            "needs_background": "light"
          }
        }
      ]
    },
    {
      "cell_type": "code",
      "metadata": {
        "id": "kiqiLsDyRPIN",
        "colab_type": "code",
        "colab": {
          "base_uri": "https://localhost:8080/",
          "height": 280
        },
        "outputId": "40007074-99f1-4d3d-e790-a8f7791762bf"
      },
      "source": [
        "# international mins\n",
        "_ = sns.distplot(data_phones['Intl_Mins'],color='#2ecc71')\n",
        "\n",
        "# plot\n",
        "plt.show()"
      ],
      "execution_count": 33,
      "outputs": [
        {
          "output_type": "display_data",
          "data": {
            "image/png": "[encoded data removed]",
            "text/plain": [
              "<Figure size 432x288 with 1 Axes>"
            ]
          },
          "metadata": {
            "tags": [],
            "needs_background": "light"
          }
        }
      ]
    },
    {
      "cell_type": "markdown",
      "metadata": {
        "id": "icBGN3IUR71y",
        "colab_type": "text"
      },
      "source": [
        "Podemos ver que todas estas características parecen estar bien aproximadas por la distribución normal. Si este no fuera el caso, tendríamos que considerar aplicar una transformación de características de algún tipo.\n",
        "\n",
        "### ¿Relación entre la perdida de clientes y servicio de llamadas al cliente?\n",
        "\n",
        "Ya vimos que no hay mucha diferencia en la duración de las cuentas entre los que abandonan y los que no lo hace, pero...¿habra diferencia en la cantidad de llamadas de servicio al cliente que reciben nuestros clientes y su abandono?\n",
        "\n",
        "Visualicemos ahora esta diferencia usando un diagrama de caja e incorporemos otras características de interés: \n",
        "\n",
        "* ¿los clientes que tienen planes internacionales hacen más llamadas de servicio al cliente? \n",
        "\n",
        "* ¿O tienden a agitar más? \n",
        "\n",
        "* ¿Qué hay de los planes de correo de voz?\n",
        "\n"
      ]
    },
    {
      "cell_type": "code",
      "metadata": {
        "id": "9t2SfErPRXeY",
        "colab_type": "code",
        "colab": {
          "base_uri": "https://localhost:8080/",
          "height": 279
        },
        "outputId": "ffa84454-8c40-4c91-9fcc-cf5d55d669e1"
      },
      "source": [
        "# Iniciamos gráfico\n",
        "\n",
        "sns.boxplot(x= 'Churn',\n",
        "            y = 'CustServ_Calls',\n",
        "            data = data_phones,\n",
        "            palette='cubehelix',\n",
        "            sym='')\n",
        "\n",
        "plt.show()"
      ],
      "execution_count": 38,
      "outputs": [
        {
          "output_type": "display_data",
          "data": {
            "image/png": "[encoded data removed]",
            "text/plain": [
              "<Figure size 432x288 with 1 Axes>"
            ]
          },
          "metadata": {
            "tags": [],
            "needs_background": "light"
          }
        }
      ]
    },
    {
      "cell_type": "markdown",
      "metadata": {
        "id": "hRJiYtCFTx54",
        "colab_type": "text"
      },
      "source": [
        "Ahora agregemos una tercera variable a este gráfico, 'Vmail_Plan', para visualizar si tener un plan de correo de voz afecta o no la cantidad de llamadas de servicio al cliente o abandono."
      ]
    },
    {
      "cell_type": "code",
      "metadata": {
        "id": "O1tbeic_TJ21",
        "colab_type": "code",
        "colab": {
          "base_uri": "https://localhost:8080/",
          "height": 279
        },
        "outputId": "9c10d594-d5ff-45bc-8a39-d5fd57a7eb8d"
      },
      "source": [
        "# Iniciamos gráfico\n",
        "\n",
        "sns.boxplot(x= 'Churn',\n",
        "            y = 'CustServ_Calls',\n",
        "            data = data_phones,\n",
        "            palette='cubehelix',\n",
        "            sym='',\n",
        "            hue= 'Vmail_Plan')\n",
        "\n",
        "plt.show()"
      ],
      "execution_count": 40,
      "outputs": [
        {
          "output_type": "display_data",
          "data": {
            "image/png": "[encoded data removed]",
            "text/plain": [
              "<Figure size 432x288 with 1 Axes>"
            ]
          },
          "metadata": {
            "tags": [],
            "needs_background": "light"
          }
        }
      ]
    },
    {
      "cell_type": "code",
      "metadata": {
        "id": "DAPv910yT-EG",
        "colab_type": "code",
        "colab": {
          "base_uri": "https://localhost:8080/",
          "height": 279
        },
        "outputId": "87e68523-f23d-42cb-836f-3850045ea063"
      },
      "source": [
        "sns.boxplot(x = 'Churn',\n",
        "            y = 'CustServ_Calls',\n",
        "            data = data_phones,\n",
        "            sym = \"\",\n",
        "            hue = \"Intl_Plan\")\n",
        "\n",
        "#-- plot\n",
        "plt.show()"
      ],
      "execution_count": 41,
      "outputs": [
        {
          "output_type": "display_data",
          "data": {
            "image/png": "[encoded data removed]",
            "text/plain": [
              "<Figure size 432x288 with 1 Axes>"
            ]
          },
          "metadata": {
            "tags": [],
            "needs_background": "light"
          }
        }
      ]
    },
    {
      "cell_type": "markdown",
      "metadata": {
        "id": "vCTumWyEUjcN",
        "colab_type": "text"
      },
      "source": [
        "Aquí hay algunas ideas muy interesantes. Parece que los clientes que abandonan terminan dejando más llamadas de servicio al cliente, a menos que estos clientes también tengan un plan internacional, en cuyo caso dejan menos llamadas de servicio al cliente. Este tipo de información es realmente útil para comprender mejor los impulsores de la deserción. \n",
        "\n",
        "\n",
        "\n",
        "\n",
        "---\n",
        "\n"
      ]
    }
  ]
}