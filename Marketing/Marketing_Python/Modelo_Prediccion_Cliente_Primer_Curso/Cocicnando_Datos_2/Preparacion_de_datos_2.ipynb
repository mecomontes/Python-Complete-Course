{
  "nbformat": 4,
  "nbformat_minor": 0,
  "metadata": {
    "colab": {
      "name": "Preparacion_de_datos_2.ipynb",
      "provenance": [],
      "collapsed_sections": []
    },
    "kernelspec": {
      "name": "python3",
      "display_name": "Python 3"
    }
  },
  "cells": [
    {
      "cell_type": "markdown",
      "metadata": {
        "id": "Na936BtiV2J9",
        "colab_type": "text"
      },
      "source": [
        "# Cocinando nuestos datos 👨🏽‍🍳.\n",
        "\n",
        "Ahora que hemos hecho un análisis y tenemos una mejor comprensión de nuestro conjunto de datos. es hora de preprocesarlos en preparación para el modelo.\n",
        "\n",
        "Recordemos que muchos modelos de Machine Learning hacen ciertas suposiciones sobre cómo estan distribuidos nuestros datos.\n",
        "\n",
        "Si las características de nuestro conjunto de datos no complen con las suposiciones que hace el modelo de ML, los resultados no seran del todo confiables.Es por eso que la etapa de preprocesamiento de datos es tan crítica e importante.\n",
        "\n",
        "Muchos modelos de Machine Learning solo aceptan tipos de dato numericos, por lo que si alguna de nuestras características es categórica , primero debemos transformarlas a numerica.\n",
        "\n",
        "Podemos ver los tipos de datos en nuestro dataframe utilizando el atributo `dtype`\n"
      ]
    },
    {
      "cell_type": "code",
      "metadata": {
        "id": "buBkpEYwVzGb",
        "colab_type": "code",
        "colab": {
          "base_uri": "https://localhost:8080/",
          "height": 391
        },
        "outputId": "889e12d2-3812-430b-90fa-6cda5b61888c"
      },
      "source": [
        "import pandas as pd\n",
        "\n",
        "\n",
        "#-- Leer archivo\n",
        "data_phones = pd.read_csv('/content/Churn.csv')\n",
        "\n",
        "#-- tiops de datos\n",
        "data_phones.dtypes"
      ],
      "execution_count": 34,
      "outputs": [
        {
          "output_type": "execute_result",
          "data": {
            "text/plain": [
              "Account_Length      int64\n",
              "Vmail_Message       int64\n",
              "Day_Mins          float64\n",
              "Eve_Mins          float64\n",
              "Night_Mins        float64\n",
              "Intl_Mins         float64\n",
              "CustServ_Calls      int64\n",
              "Churn              object\n",
              "Intl_Plan          object\n",
              "Vmail_Plan         object\n",
              "Day_Calls           int64\n",
              "Day_Charge        float64\n",
              "Eve_Calls           int64\n",
              "Eve_Charge        float64\n",
              "Night_Calls         int64\n",
              "Night_Charge      float64\n",
              "Intl_Calls          int64\n",
              "Intl_Charge       float64\n",
              "State              object\n",
              "Area_Code           int64\n",
              "Phone              object\n",
              "dtype: object"
            ]
          },
          "metadata": {
            "tags": []
          },
          "execution_count": 34
        }
      ]
    },
    {
      "cell_type": "markdown",
      "metadata": {
        "id": "-cblSTyaXPkG",
        "colab_type": "text"
      },
      "source": [
        "Recordemos que `int64`y `float` son tipos de dato numétricos como `Int_Calls` e `Eve_Charge`, mientras que cualquier columna que incluya texto , como `State` se codifica como un objeto o una cadena de texto (String).\n",
        "\n",
        "Algunas caracteristicas que tienen el tipo de dato objeto como `Int1_Plan` , que tiene dos valores posibles `yes`& `no`.\n",
        "\n"
      ]
    },
    {
      "cell_type": "code",
      "metadata": {
        "id": "6WaoO_r-XCsi",
        "colab_type": "code",
        "colab": {
          "base_uri": "https://localhost:8080/",
          "height": 119
        },
        "outputId": "cebce3f3-352f-470d-8fe8-db10206c6fec"
      },
      "source": [
        "data_phones['Intl_Plan'].head()"
      ],
      "execution_count": null,
      "outputs": [
        {
          "output_type": "execute_result",
          "data": {
            "text/plain": [
              "0     no\n",
              "1     no\n",
              "2     no\n",
              "3    yes\n",
              "4    yes\n",
              "Name: Intl_Plan, dtype: object"
            ]
          },
          "metadata": {
            "tags": []
          },
          "execution_count": 15
        }
      ]
    },
    {
      "cell_type": "markdown",
      "metadata": {
        "id": "uPxS-x5oYa_8",
        "colab_type": "text"
      },
      "source": [
        "Pero , como podriamos pasar estas variables categoricas a numericas, bueno pues simple, podemos codificar 0-`no` & 1-`yes`y lo haremos utilizando `replace()`"
      ]
    },
    {
      "cell_type": "code",
      "metadata": {
        "id": "tUj30FcUYSBc",
        "colab_type": "code",
        "colab": {
          "base_uri": "https://localhost:8080/",
          "height": 119
        },
        "outputId": "32b10de4-7eb9-4cd7-fa4a-94f1aac42c9e"
      },
      "source": [
        "data_phones['Intl_Plan'] = data_phones['Intl_Plan'].replace({'no':0,'yes':1})\n",
        "\n",
        "data_phones['Intl_Plan'].head()"
      ],
      "execution_count": null,
      "outputs": [
        {
          "output_type": "execute_result",
          "data": {
            "text/plain": [
              "0    0\n",
              "1    0\n",
              "2    0\n",
              "3    1\n",
              "4    1\n",
              "Name: Intl_Plan, dtype: int64"
            ]
          },
          "metadata": {
            "tags": []
          },
          "execution_count": 28
        }
      ]
    },
    {
      "cell_type": "markdown",
      "metadata": {
        "id": "wICfPfLkekkx",
        "colab_type": "text"
      },
      "source": [
        "o también podemos usar `LabelEncoder()`."
      ]
    },
    {
      "cell_type": "code",
      "metadata": {
        "id": "Z8ZXrI18YyLj",
        "colab_type": "code",
        "colab": {
          "base_uri": "https://localhost:8080/",
          "height": 119
        },
        "outputId": "d67b5a80-a050-47b3-b17c-67650a64461c"
      },
      "source": [
        "from sklearn.preprocessing import LabelEncoder\n",
        "data_phones['Intl_Plan'] = LabelEncoder().fit_transform(data_phones['Intl_Plan'])\n",
        "data_phones['Intl_Plan'].head()"
      ],
      "execution_count": null,
      "outputs": [
        {
          "output_type": "execute_result",
          "data": {
            "text/plain": [
              "0    0\n",
              "1    0\n",
              "2    0\n",
              "3    1\n",
              "4    1\n",
              "Name: Intl_Plan, dtype: int64"
            ]
          },
          "metadata": {
            "tags": []
          },
          "execution_count": 5
        }
      ]
    },
    {
      "cell_type": "markdown",
      "metadata": {
        "id": "TbcLH9KOerR1",
        "colab_type": "text"
      },
      "source": [
        "Verificamos que los datos esten actualizados."
      ]
    },
    {
      "cell_type": "code",
      "metadata": {
        "id": "mTBTGxfiZOlr",
        "colab_type": "code",
        "colab": {
          "base_uri": "https://localhost:8080/",
          "height": 391
        },
        "outputId": "cbb17d54-ff86-489f-8faf-9ab4ee610438"
      },
      "source": [
        "data_phones.dtypes"
      ],
      "execution_count": null,
      "outputs": [
        {
          "output_type": "execute_result",
          "data": {
            "text/plain": [
              "Account_Length      int64\n",
              "Vmail_Message       int64\n",
              "Day_Mins          float64\n",
              "Eve_Mins          float64\n",
              "Night_Mins        float64\n",
              "Intl_Mins         float64\n",
              "CustServ_Calls      int64\n",
              "Churn              object\n",
              "Intl_Plan           int64\n",
              "Vmail_Plan         object\n",
              "Day_Calls           int64\n",
              "Day_Charge        float64\n",
              "Eve_Calls           int64\n",
              "Eve_Charge        float64\n",
              "Night_Calls         int64\n",
              "Night_Charge      float64\n",
              "Intl_Calls          int64\n",
              "Intl_Charge       float64\n",
              "State              object\n",
              "Area_Code           int64\n",
              "Phone              object\n",
              "dtype: object"
            ]
          },
          "metadata": {
            "tags": []
          },
          "execution_count": 31
        }
      ]
    },
    {
      "cell_type": "markdown",
      "metadata": {
        "id": "Rxtf-YnxftG2",
        "colab_type": "text"
      },
      "source": [
        "La columna `state`por otro lado es un poco más compleja de representar numericamente por que hay muchos estados."
      ]
    },
    {
      "cell_type": "code",
      "metadata": {
        "id": "g6SdXXpUZQvJ",
        "colab_type": "code",
        "colab": {
          "base_uri": "https://localhost:8080/",
          "height": 102
        },
        "outputId": "e47f6cda-8a09-423f-b2e0-bd5cd827dbe0"
      },
      "source": [
        "n= 4\n",
        "data_phones['State'].sample(n)"
      ],
      "execution_count": null,
      "outputs": [
        {
          "output_type": "execute_result",
          "data": {
            "text/plain": [
              "648     WI\n",
              "2943    KS\n",
              "1614    MT\n",
              "1933    PA\n",
              "Name: State, dtype: object"
            ]
          },
          "metadata": {
            "tags": []
          },
          "execution_count": 34
        }
      ]
    },
    {
      "cell_type": "markdown",
      "metadata": {
        "id": "9rcDNkbrgDuG",
        "colab_type": "text"
      },
      "source": [
        "Podríamos asignar un número a cada estado:\n",
        "\n",
        "* 0 para Kansas.\n",
        "* 1 para Ohio.\n",
        "* 2 para new Jersey\n",
        "* Etc.\n",
        "\n",
        "Pero hacer esto es peligroso , ya que implica alguna forma de ordenar los estados, esto tendria sentido para una columna que tuviese categorias como 'low','median','high' pero en nuestro caso no es asi , no tiene ningun sentido y haría que nuestro futuro modelo sea menos efectivo.\n",
        "\n",
        "\n",
        "Podemos codificarlos utilizando la codificación activa , esta crea nuevas caracteristicas binarias correspondientes a qué estado pertenece un cliente determinado, cada fila del DataFrame tendra un 1 en exactamente una columna de estado y cero en todas las demas columnas de `state`.\n",
        "\n",
        "Al hacerlo nuestro modelo puede usar la información acerca de a qué estado pertenece un cliente , sin hacerlo erroneamente.\n",
        "\n",
        "\n",
        "Otro paso importanto de preprocesamiento es el escalado de características, la mayoria de los modelos requieren que las caracteristicas estén en la misma escala, pero esto rara vez es cierto para los datos del mundo real.\n",
        "\n",
        "En nuestro DataFrame de telecomunicaciones,por ejemplo la columna `Intl_alls` varia de 0 a 20."
      ]
    },
    {
      "cell_type": "code",
      "metadata": {
        "id": "HpM0gBhHf5rZ",
        "colab_type": "code",
        "colab": {
          "base_uri": "https://localhost:8080/",
          "height": 170
        },
        "outputId": "47931024-2d87-4847-f1f1-4fae6b30bfd2"
      },
      "source": [
        "data_phones['Intl_Calls'].describe()"
      ],
      "execution_count": null,
      "outputs": [
        {
          "output_type": "execute_result",
          "data": {
            "text/plain": [
              "count    3333.000000\n",
              "mean        4.479448\n",
              "std         2.461214\n",
              "min         0.000000\n",
              "25%         3.000000\n",
              "50%         4.000000\n",
              "75%         6.000000\n",
              "max        20.000000\n",
              "Name: Intl_Calls, dtype: float64"
            ]
          },
          "metadata": {
            "tags": []
          },
          "execution_count": 6
        }
      ]
    },
    {
      "cell_type": "markdown",
      "metadata": {
        "id": "GBAvZ6DYL23r",
        "colab_type": "text"
      },
      "source": [
        "Mientras que la columna `Night_Mins` varia de 23 a 395."
      ]
    },
    {
      "cell_type": "code",
      "metadata": {
        "id": "jYVq9aXSLm8z",
        "colab_type": "code",
        "colab": {
          "base_uri": "https://localhost:8080/",
          "height": 170
        },
        "outputId": "12add143-edf9-4175-e6c1-745ddc74ab47"
      },
      "source": [
        "data_phones['Night_Mins'].describe()"
      ],
      "execution_count": null,
      "outputs": [
        {
          "output_type": "execute_result",
          "data": {
            "text/plain": [
              "count    3333.000000\n",
              "mean      200.872037\n",
              "std        50.573847\n",
              "min        23.200000\n",
              "25%       167.000000\n",
              "50%       201.200000\n",
              "75%       235.300000\n",
              "max       395.000000\n",
              "Name: Night_Mins, dtype: float64"
            ]
          },
          "metadata": {
            "tags": []
          },
          "execution_count": 7
        }
      ]
    },
    {
      "cell_type": "markdown",
      "metadata": {
        "id": "S1uHRIKQMHP4",
        "colab_type": "text"
      },
      "source": [
        "Por lo tanto , debemos reescalar nuestros datos y asegurarnos de que todas nuestras caracteristicas estén en la misma escala.\n",
        "\n",
        "Haremos esto usando un proceso conocio como estandarización, que centra la distribución alrededor de la media de los datos y calcula el número de desviacion estandar de la media de cada punto.\n",
        "\n",
        "\n",
        "Para hacerlo , podemos usar la función `StandardScaler`de Sklearn."
      ]
    },
    {
      "cell_type": "code",
      "metadata": {
        "id": "sWIl_8KiMCOL",
        "colab_type": "code",
        "colab": {}
      },
      "source": [
        "from sklearn.preprocessing import StandardScaler\n",
        "\n",
        "df = StandardScaler().fit_transform(df)"
      ],
      "execution_count": null,
      "outputs": []
    },
    {
      "cell_type": "markdown",
      "metadata": {
        "id": "zHuTTjKpM3e8",
        "colab_type": "text"
      },
      "source": [
        "### Identificación de características para convertir\n",
        "\n",
        "\n",
        "Es preferible tener características como `'Churn'` codificadas como 0 y 1 en lugar de no y sí, para que luego pueda introducirlas en algoritmos de aprendizaje automático que solo aceptan valores numéricos.\n",
        "\n",
        "Además de `'Churn'`, otras características que son de tipo objeto se pueden convertir en 0 y 1. En este ejemplo, exploraremos los diferentes tipos de datos de telecomunicaciones.\n",
        "\n"
      ]
    },
    {
      "cell_type": "code",
      "metadata": {
        "id": "313QIYNkNLul",
        "colab_type": "code",
        "colab": {
          "base_uri": "https://localhost:8080/",
          "height": 391
        },
        "outputId": "0e2eaa44-2dbc-4bcf-981a-dd61aa30e244"
      },
      "source": [
        "data_phones.dtypes"
      ],
      "execution_count": null,
      "outputs": [
        {
          "output_type": "execute_result",
          "data": {
            "text/plain": [
              "Account_Length      int64\n",
              "Vmail_Message       int64\n",
              "Day_Mins          float64\n",
              "Eve_Mins          float64\n",
              "Night_Mins        float64\n",
              "Intl_Mins         float64\n",
              "CustServ_Calls      int64\n",
              "Churn              object\n",
              "Intl_Plan           int64\n",
              "Vmail_Plan         object\n",
              "Day_Calls           int64\n",
              "Day_Charge        float64\n",
              "Eve_Calls           int64\n",
              "Eve_Charge        float64\n",
              "Night_Calls         int64\n",
              "Night_Charge      float64\n",
              "Intl_Calls          int64\n",
              "Intl_Charge       float64\n",
              "State              object\n",
              "Area_Code           int64\n",
              "Phone              object\n",
              "dtype: object"
            ]
          },
          "metadata": {
            "tags": []
          },
          "execution_count": 8
        }
      ]
    },
    {
      "cell_type": "markdown",
      "metadata": {
        "id": "f2GIeDVJNZfQ",
        "colab_type": "text"
      },
      "source": [
        "Churn, Vmail_Plan e Intl_Plan, en particular, son funciones binarias que se pueden convertir fácilmente en 0 y 1. Esto es lo que haremos a continuación.\n",
        "\n",
        "La refundición de tipos de datos es una parte importante del preprocesamiento de datos. En este ejemplo, asignaremos los valores 1 a 'yes' y 0 a 'no' a las funciones 'Vmail_Plan' y 'Churn', respectivamente.\n",
        "\n",
        "Vimos dos enfoques para hacer esto : uno usando pandas y el otro usando scikit-learn.\n",
        "\n",
        "Para tareas sencillas como esta, se recomienda hacerlo con pandas, así que eso es lo que haremos.\n",
        "\n",
        "Al hacer ciencia de datos, es importante tener en cuenta que siempre hay más de una forma de realizar una tarea y debe elegir la que sea más eficaz para su aplicación."
      ]
    },
    {
      "cell_type": "code",
      "metadata": {
        "id": "zHDFed1BNOaL",
        "colab_type": "code",
        "colab": {
          "base_uri": "https://localhost:8080/",
          "height": 119
        },
        "outputId": "9da4edb3-cc39-42e2-ef2f-2de8a5fee9c6"
      },
      "source": [
        "# Remplazamos `no`con 0 & 1 - `yes`en la columna `Vmail_Plan``\n",
        "\n",
        "data_phones['Vmail_Plan'] = data_phones['Vmail_Plan'].replace({'no': 0 , 'yes': 1})\n",
        "\n",
        "# Hacer lo mismo pero con 'Churn'\n",
        "\n",
        "data_phones['Churn'] = data_phones['Churn'].replace({'yes':1,'no':0})\n",
        "\n",
        "# Verificamos los resultados.\n",
        "\n",
        "\n",
        "data_phones['Vmail_Plan'].head()"
      ],
      "execution_count": null,
      "outputs": [
        {
          "output_type": "execute_result",
          "data": {
            "text/plain": [
              "0    1\n",
              "1    1\n",
              "2    0\n",
              "3    0\n",
              "4    0\n",
              "Name: Vmail_Plan, dtype: int64"
            ]
          },
          "metadata": {
            "tags": []
          },
          "execution_count": 16
        }
      ]
    },
    {
      "cell_type": "code",
      "metadata": {
        "id": "oPCPBwuEPGdA",
        "colab_type": "code",
        "colab": {
          "base_uri": "https://localhost:8080/",
          "height": 119
        },
        "outputId": "4c9a1336-5d3b-49cb-d733-6db86d95e9a2"
      },
      "source": [
        "# Verificamos los resultados.\n",
        "data_phones['Churn'].head()"
      ],
      "execution_count": null,
      "outputs": [
        {
          "output_type": "execute_result",
          "data": {
            "text/plain": [
              "0    0\n",
              "1    0\n",
              "2    0\n",
              "3    0\n",
              "4    0\n",
              "Name: Churn, dtype: int64"
            ]
          },
          "metadata": {
            "tags": []
          },
          "execution_count": 19
        }
      ]
    },
    {
      "cell_type": "markdown",
      "metadata": {
        "id": "p3SpaoU7Pxkg",
        "colab_type": "text"
      },
      "source": [
        "### One hot encoding.\n",
        "\n",
        "\n",
        "Anteriormente vimos cómo la columna `'State'` se puede codificar numéricamente usando la técnica de una codificación en caliente.\n",
        "\n",
        "Hacer esto manualmente sería bastante tedioso, ¡especialmente cuando tienes 50 estados y más de 3000 clientes! Afortunadamente, pandas tiene una función `get_dummies()` que aplica automáticamente una codificación en caliente sobre la función seleccionada."
      ]
    },
    {
      "cell_type": "code",
      "metadata": {
        "id": "AwAyVUASPkZR",
        "colab_type": "code",
        "colab": {
          "base_uri": "https://localhost:8080/",
          "height": 224
        },
        "outputId": "60e0a3b6-2391-441e-aaf8-90a2e153db89"
      },
      "source": [
        "data_state = pd.get_dummies(data_phones['State'])\n",
        "\n",
        "# Verificamos nuestros datos\n",
        "\n",
        "data_state.head()"
      ],
      "execution_count": null,
      "outputs": [
        {
          "output_type": "execute_result",
          "data": {
            "text/html": [
              "<div>\n",
              "<style scoped>\n",
              "    .dataframe tbody tr th:only-of-type {\n",
              "        vertical-align: middle;\n",
              "    }\n",
              "\n",
              "    .dataframe tbody tr th {\n",
              "        vertical-align: top;\n",
              "    }\n",
              "\n",
              "    .dataframe thead th {\n",
              "        text-align: right;\n",
              "    }\n",
              "</style>\n",
              "<table border=\"1\" class=\"dataframe\">\n",
              "  <thead>\n",
              "    <tr style=\"text-align: right;\">\n",
              "      <th></th>\n",
              "      <th>AK</th>\n",
              "      <th>AL</th>\n",
              "      <th>AR</th>\n",
              "      <th>AZ</th>\n",
              "      <th>CA</th>\n",
              "      <th>CO</th>\n",
              "      <th>CT</th>\n",
              "      <th>DC</th>\n",
              "      <th>DE</th>\n",
              "      <th>FL</th>\n",
              "      <th>GA</th>\n",
              "      <th>HI</th>\n",
              "      <th>IA</th>\n",
              "      <th>ID</th>\n",
              "      <th>IL</th>\n",
              "      <th>IN</th>\n",
              "      <th>KS</th>\n",
              "      <th>KY</th>\n",
              "      <th>LA</th>\n",
              "      <th>MA</th>\n",
              "      <th>MD</th>\n",
              "      <th>ME</th>\n",
              "      <th>MI</th>\n",
              "      <th>MN</th>\n",
              "      <th>MO</th>\n",
              "      <th>MS</th>\n",
              "      <th>MT</th>\n",
              "      <th>NC</th>\n",
              "      <th>ND</th>\n",
              "      <th>NE</th>\n",
              "      <th>NH</th>\n",
              "      <th>NJ</th>\n",
              "      <th>NM</th>\n",
              "      <th>NV</th>\n",
              "      <th>NY</th>\n",
              "      <th>OH</th>\n",
              "      <th>OK</th>\n",
              "      <th>OR</th>\n",
              "      <th>PA</th>\n",
              "      <th>RI</th>\n",
              "      <th>SC</th>\n",
              "      <th>SD</th>\n",
              "      <th>TN</th>\n",
              "      <th>TX</th>\n",
              "      <th>UT</th>\n",
              "      <th>VA</th>\n",
              "      <th>VT</th>\n",
              "      <th>WA</th>\n",
              "      <th>WI</th>\n",
              "      <th>WV</th>\n",
              "      <th>WY</th>\n",
              "    </tr>\n",
              "  </thead>\n",
              "  <tbody>\n",
              "    <tr>\n",
              "      <th>0</th>\n",
              "      <td>0</td>\n",
              "      <td>0</td>\n",
              "      <td>0</td>\n",
              "      <td>0</td>\n",
              "      <td>0</td>\n",
              "      <td>0</td>\n",
              "      <td>0</td>\n",
              "      <td>0</td>\n",
              "      <td>0</td>\n",
              "      <td>0</td>\n",
              "      <td>0</td>\n",
              "      <td>0</td>\n",
              "      <td>0</td>\n",
              "      <td>0</td>\n",
              "      <td>0</td>\n",
              "      <td>0</td>\n",
              "      <td>1</td>\n",
              "      <td>0</td>\n",
              "      <td>0</td>\n",
              "      <td>0</td>\n",
              "      <td>0</td>\n",
              "      <td>0</td>\n",
              "      <td>0</td>\n",
              "      <td>0</td>\n",
              "      <td>0</td>\n",
              "      <td>0</td>\n",
              "      <td>0</td>\n",
              "      <td>0</td>\n",
              "      <td>0</td>\n",
              "      <td>0</td>\n",
              "      <td>0</td>\n",
              "      <td>0</td>\n",
              "      <td>0</td>\n",
              "      <td>0</td>\n",
              "      <td>0</td>\n",
              "      <td>0</td>\n",
              "      <td>0</td>\n",
              "      <td>0</td>\n",
              "      <td>0</td>\n",
              "      <td>0</td>\n",
              "      <td>0</td>\n",
              "      <td>0</td>\n",
              "      <td>0</td>\n",
              "      <td>0</td>\n",
              "      <td>0</td>\n",
              "      <td>0</td>\n",
              "      <td>0</td>\n",
              "      <td>0</td>\n",
              "      <td>0</td>\n",
              "      <td>0</td>\n",
              "      <td>0</td>\n",
              "    </tr>\n",
              "    <tr>\n",
              "      <th>1</th>\n",
              "      <td>0</td>\n",
              "      <td>0</td>\n",
              "      <td>0</td>\n",
              "      <td>0</td>\n",
              "      <td>0</td>\n",
              "      <td>0</td>\n",
              "      <td>0</td>\n",
              "      <td>0</td>\n",
              "      <td>0</td>\n",
              "      <td>0</td>\n",
              "      <td>0</td>\n",
              "      <td>0</td>\n",
              "      <td>0</td>\n",
              "      <td>0</td>\n",
              "      <td>0</td>\n",
              "      <td>0</td>\n",
              "      <td>0</td>\n",
              "      <td>0</td>\n",
              "      <td>0</td>\n",
              "      <td>0</td>\n",
              "      <td>0</td>\n",
              "      <td>0</td>\n",
              "      <td>0</td>\n",
              "      <td>0</td>\n",
              "      <td>0</td>\n",
              "      <td>0</td>\n",
              "      <td>0</td>\n",
              "      <td>0</td>\n",
              "      <td>0</td>\n",
              "      <td>0</td>\n",
              "      <td>0</td>\n",
              "      <td>0</td>\n",
              "      <td>0</td>\n",
              "      <td>0</td>\n",
              "      <td>0</td>\n",
              "      <td>1</td>\n",
              "      <td>0</td>\n",
              "      <td>0</td>\n",
              "      <td>0</td>\n",
              "      <td>0</td>\n",
              "      <td>0</td>\n",
              "      <td>0</td>\n",
              "      <td>0</td>\n",
              "      <td>0</td>\n",
              "      <td>0</td>\n",
              "      <td>0</td>\n",
              "      <td>0</td>\n",
              "      <td>0</td>\n",
              "      <td>0</td>\n",
              "      <td>0</td>\n",
              "      <td>0</td>\n",
              "    </tr>\n",
              "    <tr>\n",
              "      <th>2</th>\n",
              "      <td>0</td>\n",
              "      <td>0</td>\n",
              "      <td>0</td>\n",
              "      <td>0</td>\n",
              "      <td>0</td>\n",
              "      <td>0</td>\n",
              "      <td>0</td>\n",
              "      <td>0</td>\n",
              "      <td>0</td>\n",
              "      <td>0</td>\n",
              "      <td>0</td>\n",
              "      <td>0</td>\n",
              "      <td>0</td>\n",
              "      <td>0</td>\n",
              "      <td>0</td>\n",
              "      <td>0</td>\n",
              "      <td>0</td>\n",
              "      <td>0</td>\n",
              "      <td>0</td>\n",
              "      <td>0</td>\n",
              "      <td>0</td>\n",
              "      <td>0</td>\n",
              "      <td>0</td>\n",
              "      <td>0</td>\n",
              "      <td>0</td>\n",
              "      <td>0</td>\n",
              "      <td>0</td>\n",
              "      <td>0</td>\n",
              "      <td>0</td>\n",
              "      <td>0</td>\n",
              "      <td>0</td>\n",
              "      <td>1</td>\n",
              "      <td>0</td>\n",
              "      <td>0</td>\n",
              "      <td>0</td>\n",
              "      <td>0</td>\n",
              "      <td>0</td>\n",
              "      <td>0</td>\n",
              "      <td>0</td>\n",
              "      <td>0</td>\n",
              "      <td>0</td>\n",
              "      <td>0</td>\n",
              "      <td>0</td>\n",
              "      <td>0</td>\n",
              "      <td>0</td>\n",
              "      <td>0</td>\n",
              "      <td>0</td>\n",
              "      <td>0</td>\n",
              "      <td>0</td>\n",
              "      <td>0</td>\n",
              "      <td>0</td>\n",
              "    </tr>\n",
              "    <tr>\n",
              "      <th>3</th>\n",
              "      <td>0</td>\n",
              "      <td>0</td>\n",
              "      <td>0</td>\n",
              "      <td>0</td>\n",
              "      <td>0</td>\n",
              "      <td>0</td>\n",
              "      <td>0</td>\n",
              "      <td>0</td>\n",
              "      <td>0</td>\n",
              "      <td>0</td>\n",
              "      <td>0</td>\n",
              "      <td>0</td>\n",
              "      <td>0</td>\n",
              "      <td>0</td>\n",
              "      <td>0</td>\n",
              "      <td>0</td>\n",
              "      <td>0</td>\n",
              "      <td>0</td>\n",
              "      <td>0</td>\n",
              "      <td>0</td>\n",
              "      <td>0</td>\n",
              "      <td>0</td>\n",
              "      <td>0</td>\n",
              "      <td>0</td>\n",
              "      <td>0</td>\n",
              "      <td>0</td>\n",
              "      <td>0</td>\n",
              "      <td>0</td>\n",
              "      <td>0</td>\n",
              "      <td>0</td>\n",
              "      <td>0</td>\n",
              "      <td>0</td>\n",
              "      <td>0</td>\n",
              "      <td>0</td>\n",
              "      <td>0</td>\n",
              "      <td>1</td>\n",
              "      <td>0</td>\n",
              "      <td>0</td>\n",
              "      <td>0</td>\n",
              "      <td>0</td>\n",
              "      <td>0</td>\n",
              "      <td>0</td>\n",
              "      <td>0</td>\n",
              "      <td>0</td>\n",
              "      <td>0</td>\n",
              "      <td>0</td>\n",
              "      <td>0</td>\n",
              "      <td>0</td>\n",
              "      <td>0</td>\n",
              "      <td>0</td>\n",
              "      <td>0</td>\n",
              "    </tr>\n",
              "    <tr>\n",
              "      <th>4</th>\n",
              "      <td>0</td>\n",
              "      <td>0</td>\n",
              "      <td>0</td>\n",
              "      <td>0</td>\n",
              "      <td>0</td>\n",
              "      <td>0</td>\n",
              "      <td>0</td>\n",
              "      <td>0</td>\n",
              "      <td>0</td>\n",
              "      <td>0</td>\n",
              "      <td>0</td>\n",
              "      <td>0</td>\n",
              "      <td>0</td>\n",
              "      <td>0</td>\n",
              "      <td>0</td>\n",
              "      <td>0</td>\n",
              "      <td>0</td>\n",
              "      <td>0</td>\n",
              "      <td>0</td>\n",
              "      <td>0</td>\n",
              "      <td>0</td>\n",
              "      <td>0</td>\n",
              "      <td>0</td>\n",
              "      <td>0</td>\n",
              "      <td>0</td>\n",
              "      <td>0</td>\n",
              "      <td>0</td>\n",
              "      <td>0</td>\n",
              "      <td>0</td>\n",
              "      <td>0</td>\n",
              "      <td>0</td>\n",
              "      <td>0</td>\n",
              "      <td>0</td>\n",
              "      <td>0</td>\n",
              "      <td>0</td>\n",
              "      <td>0</td>\n",
              "      <td>1</td>\n",
              "      <td>0</td>\n",
              "      <td>0</td>\n",
              "      <td>0</td>\n",
              "      <td>0</td>\n",
              "      <td>0</td>\n",
              "      <td>0</td>\n",
              "      <td>0</td>\n",
              "      <td>0</td>\n",
              "      <td>0</td>\n",
              "      <td>0</td>\n",
              "      <td>0</td>\n",
              "      <td>0</td>\n",
              "      <td>0</td>\n",
              "      <td>0</td>\n",
              "    </tr>\n",
              "  </tbody>\n",
              "</table>\n",
              "</div>"
            ],
            "text/plain": [
              "   AK  AL  AR  AZ  CA  CO  CT  DC  DE  ...  TN  TX  UT  VA  VT  WA  WI  WV  WY\n",
              "0   0   0   0   0   0   0   0   0   0  ...   0   0   0   0   0   0   0   0   0\n",
              "1   0   0   0   0   0   0   0   0   0  ...   0   0   0   0   0   0   0   0   0\n",
              "2   0   0   0   0   0   0   0   0   0  ...   0   0   0   0   0   0   0   0   0\n",
              "3   0   0   0   0   0   0   0   0   0  ...   0   0   0   0   0   0   0   0   0\n",
              "4   0   0   0   0   0   0   0   0   0  ...   0   0   0   0   0   0   0   0   0\n",
              "\n",
              "[5 rows x 51 columns]"
            ]
          },
          "metadata": {
            "tags": []
          },
          "execution_count": 22
        }
      ]
    },
    {
      "cell_type": "markdown",
      "metadata": {
        "id": "V28kNplVQnjS",
        "colab_type": "text"
      },
      "source": [
        "Tengamos en cuenta que esto crea un DataFrame completamente nuevo. Una vez que vuelva a fusionar esto con el DataFrame de telecomunicaciones original, puedes comenzar a usar estas características de estado en sus modelos. Sin embargo, ten en cuenta que ahora tenemos muchas más funciones en nuestro conjunto de datos, por lo que deberíamos considerar eliminar las que sean innecesarias.\n",
        "\n",
        "## Escala de Caracateristicas.\n",
        "\n",
        "Recordemos las diferentes escalas de las columnas `'Intl_Calls'` y `'Night_Mins'`.\n",
        "\n",
        "Nuestro trabajo en este ejemplo es volver a escalarlos utilizando [StandardScaler](https://scikit-learn.org/stable/modules/generated/sklearn.preprocessing.StandardScaler.html)\n",
        "\n",
        "\n",
        "En su espacio de trabajo, el DataFrame de telecomunicaciones se ha subconjunto para incluir solo las funciones que desea cambiar de escala: \n",
        "\n",
        "* 'Intl_Calls' \n",
        "\n",
        "*  'Night_Mins'\n",
        "\n",
        "Para aplicar StandardScaler, primero debemos crear una instancia usando StandardScaler () y luego aplicar el método fit_transform (), pasando el DataFrame que desea cambiar de escala. "
      ]
    },
    {
      "cell_type": "code",
      "metadata": {
        "id": "ymfkXOEuSr54",
        "colab_type": "code",
        "colab": {}
      },
      "source": [
        "# Se paramos columnas a escalar\n",
        "telco_scaled = data_phones.loc[:,['Intl_Calls','Night_Mins']]"
      ],
      "execution_count": null,
      "outputs": []
    },
    {
      "cell_type": "code",
      "metadata": {
        "id": "Sb7eTNoVQPK_",
        "colab_type": "code",
        "colab": {
          "base_uri": "https://localhost:8080/",
          "height": 170
        },
        "outputId": "c83e6641-e857-47f7-ec46-4e0241daf8c0"
      },
      "source": [
        "# Import StandardScaler\n",
        "from sklearn.preprocessing import StandardScaler\n",
        "# Scale telco\n",
        "telco_scaled = StandardScaler().fit_transform(telco_scaled)\n",
        "\n",
        "# Add column names back for readability\n",
        "telco_scaled_df = pd.DataFrame(telco_scaled, columns=[\"Intl_Calls\", \"Night_Mins\"])\n",
        "\n",
        "# Print summary statistics\n",
        "print(telco_scaled_df.describe())"
      ],
      "execution_count": null,
      "outputs": [
        {
          "output_type": "stream",
          "text": [
            "         Intl_Calls    Night_Mins\n",
            "count  3.333000e+03  3.333000e+03\n",
            "mean  -1.264615e-16  6.602046e-17\n",
            "std    1.000150e+00  1.000150e+00\n",
            "min   -1.820289e+00 -3.513648e+00\n",
            "25%   -6.011951e-01 -6.698545e-01\n",
            "50%   -1.948306e-01  6.485803e-03\n",
            "75%    6.178983e-01  6.808485e-01\n",
            "max    6.307001e+00  3.839081e+00\n"
          ],
          "name": "stdout"
        }
      ]
    },
    {
      "cell_type": "markdown",
      "metadata": {
        "id": "39E44pT-TfCV",
        "colab_type": "text"
      },
      "source": [
        "Ambas columnas están ahora en la misma escala. En la práctica, deberemos asegurarnos de que este sea el caso para todas las funciones de interés. A continuación: selección de funciones e ingeniería de funciones. "
      ]
    },
    {
      "cell_type": "markdown",
      "metadata": {
        "id": "GBq20vq0qGsX",
        "colab_type": "text"
      },
      "source": [
        "## Selección e Ingenieria de Funciones.\n",
        "\n",
        "Los conjuntos de datos a menudo tienen caracteristicas que no proporcionan poder predictivo y debeen descartarse antes del modelado de datos.Un ejemplo de caracteristicas que se pueden descartar son identificadores unicos como números de teléfono, números de seguro social y números de cuenta.\n",
        "\n",
        "Pandas tiene un método para eliminarlos que se puede usar para eliminar columnas."
      ]
    },
    {
      "cell_type": "code",
      "metadata": {
        "id": "bC6xP375Sjs1",
        "colab_type": "code",
        "colab": {}
      },
      "source": [
        "data_phones.drop(['Soc_Sec','Tax_ID'], axis = 1)"
      ],
      "execution_count": null,
      "outputs": []
    },
    {
      "cell_type": "markdown",
      "metadata": {
        "id": "pf_6V5GbrRq5",
        "colab_type": "text"
      },
      "source": [
        "Las caracteristicas que estan relacionadas con otra también se pueden descartar, ya que no proporcionan información adicional al modelo.\n",
        "\n",
        "El método `corr` nos permite explorar la correlación entre las caracteristicasde nuestroconjunto de datos."
      ]
    },
    {
      "cell_type": "code",
      "metadata": {
        "id": "8l3BeU5XrRbC",
        "colab_type": "code",
        "colab": {
          "base_uri": "https://localhost:8080/",
          "height": 565
        },
        "outputId": "3fb816f9-2441-40ed-9d04-a21981c57a1e"
      },
      "source": [
        "data_phones.corr()"
      ],
      "execution_count": 35,
      "outputs": [
        {
          "output_type": "execute_result",
          "data": {
            "text/html": [
              "<div>\n",
              "<style scoped>\n",
              "    .dataframe tbody tr th:only-of-type {\n",
              "        vertical-align: middle;\n",
              "    }\n",
              "\n",
              "    .dataframe tbody tr th {\n",
              "        vertical-align: top;\n",
              "    }\n",
              "\n",
              "    .dataframe thead th {\n",
              "        text-align: right;\n",
              "    }\n",
              "</style>\n",
              "<table border=\"1\" class=\"dataframe\">\n",
              "  <thead>\n",
              "    <tr style=\"text-align: right;\">\n",
              "      <th></th>\n",
              "      <th>Account_Length</th>\n",
              "      <th>Vmail_Message</th>\n",
              "      <th>Day_Mins</th>\n",
              "      <th>Eve_Mins</th>\n",
              "      <th>Night_Mins</th>\n",
              "      <th>Intl_Mins</th>\n",
              "      <th>CustServ_Calls</th>\n",
              "      <th>Day_Calls</th>\n",
              "      <th>Day_Charge</th>\n",
              "      <th>Eve_Calls</th>\n",
              "      <th>Eve_Charge</th>\n",
              "      <th>Night_Calls</th>\n",
              "      <th>Night_Charge</th>\n",
              "      <th>Intl_Calls</th>\n",
              "      <th>Intl_Charge</th>\n",
              "      <th>Area_Code</th>\n",
              "    </tr>\n",
              "  </thead>\n",
              "  <tbody>\n",
              "    <tr>\n",
              "      <th>Account_Length</th>\n",
              "      <td>1.000000</td>\n",
              "      <td>-0.004628</td>\n",
              "      <td>0.006216</td>\n",
              "      <td>-0.006757</td>\n",
              "      <td>-0.008955</td>\n",
              "      <td>0.009514</td>\n",
              "      <td>-0.003796</td>\n",
              "      <td>0.038470</td>\n",
              "      <td>0.006214</td>\n",
              "      <td>0.019260</td>\n",
              "      <td>-0.006745</td>\n",
              "      <td>-0.013176</td>\n",
              "      <td>-0.008960</td>\n",
              "      <td>0.020661</td>\n",
              "      <td>0.009546</td>\n",
              "      <td>-0.012463</td>\n",
              "    </tr>\n",
              "    <tr>\n",
              "      <th>Vmail_Message</th>\n",
              "      <td>-0.004628</td>\n",
              "      <td>1.000000</td>\n",
              "      <td>0.000778</td>\n",
              "      <td>0.017562</td>\n",
              "      <td>0.007681</td>\n",
              "      <td>0.002856</td>\n",
              "      <td>-0.013263</td>\n",
              "      <td>-0.009548</td>\n",
              "      <td>0.000776</td>\n",
              "      <td>-0.005864</td>\n",
              "      <td>0.017578</td>\n",
              "      <td>0.007123</td>\n",
              "      <td>0.007663</td>\n",
              "      <td>0.013957</td>\n",
              "      <td>0.002884</td>\n",
              "      <td>-0.001994</td>\n",
              "    </tr>\n",
              "    <tr>\n",
              "      <th>Day_Mins</th>\n",
              "      <td>0.006216</td>\n",
              "      <td>0.000778</td>\n",
              "      <td>1.000000</td>\n",
              "      <td>0.007043</td>\n",
              "      <td>0.004323</td>\n",
              "      <td>-0.010155</td>\n",
              "      <td>-0.013423</td>\n",
              "      <td>0.006750</td>\n",
              "      <td>1.000000</td>\n",
              "      <td>0.015769</td>\n",
              "      <td>0.007029</td>\n",
              "      <td>0.022972</td>\n",
              "      <td>0.004300</td>\n",
              "      <td>0.008033</td>\n",
              "      <td>-0.010092</td>\n",
              "      <td>-0.008264</td>\n",
              "    </tr>\n",
              "    <tr>\n",
              "      <th>Eve_Mins</th>\n",
              "      <td>-0.006757</td>\n",
              "      <td>0.017562</td>\n",
              "      <td>0.007043</td>\n",
              "      <td>1.000000</td>\n",
              "      <td>-0.012584</td>\n",
              "      <td>-0.011035</td>\n",
              "      <td>-0.012985</td>\n",
              "      <td>-0.021451</td>\n",
              "      <td>0.007050</td>\n",
              "      <td>-0.011430</td>\n",
              "      <td>1.000000</td>\n",
              "      <td>0.007586</td>\n",
              "      <td>-0.012593</td>\n",
              "      <td>0.002541</td>\n",
              "      <td>-0.011067</td>\n",
              "      <td>0.003580</td>\n",
              "    </tr>\n",
              "    <tr>\n",
              "      <th>Night_Mins</th>\n",
              "      <td>-0.008955</td>\n",
              "      <td>0.007681</td>\n",
              "      <td>0.004323</td>\n",
              "      <td>-0.012584</td>\n",
              "      <td>1.000000</td>\n",
              "      <td>-0.015207</td>\n",
              "      <td>-0.009288</td>\n",
              "      <td>0.022938</td>\n",
              "      <td>0.004324</td>\n",
              "      <td>-0.002093</td>\n",
              "      <td>-0.012592</td>\n",
              "      <td>0.011204</td>\n",
              "      <td>0.999999</td>\n",
              "      <td>-0.012353</td>\n",
              "      <td>-0.015180</td>\n",
              "      <td>-0.005825</td>\n",
              "    </tr>\n",
              "    <tr>\n",
              "      <th>Intl_Mins</th>\n",
              "      <td>0.009514</td>\n",
              "      <td>0.002856</td>\n",
              "      <td>-0.010155</td>\n",
              "      <td>-0.011035</td>\n",
              "      <td>-0.015207</td>\n",
              "      <td>1.000000</td>\n",
              "      <td>-0.009640</td>\n",
              "      <td>0.021565</td>\n",
              "      <td>-0.010157</td>\n",
              "      <td>0.008703</td>\n",
              "      <td>-0.011043</td>\n",
              "      <td>-0.013605</td>\n",
              "      <td>-0.015214</td>\n",
              "      <td>0.032304</td>\n",
              "      <td>0.999993</td>\n",
              "      <td>-0.018288</td>\n",
              "    </tr>\n",
              "    <tr>\n",
              "      <th>CustServ_Calls</th>\n",
              "      <td>-0.003796</td>\n",
              "      <td>-0.013263</td>\n",
              "      <td>-0.013423</td>\n",
              "      <td>-0.012985</td>\n",
              "      <td>-0.009288</td>\n",
              "      <td>-0.009640</td>\n",
              "      <td>1.000000</td>\n",
              "      <td>-0.018942</td>\n",
              "      <td>-0.013427</td>\n",
              "      <td>0.002423</td>\n",
              "      <td>-0.012987</td>\n",
              "      <td>-0.012802</td>\n",
              "      <td>-0.009277</td>\n",
              "      <td>-0.017561</td>\n",
              "      <td>-0.009675</td>\n",
              "      <td>0.027572</td>\n",
              "    </tr>\n",
              "    <tr>\n",
              "      <th>Day_Calls</th>\n",
              "      <td>0.038470</td>\n",
              "      <td>-0.009548</td>\n",
              "      <td>0.006750</td>\n",
              "      <td>-0.021451</td>\n",
              "      <td>0.022938</td>\n",
              "      <td>0.021565</td>\n",
              "      <td>-0.018942</td>\n",
              "      <td>1.000000</td>\n",
              "      <td>0.006753</td>\n",
              "      <td>0.006462</td>\n",
              "      <td>-0.021449</td>\n",
              "      <td>-0.019557</td>\n",
              "      <td>0.022927</td>\n",
              "      <td>0.004574</td>\n",
              "      <td>0.021666</td>\n",
              "      <td>-0.009646</td>\n",
              "    </tr>\n",
              "    <tr>\n",
              "      <th>Day_Charge</th>\n",
              "      <td>0.006214</td>\n",
              "      <td>0.000776</td>\n",
              "      <td>1.000000</td>\n",
              "      <td>0.007050</td>\n",
              "      <td>0.004324</td>\n",
              "      <td>-0.010157</td>\n",
              "      <td>-0.013427</td>\n",
              "      <td>0.006753</td>\n",
              "      <td>1.000000</td>\n",
              "      <td>0.015769</td>\n",
              "      <td>0.007036</td>\n",
              "      <td>0.022972</td>\n",
              "      <td>0.004301</td>\n",
              "      <td>0.008032</td>\n",
              "      <td>-0.010094</td>\n",
              "      <td>-0.008264</td>\n",
              "    </tr>\n",
              "    <tr>\n",
              "      <th>Eve_Calls</th>\n",
              "      <td>0.019260</td>\n",
              "      <td>-0.005864</td>\n",
              "      <td>0.015769</td>\n",
              "      <td>-0.011430</td>\n",
              "      <td>-0.002093</td>\n",
              "      <td>0.008703</td>\n",
              "      <td>0.002423</td>\n",
              "      <td>0.006462</td>\n",
              "      <td>0.015769</td>\n",
              "      <td>1.000000</td>\n",
              "      <td>-0.011423</td>\n",
              "      <td>0.007710</td>\n",
              "      <td>-0.002056</td>\n",
              "      <td>0.017434</td>\n",
              "      <td>0.008674</td>\n",
              "      <td>-0.011886</td>\n",
              "    </tr>\n",
              "    <tr>\n",
              "      <th>Eve_Charge</th>\n",
              "      <td>-0.006745</td>\n",
              "      <td>0.017578</td>\n",
              "      <td>0.007029</td>\n",
              "      <td>1.000000</td>\n",
              "      <td>-0.012592</td>\n",
              "      <td>-0.011043</td>\n",
              "      <td>-0.012987</td>\n",
              "      <td>-0.021449</td>\n",
              "      <td>0.007036</td>\n",
              "      <td>-0.011423</td>\n",
              "      <td>1.000000</td>\n",
              "      <td>0.007596</td>\n",
              "      <td>-0.012601</td>\n",
              "      <td>0.002541</td>\n",
              "      <td>-0.011074</td>\n",
              "      <td>0.003607</td>\n",
              "    </tr>\n",
              "    <tr>\n",
              "      <th>Night_Calls</th>\n",
              "      <td>-0.013176</td>\n",
              "      <td>0.007123</td>\n",
              "      <td>0.022972</td>\n",
              "      <td>0.007586</td>\n",
              "      <td>0.011204</td>\n",
              "      <td>-0.013605</td>\n",
              "      <td>-0.012802</td>\n",
              "      <td>-0.019557</td>\n",
              "      <td>0.022972</td>\n",
              "      <td>0.007710</td>\n",
              "      <td>0.007596</td>\n",
              "      <td>1.000000</td>\n",
              "      <td>0.011188</td>\n",
              "      <td>0.000305</td>\n",
              "      <td>-0.013630</td>\n",
              "      <td>0.016522</td>\n",
              "    </tr>\n",
              "    <tr>\n",
              "      <th>Night_Charge</th>\n",
              "      <td>-0.008960</td>\n",
              "      <td>0.007663</td>\n",
              "      <td>0.004300</td>\n",
              "      <td>-0.012593</td>\n",
              "      <td>0.999999</td>\n",
              "      <td>-0.015214</td>\n",
              "      <td>-0.009277</td>\n",
              "      <td>0.022927</td>\n",
              "      <td>0.004301</td>\n",
              "      <td>-0.002056</td>\n",
              "      <td>-0.012601</td>\n",
              "      <td>0.011188</td>\n",
              "      <td>1.000000</td>\n",
              "      <td>-0.012329</td>\n",
              "      <td>-0.015186</td>\n",
              "      <td>-0.005845</td>\n",
              "    </tr>\n",
              "    <tr>\n",
              "      <th>Intl_Calls</th>\n",
              "      <td>0.020661</td>\n",
              "      <td>0.013957</td>\n",
              "      <td>0.008033</td>\n",
              "      <td>0.002541</td>\n",
              "      <td>-0.012353</td>\n",
              "      <td>0.032304</td>\n",
              "      <td>-0.017561</td>\n",
              "      <td>0.004574</td>\n",
              "      <td>0.008032</td>\n",
              "      <td>0.017434</td>\n",
              "      <td>0.002541</td>\n",
              "      <td>0.000305</td>\n",
              "      <td>-0.012329</td>\n",
              "      <td>1.000000</td>\n",
              "      <td>0.032372</td>\n",
              "      <td>-0.024179</td>\n",
              "    </tr>\n",
              "    <tr>\n",
              "      <th>Intl_Charge</th>\n",
              "      <td>0.009546</td>\n",
              "      <td>0.002884</td>\n",
              "      <td>-0.010092</td>\n",
              "      <td>-0.011067</td>\n",
              "      <td>-0.015180</td>\n",
              "      <td>0.999993</td>\n",
              "      <td>-0.009675</td>\n",
              "      <td>0.021666</td>\n",
              "      <td>-0.010094</td>\n",
              "      <td>0.008674</td>\n",
              "      <td>-0.011074</td>\n",
              "      <td>-0.013630</td>\n",
              "      <td>-0.015186</td>\n",
              "      <td>0.032372</td>\n",
              "      <td>1.000000</td>\n",
              "      <td>-0.018395</td>\n",
              "    </tr>\n",
              "    <tr>\n",
              "      <th>Area_Code</th>\n",
              "      <td>-0.012463</td>\n",
              "      <td>-0.001994</td>\n",
              "      <td>-0.008264</td>\n",
              "      <td>0.003580</td>\n",
              "      <td>-0.005825</td>\n",
              "      <td>-0.018288</td>\n",
              "      <td>0.027572</td>\n",
              "      <td>-0.009646</td>\n",
              "      <td>-0.008264</td>\n",
              "      <td>-0.011886</td>\n",
              "      <td>0.003607</td>\n",
              "      <td>0.016522</td>\n",
              "      <td>-0.005845</td>\n",
              "      <td>-0.024179</td>\n",
              "      <td>-0.018395</td>\n",
              "      <td>1.000000</td>\n",
              "    </tr>\n",
              "  </tbody>\n",
              "</table>\n",
              "</div>"
            ],
            "text/plain": [
              "                Account_Length  Vmail_Message  ...  Intl_Charge  Area_Code\n",
              "Account_Length        1.000000      -0.004628  ...     0.009546  -0.012463\n",
              "Vmail_Message        -0.004628       1.000000  ...     0.002884  -0.001994\n",
              "Day_Mins              0.006216       0.000778  ...    -0.010092  -0.008264\n",
              "Eve_Mins             -0.006757       0.017562  ...    -0.011067   0.003580\n",
              "Night_Mins           -0.008955       0.007681  ...    -0.015180  -0.005825\n",
              "Intl_Mins             0.009514       0.002856  ...     0.999993  -0.018288\n",
              "CustServ_Calls       -0.003796      -0.013263  ...    -0.009675   0.027572\n",
              "Day_Calls             0.038470      -0.009548  ...     0.021666  -0.009646\n",
              "Day_Charge            0.006214       0.000776  ...    -0.010094  -0.008264\n",
              "Eve_Calls             0.019260      -0.005864  ...     0.008674  -0.011886\n",
              "Eve_Charge           -0.006745       0.017578  ...    -0.011074   0.003607\n",
              "Night_Calls          -0.013176       0.007123  ...    -0.013630   0.016522\n",
              "Night_Charge         -0.008960       0.007663  ...    -0.015186  -0.005845\n",
              "Intl_Calls            0.020661       0.013957  ...     0.032372  -0.024179\n",
              "Intl_Charge           0.009546       0.002884  ...     1.000000  -0.018395\n",
              "Area_Code            -0.012463      -0.001994  ...    -0.018395   1.000000\n",
              "\n",
              "[16 rows x 16 columns]"
            ]
          },
          "metadata": {
            "tags": []
          },
          "execution_count": 35
        }
      ]
    },
    {
      "cell_type": "markdown",
      "metadata": {
        "id": "4TS9H8tJrno_",
        "colab_type": "text"
      },
      "source": [
        "Podemos observar como minutos dl dia, minutos de la tarde, minutos en la noche y minutos internacionals estan altamene correlacionados con carga de dia, carga de tarde, carga de noche, carga internacional y esto tiene sentido intuitivamente y desde un modelo podemos mejorar el rendimiento de estos eliminando estas funciones redundantes.\n",
        "\n",
        "\n",
        "\n",
        "Este proceso de elegir qué caracteristicas usar en nuestro modelo se conoce como seleccion de caracteristicas.\n",
        "\n",
        "\n",
        "También neecisatmos crear nuevas funciones - columnas para ayudar e mejorar el rendimiento del modelo, esto se conoce como ingenieria de caracteristicas, un ejemplo de este seria crear una caracteristica llamada `total minuts` que consiste en combinar las suma de los minutos del dia,tarde noche e internacionales o podemos crear una nueva fncion que sea la relacion entre minutos y carga.\n",
        "\n",
        "## Eliminar funciones innecesarias\n",
        "\n",
        "Algunas funciones como 'Area_Code' y 'Phone' no son útiles cuando se trata de predecir el abandono de clientes y deben descartarse antes del modelado. La forma más fácil de hacerlo en Python es usando el método `.drop()` de pandas DataFrames.\n",
        "\n"
      ]
    },
    {
      "cell_type": "code",
      "metadata": {
        "id": "HuP47QT6rkK9",
        "colab_type": "code",
        "colab": {
          "base_uri": "https://localhost:8080/",
          "height": 102
        },
        "outputId": "bce01bf1-649c-422b-8c2e-b8af0feb7a74"
      },
      "source": [
        "# eliminamos las caracteristicas inecesarias\n",
        "data_phone = data_phones.drop(['Area_Code','Phone'], axis = 1)\n",
        "\n",
        "# Verificamos la eliminacion de caracteristicas\n",
        "\n",
        "data_phone.columns"
      ],
      "execution_count": 38,
      "outputs": [
        {
          "output_type": "execute_result",
          "data": {
            "text/plain": [
              "Index(['Account_Length', 'Vmail_Message', 'Day_Mins', 'Eve_Mins', 'Night_Mins',\n",
              "       'Intl_Mins', 'CustServ_Calls', 'Churn', 'Intl_Plan', 'Vmail_Plan',\n",
              "       'Day_Calls', 'Day_Charge', 'Eve_Calls', 'Eve_Charge', 'Night_Calls',\n",
              "       'Night_Charge', 'Intl_Calls', 'Intl_Charge', 'State'],\n",
              "      dtype='object')"
            ]
          },
          "metadata": {
            "tags": []
          },
          "execution_count": 38
        }
      ]
    },
    {
      "cell_type": "markdown",
      "metadata": {
        "id": "D1KCEqFjtji4",
        "colab_type": "text"
      },
      "source": [
        "Ingeniería de una nueva columna.\n",
        "\n",
        "Aprovechar el conocimiento del dominio para diseñar nuevas funciones es una parte esencial del modelado. Esta cita de Andrew Ng resume la importancia de la ingeniería de funciones:\n",
        "\n",
        "\n",
        "Proponer funciones es difícil, requiere mucho tiempo y requiere conocimientos especializados. El \"aprendizaje automático aplicado\" es básicamente ingeniería de funciones.\n",
        "\n",
        "\n",
        "Nuestro trabajo es crear una nueva caracteristica que contenga información sobre la duración promedio de las llamadas nocturnas realizadas por los clientes."
      ]
    },
    {
      "cell_type": "code",
      "metadata": {
        "id": "EjeB9VLhtM2h",
        "colab_type": "code",
        "colab": {
          "base_uri": "https://localhost:8080/",
          "height": 119
        },
        "outputId": "8670bc07-6e1c-4fb2-cbdf-b3e6354ade97"
      },
      "source": [
        "data_phone['Avg-Night_Calls'] = data_phone['Night_Mins']/data_phone['Night_Calls']\n",
        "\n",
        "data_phone['Avg-Night_Calls'] .head()"
      ],
      "execution_count": 40,
      "outputs": [
        {
          "output_type": "execute_result",
          "data": {
            "text/plain": [
              "0    2.689011\n",
              "1    2.469903\n",
              "2    1.563462\n",
              "3    2.212360\n",
              "4    1.544628\n",
              "Name: Avg-Night_Calls, dtype: float64"
            ]
          },
          "metadata": {
            "tags": []
          },
          "execution_count": 40
        }
      ]
    }
  ]
}