{
 "cells": [
  {
   "cell_type": "markdown",
   "metadata": {},
   "source": [
    "# Support Vector Machine BASICO."
   ]
  },
  {
   "cell_type": "markdown",
   "metadata": {},
   "source": [
    " (SVM) Es un modelo supervisado de aprendizaje con algoritmos asociados que analizan los datos y reconocen patrones, que se utiliza para la clasificación y el análisis de regresión en la Inteligencia de Negocios. El SVM básico toma un conjunto de datos de entrada y predice, para cada entrada dada, a cuál de las dos clases de salida pertenece, por lo que es un clasificador no-probabilístico lineal binario (solo escoge entre 2 opciones). "
   ]
  },
  {
   "cell_type": "code",
   "execution_count": 2,
   "metadata": {},
   "outputs": [],
   "source": [
    "import pandas as pd\n",
    "from sklearn.model_selection import train_test_split #Este modulo nos va a permitir separar los datos para tener la prueba de testing y de training"
   ]
  },
  {
   "cell_type": "code",
   "execution_count": 3,
   "metadata": {},
   "outputs": [],
   "source": [
    "data = pd.read_csv(\"/Users/familiavs/Documents/GitHub/python-ml-course/datasets/Graficas./wineq.csv\")"
   ]
  },
  {
   "cell_type": "code",
   "execution_count": 9,
   "metadata": {},
   "outputs": [
    {
     "name": "stdout",
     "output_type": "stream",
     "text": [
      "5.0    681\n",
      "6.0    638\n",
      "7.0    199\n",
      "4.0     53\n",
      "8.0     18\n",
      "3.0     10\n",
      "Name: quality, dtype: int64\n"
     ]
    }
   ],
   "source": [
    "#Convertirmos los datos de tipo flotantes y rellenamos los espacion vacios con un 0.0\n",
    "data = data.astype(float).fillna(0.0)\n",
    "#Separamos los datos que vana servir para clasficiar y sus caracteristicas\n",
    "y=data.quality #Obtenemos la columna 'quality ' de nuestro dataset\n",
    "X=data.drop('quality',axis=1)#Eliminamos 'quality'\n",
    "print(data['quality'].value_counts())"
   ]
  },
  {
   "cell_type": "code",
   "execution_count": 10,
   "metadata": {},
   "outputs": [],
   "source": [
    "X_train,X_test,y_train,y_test = train_test_split(X,y,\n",
    "                                                test_size=0.2,\n",
    "                                                random_state=42,\n",
    "                                                stratify=y)"
   ]
  },
  {
   "cell_type": "code",
   "execution_count": 11,
   "metadata": {},
   "outputs": [],
   "source": [
    "from sklearn.preprocessing import StandardScaler\n",
    "sc = StandardScaler()\n",
    "X_train_array = sc.fit_transform(X_train.values)\n",
    "X_train = pd.DataFrame(X_train_array, index=X_train.index, columns=X_train.columns)\n",
    "X_test_array = sc.transform(X_test.values)\n",
    "X_test = pd.DataFrame(X_test_array, index=X_test.index, columns=X_test.columns)"
   ]
  },
  {
   "cell_type": "code",
   "execution_count": 27,
   "metadata": {},
   "outputs": [
    {
     "name": "stdout",
     "output_type": "stream",
     "text": [
      "La clasificion es: 0.625  esto quiere decir que tiene un nivel arriba de la media de calidad\n"
     ]
    }
   ],
   "source": [
    "#PRIMER MODELO \"RBF\"\n",
    "from sklearn.svm import SVC #Clasificar si es una calidad buena o mala de vino\n",
    "clf=SVC(kernel='rbf').fit(X_train,y_train)\n",
    "print(\"La clasificion es: {}  esto quiere decir que tiene un nivel arriba de la media de calidad\".format(clf.score(X_test,y_test)))"
   ]
  },
  {
   "cell_type": "code",
   "execution_count": 26,
   "metadata": {},
   "outputs": [
    {
     "name": "stdout",
     "output_type": "stream",
     "text": [
      "La clasificion es: 0.571875  esto quiere decir que tiene un nivel estandar de calidad\n"
     ]
    }
   ],
   "source": [
    "#Segundo MODELO \"Linear\"\n",
    "from sklearn.svm import SVC #Clasificar si es una calidad buena o mala de vino\n",
    "clf=SVC(kernel='linear').fit(X_train,y_train)\n",
    "print(\"La clasificion es: {}  esto quiere decir que tiene un nivel estandar de calidad\".format(clf.score(X_test,y_test)))"
   ]
  },
  {
   "cell_type": "code",
   "execution_count": 30,
   "metadata": {},
   "outputs": [
    {
     "name": "stdout",
     "output_type": "stream",
     "text": [
      "La clasificion es: 0.60625  esto quiere decir que tiene un nivel superior a la calidad estandar de calidad\n"
     ]
    }
   ],
   "source": [
    "#Tercer MODELO \"Poly\"\n",
    "from sklearn.svm import SVC #Clasificar si es una calidad buena o mala de vino\n",
    "clf=SVC(kernel='poly').fit(X_train,y_train)\n",
    "print(\"La clasificion es: {}  esto quiere decir que tiene un nivel superior a la calidad estandar de calidad\".format(clf.score(X_test,y_test)))"
   ]
  },
  {
   "cell_type": "code",
   "execution_count": null,
   "metadata": {},
   "outputs": [],
   "source": []
  }
 ],
 "metadata": {
  "kernelspec": {
   "display_name": "Python 3",
   "language": "python",
   "name": "python3"
  },
  "language_info": {
   "codemirror_mode": {
    "name": "ipython",
    "version": 3
   },
   "file_extension": ".py",
   "mimetype": "text/x-python",
   "name": "python",
   "nbconvert_exporter": "python",
   "pygments_lexer": "ipython3",
   "version": "3.7.3"
  }
 },
 "nbformat": 4,
 "nbformat_minor": 2
}
