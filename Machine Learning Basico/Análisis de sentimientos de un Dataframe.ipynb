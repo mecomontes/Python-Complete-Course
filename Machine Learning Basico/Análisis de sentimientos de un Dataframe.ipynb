{
 "cells": [
  {
   "cell_type": "markdown",
   "metadata": {},
   "source": [
    "# Análisis de sentimientos de un Dataframe.\n"
   ]
  },
  {
   "cell_type": "code",
   "execution_count": 2,
   "metadata": {},
   "outputs": [],
   "source": [
    "import pandas as pd\n",
    "from textblob import TextBlob\n",
    "import seaborn as sns"
   ]
  },
  {
   "cell_type": "code",
   "execution_count": 8,
   "metadata": {},
   "outputs": [],
   "source": [
    "data = pd.read_csv(\"/Users/familiavs/Documents/GitHub/python-ml-course/datasets/Ej/nyt.csv\")"
   ]
  },
  {
   "cell_type": "code",
   "execution_count": 9,
   "metadata": {
    "collapsed": true
   },
   "outputs": [
    {
     "data": {
      "text/html": [
       "<div>\n",
       "<style scoped>\n",
       "    .dataframe tbody tr th:only-of-type {\n",
       "        vertical-align: middle;\n",
       "    }\n",
       "\n",
       "    .dataframe tbody tr th {\n",
       "        vertical-align: top;\n",
       "    }\n",
       "\n",
       "    .dataframe thead th {\n",
       "        text-align: right;\n",
       "    }\n",
       "</style>\n",
       "<table border=\"1\" class=\"dataframe\">\n",
       "  <thead>\n",
       "    <tr style=\"text-align: right;\">\n",
       "      <th></th>\n",
       "      <th>content</th>\n",
       "    </tr>\n",
       "  </thead>\n",
       "  <tbody>\n",
       "    <tr>\n",
       "      <th>0</th>\n",
       "      <td>If the choice is between mining for bitcoin - ...</td>\n",
       "    </tr>\n",
       "    <tr>\n",
       "      <th>1</th>\n",
       "      <td>&lt;br/&gt;To me, Bitcoin (et al) appears to be an e...</td>\n",
       "    </tr>\n",
       "    <tr>\n",
       "      <th>2</th>\n",
       "      <td>Bitcoin is a pyramid scheme backed by nothing ...</td>\n",
       "    </tr>\n",
       "    <tr>\n",
       "      <th>3</th>\n",
       "      <td>What does it cost in energy to dig up and refi...</td>\n",
       "    </tr>\n",
       "    <tr>\n",
       "      <th>4</th>\n",
       "      <td>You forgot to mention stock buybacks.</td>\n",
       "    </tr>\n",
       "  </tbody>\n",
       "</table>\n",
       "</div>"
      ],
      "text/plain": [
       "                                             content\n",
       "0  If the choice is between mining for bitcoin - ...\n",
       "1  <br/>To me, Bitcoin (et al) appears to be an e...\n",
       "2  Bitcoin is a pyramid scheme backed by nothing ...\n",
       "3  What does it cost in energy to dig up and refi...\n",
       "4             You forgot to mention stock buybacks. "
      ]
     },
     "execution_count": 9,
     "metadata": {},
     "output_type": "execute_result"
    }
   ],
   "source": [
    "data.head()"
   ]
  },
  {
   "cell_type": "code",
   "execution_count": 13,
   "metadata": {},
   "outputs": [],
   "source": [
    "#Creamos una nueva columna a la cual se le v a aplicar una funcion lambda con el metodo de polaridad de textblob a todo el df\n",
    "data['polaridad']=data['content'].apply(lambda x: TextBlob(x).sentiment.polarity)"
   ]
  },
  {
   "cell_type": "code",
   "execution_count": 17,
   "metadata": {},
   "outputs": [
    {
     "data": {
      "text/plain": [
       "count    239.000000\n",
       "mean       0.059614\n",
       "std        0.219413\n",
       "min       -1.000000\n",
       "25%       -0.012500\n",
       "50%        0.035714\n",
       "75%        0.161556\n",
       "max        1.000000\n",
       "Name: polaridad, dtype: float64"
      ]
     },
     "execution_count": 17,
     "metadata": {},
     "output_type": "execute_result"
    }
   ],
   "source": [
    "data['polaridad'].describe()"
   ]
  },
  {
   "cell_type": "code",
   "execution_count": 16,
   "metadata": {},
   "outputs": [],
   "source": [
    "data['Subjetividad']=data['content'].apply(lambda x: TextBlob(x).sentiment.subjectivity)"
   ]
  },
  {
   "cell_type": "code",
   "execution_count": 18,
   "metadata": {},
   "outputs": [
    {
     "data": {
      "text/plain": [
       "count    239.000000\n",
       "mean       0.449711\n",
       "std        0.238127\n",
       "min        0.000000\n",
       "25%        0.321240\n",
       "50%        0.466667\n",
       "75%        0.577110\n",
       "max        1.000000\n",
       "Name: Subjetividad, dtype: float64"
      ]
     },
     "execution_count": 18,
     "metadata": {},
     "output_type": "execute_result"
    }
   ],
   "source": [
    "data['Subjetividad'].describe()"
   ]
  },
  {
   "cell_type": "code",
   "execution_count": 20,
   "metadata": {
    "collapsed": true
   },
   "outputs": [
    {
     "data": {
      "text/plain": [
       "<matplotlib.axes._subplots.AxesSubplot at 0x122568ac8>"
      ]
     },
     "execution_count": 20,
     "metadata": {},
     "output_type": "execute_result"
    },
    {
     "data": {
      "image/png": "[encoded data removed]",
      "text/plain": [
       "<Figure size 432x288 with 1 Axes>"
      ]
     },
     "metadata": {
      "needs_background": "light"
     },
     "output_type": "display_data"
    }
   ],
   "source": [
    "#Grafica\n",
    "sns.distplot(data['polaridad'])\n",
    "sns.distplot(data['Subjetividad'])"
   ]
  },
  {
   "cell_type": "markdown",
   "metadata": {},
   "source": [
    "Podemos observar en la grafica que la mayoria de los valores subjetivos caen en 0 , esto quiere decir que los sentimientos encontrados son neutros.\n",
    "\n",
    "En la polaridad podemos observar que la distribucion normal cae en 0.5 i.e  que los articulos detectados se encuentran aproximados a 0 (Muy objetivo)"
   ]
  },
  {
   "cell_type": "code",
   "execution_count": 24,
   "metadata": {},
   "outputs": [],
   "source": [
    "n=0\n",
    "while n<5:\n",
    "    #Creamos nueva columna llamada p que concatena y conveirte n a str\n",
    "    data['P' + str(n)]=data['content'].apply(lambda x: TextBlob(x).sentiment.polarity)\n",
    "    data['S' + str(n)]=data['content'].apply(lambda x: TextBlob(x).sentiment.polarity)\n",
    "    n=n+1\n",
    "    \n"
   ]
  },
  {
   "cell_type": "code",
   "execution_count": 25,
   "metadata": {
    "collapsed": true
   },
   "outputs": [
    {
     "data": {
      "text/html": [
       "<div>\n",
       "<style scoped>\n",
       "    .dataframe tbody tr th:only-of-type {\n",
       "        vertical-align: middle;\n",
       "    }\n",
       "\n",
       "    .dataframe tbody tr th {\n",
       "        vertical-align: top;\n",
       "    }\n",
       "\n",
       "    .dataframe thead th {\n",
       "        text-align: right;\n",
       "    }\n",
       "</style>\n",
       "<table border=\"1\" class=\"dataframe\">\n",
       "  <thead>\n",
       "    <tr style=\"text-align: right;\">\n",
       "      <th></th>\n",
       "      <th>content</th>\n",
       "      <th>polaridad</th>\n",
       "      <th>Subjetividad</th>\n",
       "      <th>P0</th>\n",
       "      <th>S0</th>\n",
       "      <th>P1</th>\n",
       "      <th>S1</th>\n",
       "      <th>P2</th>\n",
       "      <th>S2</th>\n",
       "      <th>P3</th>\n",
       "      <th>S3</th>\n",
       "      <th>P4</th>\n",
       "      <th>S4</th>\n",
       "    </tr>\n",
       "  </thead>\n",
       "  <tbody>\n",
       "    <tr>\n",
       "      <th>0</th>\n",
       "      <td>If the choice is between mining for bitcoin - ...</td>\n",
       "      <td>-0.150000</td>\n",
       "      <td>0.250000</td>\n",
       "      <td>-0.150000</td>\n",
       "      <td>-0.150000</td>\n",
       "      <td>-0.150000</td>\n",
       "      <td>-0.150000</td>\n",
       "      <td>-0.150000</td>\n",
       "      <td>-0.150000</td>\n",
       "      <td>-0.150000</td>\n",
       "      <td>-0.150000</td>\n",
       "      <td>-0.150000</td>\n",
       "      <td>-0.150000</td>\n",
       "    </tr>\n",
       "    <tr>\n",
       "      <th>1</th>\n",
       "      <td>&lt;br/&gt;To me, Bitcoin (et al) appears to be an e...</td>\n",
       "      <td>-0.107143</td>\n",
       "      <td>0.471429</td>\n",
       "      <td>-0.107143</td>\n",
       "      <td>-0.107143</td>\n",
       "      <td>-0.107143</td>\n",
       "      <td>-0.107143</td>\n",
       "      <td>-0.107143</td>\n",
       "      <td>-0.107143</td>\n",
       "      <td>-0.107143</td>\n",
       "      <td>-0.107143</td>\n",
       "      <td>-0.107143</td>\n",
       "      <td>-0.107143</td>\n",
       "    </tr>\n",
       "    <tr>\n",
       "      <th>2</th>\n",
       "      <td>Bitcoin is a pyramid scheme backed by nothing ...</td>\n",
       "      <td>0.008566</td>\n",
       "      <td>0.415734</td>\n",
       "      <td>0.008566</td>\n",
       "      <td>0.008566</td>\n",
       "      <td>0.008566</td>\n",
       "      <td>0.008566</td>\n",
       "      <td>0.008566</td>\n",
       "      <td>0.008566</td>\n",
       "      <td>0.008566</td>\n",
       "      <td>0.008566</td>\n",
       "      <td>0.008566</td>\n",
       "      <td>0.008566</td>\n",
       "    </tr>\n",
       "    <tr>\n",
       "      <th>3</th>\n",
       "      <td>What does it cost in energy to dig up and refi...</td>\n",
       "      <td>0.146892</td>\n",
       "      <td>0.598589</td>\n",
       "      <td>0.146892</td>\n",
       "      <td>0.146892</td>\n",
       "      <td>0.146892</td>\n",
       "      <td>0.146892</td>\n",
       "      <td>0.146892</td>\n",
       "      <td>0.146892</td>\n",
       "      <td>0.146892</td>\n",
       "      <td>0.146892</td>\n",
       "      <td>0.146892</td>\n",
       "      <td>0.146892</td>\n",
       "    </tr>\n",
       "    <tr>\n",
       "      <th>4</th>\n",
       "      <td>You forgot to mention stock buybacks.</td>\n",
       "      <td>0.000000</td>\n",
       "      <td>0.000000</td>\n",
       "      <td>0.000000</td>\n",
       "      <td>0.000000</td>\n",
       "      <td>0.000000</td>\n",
       "      <td>0.000000</td>\n",
       "      <td>0.000000</td>\n",
       "      <td>0.000000</td>\n",
       "      <td>0.000000</td>\n",
       "      <td>0.000000</td>\n",
       "      <td>0.000000</td>\n",
       "      <td>0.000000</td>\n",
       "    </tr>\n",
       "  </tbody>\n",
       "</table>\n",
       "</div>"
      ],
      "text/plain": [
       "                                             content  polaridad  Subjetividad  \\\n",
       "0  If the choice is between mining for bitcoin - ...  -0.150000      0.250000   \n",
       "1  <br/>To me, Bitcoin (et al) appears to be an e...  -0.107143      0.471429   \n",
       "2  Bitcoin is a pyramid scheme backed by nothing ...   0.008566      0.415734   \n",
       "3  What does it cost in energy to dig up and refi...   0.146892      0.598589   \n",
       "4             You forgot to mention stock buybacks.    0.000000      0.000000   \n",
       "\n",
       "         P0        S0        P1        S1        P2        S2        P3  \\\n",
       "0 -0.150000 -0.150000 -0.150000 -0.150000 -0.150000 -0.150000 -0.150000   \n",
       "1 -0.107143 -0.107143 -0.107143 -0.107143 -0.107143 -0.107143 -0.107143   \n",
       "2  0.008566  0.008566  0.008566  0.008566  0.008566  0.008566  0.008566   \n",
       "3  0.146892  0.146892  0.146892  0.146892  0.146892  0.146892  0.146892   \n",
       "4  0.000000  0.000000  0.000000  0.000000  0.000000  0.000000  0.000000   \n",
       "\n",
       "         S3        P4        S4  \n",
       "0 -0.150000 -0.150000 -0.150000  \n",
       "1 -0.107143 -0.107143 -0.107143  \n",
       "2  0.008566  0.008566  0.008566  \n",
       "3  0.146892  0.146892  0.146892  \n",
       "4  0.000000  0.000000  0.000000  "
      ]
     },
     "execution_count": 25,
     "metadata": {},
     "output_type": "execute_result"
    }
   ],
   "source": [
    "data.head()"
   ]
  },
  {
   "cell_type": "code",
   "execution_count": null,
   "metadata": {},
   "outputs": [],
   "source": []
  }
 ],
 "metadata": {
  "kernelspec": {
   "display_name": "Python 3",
   "language": "python",
   "name": "python3"
  },
  "language_info": {
   "codemirror_mode": {
    "name": "ipython",
    "version": 3
   },
   "file_extension": ".py",
   "mimetype": "text/x-python",
   "name": "python",
   "nbconvert_exporter": "python",
   "pygments_lexer": "ipython3",
   "version": "3.7.3"
  }
 },
 "nbformat": 4,
 "nbformat_minor": 2
}
