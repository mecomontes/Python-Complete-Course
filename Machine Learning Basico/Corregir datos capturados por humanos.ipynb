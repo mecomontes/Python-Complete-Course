{
 "cells": [
  {
   "cell_type": "markdown",
   "metadata": {},
   "source": [
    "# Corregir datos capturados por humanos"
   ]
  },
  {
   "cell_type": "code",
   "execution_count": 1,
   "metadata": {},
   "outputs": [],
   "source": [
    "from  fuzzywuzzy import process"
   ]
  },
  {
   "cell_type": "code",
   "execution_count": 2,
   "metadata": {},
   "outputs": [],
   "source": [
    "correct={\"Afganistán\",\n",
    "\"Albania\",\n",
    "\"Alemania\",\n",
    "\"Andorra\",\n",
    "\"Angola\",\n",
    "\"Antigua y Barbuda\",\n",
    "\"Arabia Saudita\",\n",
    "\"Argelia\",\n",
    "\"Botsuana\",\n",
    "\"Brasil\",\n",
    "\"Brunéi\",\n",
    "\"Bulgaria\",\n",
    "\"Burkina Faso\",\n",
    "\"Burundi\",}"
   ]
  },
  {
   "cell_type": "code",
   "execution_count": 9,
   "metadata": {},
   "outputs": [],
   "source": [
    "usuario=\"afganstan\"\n",
    "usuario2=\"Brzl\""
   ]
  },
  {
   "cell_type": "code",
   "execution_count": 10,
   "metadata": {},
   "outputs": [],
   "source": [
    "aprox=process.extractOne(usuario,correct)\n",
    "aprox2=process.extractOne(usuario2,correct)"
   ]
  },
  {
   "cell_type": "code",
   "execution_count": 24,
   "metadata": {},
   "outputs": [
    {
     "name": "stdout",
     "output_type": "stream",
     "text": [
      "La palabra mas cerca a:  afganstan\n",
      "Es:  Afganistán\n",
      "Con un 89% de precisison . \n"
     ]
    }
   ],
   "source": [
    "print(\"La palabra mas cerca a: \",usuario)\n",
    "print(\"Es: \",aprox[0])\n",
    "print(\"Con un {}% de precisison . \".format(aprox[1]))"
   ]
  },
  {
   "cell_type": "code",
   "execution_count": 25,
   "metadata": {},
   "outputs": [
    {
     "name": "stdout",
     "output_type": "stream",
     "text": [
      "La palabra mas cerca a:  Brzl\n",
      "Es:  Brasil\n",
      "Con un 60 % de precisison . \n"
     ]
    }
   ],
   "source": [
    "print(\"La palabra mas cerca a: \",usuario2)\n",
    "print(\"Es: \",aprox2[0])\n",
    "print(\"Con un {} % de precisison . \".format(aprox2[1]))"
   ]
  },
  {
   "cell_type": "code",
   "execution_count": null,
   "metadata": {},
   "outputs": [],
   "source": []
  }
 ],
 "metadata": {
  "kernelspec": {
   "display_name": "Python 3",
   "language": "python",
   "name": "python3"
  },
  "language_info": {
   "codemirror_mode": {
    "name": "ipython",
    "version": 3
   },
   "file_extension": ".py",
   "mimetype": "text/x-python",
   "name": "python",
   "nbconvert_exporter": "python",
   "pygments_lexer": "ipython3",
   "version": "3.7.3"
  }
 },
 "nbformat": 4,
 "nbformat_minor": 2
}
