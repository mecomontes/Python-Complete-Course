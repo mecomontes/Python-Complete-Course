{
 "cells": [
  {
   "cell_type": "markdown",
   "metadata": {},
   "source": [
    "# TextBlob."
   ]
  },
  {
   "cell_type": "markdown",
   "metadata": {},
   "source": [
    "TextBlob es una biblioteca de Python (2 y 3) para procesar datos textuales. Proporciona una API simple para sumergirse en tareas comunes de procesamiento del lenguaje natural (PNL) como el etiquetado de parte del discurso, extracción de frases nominales, análisis de sentimientos, clasificación, traducción y más."
   ]
  },
  {
   "cell_type": "markdown",
   "metadata": {},
   "source": [
    "POLARIDAD :\n",
    "\n",
    "RANGOS : [-1,0)(0,1]\n",
    "Donde:\n",
    "1. -1 es un sentimiento muy negativo.\n",
    "\n",
    "2. 0 es un sentimiento neutro.\n",
    "\n",
    "3. 1 es un sentimineto muy positivo.\n",
    "\n",
    "Subjetividad:\n",
    "\n",
    "Rango: [0,1].\n",
    "\n",
    "Donde:\n",
    "0 = Muy objetivo.\n",
    "\n",
    "1= Muy subjetivo."
   ]
  },
  {
   "cell_type": "code",
   "execution_count": 2,
   "metadata": {},
   "outputs": [],
   "source": [
    "from textblob import TextBlob"
   ]
  },
  {
   "cell_type": "code",
   "execution_count": 15,
   "metadata": {
    "collapsed": true
   },
   "outputs": [
    {
     "name": "stdout",
     "output_type": "stream",
     "text": [
      "I just appreciate the message you had sent a photo\n"
     ]
    }
   ],
   "source": [
    "#Frase subjetiva y positiva\n",
    "t=TextBlob(\"Es que solo me aprecio el mensaje de habías enviado una foto\")\n",
    "#Traducimos el texto a ingles para ue se pueda hacer el funcionamiento\n",
    "ten=t.translate(to=\"en\")\n",
    "print(ten)"
   ]
  },
  {
   "cell_type": "code",
   "execution_count": 16,
   "metadata": {
    "collapsed": true
   },
   "outputs": [
    {
     "name": "stdout",
     "output_type": "stream",
     "text": [
      "Sentiment(polarity=0.0, subjectivity=0.0) /n\n"
     ]
    }
   ],
   "source": [
    "print(ten.sentiment,\"/n\")"
   ]
  },
  {
   "cell_type": "code",
   "execution_count": 12,
   "metadata": {
    "collapsed": true
   },
   "outputs": [
    {
     "name": "stdout",
     "output_type": "stream",
     "text": [
      "I hope you have a great time on your birthday aunt and that you achieve all your goals and purposes since if there is a person who can achieve them, it is only you\n"
     ]
    }
   ],
   "source": [
    "t2=TextBlob(\"Espero la pases genial en tu dia de cumpleaños tia y que logres todas tus metas y propositos ya que si hay una persona que los piede lograr solo eres tu\")\n",
    "#Traducimos el texto a ingles para ue se pueda hacer el funcionamiento\n",
    "ten=t2.translate(to=\"en\")\n",
    "print(ten)"
   ]
  },
  {
   "cell_type": "code",
   "execution_count": 14,
   "metadata": {
    "collapsed": true
   },
   "outputs": [
    {
     "name": "stdout",
     "output_type": "stream",
     "text": [
      "Sentiment(polarity=0.4, subjectivity=0.875)\n"
     ]
    }
   ],
   "source": [
    "print(ten.sentiment)"
   ]
  },
  {
   "cell_type": "code",
   "execution_count": null,
   "metadata": {},
   "outputs": [],
   "source": []
  }
 ],
 "metadata": {
  "kernelspec": {
   "display_name": "Python 3",
   "language": "python",
   "name": "python3"
  },
  "language_info": {
   "codemirror_mode": {
    "name": "ipython",
    "version": 3
   },
   "file_extension": ".py",
   "mimetype": "text/x-python",
   "name": "python",
   "nbconvert_exporter": "python",
   "pygments_lexer": "ipython3",
   "version": "3.7.3"
  }
 },
 "nbformat": 4,
 "nbformat_minor": 2
}
