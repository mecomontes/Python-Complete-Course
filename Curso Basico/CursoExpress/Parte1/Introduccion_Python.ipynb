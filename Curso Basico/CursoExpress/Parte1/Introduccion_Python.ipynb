{
  "nbformat": 4,
  "nbformat_minor": 0,
  "metadata": {
    "colab": {
      "name": "Introduccion_Python.ipynb",
      "provenance": [],
      "collapsed_sections": []
    },
    "kernelspec": {
      "name": "python3",
      "display_name": "Python 3"
    }
  },
  "cells": [
    {
      "cell_type": "markdown",
      "metadata": {
        "id": "TXCeYsX5TE4j",
        "colab_type": "text"
      },
      "source": [
        "<h1>Python - Introduccion.</h1>\n",
        "\n",
        "\n",
        "<h2>Table de Contenido</h2>\n",
        "<div class=\"alert alert-block alert-info\" style=\"margin-top: 20px\">\n",
        "    <ul>\n",
        "        <li>\n",
        "            <a href=\"#hola\">Hola Mundo en Python</a>\n",
        "            <ul>\n",
        "                <li><a href=\"version\">Que version estamos usadno?</a></li>\n",
        "                <li><a href=\"comentarios\">Escribiendo Comentarios En Python</a></li>\n",
        "                <li><a href=\"errores\">Errores en Python</a></li>\n",
        "                <li><a href=\"python_error\">¿Python conoce nuestro error antes de ejecutar el código?</a></li>\n",
        "                <li><a href=\"ejercicio\">Nuestro primer programa</a></li>\n",
        "            </ul>\n",
        "        </li>\n",
        "        <li>\n",
        "            <a href=\"#tipos_objetos\">Tipos de objetos en Python</a>\n",
        "            <ul>\n",
        "                <li><a href=\"int\">Enteros</a></li>\n",
        "                <li><a href=\"float\">Flotantes</a></li>\n",
        "                <li><a href=\"convertir\">Convertir un tipo de objeto a otro</a></li>\n",
        "                <li><a href=\"bool\">Tipos de datos Booleanos</a></li>\n",
        "                <li><a href=\"ej:tipo\">Ejercicio</a></li>\n",
        "            </ul>\n",
        "        </li>\n",
        "        <li>\n",
        "            <a href=\"#expresiones\">Expresiones & Variables</a>\n",
        "            <ul>\n",
        "                <li><a href=\"exp\">Expresiones</a></li>\n",
        "                <li><a href=\"ej_exp\">Ejercicio: Expresiones</a></li>\n",
        "                <li><a href=\"var\">Variables</a></li>\n",
        "                <li><a href=\"ejer_exp_var\">Ejerccios:Expresiones & variables en python.</a></li>\n",
        "            </ul>\n",
        "        </li>\n",
        "    \n",
        "</div>\n",
        "\n",
        "<hr>"
      ]
    },
    {
      "cell_type": "code",
      "metadata": {
        "id": "D_1YSpyZUQ7l",
        "colab_type": "code",
        "colab": {
          "base_uri": "https://localhost:8080/",
          "height": 34
        },
        "outputId": "1312c330-8b84-42ea-d61a-d0397532a5d3"
      },
      "source": [
        "#Con la funcion print imprimimos nuestro primer hola mundo.\n",
        "print('Hola, Universo!')"
      ],
      "execution_count": 2,
      "outputs": [
        {
          "output_type": "stream",
          "text": [
            "Hola, Universo!\n"
          ],
          "name": "stdout"
        }
      ]
    },
    {
      "cell_type": "markdown",
      "metadata": {
        "id": "VhZSRyshUm_X",
        "colab_type": "text"
      },
      "source": [
        "Después de ejecutar la celda anterior, deberíamos ver que Python imprime <code> ¡Hola, Universo! </code>. \n",
        "<hr />\n",
        "<div class = \"alert alert-success alertuccess\" style = \"margin-top: 20px\">\n",
        "     [Sugerencia:] <code> print () </code> es una función. Pasó la cadena <code> 'Hola, Universo!' </code> como argumento para instruir a Python sobre qué imprimir.\n",
        "</div>\n",
        "<hr />\n",
        "\n",
        "<h3 id=\"version\">Que version de python estamos usando?</h3>\n",
        "\n"
      ]
    },
    {
      "cell_type": "markdown",
      "metadata": {
        "id": "rJaxFnaEVhJ6",
        "colab_type": "text"
      },
      "source": [
        "<p>\n",
        "     Hoy se utilizan dos versiones populares del lenguaje de programación Python:\n",
        "\n",
        "Python 2 y Python 3. La comunidad de Python ha decidido pasar de Python 2 a Python 3, y muchas bibliotecas populares han anunciado que ya no admitirán Python 2.\n",
        "</p>\n",
        "<p>\n",
        "     Dado que Python 3 es el futuro, en este minicurso lo usaremos exclusivamente. ¿Cómo sabemos que nuestra Compu es ejecutado por un tiempo de ejecución Python 3? \n",
        "</p>\n",
        "<p>\n",
        "     Podemos preguntar directamente a Python y obtener una respuesta detallada. Intenta ejecutar el siguiente código:\n",
        "</p>"
      ]
    },
    {
      "cell_type": "code",
      "metadata": {
        "id": "DO5YlSpeUb1Q",
        "colab_type": "code",
        "colab": {
          "base_uri": "https://localhost:8080/",
          "height": 52
        },
        "outputId": "2203e10a-b6f8-46b4-8393-8f80e1bdd51e"
      },
      "source": [
        "#Checamos la version de python\n",
        "import sys\n",
        "print(sys.version)"
      ],
      "execution_count": 4,
      "outputs": [
        {
          "output_type": "stream",
          "text": [
            "3.6.9 (default, Nov  7 2019, 10:44:02) \n",
            "[GCC 8.3.0]\n"
          ],
          "name": "stdout"
        }
      ]
    },
    {
      "cell_type": "markdown",
      "metadata": {
        "id": "1OEWfmT0V_RX",
        "colab_type": "text"
      },
      "source": [
        "<hr />\n",
        "<div class = \"alert alert-success alertuccess\" style = \"margin-top: 20px\">\n",
        "     [Sugerencia:] \n",
        "\n",
        "<code> sys </code> es un módulo integrado que contiene muchos parámetros y funciones específicos del sistema, incluida la versión de Python en uso. Antes de usarlo, debemos explícitamente <code> import </code>.\n",
        "</div>\n",
        "<hr />"
      ]
    },
    {
      "cell_type": "markdown",
      "metadata": {
        "id": "fyBp9O6aWMFv",
        "colab_type": "text"
      },
      "source": [
        "<h3 id=\"comentarios\">Escribiendo comentarios en Python</h3>\n",
        "\n",
        "<p>\n",
        "     Además de escribir código, tengamos en cuenta que siempre es una buena idea agregar comentarios a nuestro código. Ayudará a otros a comprender lo que estabamos tratando de lograr (la razón por la que escribió un fragmento de código dado). Esto no solo ayuda a <strong> otras personas </strong> a comprender su código, sino que también puede servirle como recordatorio <strong> para ti </strong> cuando vuelvas a utilizarlo semanas o meses después. </p>\n",
        "\n",
        "<p>\n",
        "     Para escribir comentarios en Python, usamos el símbolo numérico <code> # </code> antes de escribir su comentario. Cuando ejecuta su código, Python ignorará todo lo que pase el <code> # </code> en una línea determinada.\n",
        "</p>"
      ]
    },
    {
      "cell_type": "code",
      "metadata": {
        "id": "OKi8J78bV12G",
        "colab_type": "code",
        "colab": {
          "base_uri": "https://localhost:8080/",
          "height": 34
        },
        "outputId": "e640db15-bc12-4f07-f1b3-b4ff74bf38de"
      },
      "source": [
        "#Este es mi segundo comentario\n",
        "#print(Esta linea no se ejecuta)\n",
        "print(\"Seccion de comentarios, :D.\")"
      ],
      "execution_count": 6,
      "outputs": [
        {
          "output_type": "stream",
          "text": [
            "Seccion de comentarios, :D.\n"
          ],
          "name": "stdout"
        }
      ]
    },
    {
      "cell_type": "markdown",
      "metadata": {
        "id": "Gi66WIRuW1b3",
        "colab_type": "text"
      },
      "source": [
        "<p>\n",
        "     Después de ejecutar la celda anterior, debe notar que <code> Este es mi segundo comentario </code> no apareció en la salida, porque era un comentario (y Python lo ignoraba).\n",
        "</p>\n",
        "<p>\n",
        "     ¡La segunda línea tampoco se ejecutó porque <code> print(Esta linea no se ejecuta) </code> fue precedido por el signo de número (<code> # </code>) también! Como este no es un comentario explicativo del programador, sino una línea de código real, podríamos decir que  <em> comentamos </em> esa segunda línea de código.\n",
        "</p>"
      ]
    },
    {
      "cell_type": "markdown",
      "metadata": {
        "id": "K97whyGTXR2K",
        "colab_type": "text"
      },
      "source": [
        "<h3 id=\"errores\">Errores en Python</h3>\n",
        "<p>Todos cometemos errores al momento de programar.  Si cometes un error python te lo mostrara al momento de ejecutar el codigo, es importante leer el error que nos muestra python, para saber en que estamos fallando y poder corregirlo.</p>\n",
        "<p>Por ejemplo si nosotros escribimos <code>print</code> como <code>srint</code>, Python mostrara un error en la pantalla, intentemoslo:</p>"
      ]
    },
    {
      "cell_type": "code",
      "metadata": {
        "id": "An4BocK-Wr8N",
        "colab_type": "code",
        "colab": {
          "base_uri": "https://localhost:8080/",
          "height": 167
        },
        "outputId": "32a1a968-98dd-4126-f77e-3694c8d8621c"
      },
      "source": [
        "srint(\"hola\")"
      ],
      "execution_count": 9,
      "outputs": [
        {
          "output_type": "error",
          "ename": "NameError",
          "evalue": "ignored",
          "traceback": [
            "\u001b[0;31m---------------------------------------------------------------------------\u001b[0m",
            "\u001b[0;31mNameError\u001b[0m                                 Traceback (most recent call last)",
            "\u001b[0;32m<ipython-input-9-227a724a6793>\u001b[0m in \u001b[0;36m<module>\u001b[0;34m()\u001b[0m\n\u001b[0;32m----> 1\u001b[0;31m \u001b[0msrint\u001b[0m\u001b[0;34m(\u001b[0m\u001b[0;34m\"hola\"\u001b[0m\u001b[0;34m)\u001b[0m\u001b[0;34m\u001b[0m\u001b[0;34m\u001b[0m\u001b[0m\n\u001b[0m",
            "\u001b[0;31mNameError\u001b[0m: name 'srint' is not defined"
          ]
        }
      ]
    },
    {
      "cell_type": "markdown",
      "metadata": {
        "id": "PcepMexxYGsX",
        "colab_type": "text"
      },
      "source": [
        "<p>Este error nos muestra: \n",
        "<ol>\n",
        "    <li> donde ocurrió el error (más útil en celdas o scripts de notebook     grandes) y </li>\n",
        "     <li> qué tipo de error fue (NameError)</li>\n",
        "</ol>\n",
        "<p>Python intento correr la funcion <code>srint</code>, pero no pudo determinar que <code>srint</code> es porque no es una función incorporada y tampoco ha sido definida previamente por nosotros.</p>\n",
        "\n",
        "<p>\n",
        "     Notarás que si cometemos un tipo diferente de error, al olvidar cerrar la cadena, obtendremos un error diferente (es decir, un <code> SyntaxError </code>). Pruébalo a continuación:\n",
        "</p>"
      ]
    },
    {
      "cell_type": "code",
      "metadata": {
        "id": "SHKf6tEbX9sV",
        "colab_type": "code",
        "colab": {
          "base_uri": "https://localhost:8080/",
          "height": 132
        },
        "outputId": "53986960-8006-4265-b1b0-f4e679b0e79d"
      },
      "source": [
        "# Veamos el error que hay\n",
        "\n",
        "print(\"Hello, Python!)"
      ],
      "execution_count": 10,
      "outputs": [
        {
          "output_type": "error",
          "ename": "SyntaxError",
          "evalue": "ignored",
          "traceback": [
            "\u001b[0;36m  File \u001b[0;32m\"<ipython-input-10-364f399d4c7c>\"\u001b[0;36m, line \u001b[0;32m2\u001b[0m\n\u001b[0;31m    print(\"Hello, Python!)\u001b[0m\n\u001b[0m                          ^\u001b[0m\n\u001b[0;31mSyntaxError\u001b[0m\u001b[0;31m:\u001b[0m EOL while scanning string literal\n"
          ]
        }
      ]
    },
    {
      "cell_type": "markdown",
      "metadata": {
        "id": "s8DYJUU-ZEMw",
        "colab_type": "text"
      },
      "source": [
        "<h3 id = \"python_error\"> ¿Python conoce nuestro error antes de ejecutar su código? </h3>\n",
        "\n"
      ]
    },
    {
      "cell_type": "markdown",
      "metadata": {
        "id": "zmd0V3z9ZHr0",
        "colab_type": "text"
      },
      "source": [
        "Python es lo que se llama un <em> lenguaje interpretado </em>. Los lenguajes compilados examinan todo su programa en el momento de la compilación y pueden advertirnos sobre toda una clase de errores antes de la ejecución. En contraste, Python interpreta nuestro script línea por línea a medida que lo ejecuta. Python dejará de ejecutar todo el programa cuando encuentre un error (a menos que el programador espere y maneje el error, un tema más avanzado que cubriremos más adelante en este curso)."
      ]
    },
    {
      "cell_type": "markdown",
      "metadata": {
        "id": "OTDYA6F6Zbck",
        "colab_type": "text"
      },
      "source": [
        "Ejecuetmos el codigo y veamos que pasa."
      ]
    },
    {
      "cell_type": "code",
      "metadata": {
        "id": "2WHPNvgcY9Hl",
        "colab_type": "code",
        "colab": {
          "base_uri": "https://localhost:8080/",
          "height": 132
        },
        "outputId": "2dc2e0ed-73d1-4248-a226-e5b6cee4d042"
      },
      "source": [
        "print(\"حاول تشغيل التعليمات البرمجية في الخلية أدناه ومعرفة ما يحدث:\")\n",
        "print(\"Intentemos ejecutar el codigo y veamos que pasa)\n",
        "print(\"嘗試在下面的單元格中運行代碼，看看會發生什麼：\")"
      ],
      "execution_count": 11,
      "outputs": [
        {
          "output_type": "error",
          "ename": "SyntaxError",
          "evalue": "ignored",
          "traceback": [
            "\u001b[0;36m  File \u001b[0;32m\"<ipython-input-11-2c3bd7ea08ce>\"\u001b[0;36m, line \u001b[0;32m2\u001b[0m\n\u001b[0;31m    print(\"Intentemos ejecutar el codigo y veamos que apsa)\u001b[0m\n\u001b[0m                                                           ^\u001b[0m\n\u001b[0;31mSyntaxError\u001b[0m\u001b[0;31m:\u001b[0m EOL while scanning string literal\n"
          ]
        }
      ]
    },
    {
      "cell_type": "markdown",
      "metadata": {
        "id": "kwQaO7x6avub",
        "colab_type": "text"
      },
      "source": [
        "Podemos ver que python nos indica donde esta el error para asi corregirlo , nuestro codigo quedaria asi:"
      ]
    },
    {
      "cell_type": "code",
      "metadata": {
        "id": "CH-dv1XQaov3",
        "colab_type": "code",
        "colab": {
          "base_uri": "https://localhost:8080/",
          "height": 70
        },
        "outputId": "a1a0b697-04a3-45b7-edd4-f3b7ff526f47"
      },
      "source": [
        "print(\"حاول تشغيل التعليمات البرمجية في الخلية أدناه ومعرفة ما يحدث:\")\n",
        "print(\"Intentemos ejecutar el codigo y veamos que pasa\")\n",
        "print(\"嘗試在下面的單元格中運行代碼，看看會發生什麼：\")"
      ],
      "execution_count": 12,
      "outputs": [
        {
          "output_type": "stream",
          "text": [
            "حاول تشغيل التعليمات البرمجية في الخلية أدناه ومعرفة ما يحدث:\n",
            "Intentemos ejecutar el codigo y veamos que pasa\n",
            "嘗試在下面的單元格中運行代碼，看看會發生什麼：\n"
          ],
          "name": "stdout"
        }
      ]
    },
    {
      "cell_type": "markdown",
      "metadata": {
        "id": "jGfvwB7sa8w0",
        "colab_type": "text"
      },
      "source": [
        "<h3 id=\"ejercicio\">Nuestro primer programa</h3>"
      ]
    },
    {
      "cell_type": "markdown",
      "metadata": {
        "id": "ROcIcPBnbGBb",
        "colab_type": "text"
      },
      "source": [
        "<p>Generaciones de programadores al empezar un len guaje de programacion inician con el famoso \"Hola mundo\", ahora nos toca a nosotros.</p>\n",
        "<p>En el codigo de celda, usemos <code>print()</code> para imprimir la frase: <code>Hola, mundo!</code></p>"
      ]
    },
    {
      "cell_type": "code",
      "metadata": {
        "id": "NO2o3LYoa3do",
        "colab_type": "code",
        "colab": {}
      },
      "source": [
        "#Escribe aqui tu primer linea de codigo."
      ],
      "execution_count": 0,
      "outputs": []
    },
    {
      "cell_type": "markdown",
      "metadata": {
        "id": "d6hewst0bnmc",
        "colab_type": "text"
      },
      "source": [
        "Doble-click __aqui__ para ver la solucion.\n",
        "\n",
        "<!-- Tu respuesta es esta::\n",
        "\n",
        "print(\"Hola, mundo\")\n",
        "\n",
        "-->"
      ]
    },
    {
      "cell_type": "markdown",
      "metadata": {
        "id": "965Nl28tb5au",
        "colab_type": "text"
      },
      "source": [
        "<p> Ahora, mejoremos su código con un comentario. En la celda de código a continuación, imprima la frase: <code> ¡Hola, mundo! </code> y coméntalo con la frase <code> Imprima el tradicional hola mundo </code> todo en una línea de código. </ P >"
      ]
    },
    {
      "cell_type": "code",
      "metadata": {
        "id": "3qmkZ8hibkGD",
        "colab_type": "code",
        "colab": {}
      },
      "source": [
        "#Escribe aqui tu respuesta"
      ],
      "execution_count": 0,
      "outputs": []
    },
    {
      "cell_type": "markdown",
      "metadata": {
        "id": "I8fe63Yyb_1V",
        "colab_type": "text"
      },
      "source": [
        "Doble-click __aqui__ para ver la solucion.\n",
        "\n",
        "<!-- Tu respuesta es esta::\n",
        "\n",
        "print(\"Hola, mundo\")Imprima el tradicional hola mundo\n",
        "\n",
        "-->"
      ]
    },
    {
      "cell_type": "markdown",
      "metadata": {
        "id": "nlD5SRgZcLgs",
        "colab_type": "text"
      },
      "source": [
        "<hr>"
      ]
    },
    {
      "cell_type": "markdown",
      "metadata": {
        "id": "hfimcNn-cTKR",
        "colab_type": "text"
      },
      "source": [
        "<h2 id=\"tipos_datos\" align=\"center\">Tipos de objetos en Python</h2>"
      ]
    },
    {
      "cell_type": "markdown",
      "metadata": {
        "id": "xKF-UaQ7ceNd",
        "colab_type": "text"
      },
      "source": [
        "<p> Python es un lenguaje orientado a objetos. Hay muchos tipos diferentes de objetos en Python. Comencemos con los tipos de objetos más comunes: <i> cadenas </i>, <i> enteros </i> y <i> flotantes </i>. Cada vez que escribe palabras (texto) en Python, está utilizando <i> cadenas de caracteres </i> (cadenas para abreviar). Los números más comunes, por otro lado, son <i> enteros </i> (por ejemplo, -1, 0, 100) y <i> flotantes </i>, que representan números reales (por ejemplo, 3.14, -42.0). </p>"
      ]
    },
    {
      "cell_type": "markdown",
      "metadata": {
        "id": "COig0xPkc0XQ",
        "colab_type": "text"
      },
      "source": [
        "**Veamos algunos ejemplos**"
      ]
    },
    {
      "cell_type": "code",
      "metadata": {
        "id": "2ypbiPjQb_PT",
        "colab_type": "code",
        "colab": {}
      },
      "source": [
        "#Entero-Int\n",
        "10\n",
        "#Flotantes-Float\n",
        "10.20\n",
        "#String-Cadenas de caracteres\n",
        "\"Bienvendio\""
      ],
      "execution_count": 0,
      "outputs": []
    },
    {
      "cell_type": "markdown",
      "metadata": {
        "id": "Anjrtg0ddOBL",
        "colab_type": "text"
      },
      "source": [
        "<p> Podemos hacer que Python nos diga el tipo de expresión utilizando la función incorporada <code> type () </code>. Notarás que Python se refiere a los enteros como <code> int </code>, flotantes como <code> float </code> y las cadenas de caracteres como <code> str </code>. </p>"
      ]
    },
    {
      "cell_type": "code",
      "metadata": {
        "id": "IBiTrkz2dHco",
        "colab_type": "code",
        "colab": {
          "base_uri": "https://localhost:8080/",
          "height": 34
        },
        "outputId": "4fe7768d-63e1-4529-b852-aa8b594ed2b6"
      },
      "source": [
        "#tipo 10\n",
        "type(10)\n",
        "\n"
      ],
      "execution_count": 16,
      "outputs": [
        {
          "output_type": "execute_result",
          "data": {
            "text/plain": [
              "str"
            ]
          },
          "metadata": {
            "tags": []
          },
          "execution_count": 16
        }
      ]
    },
    {
      "cell_type": "code",
      "metadata": {
        "id": "XhZ394VXd4a9",
        "colab_type": "code",
        "colab": {
          "base_uri": "https://localhost:8080/",
          "height": 34
        },
        "outputId": "d25871f8-f569-4f2d-affe-247adac2d36f"
      },
      "source": [
        "#tipo 10.42343\n",
        "type(10.42343)"
      ],
      "execution_count": 17,
      "outputs": [
        {
          "output_type": "execute_result",
          "data": {
            "text/plain": [
              "float"
            ]
          },
          "metadata": {
            "tags": []
          },
          "execution_count": 17
        }
      ]
    },
    {
      "cell_type": "code",
      "metadata": {
        "id": "_etdW8wIeJo3",
        "colab_type": "code",
        "colab": {
          "base_uri": "https://localhost:8080/",
          "height": 34
        },
        "outputId": "0962ee3d-0df5-4772-a699-ff18a25e79f3"
      },
      "source": [
        "#tipo \"Esta es una cadena de caracteres\"\n",
        "type(\"Esta es una cadena de caracteres,33829\")"
      ],
      "execution_count": 18,
      "outputs": [
        {
          "output_type": "execute_result",
          "data": {
            "text/plain": [
              "str"
            ]
          },
          "metadata": {
            "tags": []
          },
          "execution_count": 18
        }
      ]
    },
    {
      "cell_type": "markdown",
      "metadata": {
        "id": "t7xOqnZ3eQEN",
        "colab_type": "text"
      },
      "source": [
        "<h3 id=\"int\">Enteros</h3>"
      ]
    },
    {
      "cell_type": "markdown",
      "metadata": {
        "id": "WSLZCobGeS1J",
        "colab_type": "text"
      },
      "source": [
        "Aqui algunos tipos de enteros."
      ]
    },
    {
      "cell_type": "markdown",
      "metadata": {
        "id": "PhwhtFdteVwp",
        "colab_type": "text"
      },
      "source": [
        "<a align=\"center\">\n",
        "    <img src=\"https://external-content.duckduckgo.com/iu/?u=https%3A%2F%2Fi.pinimg.com%2Foriginals%2F42%2Fa3%2F04%2F42a30433e6ed7eecbb71758f3acbb62e.png&f=1&nofb=1\" width=\"600\">\n",
        "</a>"
      ]
    },
    {
      "cell_type": "markdown",
      "metadata": {
        "id": "LtfagZdFerfh",
        "colab_type": "text"
      },
      "source": [
        "<p>Podemos verificar que es cierto con la funcion <code>type()</code> funcion:"
      ]
    },
    {
      "cell_type": "code",
      "metadata": {
        "id": "yFn7RfiqeKjq",
        "colab_type": "code",
        "colab": {
          "base_uri": "https://localhost:8080/",
          "height": 34
        },
        "outputId": "47c6da3f-8f40-4c98-b323-1d4b26d2f6ff"
      },
      "source": [
        "type(-3)"
      ],
      "execution_count": 19,
      "outputs": [
        {
          "output_type": "execute_result",
          "data": {
            "text/plain": [
              "int"
            ]
          },
          "metadata": {
            "tags": []
          },
          "execution_count": 19
        }
      ]
    },
    {
      "cell_type": "code",
      "metadata": {
        "id": "07yB5IO4eytx",
        "colab_type": "code",
        "colab": {
          "base_uri": "https://localhost:8080/",
          "height": 34
        },
        "outputId": "7d153d41-1288-4d77-8742-526b851ad186"
      },
      "source": [
        "type(-2)"
      ],
      "execution_count": 20,
      "outputs": [
        {
          "output_type": "execute_result",
          "data": {
            "text/plain": [
              "int"
            ]
          },
          "metadata": {
            "tags": []
          },
          "execution_count": 20
        }
      ]
    },
    {
      "cell_type": "code",
      "metadata": {
        "id": "KvuRZC0xe0o5",
        "colab_type": "code",
        "colab": {
          "base_uri": "https://localhost:8080/",
          "height": 34
        },
        "outputId": "b3e2e497-cc9f-439e-dac0-5f99b7d5f0dd"
      },
      "source": [
        "type(-1)"
      ],
      "execution_count": 21,
      "outputs": [
        {
          "output_type": "execute_result",
          "data": {
            "text/plain": [
              "int"
            ]
          },
          "metadata": {
            "tags": []
          },
          "execution_count": 21
        }
      ]
    },
    {
      "cell_type": "code",
      "metadata": {
        "id": "fXIAARWze2Cn",
        "colab_type": "code",
        "colab": {
          "base_uri": "https://localhost:8080/",
          "height": 34
        },
        "outputId": "2a2122ae-a7eb-42ca-efae-0a0f3fab6ad6"
      },
      "source": [
        "type(1)"
      ],
      "execution_count": 22,
      "outputs": [
        {
          "output_type": "execute_result",
          "data": {
            "text/plain": [
              "int"
            ]
          },
          "metadata": {
            "tags": []
          },
          "execution_count": 22
        }
      ]
    },
    {
      "cell_type": "code",
      "metadata": {
        "id": "ygpotGEKe28v",
        "colab_type": "code",
        "colab": {
          "base_uri": "https://localhost:8080/",
          "height": 34
        },
        "outputId": "62d9e179-e46d-494e-bd8d-e38275f8cd9d"
      },
      "source": [
        "type(2)"
      ],
      "execution_count": 23,
      "outputs": [
        {
          "output_type": "execute_result",
          "data": {
            "text/plain": [
              "int"
            ]
          },
          "metadata": {
            "tags": []
          },
          "execution_count": 23
        }
      ]
    },
    {
      "cell_type": "code",
      "metadata": {
        "id": "XeS-zb1Be34G",
        "colab_type": "code",
        "colab": {
          "base_uri": "https://localhost:8080/",
          "height": 34
        },
        "outputId": "7e4bfdc2-2e1f-47d9-f28f-4302c084b5b0"
      },
      "source": [
        "type(3)"
      ],
      "execution_count": 24,
      "outputs": [
        {
          "output_type": "execute_result",
          "data": {
            "text/plain": [
              "int"
            ]
          },
          "metadata": {
            "tags": []
          },
          "execution_count": 24
        }
      ]
    },
    {
      "cell_type": "markdown",
      "metadata": {
        "id": "2PtGm53Ve-ad",
        "colab_type": "text"
      },
      "source": [
        "<h3 id=\"float\">Flotantes</h3> "
      ]
    },
    {
      "cell_type": "markdown",
      "metadata": {
        "id": "mvr3T41ifAw2",
        "colab_type": "text"
      },
      "source": [
        "<p> Los flotantes representan números reales; son un superconjunto de números enteros pero también incluyen \"números con decimales\". Existen algunas limitaciones cuando se trata de máquinas que representan números reales, pero los números de coma flotante son una buena representación en la mayoría de los casos. Puedes obtener más información sobre los detalles de los flotadores para tu entorno de tiempo de ejecución, verificando el valor de <code> sys.float_info </code>. Esto también le dirá cuál es el número más grande y más pequeño que se puede representar con ellos. </p>\n",
        "\n",
        "<p> Una vez más, puede probar algunos ejemplos con la función <code> type () </code>:"
      ]
    },
    {
      "cell_type": "code",
      "metadata": {
        "id": "xwZlMW_7e4kA",
        "colab_type": "code",
        "colab": {
          "base_uri": "https://localhost:8080/",
          "height": 34
        },
        "outputId": "fb07a04d-5239-44c0-dac9-9ca6a6bd2088"
      },
      "source": [
        "type(12.4)"
      ],
      "execution_count": 26,
      "outputs": [
        {
          "output_type": "execute_result",
          "data": {
            "text/plain": [
              "float"
            ]
          },
          "metadata": {
            "tags": []
          },
          "execution_count": 26
        }
      ]
    },
    {
      "cell_type": "code",
      "metadata": {
        "id": "L4wByVo6fR2M",
        "colab_type": "code",
        "colab": {
          "base_uri": "https://localhost:8080/",
          "height": 34
        },
        "outputId": "ecc21b1c-df34-4a80-9a45-634eadf932b2"
      },
      "source": [
        "type(-232.4)"
      ],
      "execution_count": 27,
      "outputs": [
        {
          "output_type": "execute_result",
          "data": {
            "text/plain": [
              "float"
            ]
          },
          "metadata": {
            "tags": []
          },
          "execution_count": 27
        }
      ]
    },
    {
      "cell_type": "code",
      "metadata": {
        "id": "aYEaBhx6fVGV",
        "colab_type": "code",
        "colab": {
          "base_uri": "https://localhost:8080/",
          "height": 34
        },
        "outputId": "a8865314-bd79-4abe-cd42-d02c749ce46c"
      },
      "source": [
        "type(1.1)"
      ],
      "execution_count": 28,
      "outputs": [
        {
          "output_type": "execute_result",
          "data": {
            "text/plain": [
              "float"
            ]
          },
          "metadata": {
            "tags": []
          },
          "execution_count": 28
        }
      ]
    },
    {
      "cell_type": "code",
      "metadata": {
        "id": "-bfymEAFfXXs",
        "colab_type": "code",
        "colab": {
          "base_uri": "https://localhost:8080/",
          "height": 54
        },
        "outputId": "78bcb2e7-f7aa-4793-84e4-f7c98adcb48e"
      },
      "source": [
        "# Configuración del sistema sobre el tipo de objeto float\n",
        "sys.float_info"
      ],
      "execution_count": 30,
      "outputs": [
        {
          "output_type": "execute_result",
          "data": {
            "text/plain": [
              "sys.float_info(max=1.7976931348623157e+308, max_exp=1024, max_10_exp=308, min=2.2250738585072014e-308, min_exp=-1021, min_10_exp=-307, dig=15, mant_dig=53, epsilon=2.220446049250313e-16, radix=2, rounds=1)"
            ]
          },
          "metadata": {
            "tags": []
          },
          "execution_count": 30
        }
      ]
    },
    {
      "cell_type": "markdown",
      "metadata": {
        "id": "zFhadPmWfpRE",
        "colab_type": "text"
      },
      "source": [
        "<h3 id=\"convertir\">Convertir un tipo de objeto a otro</h3>"
      ]
    },
    {
      "cell_type": "markdown",
      "metadata": {
        "id": "IvviC7TLf1sj",
        "colab_type": "text"
      },
      "source": [
        "<p> Puedes cambiar el tipo de objeto en Python; Esto se llama encasillamiento. Por ejemplo, puede convertir un <i> entero </i> en un <i> flotante </i> (por ejemplo, 2 a 2.0). </p>\n",
        "<p> Probémoslo: </p>"
      ]
    },
    {
      "cell_type": "code",
      "metadata": {
        "id": "lSsN63WFfYR0",
        "colab_type": "code",
        "colab": {
          "base_uri": "https://localhost:8080/",
          "height": 34
        },
        "outputId": "4d596535-2cae-4eb8-9fa9-0efe714da131"
      },
      "source": [
        "# Convertimos 2 a float\n",
        "\n",
        "float(2)"
      ],
      "execution_count": 31,
      "outputs": [
        {
          "output_type": "execute_result",
          "data": {
            "text/plain": [
              "2.0"
            ]
          },
          "metadata": {
            "tags": []
          },
          "execution_count": 31
        }
      ]
    },
    {
      "cell_type": "code",
      "metadata": {
        "id": "Ya9yEaXfhK-7",
        "colab_type": "code",
        "colab": {
          "base_uri": "https://localhost:8080/",
          "height": 34
        },
        "outputId": "5fcfb501-08fb-4902-a98e-858f0a12641d"
      },
      "source": [
        "# Convertimos de entero a flotante y consultamos el tipo de dato\n",
        "\n",
        "type(float(2))"
      ],
      "execution_count": 32,
      "outputs": [
        {
          "output_type": "execute_result",
          "data": {
            "text/plain": [
              "float"
            ]
          },
          "metadata": {
            "tags": []
          },
          "execution_count": 32
        }
      ]
    },
    {
      "cell_type": "markdown",
      "metadata": {
        "id": "xf5Nfr0ChaRg",
        "colab_type": "text"
      },
      "source": [
        "<p> Cuando convertimos un número entero en un flotante, realmente no cambiamos el valor (es decir, el significado) del número. Sin embargo, si lanzamos un flotante a un entero, podríamos perder algo de información. Por ejemplo, si lanzamos el flotante 1.1 a entero obtendremos 1 y perderemos la información decimal (es decir, 0.1): </p>"
      ]
    },
    {
      "cell_type": "code",
      "metadata": {
        "id": "ZTRjl4x1hUk2",
        "colab_type": "code",
        "colab": {
          "base_uri": "https://localhost:8080/",
          "height": 34
        },
        "outputId": "c6981486-1213-4b79-a42b-26eafe624c54"
      },
      "source": [
        "# Veamos el siguiente ejemplo\n",
        "\n",
        "int(1.1)"
      ],
      "execution_count": 33,
      "outputs": [
        {
          "output_type": "execute_result",
          "data": {
            "text/plain": [
              "1"
            ]
          },
          "metadata": {
            "tags": []
          },
          "execution_count": 33
        }
      ]
    },
    {
      "cell_type": "markdown",
      "metadata": {
        "id": "mlojaqBXhm9R",
        "colab_type": "text"
      },
      "source": [
        "<h4>Convertir de strings a flotantes o enteros</h4>\n",
        "\n",
        "<p> A veces, podemos tener una cadena que contiene un número dentro de ella. Si este es el caso, podemos convertir esa cadena que representa un número en un entero usando <code> int () </code>: </p>"
      ]
    },
    {
      "cell_type": "code",
      "metadata": {
        "id": "_nwpVj2Yhjr6",
        "colab_type": "code",
        "colab": {
          "base_uri": "https://localhost:8080/",
          "height": 34
        },
        "outputId": "30afeca6-4994-4650-b3a4-2e9a0d9a8d3d"
      },
      "source": [
        "#Convertimos de string a tipo entero\n",
        "\n",
        "int('1')"
      ],
      "execution_count": 34,
      "outputs": [
        {
          "output_type": "execute_result",
          "data": {
            "text/plain": [
              "1"
            ]
          },
          "metadata": {
            "tags": []
          },
          "execution_count": 34
        }
      ]
    },
    {
      "cell_type": "markdown",
      "metadata": {
        "id": "e3ILAxbhh8zR",
        "colab_type": "text"
      },
      "source": [
        "<p> Pero si intentas hacerlo con una cadena que no coincide perfectamente con un número, obtendrás un error. Prueba lo siguiente: </p>"
      ]
    },
    {
      "cell_type": "code",
      "metadata": {
        "id": "LaR-zWurh3kF",
        "colab_type": "code",
        "colab": {
          "base_uri": "https://localhost:8080/",
          "height": 167
        },
        "outputId": "0f4f0e5a-84a7-4b75-95c5-8bd9203a078e"
      },
      "source": [
        "int('1 manzana 2 peras')"
      ],
      "execution_count": 35,
      "outputs": [
        {
          "output_type": "error",
          "ename": "ValueError",
          "evalue": "ignored",
          "traceback": [
            "\u001b[0;31m---------------------------------------------------------------------------\u001b[0m",
            "\u001b[0;31mValueError\u001b[0m                                Traceback (most recent call last)",
            "\u001b[0;32m<ipython-input-35-aa2bf1cb5786>\u001b[0m in \u001b[0;36m<module>\u001b[0;34m()\u001b[0m\n\u001b[0;32m----> 1\u001b[0;31m \u001b[0mint\u001b[0m\u001b[0;34m(\u001b[0m\u001b[0;34m'1 manzana 2 peras'\u001b[0m\u001b[0;34m)\u001b[0m\u001b[0;34m\u001b[0m\u001b[0;34m\u001b[0m\u001b[0m\n\u001b[0m",
            "\u001b[0;31mValueError\u001b[0m: invalid literal for int() with base 10: '1 manzana 2 peras'"
          ]
        }
      ]
    },
    {
      "cell_type": "markdown",
      "metadata": {
        "id": "1np3Vwq0iIhS",
        "colab_type": "text"
      },
      "source": [
        "<p> También puede convertir cadenas que contienen números de coma flotante en objetos <i> float </i>: </p>"
      ]
    },
    {
      "cell_type": "code",
      "metadata": {
        "id": "t9sMk75giB19",
        "colab_type": "code",
        "colab": {
          "base_uri": "https://localhost:8080/",
          "height": 34
        },
        "outputId": "8b26b708-3212-4a41-a35c-35afc9f9d7e8"
      },
      "source": [
        "float('20.5')"
      ],
      "execution_count": 36,
      "outputs": [
        {
          "output_type": "execute_result",
          "data": {
            "text/plain": [
              "20.5"
            ]
          },
          "metadata": {
            "tags": []
          },
          "execution_count": 36
        }
      ]
    },
    {
      "cell_type": "markdown",
      "metadata": {
        "id": "Bj6UWcRsiSs-",
        "colab_type": "text"
      },
      "source": [
        " <hr />\n",
        "<div class = \"alert alert-success alertuccess\" style = \"margin-top: 20px\">\n",
        "     [Sugerencia:] Ten en cuenta que las cadenas se pueden representar con comillas simples (<code> '1.2' </code>) o comillas dobles (<code> \"1.2\" </code>), pero no puede mezclar ambas (p. Ej. , <code> \"1.2 '</code>).\n",
        "</div>\n",
        "<hr />"
      ]
    },
    {
      "cell_type": "markdown",
      "metadata": {
        "id": "4i9QTNlficpL",
        "colab_type": "text"
      },
      "source": [
        "<h4>Conviritendo numeros a strings</h4>"
      ]
    },
    {
      "cell_type": "markdown",
      "metadata": {
        "id": "8c9DW6DsimqK",
        "colab_type": "text"
      },
      "source": [
        "<p> Si podemos convertir cadenas en números, es natural suponer que podemos convertir números en cadenas, ¿verdad? </p>"
      ]
    },
    {
      "cell_type": "code",
      "metadata": {
        "id": "f3DB_RayiNqu",
        "colab_type": "code",
        "colab": {
          "base_uri": "https://localhost:8080/",
          "height": 34
        },
        "outputId": "3df83061-64d5-4af2-d77c-9c68315d105a"
      },
      "source": [
        "str(1)"
      ],
      "execution_count": 37,
      "outputs": [
        {
          "output_type": "execute_result",
          "data": {
            "text/plain": [
              "'1'"
            ]
          },
          "metadata": {
            "tags": []
          },
          "execution_count": 37
        }
      ]
    },
    {
      "cell_type": "code",
      "metadata": {
        "id": "hZSyNS0nirY7",
        "colab_type": "code",
        "colab": {
          "base_uri": "https://localhost:8080/",
          "height": 34
        },
        "outputId": "4f230e41-a0b4-4f90-b8e5-aa0493dec996"
      },
      "source": [
        "str(1.34)"
      ],
      "execution_count": 38,
      "outputs": [
        {
          "output_type": "execute_result",
          "data": {
            "text/plain": [
              "'1.34'"
            ]
          },
          "metadata": {
            "tags": []
          },
          "execution_count": 38
        }
      ]
    },
    {
      "cell_type": "markdown",
      "metadata": {
        "id": "VNIG_5izivhn",
        "colab_type": "text"
      },
      "source": [
        "<h3 id=\"bool\">Tipos de objetos Booleanos</h3>"
      ]
    },
    {
      "cell_type": "markdown",
      "metadata": {
        "id": "vsd5-61di6yA",
        "colab_type": "text"
      },
      "source": [
        "<p> <i> Booleano </i> es otro tipo importante en Python. Un objeto de tipo <i> Booleano </i> puede tomar uno de dos valores: <code> True </code> o <code> False </code>: </p>"
      ]
    },
    {
      "cell_type": "code",
      "metadata": {
        "id": "22ok5iNkiszE",
        "colab_type": "code",
        "colab": {
          "base_uri": "https://localhost:8080/",
          "height": 34
        },
        "outputId": "7a34e89a-9963-4f16-98e1-c0bda88c429a"
      },
      "source": [
        "True"
      ],
      "execution_count": 39,
      "outputs": [
        {
          "output_type": "execute_result",
          "data": {
            "text/plain": [
              "True"
            ]
          },
          "metadata": {
            "tags": []
          },
          "execution_count": 39
        }
      ]
    },
    {
      "cell_type": "markdown",
      "metadata": {
        "id": "Gjmm9YXajGwQ",
        "colab_type": "text"
      },
      "source": [
        "<p> Observa que el valor <code> True </code> tiene una \"T\" mayúscula. Lo mismo es cierto para <code> False </code> (es decir, debe usar la \"F\" mayúscula). </p>"
      ]
    },
    {
      "cell_type": "code",
      "metadata": {
        "id": "cSz7i0QQjACr",
        "colab_type": "code",
        "colab": {
          "base_uri": "https://localhost:8080/",
          "height": 34
        },
        "outputId": "1605942b-a228-4182-fdc0-f9f89af6ec7f"
      },
      "source": [
        "False"
      ],
      "execution_count": 40,
      "outputs": [
        {
          "output_type": "execute_result",
          "data": {
            "text/plain": [
              "False"
            ]
          },
          "metadata": {
            "tags": []
          },
          "execution_count": 40
        }
      ]
    },
    {
      "cell_type": "markdown",
      "metadata": {
        "id": "p2qldgjijNUE",
        "colab_type": "text"
      },
      "source": [
        "Consultemos el tipo de objeto al cual pertenecen."
      ]
    },
    {
      "cell_type": "code",
      "metadata": {
        "id": "xFYj1aYrjKr4",
        "colab_type": "code",
        "colab": {
          "base_uri": "https://localhost:8080/",
          "height": 34
        },
        "outputId": "bf07f539-9c9e-4b4e-fc47-747edfce7e7d"
      },
      "source": [
        "type(True)"
      ],
      "execution_count": 41,
      "outputs": [
        {
          "output_type": "execute_result",
          "data": {
            "text/plain": [
              "bool"
            ]
          },
          "metadata": {
            "tags": []
          },
          "execution_count": 41
        }
      ]
    },
    {
      "cell_type": "code",
      "metadata": {
        "id": "8zJ-LOkvjQ7Q",
        "colab_type": "code",
        "colab": {
          "base_uri": "https://localhost:8080/",
          "height": 34
        },
        "outputId": "d33a0e36-4d5b-4a92-e608-d968e56c038d"
      },
      "source": [
        "type(False)"
      ],
      "execution_count": 42,
      "outputs": [
        {
          "output_type": "execute_result",
          "data": {
            "text/plain": [
              "bool"
            ]
          },
          "metadata": {
            "tags": []
          },
          "execution_count": 42
        }
      ]
    },
    {
      "cell_type": "markdown",
      "metadata": {
        "id": "P3el2liCjaTD",
        "colab_type": "text"
      },
      "source": [
        "<p> Podemos convertir objetos booleanos a otros tipos de datos. Si lanzamos un valor booleano con un valor de <code> True </code> a un entero o flotante, obtendremos uno. Si lanzamos un booleano con un valor de <code> False </code> a un entero o flotante, obtendremos un cero. Del mismo modo, si lanzamos un 1 a un booleano, obtendrá un <code> True </code>. Y si lanzamos un 0 a un booleano, obtendremos un <code> False </code>. Vamos a intentarlo: </p>"
      ]
    },
    {
      "cell_type": "code",
      "metadata": {
        "id": "qVhanvN0jS0c",
        "colab_type": "code",
        "colab": {
          "base_uri": "https://localhost:8080/",
          "height": 34
        },
        "outputId": "846aa19b-eec9-4e60-a0d0-414881c163b2"
      },
      "source": [
        "\n",
        "int(True)"
      ],
      "execution_count": 43,
      "outputs": [
        {
          "output_type": "execute_result",
          "data": {
            "text/plain": [
              "1"
            ]
          },
          "metadata": {
            "tags": []
          },
          "execution_count": 43
        }
      ]
    },
    {
      "cell_type": "code",
      "metadata": {
        "id": "kw1-Kwnujfq4",
        "colab_type": "code",
        "colab": {
          "base_uri": "https://localhost:8080/",
          "height": 34
        },
        "outputId": "4bc70685-1cb7-48c2-9548-7c6138ab711a"
      },
      "source": [
        "bool(1)"
      ],
      "execution_count": 44,
      "outputs": [
        {
          "output_type": "execute_result",
          "data": {
            "text/plain": [
              "True"
            ]
          },
          "metadata": {
            "tags": []
          },
          "execution_count": 44
        }
      ]
    },
    {
      "cell_type": "code",
      "metadata": {
        "id": "uTdQRYIUjg1E",
        "colab_type": "code",
        "colab": {
          "base_uri": "https://localhost:8080/",
          "height": 34
        },
        "outputId": "f41abea7-f7a3-4ed0-adc6-9f1ad28b1b4e"
      },
      "source": [
        "int(False)"
      ],
      "execution_count": 45,
      "outputs": [
        {
          "output_type": "execute_result",
          "data": {
            "text/plain": [
              "0"
            ]
          },
          "metadata": {
            "tags": []
          },
          "execution_count": 45
        }
      ]
    },
    {
      "cell_type": "code",
      "metadata": {
        "id": "IahypeBcjiZp",
        "colab_type": "code",
        "colab": {
          "base_uri": "https://localhost:8080/",
          "height": 34
        },
        "outputId": "ff591850-90d2-47a5-f81d-2fd9bd7e3632"
      },
      "source": [
        "bool(0)"
      ],
      "execution_count": 46,
      "outputs": [
        {
          "output_type": "execute_result",
          "data": {
            "text/plain": [
              "False"
            ]
          },
          "metadata": {
            "tags": []
          },
          "execution_count": 46
        }
      ]
    },
    {
      "cell_type": "markdown",
      "metadata": {
        "id": "N4s1ZcRRj7L-",
        "colab_type": "text"
      },
      "source": [
        "<h3 id=\"ej:tipo\">Ejercicio</h3>"
      ]
    },
    {
      "cell_type": "markdown",
      "metadata": {
        "id": "jct1XsfZkHsz",
        "colab_type": "text"
      },
      "source": [
        "<p>Que tipo de dato resulta de: <code>6 / 2</code>?</p>"
      ]
    },
    {
      "cell_type": "code",
      "metadata": {
        "id": "oKziWyenjkTY",
        "colab_type": "code",
        "colab": {}
      },
      "source": [
        "# Escriba su código a continuación. No olvides presionar Shift + Enter para ejecutar la celda"
      ],
      "execution_count": 0,
      "outputs": []
    },
    {
      "cell_type": "markdown",
      "metadata": {
        "id": "glylGUGFkQv8",
        "colab_type": "text"
      },
      "source": [
        "Doble-click __aqui__ para ver la solucion.\n",
        "\n",
        "<!-- Tu respuesta es esta::\n",
        "type(6/2) # float\n",
        "-->"
      ]
    },
    {
      "cell_type": "markdown",
      "metadata": {
        "id": "sxSZeVIEkf1y",
        "colab_type": "text"
      },
      "source": [
        "<p> ¿Cuál es el tipo de resultado de: <code> 6 // 2 </code>? (Tenga en cuenta la barra doble <code> // </code>.) </p>"
      ]
    },
    {
      "cell_type": "code",
      "metadata": {
        "id": "CE4ne1CUkQB8",
        "colab_type": "code",
        "colab": {}
      },
      "source": [
        "#Escribe aqui tu solucion\n"
      ],
      "execution_count": 0,
      "outputs": []
    },
    {
      "cell_type": "markdown",
      "metadata": {
        "id": "ODvumby4km4E",
        "colab_type": "text"
      },
      "source": [
        "Doble-click __aqui__ para ver la solucion.\n",
        "\n",
        "<!-- Tu respuesta es esta::\n",
        "type(6//2) # Int\n",
        "-->"
      ]
    },
    {
      "cell_type": "markdown",
      "metadata": {
        "id": "YqhFlAW9kwCT",
        "colab_type": "text"
      },
      "source": [
        "<hr>"
      ]
    },
    {
      "cell_type": "markdown",
      "metadata": {
        "id": "w8-2yAIjk0Dy",
        "colab_type": "text"
      },
      "source": [
        "<h2 id=\"expresiones\">Expresiones & Variables</h2>"
      ]
    },
    {
      "cell_type": "markdown",
      "metadata": {
        "id": "pnGLWkfCk35B",
        "colab_type": "text"
      },
      "source": [
        "<p> Las expresiones en Python pueden incluir operaciones entre tipos compatibles (por ejemplo, enteros y flotantes). Por ejemplo, operaciones aritméticas básicas como agregar múltiples números: </p>"
      ]
    },
    {
      "cell_type": "code",
      "metadata": {
        "id": "0M1Dy4lrkjjC",
        "colab_type": "code",
        "colab": {
          "base_uri": "https://localhost:8080/",
          "height": 34
        },
        "outputId": "021584ba-1885-43ad-9832-1bdb1f51b4f2"
      },
      "source": [
        "20+30+23.5+34"
      ],
      "execution_count": 50,
      "outputs": [
        {
          "output_type": "execute_result",
          "data": {
            "text/plain": [
              "107.5"
            ]
          },
          "metadata": {
            "tags": []
          },
          "execution_count": 50
        }
      ]
    },
    {
      "cell_type": "markdown",
      "metadata": {
        "id": "Ton0zGN1lC4r",
        "colab_type": "text"
      },
      "source": [
        "<p> Podemos realizar operaciones de resta usando el operador menos. En este caso, el resultado es un número negativo: </p>"
      ]
    },
    {
      "cell_type": "code",
      "metadata": {
        "id": "XmK3Lw_ek-dy",
        "colab_type": "code",
        "colab": {
          "base_uri": "https://localhost:8080/",
          "height": 34
        },
        "outputId": "b84fe714-6986-4676-b655-24e585772dbd"
      },
      "source": [
        "50-90"
      ],
      "execution_count": 51,
      "outputs": [
        {
          "output_type": "execute_result",
          "data": {
            "text/plain": [
              "-40"
            ]
          },
          "metadata": {
            "tags": []
          },
          "execution_count": 51
        }
      ]
    },
    {
      "cell_type": "markdown",
      "metadata": {
        "id": "bYs4dMFdlI5k",
        "colab_type": "text"
      },
      "source": [
        "Podemos realizar operaciones de multipliacion usando el operador *"
      ]
    },
    {
      "cell_type": "code",
      "metadata": {
        "id": "Rtha91HUlE-W",
        "colab_type": "code",
        "colab": {
          "base_uri": "https://localhost:8080/",
          "height": 34
        },
        "outputId": "f5aa5969-037a-4006-fe54-64484441fac6"
      },
      "source": [
        "20*100"
      ],
      "execution_count": 52,
      "outputs": [
        {
          "output_type": "execute_result",
          "data": {
            "text/plain": [
              "2000"
            ]
          },
          "metadata": {
            "tags": []
          },
          "execution_count": 52
        }
      ]
    },
    {
      "cell_type": "markdown",
      "metadata": {
        "id": "cH4jjALrlQvo",
        "colab_type": "text"
      },
      "source": [
        "Podemos usar el operador de division / para hacer divisiones"
      ]
    },
    {
      "cell_type": "code",
      "metadata": {
        "id": "hAGQf1nVlOEb",
        "colab_type": "code",
        "colab": {
          "base_uri": "https://localhost:8080/",
          "height": 34
        },
        "outputId": "3eaf3605-406b-4d24-cff1-9d3fb4c5b363"
      },
      "source": [
        "10/2"
      ],
      "execution_count": 53,
      "outputs": [
        {
          "output_type": "execute_result",
          "data": {
            "text/plain": [
              "5.0"
            ]
          },
          "metadata": {
            "tags": []
          },
          "execution_count": 53
        }
      ]
    },
    {
      "cell_type": "code",
      "metadata": {
        "id": "gqhS1jVhlbfm",
        "colab_type": "code",
        "colab": {
          "base_uri": "https://localhost:8080/",
          "height": 34
        },
        "outputId": "0a3b496f-8169-44cd-f2d3-f215e08c23e5"
      },
      "source": [
        "1000/.2"
      ],
      "execution_count": 54,
      "outputs": [
        {
          "output_type": "execute_result",
          "data": {
            "text/plain": [
              "5000.0"
            ]
          },
          "metadata": {
            "tags": []
          },
          "execution_count": 54
        }
      ]
    },
    {
      "cell_type": "markdown",
      "metadata": {
        "id": "e3x2fSCUlnN_",
        "colab_type": "text"
      },
      "source": [
        "<p> Como se ve en la prueba anterior, podemos usar la barra doble para la división de enteros, donde el resultado se redondea al entero más cercano:"
      ]
    },
    {
      "cell_type": "code",
      "metadata": {
        "id": "4IiYNo3glpGH",
        "colab_type": "code",
        "colab": {
          "base_uri": "https://localhost:8080/",
          "height": 34
        },
        "outputId": "f9e78a9f-5ab1-4f34-ced9-7ecbb717c1bc"
      },
      "source": [
        "24//8"
      ],
      "execution_count": 55,
      "outputs": [
        {
          "output_type": "execute_result",
          "data": {
            "text/plain": [
              "3"
            ]
          },
          "metadata": {
            "tags": []
          },
          "execution_count": 55
        }
      ]
    },
    {
      "cell_type": "code",
      "metadata": {
        "id": "lbhc_X80ltMF",
        "colab_type": "code",
        "colab": {
          "base_uri": "https://localhost:8080/",
          "height": 34
        },
        "outputId": "f96c2816-01f6-431d-c13f-28a2ce02918a"
      },
      "source": [
        "24//7"
      ],
      "execution_count": 56,
      "outputs": [
        {
          "output_type": "execute_result",
          "data": {
            "text/plain": [
              "3"
            ]
          },
          "metadata": {
            "tags": []
          },
          "execution_count": 56
        }
      ]
    },
    {
      "cell_type": "code",
      "metadata": {
        "id": "xsSltKxNluvx",
        "colab_type": "code",
        "colab": {
          "base_uri": "https://localhost:8080/",
          "height": 34
        },
        "outputId": "da289cae-3d76-4ae9-e061-072cc0673711"
      },
      "source": [
        "36//9"
      ],
      "execution_count": 57,
      "outputs": [
        {
          "output_type": "execute_result",
          "data": {
            "text/plain": [
              "4"
            ]
          },
          "metadata": {
            "tags": []
          },
          "execution_count": 57
        }
      ]
    },
    {
      "cell_type": "code",
      "metadata": {
        "id": "lozDkCdQlwxa",
        "colab_type": "code",
        "colab": {
          "base_uri": "https://localhost:8080/",
          "height": 34
        },
        "outputId": "aaeb5f22-f03e-43f3-d802-3b263fd7d67c"
      },
      "source": [
        "36//7"
      ],
      "execution_count": 58,
      "outputs": [
        {
          "output_type": "execute_result",
          "data": {
            "text/plain": [
              "5"
            ]
          },
          "metadata": {
            "tags": []
          },
          "execution_count": 58
        }
      ]
    },
    {
      "cell_type": "markdown",
      "metadata": {
        "id": "2uL8MWdSl2Yq",
        "colab_type": "text"
      },
      "source": [
        "<h3 id=\"ej_exp\">Ejercicio: Expresiones</h3>"
      ]
    },
    {
      "cell_type": "markdown",
      "metadata": {
        "id": "YlHbmoDvmGeG",
        "colab_type": "text"
      },
      "source": [
        "<p> Escribamos una expresión que calcule cuántas horas hay en 160 minutos:"
      ]
    },
    {
      "cell_type": "code",
      "metadata": {
        "id": "FY3Mcidnlypv",
        "colab_type": "code",
        "colab": {}
      },
      "source": [
        "#Escribe aqui tu solucion"
      ],
      "execution_count": 0,
      "outputs": []
    },
    {
      "cell_type": "markdown",
      "metadata": {
        "id": "3IH1dRSEmKCU",
        "colab_type": "text"
      },
      "source": [
        "Doble-click __aqui__ para ver la solucion.\n",
        "\n",
        "<!-- Tu respuesta es sta:\n",
        "160/60 \n",
        "# O\n",
        "160//60\n",
        "-->"
      ]
    },
    {
      "cell_type": "markdown",
      "metadata": {
        "id": "L4JvwdtumbF-",
        "colab_type": "text"
      },
      "source": [
        "<h3 id=\"var\">Variables</h3>"
      ]
    },
    {
      "cell_type": "markdown",
      "metadata": {
        "id": "SF41YKYRmc1l",
        "colab_type": "text"
      },
      "source": [
        "<p> Al igual que con la mayoría de los lenguajes de programación, podemos almacenar valores en <i> variables </i>, para poder usarlos más adelante. Por ejemplo: </p>"
      ]
    },
    {
      "cell_type": "code",
      "metadata": {
        "id": "Azx4xVW_mJdR",
        "colab_type": "code",
        "colab": {}
      },
      "source": [
        "#Almacenamos la suma en la variable x\n",
        "x = 10+20+30+40+50"
      ],
      "execution_count": 0,
      "outputs": []
    },
    {
      "cell_type": "markdown",
      "metadata": {
        "id": "zpi_imwpnAOx",
        "colab_type": "text"
      },
      "source": [
        "<p> Para ver el valor de <code> x </code> en tu cuaderno, simplemente poduedes colocarlo en la última línea de una celda: </p>"
      ]
    },
    {
      "cell_type": "code",
      "metadata": {
        "id": "5Ja5SFhKm3V6",
        "colab_type": "code",
        "colab": {
          "base_uri": "https://localhost:8080/",
          "height": 34
        },
        "outputId": "29926e7b-6b6b-4c50-d62d-b9f89e031a84"
      },
      "source": [
        "#Vemos el valor de x\n",
        "x"
      ],
      "execution_count": 62,
      "outputs": [
        {
          "output_type": "execute_result",
          "data": {
            "text/plain": [
              "150"
            ]
          },
          "metadata": {
            "tags": []
          },
          "execution_count": 62
        }
      ]
    },
    {
      "cell_type": "markdown",
      "metadata": {
        "id": "-UUtID3mnKKI",
        "colab_type": "text"
      },
      "source": [
        "<p> También podemos realizar operaciones en <code> x </code> y guardar el resultado en una nueva variable: </p>"
      ]
    },
    {
      "cell_type": "code",
      "metadata": {
        "id": "paq0lE7UnFVr",
        "colab_type": "code",
        "colab": {
          "base_uri": "https://localhost:8080/",
          "height": 34
        },
        "outputId": "a2a0ab74-7cec-454d-b331-59a7179f7063"
      },
      "source": [
        "w = x*10\n",
        "w"
      ],
      "execution_count": 63,
      "outputs": [
        {
          "output_type": "execute_result",
          "data": {
            "text/plain": [
              "1500"
            ]
          },
          "metadata": {
            "tags": []
          },
          "execution_count": 63
        }
      ]
    },
    {
      "cell_type": "markdown",
      "metadata": {
        "id": "Lj5Co3_Xnawc",
        "colab_type": "text"
      },
      "source": [
        "<p> Si guardamos un valor en una variable existente, el nuevo valor sobrescribirá el valor anterior: </p>"
      ]
    },
    {
      "cell_type": "code",
      "metadata": {
        "id": "auLyGWYYnMmL",
        "colab_type": "code",
        "colab": {
          "base_uri": "https://localhost:8080/",
          "height": 34
        },
        "outputId": "54770446-a906-4b1d-c033-e6686feb9133"
      },
      "source": [
        "x = x/2\n",
        "x"
      ],
      "execution_count": 64,
      "outputs": [
        {
          "output_type": "execute_result",
          "data": {
            "text/plain": [
              "75.0"
            ]
          },
          "metadata": {
            "tags": []
          },
          "execution_count": 64
        }
      ]
    },
    {
      "cell_type": "markdown",
      "metadata": {
        "id": "DiYqOSmlnkhD",
        "colab_type": "text"
      },
      "source": [
        "<p> Es una buena práctica usar nombres de variables significativos, para que usted y otros puedan leer el código y comprenderlo más fácilmente: </p>"
      ]
    },
    {
      "cell_type": "code",
      "metadata": {
        "id": "WovInyzSnfYg",
        "colab_type": "code",
        "colab": {
          "base_uri": "https://localhost:8080/",
          "height": 34
        },
        "outputId": "ac9ff1eb-f7d7-4bb9-dc28-c0efa2f1982d"
      },
      "source": [
        "edad = 20\n",
        "edad"
      ],
      "execution_count": 72,
      "outputs": [
        {
          "output_type": "execute_result",
          "data": {
            "text/plain": [
              "20"
            ]
          },
          "metadata": {
            "tags": []
          },
          "execution_count": 72
        }
      ]
    },
    {
      "cell_type": "code",
      "metadata": {
        "id": "yLv3RKUrnpBg",
        "colab_type": "code",
        "colab": {
          "base_uri": "https://localhost:8080/",
          "height": 34
        },
        "outputId": "cd807307-c01a-41bb-c6a8-b2e1d893ccc2"
      },
      "source": [
        "total_edad =  edad+1\n",
        "total_edad"
      ],
      "execution_count": 73,
      "outputs": [
        {
          "output_type": "execute_result",
          "data": {
            "text/plain": [
              "21"
            ]
          },
          "metadata": {
            "tags": []
          },
          "execution_count": 73
        }
      ]
    },
    {
      "cell_type": "markdown",
      "metadata": {
        "id": "VM6AN24DogYu",
        "colab_type": "text"
      },
      "source": [
        "Complicaremos un poco las expresiones."
      ]
    },
    {
      "cell_type": "code",
      "metadata": {
        "id": "g2_Yy6I3oTfc",
        "colab_type": "code",
        "colab": {
          "base_uri": "https://localhost:8080/",
          "height": 34
        },
        "outputId": "cd5848e7-2bb6-4915-96b5-f35128faf445"
      },
      "source": [
        "peras = 20\n",
        "costo_peras = 2\n",
        "melon = 80\n",
        "costo_melon = 5\n",
        "peras_total = peras * costo_peras\n",
        "melon_total = melon*costo_melon\n",
        "costo_final = peras_total * melon_total\n",
        "print(costo_final)"
      ],
      "execution_count": 77,
      "outputs": [
        {
          "output_type": "stream",
          "text": [
            "16000\n"
          ],
          "name": "stdout"
        }
      ]
    },
    {
      "cell_type": "markdown",
      "metadata": {
        "id": "FYTKg3rLppG3",
        "colab_type": "text"
      },
      "source": [
        "<h3 id=\"eje_exp_varr\">Ejercicios: Expresiones & variables en python.</h3>"
      ]
    },
    {
      "cell_type": "markdown",
      "metadata": {
        "id": "A17VRRZ9pvxv",
        "colab_type": "text"
      },
      "source": [
        "<p>Cual es el valor <code>x</code> cuando <code>x = 3 + 2 * 2</code></p>"
      ]
    },
    {
      "cell_type": "code",
      "metadata": {
        "id": "jER6qcpTpJl3",
        "colab_type": "code",
        "colab": {}
      },
      "source": [
        "#Escribe tu respuesta aqui"
      ],
      "execution_count": 0,
      "outputs": []
    },
    {
      "cell_type": "markdown",
      "metadata": {
        "id": "uLCI6p8IrZva",
        "colab_type": "text"
      },
      "source": [
        "Doble-click __aqui__ para ver la solucion.\n",
        "\n",
        "<!-- Tu respuesta deberia de ser esta:\n",
        "7\n",
        "-->\n"
      ]
    },
    {
      "cell_type": "markdown",
      "metadata": {
        "id": "wFWquUJ2sizc",
        "colab_type": "text"
      },
      "source": [
        "<p>Cual es el valor <code>y</code> cuando <code>y = (3 + 2) * 2</code>?</p>"
      ]
    },
    {
      "cell_type": "code",
      "metadata": {
        "id": "Z1w48x8yrZGD",
        "colab_type": "code",
        "colab": {}
      },
      "source": [
        "#Escribe tu solucion aqui"
      ],
      "execution_count": 0,
      "outputs": []
    },
    {
      "cell_type": "markdown",
      "metadata": {
        "id": "VVmumkJ1s76A",
        "colab_type": "text"
      },
      "source": [
        "Doble-click __aqui__ para ver la solucioon.\n",
        "\n",
        "<!-- Tu respuesta deberia ser esta:\n",
        "\n",
        "10\n",
        "-->"
      ]
    }
  ]
}