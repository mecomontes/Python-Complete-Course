{
  "nbformat": 4,
  "nbformat_minor": 0,
  "metadata": {
    "colab": {
      "name": "1.2.Strings.ipynb",
      "provenance": [],
      "collapsed_sections": []
    },
    "kernelspec": {
      "name": "python3",
      "display_name": "Python 3"
    }
  },
  "cells": [
    {
      "cell_type": "markdown",
      "metadata": {
        "id": "nvwqbqlxEeUz",
        "colab_type": "text"
      },
      "source": [
        "\n",
        " <img src=\"https://raw.githubusercontent.com/Chilangdon20/PYTHON/master/Curso%20Basico/CursoExpress/Imagenes/Chilangodn.png\" width=\"200\" align=\"center\">\n",
        "</a>"
      ]
    },
    {
      "cell_type": "markdown",
      "metadata": {
        "id": "IEQfqd0tE1N7",
        "colab_type": "text"
      },
      "source": [
        "<h1>Operaciones con Strings</h1>"
      ]
    },
    {
      "cell_type": "markdown",
      "metadata": {
        "id": "MSM_basCE7_w",
        "colab_type": "text"
      },
      "source": [
        " <strong> ¡Bienvenido! </strong> Este cuaderno te enseñará acerca de las operaciones de cadena en el lenguaje de programación Python. Al final de este cuaderno, conocerá las operaciones básicas de cadenas en Python, incluida la indexación, las secuencias de escape y las operaciones. </p>"
      ]
    },
    {
      "cell_type": "markdown",
      "metadata": {
        "id": "MQ0007nyFXmQ",
        "colab_type": "text"
      },
      "source": [
        "<h2> Tabla de contenido </h2>\n",
        "<div class = \"alert alert-block alert-info\" style = \"margin-top: 20px\">\n",
        "     <ul>\n",
        "         <li>\n",
        "             <a href=\"#strings\"> ¿Qué son las cadenas?- Strings </a>\n",
        "         </li>\n",
        "         <li>\n",
        "             <a href=\"#index\"> Indexación </a>\n",
        "             <ul>\n",
        "                 <li> <a href=\"neg\"> Indexación negativa </a> </li>\n",
        "                 <li> <a href=\"slice\"> Slicing </a> </li>\n",
        "                 <li> <a href=\"stride\"> Stride </a> </li>\n",
        "                 <li> <a href=\"concat\"> Strings Concatenadas </a> </li>\n",
        "             </ul>\n",
        "         </li>\n",
        "         <li>\n",
        "             <a href=\"#escape\"> Secuencias de escape </a>\n",
        "         </li>\n",
        "         <li>\n",
        "             <a href=\"#operaciones\"> Operaciones de Strings </a>\n",
        "         </li>\n",
        "         <li>\n",
        "             <a href=\"#Ejercicios\"> Quiz de Strings </a>\n",
        "         </li>\n",
        "     </ul>\n",
        "     \n",
        "</div>\n",
        "\n",
        "<hr>"
      ]
    },
    {
      "cell_type": "markdown",
      "metadata": {
        "id": "-yrlyQ5EFqT4",
        "colab_type": "text"
      },
      "source": [
        "<h2 id=\"strings\">Que son las cadenas?-(Strings)</h2>"
      ]
    },
    {
      "cell_type": "markdown",
      "metadata": {
        "id": "BkuT6w42HI_n",
        "colab_type": "text"
      },
      "source": [
        "El siguiente ejemplo muestra una cadena contenida dentro de 2 comillas:"
      ]
    },
    {
      "cell_type": "code",
      "metadata": {
        "id": "gZ2og0KCEv-u",
        "colab_type": "code",
        "colab": {
          "base_uri": "https://localhost:8080/",
          "height": 34
        },
        "outputId": "5f8cd376-98b2-44ad-a8de-01ac63f72488"
      },
      "source": [
        "\"Data Science\" "
      ],
      "execution_count": 1,
      "outputs": [
        {
          "output_type": "execute_result",
          "data": {
            "text/plain": [
              "'Data Science'"
            ]
          },
          "metadata": {
            "tags": []
          },
          "execution_count": 1
        }
      ]
    },
    {
      "cell_type": "markdown",
      "metadata": {
        "id": "rslWNJfYHTjr",
        "colab_type": "text"
      },
      "source": [
        "También podemos usar comillas simples:"
      ]
    },
    {
      "cell_type": "code",
      "metadata": {
        "id": "pIXw_5liHOlR",
        "colab_type": "code",
        "colab": {
          "base_uri": "https://localhost:8080/",
          "height": 34
        },
        "outputId": "80e1e55b-cc2c-4b61-f79f-63c0de2ff9d3"
      },
      "source": [
        "'Big Data'"
      ],
      "execution_count": 2,
      "outputs": [
        {
          "output_type": "execute_result",
          "data": {
            "text/plain": [
              "'Big Data'"
            ]
          },
          "metadata": {
            "tags": []
          },
          "execution_count": 2
        }
      ]
    },
    {
      "cell_type": "markdown",
      "metadata": {
        "id": "p0IjvU2oHcF8",
        "colab_type": "text"
      },
      "source": [
        "Una cadena puede ser una combinación de espacios y dígitos:"
      ]
    },
    {
      "cell_type": "code",
      "metadata": {
        "id": "zceoxCF6HVtz",
        "colab_type": "code",
        "colab": {
          "base_uri": "https://localhost:8080/",
          "height": 34
        },
        "outputId": "8569a07d-d596-45e1-ad9b-2008c23d8958"
      },
      "source": [
        "'1 2 3 4 5 '"
      ],
      "execution_count": 3,
      "outputs": [
        {
          "output_type": "execute_result",
          "data": {
            "text/plain": [
              "'1 2 3 4 5 '"
            ]
          },
          "metadata": {
            "tags": []
          },
          "execution_count": 3
        }
      ]
    },
    {
      "cell_type": "markdown",
      "metadata": {
        "id": "Wme0QKmHHo4o",
        "colab_type": "text"
      },
      "source": [
        "Una cadena también puede ser una **combinación de caracteres especiales:**"
      ]
    },
    {
      "cell_type": "code",
      "metadata": {
        "id": "kUi4YHcRHijA",
        "colab_type": "code",
        "colab": {
          "base_uri": "https://localhost:8080/",
          "height": 34
        },
        "outputId": "bc01b7ca-18a6-4044-faa0-05122b88e1e0"
      },
      "source": [
        "'$%&%/&%&$%/&&-fds'"
      ],
      "execution_count": 4,
      "outputs": [
        {
          "output_type": "execute_result",
          "data": {
            "text/plain": [
              "'$%&%/&%&$%/&&-fds'"
            ]
          },
          "metadata": {
            "tags": []
          },
          "execution_count": 4
        }
      ]
    },
    {
      "cell_type": "markdown",
      "metadata": {
        "id": "BWjUOqQjH01F",
        "colab_type": "text"
      },
      "source": [
        "Podemos imprimir nuestra cadena usando la declaración print:"
      ]
    },
    {
      "cell_type": "code",
      "metadata": {
        "id": "lFASrSXQHu4t",
        "colab_type": "code",
        "colab": {
          "base_uri": "https://localhost:8080/",
          "height": 34
        },
        "outputId": "58218680-b4d8-4591-a42a-6b2bc7677b8a"
      },
      "source": [
        "print(\"Big data and Data Science\")"
      ],
      "execution_count": 5,
      "outputs": [
        {
          "output_type": "stream",
          "text": [
            "Big data and Data Science\n"
          ],
          "name": "stdout"
        }
      ]
    },
    {
      "cell_type": "markdown",
      "metadata": {
        "id": "5LmwDQSnIDhf",
        "colab_type": "text"
      },
      "source": [
        "Podemos vincular o asignar una cadena a otra variable:"
      ]
    },
    {
      "cell_type": "code",
      "metadata": {
        "id": "HG0DfVPWH-QS",
        "colab_type": "code",
        "colab": {
          "base_uri": "https://localhost:8080/",
          "height": 34
        },
        "outputId": "40c296a1-1f5b-4c47-86dd-ec203b54a830"
      },
      "source": [
        "datos = \"edad,nombre\"\n",
        "print(datos)"
      ],
      "execution_count": 6,
      "outputs": [
        {
          "output_type": "stream",
          "text": [
            "edad,nombre\n"
          ],
          "name": "stdout"
        }
      ]
    },
    {
      "cell_type": "markdown",
      "metadata": {
        "id": "YIWbGcF0IM90",
        "colab_type": "text"
      },
      "source": [
        "<h2 id=\"index\">Indexing</h2>"
      ]
    },
    {
      "cell_type": "markdown",
      "metadata": {
        "id": "RZKiPUACITLW",
        "colab_type": "text"
      },
      "source": [
        "Es útil pensar en una cadena como una secuencia ordenada. Se puede acceder a cada elemento de la secuencia utilizando un índice representado por la **matriz de números:**"
      ]
    },
    {
      "cell_type": "markdown",
      "metadata": {
        "id": "6LWbM5VZIjhs",
        "colab_type": "text"
      },
      "source": [
        "<img src=\"https://external-content.duckduckgo.com/iu/?u=https%3A%2F%2Fcdn.programiz.com%2Fsites%2Ftutorial2program%2Ffiles%2Fpython-list-index.png&f=1&nofb=1\" width=\"600\" align=\"center\" />"
      ]
    },
    {
      "cell_type": "markdown",
      "metadata": {
        "id": "Cj9COsG9IwDu",
        "colab_type": "text"
      },
      "source": [
        "<hr />\n",
        "<div class = \"alert alert-success alert success\" style = \"margin-top: 20px\">\n",
        "[Consejo]: Debido a que la indexación comienza en 0, significa que el primer índice está en el índice 0.\n",
        "</div>\n",
        "<hr />"
      ]
    },
    {
      "cell_type": "markdown",
      "metadata": {
        "id": "c3vz5rs7I-c3",
        "colab_type": "text"
      },
      "source": [
        "Se puede acceder al primer índice de la siguiente manera:"
      ]
    },
    {
      "cell_type": "code",
      "metadata": {
        "id": "eIAVsx9UIIiO",
        "colab_type": "code",
        "colab": {
          "base_uri": "https://localhost:8080/",
          "height": 34
        },
        "outputId": "73e78f64-d16d-4416-b085-38b37c7a77ec"
      },
      "source": [
        "name = \"Tecnology\"\n",
        "print(name[0])"
      ],
      "execution_count": 9,
      "outputs": [
        {
          "output_type": "stream",
          "text": [
            "T\n"
          ],
          "name": "stdout"
        }
      ]
    },
    {
      "cell_type": "markdown",
      "metadata": {
        "id": "u1aXUN1tJHw1",
        "colab_type": "text"
      },
      "source": [
        "O tambien podemos acceder al indice 8."
      ]
    },
    {
      "cell_type": "code",
      "metadata": {
        "id": "8152F76SJD9u",
        "colab_type": "code",
        "colab": {
          "base_uri": "https://localhost:8080/",
          "height": 34
        },
        "outputId": "c29a8e70-702a-44bd-a5ef-c378fa3e55c7"
      },
      "source": [
        "print(name[8])"
      ],
      "execution_count": 10,
      "outputs": [
        {
          "output_type": "stream",
          "text": [
            "y\n"
          ],
          "name": "stdout"
        }
      ]
    },
    {
      "cell_type": "markdown",
      "metadata": {
        "id": "iPhVcZJdJbLm",
        "colab_type": "text"
      },
      "source": [
        "<h3 id=\"neg\">Indexacion Negativa</h3>"
      ]
    },
    {
      "cell_type": "markdown",
      "metadata": {
        "id": "IZLMwNvuJkZ2",
        "colab_type": "text"
      },
      "source": [
        "<img src=\"https://external-content.duckduckgo.com/iu/?u=https%3A%2F%2Fcdn.programiz.com%2Fsites%2Ftutorial2program%2Ffiles%2Fpython-list-index.png&f=1&nofb=1\" width=\"600\" align=\"center\" />"
      ]
    },
    {
      "cell_type": "markdown",
      "metadata": {
        "id": "8WOaAhAWJmrs",
        "colab_type": "text"
      },
      "source": [
        "También podemos usar indexación negativa con cadenas:\n"
      ]
    },
    {
      "cell_type": "markdown",
      "metadata": {
        "id": "nUk9jnbxJxfO",
        "colab_type": "text"
      },
      "source": [
        "El índice negativo puede ayudarnos a contar el elemento desde el final de la cadena."
      ]
    },
    {
      "cell_type": "markdown",
      "metadata": {
        "id": "tHOMf4KiJ5P3",
        "colab_type": "text"
      },
      "source": [
        "El último elemento viene dado por el índice -1:"
      ]
    },
    {
      "cell_type": "code",
      "metadata": {
        "id": "_fsNRwOvJ52v",
        "colab_type": "code",
        "colab": {
          "base_uri": "https://localhost:8080/",
          "height": 34
        },
        "outputId": "29bb2fe3-3f3a-4e2a-ac57-c3a0c03f54eb"
      },
      "source": [
        "print(name[-1])"
      ],
      "execution_count": 11,
      "outputs": [
        {
          "output_type": "stream",
          "text": [
            "y\n"
          ],
          "name": "stdout"
        }
      ]
    },
    {
      "cell_type": "markdown",
      "metadata": {
        "id": "wrPyZckOKD7O",
        "colab_type": "text"
      },
      "source": [
        "El primer elemento se puede obtener por el índice -9:"
      ]
    },
    {
      "cell_type": "code",
      "metadata": {
        "id": "bZs53F-8J8qu",
        "colab_type": "code",
        "colab": {
          "base_uri": "https://localhost:8080/",
          "height": 34
        },
        "outputId": "b32ceeb6-6c24-4761-b4ed-d0cd92f4dfe0"
      },
      "source": [
        "print(name[-9])"
      ],
      "execution_count": 14,
      "outputs": [
        {
          "output_type": "stream",
          "text": [
            "T\n"
          ],
          "name": "stdout"
        }
      ]
    },
    {
      "cell_type": "markdown",
      "metadata": {
        "id": "LWve1T_sLACI",
        "colab_type": "text"
      },
      "source": [
        "Podemos encontrar el número de caracteres en una cadena usando <code> len </code>, abreviatura de longitud:"
      ]
    },
    {
      "cell_type": "code",
      "metadata": {
        "id": "1vDPc0mkKLWc",
        "colab_type": "code",
        "colab": {
          "base_uri": "https://localhost:8080/",
          "height": 34
        },
        "outputId": "350a12c3-3e90-4aa5-83df-01f8ef421b32"
      },
      "source": [
        "#Vemos la longuitud de nuestra variable name\n",
        "len(name)"
      ],
      "execution_count": 15,
      "outputs": [
        {
          "output_type": "execute_result",
          "data": {
            "text/plain": [
              "9"
            ]
          },
          "metadata": {
            "tags": []
          },
          "execution_count": 15
        }
      ]
    },
    {
      "cell_type": "markdown",
      "metadata": {
        "id": "KzJSExHILNij",
        "colab_type": "text"
      },
      "source": [
        "<h3 id=\"slice\">Slicing</h3>"
      ]
    },
    {
      "cell_type": "markdown",
      "metadata": {
        "id": "L_1XJmaALPGL",
        "colab_type": "text"
      },
      "source": [
        "Podemos obtener múltiples caracteres de una cadena usando el corte, podemos obtener los elementos 0 a 4 y 8 al 9:"
      ]
    },
    {
      "cell_type": "markdown",
      "metadata": {
        "id": "kuwvyQOZLabq",
        "colab_type": "text"
      },
      "source": [
        "<hr />\n",
        "<div class = \"alert alert-success alertuccess\" style = \"margin-top: 20px\">\n",
        "[Sugerencia]: Al tomar el segmento, el primer número significa el índice (comienza en 0), y el segundo número significa la longitud desde el índice hasta el último elemento que deseas (comienza en 1)\n",
        "</div>\n",
        "<hr />"
      ]
    },
    {
      "cell_type": "code",
      "metadata": {
        "id": "AMULZ28WLH3w",
        "colab_type": "code",
        "colab": {
          "base_uri": "https://localhost:8080/",
          "height": 34
        },
        "outputId": "9555f244-f865-443f-9b70-1b1fd8a37b16"
      },
      "source": [
        "name[0:4]"
      ],
      "execution_count": 16,
      "outputs": [
        {
          "output_type": "execute_result",
          "data": {
            "text/plain": [
              "'Tecn'"
            ]
          },
          "metadata": {
            "tags": []
          },
          "execution_count": 16
        }
      ]
    },
    {
      "cell_type": "code",
      "metadata": {
        "id": "d5ZmQK2YLfod",
        "colab_type": "code",
        "colab": {
          "base_uri": "https://localhost:8080/",
          "height": 34
        },
        "outputId": "ece75b7f-69cd-4726-cc11-47a61f69ccbd"
      },
      "source": [
        "name[8:9]"
      ],
      "execution_count": 17,
      "outputs": [
        {
          "output_type": "execute_result",
          "data": {
            "text/plain": [
              "'y'"
            ]
          },
          "metadata": {
            "tags": []
          },
          "execution_count": 17
        }
      ]
    },
    {
      "cell_type": "markdown",
      "metadata": {
        "id": "GVk5RbQVLmf0",
        "colab_type": "text"
      },
      "source": [
        "<h3 id=\"stride\">Stride</h3>"
      ]
    },
    {
      "cell_type": "markdown",
      "metadata": {
        "id": "dok3JGjTLobM",
        "colab_type": "text"
      },
      "source": [
        "También podemos ingresar un valor de paso de la siguiente manera, con el '2' que indica que\n",
        "\n",
        "1. Elemento de lista\n",
        "2. Elemento de lista\n",
        "\n",
        "están seleccionando cada segunda variable:"
      ]
    },
    {
      "cell_type": "code",
      "metadata": {
        "id": "deOopVrfLheV",
        "colab_type": "code",
        "colab": {
          "base_uri": "https://localhost:8080/",
          "height": 34
        },
        "outputId": "00ed07d9-6429-4849-bfbe-5b68003a4cef"
      },
      "source": [
        "#Obtenemos cada segundo elemento. Los elementos en los índices 1, 3, 5 ...\n",
        "name[::2]"
      ],
      "execution_count": 19,
      "outputs": [
        {
          "output_type": "execute_result",
          "data": {
            "text/plain": [
              "'Tcooy'"
            ]
          },
          "metadata": {
            "tags": []
          },
          "execution_count": 19
        }
      ]
    },
    {
      "cell_type": "markdown",
      "metadata": {
        "id": "IXAsjPYTN7Ze",
        "colab_type": "text"
      },
      "source": [
        "También podemos incorporar slicing. En este caso, seleccionamos los primeros cinco elementos y luego usamos Stride:"
      ]
    },
    {
      "cell_type": "code",
      "metadata": {
        "id": "DSIbOxe4LzSJ",
        "colab_type": "code",
        "colab": {
          "base_uri": "https://localhost:8080/",
          "height": 34
        },
        "outputId": "7bf70f20-5dab-4ea4-f8cf-0f2e49bbfe2d"
      },
      "source": [
        "# Obtenemos  cada segundo elemento en el rango del índice 0 al índice 4\n",
        "name[0:5:2]"
      ],
      "execution_count": 21,
      "outputs": [
        {
          "output_type": "execute_result",
          "data": {
            "text/plain": [
              "'Tco'"
            ]
          },
          "metadata": {
            "tags": []
          },
          "execution_count": 21
        }
      ]
    },
    {
      "cell_type": "markdown",
      "metadata": {
        "id": "ZxHQpUqnOSeD",
        "colab_type": "text"
      },
      "source": [
        "<h3 id=\"concat\">Strings Concatenadas</h3>"
      ]
    },
    {
      "cell_type": "markdown",
      "metadata": {
        "id": "DIdKk1KCPFKj",
        "colab_type": "text"
      },
      "source": [
        "Podemos concatenar o combinar cadenas usando los símbolos de suma, y el resultado es una nueva cadena que es una combinación de ambos:"
      ]
    },
    {
      "cell_type": "code",
      "metadata": {
        "id": "MDvpIWIFOJac",
        "colab_type": "code",
        "colab": {
          "base_uri": "https://localhost:8080/",
          "height": 34
        },
        "outputId": "3714ba1f-9870-44ff-85f6-482deb327344"
      },
      "source": [
        "#Concatenamos 2 Strings\n",
        "nombre = \"fer\"\n",
        "saludo = \"Bienvenido al curso,\" + nombre\n",
        "saludo  \n"
      ],
      "execution_count": 22,
      "outputs": [
        {
          "output_type": "execute_result",
          "data": {
            "text/plain": [
              "'Bienvenido al curso,fer'"
            ]
          },
          "metadata": {
            "tags": []
          },
          "execution_count": 22
        }
      ]
    },
    {
      "cell_type": "markdown",
      "metadata": {
        "id": "rGXakGPqP2pZ",
        "colab_type": "text"
      },
      "source": [
        "Para replicar los valores de una cadena simplemente multiplicamos la cadena por la cantidad de veces que nos gustaría replicarla. En este caso, el número es tres. El resultado es una nueva cadena, y esta nueva cadena consta de tres copias de la cadena original:"
      ]
    },
    {
      "cell_type": "code",
      "metadata": {
        "id": "lSOSu2VcPhlf",
        "colab_type": "code",
        "colab": {
          "base_uri": "https://localhost:8080/",
          "height": 34
        },
        "outputId": "e1528138-304a-4498-9013-507126cf5f5d"
      },
      "source": [
        "3 * nombre"
      ],
      "execution_count": 25,
      "outputs": [
        {
          "output_type": "execute_result",
          "data": {
            "text/plain": [
              "'ferferfer'"
            ]
          },
          "metadata": {
            "tags": []
          },
          "execution_count": 25
        }
      ]
    },
    {
      "cell_type": "markdown",
      "metadata": {
        "id": "1I2nUf3HQMTU",
        "colab_type": "text"
      },
      "source": [
        "Puede crear una nueva cadena configurándola en la variable original. Concatenado con una nueva cadena, el resultado es una nueva cadena que cambia de fer a \"fer es el mejor\"."
      ]
    },
    {
      "cell_type": "code",
      "metadata": {
        "id": "XkzkBlg7P49f",
        "colab_type": "code",
        "colab": {
          "base_uri": "https://localhost:8080/",
          "height": 34
        },
        "outputId": "8f41f9be-108a-4a78-c9a6-782ed77e0e12"
      },
      "source": [
        "nombre = \"fer\"\n",
        "nombre =  nombre + \" es el mejor\"\n",
        "nombre"
      ],
      "execution_count": 27,
      "outputs": [
        {
          "output_type": "execute_result",
          "data": {
            "text/plain": [
              "'fer es el mejor'"
            ]
          },
          "metadata": {
            "tags": []
          },
          "execution_count": 27
        }
      ]
    },
    {
      "cell_type": "markdown",
      "metadata": {
        "id": "3o5BeLNoQeCd",
        "colab_type": "text"
      },
      "source": [
        "<h2 id=\"escape\">Secuencias de Escape</h2>"
      ]
    },
    {
      "cell_type": "markdown",
      "metadata": {
        "id": "2u_MJJUvQkOv",
        "colab_type": "text"
      },
      "source": [
        "Las barras diagonales traseras representan el comienzo de las secuencias de escape. Las secuencias de escape representan cadenas que pueden ser difíciles de ingresar. Por ejemplo, la barra diagonal inversa \"n\" representa una nueva línea. El resultado está dado por una nueva línea después de que se encuentra la barra diagonal inversa \"n\":"
      ]
    },
    {
      "cell_type": "code",
      "metadata": {
        "id": "LL4qn8ZEQXnD",
        "colab_type": "code",
        "colab": {
          "base_uri": "https://localhost:8080/",
          "height": 52
        },
        "outputId": "d241ee50-1e6e-44bc-cd93-d5de174aa01b"
      },
      "source": [
        "# New linea de escape\n",
        "\n",
        "print(\" Tu \\n eres el mejor\" )"
      ],
      "execution_count": 28,
      "outputs": [
        {
          "output_type": "stream",
          "text": [
            " Tu \n",
            " eres el mejor\n"
          ],
          "name": "stdout"
        }
      ]
    },
    {
      "cell_type": "markdown",
      "metadata": {
        "id": "LUnk4JfYQ5i5",
        "colab_type": "text"
      },
      "source": [
        "Si deseas colocar una barra invertida en su cadena, use una barra invertida doble:"
      ]
    },
    {
      "cell_type": "code",
      "metadata": {
        "id": "XiH3ol3PQyLv",
        "colab_type": "code",
        "colab": {
          "base_uri": "https://localhost:8080/",
          "height": 34
        },
        "outputId": "21fe9afc-d0e8-4467-a2c7-e2b1a6bcaf6f"
      },
      "source": [
        "print(\"Tu \\\\  eres el mejor\")"
      ],
      "execution_count": 29,
      "outputs": [
        {
          "output_type": "stream",
          "text": [
            "Tu \\  eres el mejor\n"
          ],
          "name": "stdout"
        }
      ]
    },
    {
      "cell_type": "markdown",
      "metadata": {
        "id": "wae2QNX_RS2j",
        "colab_type": "text"
      },
      "source": [
        "También podemos colocar una \"r\" antes de la cadena para mostrar la barra invertida:"
      ]
    },
    {
      "cell_type": "code",
      "metadata": {
        "id": "H7EGisf0RG5P",
        "colab_type": "code",
        "colab": {
          "base_uri": "https://localhost:8080/",
          "height": 34
        },
        "outputId": "d7ceb7d7-57fc-4b8e-a2be-5e3fbd095386"
      },
      "source": [
        "\n",
        "print(r\" Tu \\ eres el mejor\" )"
      ],
      "execution_count": 30,
      "outputs": [
        {
          "output_type": "stream",
          "text": [
            " Tu \\ eres el mejor\n"
          ],
          "name": "stdout"
        }
      ]
    },
    {
      "cell_type": "markdown",
      "metadata": {
        "id": "_LeqT_w4Rmmd",
        "colab_type": "text"
      },
      "source": [
        "<h2 id=\"operations\">Operaciones con Strings</h2>"
      ]
    },
    {
      "cell_type": "markdown",
      "metadata": {
        "id": "9-o5OmOkRq9O",
        "colab_type": "text"
      },
      "source": [
        "Hay muchos métodos de operación de cadenas en Python que pueden usarse para manipular los datos. Vamos a utilizar algunas operaciones básicas de cadena en los datos.\n",
        "\n",
        "\n",
        "Probemos con el método <code> upper </code>; Este método convierte los caracteres en minúsculas en mayúsculas:"
      ]
    },
    {
      "cell_type": "code",
      "metadata": {
        "id": "hF4srVXiRa5J",
        "colab_type": "code",
        "colab": {
          "base_uri": "https://localhost:8080/",
          "height": 52
        },
        "outputId": "58f45fd3-4415-4525-8d90-07a09bc7f267"
      },
      "source": [
        "# Convertimos todos los caracteres en cadena a mayúsculas\n",
        "\n",
        "A = \"Los beattles son los mejores cantantes\"\n",
        "print (\"antes del upper:\", A)\n",
        "B = A.upper()\n",
        "print (\"Después del upper:\", B)"
      ],
      "execution_count": 33,
      "outputs": [
        {
          "output_type": "stream",
          "text": [
            "antes del upper: Los beattles son los mejores cantantes\n",
            "Después del upper: LOS BEATTLES SON LOS MEJORES CANTANTES\n"
          ],
          "name": "stdout"
        }
      ]
    },
    {
      "cell_type": "markdown",
      "metadata": {
        "id": "pgyFAb4hSXq1",
        "colab_type": "text"
      },
      "source": [
        "El método <code> replace </code> reemplaza un segmento de la cadena, es decir, una string con un nuevo string. Ingresamos la parte de la cadena que nos gustaría cambiar. El segundo argumento es con lo que nos gustaría intercambiar el segmento, y el resultado es una nueva cadena con el segmento cambiado:"
      ]
    },
    {
      "cell_type": "code",
      "metadata": {
        "id": "XKqZZIDMSIy8",
        "colab_type": "code",
        "colab": {
          "base_uri": "https://localhost:8080/",
          "height": 34
        },
        "outputId": "014d2ef7-caac-4e3f-c4aa-ca7bccc8847c"
      },
      "source": [
        "# Reemplazamos la subcadena anterior con la nueva subcadena de destino si el segmento se ha encontrado en la cadena\n",
        "\n",
        "A = \"Los beattles son los mejores cantantes\"\n",
        "B = A.replace('beattles', 'doors')\n",
        "B"
      ],
      "execution_count": 35,
      "outputs": [
        {
          "output_type": "execute_result",
          "data": {
            "text/plain": [
              "'Los doors son los mejores cantantes'"
            ]
          },
          "metadata": {
            "tags": []
          },
          "execution_count": 35
        }
      ]
    },
    {
      "cell_type": "markdown",
      "metadata": {
        "id": "J2NIiLFRTnZd",
        "colab_type": "text"
      },
      "source": [
        "El método <code> find </code> encuentra un substring. El argumento es el substring que nos gustaría encontrar, y la salida es el primer índice de la secuencia. Podemos encontrar el sibstring <code> ttles </code> o <code> los <code>."
      ]
    },
    {
      "cell_type": "code",
      "metadata": {
        "id": "-cHIYj49TH5N",
        "colab_type": "code",
        "colab": {
          "base_uri": "https://localhost:8080/",
          "height": 34
        },
        "outputId": "43e2006e-9077-47e0-f78e-838debe56638"
      },
      "source": [
        "# Encuentremos la subcadena en la cadena. Solo el índice del primer elemento de la subcadena en la cadena será la salida\n",
        "Name = \"Gigante Hierro\"\n",
        "Name.find('rro')"
      ],
      "execution_count": 36,
      "outputs": [
        {
          "output_type": "execute_result",
          "data": {
            "text/plain": [
              "11"
            ]
          },
          "metadata": {
            "tags": []
          },
          "execution_count": 36
        }
      ]
    },
    {
      "cell_type": "code",
      "metadata": {
        "id": "yYsjp8y3UHhd",
        "colab_type": "code",
        "colab": {
          "base_uri": "https://localhost:8080/",
          "height": 34
        },
        "outputId": "b39bb2f1-a1d3-4752-de79-5ed966e6a072"
      },
      "source": [
        "#Encontremos el substring de la cadena\n",
        "Name.find('Gi')"
      ],
      "execution_count": 38,
      "outputs": [
        {
          "output_type": "execute_result",
          "data": {
            "text/plain": [
              "0"
            ]
          },
          "metadata": {
            "tags": []
          },
          "execution_count": 38
        }
      ]
    },
    {
      "cell_type": "markdown",
      "metadata": {
        "id": "NUZv4K54UdQY",
        "colab_type": "text"
      },
      "source": [
        "Si el substring no está en el string, la salida es negativa. Por ejemplo, la cadena 'Jasdfasdasdf' no es una subcadena:"
      ]
    },
    {
      "cell_type": "code",
      "metadata": {
        "id": "xTGe-c0wUWKs",
        "colab_type": "code",
        "colab": {
          "base_uri": "https://localhost:8080/",
          "height": 132
        },
        "outputId": "37af9c00-df28-48fa-ae11-d86294186d09"
      },
      "source": [
        "Name.find(Jasdfasdasdf')"
      ],
      "execution_count": 39,
      "outputs": [
        {
          "output_type": "error",
          "ename": "SyntaxError",
          "evalue": "ignored",
          "traceback": [
            "\u001b[0;36m  File \u001b[0;32m\"<ipython-input-39-5c24bf362c59>\"\u001b[0;36m, line \u001b[0;32m1\u001b[0m\n\u001b[0;31m    Name.find(Jasdfasdasdf')\u001b[0m\n\u001b[0m                            ^\u001b[0m\n\u001b[0;31mSyntaxError\u001b[0m\u001b[0;31m:\u001b[0m EOL while scanning string literal\n"
          ]
        }
      ]
    },
    {
      "cell_type": "markdown",
      "metadata": {
        "id": "Bqp4IX2UUvdE",
        "colab_type": "text"
      },
      "source": [
        "<h2 id=\"quiz\">Quiz de Strings</h2>"
      ]
    },
    {
      "cell_type": "markdown",
      "metadata": {
        "id": "qIBLK4J6VCCE",
        "colab_type": "text"
      },
      "source": [
        "¿Cuál es el valor de la variable <code> A </code> después de ejecutar el siguiente código?"
      ]
    },
    {
      "cell_type": "code",
      "metadata": {
        "id": "6a_fKJewUnap",
        "colab_type": "code",
        "colab": {}
      },
      "source": [
        "# Escribe tu respuesta.\n",
        "A = \"21\""
      ],
      "execution_count": 0,
      "outputs": []
    },
    {
      "cell_type": "markdown",
      "metadata": {
        "id": "XmZzbMt3VXti",
        "colab_type": "text"
      },
      "source": [
        "Doble-click <b>aqui</b> para ver la solucion.\n",
        "\n",
        "<!-- tu respuesat es esta.:\n",
        "\"21\"\n",
        "-->"
      ]
    },
    {
      "cell_type": "markdown",
      "metadata": {
        "id": "4Xv6P1h-WKch",
        "colab_type": "text"
      },
      "source": [
        "¿Cual es el valor de la variable **A** deespues de ejecutar el codigo?"
      ]
    },
    {
      "cell_type": "code",
      "metadata": {
        "id": "srtGSs09VW69",
        "colab_type": "code",
        "colab": {}
      },
      "source": [
        "#Escribe tu respuesta\n",
        "B = \"50\""
      ],
      "execution_count": 0,
      "outputs": []
    },
    {
      "cell_type": "markdown",
      "metadata": {
        "id": "GwgwoA-JWUAS",
        "colab_type": "text"
      },
      "source": [
        "Doble-click <b>aqui</b> para ver la solucion.\n",
        "\n",
        "<!-- tu respuesat es esta.:\n",
        "\"50\"\n",
        "-->"
      ]
    },
    {
      "cell_type": "markdown",
      "metadata": {
        "id": "cJRg2c7EWrQm",
        "colab_type": "text"
      },
      "source": [
        "¿Cual es el valor de **C** ?"
      ]
    },
    {
      "cell_type": "code",
      "metadata": {
        "id": "EDRPNDA0WTGm",
        "colab_type": "code",
        "colab": {}
      },
      "source": [
        "#Escribe aqui tu respuesta.\n",
        " C = A + B"
      ],
      "execution_count": 0,
      "outputs": []
    },
    {
      "cell_type": "markdown",
      "metadata": {
        "id": "jvmBjM2QWzH-",
        "colab_type": "text"
      },
      "source": [
        "Doble-click <b>aqui</b> para ver la solucion.\n",
        "\n",
        "<!-- tu respuesat es esta.:\n",
        "\"71\"\n",
        "-->"
      ]
    },
    {
      "cell_type": "code",
      "metadata": {
        "id": "T5c8dB8cWyBJ",
        "colab_type": "code",
        "colab": {}
      },
      "source": [
        ""
      ],
      "execution_count": 0,
      "outputs": []
    }
  ]
}