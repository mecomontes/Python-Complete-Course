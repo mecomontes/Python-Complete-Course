{
  "nbformat": 4,
  "nbformat_minor": 0,
  "metadata": {
    "kernelspec": {
      "display_name": "Python 3",
      "language": "python",
      "name": "python3"
    },
    "language_info": {
      "codemirror_mode": {
        "name": "ipython",
        "version": 3
      },
      "file_extension": ".py",
      "mimetype": "text/x-python",
      "name": "python",
      "nbconvert_exporter": "python",
      "pygments_lexer": "ipython3",
      "version": "3.8.0"
    },
    "colab": {
      "name": "Listas-02.pynb",
      "provenance": [],
      "collapsed_sections": []
    }
  },
  "cells": [
    {
      "cell_type": "markdown",
      "metadata": {
        "id": "zcjaHZpui6SH",
        "colab_type": "text"
      },
      "source": [
        "<a href=\"https://github.com/Chilangdon20/PYTHON/tree/master/Curso%20Basico/CursoExpress\">\n",
        "    <img src=\"https://raw.githubusercontent.com/Chilangdon20/PYTHON/master/Curso%20Basico/CursoExpress/Imagenes/Chilangodn.png\" width=\"200\" align=\"center\">\n",
        "</a>"
      ]
    },
    {
      "cell_type": "markdown",
      "metadata": {
        "id": "5oQS2WBBi6SK",
        "colab_type": "text"
      },
      "source": [
        "<h1>Listas en Python</h1>"
      ]
    },
    {
      "cell_type": "markdown",
      "metadata": {
        "id": "tWpxHhe0i6SM",
        "colab_type": "text"
      },
      "source": [
        "<p><strong>Bienvenido!</strong> Este notebook te enseñará sobre las listas en el lenguaje de programación Python. Al final de esta práctica , conocerás las operaciones básicas de las listas en Python, incluida la indexación, las operaciones de las listas y las listas de copia / clonación.</p> \n",
        "\n",
        "**LINK:**\n",
        "\n",
        "https://colab.research.google.com/drive/1HW-Jvp2UgdidHCpGKe8PEaHA-LMHUrb_?usp=sharing\n"
      ]
    },
    {
      "cell_type": "markdown",
      "metadata": {
        "id": "Aa6F_3zsi6SO",
        "colab_type": "text"
      },
      "source": [
        "<h2>Tabla de Contenidos</h2>\n",
        "<div class=\"alert alert-block alert-info\" style=\"margin-top: 20px\">\n",
        "    <ul>\n",
        "        <li>\n",
        "            <a href=\"#dataset\">Acerca del dataset</a>\n",
        "        </li>\n",
        "        <li>\n",
        "            <a href=\"#list\">Lists</a>\n",
        "            <ul>\n",
        "                <li><a href=\"index\">Indexado</a></li>\n",
        "                <li><a href=\"content\">Contenido listas</a></li>\n",
        "                <li><a href=\"op\">Operaciones con listas</a></li>\n",
        "                <li><a href=\"co\">Copiar & clonar listas</a></li>\n",
        "            </ul>\n",
        "        </li>\n",
        "        <li>\n",
        "            <a href=\"#quiz\">Quiz de listas</a>\n",
        "        </li>\n",
        "  \n",
        "</div>\n",
        "\n",
        "<hr>"
      ]
    },
    {
      "cell_type": "markdown",
      "metadata": {
        "id": "9vMR00-2i6SQ",
        "colab_type": "text"
      },
      "source": [
        "<h2 id=\"#dataset\">Acerca del DataSet</h2>"
      ]
    },
    {
      "cell_type": "markdown",
      "metadata": {
        "id": "JFrDYgazi6SS",
        "colab_type": "text"
      },
      "source": [
        "Imagina que recibiste las recomendaciones del álbum de tus amigos y compilaste todas las recomendaciones en una tabla, con información específica sobre cada álbum.\n",
        "\n",
        "La tabla tiene una fila para cada película y varias columnas:\n",
        "- **artist** - Nombre del archivo\n",
        "- **album** - Nombre del album\n",
        "- **released_year** - Año en que se lanzó el álbum\n",
        "- **length_min_sec** - Duración del álbum (horas, minutos, segundos)\n",
        "- **genre** - Genreo del album\n",
        "- **music_recording_sales_millions** - Ventas de grabaciones musicales (millones en USD) en [SONG://DATABASE](http://www.song-database.com/)\n",
        "- **claimed_sales_millions** - Ventas reclamadas del álbum (millones en USD) en [SONG://DATABASE](http://www.song-database.com/)\n",
        "- **date_released** - Fecha de lanzamiento del álbum.\n",
        "- **soundtrack** - Indica si el álbum es la banda sonora de la película (Y) o (N)\n",
        "- **rating_of_friends** - Indica la calificación de tus amigos del 1 al 10.\n",
        "<br>\n",
        "<br>\n",
        "\n",
        "El dataset se veria asi:\n",
        "\n",
        "<font size=\"1\">\n",
        "<table font-size:xx-small style=\"width:100%\">\n",
        "  <tr>\n",
        "    <th>Artist</th>\n",
        "    <th>Album</th> \n",
        "    <th>Released</th>\n",
        "    <th>Length</th>\n",
        "    <th>Genre</th> \n",
        "    <th>Music recording sales (millions)</th>\n",
        "    <th>Claimed sales (millions)</th>\n",
        "    <th>Released</th>\n",
        "    <th>Soundtrack</th>\n",
        "    <th>Rating (friends)</th>\n",
        "  </tr>\n",
        "  <tr>\n",
        "    <td>Michael Jackson</td>\n",
        "    <td>Thriller</td> \n",
        "    <td>1982</td>\n",
        "    <td>00:42:19</td>\n",
        "    <td>Pop, rock, R&B</td>\n",
        "    <td>46</td>\n",
        "    <td>65</td>\n",
        "    <td>30-Nov-82</td>\n",
        "    <td></td>\n",
        "    <td>10.0</td>\n",
        "  </tr>\n",
        "  <tr>\n",
        "    <td>AC/DC</td>\n",
        "    <td>Back in Black</td> \n",
        "    <td>1980</td>\n",
        "    <td>00:42:11</td>\n",
        "    <td>Hard rock</td>\n",
        "    <td>26.1</td>\n",
        "    <td>50</td>\n",
        "    <td>25-Jul-80</td>\n",
        "    <td></td>\n",
        "    <td>8.5</td>\n",
        "  </tr>\n",
        "    <tr>\n",
        "    <td>Pink Floyd</td>\n",
        "    <td>The Dark Side of the Moon</td> \n",
        "    <td>1973</td>\n",
        "    <td>00:42:49</td>\n",
        "    <td>Progressive rock</td>\n",
        "    <td>24.2</td>\n",
        "    <td>45</td>\n",
        "    <td>01-Mar-73</td>\n",
        "    <td></td>\n",
        "    <td>9.5</td>\n",
        "  </tr>\n",
        "    <tr>\n",
        "    <td>Whitney Houston</td>\n",
        "    <td>The Bodyguard</td> \n",
        "    <td>1992</td>\n",
        "    <td>00:57:44</td>\n",
        "    <td>Soundtrack/R&B, soul, pop</td>\n",
        "    <td>26.1</td>\n",
        "    <td>50</td>\n",
        "    <td>25-Jul-80</td>\n",
        "    <td>Y</td>\n",
        "    <td>7.0</td>\n",
        "  </tr>\n",
        "    <tr>\n",
        "    <td>Meat Loaf</td>\n",
        "    <td>Bat Out of Hell</td> \n",
        "    <td>1977</td>\n",
        "    <td>00:46:33</td>\n",
        "    <td>Hard rock, progressive rock</td>\n",
        "    <td>20.6</td>\n",
        "    <td>43</td>\n",
        "    <td>21-Oct-77</td>\n",
        "    <td></td>\n",
        "    <td>7.0</td>\n",
        "  </tr>\n",
        "    <tr>\n",
        "    <td>Eagles</td>\n",
        "    <td>Their Greatest Hits (1971-1975)</td> \n",
        "    <td>1976</td>\n",
        "    <td>00:43:08</td>\n",
        "    <td>Rock, soft rock, folk rock</td>\n",
        "    <td>32.2</td>\n",
        "    <td>42</td>\n",
        "    <td>17-Feb-76</td>\n",
        "    <td></td>\n",
        "    <td>9.5</td>\n",
        "  </tr>\n",
        "    <tr>\n",
        "    <td>Bee Gees</td>\n",
        "    <td>Saturday Night Fever</td> \n",
        "    <td>1977</td>\n",
        "    <td>1:15:54</td>\n",
        "    <td>Disco</td>\n",
        "    <td>20.6</td>\n",
        "    <td>40</td>\n",
        "    <td>15-Nov-77</td>\n",
        "    <td>Y</td>\n",
        "    <td>9.0</td>\n",
        "  </tr>\n",
        "    <tr>\n",
        "    <td>Fleetwood Mac</td>\n",
        "    <td>Rumours</td> \n",
        "    <td>1977</td>\n",
        "    <td>00:40:01</td>\n",
        "    <td>Soft rock</td>\n",
        "    <td>27.9</td>\n",
        "    <td>40</td>\n",
        "    <td>04-Feb-77</td>\n",
        "    <td></td>\n",
        "    <td>9.5</td>\n",
        "  </tr>\n",
        "</table></font>"
      ]
    },
    {
      "cell_type": "markdown",
      "metadata": {
        "id": "aCUf52mSi6ST",
        "colab_type": "text"
      },
      "source": [
        "<hr>"
      ]
    },
    {
      "cell_type": "markdown",
      "metadata": {
        "id": "hZPZfr3Gi6SV",
        "colab_type": "text"
      },
      "source": [
        "<h2 id=\"list\">Listas</h2>"
      ]
    },
    {
      "cell_type": "markdown",
      "metadata": {
        "id": "NOduv9i8i6SY",
        "colab_type": "text"
      },
      "source": [
        "<h3 id=\"index\">Indexado</h3>"
      ]
    },
    {
      "cell_type": "markdown",
      "metadata": {
        "id": "zyuvNgjsi6Sa",
        "colab_type": "text"
      },
      "source": [
        "Vamos a echar un vistazo a las listas en Python. Una lista es una **colección secuenciada de diferentes objetos, como enteros, cadenas y otras listas también.** La dirección de cada elemento dentro de una lista se denomina <b> índex </b>. Se utiliza un índice para acceder y hacer referencia a elementos dentro de una lista."
      ]
    },
    {
      "cell_type": "markdown",
      "metadata": {
        "id": "Qi9iYgDii6Sc",
        "colab_type": "text"
      },
      "source": [
        "<img src=\"https://s3-api.us-geo.objectstorage.softlayer.net/cf-courses-data/CognitiveClass/PY0101EN/Chapter%202/Images/ListsIndex.png\" width=\"1000\" />"
      ]
    },
    {
      "cell_type": "markdown",
      "metadata": {
        "id": "j1R7qKqNi6Se",
        "colab_type": "text"
      },
      "source": [
        "Para crear una lista, escriba la lista entre corchetes <b> [ ] </b>, con su contenido dentro del paréntesis y separado por comas. ¡Vamos a intentarlo!"
      ]
    },
    {
      "cell_type": "code",
      "metadata": {
        "jupyter": {
          "outputs_hidden": false
        },
        "id": "FC8voVFei6Sg",
        "colab_type": "code",
        "outputId": "8865853d-7a70-48ad-f509-2dfef458afb8",
        "colab": {
          "base_uri": "https://localhost:8080/",
          "height": 34
        }
      },
      "source": [
        "# Creamos una lista\n",
        "\n",
        "Lista = [\"Michael Jackson\", 10.1, 1982]\n",
        "Lista"
      ],
      "execution_count": 4,
      "outputs": [
        {
          "output_type": "execute_result",
          "data": {
            "text/plain": [
              "['Michael Jackson', 10.1, 1982]"
            ]
          },
          "metadata": {
            "tags": []
          },
          "execution_count": 4
        }
      ]
    },
    {
      "cell_type": "markdown",
      "metadata": {
        "id": "yPDl9ziPi6Sr",
        "colab_type": "text"
      },
      "source": [
        "Podemos usar indexación negativa y regular con una lista:"
      ]
    },
    {
      "cell_type": "code",
      "metadata": {
        "jupyter": {
          "outputs_hidden": false
        },
        "id": "uyMwlV-Di6Su",
        "colab_type": "code",
        "outputId": "75be11bc-694d-4cf8-c1dc-c02145da2e17",
        "colab": {
          "base_uri": "https://localhost:8080/",
          "height": 170
        }
      },
      "source": [
        "#Imprimimos los elementos en cada índice\n",
        "\n",
        "print('El mismo elemento usando indexación negativa y positiva: \\n Positivo.(0):',L[0],\n",
        "'\\n Negativo.(-3):' , L[-3]  )\n",
        "print('El mismo elemento usando indexación negativa y positiva: \\n Positivo.(1):',L[1],\n",
        "'\\n Negativo.(-2):' , L[-2]  )\n",
        "print('El mismo elemento usando indexación negativa y positiva: \\n Positivo(2):',L[2],\n",
        "'\\n Negativo.(-1):' , L[-1]  )"
      ],
      "execution_count": 7,
      "outputs": [
        {
          "output_type": "stream",
          "text": [
            "El mismo elemento usando indexación negativa y positiva: \n",
            " Positivo.(0): Michael Jackson \n",
            " Negativo.(-3): Michael Jackson\n",
            "El mismo elemento usando indexación negativa y positiva: \n",
            " Positivo.(1): 10.1 \n",
            " Negativo.(-2): 10.1\n",
            "El mismo elemento usando indexación negativa y positiva: \n",
            " Positivo(2): 1982 \n",
            " Negativo.(-1): 1982\n"
          ],
          "name": "stdout"
        }
      ]
    },
    {
      "cell_type": "markdown",
      "metadata": {
        "id": "pgKHIXtKi6S4",
        "colab_type": "text"
      },
      "source": [
        "<h3 id=\"content\">Contenido de Listas</h3>"
      ]
    },
    {
      "cell_type": "markdown",
      "metadata": {
        "id": "Ae-BCYiQi6S6",
        "colab_type": "text"
      },
      "source": [
        "Las listas pueden contener cadenas, flotantes y enteros. Podemos anidar otras listas, y también podemos anidar tuplas y otras estructuras de datos. Las mismas convenciones de indexación se aplican para anidar:"
      ]
    },
    {
      "cell_type": "code",
      "metadata": {
        "jupyter": {
          "outputs_hidden": false
        },
        "id": "k7A17hHxi6S8",
        "colab_type": "code",
        "outputId": "55213a54-e24a-4b47-d5b3-c3599cc29a70",
        "colab": {
          "base_uri": "https://localhost:8080/",
          "height": 34
        }
      },
      "source": [
        "# Lista de muestra\n",
        "\n",
        "[\"Michael Jackson\", 10.1, 1982, [1, 2], (\"A\", 1)]"
      ],
      "execution_count": 8,
      "outputs": [
        {
          "output_type": "execute_result",
          "data": {
            "text/plain": [
              "['Michael Jackson', 10.1, 1982, [1, 2], ('A', 1)]"
            ]
          },
          "metadata": {
            "tags": []
          },
          "execution_count": 8
        }
      ]
    },
    {
      "cell_type": "markdown",
      "metadata": {
        "id": "MJInHcpIi6TE",
        "colab_type": "text"
      },
      "source": [
        "<h3 id=\"op\">Operaciones con Listas.</h3>"
      ]
    },
    {
      "cell_type": "markdown",
      "metadata": {
        "id": "PMqXmjsqi6TF",
        "colab_type": "text"
      },
      "source": [
        "También podemos realizar slicing en listas. Por ejemplo, si queremos los **dos** últimos elementos, usamos el siguiente comando:"
      ]
    },
    {
      "cell_type": "code",
      "metadata": {
        "jupyter": {
          "outputs_hidden": false
        },
        "id": "PnV7Jojfi6TG",
        "colab_type": "code",
        "colab": {
          "base_uri": "https://localhost:8080/",
          "height": 34
        },
        "outputId": "e837c164-d6a9-4e75-8ebb-8099070343d6"
      },
      "source": [
        "# Muestra Lista\n",
        "\n",
        "L = [\"Michael Jackson\", 10.1,1982,\"MJ\",1]\n",
        "L"
      ],
      "execution_count": 9,
      "outputs": [
        {
          "output_type": "execute_result",
          "data": {
            "text/plain": [
              "['Michael Jackson', 10.1, 1982, 'MJ', 1]"
            ]
          },
          "metadata": {
            "tags": []
          },
          "execution_count": 9
        }
      ]
    },
    {
      "cell_type": "code",
      "metadata": {
        "jupyter": {
          "outputs_hidden": false
        },
        "id": "gXALlCZUi6TS",
        "colab_type": "code",
        "colab": {
          "base_uri": "https://localhost:8080/",
          "height": 34
        },
        "outputId": "9ae38c7f-284c-4354-f93f-df5b99d77f64"
      },
      "source": [
        "#slicing Lista\n",
        "\n",
        "L[3:5]"
      ],
      "execution_count": 10,
      "outputs": [
        {
          "output_type": "execute_result",
          "data": {
            "text/plain": [
              "['MJ', 1]"
            ]
          },
          "metadata": {
            "tags": []
          },
          "execution_count": 10
        }
      ]
    },
    {
      "cell_type": "markdown",
      "metadata": {
        "id": "zCw8i_Tai6Tb",
        "colab_type": "text"
      },
      "source": [
        "Podemos usar el método <code>extend</code> para agregar nuevos elementos a la lista:"
      ]
    },
    {
      "cell_type": "code",
      "metadata": {
        "jupyter": {
          "outputs_hidden": false
        },
        "id": "DPmGLJF3i6Td",
        "colab_type": "code",
        "colab": {
          "base_uri": "https://localhost:8080/",
          "height": 34
        },
        "outputId": "1c8d4bb4-b339-409e-a585-727f17d926a8"
      },
      "source": [
        "# Uso de extend para aadir elemantos a la lista\n",
        "\n",
        "Lista = [ \"Michael Jackson\", 10.2]\n",
        "Lista.extend(['pop', 10])\n",
        "Lista"
      ],
      "execution_count": 11,
      "outputs": [
        {
          "output_type": "execute_result",
          "data": {
            "text/plain": [
              "['Michael Jackson', 10.2, 'pop', 10]"
            ]
          },
          "metadata": {
            "tags": []
          },
          "execution_count": 11
        }
      ]
    },
    {
      "cell_type": "markdown",
      "metadata": {
        "id": "rENqrhM8i6Ti",
        "colab_type": "text"
      },
      "source": [
        "Otro método similar es <code> append</code>. Si aplicamos <code> append</code> en lugar de <code> extend</code>, agregaremos un elemento a la lista:"
      ]
    },
    {
      "cell_type": "code",
      "metadata": {
        "jupyter": {
          "outputs_hidden": false
        },
        "id": "Lox4g0kUi6Tk",
        "colab_type": "code",
        "colab": {
          "base_uri": "https://localhost:8080/",
          "height": 34
        },
        "outputId": "081e7cf5-9603-4b26-b1d4-63512c35d161"
      },
      "source": [
        "# Uso de append para añadir elementos\n",
        "\n",
        "Lista = [ \"Michael Jackson\", 10.2]\n",
        "Lista.append(['pop', 10])\n",
        "Lista"
      ],
      "execution_count": 12,
      "outputs": [
        {
          "output_type": "execute_result",
          "data": {
            "text/plain": [
              "['Michael Jackson', 10.2, ['pop', 10]]"
            ]
          },
          "metadata": {
            "tags": []
          },
          "execution_count": 12
        }
      ]
    },
    {
      "cell_type": "markdown",
      "metadata": {
        "id": "TH6v5P6Vi6Tw",
        "colab_type": "text"
      },
      "source": [
        "Cada vez que aplicamos un método, la lista cambia. Si aplicamos <code> extend</code>, agregamos dos elementos nuevos a la lista. La lista <code> Lista</code> se modifica agregando dos elementos nuevos:"
      ]
    },
    {
      "cell_type": "code",
      "metadata": {
        "jupyter": {
          "outputs_hidden": false
        },
        "id": "TKlnP4yhi6Tx",
        "colab_type": "code",
        "colab": {
          "base_uri": "https://localhost:8080/",
          "height": 34
        },
        "outputId": "abc6cee5-99ca-44c4-b912-2229eb7811d4"
      },
      "source": [
        "# Uso de extend para añadir elementos a la lista\n",
        "\n",
        "Lista = [ \"Michael Jackson\", 10.2]\n",
        "Lista.extend(['pop', 10])\n",
        "Lista"
      ],
      "execution_count": 13,
      "outputs": [
        {
          "output_type": "execute_result",
          "data": {
            "text/plain": [
              "['Michael Jackson', 10.2, 'pop', 10]"
            ]
          },
          "metadata": {
            "tags": []
          },
          "execution_count": 13
        }
      ]
    },
    {
      "cell_type": "markdown",
      "metadata": {
        "id": "H8GhPvkLi6T4",
        "colab_type": "text"
      },
      "source": [
        "Si agregamos la lista <code> ['a', 'b'] </code> tenemos un nuevo elemento que consiste en una lista anidada:"
      ]
    },
    {
      "cell_type": "code",
      "metadata": {
        "jupyter": {
          "outputs_hidden": false
        },
        "id": "9FaeceW9i6T7",
        "colab_type": "code",
        "colab": {
          "base_uri": "https://localhost:8080/",
          "height": 34
        },
        "outputId": "56f7f96b-09b5-4364-8cb4-6af3feffc259"
      },
      "source": [
        "# Uso de append para añadir elementos a la lista\n",
        "\n",
        "Lista.append(['a','b'])\n",
        "Lista"
      ],
      "execution_count": 14,
      "outputs": [
        {
          "output_type": "execute_result",
          "data": {
            "text/plain": [
              "['Michael Jackson', 10.2, 'pop', 10, ['a', 'b']]"
            ]
          },
          "metadata": {
            "tags": []
          },
          "execution_count": 14
        }
      ]
    },
    {
      "cell_type": "markdown",
      "metadata": {
        "id": "J8k-svOhi6UD",
        "colab_type": "text"
      },
      "source": [
        "Como las listas son mutables, podemos cambiarlas. Por ejemplo, podemos cambiar el primer elemento de la siguiente manera:"
      ]
    },
    {
      "cell_type": "code",
      "metadata": {
        "jupyter": {
          "outputs_hidden": false
        },
        "id": "-qBjuQozi6UF",
        "colab_type": "code",
        "colab": {
          "base_uri": "https://localhost:8080/",
          "height": 51
        },
        "outputId": "0b6a041c-8e67-404d-ffe2-07deb51c9dfe"
      },
      "source": [
        "# Cambiar el elemento según el índice\n",
        "\n",
        "A = [\"disco\", 10, 1.2]\n",
        "print('Antes del cambio:', A)\n",
        "A[0] = 'hard rock'\n",
        "print('Despues del cambio:', A)"
      ],
      "execution_count": 15,
      "outputs": [
        {
          "output_type": "stream",
          "text": [
            "Antes del cambio: ['disco', 10, 1.2]\n",
            "Despues del cambio: ['hard rock', 10, 1.2]\n"
          ],
          "name": "stdout"
        }
      ]
    },
    {
      "cell_type": "markdown",
      "metadata": {
        "id": "wtpeohFii6UN",
        "colab_type": "text"
      },
      "source": [
        "También podemos eliminar un elemento de una lista usando el comando <code> del</code>:"
      ]
    },
    {
      "cell_type": "code",
      "metadata": {
        "jupyter": {
          "outputs_hidden": false
        },
        "id": "xqZa-gLei6UO",
        "colab_type": "code",
        "colab": {
          "base_uri": "https://localhost:8080/",
          "height": 51
        },
        "outputId": "3f5a0500-e98f-432a-8146-c662abb7b6f0"
      },
      "source": [
        "# Eliminar el elemento basado en el índice\n",
        "\n",
        "print('Antes:', A)\n",
        "del(A[0])\n",
        "print('Despues:', A)"
      ],
      "execution_count": 16,
      "outputs": [
        {
          "output_type": "stream",
          "text": [
            "Antes: ['hard rock', 10, 1.2]\n",
            "Despues: [10, 1.2]\n"
          ],
          "name": "stdout"
        }
      ]
    },
    {
      "cell_type": "markdown",
      "metadata": {
        "id": "K1nlCJUIi6Ub",
        "colab_type": "text"
      },
      "source": [
        "Podemos convertir una cadena en una lista usando <code> split</code>. Por ejemplo, el método <code> split</code> traduce cada grupo de caracteres separados por un espacio en un elemento en una lista:"
      ]
    },
    {
      "cell_type": "code",
      "metadata": {
        "jupyter": {
          "outputs_hidden": false
        },
        "id": "6cVVzHkSi6Uc",
        "colab_type": "code",
        "colab": {
          "base_uri": "https://localhost:8080/",
          "height": 34
        },
        "outputId": "df083a5f-99f7-42e9-b61f-cfecb660cf2f"
      },
      "source": [
        "# Split de la cadena, el valor predeterminado es por espacio\n",
        "\n",
        "'hard rock'.split()"
      ],
      "execution_count": 24,
      "outputs": [
        {
          "output_type": "execute_result",
          "data": {
            "text/plain": [
              "['hard', 'rock']"
            ]
          },
          "metadata": {
            "tags": []
          },
          "execution_count": 24
        }
      ]
    },
    {
      "cell_type": "markdown",
      "metadata": {
        "id": "7R5xquLGi6Um",
        "colab_type": "text"
      },
      "source": [
        "Podemos usar la función split para separar cadenas en un carácter específico. Pasamos el carácter que nos gustaría dividir en el argumento, que en este caso es una coma. El resultado es una lista, y cada elemento corresponde a un conjunto de caracteres que han sido separados por una coma:"
      ]
    },
    {
      "cell_type": "code",
      "metadata": {
        "jupyter": {
          "outputs_hidden": false
        },
        "id": "Tyra9jkAi6Uo",
        "colab_type": "code",
        "colab": {
          "base_uri": "https://localhost:8080/",
          "height": 34
        },
        "outputId": "bd1cddc4-d35a-4033-85cd-6319f006cf59"
      },
      "source": [
        "# Separamos la cadena por comas\n",
        "\n",
        "'A,B,C,D'.split(',')"
      ],
      "execution_count": 25,
      "outputs": [
        {
          "output_type": "execute_result",
          "data": {
            "text/plain": [
              "['A', 'B', 'C', 'D']"
            ]
          },
          "metadata": {
            "tags": []
          },
          "execution_count": 25
        }
      ]
    },
    {
      "cell_type": "markdown",
      "metadata": {
        "id": "ZmxE8fCxi6Uw",
        "colab_type": "text"
      },
      "source": [
        "<h3 id=\"co\">Copia y clonacion de listas</h3>"
      ]
    },
    {
      "cell_type": "markdown",
      "metadata": {
        "id": "mKgtq8Abi6Ux",
        "colab_type": "text"
      },
      "source": [
        "Cuando establecemos una variable <b> B </b> igual a <b> A </b>; tanto <b> A </b> como <b> B </b> hacen referencia a la misma lista en la memoria:"
      ]
    },
    {
      "cell_type": "code",
      "metadata": {
        "jupyter": {
          "outputs_hidden": false
        },
        "id": "d3zXSQsqi6Uy",
        "colab_type": "code",
        "colab": {
          "base_uri": "https://localhost:8080/",
          "height": 51
        },
        "outputId": "daf1ecc9-d160-425a-c7e6-4b7cba4c5167"
      },
      "source": [
        "# Copia por referencia de la lista A\n",
        "\n",
        "A = [\"hard rock\", 10, 1.2]\n",
        "B = A\n",
        "print('A:', A)\n",
        "print('B:', B)"
      ],
      "execution_count": 26,
      "outputs": [
        {
          "output_type": "stream",
          "text": [
            "A: ['hard rock', 10, 1.2]\n",
            "B: ['hard rock', 10, 1.2]\n"
          ],
          "name": "stdout"
        }
      ]
    },
    {
      "cell_type": "markdown",
      "metadata": {
        "id": "Fz4gyvmhi6U6",
        "colab_type": "text"
      },
      "source": [
        "Inicialmente, el valor del primer elemento en <b> B </b> se establece como hard rock. Si cambiamos el primer elemento en <b> A </b> a <b> banana </b>, obtenemos un efecto secundario inesperado. Como <b> A </b> y <b> B </b> hacen referencia a la misma lista, si cambiamos la lista <b> A </b>, la lista <b> B </b> también cambia. Si verificamos el primer elemento de <b> B </b> obtenemos banana en lugar de hard rock:"
      ]
    },
    {
      "cell_type": "code",
      "metadata": {
        "jupyter": {
          "outputs_hidden": false
        },
        "id": "R-kCJcWCi6U_",
        "colab_type": "code",
        "colab": {
          "base_uri": "https://localhost:8080/",
          "height": 51
        },
        "outputId": "7a7618b9-610c-4642-f813-5f0068b7c173"
      },
      "source": [
        "# Examinamos la copia por referencia\n",
        "\n",
        "print('B[0]:', B[0])\n",
        "A[0] = \"banana\"\n",
        "print('B[0]:', B[0])"
      ],
      "execution_count": 28,
      "outputs": [
        {
          "output_type": "stream",
          "text": [
            "B[0]: banana\n",
            "B[0]: banana\n"
          ],
          "name": "stdout"
        }
      ]
    },
    {
      "cell_type": "markdown",
      "metadata": {
        "id": "5RhYyyRni6VF",
        "colab_type": "text"
      },
      "source": [
        "Esto se demuestra en la siguiente figura:"
      ]
    },
    {
      "cell_type": "markdown",
      "metadata": {
        "id": "Zd2HgVrIi6VI",
        "colab_type": "text"
      },
      "source": [
        "Puedes clonar la lista **A** utilizando la siguiente sintaxis:"
      ]
    },
    {
      "cell_type": "code",
      "metadata": {
        "jupyter": {
          "outputs_hidden": false
        },
        "id": "BtHa6WS1i6VJ",
        "colab_type": "code",
        "colab": {
          "base_uri": "https://localhost:8080/",
          "height": 34
        },
        "outputId": "9945808e-46a2-4108-bfa0-7d38a5aed22e"
      },
      "source": [
        "# Clonar (clonar por valor) la lista A\n",
        "\n",
        "B = A[:]\n",
        "B"
      ],
      "execution_count": 29,
      "outputs": [
        {
          "output_type": "execute_result",
          "data": {
            "text/plain": [
              "['banana', 10, 1.2]"
            ]
          },
          "metadata": {
            "tags": []
          },
          "execution_count": 29
        }
      ]
    },
    {
      "cell_type": "markdown",
      "metadata": {
        "id": "QN5WY72hi6VR",
        "colab_type": "text"
      },
      "source": [
        "La variable **B** hace referencia a una nueva copia o clon de la lista original."
      ]
    },
    {
      "cell_type": "markdown",
      "metadata": {
        "id": "Au0X1JtGi6VW",
        "colab_type": "text"
      },
      "source": [
        "Ahora, si cambias <b> A </b>, <b> B </b> no cambiará:"
      ]
    },
    {
      "cell_type": "code",
      "metadata": {
        "jupyter": {
          "outputs_hidden": false
        },
        "id": "eTIUZa0_i6VX",
        "colab_type": "code",
        "colab": {
          "base_uri": "https://localhost:8080/",
          "height": 51
        },
        "outputId": "be418a12-c757-4990-e396-04cd8c70c701"
      },
      "source": [
        "print('B[0]:', B[0])\n",
        "A[0] = \"hard rock\"\n",
        "print('B[0]:', B[0])"
      ],
      "execution_count": 30,
      "outputs": [
        {
          "output_type": "stream",
          "text": [
            "B[0]: banana\n",
            "B[0]: banana\n"
          ],
          "name": "stdout"
        }
      ]
    },
    {
      "cell_type": "markdown",
      "metadata": {
        "id": "KZxIFZzPi6Vj",
        "colab_type": "text"
      },
      "source": [
        "<h2 id=\"quiz\">Quiz de listas</h2>"
      ]
    },
    {
      "cell_type": "markdown",
      "metadata": {
        "id": "awO89qsai6Vk",
        "colab_type": "text"
      },
      "source": [
        "Cree una lista <code> a_list </code>, con los siguientes elementos <code> 1 </code>, <code> hello </code>, <code> [1,2,3] </code> y < code> True </code>."
      ]
    },
    {
      "cell_type": "code",
      "metadata": {
        "jupyter": {
          "outputs_hidden": false
        },
        "id": "orcOC42_i6Vn",
        "colab_type": "code",
        "colab": {}
      },
      "source": [
        "# Escribe tu respuesta aqui"
      ],
      "execution_count": 0,
      "outputs": []
    },
    {
      "cell_type": "markdown",
      "metadata": {
        "id": "GLrG6I38i6Vu",
        "colab_type": "text"
      },
      "source": [
        "Doble-click <b>aqui</b> para la solucion.\n",
        "\n",
        "<!-- Respuesta:\n",
        "a_list = [1, 'hello', [1, 2, 3] , True]\n",
        "a_list\n",
        "-->"
      ]
    },
    {
      "cell_type": "markdown",
      "metadata": {
        "id": "41Putu-Oi6Vv",
        "colab_type": "text"
      },
      "source": [
        "Encuentre el valor almacenado en el índice 1 de <code> a_list </code>."
      ]
    },
    {
      "cell_type": "code",
      "metadata": {
        "jupyter": {
          "outputs_hidden": false
        },
        "id": "Hsu0uaJbi6Vw",
        "colab_type": "code",
        "colab": {}
      },
      "source": [
        "# Escribe tu respuesta aqui"
      ],
      "execution_count": 0,
      "outputs": []
    },
    {
      "cell_type": "markdown",
      "metadata": {
        "id": "jO_X1tU9i6V3",
        "colab_type": "text"
      },
      "source": [
        "Double-click <b>here</b> for the solution.\n",
        "\n",
        "<!-- Respuesta\n",
        "a_list[1]\n",
        "-->"
      ]
    },
    {
      "cell_type": "markdown",
      "metadata": {
        "id": "16gQjgKci6V4",
        "colab_type": "text"
      },
      "source": [
        "Recupere los elementos almacenados en los índices 1, 2 y 3 de <code> a_list </code>."
      ]
    },
    {
      "cell_type": "code",
      "metadata": {
        "jupyter": {
          "outputs_hidden": false
        },
        "id": "dr6vKv2wi6V5",
        "colab_type": "code",
        "colab": {}
      },
      "source": [
        "# Escribe tu respuesta"
      ],
      "execution_count": 0,
      "outputs": []
    },
    {
      "cell_type": "markdown",
      "metadata": {
        "id": "_dGJKW-Yi6WD",
        "colab_type": "text"
      },
      "source": [
        "Doble-click <b>aqui</b> para la solucion.\n",
        "\n",
        "<!-- Your answer is below:\n",
        "a_list[1:4]\n",
        "-->"
      ]
    },
    {
      "cell_type": "markdown",
      "metadata": {
        "id": "w0DOckjSi6WG",
        "colab_type": "text"
      },
      "source": [
        "Concatene las siguientes listas <code> A = [1, 'a'] </code> y <code> B = [2, 1, 'd'] </code>:"
      ]
    },
    {
      "cell_type": "code",
      "metadata": {
        "jupyter": {
          "outputs_hidden": true
        },
        "id": "8nDz7M_Mi6WH",
        "colab_type": "code",
        "colab": {}
      },
      "source": [
        ""
      ],
      "execution_count": 0,
      "outputs": []
    },
    {
      "cell_type": "markdown",
      "metadata": {
        "id": "hc5_oEwdi6Wa",
        "colab_type": "text"
      },
      "source": [
        "Doble-click <b>aqui</b> para la solucion.\n",
        "\n",
        "<!-- Respuesta:\n",
        "A = [1, 'a'] \n",
        "B = [2, 1, 'd']\n",
        "A + B\n",
        "-->"
      ]
    },
    {
      "cell_type": "markdown",
      "metadata": {
        "id": "NifXnLKSi6Wm",
        "colab_type": "text"
      },
      "source": [
        "<h3>Acerca del Autor:</h3>  \n",
        "<p><a href=\"https://www.linkedin.com/in/fernando-v%C3%A1zquez-058189177//\" target=\"_blank\">Fernando Vazquez </a> ,estudiante de la licenciatura matematicas aplicadas & computacion, con proceso a cientifico de datos .</p>"
      ]
    }
  ]
}