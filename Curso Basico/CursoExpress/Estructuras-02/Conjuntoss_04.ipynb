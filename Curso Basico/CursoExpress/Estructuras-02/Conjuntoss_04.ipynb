{
  "nbformat": 4,
  "nbformat_minor": 0,
  "metadata": {
    "kernelspec": {
      "display_name": "Python 3",
      "language": "python",
      "name": "python3"
    },
    "language_info": {
      "codemirror_mode": {
        "name": "ipython",
        "version": 3
      },
      "file_extension": ".py",
      "mimetype": "text/x-python",
      "name": "python",
      "nbconvert_exporter": "python",
      "pygments_lexer": "ipython3",
      "version": "3.6.8"
    },
    "colab": {
      "name": "Conjuntoss-04.ipynb",
      "provenance": [],
      "collapsed_sections": []
    }
  },
  "cells": [
    {
      "cell_type": "markdown",
      "metadata": {
        "id": "xsX9GZ_IFmvD",
        "colab_type": "text"
      },
      "source": [
        "<a href=\"https://github.com/Chilangdon20/PYTHON/tree/master/Curso%20Basico/CursoExpress/Imagenes\">\n",
        "    <img src=\"https://raw.githubusercontent.com/Chilangdon20/PYTHON/master/Curso%20Basico/CursoExpress/Imagenes/Chilangodn.png\" width=\"200\" align=\"center\">\n",
        "</a>"
      ]
    },
    {
      "cell_type": "markdown",
      "metadata": {
        "id": "LQTZrD4XFmvG",
        "colab_type": "text"
      },
      "source": [
        "<h1>Sets en Python</h1>"
      ]
    },
    {
      "cell_type": "markdown",
      "metadata": {
        "id": "j8mm-KaPFmvL",
        "colab_type": "text"
      },
      "source": [
        "<p> <strong> ¡Bienvenido! </strong> este cuaderno le enseñará acerca de los conjuntos en el lenguaje de programación Python. Al final de esta práctica de laboratorio, conocerá las operaciones básicas de configuración en Python, incluyendo lo que es, operaciones y operaciones lógicas. </p>\n",
        "\n",
        "\n",
        "link:\n",
        "\n",
        "https://colab.research.google.com/drive/1PrrmzPN4Ik7S18qwkTmZ-HlX76GrwRBG?usp=sharing"
      ]
    },
    {
      "cell_type": "markdown",
      "metadata": {
        "id": "COYEjsEgFmvP",
        "colab_type": "text"
      },
      "source": [
        "<h2 id=\"set\">Sets</h2>"
      ]
    },
    {
      "cell_type": "markdown",
      "metadata": {
        "id": "BHiMcqD-FmvR",
        "colab_type": "text"
      },
      "source": [
        "<h3 id=\"content\">Contenido Sets</h3>"
      ]
    },
    {
      "cell_type": "markdown",
      "metadata": {
        "id": "UsCx7N4wFmvT",
        "colab_type": "text"
      },
      "source": [
        "Un conjunto(**Set)** es una colección única de objetos en Python. Puedes denotar un conjunto con una llave <b> {} </b>. Python eliminará automáticamente los elementos duplicados:"
      ]
    },
    {
      "cell_type": "code",
      "metadata": {
        "id": "uhOs10usFmvU",
        "colab_type": "code",
        "colab": {
          "base_uri": "https://localhost:8080/",
          "height": 34
        },
        "outputId": "7dd2e656-7c68-4c52-f7fe-67818ea72a62"
      },
      "source": [
        "# Cremos un set\n",
        "\n",
        "set1 = {\"pop\", \"rock\", \"soul\", \"hard rock\", \"rock\", \"R&B\", \"rock\", \"disco\"}\n",
        "set1"
      ],
      "execution_count": 1,
      "outputs": [
        {
          "output_type": "execute_result",
          "data": {
            "text/plain": [
              "{'R&B', 'disco', 'hard rock', 'pop', 'rock', 'soul'}"
            ]
          },
          "metadata": {
            "tags": []
          },
          "execution_count": 1
        }
      ]
    },
    {
      "cell_type": "markdown",
      "metadata": {
        "id": "3lZgJKSDFmvb",
        "colab_type": "text"
      },
      "source": [
        "Podemos ver el proceso de su funcionamiento ene sta imagen"
      ]
    },
    {
      "cell_type": "markdown",
      "metadata": {
        "id": "QNS4oRlGFmvc",
        "colab_type": "text"
      },
      "source": [
        "<img src=\"https://s3-api.us-geo.objectstorage.softlayer.net/cf-courses-data/CognitiveClass/PY0101EN/Chapter%202/Images/SetsUnique.png\" width=\"1100\" />"
      ]
    },
    {
      "cell_type": "markdown",
      "metadata": {
        "id": "i7OH8kg9Fmvd",
        "colab_type": "text"
      },
      "source": [
        "También puedes crear un conjunto de una lista de la siguiente manera:"
      ]
    },
    {
      "cell_type": "code",
      "metadata": {
        "scrolled": true,
        "id": "gV993yiwFmvd",
        "colab_type": "code",
        "colab": {
          "base_uri": "https://localhost:8080/",
          "height": 194
        },
        "outputId": "fd4825bc-1d97-4098-9e4d-861a4e07cd2d"
      },
      "source": [
        "# Convirtiendo una lista a un set\n",
        "\n",
        "album_list = [ \"Michael Jackson\", \"Thriller\", 1982, \"00:42:19\", \\\n",
        "              \"Pop, Rock, R&B\", 46.0, 65, \"30-Nov-82\", None, 10.0]\n",
        "album_set = set(album_list)             \n",
        "album_set"
      ],
      "execution_count": 2,
      "outputs": [
        {
          "output_type": "execute_result",
          "data": {
            "text/plain": [
              "{'00:42:19',\n",
              " 10.0,\n",
              " 1982,\n",
              " '30-Nov-82',\n",
              " 46.0,\n",
              " 65,\n",
              " 'Michael Jackson',\n",
              " None,\n",
              " 'Pop, Rock, R&B',\n",
              " 'Thriller'}"
            ]
          },
          "metadata": {
            "tags": []
          },
          "execution_count": 2
        }
      ]
    },
    {
      "cell_type": "markdown",
      "metadata": {
        "id": "F2ejyVbYFmvj",
        "colab_type": "text"
      },
      "source": [
        "Ahora creemos un conjunto de géneros:"
      ]
    },
    {
      "cell_type": "code",
      "metadata": {
        "id": "qOxp2mLYFmvk",
        "colab_type": "code",
        "colab": {
          "base_uri": "https://localhost:8080/",
          "height": 176
        },
        "outputId": "97cac25a-a5aa-41c7-ebec-f3cb4a9b9248"
      },
      "source": [
        "# Convertimos una lista a un conjunjto\n",
        "\n",
        "genero_musica = set([\"pop\", \"pop\", \"rock\", \"folk rock\", \"hard rock\", \"soul\", \\\n",
        "                    \"progressive rock\", \"soft rock\", \"R&B\", \"disco\"])\n",
        "genero_musica"
      ],
      "execution_count": 3,
      "outputs": [
        {
          "output_type": "execute_result",
          "data": {
            "text/plain": [
              "{'R&B',\n",
              " 'disco',\n",
              " 'folk rock',\n",
              " 'hard rock',\n",
              " 'pop',\n",
              " 'progressive rock',\n",
              " 'rock',\n",
              " 'soft rock',\n",
              " 'soul'}"
            ]
          },
          "metadata": {
            "tags": []
          },
          "execution_count": 3
        }
      ]
    },
    {
      "cell_type": "markdown",
      "metadata": {
        "id": "q1EVBz7TFmvp",
        "colab_type": "text"
      },
      "source": [
        "<h3 id=\"op\">Operaciones con Conjuntos</h3> "
      ]
    },
    {
      "cell_type": "markdown",
      "metadata": {
        "id": "e-rrRChNFmvq",
        "colab_type": "text"
      },
      "source": [
        "Repasemos las operaciones del conjunto, ya que se pueden usar para cambiar el conjunto. Considere el conjunto <b> A </b>:"
      ]
    },
    {
      "cell_type": "code",
      "metadata": {
        "id": "h0otO33JFmvq",
        "colab_type": "code",
        "colab": {
          "base_uri": "https://localhost:8080/",
          "height": 34
        },
        "outputId": "a17ab163-c8f9-4b5f-8d66-f8396751b1df"
      },
      "source": [
        "# Conjunto de muestra\n",
        "\n",
        "A = set([\"Thriller\", \"Back in Black\", \"AC/DC\"])\n",
        "A"
      ],
      "execution_count": 5,
      "outputs": [
        {
          "output_type": "execute_result",
          "data": {
            "text/plain": [
              "{'AC/DC', 'Back in Black', 'Thriller'}"
            ]
          },
          "metadata": {
            "tags": []
          },
          "execution_count": 5
        }
      ]
    },
    {
      "cell_type": "markdown",
      "metadata": {
        "id": "39_PSzMAFmvz",
        "colab_type": "text"
      },
      "source": [
        "Podemos agregar un elemento a un conjunto utilizando el método <code> add () </code>:"
      ]
    },
    {
      "cell_type": "code",
      "metadata": {
        "id": "RIDed3MGFmv0",
        "colab_type": "code",
        "colab": {
          "base_uri": "https://localhost:8080/",
          "height": 34
        },
        "outputId": "e76500ac-40f0-414c-83ae-555556c115b4"
      },
      "source": [
        "# Añadimos un elemento a la lista\n",
        "\n",
        "A.add(\"NSYNC\")\n",
        "A"
      ],
      "execution_count": 6,
      "outputs": [
        {
          "output_type": "execute_result",
          "data": {
            "text/plain": [
              "{'AC/DC', 'Back in Black', 'NSYNC', 'Thriller'}"
            ]
          },
          "metadata": {
            "tags": []
          },
          "execution_count": 6
        }
      ]
    },
    {
      "cell_type": "markdown",
      "metadata": {
        "id": "hFAljdSbFmv5",
        "colab_type": "text"
      },
      "source": [
        "Si agregamos el mismo elemento dos veces, no pasará nada ya que no puede haber duplicados en un conjunto:\n"
      ]
    },
    {
      "cell_type": "code",
      "metadata": {
        "id": "2cMkOLEzFmv6",
        "colab_type": "code",
        "colab": {
          "base_uri": "https://localhost:8080/",
          "height": 34
        },
        "outputId": "45ea322c-f4a4-4bba-e0ef-8d90ade6db6e"
      },
      "source": [
        "# Tratamos de agregar el mismo elemento\n",
        "\n",
        "A.add(\"NSYNC\")\n",
        "A"
      ],
      "execution_count": 7,
      "outputs": [
        {
          "output_type": "execute_result",
          "data": {
            "text/plain": [
              "{'AC/DC', 'Back in Black', 'NSYNC', 'Thriller'}"
            ]
          },
          "metadata": {
            "tags": []
          },
          "execution_count": 7
        }
      ]
    },
    {
      "cell_type": "markdown",
      "metadata": {
        "id": "2v1QiFOUFmv_",
        "colab_type": "text"
      },
      "source": [
        "Podemos eliminar un elemento de un conjunto utilizando el método <code> remove </code>:"
      ]
    },
    {
      "cell_type": "code",
      "metadata": {
        "id": "xGHdxcjMFmwA",
        "colab_type": "code",
        "colab": {
          "base_uri": "https://localhost:8080/",
          "height": 34
        },
        "outputId": "d591c4b1-0712-4731-ef74-e62f8a89ce2f"
      },
      "source": [
        "#   Removemos un elemnto del conjunto\n",
        "\n",
        "A.remove(\"NSYNC\")\n",
        "A"
      ],
      "execution_count": 8,
      "outputs": [
        {
          "output_type": "execute_result",
          "data": {
            "text/plain": [
              "{'AC/DC', 'Back in Black', 'Thriller'}"
            ]
          },
          "metadata": {
            "tags": []
          },
          "execution_count": 8
        }
      ]
    },
    {
      "cell_type": "markdown",
      "metadata": {
        "id": "ShXIaI0wFmwF",
        "colab_type": "text"
      },
      "source": [
        "Podemos verificar si un elemento está en el conjunto usando el comando <code> in </code>:"
      ]
    },
    {
      "cell_type": "code",
      "metadata": {
        "id": "rBJOb10KFmwG",
        "colab_type": "code",
        "colab": {
          "base_uri": "https://localhost:8080/",
          "height": 34
        },
        "outputId": "79cc8556-db14-417d-e0e4-0b6a70f27cb1"
      },
      "source": [
        "# Verificamos que el elemnto de el ocnjunto exista\n",
        "\n",
        "\"AC/DC\" in A"
      ],
      "execution_count": 9,
      "outputs": [
        {
          "output_type": "execute_result",
          "data": {
            "text/plain": [
              "True"
            ]
          },
          "metadata": {
            "tags": []
          },
          "execution_count": 9
        }
      ]
    },
    {
      "cell_type": "markdown",
      "metadata": {
        "id": "nIOzGybtFmwQ",
        "colab_type": "text"
      },
      "source": [
        "<h3 id=\"logic\">Operaciones logicas con conjuntos</h3>"
      ]
    },
    {
      "cell_type": "markdown",
      "metadata": {
        "id": "ldkOm36pFmwR",
        "colab_type": "text"
      },
      "source": [
        "Recuerda que con conjuntos puedes verificar la diferencia entre conjuntos, así como la diferencia simétrica, intersección y unión:"
      ]
    },
    {
      "cell_type": "markdown",
      "metadata": {
        "id": "SslCev7mFmwS",
        "colab_type": "text"
      },
      "source": [
        "Considera los siguientes dos conjuntos:"
      ]
    },
    {
      "cell_type": "code",
      "metadata": {
        "id": "pGQS0GlmFmwW",
        "colab_type": "code",
        "colab": {}
      },
      "source": [
        "# Conjuntos de muestra\n",
        "\n",
        "album_set1 = set([\"Thriller\", 'AC/DC', 'Back in Black'])\n",
        "album_set2 = set([ \"AC/DC\", \"Back in Black\", \"The Dark Side of the Moon\"])"
      ],
      "execution_count": 0,
      "outputs": []
    },
    {
      "cell_type": "markdown",
      "metadata": {
        "id": "cQIYR3-7Fmwa",
        "colab_type": "text"
      },
      "source": [
        "<img src=\"https://s3-api.us-geo.objectstorage.softlayer.net/cf-courses-data/CognitiveClass/PY0101EN/Chapter%202/Images/SetsSamples.png\" width=\"650\" />"
      ]
    },
    {
      "cell_type": "code",
      "metadata": {
        "scrolled": true,
        "id": "Fv4yKF9VFmwb",
        "colab_type": "code",
        "colab": {
          "base_uri": "https://localhost:8080/",
          "height": 52
        },
        "outputId": "403d0328-e99b-4b60-893c-fe40a02cd701"
      },
      "source": [
        "# imprimimos los 2 sets\n",
        "\n",
        "album_set1, album_set2"
      ],
      "execution_count": 11,
      "outputs": [
        {
          "output_type": "execute_result",
          "data": {
            "text/plain": [
              "({'AC/DC', 'Back in Black', 'Thriller'},\n",
              " {'AC/DC', 'Back in Black', 'The Dark Side of the Moon'})"
            ]
          },
          "metadata": {
            "tags": []
          },
          "execution_count": 11
        }
      ]
    },
    {
      "cell_type": "markdown",
      "metadata": {
        "id": "24s_79DBFmwf",
        "colab_type": "text"
      },
      "source": [
        "Como ambos conjuntos contienen <b> AC / DC </b> y <b> Back in Black </b> representamos estos elementos comunes con la intersección de dos círculos."
      ]
    },
    {
      "cell_type": "markdown",
      "metadata": {
        "id": "mboyg2TuFmwg",
        "colab_type": "text"
      },
      "source": [
        "<img src = \"https://s3-api.us-geo.objectstorage.softlayer.net/cf-courses-data/CognitiveClass/PY0101EN/Chapter%202/Images/SetsLogic.png\" width = \"650\" />"
      ]
    },
    {
      "cell_type": "markdown",
      "metadata": {
        "id": "v27nYJ5GFmwh",
        "colab_type": "text"
      },
      "source": [
        "Puede encontrar la intersección de dos conjuntos de la siguiente manera usando <code> & </code>:"
      ]
    },
    {
      "cell_type": "code",
      "metadata": {
        "id": "fMkpTf1wFmwi",
        "colab_type": "code",
        "colab": {
          "base_uri": "https://localhost:8080/",
          "height": 34
        },
        "outputId": "5771ec31-0195-40da-ed93-3b3f4c1eb407"
      },
      "source": [
        "# Busquemos  las intersecciones\n",
        "\n",
        "intersection = album_set1 & album_set2\n",
        "intersection"
      ],
      "execution_count": 12,
      "outputs": [
        {
          "output_type": "execute_result",
          "data": {
            "text/plain": [
              "{'AC/DC', 'Back in Black'}"
            ]
          },
          "metadata": {
            "tags": []
          },
          "execution_count": 12
        }
      ]
    },
    {
      "cell_type": "markdown",
      "metadata": {
        "id": "-uOmJKjlFmwn",
        "colab_type": "text"
      },
      "source": [
        "Puedes encontrar todos los elementos que solo están contenidos en <code> album_set1 </code> utilizando el método <code> diferencia </code>:"
      ]
    },
    {
      "cell_type": "code",
      "metadata": {
        "id": "ERY7qK-iFmwp",
        "colab_type": "code",
        "colab": {
          "base_uri": "https://localhost:8080/",
          "height": 34
        },
        "outputId": "a4cce2f2-eab3-4c17-e8bf-142431be0496"
      },
      "source": [
        "# Encontremos  la diferencia en set1 pero no en set2\n",
        "album_set1.difference(album_set2)  "
      ],
      "execution_count": 13,
      "outputs": [
        {
          "output_type": "execute_result",
          "data": {
            "text/plain": [
              "{'Thriller'}"
            ]
          },
          "metadata": {
            "tags": []
          },
          "execution_count": 13
        }
      ]
    },
    {
      "cell_type": "markdown",
      "metadata": {
        "id": "slLgsKQ1Fmww",
        "colab_type": "text"
      },
      "source": [
        "Solo necesitas considerar elementos en <code> album_set1 </code>; no se incluyen todos los elementos en <code> album_set2 </code>, incluida la intersección."
      ]
    },
    {
      "cell_type": "markdown",
      "metadata": {
        "id": "WBMANYxdFmwx",
        "colab_type": "text"
      },
      "source": [
        "<img src=\"https://s3-api.us-geo.objectstorage.softlayer.net/cf-courses-data/CognitiveClass/PY0101EN/Chapter%202/Images/SetsLeft.png\" width=\"650\" />"
      ]
    },
    {
      "cell_type": "markdown",
      "metadata": {
        "id": "uQfDRh_VFmwy",
        "colab_type": "text"
      },
      "source": [
        "Ahora mostramos la diferencia entre ambos conjuntos"
      ]
    },
    {
      "cell_type": "code",
      "metadata": {
        "id": "9mNdPxsZFmwz",
        "colab_type": "code",
        "colab": {
          "base_uri": "https://localhost:8080/",
          "height": 34
        },
        "outputId": "614add26-3f05-4555-fe55-c59d2f73d9ef"
      },
      "source": [
        "album_set2.difference(album_set1)  "
      ],
      "execution_count": 14,
      "outputs": [
        {
          "output_type": "execute_result",
          "data": {
            "text/plain": [
              "{'The Dark Side of the Moon'}"
            ]
          },
          "metadata": {
            "tags": []
          },
          "execution_count": 14
        }
      ]
    },
    {
      "cell_type": "markdown",
      "metadata": {
        "id": "5tV1DzxoFmxA",
        "colab_type": "text"
      },
      "source": [
        "<img src = \"https://s3-api.us-geo.objectstorage.softlayer.net/cf-courses-data/CognitiveClass/PY0101EN/Chapter%202/Images/SetsRight.png\" width=\"650\" />"
      ]
    },
    {
      "cell_type": "markdown",
      "metadata": {
        "id": "uI3IIY5xFmxB",
        "colab_type": "text"
      },
      "source": [
        "También puedes encontrar la intersección de <code> album_list1 </code> y <code> album_list2 </code>, utilizando el método <code> intersection </code>:"
      ]
    },
    {
      "cell_type": "code",
      "metadata": {
        "id": "nejrBuP2FmxC",
        "colab_type": "code",
        "colab": {
          "base_uri": "https://localhost:8080/",
          "height": 34
        },
        "outputId": "4905f97b-6e4a-4dc0-bbf0-361132449f9d"
      },
      "source": [
        "# Usamos el método de intersección para encontrar la intersección de album_list1 y album_list2\n",
        "album_set1.intersection(album_set2)   "
      ],
      "execution_count": 15,
      "outputs": [
        {
          "output_type": "execute_result",
          "data": {
            "text/plain": [
              "{'AC/DC', 'Back in Black'}"
            ]
          },
          "metadata": {
            "tags": []
          },
          "execution_count": 15
        }
      ]
    },
    {
      "cell_type": "markdown",
      "metadata": {
        "id": "IMQ0e_kGFmxG",
        "colab_type": "text"
      },
      "source": [
        "Esto corresponde a la interseccion de los 2 circulos"
      ]
    },
    {
      "cell_type": "markdown",
      "metadata": {
        "id": "5VNBoRmeFmxH",
        "colab_type": "text"
      },
      "source": [
        "<img src=\"https://s3-api.us-geo.objectstorage.softlayer.net/cf-courses-data/CognitiveClass/PY0101EN/Chapter%202/Images/SetsIntersect.png\" width=\"650\" />"
      ]
    },
    {
      "cell_type": "markdown",
      "metadata": {
        "id": "7pm6SsQEFmxI",
        "colab_type": "text"
      },
      "source": [
        "La unión corresponde a todos los elementos en ambos conjuntos, que se representa coloreando ambos círculos:"
      ]
    },
    {
      "cell_type": "markdown",
      "metadata": {
        "id": "OlHJQD6FFmxI",
        "colab_type": "text"
      },
      "source": [
        "<img src = \"https://s3-api.us-geo.objectstorage.softlayer.net/cf-courses-data/CognitiveClass/PY0101EN/Chapter%202/Images/SetsUnion.png\" width=\"650\" />"
      ]
    },
    {
      "cell_type": "markdown",
      "metadata": {
        "id": "k82fqy2uFmxJ",
        "colab_type": "text"
      },
      "source": [
        "La union esta dada por"
      ]
    },
    {
      "cell_type": "code",
      "metadata": {
        "id": "l1ZqtV19FmxK",
        "colab_type": "code",
        "colab": {
          "base_uri": "https://localhost:8080/",
          "height": 34
        },
        "outputId": "c325aac3-4c36-4fa5-bebe-9faaef891016"
      },
      "source": [
        "# Encontramos la union de 2 conjjuntos\n",
        "album_set1.union(album_set2)"
      ],
      "execution_count": 16,
      "outputs": [
        {
          "output_type": "execute_result",
          "data": {
            "text/plain": [
              "{'AC/DC', 'Back in Black', 'The Dark Side of the Moon', 'Thriller'}"
            ]
          },
          "metadata": {
            "tags": []
          },
          "execution_count": 16
        }
      ]
    },
    {
      "cell_type": "markdown",
      "metadata": {
        "id": "f4BSmJZMFmxO",
        "colab_type": "text"
      },
      "source": [
        "Y puedes verificar si un conjunto es un superconjunto o subconjunto de otro conjunto, respectivamente, de esta manera:"
      ]
    },
    {
      "cell_type": "code",
      "metadata": {
        "id": "Y8BASBFRFmxP",
        "colab_type": "code",
        "colab": {
          "base_uri": "https://localhost:8080/",
          "height": 34
        },
        "outputId": "1a2217ef-36eb-4286-9768-6ab96bbdd388"
      },
      "source": [
        "# Vemos si es subconjunto\n",
        "\n",
        "set(album_set1).issuperset(album_set2)   "
      ],
      "execution_count": 17,
      "outputs": [
        {
          "output_type": "execute_result",
          "data": {
            "text/plain": [
              "False"
            ]
          },
          "metadata": {
            "tags": []
          },
          "execution_count": 17
        }
      ]
    },
    {
      "cell_type": "code",
      "metadata": {
        "id": "gA9o90P8FmxT",
        "colab_type": "code",
        "colab": {
          "base_uri": "https://localhost:8080/",
          "height": 34
        },
        "outputId": "557175db-08d1-4ca1-d0b0-6270b40026b8"
      },
      "source": [
        "# Vemos si es subconjunto\n",
        "\n",
        "set(album_set2).issubset(album_set1)     "
      ],
      "execution_count": 18,
      "outputs": [
        {
          "output_type": "execute_result",
          "data": {
            "text/plain": [
              "False"
            ]
          },
          "metadata": {
            "tags": []
          },
          "execution_count": 18
        }
      ]
    },
    {
      "cell_type": "markdown",
      "metadata": {
        "id": "B0Vwtf7IFmxa",
        "colab_type": "text"
      },
      "source": [
        "Aquí hay un ejemplo donde <code> issubset () </code> y <code> issuperset () </code> devuelven verdadero:"
      ]
    },
    {
      "cell_type": "code",
      "metadata": {
        "id": "1o6566ZQFmxb",
        "colab_type": "code",
        "colab": {
          "base_uri": "https://localhost:8080/",
          "height": 34
        },
        "outputId": "84c88d12-896e-407d-fe05-384dfe63d431"
      },
      "source": [
        "\n",
        "\n",
        "set({\"Back in Black\", \"AC/DC\"}).issubset(album_set1) "
      ],
      "execution_count": 19,
      "outputs": [
        {
          "output_type": "execute_result",
          "data": {
            "text/plain": [
              "True"
            ]
          },
          "metadata": {
            "tags": []
          },
          "execution_count": 19
        }
      ]
    },
    {
      "cell_type": "code",
      "metadata": {
        "id": "ehdBignPFmxf",
        "colab_type": "code",
        "colab": {
          "base_uri": "https://localhost:8080/",
          "height": 34
        },
        "outputId": "f5dafbb0-ab2c-497a-af29-8930b0941f4a"
      },
      "source": [
        "album_set1.issuperset({\"Back in Black\", \"AC/DC\"})   "
      ],
      "execution_count": 20,
      "outputs": [
        {
          "output_type": "execute_result",
          "data": {
            "text/plain": [
              "True"
            ]
          },
          "metadata": {
            "tags": []
          },
          "execution_count": 20
        }
      ]
    },
    {
      "cell_type": "markdown",
      "metadata": {
        "id": "nn6Obek8Fmxi",
        "colab_type": "text"
      },
      "source": [
        "<hr>"
      ]
    }
  ]
}