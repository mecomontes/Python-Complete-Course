{
  "nbformat": 4,
  "nbformat_minor": 0,
  "metadata": {
    "kernelspec": {
      "display_name": "Python 3",
      "language": "python",
      "name": "python3"
    },
    "language_info": {
      "codemirror_mode": {
        "name": "ipython",
        "version": 3
      },
      "file_extension": ".py",
      "mimetype": "text/x-python",
      "name": "python",
      "nbconvert_exporter": "python",
      "pygments_lexer": "ipython3",
      "version": "3.6.8"
    },
    "colab": {
      "name": "Diccionarios-03.ipynb",
      "provenance": [],
      "collapsed_sections": []
    }
  },
  "cells": [
    {
      "cell_type": "markdown",
      "metadata": {
        "id": "Cx53Otj_5L4O",
        "colab_type": "text"
      },
      "source": [
        "<a href=\"https://github.com/Chilangdon20/PYTHON/tree/master/Curso%20Basico/CursoExpress\">\n",
        "    <img src=\"https://raw.githubusercontent.com/Chilangdon20/PYTHON/master/Curso%20Basico/CursoExpress/Imagenes/Chilangodn.png\" width=\"200\" align=\"center\">\n",
        "</a>"
      ]
    },
    {
      "cell_type": "markdown",
      "metadata": {
        "id": "uMtCT1st5L4Q",
        "colab_type": "text"
      },
      "source": [
        "<h1>Diccionarios en Python</h1>"
      ]
    },
    {
      "cell_type": "markdown",
      "metadata": {
        "id": "J3dqXR1L5L4T",
        "colab_type": "text"
      },
      "source": [
        "<p> <strong> ¡Bienvenido! </strong> Este notebook te enseñará acerca de los diccionarios en el lenguaje de programación Python. Al final de esta práctica de laboratorio, conocerás las operaciones básicas del diccionario en Python, incluido lo que es y las operaciones en él. </p>\n",
        "\n",
        "Link:\n",
        "\n",
        "https://colab.research.google.com/drive/1NvBe8_uAwW8Dyp8h1Gw1387Rsf_gIggf?usp=sharing"
      ]
    },
    {
      "cell_type": "markdown",
      "metadata": {
        "id": "auNCbKbU5L4Y",
        "colab_type": "text"
      },
      "source": [
        "<h2>Table de Contentidos</h2>\n",
        "<div class=\"alert alert-block alert-info\" style=\"margin-top: 20px\">\n",
        "    <ul>\n",
        "        <li>\n",
        "            <a href=\"#dic\">Diccionarios</a>\n",
        "            <ul>\n",
        "                <li><a href=\"content\">Que son los diccionarios</a></li>\n",
        "                <li><a href=\"key\">Keys</a></li>\n",
        "            </ul>\n",
        "        </li>\n",
        "       \n",
        "  \n",
        "</div>\n",
        "\n",
        "<hr>"
      ]
    },
    {
      "cell_type": "markdown",
      "metadata": {
        "id": "tQXLjwer5L4Z",
        "colab_type": "text"
      },
      "source": [
        "<h2 id=\"Dic\">Diccionarios</h2>"
      ]
    },
    {
      "cell_type": "markdown",
      "metadata": {
        "id": "0-TU7L_a5L4c",
        "colab_type": "text"
      },
      "source": [
        "<h3 id=\"content\">Que son los diccionarios?</h3>"
      ]
    },
    {
      "cell_type": "markdown",
      "metadata": {
        "id": "IXbXRuLw5L4d",
        "colab_type": "text"
      },
      "source": [
        "Un diccionario consta de claves y valores. Es útil comparar un diccionario con una lista. En lugar de los índices numéricos como una lista, los diccionarios tienen claves. Estas claves son las claves que se utilizan para acceder a los valores dentro de un diccionario."
      ]
    },
    {
      "cell_type": "markdown",
      "metadata": {
        "id": "cxSxgwVl5L4e",
        "colab_type": "text"
      },
      "source": [
        "<img src=\"https://s3-api.us-geo.objectstorage.softlayer.net/cf-courses-data/CognitiveClass/PY0101EN/Chapter%202/Images/DictsList.png\" width=\"650\" />"
      ]
    },
    {
      "cell_type": "markdown",
      "metadata": {
        "id": "gWj-NQF85L4h",
        "colab_type": "text"
      },
      "source": [
        "Un ejemplo de un Diccionario <code>Dict</code>:"
      ]
    },
    {
      "cell_type": "code",
      "metadata": {
        "id": "DfAFrW4-5L4l",
        "colab_type": "code",
        "colab": {
          "base_uri": "https://localhost:8080/",
          "height": 119
        },
        "outputId": "08c6a121-e1ac-4f82-fc15-7b5ff3ddd7c4"
      },
      "source": [
        "# Creamos diccionario\n",
        "\n",
        "Dict = {\"key1\": 1, \"key2\": \"2\", \"key3\": [3, 3, 3], \"key4\": (4, 4, 4), ('key5'): 5, (0, 1): 6}\n",
        "Dict"
      ],
      "execution_count": 1,
      "outputs": [
        {
          "output_type": "execute_result",
          "data": {
            "text/plain": [
              "{(0, 1): 6,\n",
              " 'key1': 1,\n",
              " 'key2': '2',\n",
              " 'key3': [3, 3, 3],\n",
              " 'key4': (4, 4, 4),\n",
              " 'key5': 5}"
            ]
          },
          "metadata": {
            "tags": []
          },
          "execution_count": 1
        }
      ]
    },
    {
      "cell_type": "markdown",
      "metadata": {
        "id": "8VoR6VLo5L4t",
        "colab_type": "text"
      },
      "source": [
        "Las keys pueden ser cadenas:"
      ]
    },
    {
      "cell_type": "code",
      "metadata": {
        "id": "A_VJX6Yo5L4u",
        "colab_type": "code",
        "colab": {
          "base_uri": "https://localhost:8080/",
          "height": 34
        },
        "outputId": "ad9e56b7-eaa7-4bf4-c421-954d96f5e3ee"
      },
      "source": [
        "# Accedemos al valor de un key\n",
        "\n",
        "Dict[\"key1\"]"
      ],
      "execution_count": 2,
      "outputs": [
        {
          "output_type": "execute_result",
          "data": {
            "text/plain": [
              "1"
            ]
          },
          "metadata": {
            "tags": []
          },
          "execution_count": 2
        }
      ]
    },
    {
      "cell_type": "markdown",
      "metadata": {
        "id": "OVeqmpjQ5L4y",
        "colab_type": "text"
      },
      "source": [
        "Las claves también pueden ser cualquier objeto inmutable, como una tupla:"
      ]
    },
    {
      "cell_type": "code",
      "metadata": {
        "id": "d_W_joCs5L4y",
        "colab_type": "code",
        "colab": {
          "base_uri": "https://localhost:8080/",
          "height": 34
        },
        "outputId": "193f71f0-191b-47b0-9ce5-1666218a3351"
      },
      "source": [
        "# Acceso al valor por la clave\n",
        "\n",
        "Dict[(0, 1)]"
      ],
      "execution_count": 3,
      "outputs": [
        {
          "output_type": "execute_result",
          "data": {
            "text/plain": [
              "6"
            ]
          },
          "metadata": {
            "tags": []
          },
          "execution_count": 3
        }
      ]
    },
    {
      "cell_type": "markdown",
      "metadata": {
        "id": "3cpfhyFp5L41",
        "colab_type": "text"
      },
      "source": [
        "Cada clave está separada de su valor por dos puntos \"<code>: </code>\". Las comas separan los elementos, y todo el diccionario está encerrado entre llaves. Un diccionario vacío sin ningún elemento se escribe con solo dos llaves, como este \"<code> {} </code>\"."
      ]
    },
    {
      "cell_type": "code",
      "metadata": {
        "id": "AQr6mFa25L42",
        "colab_type": "code",
        "colab": {
          "base_uri": "https://localhost:8080/",
          "height": 153
        },
        "outputId": "940461be-0a72-416c-f512-20be2a904cae"
      },
      "source": [
        "# Creamos un ejemplo de diccionario\n",
        "\n",
        "año_lanzamiento = {\"Thriller\": \"1982\", \"Back in Black\": \"1980\", \\\n",
        "                    \"The Dark Side of the Moon\": \"1973\", \"The Bodyguard\": \"1992\", \\\n",
        "                    \"Bat Out of Hell\": \"1977\", \"Their Greatest Hits (1971-1975)\": \"1976\", \\\n",
        "                    \"Saturday Night Fever\": \"1977\", \"Rumours\": \"1977\"}\n",
        "año_lanzamiento"
      ],
      "execution_count": 5,
      "outputs": [
        {
          "output_type": "execute_result",
          "data": {
            "text/plain": [
              "{'Back in Black': '1980',\n",
              " 'Bat Out of Hell': '1977',\n",
              " 'Rumours': '1977',\n",
              " 'Saturday Night Fever': '1977',\n",
              " 'The Bodyguard': '1992',\n",
              " 'The Dark Side of the Moon': '1973',\n",
              " 'Their Greatest Hits (1971-1975)': '1976',\n",
              " 'Thriller': '1982'}"
            ]
          },
          "metadata": {
            "tags": []
          },
          "execution_count": 5
        }
      ]
    },
    {
      "cell_type": "markdown",
      "metadata": {
        "id": "JMdH9lxS5L47",
        "colab_type": "text"
      },
      "source": [
        "En resumen, como una lista, un diccionario contiene una secuencia de elementos. Cada elemento está representado por una clave y su valor correspondiente. Los diccionarios se crean con dos llaves que contienen claves y valores separados por dos puntos. Para cada clave, solo puede haber un valor único, sin embargo, varias claves pueden contener el mismo valor. Las claves solo pueden ser cadenas, números o tuplas, pero los valores pueden ser de cualquier tipo de datos."
      ]
    },
    {
      "cell_type": "markdown",
      "metadata": {
        "id": "GeF2fl0i5L48",
        "colab_type": "text"
      },
      "source": [
        "Es útil visualizar el diccionario como una tabla, como en la siguiente imagen. La primera columna representa las claves, la segunda columna representa los valores."
      ]
    },
    {
      "cell_type": "markdown",
      "metadata": {
        "id": "DhX2vQpg5L48",
        "colab_type": "text"
      },
      "source": [
        "<img src=\"https://s3-api.us-geo.objectstorage.softlayer.net/cf-courses-data/CognitiveClass/PY0101EN/Chapter%202/Images/DictsStructure.png\" width=\"650\" />"
      ]
    },
    {
      "cell_type": "markdown",
      "metadata": {
        "id": "JGHliDBg5L49",
        "colab_type": "text"
      },
      "source": [
        "<h3 id=\"key\">Keys</h3>"
      ]
    },
    {
      "cell_type": "markdown",
      "metadata": {
        "id": "9H_SHt2L5L4-",
        "colab_type": "text"
      },
      "source": [
        "Puede recuperar los valores en función de los nombres:"
      ]
    },
    {
      "cell_type": "code",
      "metadata": {
        "id": "JGxiOcro5L4-",
        "colab_type": "code",
        "colab": {
          "base_uri": "https://localhost:8080/",
          "height": 34
        },
        "outputId": "0fac93a0-6e1b-4661-becd-632756d2f839"
      },
      "source": [
        "# tomamos el valor por su clave\n",
        "\n",
        "año_lanzamiento['Thriller'] "
      ],
      "execution_count": 7,
      "outputs": [
        {
          "output_type": "execute_result",
          "data": {
            "text/plain": [
              "'1982'"
            ]
          },
          "metadata": {
            "tags": []
          },
          "execution_count": 7
        }
      ]
    },
    {
      "cell_type": "markdown",
      "metadata": {
        "id": "7OKlyiyA5L5K",
        "colab_type": "text"
      },
      "source": [
        "Que corresponde a:\n"
      ]
    },
    {
      "cell_type": "markdown",
      "metadata": {
        "id": "l0J98UiK5L5K",
        "colab_type": "text"
      },
      "source": [
        "<img src=\"https://s3-api.us-geo.objectstorage.softlayer.net/cf-courses-data/CognitiveClass/PY0101EN/Chapter%202/Images/DictsKeyOne.png\" width=\"500\" />"
      ]
    },
    {
      "cell_type": "markdown",
      "metadata": {
        "id": "5c0U8GO-5L5L",
        "colab_type": "text"
      },
      "source": [
        "Del mismo modo para <b> The Bodyguard </b>"
      ]
    },
    {
      "cell_type": "code",
      "metadata": {
        "id": "8VHigkOk5L5L",
        "colab_type": "code",
        "colab": {
          "base_uri": "https://localhost:8080/",
          "height": 34
        },
        "outputId": "3c2672fe-8ab9-484d-c3eb-c5f31ce579cf"
      },
      "source": [
        "# tomamos el valor por su clave\n",
        "\n",
        "año_lanzamiento['The Bodyguard'] "
      ],
      "execution_count": 9,
      "outputs": [
        {
          "output_type": "execute_result",
          "data": {
            "text/plain": [
              "'1992'"
            ]
          },
          "metadata": {
            "tags": []
          },
          "execution_count": 9
        }
      ]
    },
    {
      "cell_type": "markdown",
      "metadata": {
        "id": "X-HZo1bi5L5O",
        "colab_type": "text"
      },
      "source": [
        "<img src=\"https://s3-api.us-geo.objectstorage.softlayer.net/cf-courses-data/CognitiveClass/PY0101EN/Chapter%202/Images/DictsKeyTwo.png\" width=\"500\" />"
      ]
    },
    {
      "cell_type": "markdown",
      "metadata": {
        "id": "_neJfsg15L5O",
        "colab_type": "text"
      },
      "source": [
        "Ahora le permite recuperar las claves del diccionario utilizando el método <code> año_lanzamiento () </code>:"
      ]
    },
    {
      "cell_type": "code",
      "metadata": {
        "id": "FjqLKuAI5L5O",
        "colab_type": "code",
        "colab": {
          "base_uri": "https://localhost:8080/",
          "height": 54
        },
        "outputId": "9f5d07ef-f015-4fdc-a9db-d91016b74203"
      },
      "source": [
        "# Tomamos todas las claves del diccionario\n",
        "\n",
        "año_lanzamiento.keys() "
      ],
      "execution_count": 10,
      "outputs": [
        {
          "output_type": "execute_result",
          "data": {
            "text/plain": [
              "dict_keys(['Thriller', 'Back in Black', 'The Dark Side of the Moon', 'The Bodyguard', 'Bat Out of Hell', 'Their Greatest Hits (1971-1975)', 'Saturday Night Fever', 'Rumours'])"
            ]
          },
          "metadata": {
            "tags": []
          },
          "execution_count": 10
        }
      ]
    },
    {
      "cell_type": "markdown",
      "metadata": {
        "id": "asVXTfwV5L5R",
        "colab_type": "text"
      },
      "source": [
        "Puede recuperar los valores utilizando el método <code> values () </code>:"
      ]
    },
    {
      "cell_type": "code",
      "metadata": {
        "id": "I-KLFd6Z5L5R",
        "colab_type": "code",
        "colab": {
          "base_uri": "https://localhost:8080/",
          "height": 34
        },
        "outputId": "46870122-62a5-4f2a-a70d-2900cd08793a"
      },
      "source": [
        "#Obtenga todos los valores en el diccionario\n",
        "\n",
        "año_lanzamiento.values() "
      ],
      "execution_count": 12,
      "outputs": [
        {
          "output_type": "execute_result",
          "data": {
            "text/plain": [
              "dict_values(['1982', '1980', '1973', '1992', '1977', '1976', '1977', '1977'])"
            ]
          },
          "metadata": {
            "tags": []
          },
          "execution_count": 12
        }
      ]
    },
    {
      "cell_type": "markdown",
      "metadata": {
        "id": "uYLcm3pP5L5V",
        "colab_type": "text"
      },
      "source": [
        "Podemos agregar una entrada:"
      ]
    },
    {
      "cell_type": "code",
      "metadata": {
        "id": "jkMVA_Rm5L5c",
        "colab_type": "code",
        "colab": {
          "base_uri": "https://localhost:8080/",
          "height": 170
        },
        "outputId": "724da6d9-9a54-417a-eaa2-42907de77a7d"
      },
      "source": [
        "# Agregar valor con clave al diccionario\n",
        "\n",
        "año_lanzamiento['Graduation'] = '2007'\n",
        "año_lanzamiento"
      ],
      "execution_count": 13,
      "outputs": [
        {
          "output_type": "execute_result",
          "data": {
            "text/plain": [
              "{'Back in Black': '1980',\n",
              " 'Bat Out of Hell': '1977',\n",
              " 'Graduation': '2007',\n",
              " 'Rumours': '1977',\n",
              " 'Saturday Night Fever': '1977',\n",
              " 'The Bodyguard': '1992',\n",
              " 'The Dark Side of the Moon': '1973',\n",
              " 'Their Greatest Hits (1971-1975)': '1976',\n",
              " 'Thriller': '1982'}"
            ]
          },
          "metadata": {
            "tags": []
          },
          "execution_count": 13
        }
      ]
    },
    {
      "cell_type": "markdown",
      "metadata": {
        "id": "SUJv9OXh5L5f",
        "colab_type": "text"
      },
      "source": [
        "Nosotros podemos borrar una entrada:"
      ]
    },
    {
      "cell_type": "code",
      "metadata": {
        "id": "yt7UWeZV5L5f",
        "colab_type": "code",
        "colab": {
          "base_uri": "https://localhost:8080/",
          "height": 136
        },
        "outputId": "59d288eb-3048-438d-e34c-a69af945d422"
      },
      "source": [
        "# Eliminar entradas por clave\n",
        "del(año_lanzamiento['Thriller'])\n",
        "del(año_lanzamiento['Graduation'])\n",
        "año_lanzamiento"
      ],
      "execution_count": 14,
      "outputs": [
        {
          "output_type": "execute_result",
          "data": {
            "text/plain": [
              "{'Back in Black': '1980',\n",
              " 'Bat Out of Hell': '1977',\n",
              " 'Rumours': '1977',\n",
              " 'Saturday Night Fever': '1977',\n",
              " 'The Bodyguard': '1992',\n",
              " 'The Dark Side of the Moon': '1973',\n",
              " 'Their Greatest Hits (1971-1975)': '1976'}"
            ]
          },
          "metadata": {
            "tags": []
          },
          "execution_count": 14
        }
      ]
    },
    {
      "cell_type": "markdown",
      "metadata": {
        "id": "9DIONgQA5L5p",
        "colab_type": "text"
      },
      "source": [
        "Podemos verificar si un elemento está en el diccionario:"
      ]
    },
    {
      "cell_type": "code",
      "metadata": {
        "id": "yi4mxxGa5L5p",
        "colab_type": "code",
        "colab": {
          "base_uri": "https://localhost:8080/",
          "height": 34
        },
        "outputId": "1b404d05-afef-4455-e5c2-5dceb44050c0"
      },
      "source": [
        "# Verificamos que la clave esté en el diccionario\n",
        "\n",
        "'The Bodyguard' in año_lanzamiento"
      ],
      "execution_count": 16,
      "outputs": [
        {
          "output_type": "execute_result",
          "data": {
            "text/plain": [
              "True"
            ]
          },
          "metadata": {
            "tags": []
          },
          "execution_count": 16
        }
      ]
    },
    {
      "cell_type": "markdown",
      "metadata": {
        "id": "71AqDrxF5L5q",
        "colab_type": "text"
      },
      "source": [
        "<hr>"
      ]
    }
  ]
}