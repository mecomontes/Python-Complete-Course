{
  "nbformat": 4,
  "nbformat_minor": 0,
  "metadata": {
    "colab": {
      "name": "Tuplas-01.ipynb",
      "provenance": [],
      "collapsed_sections": []
    },
    "kernelspec": {
      "name": "python3",
      "display_name": "Python 3"
    }
  },
  "cells": [
    {
      "cell_type": "markdown",
      "metadata": {
        "id": "yzZH-stGaODC",
        "colab_type": "text"
      },
      "source": [
        " <a href=\"https://github.com/Chilangdon20/PYTHON/blob/master/Curso%20Basico/CursoExpress/Imagenes/Chilangodn.png\">\n",
        "    <img src=\"https://raw.githubusercontent.com/Chilangdon20/PYTHON/master/Curso%20Basico/CursoExpress/Imagenes/Chilangodn.png\" width=\"200\" align=\"center\">\n",
        "</a>"
      ]
    },
    {
      "cell_type": "markdown",
      "metadata": {
        "id": "oEDuWDkUbFBk",
        "colab_type": "text"
      },
      "source": [
        "<h1>Tuplas en Python</h1>"
      ]
    },
    {
      "cell_type": "markdown",
      "metadata": {
        "id": "jezl7kfDbPXm",
        "colab_type": "text"
      },
      "source": [
        "<h2>Tabla de contenido</h2>\n",
        "<div class=\"alert alert-block alert-info\" style=\"margin-top: 20px\">\n",
        "    <ul>\n",
        "        <li>\n",
        "            <a href=\"#dataset\">Acerca del DataSet</a>\n",
        "        </li>\n",
        "        <li>\n",
        "            <a href=\"#tupla\">Tuplas</a>\n",
        "            <ul>\n",
        "                <li><a href=\"index\">Indexado</a></li>\n",
        "                <li><a href=\"slice\">Slicing</a></li>\n",
        "                <li><a href=\"sort\">Sorting</a></li>\n",
        "            </ul>\n",
        "        </li>\n",
        "        <li>\n",
        "            <a href=\"#escape\">Quiz de Tuplas</a>\n",
        "        </li>\n",
        "    \n",
        "</div>\n",
        "\n",
        "<hr>"
      ]
    },
    {
      "cell_type": "markdown",
      "metadata": {
        "id": "_K4CjaplbkdL",
        "colab_type": "text"
      },
      "source": [
        "<h2 id=\"dataset\">Acerca del DataSet</h2>"
      ]
    },
    {
      "cell_type": "markdown",
      "metadata": {
        "id": "S3fVrQjUbn3X",
        "colab_type": "text"
      },
      "source": [
        "Imagina que recibiste las recomendaciones del álbum de tus amigos y compilaste todas las recomendaciones en una tabla, con información específica sobre cada álbum.\n",
        "\n",
        "La tabla tiene una fila para cada película y varias columnas:\n",
        "\n",
        "- **artist** - Nombre del artista\n",
        "- **album** - Nombre del album\n",
        "- **released_year** - Año en el que fue lanzado\n",
        "- **length_min_sec** - Tiempo del album (horas,minutos,segundos)\n",
        "- **genre** - Genero del album\n",
        "- **music_recording_sales_millions** - Musica vendida (milliones in USD) on [SONG://DATABASE](http://www.song-database.com/)\n",
        "- **claimed_sales_millions** - Ventas reclamadas del álbum (milliones in USD) on [SONG://DATABASE](http://www.song-database.com/)\n",
        "- **date_released** - Fecha en la que fue lanzado\n",
        "- **soundtrack** - Indica si el álbum es la banda sonora de la película (Y) o (N)\n",
        "- **rating_of_friends** - Indica la calificación de tus amigos del 1 al 10.\n",
        "<br>\n",
        "<br>\n",
        "\n",
        "El conjunto de datos se puede ver a continuación:\n",
        "\n",
        "<font size=\"1\">\n",
        "<table font-size:xx-small style=\"width:25%\">\n",
        "  <tr>\n",
        "    <th>Artist</th>\n",
        "    <th>Album</th> \n",
        "    <th>Released</th>\n",
        "    <th>Length</th>\n",
        "    <th>Genre</th> \n",
        "    <th>Music recording sales (millions)</th>\n",
        "    <th>Claimed sales (millions)</th>\n",
        "    <th>Released</th>\n",
        "    <th>Soundtrack</th>\n",
        "    <th>Rating (friends)</th>\n",
        "  </tr>\n",
        "  <tr>\n",
        "    <td>Alesso</td>\n",
        "    <td>Lose my Self</td> \n",
        "    <td>1982</td>\n",
        "    <td>00:42:19</td>\n",
        "    <td>Pop,edm,grid</td>\n",
        "    <td>46</td>\n",
        "    <td>65</td>\n",
        "    <td>30-Nov-2015</td>\n",
        "    <td></td>\n",
        "    <td>10.0</td>\n",
        "  </tr>\n",
        "  <tr>\n",
        "    <td>AC/DC</td>\n",
        "    <td>Back in Black</td> \n",
        "    <td>1980</td>\n",
        "    <td>00:42:11</td>\n",
        "    <td>Hard rock</td>\n",
        "    <td>26.1</td>\n",
        "    <td>50</td>\n",
        "    <td>25-Jul-2008</td>\n",
        "    <td></td>\n",
        "    <td>8.5</td>\n",
        "  </tr>\n",
        "    <tr>\n",
        "    <td>Noissa</td>\n",
        "    <td>Moon</td> \n",
        "    <td>2018</td>\n",
        "    <td>00:42:49</td>\n",
        "    <td>riddim</td>\n",
        "    <td>24.2</td>\n",
        "    <td>45</td>\n",
        "    <td>01-Mar-73</td>\n",
        "    <td></td>\n",
        "    <td>9.5</td>\n",
        "  </tr>\n",
        "    <tr>\n",
        "    <td>Xxxtenation</td>\n",
        "    <td>Moonlight</td> \n",
        "    <td>1992</td>\n",
        "    <td>00:57:44</td>\n",
        "    <td>Soundtrack/trap,perreo,edm</td>\n",
        "    <td>26.1</td>\n",
        "    <td>50</td>\n",
        "    <td>25-Jul-80</td>\n",
        "    <td>Y</td>\n",
        "    <td>7.0</td>\n",
        "  </tr>\n",
        "    <tr>\n",
        "    <td>Meat Loaf</td>\n",
        "    <td>Bat Out of Hell</td> \n",
        "    <td>1977</td>\n",
        "    <td>00:46:33</td>\n",
        "    <td>Hard rock, progressive rock</td>\n",
        "    <td>20.6</td>\n",
        "    <td>43</td>\n",
        "    <td>21-Oct-77</td>\n",
        "    <td></td>\n",
        "    <td>7.0</td>\n",
        "  </tr>\n",
        "    <tr>\n",
        "    <td>Eagles</td>\n",
        "    <td>Their Greatest Hits (1971-1975)</td> \n",
        "    <td>1976</td>\n",
        "    <td>00:43:08</td>\n",
        "    <td>Rock, soft rock, folk rock</td>\n",
        "    <td>32.2</td>\n",
        "    <td>42</td>\n",
        "    <td>17-Feb-76</td>\n",
        "    <td></td>\n",
        "    <td>9.5</td>\n",
        "  </tr>\n",
        "    <tr>\n",
        "    <td>Bee Gees</td>\n",
        "    <td>Saturday Night Fever</td> \n",
        "    <td>1977</td>\n",
        "    <td>1:15:54</td>\n",
        "    <td>Disco</td>\n",
        "    <td>20.6</td>\n",
        "    <td>40</td>\n",
        "    <td>15-Nov-77</td>\n",
        "    <td>Y</td>\n",
        "    <td>9.0</td>\n",
        "  </tr>\n",
        "    <tr>\n",
        "    <td>Fleetwood Mac</td>\n",
        "    <td>Rumours</td> \n",
        "    <td>1977</td>\n",
        "    <td>00:40:01</td>\n",
        "    <td>Soft rock</td>\n",
        "    <td>27.9</td>\n",
        "    <td>40</td>\n",
        "    <td>04-Feb-77</td>\n",
        "    <td></td>\n",
        "    <td>9.5</td>\n",
        "  </tr>\n",
        "</table></font>"
      ]
    },
    {
      "cell_type": "markdown",
      "metadata": {
        "id": "9OhC4EVYdQMq",
        "colab_type": "text"
      },
      "source": [
        "<h2 id=\"tupla\">Tuplas</h2>"
      ]
    },
    {
      "cell_type": "markdown",
      "metadata": {
        "id": "zOxGFL16dtt_",
        "colab_type": "text"
      },
      "source": [
        "En Python, hay diferentes tipos de datos: cadena, entero y flotante. Todos estos tipos de datos pueden estar contenidos en una tupla de la siguiente manera:"
      ]
    },
    {
      "cell_type": "markdown",
      "metadata": {
        "id": "2diq3-cAd0g9",
        "colab_type": "text"
      },
      "source": [
        "<img src=\"https://s3-api.us-geo.objectstorage.softlayer.net/cf-courses-data/CognitiveClass/PY0101EN/Chapter%202/Images/TuplesType.png\" width=\"750\" align=\"center\" />"
      ]
    },
    {
      "cell_type": "markdown",
      "metadata": {
        "id": "QScW--4Dd62q",
        "colab_type": "text"
      },
      "source": [
        "Ahora, creamos nuestra primera tupla con string, int y float."
      ]
    },
    {
      "cell_type": "code",
      "metadata": {
        "id": "YDojJEmDa-sL",
        "colab_type": "code",
        "colab": {
          "base_uri": "https://localhost:8080/",
          "height": 34
        },
        "outputId": "e6f7c29e-507f-4176-d4e0-e2317d83456d"
      },
      "source": [
        "tupla1 = (\"name\",10,10.5)\n",
        "tupla1"
      ],
      "execution_count": 1,
      "outputs": [
        {
          "output_type": "execute_result",
          "data": {
            "text/plain": [
              "('name', 10, 10.5)"
            ]
          },
          "metadata": {
            "tags": []
          },
          "execution_count": 1
        }
      ]
    },
    {
      "cell_type": "markdown",
      "metadata": {
        "id": "3WWQp8HBeKpH",
        "colab_type": "text"
      },
      "source": [
        "Vemos le tipo de nuestra variable \"tupla1\""
      ]
    },
    {
      "cell_type": "code",
      "metadata": {
        "id": "4yihMKWieE1f",
        "colab_type": "code",
        "colab": {
          "base_uri": "https://localhost:8080/",
          "height": 34
        },
        "outputId": "666e550c-99dc-4b80-cd37-2f390bad5f0f"
      },
      "source": [
        "type(tupla1)"
      ],
      "execution_count": 2,
      "outputs": [
        {
          "output_type": "execute_result",
          "data": {
            "text/plain": [
              "tuple"
            ]
          },
          "metadata": {
            "tags": []
          },
          "execution_count": 2
        }
      ]
    },
    {
      "cell_type": "markdown",
      "metadata": {
        "id": "VTViPjKbeSjm",
        "colab_type": "text"
      },
      "source": [
        "<h3 id=\"index\">Indexado</h3>"
      ]
    },
    {
      "cell_type": "markdown",
      "metadata": {
        "id": "-9mFbQ9BeVVu",
        "colab_type": "text"
      },
      "source": [
        "Se puede acceder a cada elemento de una tupla a través de un índice. La siguiente tabla representa la relación entre el índice y los elementos de la tupla. Cada elemento se puede obtener por el nombre de la tupla seguido de un corchete con el número de índice.\n",
        "\n",
        "Podemos imprimir cada valor en la tupla:"
      ]
    },
    {
      "cell_type": "code",
      "metadata": {
        "id": "MGaA3c7WeOvA",
        "colab_type": "code",
        "colab": {
          "base_uri": "https://localhost:8080/",
          "height": 70
        },
        "outputId": "837c1f3c-30cf-4f21-c495-74bd294454c9"
      },
      "source": [
        "# Imprimimos la variable de nuestro indexado\n",
        "\n",
        "print(tupla1[0])\n",
        "print(tupla1[1])\n",
        "print(tupla1[2])"
      ],
      "execution_count": 3,
      "outputs": [
        {
          "output_type": "stream",
          "text": [
            "name\n",
            "10\n",
            "10.5\n"
          ],
          "name": "stdout"
        }
      ]
    },
    {
      "cell_type": "markdown",
      "metadata": {
        "id": "dDZkeTMFe1vT",
        "colab_type": "text"
      },
      "source": [
        "Ahora imprimimos el tipo de dato que tiene cada elemento de nuestra tupla."
      ]
    },
    {
      "cell_type": "code",
      "metadata": {
        "id": "n6KWFz_5erry",
        "colab_type": "code",
        "colab": {
          "base_uri": "https://localhost:8080/",
          "height": 70
        },
        "outputId": "4e270668-353b-4000-ce10-8ba4bcddb005"
      },
      "source": [
        "print(type(tupla1[0]))\n",
        "print(type(tupla1[1]))\n",
        "print(type(tupla1[2]))"
      ],
      "execution_count": 4,
      "outputs": [
        {
          "output_type": "stream",
          "text": [
            "<class 'str'>\n",
            "<class 'int'>\n",
            "<class 'float'>\n"
          ],
          "name": "stdout"
        }
      ]
    },
    {
      "cell_type": "markdown",
      "metadata": {
        "id": "-vuJ3u-mfFGJ",
        "colab_type": "text"
      },
      "source": [
        "También podemos usar indexación negativa.\n",
        "Podemos obtener el último elemento de la siguiente manera (esta vez no usaremos la declaración de impresión para mostrar los valores):"
      ]
    },
    {
      "cell_type": "code",
      "metadata": {
        "id": "QbyIwucMe_Wg",
        "colab_type": "code",
        "colab": {
          "base_uri": "https://localhost:8080/",
          "height": 34
        },
        "outputId": "e1b76632-0a0d-4506-d18d-c9fcb460e949"
      },
      "source": [
        "# Usamos el indexado negativo para ubicar nuestro ultimo elemento.\n",
        "\n",
        "tupla1[-1]"
      ],
      "execution_count": 6,
      "outputs": [
        {
          "output_type": "execute_result",
          "data": {
            "text/plain": [
              "10.5"
            ]
          },
          "metadata": {
            "tags": []
          },
          "execution_count": 6
        }
      ]
    },
    {
      "cell_type": "markdown",
      "metadata": {
        "id": "_6fscwgSfZ53",
        "colab_type": "text"
      },
      "source": [
        "Podemos mostrar los siguientes dos elementos de la siguiente manera:"
      ]
    },
    {
      "cell_type": "code",
      "metadata": {
        "id": "GlrceNc2fVC0",
        "colab_type": "code",
        "colab": {
          "base_uri": "https://localhost:8080/",
          "height": 34
        },
        "outputId": "39b0d95b-4e62-4984-eb2a-202f874ec42f"
      },
      "source": [
        "# Use el índice negativo para obtener el valor del segundo último elemento\n",
        "tupla1[-2]"
      ],
      "execution_count": 8,
      "outputs": [
        {
          "output_type": "execute_result",
          "data": {
            "text/plain": [
              "10"
            ]
          },
          "metadata": {
            "tags": []
          },
          "execution_count": 8
        }
      ]
    },
    {
      "cell_type": "code",
      "metadata": {
        "id": "T-RFyr9kfncV",
        "colab_type": "code",
        "colab": {
          "base_uri": "https://localhost:8080/",
          "height": 34
        },
        "outputId": "d97c7b06-786b-4404-e436-f0ddc34d7a0e"
      },
      "source": [
        "# Use el índice negativo para obtener el valor del tercer último elemento\n",
        "tupla1[-3]"
      ],
      "execution_count": 10,
      "outputs": [
        {
          "output_type": "execute_result",
          "data": {
            "text/plain": [
              "'name'"
            ]
          },
          "metadata": {
            "tags": []
          },
          "execution_count": 10
        }
      ]
    },
    {
      "cell_type": "markdown",
      "metadata": {
        "id": "WRvxhvzKgyxn",
        "colab_type": "text"
      },
      "source": [
        "<h3 id=\"concate\">Tuplas Concatenadas</h3>"
      ]
    },
    {
      "cell_type": "markdown",
      "metadata": {
        "id": "cANAg9sHhSN-",
        "colab_type": "text"
      },
      "source": [
        "Podemos concatenar o combinar tuplas usando el signo ** + **:"
      ]
    },
    {
      "cell_type": "code",
      "metadata": {
        "id": "ucfOH7oHfwv1",
        "colab_type": "code",
        "colab": {
          "base_uri": "https://localhost:8080/",
          "height": 34
        },
        "outputId": "3b411291-3e32-4fa7-aae7-fc0e9abad363"
      },
      "source": [
        "# Concatenamos 2 tuplas\n",
        "\n",
        "tupla2 = tupla1 + (\"Tomorrowland\", 10)\n",
        "tupla2"
      ],
      "execution_count": 11,
      "outputs": [
        {
          "output_type": "execute_result",
          "data": {
            "text/plain": [
              "('name', 10, 10.5, 'Tomorrowland', 10)"
            ]
          },
          "metadata": {
            "tags": []
          },
          "execution_count": 11
        }
      ]
    },
    {
      "cell_type": "markdown",
      "metadata": {
        "id": "01jsoDakhhmX",
        "colab_type": "text"
      },
      "source": [
        "<h3 id=\"slice\">Slicing</h3>"
      ]
    },
    {
      "cell_type": "markdown",
      "metadata": {
        "id": "B2G6heB1hnd0",
        "colab_type": "text"
      },
      "source": [
        "Podemos cortar tuplas, obteniendo nuevas tuplas con los elementos correspondientes:"
      ]
    },
    {
      "cell_type": "code",
      "metadata": {
        "id": "OhfB_bcNhb7v",
        "colab_type": "code",
        "colab": {
          "base_uri": "https://localhost:8080/",
          "height": 34
        },
        "outputId": "c42bb4bb-23c7-42cf-a8de-d92b3e1fe2f4"
      },
      "source": [
        "# Hacemos slicing del indentado 0 al 2\n",
        "\n",
        "tupla2[0:3]"
      ],
      "execution_count": 12,
      "outputs": [
        {
          "output_type": "execute_result",
          "data": {
            "text/plain": [
              "('name', 10, 10.5)"
            ]
          },
          "metadata": {
            "tags": []
          },
          "execution_count": 12
        }
      ]
    },
    {
      "cell_type": "markdown",
      "metadata": {
        "id": "r2Wi_0OQh6ST",
        "colab_type": "text"
      },
      "source": [
        "Podemos obtener los dos últimos elementos de la tupla:"
      ]
    },
    {
      "cell_type": "code",
      "metadata": {
        "id": "An7C5e-jh0NW",
        "colab_type": "code",
        "colab": {
          "base_uri": "https://localhost:8080/",
          "height": 34
        },
        "outputId": "8e46d466-a361-464a-a94d-01f707575ed6"
      },
      "source": [
        "# Slice del indentado 3 al 4\n",
        "\n",
        "tupla2[3:5]"
      ],
      "execution_count": 14,
      "outputs": [
        {
          "output_type": "execute_result",
          "data": {
            "text/plain": [
              "('Tomorrowland', 10)"
            ]
          },
          "metadata": {
            "tags": []
          },
          "execution_count": 14
        }
      ]
    },
    {
      "cell_type": "markdown",
      "metadata": {
        "id": "o7LeLqYciWGA",
        "colab_type": "text"
      },
      "source": [
        "Podemos obtener la longitud de una tupla usando el comando de longitud:"
      ]
    },
    {
      "cell_type": "code",
      "metadata": {
        "id": "uzX2doTeiOev",
        "colab_type": "code",
        "colab": {
          "base_uri": "https://localhost:8080/",
          "height": 34
        },
        "outputId": "a1621757-17b9-41fb-a4a9-d9ecc0a855b4"
      },
      "source": [
        "len(tupla2)"
      ],
      "execution_count": 16,
      "outputs": [
        {
          "output_type": "execute_result",
          "data": {
            "text/plain": [
              "5"
            ]
          },
          "metadata": {
            "tags": []
          },
          "execution_count": 16
        }
      ]
    },
    {
      "cell_type": "markdown",
      "metadata": {
        "id": "jEw5cd5limNr",
        "colab_type": "text"
      },
      "source": [
        "<h3 id = \"sort\"> Sorting</h3>"
      ]
    },
    {
      "cell_type": "markdown",
      "metadata": {
        "id": "SmTvqeABjlff",
        "colab_type": "text"
      },
      "source": [
        "Considera la siguiente tupla:"
      ]
    },
    {
      "cell_type": "code",
      "metadata": {
        "id": "iTyft9Hgiae_",
        "colab_type": "code",
        "colab": {}
      },
      "source": [
        "#Una muestard e tupla\n",
        "edad = (1,2,6,8,20,3,12)"
      ],
      "execution_count": 0,
      "outputs": []
    },
    {
      "cell_type": "markdown",
      "metadata": {
        "id": "t9SN_NvPkCHw",
        "colab_type": "text"
      },
      "source": [
        "Podemos ordenar los valores en una tupla y guardarla en una nueva tupla:"
      ]
    },
    {
      "cell_type": "code",
      "metadata": {
        "id": "bUslXaWPj0Km",
        "colab_type": "code",
        "colab": {
          "base_uri": "https://localhost:8080/",
          "height": 34
        },
        "outputId": "21757ca0-b6ab-49bb-f44f-03d44189b2ab"
      },
      "source": [
        "edadOrdenada = sorted(edad)\n",
        "edadOrdenada"
      ],
      "execution_count": 19,
      "outputs": [
        {
          "output_type": "execute_result",
          "data": {
            "text/plain": [
              "[1, 2, 3, 6, 8, 12, 20]"
            ]
          },
          "metadata": {
            "tags": []
          },
          "execution_count": 19
        }
      ]
    },
    {
      "cell_type": "markdown",
      "metadata": {
        "id": "4t41PpIjkSfB",
        "colab_type": "text"
      },
      "source": [
        "<h3 id=\"nest\">Nested Tuple</h3>"
      ]
    },
    {
      "cell_type": "markdown",
      "metadata": {
        "id": "ohbUq5DnkdWb",
        "colab_type": "text"
      },
      "source": [
        "Una tupla puede contener otra tupla, así como otros tipos de datos más complejos. Este proceso se llama 'anidamiento'. Considere la siguiente tupla con varios elementos:"
      ]
    },
    {
      "cell_type": "code",
      "metadata": {
        "id": "vJJysj3zkLvm",
        "colab_type": "code",
        "colab": {
          "base_uri": "https://localhost:8080/",
          "height": 34
        },
        "outputId": "9ebc30ef-b9f3-4cf1-ea19-3df7926e697c"
      },
      "source": [
        "#Creamos una tupla anidada\n",
        "tuplaAni = (1, 2, (\"pop\", \"dubstep\") ,(3,4),(\"Rock\",(1,2)))\n",
        "tuplaAni"
      ],
      "execution_count": 21,
      "outputs": [
        {
          "output_type": "execute_result",
          "data": {
            "text/plain": [
              "(1, 2, ('pop', 'dubstep'), (3, 4), ('Rock', (1, 2)))"
            ]
          },
          "metadata": {
            "tags": []
          },
          "execution_count": 21
        }
      ]
    },
    {
      "cell_type": "code",
      "metadata": {
        "id": "FY0JCMTIkytv",
        "colab_type": "code",
        "colab": {
          "base_uri": "https://localhost:8080/",
          "height": 105
        },
        "outputId": "b1fcc76b-a727-4252-dd74-31057ca423b1"
      },
      "source": [
        "#imprimimos cada valor de la tupla\n",
        "\n",
        "\n",
        "print(\"Elemento 0 de Tupla: \", tuplaAni[0])\n",
        "print(\"Elemento 1 de Tupla: \", tuplaAni[1])\n",
        "print(\"Elementp 2 de Tupla: \", tuplaAni[2])\n",
        "print(\"Elemento 3 de Tupla: \", tuplaAni[3])\n",
        "print(\"Elemento 4 de Tupla: \", tuplaAni[4])"
      ],
      "execution_count": 23,
      "outputs": [
        {
          "output_type": "stream",
          "text": [
            "Elemento 0 de Tupla:  1\n",
            "Elemento 1 de Tupla:  2\n",
            "Elementp 2 de Tupla:  ('pop', 'dubstep')\n",
            "Elemento 3 de Tupla:  (3, 4)\n",
            "Elemento 4 de Tupla:  ('Rock', (1, 2))\n"
          ],
          "name": "stdout"
        }
      ]
    },
    {
      "cell_type": "code",
      "metadata": {
        "id": "doWDZfmVlS3y",
        "colab_type": "code",
        "colab": {
          "base_uri": "https://localhost:8080/",
          "height": 123
        },
        "outputId": "8ede1295-6488-4fde-8dec-1e7cd4a14e3e"
      },
      "source": [
        "\n",
        "print(\"Elemento 2, 0 de Tupla: \",   tuplaAni[2][0])\n",
        "print(\"Elemento 2, 1 de Tupla: \",   tuplaAni[2][1])\n",
        "print(\"Elemento 3, 0 de Tupla: \",   tuplaAni[3][0])\n",
        "print(\"Elemento 3, 1 de Tupla: \",   tuplaAni[3][1])\n",
        "print(\"Elemento 4, 0 de Tupla: \",   tuplaAni[4][0])\n",
        "print(\"Elemento 4, 1 de Tupla: \",   tuplaAni[4][1])"
      ],
      "execution_count": 24,
      "outputs": [
        {
          "output_type": "stream",
          "text": [
            "Elemento 2, 0 de Tupla:  pop\n",
            "Elemento 2, 1 de Tupla:  dubstep\n",
            "Elemento 3, 0 de Tupla:  3\n",
            "Elemento 3, 1 de Tupla:  4\n",
            "Elemento 4, 0 de Tupla:  Rock\n",
            "Elemento 4, 1 de Tupla:  (1, 2)\n"
          ],
          "name": "stdout"
        }
      ]
    },
    {
      "cell_type": "markdown",
      "metadata": {
        "id": "oxNAUcVPl8hA",
        "colab_type": "text"
      },
      "source": [
        "Podemos acceder a cadenas en las segundas tuplas anidadas usando un tercer índice:"
      ]
    },
    {
      "cell_type": "code",
      "metadata": {
        "id": "qYb5gYz5lvtv",
        "colab_type": "code",
        "colab": {
          "base_uri": "https://localhost:8080/",
          "height": 34
        },
        "outputId": "4e8378a3-9a90-4b2b-9d27-c775f5a08c23"
      },
      "source": [
        "\n",
        "tuplaAni[2][1][0]"
      ],
      "execution_count": 25,
      "outputs": [
        {
          "output_type": "execute_result",
          "data": {
            "text/plain": [
              "'d'"
            ]
          },
          "metadata": {
            "tags": []
          },
          "execution_count": 25
        }
      ]
    },
    {
      "cell_type": "code",
      "metadata": {
        "id": "OodZ0gQgmC7A",
        "colab_type": "code",
        "colab": {}
      },
      "source": [
        ""
      ],
      "execution_count": 0,
      "outputs": []
    }
  ]
}