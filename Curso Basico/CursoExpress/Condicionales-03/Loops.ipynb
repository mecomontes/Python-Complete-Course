{
 "cells": [
  {
   "cell_type": "markdown",
   "metadata": {},
   "source": [
    "<a href=\"https://github.com/Chilangdon20/PYTHON/tree/master/Curso%20Basico/CursoExpress/Condicionales-03\">\n",
    "    <img src=\"https://raw.githubusercontent.com/Chilangdon20/PYTHON/master/Curso%20Basico/CursoExpress/Imagenes/Chilangodn.png\" width=\"200\" align=\"center\">\n",
    "</a>"
   ]
  },
  {
   "cell_type": "markdown",
   "metadata": {},
   "source": [
    "<h1>Loops en Python</h1>"
   ]
  },
  {
   "cell_type": "markdown",
   "metadata": {},
   "source": [
    "<h2>Table de Contenidos</h2>\n",
    "<div class=\"alert alert-block alert-info\" style=\"margin-top: 20px\">\n",
    "    <ul>\n",
    "        <li>\n",
    "            <a href=\"#loop\">Loops</a>\n",
    "            <ul>\n",
    "                <li><a href=\"range\">Range</a></li>\n",
    "                <li><a href=\"for\">Que es un loop <code>for</code>?</a></li>\n",
    "                <li><a href=\"while\">Que es un loop <code>while</code>?</a></li>\n",
    "            </ul>\n",
    "        </li>\n",
    "        <li>\n",
    "            <a href=\"#quiz\">Quiz  Loops</a>\n",
    "        </li>\n",
    "    </ul>\n",
    "   \n",
    "</div>\n",
    "\n",
    "<hr>"
   ]
  },
  {
   "cell_type": "markdown",
   "metadata": {},
   "source": [
    "<h2 id=\"loop\">Loops</h2>"
   ]
  },
  {
   "cell_type": "markdown",
   "metadata": {},
   "source": [
    "<h3 id=\"range\">Range</h3>"
   ]
  },
  {
   "cell_type": "markdown",
   "metadata": {},
   "source": [
    "A veces, es posible que desees repetir una operación determinada muchas veces. Ejecuciones repetidas como esta son realizadas por <b> bucles </b>. Veremos dos tipos de bucles, <code> for </code> bucles y <code> while </code>.\n",
    "\n",
    "Antes de analizar los bucles, analicemos el objeto <code> range </code>. Es útil pensar en el objeto de rango como una lista ordenada. Por ahora, veamos el caso más simple. Si nos gustaría generar una secuencia que contenga tres elementos ordenados de 0 a 2, simplemente usamos el siguiente comando:"
   ]
  },
  {
   "cell_type": "code",
   "execution_count": 1,
   "metadata": {},
   "outputs": [
    {
     "data": {
      "text/plain": [
       "range(0, 3)"
      ]
     },
     "execution_count": 1,
     "metadata": {},
     "output_type": "execute_result"
    }
   ],
   "source": [
    "# Uso del parametro range\n",
    "\n",
    "range(3)"
   ]
  },
  {
   "cell_type": "markdown",
   "metadata": {},
   "source": [
    "<img src=\"https://s3-api.us-geo.objectstorage.softlayer.net/cf-courses-data/CognitiveClass/PY0101EN/Chapter%203/Images/LoopsRange.png\" width=\"300\" />"
   ]
  },
  {
   "cell_type": "markdown",
   "metadata": {},
   "source": [
    "<h3 id=\"for\">Que es un loop <code>for</code>?</h3>"
   ]
  },
  {
   "cell_type": "markdown",
   "metadata": {},
   "source": [
    "El bucle <code> for </code> te permite ejecutar un bloque de código varias veces. Por ejemplo, usarías esto si deseas imprimir cada elemento de una lista.\n",
    "Intentemos usar un bucle <code> for </code> para imprimir todos los años presentados en la lista <code> fechas </code>:"
   ]
  },
  {
   "cell_type": "markdown",
   "metadata": {},
   "source": [
    "Esto se puede hacer de la siguiente manera:"
   ]
  },
  {
   "cell_type": "code",
   "execution_count": 2,
   "metadata": {},
   "outputs": [
    {
     "name": "stdout",
     "output_type": "stream",
     "text": [
      "1982\n",
      "1980\n",
      "1973\n"
     ]
    }
   ],
   "source": [
    "# Ejemplo d eun loop for\n",
    "\n",
    "fechas = [1982,1980,1973]\n",
    "N = len(fechas)\n",
    "\n",
    "for i in range(N):\n",
    "    print(fechas[i])     "
   ]
  },
  {
   "cell_type": "markdown",
   "metadata": {},
   "source": [
    "El código en la sangría se ejecuta <code> N </code> veces, cada vez que el valor de <code> i </code> se incrementa en 1 por cada ejecución. La declaración ejecutada es <code> print </code> el valor en la lista en index <code> i </code> como se muestra aquí:"
   ]
  },
  {
   "cell_type": "markdown",
   "metadata": {},
   "source": [
    "<img src=\"https://s3-api.us-geo.objectstorage.softlayer.net/cf-courses-data/CognitiveClass/PY0101EN/Chapter%203/Images/LoopsForRange.gif\" width=\"800\" />"
   ]
  },
  {
   "cell_type": "markdown",
   "metadata": {},
   "source": [
    "En este ejemplo podemos imprimir una secuencia de números del 0 al 7:"
   ]
  },
  {
   "cell_type": "code",
   "execution_count": 3,
   "metadata": {},
   "outputs": [
    {
     "name": "stdout",
     "output_type": "stream",
     "text": [
      "0\n",
      "1\n",
      "2\n",
      "3\n",
      "4\n",
      "5\n",
      "6\n",
      "7\n"
     ]
    }
   ],
   "source": [
    "# Ejemplo for\n",
    "\n",
    "for i in range(0, 8):\n",
    "    print(i)"
   ]
  },
  {
   "cell_type": "markdown",
   "metadata": {},
   "source": [
    "En Python podemos acceder directamente a los elementos de la lista de la siguiente manera:"
   ]
  },
  {
   "cell_type": "code",
   "execution_count": 6,
   "metadata": {},
   "outputs": [
    {
     "name": "stdout",
     "output_type": "stream",
     "text": [
      "1982\n",
      "1980\n",
      "1973\n"
     ]
    }
   ],
   "source": [
    "# Ejemplo de for loop, loop through list\n",
    "\n",
    "for año in fechas:  \n",
    "    print(año)   "
   ]
  },
  {
   "cell_type": "markdown",
   "metadata": {},
   "source": [
    "Para cada iteración, el valor de la variable <code> años </code> se comporta como el valor de <code> fechas [i] </code> en el primer ejemplo:"
   ]
  },
  {
   "cell_type": "markdown",
   "metadata": {},
   "source": [
    "<img src=\"https://s3-api.us-geo.objectstorage.softlayer.net/cf-courses-data/CognitiveClass/PY0101EN/Chapter%203/Images/LoopsForList.gif\" width=\"800\">"
   ]
  },
  {
   "cell_type": "markdown",
   "metadata": {},
   "source": [
    "Podemos cambiar los elementos en una lista:"
   ]
  },
  {
   "cell_type": "code",
   "execution_count": 13,
   "metadata": {},
   "outputs": [
    {
     "name": "stdout",
     "output_type": "stream",
     "text": [
      "Antes de el cambio  0 is rojo\n",
      "Despues del cambio  0 is blanco \n",
      "\n",
      "Antes de el cambio  1 is amarillo\n",
      "Despues del cambio  1 is blanco \n",
      "\n",
      "Antes de el cambio  2 is verde\n",
      "Despues del cambio  2 is blanco \n",
      "\n",
      "Antes de el cambio  3 is morado\n",
      "Despues del cambio  3 is blanco \n",
      "\n",
      "Antes de el cambio  4 is azul\n",
      "Despues del cambio  4 is blanco \n",
      "\n"
     ]
    }
   ],
   "source": [
    "# Usamos for para cambiar los elementos de una lista\n",
    "\n",
    "colores = ['rojo', 'amarillo', 'verde', 'morado', 'azul']\n",
    "\n",
    "\n",
    "    \n",
    "for i in range(0, 5):\n",
    "    print(\"Antes de el cambio \", i, 'is',  colores[i])\n",
    "    colores[i] = 'blanco'\n",
    "    print(\"Despues del cambio \", i, 'is',  colores[i],'\\n')"
   ]
  },
  {
   "cell_type": "markdown",
   "metadata": {},
   "source": [
    "Accedemos al cada uno de los elementos del loop"
   ]
  },
  {
   "cell_type": "code",
   "execution_count": 17,
   "metadata": {},
   "outputs": [
    {
     "name": "stdout",
     "output_type": "stream",
     "text": [
      "0 = POO\n",
      "1 = ML\n",
      "2 = DATA\n",
      "3 = UI\n",
      "4 = UX\n"
     ]
    }
   ],
   "source": [
    "# Recorre la lista e itera tanto en el índice como en el valor del elemento\n",
    "python=['POO', 'ML', 'DATA', 'UI', 'UX']\n",
    "\n",
    "for i, python in enumerate(python):\n",
    "    print(i, \"=\" ,python)"
   ]
  },
  {
   "cell_type": "markdown",
   "metadata": {},
   "source": [
    "<h3 id=\"while\">Que es un loop<code>while</code>?</h3>"
   ]
  },
  {
   "cell_type": "markdown",
   "metadata": {},
   "source": [
    "Como puedes ver, el bucle <code> for </code> se usa para un flujo controlado de repetición. Sin embargo, ¿qué pasa si no sabemos cuándo queremos detener el ciclo? ¿Qué sucede si queremos seguir ejecutando un bloque de código hasta que se cumpla una determinada condición? El bucle <code> while </code> existe como una herramienta para la ejecución repetida en función de una condición. El bloque de código seguirá ejecutándose hasta que la condición lógica dada devuelva un valor booleano **Falso**.\n"
   ]
  },
  {
   "cell_type": "markdown",
   "metadata": {},
   "source": [
    "Digamos que nos gustaría recorrer la lista <code> fechas </code> y detenernos en el año 1973, luego imprimir el número de iteraciones. Esto se puede hacer con el siguiente bloque de código:"
   ]
  },
  {
   "cell_type": "code",
   "execution_count": 22,
   "metadata": {},
   "outputs": [
    {
     "name": "stdout",
     "output_type": "stream",
     "text": [
      "1982\n",
      "1980\n",
      "1973\n",
      "Tomó 3 repeticiones para salir del loop \n"
     ]
    }
   ],
   "source": [
    "# LOOP ejemplo\n",
    "\n",
    "dates = [1982, 1980, 1973, 2000]\n",
    "\n",
    "i = 0\n",
    "year = 0\n",
    "\n",
    "while(year != 1973):\n",
    "    year = dates[i]\n",
    "    i = i + 1\n",
    "    print(year)\n",
    "\n",
    "print(\"Tomó\",i,\"repeticiones para salir del loop \")"
   ]
  },
  {
   "cell_type": "markdown",
   "metadata": {},
   "source": [
    "Un ciclo while itera simplemente hasta que no se cumpla la condición del argumento, como se muestra en la siguiente figura:"
   ]
  },
  {
   "cell_type": "markdown",
   "metadata": {},
   "source": [
    "<img src=\"https://s3-api.us-geo.objectstorage.softlayer.net/cf-courses-data/CognitiveClass/PY0101EN/Chapter%203/Images/LoopsWhile.gif\" width=\"650\" />"
   ]
  },
  {
   "cell_type": "markdown",
   "metadata": {},
   "source": [
    "<hr>"
   ]
  },
  {
   "cell_type": "markdown",
   "metadata": {},
   "source": [
    "<h2 id=\"quiz\">Quiz  Loops</h2>"
   ]
  },
  {
   "cell_type": "markdown",
   "metadata": {},
   "source": [
    "Escribe un bucle <code> for </code> para imprimir todos los elementos entre <b> -5 </b> y <b> 5 </b> utilizando la función de rango."
   ]
  },
  {
   "cell_type": "code",
   "execution_count": 25,
   "metadata": {},
   "outputs": [],
   "source": [
    "#Escribe aqui tu solucion"
   ]
  },
  {
   "cell_type": "markdown",
   "metadata": {},
   "source": [
    "Doble_click __aqui__ para ver la solucion.\n",
    "<!-- \n",
    "for i in range(-5, 6):\n",
    "    print(i)\n",
    "-->"
   ]
  },
  {
   "cell_type": "markdown",
   "metadata": {},
   "source": [
    "Imprime los elementos de la siguiente lista:\n",
    "<code> Géneros = ['rock', 'R&B', 'Banda sonora', 'R&B', 'soul', 'pop'] </code>\n",
    "Asegúrese de seguir las convenciones de Python."
   ]
  },
  {
   "cell_type": "code",
   "execution_count": 28,
   "metadata": {},
   "outputs": [],
   "source": [
    "#Escribe aqui tu solucion:"
   ]
  },
  {
   "cell_type": "markdown",
   "metadata": {},
   "source": [
    "Doble_click __aqui__ para ver la solucion.\n",
    "<!-- \n",
    "Generos = ['rock', 'R&B', 'Soundtrack', 'R&B', 'soul', 'pop']\n",
    "for Gen in Genneros:\n",
    "    print(Generos)\n",
    "-->"
   ]
  },
  {
   "cell_type": "markdown",
   "metadata": {},
   "source": [
    "Escriba un bucle for que imprima la siguiente lista: <code> squares = ['red', 'yellow', 'green', 'purple', 'blue'] </code>"
   ]
  },
  {
   "cell_type": "code",
   "execution_count": null,
   "metadata": {},
   "outputs": [],
   "source": [
    "# Escribe aqui tu solucion"
   ]
  },
  {
   "cell_type": "markdown",
   "metadata": {},
   "source": [
    "Doble_click __aqui__ para ver la solucion.\n",
    "<!-- \n",
    "squares=['red', 'yellow', 'green', 'purple', 'blue']\n",
    "for square in squares:\n",
    "    print(square)\n",
    " -->"
   ]
  },
  {
   "cell_type": "markdown",
   "metadata": {},
   "source": [
    "Escribe un bucle while para mostrar los valores de la Clasificación de una lista de reproducción de álbum almacenada en la lista <code> PlayListRatings </code>. Si la puntuación es inferior a 6, salga del bucle. La lista <code> PlayListRatings </code> viene dada por: <code> PlayListRatings = [10, 9.5, 10, 8, 7.5, 5, 10, 10] </code>"
   ]
  },
  {
   "cell_type": "code",
   "execution_count": 30,
   "metadata": {},
   "outputs": [],
   "source": [
    "#Escribe aqui tu solucion"
   ]
  },
  {
   "cell_type": "markdown",
   "metadata": {},
   "source": [
    "Doble_click aqui para ver la solucion.\n",
    "<!-- \n",
    "PlayListRatings = [10, 9.5, 10, 8, 7.5, 5, 10, 10]\n",
    "i = 1\n",
    "Rating = PlayListRatings[0]\n",
    "while(Rating >= 6):\n",
    "    print(Rating)\n",
    "    Rating = PlayListRatings[i]\n",
    "    i = i + 1\n",
    " -->"
   ]
  },
  {
   "cell_type": "markdown",
   "metadata": {},
   "source": [
    "Escribe un bucle while para copiar las cadenas <code> 'orange' </code> de la lista <code> colores </code> en la lista <code> colores_nuevos </code>. Deténgase y salga del bucle si el valor en la lista no es <code> 'orange' </code>:"
   ]
  },
  {
   "cell_type": "code",
   "execution_count": 33,
   "metadata": {},
   "outputs": [],
   "source": [
    "# Escribe aqui tu codigo\n"
   ]
  },
  {
   "cell_type": "markdown",
   "metadata": {},
   "source": [
    "Doble_click aqui para ver la solucion.\n",
    "<!-- \n",
    "colores = ['orange', 'orange', 'purple', 'blue ', 'orange']\n",
    "colores_nuevos = []\n",
    "i = 0\n",
    "while(colores[i] == 'orange'):\n",
    "    colores_nuevos.append(colores[i])\n",
    "    i = i + 1\n",
    "print(colores_nuevos)\n",
    " -->"
   ]
  }
 ],
 "metadata": {
  "kernelspec": {
   "display_name": "Python 3",
   "language": "python",
   "name": "python3"
  },
  "language_info": {
   "codemirror_mode": {
    "name": "ipython",
    "version": 3
   },
   "file_extension": ".py",
   "mimetype": "text/x-python",
   "name": "python",
   "nbconvert_exporter": "python",
   "pygments_lexer": "ipython3",
   "version": "3.6.10"
  }
 },
 "nbformat": 4,
 "nbformat_minor": 2
}
