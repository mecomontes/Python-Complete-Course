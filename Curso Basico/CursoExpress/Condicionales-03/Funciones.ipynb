{
 "cells": [
  {
   "cell_type": "markdown",
   "metadata": {},
   "source": [
    "<a href=\"https://github.com/Chilangdon20/PYTHON/tree/master/Curso%20Basico/CursoExpress/Condicionales-03\">\n",
    "    <img src=\"https://raw.githubusercontent.com/Chilangdon20/PYTHON/master/Curso%20Basico/CursoExpress/Imagenes/Chilangodn.png\" width=\"200\" align=\"center\">\n",
    "</a>"
   ]
  },
  {
   "cell_type": "markdown",
   "metadata": {},
   "source": [
    "<h1>Funciones en Python</h1>"
   ]
  },
  {
   "cell_type": "markdown",
   "metadata": {},
   "source": [
    "<p> <strong> ¡Bienvenido! </strong> Este notebook te enseñará sobre las funciones en el lenguaje de programación Python. Al final de esta práctica de laboratorio, conocerás los conceptos básicos sobre funciones, variables y cómo usar las funciones. </p>"
   ]
  },
  {
   "cell_type": "markdown",
   "metadata": {},
   "source": [
    "<h2>Tabla de Contenido</h2>\n",
    "<div class=\"alert alert-block alert-info\" style=\"margin-top: 20px\">\n",
    "    <ul>\n",
    "        <li>\n",
    "            <a href=\"#func\">Funciones</a>\n",
    "            <ul>\n",
    "                <li><a href=\"content\">Que es una funcion?</a></li>\n",
    "                <li><a href=\"var\">Variables</a></li>\n",
    "                <li><a href=\"simple\">Las funciones simplifican las cosas</a></li>\n",
    "            </ul>\n",
    "        </li>\n",
    "        <li><a href=\"pre\">Funciones predefinidas</a></li>\n",
    "        <li><a href=\"if\">Usando <code>if</code>/<code>else</code> Declaraciones y bucles en funciones</a></li>\n",
    "        <li><a href=\"default\">Establecer valores de argumento predeterminados en sus funciones personalizadas</a></li>\n",
    "        <li><a href=\"global\">Variables Globales</a></li>\n",
    "        <li><a href=\"scope\">Alcance de una variable</a></li>\n",
    "        <li>\n",
    "            <a href=\"#quiz\">Quiz </a>\n",
    "        </li>\n",
    "    </ul>\n",
    "   \n",
    "</div>\n",
    "\n",
    "<hr>"
   ]
  },
  {
   "cell_type": "markdown",
   "metadata": {},
   "source": [
    "<h2 id=\"func\">Funciones</h2>"
   ]
  },
  {
   "cell_type": "markdown",
   "metadata": {},
   "source": [
    "Una funcion es un bloque de codigo reutilizable definido por operaciones. Estas las puedes usar en diferentes aplicaciones.\n",
    "There are two types of functions :\n",
    "\n",
    "- <b>Funciones Predefinidas</b>\n",
    "- <b>Funciones definidas por el usuario</b>"
   ]
  },
  {
   "cell_type": "markdown",
   "metadata": {},
   "source": [
    "<h3 id=\"content\">Que es una funcion?</h3>"
   ]
  },
  {
   "cell_type": "markdown",
   "metadata": {},
   "source": [
    "Puedea definir funciones para proporcionar la funcionalidad requerida. Aquí hay reglas simples para definir una función en Python:\n",
    "\n",
    "\n",
    "- Los bloques de funciones comienzan con <code> def </code> seguido de la función <code> name </code> y paréntesis <code> () </code>.\n",
    "\n",
    "- Hay parámetros de entrada o argumentos que deben colocarse entre estos paréntesis.\n",
    "\n",
    "- También puede definir parámetros dentro de estos paréntesis.\n",
    "\n",
    "- Hay un cuerpo dentro de cada función que comienza con dos puntos (<code>: </code>) \n",
    "\n",
    "- También puede colocar documentación antes del cuerpo\n",
    "\n",
    "- La instrucción <code> return </code> sale de una función, opcionalmente devuelve un valor\n",
    "\n",
    "Un ejemplo de una función que se agrega al parámetro <code> a </code> imprime y devuelve la salida como <code> b </code>:"
   ]
  },
  {
   "cell_type": "code",
   "execution_count": 3,
   "metadata": {},
   "outputs": [
    {
     "name": "stdout",
     "output_type": "stream",
     "text": [
      "1 si agregas uno 2\n"
     ]
    },
    {
     "data": {
      "text/plain": [
       "2"
      ]
     },
     "execution_count": 3,
     "metadata": {},
     "output_type": "execute_result"
    }
   ],
   "source": [
    "# Primer ejemplo de función: agregue 1 a a y almacene como b\n",
    "\n",
    "def add(a):\n",
    "    b = a + 1\n",
    "    print(a, \"si agregas uno\", b)\n",
    "    return(b)\n",
    "add(1)"
   ]
  },
  {
   "cell_type": "markdown",
   "metadata": {},
   "source": [
    "La siguiente figura ilustra la terminología:"
   ]
  },
  {
   "cell_type": "markdown",
   "metadata": {},
   "source": [
    "<img src=\"https://s3-api.us-geo.objectstorage.softlayer.net/cf-courses-data/CognitiveClass/PY0101EN/Chapter%203/Images/FuncsDefinition.png\" width=\"500\" /> "
   ]
  },
  {
   "cell_type": "markdown",
   "metadata": {},
   "source": [
    "Podemos obtener ayuda sobre una función.:"
   ]
  },
  {
   "cell_type": "code",
   "execution_count": 4,
   "metadata": {
    "collapsed": false,
    "jupyter": {
     "outputs_hidden": false
    }
   },
   "outputs": [
    {
     "name": "stdout",
     "output_type": "stream",
     "text": [
      "Help on function add in module __main__:\n",
      "\n",
      "add(a)\n",
      "\n"
     ]
    }
   ],
   "source": [
    "# Pedimos ayuda sobre una funcion\n",
    "\n",
    "help(add)"
   ]
  },
  {
   "cell_type": "markdown",
   "metadata": {},
   "source": [
    "Nosotros podemos llamar a la función:"
   ]
  },
  {
   "cell_type": "code",
   "execution_count": 5,
   "metadata": {
    "collapsed": false,
    "jupyter": {
     "outputs_hidden": false
    }
   },
   "outputs": [
    {
     "name": "stdout",
     "output_type": "stream",
     "text": [
      "1 si agregas uno 2\n"
     ]
    },
    {
     "data": {
      "text/plain": [
       "2"
      ]
     },
     "execution_count": 5,
     "metadata": {},
     "output_type": "execute_result"
    }
   ],
   "source": [
    "# Llamando a la funcion add()\n",
    "\n",
    "add(1)"
   ]
  },
  {
   "cell_type": "markdown",
   "metadata": {},
   "source": [
    "Si llamamos a la funcino con un nuevo parametro obtenemos un resultado distinto:"
   ]
  },
  {
   "cell_type": "code",
   "execution_count": 6,
   "metadata": {
    "collapsed": false,
    "jupyter": {
     "outputs_hidden": false
    }
   },
   "outputs": [
    {
     "name": "stdout",
     "output_type": "stream",
     "text": [
      "2 si agregas uno 3\n"
     ]
    },
    {
     "data": {
      "text/plain": [
       "3"
      ]
     },
     "execution_count": 6,
     "metadata": {},
     "output_type": "execute_result"
    }
   ],
   "source": [
    "# Lamando a la funcion add()\n",
    "\n",
    "add(2)"
   ]
  },
  {
   "cell_type": "markdown",
   "metadata": {},
   "source": [
    "Podemos crear diferentes funciones. Por ejemplo, podemos crear una función que multiplique dos números. Los números estarán representados por las variables <code> a </code> y <code> b </code>:"
   ]
  },
  {
   "cell_type": "code",
   "execution_count": 29,
   "metadata": {},
   "outputs": [
    {
     "data": {
      "text/plain": [
       "6"
      ]
     },
     "execution_count": 29,
     "metadata": {},
     "output_type": "execute_result"
    }
   ],
   "source": [
    "# Definimos la funcion de multplipicacion\n",
    "def op(a,b):\n",
    "    e = a * b\n",
    "    return(e)\n",
    "op(2,3)"
   ]
  },
  {
   "cell_type": "markdown",
   "metadata": {},
   "source": [
    "La misma función se puede usar para diferentes tipos de datos. Por ejemplo, podemos multiplicar dos enteros:"
   ]
  },
  {
   "cell_type": "code",
   "execution_count": 20,
   "metadata": {
    "collapsed": false,
    "jupyter": {
     "outputs_hidden": false
    }
   },
   "outputs": [
    {
     "data": {
      "text/plain": [
       "'La multiplicacion es: 6'"
      ]
     },
     "execution_count": 20,
     "metadata": {},
     "output_type": "execute_result"
    }
   ],
   "source": [
    "# Uso de la funcion para multiplicar 2 numeros\n",
    "\n",
    "mult(2, 3)"
   ]
  },
  {
   "cell_type": "markdown",
   "metadata": {},
   "source": [
    "2 Flotantes:"
   ]
  },
  {
   "cell_type": "code",
   "execution_count": 21,
   "metadata": {
    "collapsed": false,
    "jupyter": {
     "outputs_hidden": false
    }
   },
   "outputs": [
    {
     "data": {
      "text/plain": [
       "'La multiplicacion es: 31.400000000000002'"
      ]
     },
     "execution_count": 21,
     "metadata": {},
     "output_type": "execute_result"
    }
   ],
   "source": [
    "# Usamos la funcion para mutiplicar 2 flotantes\n",
    "\n",
    "mult(10.0, 3.14)"
   ]
  },
  {
   "cell_type": "markdown",
   "metadata": {},
   "source": [
    "Incluso podemos replicar una cadena multiplicándola con un entero:"
   ]
  },
  {
   "cell_type": "code",
   "execution_count": 24,
   "metadata": {
    "collapsed": false,
    "jupyter": {
     "outputs_hidden": false
    }
   },
   "outputs": [
    {
     "data": {
      "text/plain": [
       "'La multiplicacion es: Michael Jackson, Michael Jackson, '"
      ]
     },
     "execution_count": 24,
     "metadata": {},
     "output_type": "execute_result"
    }
   ],
   "source": [
    "# Uso de mult() multiplique dos valores de tipo diferentes juntos\n",
    "\n",
    "mult(2, \"Michael Jackson, \")"
   ]
  },
  {
   "cell_type": "markdown",
   "metadata": {},
   "source": [
    "<h3 id=\"var\">Variables</h3>"
   ]
  },
  {
   "cell_type": "markdown",
   "metadata": {},
   "source": [
    "La entrada a una función se llama parámetro formal.\n",
    "\n",
    "Una variable que se declara dentro de una función se llama variable local. El parámetro solo existe dentro de la función (es decir, el punto donde la función comienza y se detiene).\n",
    "\n",
    "Una variable que se declara fuera de una definición de función es una variable global, y su valor es accesible y modificable en todo el programa. Discutiremos más sobre variables globales al final del laboratorio.\n"
   ]
  },
  {
   "cell_type": "code",
   "execution_count": 32,
   "metadata": {
    "collapsed": false,
    "jupyter": {
     "outputs_hidden": false
    }
   },
   "outputs": [],
   "source": [
    "# Definimos funcion\n",
    "\n",
    "def square(a):\n",
    "    \n",
    "    # variable local\n",
    "    b = 1\n",
    "    c = a * a + b\n",
    "    print(a, \"La respuesta es:\", c) \n",
    "    return(c)"
   ]
  },
  {
   "cell_type": "markdown",
   "metadata": {},
   "source": [
    "Las etiquetas se muestran en la figura:"
   ]
  },
  {
   "cell_type": "markdown",
   "metadata": {},
   "source": [
    "<img src=\"https://s3-api.us-geo.objectstorage.softlayer.net/cf-courses-data/CognitiveClass/PY0101EN/Chapter%203/Images/FuncsVar.png\" width=\"500\" />"
   ]
  },
  {
   "cell_type": "markdown",
   "metadata": {},
   "source": [
    "Podemos llamar a la función con una entrada de <b> 3 </b>:"
   ]
  },
  {
   "cell_type": "code",
   "execution_count": 34,
   "metadata": {
    "collapsed": false,
    "jupyter": {
     "outputs_hidden": false
    }
   },
   "outputs": [
    {
     "name": "stdout",
     "output_type": "stream",
     "text": [
      "3 La respuesta es: 10\n"
     ]
    },
    {
     "data": {
      "text/plain": [
       "10"
      ]
     },
     "execution_count": 34,
     "metadata": {},
     "output_type": "execute_result"
    }
   ],
   "source": [
    "# Inicializamos una variable global\n",
    "a = 3\n",
    "#Llamamos a nuestra funcion\n",
    "\n",
    "t = square(a)\n",
    "t"
   ]
  },
  {
   "cell_type": "markdown",
   "metadata": {},
   "source": [
    "Podemos llamar a la función con una entrada de <b> 2 </b> de una manera diferente:"
   ]
  },
  {
   "cell_type": "code",
   "execution_count": 35,
   "metadata": {
    "collapsed": false,
    "jupyter": {
     "outputs_hidden": false
    }
   },
   "outputs": [
    {
     "name": "stdout",
     "output_type": "stream",
     "text": [
      "2 La respuesta es: 5\n"
     ]
    },
    {
     "data": {
      "text/plain": [
       "5"
      ]
     },
     "execution_count": 35,
     "metadata": {},
     "output_type": "execute_result"
    }
   ],
   "source": [
    "#  Dandole un parametro directamente\n",
    "\n",
    "square(2)"
   ]
  },
  {
   "cell_type": "markdown",
   "metadata": {},
   "source": [
    "Si no hay una declaración <code> return </code>, la función devuelve <code> None </code>. Las siguientes dos funciones son equivalentes:"
   ]
  },
  {
   "cell_type": "code",
   "execution_count": 37,
   "metadata": {
    "collapsed": false,
    "jupyter": {
     "outputs_hidden": false
    }
   },
   "outputs": [],
   "source": [
    "# Definir funciones, una con valor de retorno Ninguna y otra sin valor de retorno\n",
    "\n",
    "def MX():\n",
    "    print('MEXICO')\n",
    "    \n",
    "def MX1():\n",
    "    print('MEXICO')\n",
    "    return(None)"
   ]
  },
  {
   "cell_type": "code",
   "execution_count": 38,
   "metadata": {
    "collapsed": false,
    "jupyter": {
     "outputs_hidden": false
    }
   },
   "outputs": [
    {
     "name": "stdout",
     "output_type": "stream",
     "text": [
      "Michael Jackson\n"
     ]
    }
   ],
   "source": [
    "# Ver la salida\n",
    "\n",
    "MJ()"
   ]
  },
  {
   "cell_type": "code",
   "execution_count": 39,
   "metadata": {
    "collapsed": false,
    "jupyter": {
     "outputs_hidden": false
    }
   },
   "outputs": [
    {
     "name": "stdout",
     "output_type": "stream",
     "text": [
      "Michael Jackson\n"
     ]
    }
   ],
   "source": [
    "# Ver la salida\n",
    "\n",
    "MJ1()"
   ]
  },
  {
   "cell_type": "markdown",
   "metadata": {},
   "source": [
    "Imprimir la función después de una llamada revela un **None** es la declaración de retorno predeterminada:"
   ]
  },
  {
   "cell_type": "code",
   "execution_count": 41,
   "metadata": {
    "collapsed": false,
    "jupyter": {
     "outputs_hidden": false
    }
   },
   "outputs": [
    {
     "name": "stdout",
     "output_type": "stream",
     "text": [
      "MEXICO\n",
      "None\n",
      "MEXICO\n",
      "None\n"
     ]
    }
   ],
   "source": [
    "# Veamos que nos regresan las funciones\n",
    "\n",
    "print(MX())\n",
    "print(MX1())"
   ]
  },
  {
   "cell_type": "markdown",
   "metadata": {},
   "source": [
    "Creamos una función <code>con</code> que concatene dos cadenas utilizando la operación de adición:"
   ]
  },
  {
   "cell_type": "code",
   "execution_count": 42,
   "metadata": {},
   "outputs": [],
   "source": [
    "# Definimos la funcion\n",
    "\n",
    "def con(a, b):\n",
    "    return(a + b)"
   ]
  },
  {
   "cell_type": "code",
   "execution_count": 44,
   "metadata": {},
   "outputs": [
    {
     "data": {
      "text/plain": [
       "'This is'"
      ]
     },
     "execution_count": 44,
     "metadata": {},
     "output_type": "execute_result"
    }
   ],
   "source": [
    "# Prueba de la funcion\n",
    "\n",
    "con(\"This \", \"is\")"
   ]
  },
  {
   "cell_type": "markdown",
   "metadata": {},
   "source": [
    "<hr/>\n",
    "    <div class=\"alert alert-success alertsuccess\" style=\"margin-top: 20px\">\n",
    "        <h4> [Tip]¿Cómo aprendo más sobre las funciones predefinidas en Python? </h4>\n",
    "        <p>Te presentaremos una variedad de funciones predefinidas a medida que aprendas más sobre Python. Hay demasiadas funciones, por lo que no hay forma de que podamos enseñarlas todas de una vez. Pero si deseas echar un vistazo rápido, aquí hay una breve tarjeta de referencia para algunas de las funciones predefinidas de uso común: <a href=\"http://www.astro.up.pt/~sousasag/Python_For_Astronomers/Python_qr.pdf\">Reference</a></p>\n",
    "    </div>\n",
    "<hr/>"
   ]
  },
  {
   "cell_type": "markdown",
   "metadata": {},
   "source": [
    "<h3 id=\"simple\">Las funciones simplifican las cosas</h3>"
   ]
  },
  {
   "cell_type": "markdown",
   "metadata": {},
   "source": [
    "Considera las dos líneas de código en <b> Bloque 1 </b> y <b> Bloque 2 </b>: el procedimiento para cada bloque es idéntico. Lo único que es diferente son los nombres y valores de las variables."
   ]
  },
  {
   "cell_type": "markdown",
   "metadata": {},
   "source": [
    "<h4>Bloque 1:</h4>"
   ]
  },
  {
   "cell_type": "code",
   "execution_count": 45,
   "metadata": {
    "collapsed": false,
    "jupyter": {
     "outputs_hidden": false
    }
   },
   "outputs": [
    {
     "data": {
      "text/plain": [
       "5"
      ]
     },
     "execution_count": 45,
     "metadata": {},
     "output_type": "execute_result"
    }
   ],
   "source": [
    "a1 = 4\n",
    "b1 = 5\n",
    "c1 = a1 + b1 + 2 * a1 * b1 - 1\n",
    "if(c1 < 0):\n",
    "    c1 = 0 \n",
    "else:\n",
    "    c1 = 5\n",
    "c1   "
   ]
  },
  {
   "cell_type": "markdown",
   "metadata": {},
   "source": [
    "<h4>Bloque 2:</h4>"
   ]
  },
  {
   "cell_type": "code",
   "execution_count": 46,
   "metadata": {
    "collapsed": false,
    "jupyter": {
     "outputs_hidden": false
    }
   },
   "outputs": [
    {
     "data": {
      "text/plain": [
       "0"
      ]
     },
     "execution_count": 46,
     "metadata": {},
     "output_type": "execute_result"
    }
   ],
   "source": [
    "a2 = 0\n",
    "b2 = 0\n",
    "c2 = a2 + b2 + 2 * a2 * b2 - 1\n",
    "if(c2 < 0):\n",
    "    c2 = 0 \n",
    "else:\n",
    "    c2 = 5\n",
    "c2   "
   ]
  },
  {
   "cell_type": "markdown",
   "metadata": {},
   "source": [
    "Podemos reemplazar las líneas de código con una función. Una función combina muchas instrucciones en una sola línea de código. Una vez que se define una función, se puede usar repetidamente. Puede invocar la misma función muchas veces en su programa. Puede guardar su función y usarla en otro programa o usar la función de otra persona. Las líneas de código en el código <b> Bloque 1 </b> y el código <b> Bloque 2 </b> se pueden reemplazar por la siguiente función:"
   ]
  },
  {
   "cell_type": "code",
   "execution_count": 48,
   "metadata": {
    "collapsed": false,
    "jupyter": {
     "outputs_hidden": false
    }
   },
   "outputs": [],
   "source": [
    "def Ecuacion(a,b):\n",
    "    c = a+b+2*a*b-1\n",
    "    if(c< 0):\n",
    "        c = 0\n",
    "    else:\n",
    "        c = 5\n",
    "    return(c)"
   ]
  },
  {
   "cell_type": "markdown",
   "metadata": {},
   "source": [
    "Esta función toma dos entradas, ayb, luego aplica varias operaciones para devolver c.\n",
    "Simplemente definimos la función, reemplazamos las instrucciones con la función e ingresamos los nuevos valores de <code> a1 </code>, <code> b1 </code> y <code> a2 </code>, <code> b2 </code> como entradas. Todo el proceso se demuestra en la figura:"
   ]
  },
  {
   "cell_type": "markdown",
   "metadata": {},
   "source": [
    "<img src=\"https://s3-api.us-geo.objectstorage.softlayer.net/cf-courses-data/CognitiveClass/PY0101EN/Chapter%203/Images/FuncsPros.gif\" width=\"850\" />"
   ]
  },
  {
   "cell_type": "markdown",
   "metadata": {},
   "source": [
    "El código **Bloque1** y **Bloque2** ahora se pueden reemplazar con el código **Bloque 3** y el código **Bloque 4**."
   ]
  },
  {
   "cell_type": "markdown",
   "metadata": {},
   "source": [
    "Bloque 3:"
   ]
  },
  {
   "cell_type": "code",
   "execution_count": 49,
   "metadata": {
    "collapsed": false,
    "jupyter": {
     "outputs_hidden": false
    }
   },
   "outputs": [
    {
     "data": {
      "text/plain": [
       "5"
      ]
     },
     "execution_count": 49,
     "metadata": {},
     "output_type": "execute_result"
    }
   ],
   "source": [
    "a1 = 4\n",
    "b1 = 5\n",
    "c1 = Ecuacion(a1, b1)\n",
    "c1"
   ]
  },
  {
   "cell_type": "markdown",
   "metadata": {},
   "source": [
    "BLOQUE 4"
   ]
  },
  {
   "cell_type": "code",
   "execution_count": 50,
   "metadata": {
    "collapsed": false,
    "jupyter": {
     "outputs_hidden": false
    }
   },
   "outputs": [
    {
     "data": {
      "text/plain": [
       "0"
      ]
     },
     "execution_count": 50,
     "metadata": {},
     "output_type": "execute_result"
    }
   ],
   "source": [
    "a2 = 0\n",
    "b2 = 0\n",
    "c2 = Ecuacion(a2, b2)\n",
    "c2"
   ]
  },
  {
   "cell_type": "markdown",
   "metadata": {},
   "source": [
    "<h2 id=\"pre\">Funciones predefinidas</h2>"
   ]
  },
  {
   "cell_type": "markdown",
   "metadata": {},
   "source": [
    "Hay muchas funciones predefinidas en Python, así que comencemos con las simples."
   ]
  },
  {
   "cell_type": "markdown",
   "metadata": {},
   "source": [
    "La funcion <code>print()</code>:"
   ]
  },
  {
   "cell_type": "code",
   "execution_count": 1,
   "metadata": {},
   "outputs": [
    {
     "name": "stdout",
     "output_type": "stream",
     "text": [
      "[10.0, 8.5, 9.5, 7.0, 7.0, 9.5, 9.0, 9.5]\n"
     ]
    }
   ],
   "source": [
    "# Función incorporada print ()\n",
    "\n",
    "album_ratings = [10.0, 8.5, 9.5, 7.0, 7.0, 9.5, 9.0, 9.5] \n",
    "print(album_ratings)"
   ]
  },
  {
   "cell_type": "markdown",
   "metadata": {},
   "source": [
    "La función <code> sum () </code> agrega todos los elementos en una lista o tupla:"
   ]
  },
  {
   "cell_type": "code",
   "execution_count": 2,
   "metadata": {},
   "outputs": [
    {
     "data": {
      "text/plain": [
       "70.0"
      ]
     },
     "execution_count": 2,
     "metadata": {},
     "output_type": "execute_result"
    }
   ],
   "source": [
    "# Use sum () para agregar todos los elementos en una lista o tupla juntos\n",
    "\n",
    "sum(album_ratings)"
   ]
  },
  {
   "cell_type": "markdown",
   "metadata": {},
   "source": [
    "La función <code> len () </code> devuelve la longitud de una lista o tupla:"
   ]
  },
  {
   "cell_type": "code",
   "execution_count": 3,
   "metadata": {},
   "outputs": [
    {
     "data": {
      "text/plain": [
       "8"
      ]
     },
     "execution_count": 3,
     "metadata": {},
     "output_type": "execute_result"
    }
   ],
   "source": [
    "# Mostrmos la longuitud\n",
    "\n",
    "len(album_ratings)"
   ]
  },
  {
   "cell_type": "markdown",
   "metadata": {},
   "source": [
    "<h2 id=\"if\">Usando <code>if</code>/<code>else</code> Declaraciones y bucles en funciones</h2>"
   ]
  },
  {
   "cell_type": "markdown",
   "metadata": {},
   "source": [
    "La función <code> return () </code> es particularmente útil si tiene alguna instrucción IF en la función, cuando desea que su salida dependa de alguna condición:"
   ]
  },
  {
   "cell_type": "code",
   "execution_count": 9,
   "metadata": {
    "collapsed": false,
    "jupyter": {
     "outputs_hidden": false
    }
   },
   "outputs": [
    {
     "name": "stdout",
     "output_type": "stream",
     "text": [
      "Fernando Empresario 1999\n",
      "Moderno\n"
     ]
    }
   ],
   "source": [
    "#EJEMPLO\n",
    "\n",
    "def tipo_persona(nombre, ocupacion, año_muerte):\n",
    "    \n",
    "    print(nombre, ocupacion, año_muerte)\n",
    "    if año_muerte > 1980:\n",
    "        return \"Moderno\"\n",
    "    else:\n",
    "        return \"Viejo\"\n",
    "    \n",
    "x = tipo_persona(\"Fernando\", \"Empresario\", 1999)\n",
    "print(x)"
   ]
  },
  {
   "cell_type": "markdown",
   "metadata": {},
   "source": [
    "Podemos usar un bucle en una función. Por ejemplo, podemos <code> print </code> cada elemento en una lista:"
   ]
  },
  {
   "cell_type": "code",
   "execution_count": 10,
   "metadata": {},
   "outputs": [],
   "source": [
    "#Imprimimos cada elemento de la lista usando un loop\n",
    "\n",
    "def PrintList(the_list):\n",
    "    for element in the_list:\n",
    "        print(element)"
   ]
  },
  {
   "cell_type": "code",
   "execution_count": 13,
   "metadata": {
    "collapsed": false,
    "jupyter": {
     "outputs_hidden": false
    }
   },
   "outputs": [
    {
     "name": "stdout",
     "output_type": "stream",
     "text": [
      "21\n",
      "1999\n",
      "Fer\n",
      "China\n"
     ]
    }
   ],
   "source": [
    "# implementando nuestra funcion\n",
    "\n",
    "PrintList(['21', 1999, 'Fer', \"China\"])"
   ]
  },
  {
   "cell_type": "markdown",
   "metadata": {},
   "source": [
    "<hr>"
   ]
  },
  {
   "cell_type": "markdown",
   "metadata": {},
   "source": [
    "<h2 id=\"default\">Establecer valores de argumento predeterminados en sus funciones personalizadas</h2>"
   ]
  },
  {
   "cell_type": "markdown",
   "metadata": {},
   "source": [
    "Puede establecer un valor predeterminado para los argumentos en su función. Por ejemplo, en la función <code> isGoodRating () </code>, ¿qué sucede si quisiéramos crear un umbral para lo que consideramos una buena calificación? Quizás por defecto, deberíamos tener una calificación predeterminada de 4:\n"
   ]
  },
  {
   "cell_type": "code",
   "execution_count": 23,
   "metadata": {
    "collapsed": false,
    "jupyter": {
     "outputs_hidden": false
    }
   },
   "outputs": [],
   "source": [
    "\n",
    "def isGoodRating(rating=4): \n",
    "    if(rating < 5):\n",
    "        print(\"Este álbum apesta su calificación es:\",rating)\n",
    "    elif(rating == 8):\n",
    "        print(\"Este album es normal su calificacion es:\",rating)\n",
    "    else:\n",
    "        print(\"Este album es excelente su calificacion es: \",rating)\n"
   ]
  },
  {
   "cell_type": "code",
   "execution_count": 24,
   "metadata": {
    "collapsed": false,
    "jupyter": {
     "outputs_hidden": false
    }
   },
   "outputs": [
    {
     "name": "stdout",
     "output_type": "stream",
     "text": [
      "Este álbum apesta su calificación es: 4\n",
      "Este album es normal su calificacion es: 8\n",
      "Este album es excelente su calificacion es:  10\n"
     ]
    }
   ],
   "source": [
    "# Hacemos una prueba de nuestra funcion\n",
    "\n",
    "isGoodRating()\n",
    "isGoodRating(8)\n",
    "isGoodRating(10)"
   ]
  },
  {
   "cell_type": "markdown",
   "metadata": {},
   "source": [
    "<hr>"
   ]
  },
  {
   "cell_type": "markdown",
   "metadata": {},
   "source": [
    "<h2 id=\"global\">Variables Globales</h2>"
   ]
  },
  {
   "cell_type": "markdown",
   "metadata": {},
   "source": [
    "Hasta ahora, hemos estado creando variables dentro de las funciones, pero no hemos discutido las variables fuera de la función. Estas se llaman variables globales.\n",
    "<br>\n",
    "Intentemos ver qué devuelve <code> printer1 </code>:"
   ]
  },
  {
   "cell_type": "code",
   "execution_count": null,
   "metadata": {
    "collapsed": false,
    "jupyter": {
     "outputs_hidden": false
    }
   },
   "outputs": [],
   "source": [
    "# Example of global variable\n",
    "\n",
    "artista = \"Juan Gabriel\"\n",
    "def printer1(artista):\n",
    "    internal_var = artista\n",
    "    print(artista, \"Es un artista\")\n",
    "    \n",
    "printer1(artista)"
   ]
  },
  {
   "cell_type": "markdown",
   "metadata": {},
   "source": [
    "Si imprimimos <code> internal_var </code> obtenemos un error."
   ]
  },
  {
   "cell_type": "markdown",
   "metadata": {},
   "source": [
    "<b> Recibimos un error de nombre: <code> el nombre 'internal_var' no está definido </code>. ¿Por qué? </b>\n",
    "\n",
    "Es porque todas las variables que creamos en la función son una <b> variable local </b>, lo que significa que la asignación de la variable no persiste fuera de la función.\n",
    "\n",
    "Pero hay una manera de crear <b> variables globales </b> desde una función de la siguiente manera:"
   ]
  },
  {
   "cell_type": "code",
   "execution_count": 25,
   "metadata": {
    "collapsed": false,
    "jupyter": {
     "outputs_hidden": false
    }
   },
   "outputs": [
    {
     "name": "stdout",
     "output_type": "stream",
     "text": [
      "Luis Miguel es un artista\n",
      "Juan Gabriel es un artista\n"
     ]
    }
   ],
   "source": [
    "artista = \"Luis Miguel\"\n",
    "\n",
    "def printer(artista):\n",
    "    global internal_var \n",
    "    internal_var= \"Juan Gabriel\"\n",
    "    print(artista,\"es un artista\")\n",
    "\n",
    "printer(artista) \n",
    "printer(internal_var)"
   ]
  },
  {
   "cell_type": "markdown",
   "metadata": {},
   "source": [
    "<h2 id=\"scope\">Alcance de una variable</h2>"
   ]
  },
  {
   "cell_type": "markdown",
   "metadata": {},
   "source": [
    "El alcance de una variable es la parte de ese programa donde esa variable es accesible. Las variables que se declaran fuera de todas las definiciones de funciones, como la variable <code> myFavouriteBand </code> en el código que se muestra aquí, son accesibles desde cualquier lugar dentro del programa. Como resultado, se dice que tales variables tienen alcance global y se conocen como variables globales.\n",
    "     <code> myFavouriteBand </code> es una variable global, por lo que es accesible desde la función <code> getBandRating </code>, y podemos usarla para determinar la clasificación de una banda. También podemos usarlo fuera de la función, como cuando lo pasamos a la función de impresión para mostrarlo:"
   ]
  },
  {
   "cell_type": "code",
   "execution_count": 31,
   "metadata": {
    "collapsed": false,
    "jupyter": {
     "outputs_hidden": false
    }
   },
   "outputs": [
    {
     "name": "stdout",
     "output_type": "stream",
     "text": [
      "AC/DC's rating es: 10.0\n",
      "Deep Purple's rating es: 0.0\n",
      "My favourite band es: AC/DC\n"
     ]
    }
   ],
   "source": [
    "# Ejemplo de una variable global\n",
    "\n",
    "myFavouriteBand = \"AC/DC\"\n",
    "\n",
    "def getBandRating(bandname):\n",
    "    if bandname == myFavouriteBand:\n",
    "        return 10.0\n",
    "    else:\n",
    "        return 0.0\n",
    "\n",
    "print(\"AC/DC's rating es:\", getBandRating(\"AC/DC\"))\n",
    "print(\"Deep Purple's rating es:\",getBandRating(\"Deep Purple\"))\n",
    "print(\"My favourite band es:\", myFavouriteBand)"
   ]
  },
  {
   "cell_type": "markdown",
   "metadata": {},
   "source": [
    "Eche un vistazo a esta versión modificada de nuestro código. Ahora la variable <code> myFavouriteBand </code> está definida dentro de la función <code> getBandRating </code>. Se dice que una variable que se define dentro de una función es una variable local de esa función. Eso significa que solo es accesible desde dentro de la función en la que se define. Nuestra función <code> getBandRating </code> seguirá funcionando, porque <code> myFavouriteBand </code> todavía está definido dentro de la función. Sin embargo, ya no podemos imprimir <code> myFavouriteBand </code> fuera de nuestra función, porque es una variable local de nuestra función <code> getBandRating </code>; solo se define dentro de la función <code> getBandRating </code>:"
   ]
  },
  {
   "cell_type": "code",
   "execution_count": 28,
   "metadata": {
    "collapsed": false,
    "jupyter": {
     "outputs_hidden": false
    }
   },
   "outputs": [
    {
     "name": "stdout",
     "output_type": "stream",
     "text": [
      "AC/DC's rating is:  10.0\n",
      "Deep Purple's rating is:  0.0\n",
      "My favourite band is AC/DC\n"
     ]
    }
   ],
   "source": [
    "# Ejemplo de una variable local\n",
    "\n",
    "def getBandRating(bandname):\n",
    "    myFavouriteBand = \"AC/DC\"\n",
    "    if bandname == myFavouriteBand:\n",
    "        return 10.0\n",
    "    else:\n",
    "        return 0.0\n",
    "\n",
    "print(\"AC/DC's rating is: \", getBandRating(\"AC/DC\"))\n",
    "print(\"Deep Purple's rating is: \", getBandRating(\"Deep Purple\"))\n",
    "print(\"My favourite band is\", myFavouriteBand)"
   ]
  },
  {
   "cell_type": "markdown",
   "metadata": {},
   "source": [
    "Finalmente, eche un vistazo a este ejemplo. Ahora tenemos dos definiciones de variables <code> myFavouriteBand </code>. El primero de ellos tiene un alcance global, y el segundo es una variable local dentro de la función <code> getBandRating </code>. Dentro de la función <code> getBandRating </code>, la variable local tiene prioridad. ** Deep Purple ** recibirá una calificación de 10.0 cuando se pase a la función <code> getBandRating </code>. Sin embargo, fuera de la función <code> getBandRating </code>, la variable local <code> getBandRating </code> no está definida, por lo que la variable <code> myFavouriteBand </code> que imprimimos es la variable global, que tiene un valor de **AC / DC**:"
   ]
  },
  {
   "cell_type": "code",
   "execution_count": 30,
   "metadata": {
    "collapsed": false,
    "jupyter": {
     "outputs_hidden": false
    }
   },
   "outputs": [
    {
     "name": "stdout",
     "output_type": "stream",
     "text": [
      "AC/DC's rating is: 0.0\n",
      "Deep Purple's rating is:  10.0\n",
      "My favourite band is: AC/DC\n"
     ]
    }
   ],
   "source": [
    "# Ejemplo de variable global y variable local con el mismo nombre\n",
    "\n",
    "myFavouriteBand = \"AC/DC\"\n",
    "\n",
    "def getBandRating(bandname):\n",
    "    myFavouriteBand = \"Deep Purple\"\n",
    "    if bandname == myFavouriteBand:\n",
    "        return 10.0\n",
    "    else:\n",
    "        return 0.0\n",
    "\n",
    "print(\"AC/DC's rating is:\",getBandRating(\"AC/DC\"))\n",
    "print(\"Deep Purple's rating is: \",getBandRating(\"Deep Purple\"))\n",
    "print(\"My favourite band is:\",myFavouriteBand)"
   ]
  },
  {
   "cell_type": "code",
   "execution_count": null,
   "metadata": {},
   "outputs": [],
   "source": []
  }
 ],
 "metadata": {
  "kernelspec": {
   "display_name": "Python",
   "language": "python",
   "name": "conda-env-python-py"
  },
  "language_info": {
   "codemirror_mode": {
    "name": "ipython",
    "version": 3
   },
   "file_extension": ".py",
   "mimetype": "text/x-python",
   "name": "python",
   "nbconvert_exporter": "python",
   "pygments_lexer": "ipython3",
   "version": "3.6.10"
  }
 },
 "nbformat": 4,
 "nbformat_minor": 4
}
