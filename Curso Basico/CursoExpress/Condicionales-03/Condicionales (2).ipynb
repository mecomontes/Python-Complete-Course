{
  "cells": [
    {
      "metadata": {
        "id": "auG_G-bqmhnC",
        "colab_type": "text"
      },
      "cell_type": "markdown",
      "source": "<a href=\"https://github.com/Chilangdon20/PYTHON/blob/master/Curso%20Basico/CursoExpress/Imagenes/Chilangodn.png\">\n    <img src=\"https://raw.githubusercontent.com/Chilangdon20/PYTHON/master/Curso%20Basico/CursoExpress/Imagenes/Chilangodn.png\" width=\"200\" align=\"center\">\n</a>"
    },
    {
      "metadata": {
        "id": "qZln3GQbmhnG",
        "colab_type": "text"
      },
      "cell_type": "markdown",
      "source": "<h1>Condicionales en  Python</h1>"
    },
    {
      "metadata": {
        "id": "l5Zt3M1FmhnL",
        "colab_type": "text"
      },
      "cell_type": "markdown",
      "source": "<h2>Tabla de Contenidos</h2>\n<div class=\"alert alert-block alert-info\" style=\"margin-top: 20px\">\n    <ul>\n        <li>\n            <a href=\"#cond\">Declaracion de un condiciónal</a>\n            <ul>\n                <li><a href=\"comp\">Operadores de Comparacion</a></li>\n                <li><a href=\"branch\">Branching</a></li>\n                <li><a href=\"logic\">Operadores Logicos</a></li>\n            </ul>\n        </li>\n        <li>\n            <a href=\"#quiz\">Quiz Condicionales</a>\n        </li>\n   \n</div>\n\n<hr>"
    },
    {
      "metadata": {
        "id": "WnpXay8ImhnN",
        "colab_type": "text"
      },
      "cell_type": "markdown",
      "source": "<h2 id=\"cond\">Declaracion de un condicional</h2>"
    },
    {
      "metadata": {
        "id": "5qMrAcvpmhnO",
        "colab_type": "text"
      },
      "cell_type": "markdown",
      "source": "<h3 id=\"comp\">Operadores de Comparacion</h3>"
    },
    {
      "metadata": {
        "id": "uAyfjRkpmhnQ",
        "colab_type": "text"
      },
      "cell_type": "markdown",
      "source": "Las operaciones de comparación comparan algún valor u operando y, en función de una condición, producen un booleano. Al comparar dos valores, puede usar estos operadores:\n\n<ul>\n    <li>iguall: <b>==</b></li>\n    <li>distinto: <b>!=</b></li>\n    <li>mayor que: <b>></b></li>\n    <li>menor que: <b>&lt;</b></li>\n    <li>mayor o igual que: <b>>=</b></li>\n    <li>menor o igual que: <b>&lt;=</b></li>\n</ul>"
    },
    {
      "metadata": {
        "id": "NWn5uXOimhnR",
        "colab_type": "text"
      },
      "cell_type": "markdown",
      "source": "Asignemos a <code> a </code> un valor de 5. Utiliza el operador de igualdad denotado con dos signos <b> == </b> iguales para determinar si dos valores son iguales. El siguiente caso compara la variable <code> a </code> con 6."
    },
    {
      "metadata": {
        "id": "X1cobgEZmhnS",
        "colab_type": "code",
        "colab": {
          "base_uri": "https://localhost:8080/",
          "height": 34
        },
        "outputId": "b7b21e0a-97b4-444e-a112-a4d03eb590fa",
        "trusted": false
      },
      "cell_type": "code",
      "source": "# Condicion Igual\n\na = 5\na == 6",
      "execution_count": 1,
      "outputs": [
        {
          "output_type": "execute_result",
          "data": {
            "text/plain": "False"
          },
          "metadata": {
            "tags": []
          },
          "execution_count": 1
        }
      ]
    },
    {
      "metadata": {
        "id": "9BvpkqcPmhnf",
        "colab_type": "text"
      },
      "cell_type": "markdown",
      "source": "El resultado es falso ya que 5 no es igual que 6\n\n"
    },
    {
      "metadata": {
        "id": "6G9JbSk6mhng",
        "colab_type": "text"
      },
      "cell_type": "markdown",
      "source": "Considere el siguiente operador de comparación de igualdad <code> i> 5 </code>. Si el valor del operando izquierdo, en este caso la variable <b> i </b>, es mayor que el valor del operando derecho, en este caso 5, entonces la declaración es <b> Verdadero </b>. De lo contrario, la declaración es <b> False </b>. Si <b> i </b> es igual a 6, porque 6 es mayor que 5, la salida es <b> Verdadero </b>."
    },
    {
      "metadata": {
        "id": "TBeheb_Vmhnh",
        "colab_type": "code",
        "colab": {},
        "trusted": false
      },
      "cell_type": "code",
      "source": "# Mayor que\n\ni = 6\ni > 5",
      "execution_count": 0,
      "outputs": []
    },
    {
      "metadata": {
        "id": "recIL6q4mhno",
        "colab_type": "text"
      },
      "cell_type": "markdown",
      "source": "Set <code>i = 2</code>. The statement is false as 2 is not greater than 5:"
    },
    {
      "metadata": {
        "id": "WtZKgH_Vmhnq",
        "colab_type": "code",
        "colab": {
          "base_uri": "https://localhost:8080/",
          "height": 34
        },
        "outputId": "a850c426-d553-4c7b-d9cc-08c621bc7e29",
        "trusted": false
      },
      "cell_type": "code",
      "source": "# Mayor que\n\ni = 2\ni > 5",
      "execution_count": 2,
      "outputs": [
        {
          "output_type": "execute_result",
          "data": {
            "text/plain": "False"
          },
          "metadata": {
            "tags": []
          },
          "execution_count": 2
        }
      ]
    },
    {
      "metadata": {
        "id": "dc5t5xSCmhnw",
        "colab_type": "text"
      },
      "cell_type": "markdown",
      "source": "Muestremos algunos valores para <code> i </code> en la figura. Establezca los valores superiores a 5 en verde y el resto en rojo. La región verde representa donde la condición es ** Verdadero **, el rojo donde la declaración es ** Falso **. Si el valor de <code> i </code> es 2, obtenemos ** False ** ya que el 2 cae en la región roja. Del mismo modo, si el valor de <code> i </code> es 6 obtenemos un ** True ** a medida que la condición cae en la región verde."
    },
    {
      "metadata": {
        "id": "qETR6VY4mhnx",
        "colab_type": "text"
      },
      "cell_type": "markdown",
      "source": "<img src=\"https://s3-api.us-geo.objectstorage.softlayer.net/cf-courses-data/CognitiveClass/PY0101EN/Chapter%203/Images/CondsGreater.gif\" width=\"650\" />"
    },
    {
      "metadata": {
        "id": "P887mpZ0mhny",
        "colab_type": "text"
      },
      "cell_type": "markdown",
      "source": "La prueba de desigualdad utiliza un signo de exclamación que precede al signo igual, si dos operandos no son iguales, entonces la condición se convierte en **Verdadero**. Por ejemplo, la siguiente condición producirá ** Verdadero ** siempre que el valor de <code> i </code> no sea igual a 6:"
    },
    {
      "metadata": {
        "id": "7PhAbzvImhn0",
        "colab_type": "code",
        "colab": {
          "base_uri": "https://localhost:8080/",
          "height": 34
        },
        "outputId": "ce7c50ed-19b2-4eac-e45a-a8079beaa45c",
        "trusted": false
      },
      "cell_type": "code",
      "source": "# Distinto de\n\ni = 2\ni != 6",
      "execution_count": 3,
      "outputs": [
        {
          "output_type": "execute_result",
          "data": {
            "text/plain": "True"
          },
          "metadata": {
            "tags": []
          },
          "execution_count": 3
        }
      ]
    },
    {
      "metadata": {
        "id": "TqGbBZ96mhn9",
        "colab_type": "text"
      },
      "cell_type": "markdown",
      "source": "Cuando <code> i </code> es igual a 6, la expresión de desigualdad produce <b> False </b>."
    },
    {
      "metadata": {
        "id": "I36zLGMQmhoA",
        "colab_type": "code",
        "colab": {
          "base_uri": "https://localhost:8080/",
          "height": 34
        },
        "outputId": "949b077b-67c6-44e9-cc07-c0976417f974",
        "trusted": false
      },
      "cell_type": "code",
      "source": "# Distinto de\n\ni = 6\ni != 6",
      "execution_count": 4,
      "outputs": [
        {
          "output_type": "execute_result",
          "data": {
            "text/plain": "False"
          },
          "metadata": {
            "tags": []
          },
          "execution_count": 4
        }
      ]
    },
    {
      "metadata": {
        "id": "oIpWVUeRmhoG",
        "colab_type": "text"
      },
      "cell_type": "markdown",
      "source": "Ve la recta numérica a continuación. cuando la condición es **Verdadero**, los números correspondientes están marcados en verde y para donde la condición es **Falso**, el número correspondiente está marcado en rojo. Si establecemos <code> i </code> igual a 2, el operador es verdadero ya que 2 está en la región verde. Si establecemos <code> i </code> igual a 6, obtenemos un ** False ** a medida que la condición cae en la región roja."
    },
    {
      "metadata": {
        "id": "YKIpmx_SmhoH",
        "colab_type": "text"
      },
      "cell_type": "markdown",
      "source": "<img src=\"https://s3-api.us-geo.objectstorage.softlayer.net/cf-courses-data/CognitiveClass/PY0101EN/Chapter%203/Images/CondsIneq.gif\" width=\"650\" />"
    },
    {
      "metadata": {
        "id": "JRUqEuhJmhoI",
        "colab_type": "text"
      },
      "cell_type": "markdown",
      "source": "Tambien podemos aplicar estos operadores a strings:\n"
    },
    {
      "metadata": {
        "id": "9ZJ9NFnWmhoL",
        "colab_type": "code",
        "colab": {
          "base_uri": "https://localhost:8080/",
          "height": 34
        },
        "outputId": "52fb13fc-91eb-42be-c683-890a276d7cb3",
        "trusted": false
      },
      "cell_type": "code",
      "source": "# Usamos el signo de igualdad para comparar:\n\n\"Python\" == \"Data Science\"",
      "execution_count": 5,
      "outputs": [
        {
          "output_type": "execute_result",
          "data": {
            "text/plain": "False"
          },
          "metadata": {
            "tags": []
          },
          "execution_count": 5
        }
      ]
    },
    {
      "metadata": {
        "id": "vjAgRgHMmhoQ",
        "colab_type": "text"
      },
      "cell_type": "markdown",
      "source": "Si usamos el operador distinto de producira un False , ya que son strings diferentes:"
    },
    {
      "metadata": {
        "id": "YA40xhe_mhoR",
        "colab_type": "code",
        "colab": {
          "base_uri": "https://localhost:8080/",
          "height": 34
        },
        "outputId": "3c549ec1-11f5-4f65-8dab-f065d202a2d0",
        "trusted": false
      },
      "cell_type": "code",
      "source": "# Usaamos el signo distindo de para compara las strings\n\n\"Python\" != \"C++\"",
      "execution_count": 6,
      "outputs": [
        {
          "output_type": "execute_result",
          "data": {
            "text/plain": "True"
          },
          "metadata": {
            "tags": []
          },
          "execution_count": 6
        }
      ]
    },
    {
      "metadata": {
        "id": "Xmy1KcpNmhoY",
        "colab_type": "text"
      },
      "cell_type": "markdown",
      "source": "La operación de desigualdad también se utiliza para comparar las letras / palabras / símbolos de acuerdo con el valor ASCII de las letras. El valor decimal que se muestra en la siguiente tabla representa el orden del carácter:\n"
    },
    {
      "metadata": {
        "id": "GDEwpOpamhoc",
        "colab_type": "text"
      },
      "cell_type": "markdown",
      "source": "Por ejemplo, el código ASCII para <b>! </b> es 21, mientras que el código ASCII para <b> + </b> es 43. Por lo tanto, <b> + </b> es más grande que <b>. </b> como 43 es mayor que 21."
    },
    {
      "metadata": {
        "id": "Ap7QNU9emhod",
        "colab_type": "text"
      },
      "cell_type": "markdown",
      "source": "De manera similar, el valor para <b> A </b> es 101, y el valor para <b> B </b> es 102 por lo tanto:"
    },
    {
      "metadata": {
        "id": "wJs4KyvWmhoe",
        "colab_type": "code",
        "colab": {
          "base_uri": "https://localhost:8080/",
          "height": 34
        },
        "outputId": "aaf2d9b0-4e1f-4087-95b9-6bd1bc7e7cee",
        "trusted": false
      },
      "cell_type": "code",
      "source": "# Comparamos caracteres\n\n'P' > 'A'",
      "execution_count": 7,
      "outputs": [
        {
          "output_type": "execute_result",
          "data": {
            "text/plain": "True"
          },
          "metadata": {
            "tags": []
          },
          "execution_count": 7
        }
      ]
    },
    {
      "metadata": {
        "id": "nVlIhUp-mhol",
        "colab_type": "text"
      },
      "cell_type": "markdown",
      "source": "Cuando hay varias letras, la primera letra tiene prioridad al ordenar:"
    },
    {
      "metadata": {
        "id": "goj6Clp8mhon",
        "colab_type": "code",
        "colab": {
          "base_uri": "https://localhost:8080/",
          "height": 34
        },
        "outputId": "3a8d7ec7-8ee2-4db0-c62e-dcf49394240a",
        "trusted": false
      },
      "cell_type": "code",
      "source": "# Comparamos caracteres:\n\n'AB'>'BA'",
      "execution_count": 8,
      "outputs": [
        {
          "output_type": "execute_result",
          "data": {
            "text/plain": "False"
          },
          "metadata": {
            "tags": []
          },
          "execution_count": 8
        }
      ]
    },
    {
      "metadata": {
        "id": "bMldSFiUmhou",
        "colab_type": "text"
      },
      "cell_type": "markdown",
      "source": "<b> Nota </b>: las letras mayúsculas tienen un código ASCII diferente a las letras minúsculas, lo que significa que la comparación entre las letras en python distingue entre mayúsculas y minúsculas."
    },
    {
      "metadata": {
        "id": "eLEkei5omhov",
        "colab_type": "text"
      },
      "cell_type": "markdown",
      "source": "<h3 id=\"branch\">Branching</h3>"
    },
    {
      "metadata": {
        "id": "VYr4eTNAmhow",
        "colab_type": "text"
      },
      "cell_type": "markdown",
      "source": " Branching nos permite ejecutar diferentes declaraciones para diferentes entradas. Es útil pensar en una declaración **if** como una habitación cerrada, si la declaración es **True** podemos ingresar a la sala y su programa ejecutará algunas tareas predefinidas, pero si la declaración es **False** el programa ignorará la tarea.\n"
    },
    {
      "metadata": {
        "id": "2JFFz6C5mhox",
        "colab_type": "text"
      },
      "cell_type": "markdown",
      "source": "Por ejemplo, considera el rectángulo azul que representa un concierto de ACDC. Si el individuo es mayor de 18 años, puede ingresar al concierto de ACDC. Si tienen 18 años o menos de 18 años, no pueden ingresar al concierto.\n\nUsa las declaraciones de condición aprendidas antes ya que las condiciones deben verificarse en la declaración **if**. La sintaxis es tan simple como <code> if <i> instrucción de condición </i>: </code>, que contiene una palabra <code> if </code>, cualquier instrucción de condición y dos puntos al final. Comience sus tareas que deben ejecutarse bajo esta condición en una nueva línea con una sangría. Las líneas de código después de los dos puntos y con una sangría solo se ejecutarán cuando la declaración **if** es **True**. Las tareas finalizarán cuando la línea de código no contenga la sangría.\n\nEn el siguiente caso, las tareas ejecutadas <code> print (\"puede ingresar\") </code> solo se producen si la variable <code> edad </code> es mayor que 18 es un caso verdadero porque esta línea de código tiene el guion Sin embargo, la ejecución de <code> print (\"seguir adelante\") </code> no se verá influenciada por la declaración if."
    },
    {
      "metadata": {
        "id": "xtWEBxQzmhoz",
        "colab_type": "code",
        "colab": {
          "base_uri": "https://localhost:8080/",
          "height": 34
        },
        "outputId": "411e76e7-e782-498b-bde8-66f3bb9aca89",
        "trusted": false
      },
      "cell_type": "code",
      "source": "# If ejemplo\n\nedad = 19\n#edad = 18\n\n#expresión que puede ser verdadera o falsa\nif edad > 18:\n    \n# dentro de una sangría, tenemos la expresión que se ejecuta si la condición es verdadera\n    print(\"Puedes entrar al concierto\" )\n# Las declaraciones después de la declaración if se ejecutarán independientemente de si la condición es verdadera o falsa\nprint(\"siga adelante\")",
      "execution_count": 10,
      "outputs": [
        {
          "output_type": "stream",
          "text": "siga adelante\n",
          "name": "stdout"
        }
      ]
    },
    {
      "metadata": {
        "id": "GRtYu__Kmho5",
        "colab_type": "text"
      },
      "cell_type": "markdown",
      "source": "<i> Intenta descomentar la variable de edad </i>"
    },
    {
      "metadata": {
        "id": "t5mN5Gnkmho8",
        "colab_type": "text"
      },
      "cell_type": "markdown",
      "source": "Es útil usar el siguiente diagrama para ilustrar el proceso. En el lado izquierdo, vemos qué sucede cuando la condición es <b> Verdadero </b>. La persona ingresa al concierto de ACDC que representa el código en el guión que se está ejecutando; luego siguen adelante. En el lado derecho, vemos lo que sucede cuando la condición es <b> False </b>; la persona no tiene acceso y la persona sigue adelante. En este caso, el segmento de código en la sangría no se ejecuta, pero el resto de las declaraciones se ejecutan."
    },
    {
      "metadata": {
        "id": "-LiR3aO-mho_",
        "colab_type": "text"
      },
      "cell_type": "markdown",
      "source": "<img src=\"https://s3-api.us-geo.objectstorage.softlayer.net/cf-courses-data/CognitiveClass/PY0101EN/Chapter%203/Images/CondsIf.gif\" width=\"650\" />"
    },
    {
      "metadata": {
        "id": "i7y_CeeRmhpB",
        "colab_type": "text"
      },
      "cell_type": "markdown",
      "source": "La instrucción <code> else </code> ejecuta un bloque de código si ninguna de las condiciones es **True** antes de esta declaración <code> else </code>. Usemos la analogía del concierto ACDC nuevamente. Si el usuario tiene 17 años, no puede ir al concierto de ACDC, pero puede ir al concierto de Meatloaf.\nLa sintaxis de la instrucción <code> else </code> es similar a la sintaxis de la instrucción <code> if </code>, como <code> else: </code>. Tenga en cuenta que no hay una declaración de condición para <code> else </code>.\nIntente cambiar los valores de <code> age </code> para ver qué sucede:"
    },
    {
      "metadata": {
        "id": "ZUOMYuozmhpC",
        "colab_type": "code",
        "colab": {
          "base_uri": "https://localhost:8080/",
          "height": 52
        },
        "outputId": "edd5b43f-744f-457d-f2f2-8456e79db746",
        "trusted": false
      },
      "cell_type": "code",
      "source": "# Ejemplo de la declaración elf\n\nedad = 18\n# age = 19\n\nif edad > 18:\n    print(\"Puedes entrar\" )\nelse:\n    print(\"Ve a meatloaf\" )\n    \nprint(\"date prisa\")",
      "execution_count": 12,
      "outputs": [
        {
          "output_type": "stream",
          "text": "Ve a meatloaf\ndate prisa\n",
          "name": "stdout"
        }
      ]
    },
    {
      "metadata": {
        "id": "R0eoCrfomhpK",
        "colab_type": "text"
      },
      "cell_type": "markdown",
      "source": "El proceso se muestra a continuación, donde cada una de las posibilidades se ilustra a cada lado de la imagen. A la izquierda está el caso donde la edad es de 17 años, establecemos la edad variable en 17, y esto corresponde a la persona que asiste al concierto de Meatloaf. La parte derecha muestra lo que sucede cuando el individuo tiene más de 18 años, en este caso 19, y el individuo tiene acceso al concierto."
    },
    {
      "metadata": {
        "id": "44CyNHN0mhpO",
        "colab_type": "text"
      },
      "cell_type": "markdown",
      "source": "<img src=\"https://s3-api.us-geo.objectstorage.softlayer.net/cf-courses-data/CognitiveClass/PY0101EN/Chapter%203/Images/CondsElse.gif\" width=\"650\" />"
    },
    {
      "metadata": {
        "id": "2YXDBEA_mhpP",
        "colab_type": "text"
      },
      "cell_type": "markdown",
      "source": "La instrucción <code> elif </code>, abreviatura de else if, nos permite verificar condiciones adicionales si las declaraciones de condición anteriores son <b> False </b>. Si la condición para la instrucción <code> elif </code> es <b> True </b>, se ejecutarán las expresiones alternativas. Considere el ejemplo del concierto, donde si el individuo tiene 18 años irá al concierto de Pink Floyd en lugar de asistir al ACDC o al concierto de Meat-loaf. La persona de 18 años ingresa al área, y como no son mayores de 18 años no pueden ver ACDC, pero como tienen 18 años de edad, asisten a Pink Floyd. Después de ver a Pink Floyd, continúan. La sintaxis de la instrucción <code> elif </code> es similar, ya que simplemente cambiamos la instrucción <code> if </code> en <code> if </code> a <code> elif </code>."
    },
    {
      "metadata": {
        "id": "b7_jWMC1mhpR",
        "colab_type": "code",
        "colab": {
          "base_uri": "https://localhost:8080/",
          "height": 52
        },
        "outputId": "a0f061ab-25cc-40f2-ad46-db24aae544ab",
        "trusted": false
      },
      "cell_type": "code",
      "source": "# Elif ejemplo\n\nedad = 18\n\nif edad > 18:\n    print(\"puedes entrar\" )\nelif edad == 18:\n    print(\"ve a ver a Pink Floyd\")\nelse:\n    print(\"ve a ver a Meat Loaf\" )\n    \nprint(\"adelante\")",
      "execution_count": 14,
      "outputs": [
        {
          "output_type": "stream",
          "text": "ve a ver a Pink Floyd\nadelante\n",
          "name": "stdout"
        }
      ]
    },
    {
      "metadata": {
        "id": "ZbCNnH4HmhpW",
        "colab_type": "text"
      },
      "cell_type": "markdown",
      "source": "Las tres combinaciones se muestran en la figura a continuación. La región más a la izquierda muestra lo que sucede cuando el individuo tiene menos de 18 años. El componente central muestra cuándo el individuo tiene exactamente 18 años. El más a la derecha muestra cuándo el individuo tiene más de 18 años."
    },
    {
      "metadata": {
        "id": "qMODay-1mhpX",
        "colab_type": "text"
      },
      "cell_type": "markdown",
      "source": "<img src =\"https://s3-api.us-geo.objectstorage.softlayer.net/cf-courses-data/CognitiveClass/PY0101EN/Chapter%203/Images/CondsElif.gif\" width=\"650\" />"
    },
    {
      "metadata": {
        "id": "suEPoZxfmhpY",
        "colab_type": "text"
      },
      "cell_type": "markdown",
      "source": "Mira el siguiente codigo:\n"
    },
    {
      "metadata": {
        "id": "YpwPXX4Qmhpb",
        "colab_type": "code",
        "colab": {
          "base_uri": "https://localhost:8080/",
          "height": 34
        },
        "outputId": "8597a225-e3c4-48da-c510-7f61774283b0",
        "trusted": false
      },
      "cell_type": "code",
      "source": "#  Ejemplo\n\nalbum_año = 1983\nalbum_año = 1970\n\nif album_año > 1980:\n    print(\"El año del álbum es mayor que 198\")\n    \nprint('Otra cosa..')",
      "execution_count": 16,
      "outputs": [
        {
          "output_type": "stream",
          "text": "Otra cosa..\n",
          "name": "stdout"
        }
      ]
    },
    {
      "metadata": {
        "id": "TnLs6-gkmhpx",
        "colab_type": "text"
      },
      "cell_type": "markdown",
      "source": "<h3 id=\"logic\">Operadoes Logicos</h3>"
    },
    {
      "metadata": {
        "id": "VyKRP0GSmhpy",
        "colab_type": "text"
      },
      "cell_type": "markdown",
      "source": "A veces deseas verificar más de una condición a la vez. Por ejemplo, es posible que desee verificar si una condición y otra condición es **Verdadero**. Los operadores lógicos le permiten combinar o modificar condiciones.\n<ul>\n     <li><code>and</code> </li>\n     <li><code>or</code> </li>\n     <li><code>not</code> </li>\n</ul>\n\nEstos operadores se resumen para dos variables utilizando las siguientes tablas de verdad:"
    },
    {
      "metadata": {
        "id": "JiHowhIrmhpz",
        "colab_type": "text"
      },
      "cell_type": "markdown",
      "source": "<img src=\"https://s3-api.us-geo.objectstorage.softlayer.net/cf-courses-data/CognitiveClass/PY0101EN/Chapter%203/Images/CondsTable.png\" width=\"650\" />"
    },
    {
      "metadata": {
        "id": "qJ2eHJV7mhp0",
        "colab_type": "text"
      },
      "cell_type": "markdown",
      "source": "La instrucción <code>and</code> es solo **True** cuando ambas condiciones son verdaderas. La instrucción <code> OR </code> es verdadera si una condición es **True**. La instrucción <code> not </code> genera el valor de verdad opuesto."
    },
    {
      "metadata": {
        "id": "WOLT3z0pmhp1",
        "colab_type": "text"
      },
      "cell_type": "markdown",
      "source": "Veamos cómo determinar si un álbum fue lanzado después de 1979 (1979 no está incluido) y antes de 1990 (1990 no está incluido). Los períodos de tiempo entre 1980 y 1989 satisfacen esta condición. Esto se demuestra en la figura a continuación. El verde en las líneas <strong> a </strong> y <strong> b </strong> representa períodos en los que la declaración es ** Verdadero **. El verde en la línea <strong> c </strong> representa dónde están ambas condiciones **Verdadero**, esto corresponde a dónde se superponen las regiones verdes.\n"
    },
    {
      "metadata": {
        "id": "a54UnRt7mhp3",
        "colab_type": "text"
      },
      "cell_type": "markdown",
      "source": "<img src=\"https://s3-api.us-geo.objectstorage.softlayer.net/cf-courses-data/CognitiveClass/PY0101EN/Chapter%203/Images/CondsEgOne.png\" width=\"650\" />"
    },
    {
      "metadata": {
        "id": "N_jPzTnumhtE",
        "colab_type": "text"
      },
      "cell_type": "markdown",
      "source": "El bloque de código para realizar esta verificación viene dado por:"
    },
    {
      "metadata": {
        "id": "QYj49JEOmhtF",
        "colab_type": "code",
        "colab": {
          "base_uri": "https://localhost:8080/",
          "height": 70
        },
        "outputId": "07c2cf31-678f-4909-c768-a6bedf2e5077",
        "trusted": false
      },
      "cell_type": "code",
      "source": "# Condition statement example\n\nalbum_año = 1980\n\nif(album_año > 1979) and (album_año < 1990):\n    print (\"El año del álbum fue entre 1980 y 1989\")\n    \nprint(\"\")\nprint(\"...\")",
      "execution_count": 17,
      "outputs": [
        {
          "output_type": "stream",
          "text": "El año del álbum fue entre 1980 y 1989\n\n...\n",
          "name": "stdout"
        }
      ]
    },
    {
      "metadata": {
        "id": "xCoCN7bbmhtN",
        "colab_type": "text"
      },
      "cell_type": "markdown",
      "source": "Para determinar si un álbum fue lanzado antes de 1980 (~ - 1979) o después de 1989 (1990 - ~), se puede usar una declaración ** o **. Los períodos anteriores a 1980 (~ - 1979) o posteriores a 1989 (1990 - ~) satisfacen esta condición. Esto se demuestra en la siguiente figura, el color verde en <strong> a </strong> y <strong> b </strong> representa períodos en los que la afirmación es verdadera. El color verde en ** c ** representa donde al menos una de las condiciones\nson verdaderas."
    },
    {
      "metadata": {
        "id": "xOb4bm57mhtP",
        "colab_type": "text"
      },
      "cell_type": "markdown",
      "source": "The block of code to perform this check is given by:"
    },
    {
      "metadata": {
        "id": "vV4xMBuAmhtP",
        "colab_type": "code",
        "colab": {
          "base_uri": "https://localhost:8080/",
          "height": 34
        },
        "outputId": "282d6cd9-e067-490f-b963-b9426ee9262d",
        "trusted": false
      },
      "cell_type": "code",
      "source": "# Condition statement example\n\nalbum_year = 1990\n\nif(album_year < 1980) or (album_year > 1989):\n    print (\"El album no fe hecho en  1980's\")\nelse:\n    print(\"El album fue hecho en 1980's \")",
      "execution_count": 18,
      "outputs": [
        {
          "output_type": "stream",
          "text": "El album no fe hecho en  1980's\n",
          "name": "stdout"
        }
      ]
    },
    {
      "metadata": {
        "id": "TlRPFk7RmhtT",
        "colab_type": "text"
      },
      "cell_type": "markdown",
      "source": "La instrucción <code> not </code> verifica si la declaración es falsa:"
    },
    {
      "metadata": {
        "id": "DBrR8jb5mhtU",
        "colab_type": "code",
        "colab": {
          "base_uri": "https://localhost:8080/",
          "height": 34
        },
        "outputId": "ef0da434-692d-4fd3-c948-69a847e08adc",
        "trusted": false
      },
      "cell_type": "code",
      "source": "\nalbum_year = 1983\n\nif not (album_year == '1984'):\n    print (\"El album no fue hecho en el año 1984\")",
      "execution_count": 19,
      "outputs": [
        {
          "output_type": "stream",
          "text": "El album no fue hecho en el año 1984\n",
          "name": "stdout"
        }
      ]
    }
  ],
  "metadata": {
    "kernelspec": {
      "name": "python3",
      "display_name": "Python 3",
      "language": "python"
    },
    "language_info": {
      "mimetype": "text/x-python",
      "nbconvert_exporter": "python",
      "name": "python",
      "file_extension": ".py",
      "version": "3.5.4",
      "pygments_lexer": "ipython3",
      "codemirror_mode": {
        "version": 3,
        "name": "ipython"
      }
    },
    "colab": {
      "name": "Condicionales.ipynb",
      "provenance": [],
      "collapsed_sections": []
    }
  },
  "nbformat": 4,
  "nbformat_minor": 1
}