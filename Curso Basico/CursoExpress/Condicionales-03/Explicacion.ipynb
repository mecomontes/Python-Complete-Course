{
 "cells": [
  {
   "cell_type": "markdown",
   "metadata": {},
   "source": [
    "# Explicación de funciones con ejemplos\n",
    "\n",
    "\n",
    "### Problema 1.\n",
    "\n",
    "Crear una función que dados 2 valores calcule su IMC Indice de masa corporal, es importante que veas que en el ejercicio te especifican que esos valores ya te los dieron , sin embargo aquí te enseñare como pedirselos al usuario desde terminal.\n",
    "\n",
    "\n",
    "\\begin{equation}\n",
    " IMC = \\frac{masa}{estatura^2} \n",
    "\\end{equation}\n",
    "\n",
    "donde masa = kilos y estatura = metros"
   ]
  },
  {
   "cell_type": "code",
   "execution_count": 8,
   "metadata": {},
   "outputs": [
    {
     "name": "stdin",
     "output_type": "stream",
     "text": [
      "Ingresa tu peso en kilos:  52.6\n",
      "Ingresa tu estatura en metros:  1.65\n"
     ]
    },
    {
     "name": "stdout",
     "output_type": "stream",
     "text": [
      "Tu IMC es:  19.320477502295688\n"
     ]
    }
   ],
   "source": [
    "# De esta libreria usaremos pow el cual tiene 2 argumentos principales (n,exponente)\n",
    "import math\n",
    "\n",
    "# creamos funcion\n",
    "\n",
    "def IMC(peso,estatura):\n",
    "    \"\"\"\n",
    "    Funcion que retorna el imc \n",
    "    \n",
    "    Parametros:\n",
    "    \n",
    "    float estatura\n",
    "    float peso\n",
    "    \n",
    "    Retorna:\n",
    "    \n",
    "    float IMC\n",
    "    \"\"\"\n",
    "    return  peso / math.pow(estatura,2)\n",
    "    \n",
    "\n",
    "# pedir datos al usuario\n",
    "\n",
    "peso = float(input(\"Ingresa tu peso en kilos: \"))\n",
    "estatura = float(input(\"Ingresa tu estatura en metros: \"))\n",
    "\n",
    "# creamos una variable con la funcion evaluada\n",
    "\n",
    "resultado = IMC(peso,estatura)\n",
    "\n",
    "print(\"Tu IMC es: \", resultado)"
   ]
  },
  {
   "cell_type": "markdown",
   "metadata": {},
   "source": [
    "### Problema 2\n",
    "\n",
    "Calcular la velocidad , dado el tiempo y la distancia"
   ]
  },
  {
   "cell_type": "code",
   "execution_count": 11,
   "metadata": {},
   "outputs": [
    {
     "name": "stdin",
     "output_type": "stream",
     "text": [
      "Ingresa la distancia en km:  32\n",
      "Ingresa el tiempo en hrs :  43\n"
     ]
    },
    {
     "name": "stdout",
     "output_type": "stream",
     "text": [
      "La velocidad es:  0.7441860465116279 km/hr\n"
     ]
    }
   ],
   "source": [
    "def CalcVelocidad(distancia,tiempo):\n",
    "    \"\"\"\n",
    "    funcion que calcula la velocidad.\n",
    "    \n",
    "    Args:\n",
    "    \n",
    "    float distancia \n",
    "    float tiempo\n",
    "    \n",
    "    Retorna:\n",
    "    \n",
    "    float distancia \n",
    "    \"\"\"\n",
    "    return distancia / tiempo\n",
    "\n",
    "# pedir datos al usuario\n",
    "\n",
    "distancia = float(input(\"Ingresa la distancia en km: \"))\n",
    "tiempo = float(input(\"Ingresa el tiempo en hrs : \"))\n",
    "\n",
    "# creamos una variable con la funcion evaluada\n",
    "\n",
    "resultado = CalcVelocidad(distancia,tiempo)\n",
    "\n",
    "print(\"La velocidad es: \", resultado,\"km/hr\")"
   ]
  },
  {
   "cell_type": "code",
   "execution_count": null,
   "metadata": {},
   "outputs": [],
   "source": []
  }
 ],
 "metadata": {
  "kernelspec": {
   "display_name": "Python",
   "language": "python",
   "name": "conda-env-python-py"
  },
  "language_info": {
   "codemirror_mode": {
    "name": "ipython",
    "version": 3
   },
   "file_extension": ".py",
   "mimetype": "text/x-python",
   "name": "python",
   "nbconvert_exporter": "python",
   "pygments_lexer": "ipython3",
   "version": "3.6.11"
  }
 },
 "nbformat": 4,
 "nbformat_minor": 4
}
