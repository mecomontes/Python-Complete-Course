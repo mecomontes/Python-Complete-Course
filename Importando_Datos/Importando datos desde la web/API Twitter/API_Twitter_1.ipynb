{
  "nbformat": 4,
  "nbformat_minor": 0,
  "metadata": {
    "colab": {
      "name": "API_Twitter_1.ipynb",
      "provenance": [],
      "collapsed_sections": []
    },
    "kernelspec": {
      "name": "python3",
      "display_name": "Python 3"
    }
  },
  "cells": [
    {
      "cell_type": "markdown",
      "metadata": {
        "id": "E1Ly3-jFHF1w",
        "colab_type": "text"
      },
      "source": [
        "# Autenticacion de  twiter API.\n",
        "\n",
        "EN esta seccion ,veremos como transmitir datos desde la API de Twitter, aprenderemos como filtrar los tweets entrantes por palabra clave,aprenderemos sobre los principios de autenticacion de API y OAuth, tambien aprenderemos los conceptos basicos de el aquete tweepy, que muchas personas usan Pythonand para interactura con la API de twitter.\n",
        "\n",
        "## DIFERENCIAS:\n",
        "\n",
        "Una de las primeras diferencia importantes entre la API de Twitter y todas las APIS que hemos visto , es que pudmos acceder a todas las demas de forma anonima & Twitter requiere que tengamos una cuenta.\n",
        "\n",
        "Para obtener acceso a la API de Twitter , es necesario crear un cuenta de twitter developer la que tarda un par de dias en autorizarse, una vez que tengamos la cuenta tenemos que importar la libreria tweepy y copias y pegar nuestro token de acceso, nuestro token secreto, nuestra clave de consumidor.\n",
        "\n",
        "El paquete tweepy es excelente para manejar todos los detalles de autenticación OAuth de la API de Twitter por nsotros. Todo lo que necesitamos hacer es pasarle nuetras credenciales de autenticación. En este ejemplo, hemos creado algunas credenciales de autenticación simuladas "
      ]
    },
    {
      "cell_type": "code",
      "metadata": {
        "id": "UVnUSkFtHBFy",
        "colab_type": "code",
        "colab": {}
      },
      "source": [
        "# Import package\n",
        "import tweepy\n",
        "\n",
        "# Store OAuth authentication credentials in relevant variables\n",
        "access_token = \"1092294848-aHN7DcRP9B4VMTQIhwqOYiB14YkW92fFO8k8EPy\"\n",
        "access_token_secret = \"X4dHmhPfaksHcQ7SCbmZa2oYBBVSD2g8uIHXsp5CTaksx\"\n",
        "consumer_key = \"nZ6EA0FxZ293SxGNg8g8aP0HM\"\n",
        "consumer_secret = \"fJGEodwe3KiKUnsYJC3VRndj7jevVvXbK2D5EiJ2nehafRgA6i\"\n",
        "\n",
        "# Pass OAuth details to tweepy's OAuth handler\n",
        "auth = tweepy.OAuthHandler(consumer_key, consumer_secret)"
      ],
      "execution_count": 1,
      "outputs": []
    },
    {
      "cell_type": "markdown",
      "metadata": {
        "id": "zqyUWHSkLMYG",
        "colab_type": "text"
      },
      "source": [
        "Transmisión de tweets \n",
        "\n",
        "Ahora que ha configurado sus credenciales de autenticación, ¡es hora de transmitir algunos tweets! Ya hemos definido la clase de escucha de flujo de tweets, MyStreamListener.\n",
        "\n",
        "Podemos encontrar el código para la clase de escucha de transmisión de tweets aquí. "
      ]
    },
    {
      "cell_type": "code",
      "metadata": {
        "id": "4CgtwzUhKgYe",
        "colab_type": "code",
        "colab": {}
      },
      "source": [
        "# Initialize Stream listener\n",
        "l = MyStreamListener()\n",
        "\n",
        "# Create your Stream object with authentication\n",
        "stream = tweepy.Stream(auth, l)\n",
        "\n",
        "# Filter Twitter Streams to capture data by the keywords:\n",
        "stream.filter(track=['clinton', 'trump', 'sanders', 'cruz'])"
      ],
      "execution_count": null,
      "outputs": []
    },
    {
      "cell_type": "markdown",
      "metadata": {
        "id": "FexSNuy7LpmZ",
        "colab_type": "text"
      },
      "source": [
        "Carguemos y exploremos nuestros datos de Twitter Ahora que tenmos sus datos de Twitter ubicados localmente en un archivo de texto, ¡es hora de explorarlos! "
      ]
    },
    {
      "cell_type": "code",
      "metadata": {
        "id": "YJ5snDIdLEjr",
        "colab_type": "code",
        "colab": {}
      },
      "source": [
        "# Import package\n",
        "import json\n",
        "\n",
        "# String of path to file: tweets_data_path\n",
        "tweets_data_path = 'tweets.txt'\n",
        "\n",
        "# Initialize empty list to store tweets: tweets_data\n",
        "tweets_data = []\n",
        "\n",
        "# Open connection to file\n",
        "tweets_file = open(tweets_data_path, \"r\")\n",
        "\n",
        "# Read in tweets and store in list: tweets_data\n",
        "for line in tweets_file:\n",
        "    tweet = json.loads(line)\n",
        "    tweets_data.append(tweet)\n",
        "\n",
        "# Close connection to file\n",
        "tweets_file.close()\n",
        "\n",
        "# Print the keys of the first tweet dict\n",
        "print(tweets_data[0].keys())\n"
      ],
      "execution_count": null,
      "outputs": []
    },
    {
      "cell_type": "markdown",
      "metadata": {
        "id": "OZsoC3jMMDQ7",
        "colab_type": "text"
      },
      "source": [
        "Twitter data to DataFrame\n",
        "Now you have the Twitter data in a list of dictionaries, tweets_data, where each dictionary corresponds to a single tweet. Next, you're going to extract the text and language of each tweet. The text in a tweet, t1, is stored as the value t1['text']; similarly, the language is stored in t1['lang']. Your task is to build a DataFrame in which each row is a tweet and the columns are 'text' and 'lang'.\n",
        "\n"
      ]
    },
    {
      "cell_type": "code",
      "metadata": {
        "id": "aVSsJzUUMEbd",
        "colab_type": "code",
        "colab": {}
      },
      "source": [
        "# Import package\n",
        "import pandas as pd\n",
        "\n",
        "# Build DataFrame of tweet texts and languages\n",
        "df = pd.DataFrame(tweets_data, columns=['text', 'lang'])\n",
        "\n",
        "# Print head of DataFrame\n",
        "print(df.head())\n"
      ],
      "execution_count": null,
      "outputs": []
    },
    {
      "cell_type": "markdown",
      "metadata": {
        "id": "jHT342AgMOVH",
        "colab_type": "text"
      },
      "source": [
        "A little bit of Twitter text analysis\n",
        "Now that you have your DataFrame of tweets set up, you're going to do a bit of text analysis to count how many tweets contain the words 'clinton', 'trump', 'sanders' and 'cruz'. In the pre-exercise code, we have defined the following function word_in_text(), which will tell you whether the first argument (a word) occurs within the 2nd argument (a tweet\n",
        "\n"
      ]
    },
    {
      "cell_type": "code",
      "metadata": {
        "id": "QCyOcWioMTeY",
        "colab_type": "code",
        "colab": {}
      },
      "source": [
        "# Initialize list to store tweet counts\n",
        "[clinton, trump, sanders, cruz] = [0, 0, 0, 0]\n",
        "\n",
        "# Iterate through df, counting the number of tweets in which\n",
        "# each candidate is mentioned\n",
        "for index, row in df.iterrows():\n",
        "    clinton += word_in_text('clinton', row['text'])\n",
        "    trump += word_in_text('trump', row['text'])\n",
        "    sanders += word_in_text('sanders', row['text'])\n",
        "    cruz += word_in_text('cruz', row['text'])\n"
      ],
      "execution_count": null,
      "outputs": []
    },
    {
      "cell_type": "markdown",
      "metadata": {
        "id": "-SElWgdeMczD",
        "colab_type": "text"
      },
      "source": [
        "Plotting your Twitter data\n",
        "Now that you have the number of tweets that each candidate was mentioned in, you can plot a bar chart of this data. You'll use the statistical data visualization library seaborn, which you may not have seen before, but we'll guide you through. You'll first import seaborn as sns. You'll then construct a barplot of the data using sns.barplot, passing it two arguments:\n",
        "\n",
        "a list of labels and\n",
        "a list containing the variables you wish to plot (clinton, trump and so on.)\n",
        "Hopefully, you'll see that Trump was unreasonably represented! We have already run the previous exercise solutions in your environment.\n",
        "\n"
      ]
    },
    {
      "cell_type": "code",
      "metadata": {
        "id": "n5W8ZZRUMdoL",
        "colab_type": "code",
        "colab": {}
      },
      "source": [
        "# Import packages\n",
        "import matplotlib.pyplot as plt\n",
        "import seaborn as sns\n",
        "\n",
        "# Set seaborn style\n",
        "sns.set(color_codes=True)\n",
        "\n",
        "# Create a list of labels:cd\n",
        "cd = ['clinton', 'trump', 'sanders', 'cruz']\n",
        "\n",
        "# Plot the bar chart\n",
        "ax = sns.barplot(cd, [clinton, trump, sanders, cruz])\n",
        "ax.set(ylabel=\"count\")\n",
        "plt.show()"
      ],
      "execution_count": null,
      "outputs": []
    }
  ]
}