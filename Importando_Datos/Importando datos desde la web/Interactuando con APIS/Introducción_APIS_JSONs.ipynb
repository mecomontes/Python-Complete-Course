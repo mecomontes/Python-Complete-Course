{
  "nbformat": 4,
  "nbformat_minor": 0,
  "metadata": {
    "colab": {
      "name": "Introducción_APIS_JSONs.ipynb",
      "provenance": [],
      "collapsed_sections": []
    },
    "kernelspec": {
      "name": "python3",
      "display_name": "Python 3"
    }
  },
  "cells": [
    {
      "cell_type": "markdown",
      "metadata": {
        "id": "Aoy6oeKRoZM5",
        "colab_type": "text"
      },
      "source": [
        "# Introducción a las APIS y JSONs\n",
        "\n",
        "En esta sección, exploraremos la extracción de datos de la web aún mjoer aprender a interactuar con API o interfaces de programación de aplicaciones.\n",
        "\n",
        "## ¿Qué demonios es una API?\n",
        "\n",
        "Podriamos ver a una API , como un conjunto de protocolos y rutinas para construir e interacturar con aplicaciones de software, en particular aprenderemos a usar la API de Open Movie DataBse y mas adelante la API de twiter para extraer datos de ambas aplicaciones, mientras que aprendemos obviamente las mejores prácticas de interacción API.\n",
        "\n",
        "Un formulario estándar para transferir datos através de las API es el formato de archivo JSON , por lo que en este video , enfocaremos nuestra atención directamente en estos.\n",
        "\n",
        "Luego pasaremos a obtener datos de las API, okey todo esto suena increible y fabuloso pero\n",
        "\n",
        "## ¿Que es JSON?\n",
        "\n",
        "JSON es un acrónimo que es la abreviatura de ***JavaScript Object Notation*** y es un formato de archivo que surgió de una creciente necesidad de tiempo real en comunicación de servidor a navegaror que no necesariamente dependíera de Flash o Java.\n",
        "\n",
        "Primero fue especificado y también popularizado por Douglas Crockford , un programador y empresario estadounidense.\n",
        "\n",
        "![texto alternativo](https://external-content.duckduckgo.com/iu/?u=https%3A%2F%2Ftse2.mm.bing.net%2Fth%3Fid%3DOIP.GCwrNrt-7t9EupHkYeKnfwHaE6%26pid%3DApi&f=1)\n",
        "\n",
        "\n",
        "Una de las cosas interesantes de los JSON es que son legibles para nosotros los humanos , es decir pueden ser leídos por humanos a diferencia de por ejemplo los archivos curtidos.\n",
        "\n",
        "\n",
        "\n",
        "---\n",
        "\n",
        "\n",
        "![texto alternativo](https://external-content.duckduckgo.com/iu/?u=https%3A%2F%2Ftse2.mm.bing.net%2Fth%3Fid%3DOIP.odRhNxlmusCgty89z70REQHaFU%26pid%3DApi&f=1)\n",
        "\n",
        "\n",
        "Los archivos JSON consisten en pares de nombre valor, separados por comas, esto nos recuerda bastante a un diccionario de Python.\n",
        "\n",
        "Veremos también que , por esta razón al cargar JSON en Python , es natural almacenarlos en un diccionario.\n",
        "\n",
        "Las claves en los JSON siempre serán cadenas entre comillas, los valores pueden ser cadenas , enteros  matrices o incluso objetos.\n",
        "\n",
        "Dicho objeto incluso puede ser un JSON y seria un JSON anidado! Pero no veremos este tipo de cosas.\n",
        "\n",
        "Podemos ver en la imagen de arriba , esta el nombre del carro entre comillas y su valor es un Bugatti Chiron, también esta el precio del carro y su valor en este caso 3 millones de dolares & as con cada valor que hay en el arhivo Cars.json.\n",
        "\n",
        "Pronto aprenderemos cómo usar la API OMDB y Python para automatizar la recuperación de tales datos, primero descubriremos cómo cargar un archivo JSON desde un directorio local.\n",
        "\n",
        "Para cargar el archivo en nuestro entrono, primero importamos el paquete `json`  luego abrimos una conexión de archivos y usamos la función `json.load`\n"
      ]
    },
    {
      "cell_type": "code",
      "metadata": {
        "id": "_ZPlaMOfoCfm",
        "colab_type": "code",
        "colab": {}
      },
      "source": [
        "with open(\"a_movie.json\") as json_file:\n",
        "    json_data = json.load(json_file)\n"
      ],
      "execution_count": null,
      "outputs": []
    },
    {
      "cell_type": "markdown",
      "metadata": {
        "id": "m6qhgRNQs6o9",
        "colab_type": "text"
      },
      "source": [
        "Para imprimir los pares key:value en la consola , podemos iterar sobre los pares key:value usando un bucle for.\n"
      ]
    },
    {
      "cell_type": "code",
      "metadata": {
        "id": "dxL5hntXtlUj",
        "colab_type": "code",
        "colab": {}
      },
      "source": [
        "for k in json_data.keys():\n",
        "    print(k + ': ', json_data[k])"
      ],
      "execution_count": null,
      "outputs": []
    }
  ]
}