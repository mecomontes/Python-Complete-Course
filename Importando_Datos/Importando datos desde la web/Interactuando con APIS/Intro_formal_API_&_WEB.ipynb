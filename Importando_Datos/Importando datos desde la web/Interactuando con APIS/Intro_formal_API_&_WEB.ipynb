{
  "nbformat": 4,
  "nbformat_minor": 0,
  "metadata": {
    "colab": {
      "name": "Intro_formal_API_&_WEB.ipynb",
      "provenance": [],
      "collapsed_sections": []
    },
    "kernelspec": {
      "name": "python3",
      "display_name": "Python 3"
    }
  },
  "cells": [
    {
      "cell_type": "markdown",
      "metadata": {
        "id": "-qiZUFR9uMmi",
        "colab_type": "text"
      },
      "source": [
        "# Interactuando con APIS en la web.\n",
        "\n",
        "Los JSON están en todas partes y son una de las principales razones que nos motivan a aprender a trabajar con ellos , ya que como científico de datos gran parte de los datos que obtendremos delas API se empaquetan como JSON.\n",
        "\n",
        "En estasección aprederemos qué son las API, por qué son tan importantes y veremos una serie de ejemplos ilustrativos.\n",
        "\n",
        "## ¿Qué es una API & por que son tan importantes?\n",
        "\n",
        "En pocas palabras una API es un conjunto de protocolos y rutinas para contruir e interactuar on las aplicaciones de software.\n",
        "\n",
        "\n",
        "Otra forma de pensar en el concepto de API es que es un montón de código que permite que dos programas de software se comuniquen entre sí.\n",
        "\n",
        "Por ejemplo, si deseamos transmitir datos de Twitter escribiendo algún código de Python , usariamos la API de Twitter.\n",
        "\n",
        "Si deseams automatizar la extracción y el procesamiento de la información de Wikipedia , podriamos hacerlo utilizando la API de Wikipedia.El uso de tales API ahora se ha convertido en una form estándar de interacturar con dichas al¡plicaciones.\n",
        "\n",
        "Twitter tiene una API que utilizan las empresas de marketing y cientificos sociales dedicados a la investigación sobre redes sociales como UBER,Facebook  e Instagram , todos ellos tienen API.\n",
        "\n",
        "Ahora veamos cómo conectarnos a una API y cómo extraer datos de ella:\n",
        "\n",
        "En este ejemplo, extraeremos datos de películas de la OPen Movie Database (OMDB) API.\n",
        "\n",
        "Como debe ser utilizaremos la biblioteca `requests`\n",
        "\n",
        "PASOS:\n",
        "\n",
        "* importamos ``requests``\n",
        "\n"
      ]
    },
    {
      "cell_type": "code",
      "metadata": {
        "id": "RWYih14auHfh",
        "colab_type": "code",
        "colab": {}
      },
      "source": [
        "import requests"
      ],
      "execution_count": 1,
      "outputs": []
    },
    {
      "cell_type": "markdown",
      "metadata": {
        "id": "PJNr-a_5w5rI",
        "colab_type": "text"
      },
      "source": [
        "* Asignamos nuestra URL de interes en una variable"
      ]
    },
    {
      "cell_type": "code",
      "metadata": {
        "id": "NNbcxtv1w5P4",
        "colab_type": "code",
        "colab": {}
      },
      "source": [
        "url = 'http://www.omdbapi.com/?t=hackers'\n",
        "\n",
        "#http://www.omdbapi.com/?t=hackers'"
      ],
      "execution_count": 13,
      "outputs": []
    },
    {
      "cell_type": "markdown",
      "metadata": {
        "id": "S8rrA0doxOr6",
        "colab_type": "text"
      },
      "source": [
        "* Empaquetamos y evnaimos la solicitud a la URL que describe nuestra consulta API y capturamos la respuesta en una línea de código."
      ]
    },
    {
      "cell_type": "code",
      "metadata": {
        "id": "_aJgpYgfxC9F",
        "colab_type": "code",
        "colab": {}
      },
      "source": [
        "r = requests.get(url)\n"
      ],
      "execution_count": 14,
      "outputs": []
    },
    {
      "cell_type": "markdown",
      "metadata": {
        "id": "DqmI7lVhxglJ",
        "colab_type": "text"
      },
      "source": [
        "Otro aspecto importante del paquete `requests` es que los objetos de respuesta como `r ` tiene un método asociado json , que es un decodificados JSON incorporado para cuando tratamos con datos JSON."
      ]
    },
    {
      "cell_type": "code",
      "metadata": {
        "id": "tXsaI3YRxgLf",
        "colab_type": "code",
        "colab": {}
      },
      "source": [
        "json_data = r.json()"
      ],
      "execution_count": 15,
      "outputs": []
    },
    {
      "cell_type": "markdown",
      "metadata": {
        "id": "3DoaC6oqx0Mo",
        "colab_type": "text"
      },
      "source": [
        "Esto deuelbe un diccionario , por lo que extraemos todos los key-value para ver lo que extrajimos de la API de OMBD."
      ]
    },
    {
      "cell_type": "code",
      "metadata": {
        "id": "9e71S331xz0B",
        "colab_type": "code",
        "colab": {
          "base_uri": "https://localhost:8080/",
          "height": 51
        },
        "outputId": "f9d79ed9-ef0f-4b2c-b07f-8ee4e6dae687"
      },
      "source": [
        "for key,value in json_data.items():\n",
        "  print(key + \":\", value)"
      ],
      "execution_count": 16,
      "outputs": [
        {
          "output_type": "stream",
          "text": [
            "Response: False\n",
            "Error: No API key provided.\n"
          ],
          "name": "stdout"
        }
      ]
    },
    {
      "cell_type": "markdown",
      "metadata": {
        "id": "xCwNV23nyYpB",
        "colab_type": "text"
      },
      "source": [
        "Ahora lo último que debemos analizar es cómo la URL que usamos realmente extrajo datos de la API, para hacerlo vamos a dividir la URL en trozos:\n",
        "\n",
        "* HTTP :\n",
        "Significa ue estamos haciendo una solicitud HTTP.\n",
        "\n",
        "* www.omdbapi.com:\n",
        " Significa que estamos consultando la API OMBD .\n",
        "\n",
        "* `?t=hackers` Esta es la parte realmente interesante y de la cual no hemos hablado.\n",
        "\n",
        "Esta cadena comienza con `?` a eso se le llama *cadena de consulta* , estas son partes de URL que no se ajustan necesariamente a una estructura de ruta jerárquica convencional.\n",
        "\n",
        "Lo que sigue del signo de interrogacio1n es que estamos haciendo a la API de OMBD.\n",
        "\n",
        "La consulta que acabamos de hacer era simple, `?t=hackers`, aquile pedimos a la API que devolviera los datos sobre la película con el titulo Hackers.\n",
        "\n",
        "La `t` en la consulta representa el titulo, en la pagína de OMBD podemos ver todos los parametros y como usar la API.\n",
        "\n",
        "A continuación veremos algunos ejemplos:\n",
        "\n",
        "La película sobre la que consultaremos la API es The Social Network. Recordemos que, para consultar a la API sobre la película Hackers, la cadena de consulta era 'http://www.omdbapi.com/?t=hackers'\n",
        "\n",
        "\n",
        "\n",
        "IMPORTANTE:\n",
        "\n",
        "Recientemente, OMDB ha cambiado su API: ahora también debes especificar una clave API. Esto significa que tendrás que agregar otro argumento a la URL:\n"
      ]
    },
    {
      "cell_type": "code",
      "metadata": {
        "id": "fRLTYmSIyBah",
        "colab_type": "code",
        "colab": {
          "base_uri": "https://localhost:8080/",
          "height": 54
        },
        "outputId": "5fca4da8-0527-4325-fb06-f4020bc90d9a"
      },
      "source": [
        "# Importar rquests\n",
        "import requests\n",
        "\n",
        "# Asignar URL\n",
        "url = 'http://www.omdbapi.com/?apikey=72bc447a&t=the+social+network'\n",
        "\n",
        "\n",
        "# Empaquetar la solicitud, envíar la solicitud y obtener la respuesta: r\n",
        "r = requests.get(url)\n",
        "\n",
        "# Imprimir texto de la respuesta\n",
        "\n",
        "print(r.text)"
      ],
      "execution_count": 18,
      "outputs": [
        {
          "output_type": "stream",
          "text": [
            "{\"Title\":\"The Social Network\",\"Year\":\"2010\",\"Rated\":\"PG-13\",\"Released\":\"01 Oct 2010\",\"Runtime\":\"120 min\",\"Genre\":\"Biography, Drama\",\"Director\":\"David Fincher\",\"Writer\":\"Aaron Sorkin (screenplay), Ben Mezrich (book)\",\"Actors\":\"Jesse Eisenberg, Rooney Mara, Bryan Barter, Dustin Fitzsimons\",\"Plot\":\"As Harvard student Mark Zuckerberg creates the social networking site that would become known as Facebook, he is sued by the twins who claimed he stole their idea, and by the co-founder who was later squeezed out of the business.\",\"Language\":\"English, French\",\"Country\":\"USA\",\"Awards\":\"Won 3 Oscars. Another 171 wins & 183 nominations.\",\"Poster\":\"https://m.media-amazon.com/images/M/MV5BOGUyZDUxZjEtMmIzMC00MzlmLTg4MGItZWJmMzBhZjE0Mjc1XkEyXkFqcGdeQXVyMTMxODk2OTU@._V1_SX300.jpg\",\"Ratings\":[{\"Source\":\"Internet Movie Database\",\"Value\":\"7.7/10\"},{\"Source\":\"Rotten Tomatoes\",\"Value\":\"96%\"},{\"Source\":\"Metacritic\",\"Value\":\"95/100\"}],\"Metascore\":\"95\",\"imdbRating\":\"7.7\",\"imdbVotes\":\"605,667\",\"imdbID\":\"tt1285016\",\"Type\":\"movie\",\"DVD\":\"11 Jan 2011\",\"BoxOffice\":\"$96,400,000\",\"Production\":\"Columbia Pictures\",\"Website\":\"N/A\",\"Response\":\"True\"}\n"
          ],
          "name": "stdout"
        }
      ]
    },
    {
      "cell_type": "markdown",
      "metadata": {
        "id": "cAeRdz0V1rsp",
        "colab_type": "text"
      },
      "source": [
        "como sabemos, nuestra respuesta es en realidad un JSON, por lo que podemos mejorar un paso y decodificar el JSON. Luego podemos imprimir los pares clave-valor del diccionario resultante. "
      ]
    },
    {
      "cell_type": "code",
      "metadata": {
        "id": "NVzuFadw1O7y",
        "colab_type": "code",
        "colab": {
          "base_uri": "https://localhost:8080/",
          "height": 462
        },
        "outputId": "877d15e4-5ea0-4ae3-81ee-f4ac8f10fda7"
      },
      "source": [
        "# Importar erquests\n",
        "import requests\n",
        "\n",
        "# Asingnar la vURL\n",
        "url = 'http://www.omdbapi.com/?apikey=72bc447a&t=social+network'\n",
        "\n",
        "# Empaquetar la solicitud, envíe la solicitud y obtenga la respuesta: r\n",
        "r = requests.get(url)\n",
        "# Decodificar los datos JSON en un diccionario: json_data\n",
        "json_data = r.json()\n",
        "\n",
        "# Imprimir cada par clave-valor en json_data\n",
        "for k in json_data.keys():\n",
        "    print(k + ': ', json_data[k])\n"
      ],
      "execution_count": 20,
      "outputs": [
        {
          "output_type": "stream",
          "text": [
            "Title:  The Social Network\n",
            "Year:  2010\n",
            "Rated:  PG-13\n",
            "Released:  01 Oct 2010\n",
            "Runtime:  120 min\n",
            "Genre:  Biography, Drama\n",
            "Director:  David Fincher\n",
            "Writer:  Aaron Sorkin (screenplay), Ben Mezrich (book)\n",
            "Actors:  Jesse Eisenberg, Rooney Mara, Bryan Barter, Dustin Fitzsimons\n",
            "Plot:  As Harvard student Mark Zuckerberg creates the social networking site that would become known as Facebook, he is sued by the twins who claimed he stole their idea, and by the co-founder who was later squeezed out of the business.\n",
            "Language:  English, French\n",
            "Country:  USA\n",
            "Awards:  Won 3 Oscars. Another 171 wins & 183 nominations.\n",
            "Poster:  https://m.media-amazon.com/images/M/MV5BOGUyZDUxZjEtMmIzMC00MzlmLTg4MGItZWJmMzBhZjE0Mjc1XkEyXkFqcGdeQXVyMTMxODk2OTU@._V1_SX300.jpg\n",
            "Ratings:  [{'Source': 'Internet Movie Database', 'Value': '7.7/10'}, {'Source': 'Rotten Tomatoes', 'Value': '96%'}, {'Source': 'Metacritic', 'Value': '95/100'}]\n",
            "Metascore:  95\n",
            "imdbRating:  7.7\n",
            "imdbVotes:  605,667\n",
            "imdbID:  tt1285016\n",
            "Type:  movie\n",
            "DVD:  11 Jan 2011\n",
            "BoxOffice:  $96,400,000\n",
            "Production:  Columbia Pictures\n",
            "Website:  N/A\n",
            "Response:  True\n"
          ],
          "name": "stdout"
        }
      ]
    },
    {
      "cell_type": "markdown",
      "metadata": {
        "id": "FIAiulHJ2ugA",
        "colab_type": "text"
      },
      "source": [
        "## WIKIPEDIA API\n",
        "\n",
        "la API de Wikipedia (documentada [aquí](https://www.mediawiki.org/wiki/API:Main_page)). Descubriremos cómo encontrar y extraer información de la página de Wikipedia para Pizza. Lo que se vuelve un poco salvaje aquí nuetra  consulta devolverá JSON anidados, es decir, JSON con JSON, pero Python puede manejar eso porque los traducirá en diccionarios dentro de los diccionarios."
      ]
    },
    {
      "cell_type": "code",
      "metadata": {
        "id": "OeZ5kqdX1_5u",
        "colab_type": "code",
        "colab": {
          "base_uri": "https://localhost:8080/",
          "height": 156
        },
        "outputId": "7872a66a-35eb-4256-f1bf-f3bb5a04ffda"
      },
      "source": [
        "# Importar erquests\n",
        "import requests\n",
        "\n",
        "# Asingar URL\n",
        "url = 'https://en.wikipedia.org/w/api.php?action=query&prop=extracts&format=json&exintro=&titles=pizza'\n",
        "\n",
        "# Empaquetar la solicitud, envíe la solicitud y obtenga la respuesta: r\n",
        "r = requests.get(url)\n",
        "\n",
        "# Decodificar los datos JSON en un diccionario: json_data\n",
        "json_data = r.json()\n",
        "\n",
        "# Imprimir el extracto de la página de Wikipedia\n",
        "pizza_extract = json_data['query']['pages']['24768']['extract']\n",
        "print(pizza_extract)"
      ],
      "execution_count": 21,
      "outputs": [
        {
          "output_type": "stream",
          "text": [
            "<p class=\"mw-empty-elt\">\n",
            "</p>\n",
            "\n",
            "<p><b>Pizza</b> (<small>Italian: </small><span title=\"Representation in the International Phonetic Alphabet (IPA)\">[ˈpittsa]</span>, <small>Neapolitan: </small><span title=\"Representation in the International Phonetic Alphabet (IPA)\">[ˈpittsə]</span>) is a savory dish of Italian origin consisting of a usually round, flattened base of leavened wheat-based dough topped with tomatoes, cheese, and often various other ingredients (such as anchovies, mushrooms, onions, olives, pineapple, meat, etc.) which is then baked at a high temperature, traditionally in a wood-fired oven. A small pizza is sometimes called a pizzetta. A person who makes pizza is known as a <b>pizzaiolo</b>.\n",
            "</p><p>In Italy, pizza served in formal settings, such as at a restaurant, is presented unsliced, and is eaten with the use of a knife and fork. In casual settings, however, it is cut into wedges to be eaten while held in the hand.\n",
            "</p><p>The term <i>pizza</i> was first recorded in the 10th century in a Latin manuscript from the Southern Italian town of Gaeta in Lazio, on the border with Campania. Modern pizza was invented in Naples, and the dish and its variants have since become popular in many countries. It has become one of the most popular foods in the world and a common fast food item in Europe and North America, available at pizzerias (restaurants specializing in pizza),  restaurants offering Mediterranean cuisine, and via pizza delivery. Many companies sell ready-baked frozen pizzas to be reheated in an ordinary home oven.\n",
            "</p><p>The <i>Associazione Verace Pizza Napoletana</i> (lit. True Neapolitan Pizza Association) is a non-profit organization founded in 1984 with headquarters in Naples that aims to promote traditional Neapolitan pizza. In 2009, upon Italy's request, Neapolitan pizza was registered with the European Union as a Traditional Speciality Guaranteed dish, and in 2017 the art of its making was included on UNESCO's list of intangible cultural heritage.</p>\n"
          ],
          "name": "stdout"
        }
      ]
    },
    {
      "cell_type": "code",
      "metadata": {
        "id": "h9qUZOJp3X6_",
        "colab_type": "code",
        "colab": {}
      },
      "source": [
        ""
      ],
      "execution_count": null,
      "outputs": []
    }
  ]
}