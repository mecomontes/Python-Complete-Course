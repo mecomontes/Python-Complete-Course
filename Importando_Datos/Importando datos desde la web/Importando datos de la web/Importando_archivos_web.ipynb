{
  "nbformat": 4,
  "nbformat_minor": 0,
  "metadata": {
    "colab": {
      "name": "Importando_archivos_web.ipynb",
      "provenance": [],
      "collapsed_sections": []
    },
    "kernelspec": {
      "name": "python3",
      "display_name": "Python 3"
    }
  },
  "cells": [
    {
      "cell_type": "markdown",
      "metadata": {
        "id": "qWah-nvFP3LN",
        "colab_type": "text"
      },
      "source": [
        "#Importando Archios planos desde la web\n",
        "\n",
        "Ahora que podemos importar datos en Python de todo tipo de archivos , como txt,.csv, xls, .mat etc.\n",
        "\n",
        "También ahora que adquirimos experiencia en la consulta de bases de datos relacionales para importar datos de ellas utilizando SQL.\n",
        "\n",
        "Sin embargo ,todas estas habilidades implican la importación de datos de archivos que tenemos localmente, es decir disponibles en la memoria de nuestra computadora.\n",
        "\n",
        "\n",
        "Gran parte del tiempo como cientifico de datos, estas habilidades no serán suficiente por que no siempre tendremos los datos que necesitamos, para eso los debemos importar desde la web.\n",
        "\n",
        "Digamos por ejemplo que queremos im,portar el conjunto de datos de la calidad de vino desde el repositorio de Machine Learning organizado por la universoda de California Irvine.\n",
        "\n",
        "¿Cómo obtenemos estos archivos de la web?\n",
        "\n",
        "Ahora podemos usar nuestro navegador web favorito para navegar a la URL relevante que es lo que hemos estado haciendo , sin embargo esto plantea algunos problemas.\n",
        "\n",
        "* En primer lugar, no está escrito en código y por lo tanto, plantea problemas de reproducibilidad,si otro cientifico de datos quisiera reproducir nuestro flujo de trabajo , necesariamente tendría que hacerlo fuera de Python.\n",
        "\n",
        "* En segundo lugar , no es escalable si quisieramos descargar cien o mil de estos archivos, nos tomaria cien o mil veces mas , respectivamente , mientras que si li escribimos en código , nuestro flujo de trabajo podría ser escalable.\n",
        "\n",
        "Como la reproducibilidad y la escalabilidad se encuentran en el corazón de la Ciencia de Datos, nosotros vamos a aprender en este notebook y en los siguientes cómo usar el código de Python para importar y guardad localmente conjuntos de datos de la web.\n",
        "\n",
        "También aprenderemos cómo cargar dichos conjuntos de datos en Pandas directamente desde la web, ya sean archivos planos o de otro tipo.\n",
        "\n",
        "\n",
        "Luego colocaremos estas habilidades en el contexto más amplio de hacer solicitudes HTTP, en particular realizaremos solicitudes HTTP GET , que significa obtener datos de la web.\n",
        "\n",
        "Utilizaremos todas estas habilidades de Solicitud para aprender los conceptos básicos del resplado HTML de internet & usaremos el maravilloso paquete Python BeautiflSoup para analizar HTML y convertirlo en datos.\n",
        "\n",
        "Existen varios paquetes excelentes que nos ayudan a importar datos web, aqui nos familiarizaremos con urlib y solicitaremos paquetes, primero revisaremos urlib.\n",
        "\n",
        "\n",
        "Este módulo proporciona una interfaz de alto nivel para obtener datos en la WEB, en particular , la función `urlopen()` es similar a la funión incorporada `open()` pero la diferencia es que `urlopen()` acepta los localizadores de recursos (URL) en lugar de nombres de archivo.\n",
        "\n",
        "Suficiente , texto es hora de pasas directamente a importar datos desde la web con un ejemplo , importando la calidad del vino blanco.\n",
        "\n",
        "\n"
      ]
    },
    {
      "cell_type": "code",
      "metadata": {
        "id": "nVcxoCZNPx0n",
        "colab_type": "code",
        "colab": {}
      },
      "source": [
        "from urlib.request import urlretrieve\n",
        "url = 'http://archive.ics.edu/ml/machine-learning-databases/wine-quality/winequality-white.csv'\n",
        "urlretrieve(url,'winequality-white.csv')\n"
      ],
      "execution_count": null,
      "outputs": []
    },
    {
      "cell_type": "markdown",
      "metadata": {
        "id": "hb994lBcWMVb",
        "colab_type": "text"
      },
      "source": [
        "Todo lo que hemos hecho aqui es importar una función llamada `urlretrieve` desde la solicitud  de paquete `urlib` , despues asignamos la URL relevante como cadena de la variable url.\n",
        "\n",
        "Luego usamos la función `urlretrieve` para escroibir el contenido de la url e un archivo.\n",
        "\n",
        "## EJEMPLO:\n",
        "\n",
        " El archivo plano que importaremos será 'winequality-red.csv' de la Universidad de California, el repositorio de Machine Learning de Irvine. El archivo plano contiene datos tabulares de las propiedades fisicoquímicas del vino tinto, como el pH, el contenido de alcohol y el contenido de ácido cítrico, junto con la calificación de calidad del vino.\n",
        "\n",
        "Después de importarlo, verificaremos su directorio de trabajo para confirmar que está allí y luego lo cargaremos en un DataFrame de pandas."
      ]
    },
    {
      "cell_type": "code",
      "metadata": {
        "id": "pudw1nfwVODY",
        "colab_type": "code",
        "colab": {
          "base_uri": "https://localhost:8080/",
          "height": 153
        },
        "outputId": "efbb19df-d31d-44ea-bd0c-6fc57b073bc8"
      },
      "source": [
        "# Importar libreria\n",
        "from urllib.request import urlretrieve\n",
        "\n",
        "# Importar Pandas\n",
        "import pandas as pd\n",
        "\n",
        "# Assignar variable del archivo: url\n",
        "url = 'https://s3.amazonaws.com/assets.datacamp.com/production/course_1606/datasets/winequality-red.csv'\n",
        "\n",
        "# Guardar el archivo localmente\n",
        "\n",
        "urlretrieve(url,'winequality-red.csv')\n",
        "# Leer archivo en formato Dataframe e imprimirlo.\n",
        "df = pd.read_csv('winequality-red.csv', sep=';')\n",
        "print(df.head())"
      ],
      "execution_count": 11,
      "outputs": [
        {
          "output_type": "stream",
          "text": [
            "   fixed acidity  volatile acidity  citric acid  ...  sulphates  alcohol  quality\n",
            "0            7.4              0.70         0.00  ...       0.56      9.4        5\n",
            "1            7.8              0.88         0.00  ...       0.68      9.8        5\n",
            "2            7.8              0.76         0.04  ...       0.65      9.8        5\n",
            "3           11.2              0.28         0.56  ...       0.58      9.8        6\n",
            "4            7.4              0.70         0.00  ...       0.56      9.4        5\n",
            "\n",
            "[5 rows x 12 columns]\n"
          ],
          "name": "stdout"
        }
      ]
    },
    {
      "cell_type": "markdown",
      "metadata": {
        "id": "4xSFrc6cYIwp",
        "colab_type": "text"
      },
      "source": [
        "Acabamos de importar un archivo de la web, lo guardamos localmente y lo cargamos en un DataFrame. Si solo deseamos cargar un archivo de la web en un DataFrame sin guardarlo primero localmente, podemos hacerlo fácilmente con pandas. En particular, podemos usar la función pd.read_csv () con la URL como primer argumento y el separador sep como segundo argumento."
      ]
    },
    {
      "cell_type": "code",
      "metadata": {
        "id": "NxmX0KDoXXeT",
        "colab_type": "code",
        "colab": {
          "base_uri": "https://localhost:8080/",
          "height": 153
        },
        "outputId": "1513726b-6cd7-4e03-9fe9-aeeaf97a5285"
      },
      "source": [
        "# Importar paquetes\n",
        "import matplotlib.pyplot as plt\n",
        "import pandas as pd\n",
        "\n",
        "# Asignar url del archivo : url\n",
        "url = 'https://s3.amazonaws.com/assets.datacamp.com/production/course_1606/datasets/winequality-red.csv'\n",
        "\n",
        "\n",
        "# Leer archivo como un dataframe: df\n",
        "df = pd.read_csv(url,sep=';')\n",
        "\n",
        "# Imprimir el dataframe\n",
        "print(df.head())\n",
        "\n"
      ],
      "execution_count": 15,
      "outputs": [
        {
          "output_type": "stream",
          "text": [
            "   fixed acidity  volatile acidity  citric acid  ...  sulphates  alcohol  quality\n",
            "0            7.4              0.70         0.00  ...       0.56      9.4        5\n",
            "1            7.8              0.88         0.00  ...       0.68      9.8        5\n",
            "2            7.8              0.76         0.04  ...       0.65      9.8        5\n",
            "3           11.2              0.28         0.56  ...       0.58      9.8        6\n",
            "4            7.4              0.70         0.00  ...       0.56      9.4        5\n",
            "\n",
            "[5 rows x 12 columns]\n"
          ],
          "name": "stdout"
        }
      ]
    },
    {
      "cell_type": "markdown",
      "metadata": {
        "id": "cZHKRGViZWIE",
        "colab_type": "text"
      },
      "source": [
        "# Importando archivos no planos de la web.\n",
        "\n",
        "En este ejercicio , usaremos `pd.read_excel()` para importar una hoja de cálculo de Excel.\n",
        " Nuestro trabajo es usar `pd.read_excel()` para leer todas sus hojas, imprimir los nombres de las hojas y luego imprimir el encabezado de la primera hoja usando su nombre, no su índice.\n",
        "\n",
        "Tengamos en cuenta que la salida de pd.read_excel () es un diccionario de Python con nombres de hoja como claves y DataFrames correspondientes como valores correspondientes."
      ]
    },
    {
      "cell_type": "code",
      "metadata": {
        "id": "BFtV04JsZEFO",
        "colab_type": "code",
        "colab": {
          "base_uri": "https://localhost:8080/",
          "height": 136
        },
        "outputId": "a08aba69-0833-4bc8-95ab-e8ea872e3765"
      },
      "source": [
        "# Importar paquete\n",
        "import pandas as pd\n",
        "\n",
        "#  Asignar url del archivo : url\n",
        "url = 'http://s3.amazonaws.com/assets.datacamp.com/course/importing_data_into_r/latitude.xls'\n",
        "\n",
        "# Leer archivo excel: xls\n",
        "xls = pd.read_excel(url,sheet_name=None)\n",
        "\n",
        "# Imprimir nombres de la tabla\n",
        "print(xls.keys())\n",
        "\n",
        "# Imprimir el nombre de la hoa 1700\n",
        "\n",
        "print(xls['1700'].head())"
      ],
      "execution_count": 16,
      "outputs": [
        {
          "output_type": "stream",
          "text": [
            "dict_keys(['1700', '1900'])\n",
            "                 country       1700\n",
            "0            Afghanistan  34.565000\n",
            "1  Akrotiri and Dhekelia  34.616667\n",
            "2                Albania  41.312000\n",
            "3                Algeria  36.720000\n",
            "4         American Samoa -14.307000\n"
          ],
          "name": "stdout"
        }
      ]
    }
  ]
}