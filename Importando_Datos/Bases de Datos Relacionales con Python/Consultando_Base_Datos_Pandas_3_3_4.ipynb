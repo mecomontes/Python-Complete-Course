{
  "nbformat": 4,
  "nbformat_minor": 0,
  "metadata": {
    "colab": {
      "name": "Consultando_Base_Datos_Pandas_3_3_4.ipynb",
      "provenance": [],
      "collapsed_sections": []
    },
    "kernelspec": {
      "name": "python3",
      "display_name": "Python 3"
    }
  },
  "cells": [
    {
      "cell_type": "markdown",
      "metadata": {
        "id": "cOyvaF2gxn-f",
        "colab_type": "text"
      },
      "source": [
        "# Consultar bases de datos relacionales directamente con pandas.\n",
        "\n",
        "\n",
        "Después de crear un motor de base de datos, podemos obtener los resultados de cualquier consulta usando solo 4 lineas de código:\n",
        "\n",
        "* Conectadno.\n",
        "* Ejecutando una consulta.\n",
        "* Pasando los resultados a un DataFrame.\n",
        "* Nombrando las columnas.\n",
        "\n",
        "\n",
        "4 lineas de cóidgo esta ... okey pero podemos hacerlo aun mejor, en realidad podemos hacerlo en 1 línea, utilizaneo la función `read_sql_query` pasandole 2 argumentos:\n",
        "\n",
        "\n",
        "\n"
      ]
    },
    {
      "cell_type": "code",
      "metadata": {
        "id": "FYfmhXNG9tNV",
        "colab_type": "code",
        "colab": {}
      },
      "source": [
        "from sqlalchemy import create_engine\n",
        "import pandas as pd\n",
        "engine = create_engine('sqlite:///Chinook.sqlite')\n"
      ],
      "execution_count": 96,
      "outputs": []
    },
    {
      "cell_type": "markdown",
      "metadata": {
        "id": "GUVzqFdUKv2U",
        "colab_type": "text"
      },
      "source": [
        "* El primer argumento será la consulta que deseamos hacer, en este caso `\"SELECT * FROM Album\"`\n",
        "\n",
        "* El segundo argumento, sera el motor al que estamos conectados, en este caso `engine`.\n",
        "\n",
        "\n",
        "Así podemos lograr lo mismo que haciendo 4 lineas de código."
      ]
    },
    {
      "cell_type": "code",
      "metadata": {
        "id": "5h9d5x5bKIl7",
        "colab_type": "code",
        "colab": {}
      },
      "source": [
        "df = pd.read_sql_query(\"SELECT * FROM Album\",engine)"
      ],
      "execution_count": 99,
      "outputs": []
    },
    {
      "cell_type": "markdown",
      "metadata": {
        "id": "Ob8HLEKRLCyV",
        "colab_type": "text"
      },
      "source": [
        "A continuación haremos algunos ejemplos para entender mejor como hacer consultas con Pandas.\n",
        "\n",
        "Primero importaremos pandas y crearemos el motor SQLite 'Chinook.sqlite'. Luego, consultaremos la base de datos para seleccionar todos los registros de la tabla Álbum."
      ]
    },
    {
      "cell_type": "code",
      "metadata": {
        "id": "Xjgz6OyNKPpg",
        "colab_type": "code",
        "colab": {
          "base_uri": "https://localhost:8080/",
          "height": 136
        },
        "outputId": "299bd9cd-515d-42ed-9bc2-a331d7506989"
      },
      "source": [
        "# Ejecutar consultas y almacenar registros en DataFrame: df\n",
        "df = pd.read_sql_query(\"SELECT * FROM Album\",engine)\n",
        "\n",
        "# imprimir resultado del DataFrame\n",
        "print(df.head())\n",
        "\n",
        "# Abrir el motor en el administrador de contexto y almacenar el resultado de la consulta en df1\n",
        "with engine.connect() as con:\n",
        "    rs = con.execute(\"SELECT * FROM Album\")\n",
        "    df1 = pd.DataFrame(rs.fetchall())\n",
        "    df1.columns = rs.keys()\n",
        "\n",
        "# Confirmar que ambos métodos producen el mismo resultado.\n",
        "print(df.equals(df1))"
      ],
      "execution_count": 100,
      "outputs": [
        {
          "output_type": "stream",
          "text": [
            "   AlbumId                                  Title  ArtistId\n",
            "0        1  For Those About To Rock We Salute You         1\n",
            "1        2                      Balls to the Wall         2\n",
            "2        3                      Restless and Wild         2\n",
            "3        4                      Let There Be Rock         1\n",
            "4        5                               Big Ones         3\n",
            "True\n"
          ],
          "name": "stdout"
        }
      ]
    },
    {
      "cell_type": "markdown",
      "metadata": {
        "id": "EZy-21TXMeTx",
        "colab_type": "text"
      },
      "source": [
        "## Pandas para consultas más complejas.\n",
        "\n",
        "Aquí, nos familiarizaremos con la función pandas `read_sql_query()` al usarla para ejecutar una consulta más compleja: \n",
        "\n",
        "Una instrucción SELECT seguida de una cláusula WHERE y una cláusula ORDER BY. Construiremos un DataFrame que contiene las filas de la tabla Employee para las cuales EmployeeId es mayor o igual a 6 y ordenaremos estas entradas por Fecha de nacimiento."
      ]
    },
    {
      "cell_type": "code",
      "metadata": {
        "id": "xijU2nkZMU5Y",
        "colab_type": "code",
        "colab": {
          "base_uri": "https://localhost:8080/",
          "height": 119
        },
        "outputId": "0aae40ca-3adc-4153-e973-93787a0be32b"
      },
      "source": [
        "# Ejecutar consultas y almacenar registros en DataFrame: df\n",
        "df = pd.read_sql_query(\n",
        "    \"SELECT * FROM Employee WHERE EmployeeId >= 6 ORDER BY BirthDate\",\n",
        "    engine\n",
        ")\n",
        "\n",
        "# Imprmir DataFrame\n",
        "print(df.head())\n"
      ],
      "execution_count": 101,
      "outputs": [
        {
          "output_type": "stream",
          "text": [
            "   EmployeeId  LastName  ...                Fax                    Email\n",
            "0           8  Callahan  ...  +1 (403) 467-8772    laura@chinookcorp.com\n",
            "1           7      King  ...  +1 (403) 456-8485   robert@chinookcorp.com\n",
            "2           6  Mitchell  ...  +1 (403) 246-9899  michael@chinookcorp.com\n",
            "\n",
            "[3 rows x 15 columns]\n"
          ],
          "name": "stdout"
        }
      ]
    }
  ]
}