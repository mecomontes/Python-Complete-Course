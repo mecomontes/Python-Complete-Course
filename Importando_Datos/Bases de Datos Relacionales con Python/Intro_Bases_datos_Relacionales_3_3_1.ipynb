{
  "nbformat": 4,
  "nbformat_minor": 0,
  "metadata": {
    "colab": {
      "name": "Intro_Bases_datos_Relacionales_3_3_1.ipynb",
      "provenance": [],
      "collapsed_sections": []
    },
    "kernelspec": {
      "name": "python3",
      "display_name": "Python 3"
    }
  },
  "cells": [
    {
      "cell_type": "markdown",
      "metadata": {
        "id": "cOyvaF2gxn-f",
        "colab_type": "text"
      },
      "source": [
        "# ¿Qué es una base de datos relacional?\n",
        "\n",
        "Es un tipo de base de datos que se basa en el modelo relacional de datos, descrito por primera vez por Ted Codd a finales de la década de 1960.\n",
        "\n",
        "Sin embargo , antes de ser demasiado teórico , veamos que una base de datos consta de tablas:\n",
        "\n",
        "![texto alternativo](https://i.stack.imgur.com/NQm7f.png)\n",
        "\n",
        "\n",
        "Aquí podemos ver 4 tablas:\n",
        "\n",
        "* Directores.\n",
        "\n",
        "* Peliculas.\n",
        "\n",
        "* Compañias.\n",
        "\n",
        "* Peliculas_directores.\n",
        "\n",
        "\n",
        "¿Entonces que es una tabla?\n",
        "\n",
        "Una tabla generalmente representa un tipo de entidad, como peliculas, tengamos en cuenta que estas tablas se parecen mucho a un DataFrame.\n",
        "\n",
        "Ese es el punto, en una base de datos relacional, cada fila o registro representa una instancia del tipo de entidad.\n",
        "\n",
        "Cada columna representa un atributo de cada instancia, en este sentido , una tabla es completamente análoga a una DataFrame.\n",
        "\n",
        "Es esencial que cada fila contenga un identificador único, conocido como *primary key* que podemos usar para acceder a la fila en cuestión.\n",
        "\n",
        "En nuestra tabla directores, podemos ver que la clave es *id_director*, pero recordemos que una base de datos consta de muchas tablas.\n",
        "\n",
        "Lo realmente genial de las bases de datos relacionales es que no es simplemente el tener un montón de tablas,pero las tablas tienen que estar vinculadas.\n",
        "\n",
        "La teoria tiene mucho que ver,pero se resume más claramente en las 12 reglas Codd's , tambien conocidos como los 12 mandamientos de Codd, que se desarrollaron a principios de 1980, para combatir lo que se veia como una distorción de su vision original de la base de datos relacional.\n",
        "\n",
        "Las 12 reglas de Codd en realidad consisten en 13 reglas pero están indexadas a cero, es decir la primera regla esta indexada a cero.\n",
        "\n",
        "Estas 13 reglas se definieron para describir qué es una base de datos relacional y que debe cumplir para ser considerado relacional.\n",
        "\n",
        "\n",
        "Entre los sistemas mas populares estan:\n",
        "\n",
        "* PostgreSQL\n",
        "\n",
        "* MySQL\n",
        "\n",
        "* SQLite\n",
        "\n",
        "Todos los cuales usan el lenguaje de consulta SQL.De hecho SQL es un acronimo de Structured Query Language, que describe cómo nos comunicamos con una base de datos para acceder y actualizar la información que contiene.\n",
        "\n",
        "El termino *consulta* es realmente una forma elegante de decir que se obtienen datos de la base de datos."
      ]
    }
  ]
}