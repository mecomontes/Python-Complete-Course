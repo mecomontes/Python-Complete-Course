{
  "nbformat": 4,
  "nbformat_minor": 0,
  "metadata": {
    "colab": {
      "name": "Creando_Base_Datos_Relacional_Python_3_3_2.ipynb",
      "provenance": [],
      "collapsed_sections": []
    },
    "kernelspec": {
      "name": "python3",
      "display_name": "Python 3"
    }
  },
  "cells": [
    {
      "cell_type": "markdown",
      "metadata": {
        "id": "cOyvaF2gxn-f",
        "colab_type": "text"
      },
      "source": [
        "# Creando una Base de Datos Relacional con Python.\n",
        "\n",
        "Lo que realmente queremos hacer es obtener datos de nuestras bases de datos utilizando SQL o el lenguaje de consulta estrucutrado, pero antes de llegar a esto , necesitaremos descubrír cómo conectamos una base de datos.\n",
        "\n",
        "Utilizaremos una base de datos SQLite como ejemplo , por que SQLite es rápido y simple , mientras que contiene cuficiente funcinalidad para representar todos los conceptos necesarios para utilizar una base de datos.\n",
        "\n",
        "Habra momentos en los que prefiramosusar PostgreSQL o MYSql , pero para nuestros propósitos aqui , es decir una introducción ala interacción de bases de datos relacionales en Python , una base de datos SQLite es perfecta.\n",
        "\n",
        "Hay muchos paquete que podriamos usar para acceder a una base de datos como SQLite3 o SQLAlchemy, en este caso usaremos SQLAlchemy ya que funciona con muchos otros sistemas de gestión de bases de datos relacionales como Postgress & MySQL.\n",
        "\n",
        "Lo unico que necesitamos hacer es importar la biblioteca y crear una variable asignando la dirección de nuestro archivo. \n"
      ]
    },
    {
      "cell_type": "code",
      "metadata": {
        "id": "sB7yC_z142UW",
        "colab_type": "code",
        "colab": {}
      },
      "source": [
        "from sqlalchemy import create_engine\n",
        "engine = create_engine('sqlite:///Chinook.sqlite')"
      ],
      "execution_count": 17,
      "outputs": []
    },
    {
      "cell_type": "markdown",
      "metadata": {
        "id": "-QZT4pCa6VEi",
        "colab_type": "text"
      },
      "source": [
        "A continuación para consultar la base de datos , necesitamos conectarnos al motor para hacerlo, pero antes de eso nos gustaria saber los nombres de las tablas que contiene.\n",
        "\n",
        "Para hacer esto , aplicamos el método `table.names()` a nuestro motor de objetos.\n",
        "\n"
      ]
    },
    {
      "cell_type": "code",
      "metadata": {
        "id": "dclWWGMb481Z",
        "colab_type": "code",
        "colab": {
          "base_uri": "https://localhost:8080/",
          "height": 204
        },
        "outputId": "ca3b320c-c73e-4d4f-dee2-420628702da0"
      },
      "source": [
        "table_nombres = engine.table_names()\n",
        "table_nombres"
      ],
      "execution_count": 18,
      "outputs": [
        {
          "output_type": "execute_result",
          "data": {
            "text/plain": [
              "['Album',\n",
              " 'Artist',\n",
              " 'Customer',\n",
              " 'Employee',\n",
              " 'Genre',\n",
              " 'Invoice',\n",
              " 'InvoiceLine',\n",
              " 'MediaType',\n",
              " 'Playlist',\n",
              " 'PlaylistTrack',\n",
              " 'Track']"
            ]
          },
          "metadata": {
            "tags": []
          },
          "execution_count": 18
        }
      ]
    }
  ]
}