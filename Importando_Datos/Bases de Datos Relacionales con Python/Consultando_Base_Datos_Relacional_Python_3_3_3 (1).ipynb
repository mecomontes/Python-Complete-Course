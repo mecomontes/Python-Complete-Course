{
  "nbformat": 4,
  "nbformat_minor": 0,
  "metadata": {
    "colab": {
      "name": "Consultando_Base_Datos_Relacional_Python_3_3_3.ipynb",
      "provenance": [],
      "collapsed_sections": []
    },
    "kernelspec": {
      "name": "python3",
      "display_name": "Python 3"
    }
  },
  "cells": [
    {
      "cell_type": "markdown",
      "metadata": {
        "id": "cOyvaF2gxn-f",
        "colab_type": "text"
      },
      "source": [
        "# Consultando una Base de Datos Relacional con Python.\n",
        "\n",
        "Ahora que descubrimos cómo crear un motor de base de datos y enumerar las tablas de la base de datos, es hora de conectarnos al motor y ocnsultar la base de datos.\n",
        "\n",
        "Recordemos que el termino consulta es solo una forma de decir que obtenemos datos de la Base de datos.\n",
        "\n",
        "\n",
        "El hello world de consultas de SQL es :"
      ]
    },
    {
      "cell_type": "code",
      "metadata": {
        "id": "dclWWGMb481Z",
        "colab_type": "code",
        "colab": {}
      },
      "source": [
        "SELECT * FROM Table_Name"
      ],
      "execution_count": null,
      "outputs": []
    },
    {
      "cell_type": "markdown",
      "metadata": {
        "id": "FBObe0Lj9TCb",
        "colab_type": "text"
      },
      "source": [
        "Esta consulta devuelve todas las columnas de las filas de la tabla de interés.Por ejemplo , podriamos consultar la base de datos Chinook con:\n"
      ]
    },
    {
      "cell_type": "code",
      "metadata": {
        "id": "7TbEUDYn9eBx",
        "colab_type": "code",
        "colab": {}
      },
      "source": [
        "SELECT * FROM Album"
      ],
      "execution_count": null,
      "outputs": []
    },
    {
      "cell_type": "markdown",
      "metadata": {
        "id": "zJjRfs7m93A6",
        "colab_type": "text"
      },
      "source": [
        "Esta es una consulta SQL y necesitamos descubrir cómo hacer una consulta usando Python , con SQLAlchemy y de hecho también usaremos pandas para almacenar los resultados de nuestras consultas.\n",
        "\n",
        "El flujo de tranajo sera el siguiente:\n",
        "\n",
        "* Importremos los paquetes y funciones necesarios.\n",
        "\n",
        "* Crearemos el motor.\n",
        "\n",
        "* Nos concectaremos al motor.\n",
        "\n",
        "* Consultaremos la base de datos.\n",
        "\n",
        "* Guardaremos los resultados en un DataFrame.\n",
        "\n",
        "* Cerraremos la conexión.\n",
        "\n",
        "Ahora veamos como hacer cada uno de estos pasos:\n",
        "\n",
        "Crearemos el motor usando la función `create_engine`."
      ]
    },
    {
      "cell_type": "code",
      "metadata": {
        "id": "FYfmhXNG9tNV",
        "colab_type": "code",
        "colab": {}
      },
      "source": [
        "from sqlalchemy import create_engine\n",
        "import pandas as pd\n"
      ],
      "execution_count": 27,
      "outputs": []
    },
    {
      "cell_type": "markdown",
      "metadata": {
        "id": "T3SVQHCA-13J",
        "colab_type": "text"
      },
      "source": [
        "Para concetarnos a la base de datos despues de crear el motor, creamos una variable llamada `con` aplicando el metodo `connect()` a nuestro objeto:"
      ]
    },
    {
      "cell_type": "code",
      "metadata": {
        "id": "gKFjjfMO-1Xs",
        "colab_type": "code",
        "colab": {}
      },
      "source": [
        "engine = create_engine('sqlite:///Chinook.sqlite')\n",
        "con = engine.connect()\n"
      ],
      "execution_count": 82,
      "outputs": []
    },
    {
      "cell_type": "markdown",
      "metadata": {
        "id": "oOdUQbNe_Td9",
        "colab_type": "text"
      },
      "source": [
        "Para consultar la base de datos, aplicamos el método `ejecute()` pasando un solo argumento , en este caso sera nuestro hola mundo:\n",
        "\n",
        "Esto crea un objeto de resultados de SQLAlchemy que asignamos a nuestra variable `rs`."
      ]
    },
    {
      "cell_type": "code",
      "metadata": {
        "id": "CIDR-Tfl_QW0",
        "colab_type": "code",
        "colab": {}
      },
      "source": [
        "rs = con.execute(\"SELECT * FROM Track\")"
      ],
      "execution_count": 78,
      "outputs": []
    },
    {
      "cell_type": "markdown",
      "metadata": {
        "id": "NoEzoEbJABzM",
        "colab_type": "text"
      },
      "source": [
        "Para convertir los objetos en resultados de un DATAFRAME , aplicamos el método `pd.DataFrame()` "
      ]
    },
    {
      "cell_type": "code",
      "metadata": {
        "id": "RLw9lw_X_hTC",
        "colab_type": "code",
        "colab": {}
      },
      "source": [
        "df = pd.DataFrame(rs.fetchall())\n",
        "df.columns = rs.keys()"
      ],
      "execution_count": 79,
      "outputs": []
    },
    {
      "cell_type": "markdown",
      "metadata": {
        "id": "QIES3u7cAUuA",
        "colab_type": "text"
      },
      "source": [
        "`fetchall` recupera todaslas filas, para recuperar la conexión ejecutamos:"
      ]
    },
    {
      "cell_type": "code",
      "metadata": {
        "id": "Dis3LFAmAR7Z",
        "colab_type": "code",
        "colab": {}
      },
      "source": [
        "con.close()"
      ],
      "execution_count": 80,
      "outputs": []
    },
    {
      "cell_type": "markdown",
      "metadata": {
        "id": "VFvuO1iHAgEM",
        "colab_type": "text"
      },
      "source": [
        "Luego podemos imprimir elencabezado del DataFrame para comprobar que neustros datos sean correctos."
      ]
    },
    {
      "cell_type": "code",
      "metadata": {
        "id": "0WzT0VBXAdh7",
        "colab_type": "code",
        "colab": {
          "base_uri": "https://localhost:8080/",
          "height": 153
        },
        "outputId": "878f700f-87d0-4f0b-c3d4-a60fd39f50bd"
      },
      "source": [
        "print(df.head())"
      ],
      "execution_count": 76,
      "outputs": [
        {
          "output_type": "stream",
          "text": [
            "   0                                        1  2  ...       6         7     8\n",
            "0  1  For Those About To Rock (We Salute You)  1  ...  343719  11170334  0.99\n",
            "1  2                        Balls to the Wall  2  ...  342562   5510424  0.99\n",
            "2  3                          Fast As a Shark  3  ...  230619   3990994  0.99\n",
            "3  4                        Restless and Wild  3  ...  252051   4331779  0.99\n",
            "4  5                     Princess of the Dawn  3  ...  375418   6290521  0.99\n",
            "\n",
            "[5 rows x 9 columns]\n"
          ],
          "name": "stdout"
        }
      ]
    },
    {
      "cell_type": "markdown",
      "metadata": {
        "id": "SrDiEXpWBWR5",
        "colab_type": "text"
      },
      "source": [
        "Podemos ver que los nombres de las columnas no están correctamente definidos, para solucionar esto , antes de cerrar la conexción , configuramos el parametro `df.columns = rs.keys()`"
      ]
    },
    {
      "cell_type": "code",
      "metadata": {
        "id": "0bT-xgZqAh2n",
        "colab_type": "code",
        "colab": {
          "base_uri": "https://localhost:8080/",
          "height": 153
        },
        "outputId": "7b5b0460-7c69-461d-f64b-1fe7d14340da"
      },
      "source": [
        "print(df.head())"
      ],
      "execution_count": 81,
      "outputs": [
        {
          "output_type": "stream",
          "text": [
            "   TrackId                                     Name  ...     Bytes  UnitPrice\n",
            "0        1  For Those About To Rock (We Salute You)  ...  11170334       0.99\n",
            "1        2                        Balls to the Wall  ...   5510424       0.99\n",
            "2        3                          Fast As a Shark  ...   3990994       0.99\n",
            "3        4                        Restless and Wild  ...   4331779       0.99\n",
            "4        5                     Princess of the Dawn  ...   6290521       0.99\n",
            "\n",
            "[5 rows x 9 columns]\n"
          ],
          "name": "stdout"
        }
      ]
    },
    {
      "cell_type": "markdown",
      "metadata": {
        "id": "CDppfeNcB7F_",
        "colab_type": "text"
      },
      "source": [
        "Una última nota, como ya sabemos que abrir archivos de texto sin formato podemos usar la construcción del administrador de contexto para abrir una conexión lo que nos ahorrara problemas para cerrar la conexión más tarde."
      ]
    },
    {
      "cell_type": "code",
      "metadata": {
        "id": "GDg-pJ6yB6GK",
        "colab_type": "code",
        "colab": {}
      },
      "source": [
        "with engine.connect() as con:\n",
        "  rs = con.execute(\"SELECT TrackId,Name,UnitPrice FROM Track\")\n",
        "  df = pd.DataFrame(rs.fetchmany(size=5))\n",
        "  df.columns = rs.keys()"
      ],
      "execution_count": 86,
      "outputs": []
    },
    {
      "cell_type": "markdown",
      "metadata": {
        "id": "7dDjDcQZCpwo",
        "colab_type": "text"
      },
      "source": [
        "Hay otras diferencia que podemos notar entre el administrador de contexto y el código anterior, ahora tengo nombres de la columna Track todo lo que hacemos es importar esos nombres de las columnas.\n",
        "\n",
        "Así es como seleccionamos columnas de interes para analizar, mientras que con `SELECT *` seleccionamos todas las columnas de nuestra tabla de datos.\n",
        "\n",
        "Tmabién usamos el método `fetchmany` con el tamaño del argumento que es igual a 5, esto importa 5 filas en lugar de todas las filas."
      ]
    },
    {
      "cell_type": "code",
      "metadata": {
        "id": "UJBLyjibCZrN",
        "colab_type": "code",
        "colab": {
          "base_uri": "https://localhost:8080/",
          "height": 204
        },
        "outputId": "667efda5-2beb-4393-e7f9-f9f6aeec0002"
      },
      "source": [
        "df.head()"
      ],
      "execution_count": 87,
      "outputs": [
        {
          "output_type": "execute_result",
          "data": {
            "text/html": [
              "<div>\n",
              "<style scoped>\n",
              "    .dataframe tbody tr th:only-of-type {\n",
              "        vertical-align: middle;\n",
              "    }\n",
              "\n",
              "    .dataframe tbody tr th {\n",
              "        vertical-align: top;\n",
              "    }\n",
              "\n",
              "    .dataframe thead th {\n",
              "        text-align: right;\n",
              "    }\n",
              "</style>\n",
              "<table border=\"1\" class=\"dataframe\">\n",
              "  <thead>\n",
              "    <tr style=\"text-align: right;\">\n",
              "      <th></th>\n",
              "      <th>TrackId</th>\n",
              "      <th>Name</th>\n",
              "      <th>UnitPrice</th>\n",
              "    </tr>\n",
              "  </thead>\n",
              "  <tbody>\n",
              "    <tr>\n",
              "      <th>0</th>\n",
              "      <td>1</td>\n",
              "      <td>For Those About To Rock (We Salute You)</td>\n",
              "      <td>0.99</td>\n",
              "    </tr>\n",
              "    <tr>\n",
              "      <th>1</th>\n",
              "      <td>2</td>\n",
              "      <td>Balls to the Wall</td>\n",
              "      <td>0.99</td>\n",
              "    </tr>\n",
              "    <tr>\n",
              "      <th>2</th>\n",
              "      <td>3</td>\n",
              "      <td>Fast As a Shark</td>\n",
              "      <td>0.99</td>\n",
              "    </tr>\n",
              "    <tr>\n",
              "      <th>3</th>\n",
              "      <td>4</td>\n",
              "      <td>Restless and Wild</td>\n",
              "      <td>0.99</td>\n",
              "    </tr>\n",
              "    <tr>\n",
              "      <th>4</th>\n",
              "      <td>5</td>\n",
              "      <td>Princess of the Dawn</td>\n",
              "      <td>0.99</td>\n",
              "    </tr>\n",
              "  </tbody>\n",
              "</table>\n",
              "</div>"
            ],
            "text/plain": [
              "   TrackId                                     Name  UnitPrice\n",
              "0        1  For Those About To Rock (We Salute You)       0.99\n",
              "1        2                        Balls to the Wall       0.99\n",
              "2        3                          Fast As a Shark       0.99\n",
              "3        4                        Restless and Wild       0.99\n",
              "4        5                     Princess of the Dawn       0.99"
            ]
          },
          "metadata": {
            "tags": []
          },
          "execution_count": 87
        }
      ]
    },
    {
      "cell_type": "markdown",
      "metadata": {
        "id": "C35qUUR8FbT9",
        "colab_type": "text"
      },
      "source": [
        "## Filtrando los registros de su base de datos usando SQL's WHERE\n",
        "\n",
        "Ahora podemos ejecutar una consulta SQL básica para seleccionar registros de cualquier tabla en nuestra base de datos y también podemos realizar personalizaciones de consultas simples para seleccionar columnas particulares y números de filas.\n",
        "\n",
        "\n",
        "Hay un par de opciones de consulta SQL estándar que lo ayudarán en su viaje para convertirse en un ninja SQL.\n",
        "\n",
        "A continuación veremos un ejemplo de como hacerlo:"
      ]
    },
    {
      "cell_type": "code",
      "metadata": {
        "id": "WmGm7SEHFvNE",
        "colab_type": "code",
        "colab": {
          "base_uri": "https://localhost:8080/",
          "height": 153
        },
        "outputId": "8749196e-2cfb-44eb-80e7-28d71f7fe114"
      },
      "source": [
        "# Crear motor\n",
        "engine = create_engine('sqlite:///Chinook.sqlite')\n",
        "\n",
        "# Abrir motor\n",
        "# Hacer consulta SQL\n",
        "# Asignar valores obtenidos a un DataFrame\n",
        "# Mantener valores de columnas\n",
        "with engine.connect() as con:\n",
        "    rs = con.execute(\"SELECT * FROM Employee WHERE EmployeeId >= 3\")\n",
        "    df = pd.DataFrame(rs.fetchall())\n",
        "    df.columns = rs.keys()\n",
        "\n",
        "# Imprimir dataframe\n",
        "print(df.head())"
      ],
      "execution_count": 89,
      "outputs": [
        {
          "output_type": "stream",
          "text": [
            "   EmployeeId  LastName  ...                Fax                     Email\n",
            "0           3   Peacock  ...  +1 (403) 262-6712      jane@chinookcorp.com\n",
            "1           4      Park  ...  +1 (403) 263-4289  margaret@chinookcorp.com\n",
            "2           5   Johnson  ...   1 (780) 836-9543     steve@chinookcorp.com\n",
            "3           6  Mitchell  ...  +1 (403) 246-9899   michael@chinookcorp.com\n",
            "4           7      King  ...  +1 (403) 456-8485    robert@chinookcorp.com\n",
            "\n",
            "[5 rows x 15 columns]\n"
          ],
          "name": "stdout"
        }
      ]
    },
    {
      "cell_type": "markdown",
      "metadata": {
        "id": "fy4mN5eJGsLI",
        "colab_type": "text"
      },
      "source": [
        "## Ordenar registros SQL con ORDER BY\n",
        "\n",
        "También podemos ordenar los resultados de una consulta SQL. Por ejemplo, si desea obtener todos los registros de la tabla `Employee` de la base de datos Chinook y ordenarlos en orden creciente por la columna `Birthdate`, podemos hacerlo con la siguiente consulta:"
      ]
    },
    {
      "cell_type": "code",
      "metadata": {
        "id": "w17RZAsmGBkT",
        "colab_type": "code",
        "colab": {
          "base_uri": "https://localhost:8080/",
          "height": 153
        },
        "outputId": "8cf857c5-b03d-4d77-b572-32b501d2f567"
      },
      "source": [
        "# Crear motor\n",
        "engine = create_engine('sqlite:///Chinook.sqlite')\n",
        "\n",
        "# Consulta con administrador de contexto )\n",
        "with engine.connect() as con:\n",
        "    rs = con.execute(\"SELECT * FROM Customer ORDER BY SupportRepId\")\n",
        "    df = pd.DataFrame(rs.fetchall())\n",
        "\n",
        "    # Establecer los nombres de columna del DataFrame\n",
        "    df.columns = rs.keys()\n",
        "\n",
        "# Imprimir DataFrame\n",
        "print(df.head())\n"
      ],
      "execution_count": 91,
      "outputs": [
        {
          "output_type": "stream",
          "text": [
            "   CustomerId FirstName  ...                          Email SupportRepId\n",
            "0           1      Luís  ...           luisg@embraer.com.br            3\n",
            "1           3  François  ...            ftremblay@gmail.com            3\n",
            "2          12   Roberto  ...  roberto.almeida@riotur.gov.br            3\n",
            "3          15  Jennifer  ...            jenniferp@rogers.ca            3\n",
            "4          18  Michelle  ...              michelleb@aol.com            3\n",
            "\n",
            "[5 rows x 13 columns]\n"
          ],
          "name": "stdout"
        }
      ]
    },
    {
      "cell_type": "markdown",
      "metadata": {
        "id": "arWzqL0mICqC",
        "colab_type": "text"
      },
      "source": [
        "Ahora deseamos obtener todos los registros de la tabla Cliente de la base de datos Chinook y ordenarlos en orden creciente por la columna SupportRepId, puede hacerlo con la siguiente consulta:"
      ]
    },
    {
      "cell_type": "code",
      "metadata": {
        "id": "8mTsYlD0HxGp",
        "colab_type": "code",
        "colab": {
          "base_uri": "https://localhost:8080/",
          "height": 153
        },
        "outputId": "f3f8c71b-81cd-4d2c-ae30-0232c47189cd"
      },
      "source": [
        "# Crear motor\n",
        "engine = create_engine('sqlite:///Chinook.sqlite')\n",
        "\n",
        "# Consulta con administrador de contexto \"SELECT * FROM Employee ORDER BY BirthDate\")\n",
        "with engine.connect() as con:\n",
        "    rs = con.execute(\"SELECT * FROM Employee ORDER BY BirthDate\")\n",
        "    df = pd.DataFrame(rs.fetchall())\n",
        "\n",
        "    # Establecer los nombres de columna del DataFrame\n",
        "    df.columns = rs.keys()\n",
        "\n",
        "# Imprimir DataFrame\n",
        "print(df.head())\n"
      ],
      "execution_count": 92,
      "outputs": [
        {
          "output_type": "stream",
          "text": [
            "   EmployeeId  LastName  ...                Fax                     Email\n",
            "0           4      Park  ...  +1 (403) 263-4289  margaret@chinookcorp.com\n",
            "1           2   Edwards  ...  +1 (403) 262-3322     nancy@chinookcorp.com\n",
            "2           1     Adams  ...  +1 (780) 428-3457    andrew@chinookcorp.com\n",
            "3           5   Johnson  ...   1 (780) 836-9543     steve@chinookcorp.com\n",
            "4           8  Callahan  ...  +1 (403) 467-8772     laura@chinookcorp.com\n",
            "\n",
            "[5 rows x 15 columns]\n"
          ],
          "name": "stdout"
        }
      ]
    }
  ]
}