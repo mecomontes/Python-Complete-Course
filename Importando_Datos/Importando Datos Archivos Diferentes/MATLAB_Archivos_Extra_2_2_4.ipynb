{
  "nbformat": 4,
  "nbformat_minor": 0,
  "metadata": {
    "colab": {
      "name": "MATLAB_Archivos_Extra_2_2_4.ipynb",
      "provenance": [],
      "collapsed_sections": []
    },
    "kernelspec": {
      "name": "python3",
      "display_name": "Python 3"
    }
  },
  "cells": [
    {
      "cell_type": "markdown",
      "metadata": {
        "id": "QF3CAxpe4sCb",
        "colab_type": "text"
      },
      "source": [
        "<center>\n",
        "\n",
        "![](https://github.com/Chilangdon20/PYTHON/blob/master/Curso%20Basico/CursoExpress/Imagenes/MALT.png?raw=true)\n",
        "\n",
        "</center>\n",
        "\n",
        "# Importando Archivos MATLAB\n",
        "\n",
        "\n",
        "Introducción:\n",
        "\n",
        "*MATLAB* que significa Matrix Laboratory , es un entorno de desarrollo numero, que es un estándar de la industria en las disciplinas de inenieria y ciencia.Esto se debe en parte a sus poderosas capacidades de álgebra lineal, en su naturaleza propia y en parte a lo dificíl que le resulta al mundo academico deshacerse de los viejos habitos independientemente de las razones de sus uso generalizado, el hecho es que muchas personas usan MATLAB y guardan sus datos como `file.mat` que es el formato de archivo nativo de MATLAB.\n",
        "\n",
        "Ahora ¿Cómo podemos importarlos en Python?\n",
        "\n",
        "Afortunadamente para nosotros , la libreria scipy tiene las funciones `scipy.io.loadmat()` -(Leer archivos) & `scipy.io.savemat()`-(Escribir archivos).Pero que hay exacatmente en un archivo `.mat`\n",
        "<center>\n",
        "\n",
        "![](https://blogs.mathworks.com/images/desktop/ken_orr_graphical_user_interfaces_are_just_plain_better/matlab_7_6.png)\n",
        "\n",
        "\n",
        "\n",
        "</center>\n",
        "\n",
        "En particular podemos ver el espacio de trabajo de MATLAB donde se almacenan todas sus , este espacio de trabajo puede contener strings, flotantes, vectores, matrices entre otros.\n",
        "\n",
        "\n",
        "Un archivo `.mat` es simplemente una colección de tales objetos.Ahora esto significa que al importar nuestros datos en python nosotros esperaramos una serie de diferentes variables y objetos, en el siguiente código primero importamos `scipy`"
      ]
    },
    {
      "cell_type": "code",
      "metadata": {
        "id": "KyYFHsGb4RAX",
        "colab_type": "code",
        "colab": {}
      },
      "source": [
        "import scipy.io"
      ],
      "execution_count": 1,
      "outputs": []
    },
    {
      "cell_type": "markdown",
      "metadata": {
        "id": "wc5tA3oi7g6_",
        "colab_type": "text"
      },
      "source": [
        "Despues cargamos nuestra ruta de archivo."
      ]
    },
    {
      "cell_type": "code",
      "metadata": {
        "id": "C9IbOsYq7Wgu",
        "colab_type": "code",
        "colab": {}
      },
      "source": [
        "filename = '/content/data2.mat'"
      ],
      "execution_count": 14,
      "outputs": []
    },
    {
      "cell_type": "markdown",
      "metadata": {
        "id": "eLdRhWPv7j-Q",
        "colab_type": "text"
      },
      "source": [
        "Asingamos una variable y guardamos nuestro archivo:"
      ]
    },
    {
      "cell_type": "code",
      "metadata": {
        "id": "cfEijIeM7dwm",
        "colab_type": "code",
        "colab": {
          "base_uri": "https://localhost:8080/",
          "height": 34
        },
        "outputId": "8f86d0be-92b9-4ff9-80ed-8b3446208e80"
      },
      "source": [
        "mat = scipy.io.loadmat(filename)\n",
        "print(type(mat))"
      ],
      "execution_count": 15,
      "outputs": [
        {
          "output_type": "stream",
          "text": [
            "<class 'dict'>\n"
          ],
          "name": "stdout"
        }
      ]
    },
    {
      "cell_type": "markdown",
      "metadata": {
        "id": "HeirxPQ28xrp",
        "colab_type": "text"
      },
      "source": [
        "¿Cómo se relaciona este diccionario con una espacio de trabajo MATLAB?\n",
        "\n",
        "Es sencillo, las claves del diccionario Python , son los nombres de las variables MATLAB y los vaores del dcccionario Python son los objetos asignados a esas variables.\n",
        "\n",
        "### EXTRA:\n",
        "\n",
        "Aquí, descubriremos qué hay en el diccionario MATLAB que cargamos en el ejercicio anterior.\n",
        "\n",
        "*Usaamos el método `.keys()` en el  diccionario `mat `para imprimir las claves. La mayoría de estas claves (de hecho, las que NO comienzan y terminan con '__') son variables del entorno MATLAB correspondiente."
      ]
    },
    {
      "cell_type": "code",
      "metadata": {
        "id": "NXkVXIuv9GHm",
        "colab_type": "code",
        "colab": {
          "base_uri": "https://localhost:8080/",
          "height": 71
        },
        "outputId": "2f1dbb20-1ca7-4b22-c946-befaad16eaf3"
      },
      "source": [
        "import numpy as np\n",
        "import matplotlib.pyplot as plt\n",
        "\n",
        "print(mat.keys())\n",
        "\n",
        "print(type(mat['CYratioCyt']))\n"
      ],
      "execution_count": 23,
      "outputs": [
        {
          "output_type": "stream",
          "text": [
            "dict_keys(['__header__', '__version__', '__globals__', 'rfpCyt', 'rfpNuc', 'cfpNuc', 'cfpCyt', 'yfpNuc', 'yfpCyt', 'CYratioCyt'])\n",
            "<class 'numpy.ndarray'>\n"
          ],
          "name": "stdout"
        }
      ]
    },
    {
      "cell_type": "markdown",
      "metadata": {
        "id": "EKreLhdx-Xl9",
        "colab_type": "text"
      },
      "source": [
        "Imprimimos el tipo del valor correspondiente a la clave `CYratioCyt` en `mat`, recordemos que `mat['CYratioCyt']` accede al valor."
      ]
    },
    {
      "cell_type": "code",
      "metadata": {
        "id": "yMzN6SVN9xqp",
        "colab_type": "code",
        "colab": {
          "base_uri": "https://localhost:8080/",
          "height": 34
        },
        "outputId": "f1b7de2b-804a-477a-feb1-0801db16ddb4"
      },
      "source": [
        "# Print the shape of the value corresponding to the key 'CYratioCyt'\n",
        "print(np.shape(mat['CYratioCyt']))"
      ],
      "execution_count": 21,
      "outputs": [
        {
          "output_type": "stream",
          "text": [
            "(200, 137)\n"
          ],
          "name": "stdout"
        }
      ]
    },
    {
      "cell_type": "markdown",
      "metadata": {
        "id": "3uXeIg72-4_h",
        "colab_type": "text"
      },
      "source": [
        "Ahora veremos la gráfica de estos datos:"
      ]
    },
    {
      "cell_type": "code",
      "metadata": {
        "id": "GKPvcY8K-v9_",
        "colab_type": "code",
        "colab": {
          "base_uri": "https://localhost:8080/",
          "height": 294
        },
        "outputId": "355512bc-aa14-4e4c-f3f4-e144269f5790"
      },
      "source": [
        "data = mat['CYratioCyt'][25, 5:]\n",
        "fig = plt.figure()\n",
        "plt.plot(data,color='green')\n",
        "plt.xlabel('tiempo (min.)')\n",
        "plt.ylabel('fluorescencia normalizada (medida de expresión)')\n",
        "plt.show()"
      ],
      "execution_count": 26,
      "outputs": [
        {
          "output_type": "display_data",
          "data": {
            "image/png": "[encoded data removed]",
            "text/plain": [
              "<Figure size 432x288 with 1 Axes>"
            ]
          },
          "metadata": {
            "tags": [],
            "needs_background": "light"
          }
        }
      ]
    }
  ]
}