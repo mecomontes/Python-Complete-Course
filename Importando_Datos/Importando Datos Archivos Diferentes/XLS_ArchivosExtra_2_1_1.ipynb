{
  "nbformat": 4,
  "nbformat_minor": 0,
  "metadata": {
    "colab": {
      "name": "ArchivosExtra_2_1_1.ipynb",
      "provenance": [],
      "collapsed_sections": []
    },
    "kernelspec": {
      "name": "python3",
      "display_name": "Python 3"
    }
  },
  "cells": [
    {
      "cell_type": "markdown",
      "metadata": {
        "id": "vM3TP-rwb2NU",
        "colab_type": "text"
      },
      "source": [
        "<center>\n",
        "\n",
        "![](https://raw.githubusercontent.com/Chilangdon20/PYTHON/master/Curso%20Basico/CursoExpress/Imagenes/pickle.png)\n",
        "\n",
        "\n",
        "\n",
        "</center>\n",
        "\n",
        "\n",
        "# Introducción a otro tipo de archivos.\n",
        "\n",
        "## Introducción:\n",
        "\n",
        "Ahora que hemos dominado el arte de importar archivos planos en Python , es hora de revisar una serie de otros tipos de archivos con los que necesitaremos trabajar como CD.\n",
        "\n",
        "En este notebook aprenderemos a importar hojas de cálculo Excel , que utilizan profesiones de todas las disciplinas para almacenar sus datos.Tambien nos familiarizaremos con l aimportación de archivos *MATLAB,SAS & STATA* que son comunes.\n",
        "\n",
        "Tambien veremos como importar archivos HDF5 y la importancia de un archivo HFD5 que contienen datos del proyecto OBservatorio de ondas gravitacionales del onteferometro Laser, que proporciono apoyo empirico a la teoria de ondas gravitacionales de Einstein en 2016.\n",
        "\n",
        "\n",
        "Los archivos *HDF5* cada vez se convierten en una forma mas frecuente de almacenar grander conjntos de datos , utilizado por investigadores de [LIGO](https://www.ligo.caltech.edu/).\n",
        "\n",
        "Otro tipo de archivo que aprenderemos en este bloque sera el `Pickle file`, este es un archivo nativo de Python.El concepto de `Pickle file` esta motivado por lo siguiente:\n",
        "\n",
        "**Si bien puede ser fácil  guardar una matriz numpy o un DataFrame en un archivo plano, hay muchos otros tipos de datos como diccionarios y listas , para los cuales no es obvio como almacenarlos**\n",
        "\n",
        "Justamente aqui es donde entra `'Pikle file'` , si deseamos que nuestros archivos sean legibles por humanos, podemos guardarlos como archivos de texto de manera inteligente y justamente los JSON Files son apropiados para los diccionarios en Python , no te preocupes mas adelante tambien tocaremos estos archivos.\n",
        "\n",
        "Todo esto significa convertir el objeto en una secuencia de bytes o bytestream.Como este es un curso de importación de datos en Python aprenderemos a importar archivos ya encurtidos(`Pikle`).\n",
        "\n",
        "Como lo hemo hecho antes, al abrir un archivo queremos especificar que sea solamente de lectura, también quiero especificar que es un archivo binario, lo que significa que es legible por lenguaje computadora y no lenguaje humano.\n",
        "\n",
        "A continuación veremos un ejemplo no ejecutable:"
      ]
    },
    {
      "cell_type": "code",
      "metadata": {
        "id": "M8hiVAHzbifs",
        "colab_type": "code",
        "colab": {}
      },
      "source": [
        "import pickle\n",
        "with open('file_pikle.pk1','rb') as file: # `rb` significa binaryread lenguaje maquina\n",
        "  data = pickle.load(file)\n",
        "print(data)"
      ],
      "execution_count": null,
      "outputs": []
    },
    {
      "cell_type": "markdown",
      "metadata": {
        "id": "NJoYsUi8gHWg",
        "colab_type": "text"
      },
      "source": [
        "Luego veremos ejemploscomo este:"
      ]
    },
    {
      "cell_type": "code",
      "metadata": {
        "id": "imm9JFuJgNad",
        "colab_type": "code",
        "colab": {}
      },
      "source": [
        "import pandas as pd\n",
        "file = 'https://assets.datacamp.com/production/repositories/487/datasets/5e8897e4624f8577ed0d33aeafbe7bd88bfc424b/battledeath.xlsx'\n",
        "data = pd.ExcelFile(file)\n"
      ],
      "execution_count": 1,
      "outputs": []
    },
    {
      "cell_type": "markdown",
      "metadata": {
        "id": "XMDZRvDygW-u",
        "colab_type": "text"
      },
      "source": [
        "Estos son tan conocidos que no necesitan presentación, un archivo excel generalment consta de varias hojas de calculo, hay muchas formas de importar archivos Excel y podremos hacerlo con Pandas , ya que estos producen DataFrame de forma nativa, la cual es ideal para los trabajos realizados de nuestro interes.\n",
        "\n",
        "Como un archiuvo de Excel consta de hojas de calculo, lo primero que debemos hacer es averiguar cuales son las hojas, para esto existe el método `sheet_names`."
      ]
    },
    {
      "cell_type": "code",
      "metadata": {
        "id": "pRJxZ0ADhL4M",
        "colab_type": "code",
        "colab": {
          "base_uri": "https://localhost:8080/",
          "height": 34
        },
        "outputId": "7aa96600-b4d7-43c1-fb4f-0899ed8c9885"
      },
      "source": [
        "print(data.sheet_names)"
      ],
      "execution_count": 2,
      "outputs": [
        {
          "output_type": "stream",
          "text": [
            "['2002', '2004']\n"
          ],
          "name": "stdout"
        }
      ]
    },
    {
      "cell_type": "markdown",
      "metadata": {
        "id": "g_9P6g27hR-h",
        "colab_type": "text"
      },
      "source": [
        "Para luego cargar una hoja en particular como un DataFrame solo necesitamos pasar el mètodo `parse` aplicandolo al objeto en este caso `data`."
      ]
    },
    {
      "cell_type": "code",
      "metadata": {
        "id": "fTJux0EIhOFw",
        "colab_type": "code",
        "colab": {}
      },
      "source": [
        "df1 = data.parse('2002')"
      ],
      "execution_count": 4,
      "outputs": []
    },
    {
      "cell_type": "markdown",
      "metadata": {
        "id": "9Dhl53tWjEuP",
        "colab_type": "text"
      },
      "source": [
        "Te guste o no, cualquier científico de datos que trabaje tendrá que lidiar con las hojas de cálculo de Excel en algún momento. \n",
        "\n",
        "¡Sin embargo, no siempre querrá hacerlo en Excel! Aquí, aprenderás cómo usar pandas para importar hojas de cálculo Excel y cómo enumerar los nombres de las hojas en cualquier archivo .xlsx cargado.\n",
        "\n",
        "Dado un archivo Excel importado en una hoja de cálculo variable, puedes recuperar una lista de los nombres de las hojas utilizando el atributo `spreadsheet.sheet_names`.\n",
        "\n",
        "\n",
        "Específicamente, cargarás y revisarás la hoja de cálculo 'battledeath.xlsx', modificada del conjunto de datos del Instituto de Investigación de la Paz de Oslo (PRIO). Estos datos contienen tasas de mortalidad ajustadas por edad debido a la guerra en varios países durante varios años."
      ]
    },
    {
      "cell_type": "code",
      "metadata": {
        "id": "uNk3xOq4hgBE",
        "colab_type": "code",
        "colab": {
          "base_uri": "https://localhost:8080/",
          "height": 34
        },
        "outputId": "dd8c75f6-55a7-4132-b0a3-7d9d5850ce62"
      },
      "source": [
        "import pandas as pd\n",
        "file = 'https://assets.datacamp.com/production/repositories/487/datasets/5e8897e4624f8577ed0d33aeafbe7bd88bfc424b/battledeath.xlsx'\n",
        "xls = pd.ExcelFile(file)\n",
        "print(xls.sheet_names)"
      ],
      "execution_count": 16,
      "outputs": [
        {
          "output_type": "stream",
          "text": [
            "['2002', '2004']\n"
          ],
          "name": "stdout"
        }
      ]
    },
    {
      "cell_type": "markdown",
      "metadata": {
        "id": "eQQ3kiAgkmMQ",
        "colab_type": "text"
      },
      "source": [
        "Ahora seleccionaremos una hoja especifica de nuestro archivo con el comando `parse`:"
      ]
    },
    {
      "cell_type": "code",
      "metadata": {
        "id": "vJIGfgi2jpSU",
        "colab_type": "code",
        "colab": {
          "base_uri": "https://localhost:8080/",
          "height": 119
        },
        "outputId": "9e49e436-c8e9-4d57-9598-7f01d50c8727"
      },
      "source": [
        "# Carga hoja 1 '2004'\n",
        "df1 = xls.parse('2004')\n",
        "# imprimir encabezado\n",
        "print(df1.head())"
      ],
      "execution_count": 8,
      "outputs": [
        {
          "output_type": "stream",
          "text": [
            "  War(country)      2004\n",
            "0  Afghanistan  9.451028\n",
            "1      Albania  0.130354\n",
            "2      Algeria  3.407277\n",
            "3      Andorra  0.000000\n",
            "4       Angola  2.597931\n"
          ],
          "name": "stdout"
        }
      ]
    },
    {
      "cell_type": "code",
      "metadata": {
        "id": "CIy97wbmlAt0",
        "colab_type": "code",
        "colab": {
          "base_uri": "https://localhost:8080/",
          "height": 119
        },
        "outputId": "211f1818-f02e-4b97-e9fb-94e99874e9b3"
      },
      "source": [
        "# Craga segunda hoja: df2\n",
        "df2 = xls.parse(0)\n",
        "# imprimir encabezado\n",
        "print(df2.head())"
      ],
      "execution_count": 11,
      "outputs": [
        {
          "output_type": "stream",
          "text": [
            "  War, age-adjusted mortality due to       2002\n",
            "0                        Afghanistan  36.083990\n",
            "1                            Albania   0.128908\n",
            "2                            Algeria  18.314120\n",
            "3                            Andorra   0.000000\n",
            "4                             Angola  18.964560\n"
          ],
          "name": "stdout"
        }
      ]
    },
    {
      "cell_type": "markdown",
      "metadata": {
        "id": "6j7EcBuflqkf",
        "colab_type": "text"
      },
      "source": [
        "Ahora analizaremos las hojas de cálculo y utilizaremos argumentos adicionales para omitir filas, renombrar columnas y seleccionar solo columnas particulares.\n",
        "\n",
        "Como antes, usaremos el método `parse()`. Esta vez, sin embargo, agregaremos argumentos adicionales `skiprows`, `names` y `usecols`. `skiprows`, nombra las columnas y designa qué columnas analizar, respectivamente. Todos estos argumentos pueden asignarse a listas que contienen los números de fila, cadenas y números de columna específicos, según corresponda.\n",
        "\n",
        "*  Analizamos la primera hoja por índice. Al hacerlo, omitimos la primera fila de datos y nombre las columnas 'País' y 'AAM debido a War (2002)' usando los nombres de los argumentos. Todos los valores pasados ​​a skiprows y nombres deben ser de tipo lista.\n",
        "\n"
      ]
    },
    {
      "cell_type": "code",
      "metadata": {
        "id": "RiWsYbqjoe0Q",
        "colab_type": "code",
        "colab": {
          "base_uri": "https://localhost:8080/",
          "height": 419
        },
        "outputId": "7929b914-299c-44d8-d0cd-590ef974ce72"
      },
      "source": [
        "# Datos originales\n",
        "\n",
        "xls.parse()"
      ],
      "execution_count": 19,
      "outputs": [
        {
          "output_type": "execute_result",
          "data": {
            "text/html": [
              "<div>\n",
              "<style scoped>\n",
              "    .dataframe tbody tr th:only-of-type {\n",
              "        vertical-align: middle;\n",
              "    }\n",
              "\n",
              "    .dataframe tbody tr th {\n",
              "        vertical-align: top;\n",
              "    }\n",
              "\n",
              "    .dataframe thead th {\n",
              "        text-align: right;\n",
              "    }\n",
              "</style>\n",
              "<table border=\"1\" class=\"dataframe\">\n",
              "  <thead>\n",
              "    <tr style=\"text-align: right;\">\n",
              "      <th></th>\n",
              "      <th>War, age-adjusted mortality due to</th>\n",
              "      <th>2002</th>\n",
              "    </tr>\n",
              "  </thead>\n",
              "  <tbody>\n",
              "    <tr>\n",
              "      <th>0</th>\n",
              "      <td>Afghanistan</td>\n",
              "      <td>36.083990</td>\n",
              "    </tr>\n",
              "    <tr>\n",
              "      <th>1</th>\n",
              "      <td>Albania</td>\n",
              "      <td>0.128908</td>\n",
              "    </tr>\n",
              "    <tr>\n",
              "      <th>2</th>\n",
              "      <td>Algeria</td>\n",
              "      <td>18.314120</td>\n",
              "    </tr>\n",
              "    <tr>\n",
              "      <th>3</th>\n",
              "      <td>Andorra</td>\n",
              "      <td>0.000000</td>\n",
              "    </tr>\n",
              "    <tr>\n",
              "      <th>4</th>\n",
              "      <td>Angola</td>\n",
              "      <td>18.964560</td>\n",
              "    </tr>\n",
              "    <tr>\n",
              "      <th>...</th>\n",
              "      <td>...</td>\n",
              "      <td>...</td>\n",
              "    </tr>\n",
              "    <tr>\n",
              "      <th>187</th>\n",
              "      <td>Venezuela</td>\n",
              "      <td>0.000000</td>\n",
              "    </tr>\n",
              "    <tr>\n",
              "      <th>188</th>\n",
              "      <td>Vietnam</td>\n",
              "      <td>0.040222</td>\n",
              "    </tr>\n",
              "    <tr>\n",
              "      <th>189</th>\n",
              "      <td>Yemen, Rep.</td>\n",
              "      <td>0.074510</td>\n",
              "    </tr>\n",
              "    <tr>\n",
              "      <th>190</th>\n",
              "      <td>Zambia</td>\n",
              "      <td>0.044548</td>\n",
              "    </tr>\n",
              "    <tr>\n",
              "      <th>191</th>\n",
              "      <td>Zimbabwe</td>\n",
              "      <td>33.796200</td>\n",
              "    </tr>\n",
              "  </tbody>\n",
              "</table>\n",
              "<p>192 rows × 2 columns</p>\n",
              "</div>"
            ],
            "text/plain": [
              "    War, age-adjusted mortality due to       2002\n",
              "0                          Afghanistan  36.083990\n",
              "1                              Albania   0.128908\n",
              "2                              Algeria  18.314120\n",
              "3                              Andorra   0.000000\n",
              "4                               Angola  18.964560\n",
              "..                                 ...        ...\n",
              "187                          Venezuela   0.000000\n",
              "188                            Vietnam   0.040222\n",
              "189                        Yemen, Rep.   0.074510\n",
              "190                             Zambia   0.044548\n",
              "191                           Zimbabwe  33.796200\n",
              "\n",
              "[192 rows x 2 columns]"
            ]
          },
          "metadata": {
            "tags": []
          },
          "execution_count": 19
        }
      ]
    },
    {
      "cell_type": "code",
      "metadata": {
        "id": "rlxPay0vlNlM",
        "colab_type": "code",
        "colab": {
          "base_uri": "https://localhost:8080/",
          "height": 204
        },
        "outputId": "40da4129-e877-4be0-a65e-04bbe8d0424a"
      },
      "source": [
        "# Analizar la primera hoja : df1\n",
        "df1 = xls.parse(0, skiprows=[0], names=['País', 'AAM debido a la guerra (2002)'])\n",
        "\n",
        "# Imprimir encabezado DataFrame df1\n",
        "df1.head()\n",
        "\n"
      ],
      "execution_count": 22,
      "outputs": [
        {
          "output_type": "execute_result",
          "data": {
            "text/html": [
              "<div>\n",
              "<style scoped>\n",
              "    .dataframe tbody tr th:only-of-type {\n",
              "        vertical-align: middle;\n",
              "    }\n",
              "\n",
              "    .dataframe tbody tr th {\n",
              "        vertical-align: top;\n",
              "    }\n",
              "\n",
              "    .dataframe thead th {\n",
              "        text-align: right;\n",
              "    }\n",
              "</style>\n",
              "<table border=\"1\" class=\"dataframe\">\n",
              "  <thead>\n",
              "    <tr style=\"text-align: right;\">\n",
              "      <th></th>\n",
              "      <th>País</th>\n",
              "      <th>AAM debido a la guerra (2002)</th>\n",
              "    </tr>\n",
              "  </thead>\n",
              "  <tbody>\n",
              "    <tr>\n",
              "      <th>0</th>\n",
              "      <td>Albania</td>\n",
              "      <td>0.128908</td>\n",
              "    </tr>\n",
              "    <tr>\n",
              "      <th>1</th>\n",
              "      <td>Algeria</td>\n",
              "      <td>18.314120</td>\n",
              "    </tr>\n",
              "    <tr>\n",
              "      <th>2</th>\n",
              "      <td>Andorra</td>\n",
              "      <td>0.000000</td>\n",
              "    </tr>\n",
              "    <tr>\n",
              "      <th>3</th>\n",
              "      <td>Angola</td>\n",
              "      <td>18.964560</td>\n",
              "    </tr>\n",
              "    <tr>\n",
              "      <th>4</th>\n",
              "      <td>Antigua and Barbuda</td>\n",
              "      <td>0.000000</td>\n",
              "    </tr>\n",
              "  </tbody>\n",
              "</table>\n",
              "</div>"
            ],
            "text/plain": [
              "                  País  AAM debido a la guerra (2002)\n",
              "0              Albania                       0.128908\n",
              "1              Algeria                      18.314120\n",
              "2              Andorra                       0.000000\n",
              "3               Angola                      18.964560\n",
              "4  Antigua and Barbuda                       0.000000"
            ]
          },
          "metadata": {
            "tags": []
          },
          "execution_count": 22
        }
      ]
    },
    {
      "cell_type": "markdown",
      "metadata": {
        "id": "rOqg2xIEoBbi",
        "colab_type": "text"
      },
      "source": [
        "Analizamos la segunda hoja por índice. Al hacerlo, analizamos solo la primera columna con el parámetro usecols, omita la primera fila y cambie el nombre de la columna 'País'. El argumento pasado a usecols también debe ser de tipo lista."
      ]
    },
    {
      "cell_type": "code",
      "metadata": {
        "id": "Us2Jpfwdnlqe",
        "colab_type": "code",
        "colab": {
          "base_uri": "https://localhost:8080/",
          "height": 204
        },
        "outputId": "5f4dcdfa-c322-4903-892d-d3d619bc1957"
      },
      "source": [
        "# Analizar la primera columna de la segunda hoja : df2\n",
        "df2 = xls.parse(1, usecols=[0], skiprows=[0], names=['País'])\n",
        "\n",
        "# Imprimir encabezado DataFrame df2\n",
        "df2.head()"
      ],
      "execution_count": 23,
      "outputs": [
        {
          "output_type": "execute_result",
          "data": {
            "text/html": [
              "<div>\n",
              "<style scoped>\n",
              "    .dataframe tbody tr th:only-of-type {\n",
              "        vertical-align: middle;\n",
              "    }\n",
              "\n",
              "    .dataframe tbody tr th {\n",
              "        vertical-align: top;\n",
              "    }\n",
              "\n",
              "    .dataframe thead th {\n",
              "        text-align: right;\n",
              "    }\n",
              "</style>\n",
              "<table border=\"1\" class=\"dataframe\">\n",
              "  <thead>\n",
              "    <tr style=\"text-align: right;\">\n",
              "      <th></th>\n",
              "      <th>País</th>\n",
              "    </tr>\n",
              "  </thead>\n",
              "  <tbody>\n",
              "    <tr>\n",
              "      <th>0</th>\n",
              "      <td>Albania</td>\n",
              "    </tr>\n",
              "    <tr>\n",
              "      <th>1</th>\n",
              "      <td>Algeria</td>\n",
              "    </tr>\n",
              "    <tr>\n",
              "      <th>2</th>\n",
              "      <td>Andorra</td>\n",
              "    </tr>\n",
              "    <tr>\n",
              "      <th>3</th>\n",
              "      <td>Angola</td>\n",
              "    </tr>\n",
              "    <tr>\n",
              "      <th>4</th>\n",
              "      <td>Antigua and Barbuda</td>\n",
              "    </tr>\n",
              "  </tbody>\n",
              "</table>\n",
              "</div>"
            ],
            "text/plain": [
              "                  País\n",
              "0              Albania\n",
              "1              Algeria\n",
              "2              Andorra\n",
              "3               Angola\n",
              "4  Antigua and Barbuda"
            ]
          },
          "metadata": {
            "tags": []
          },
          "execution_count": 23
        }
      ]
    }
  ]
}