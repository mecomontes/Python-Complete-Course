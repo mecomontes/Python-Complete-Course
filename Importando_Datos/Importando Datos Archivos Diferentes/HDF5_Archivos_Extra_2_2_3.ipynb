{
  "nbformat": 4,
  "nbformat_minor": 0,
  "metadata": {
    "colab": {
      "name": "HDF5_Archivos_Extra_2_2_3.ipynb",
      "provenance": [],
      "collapsed_sections": []
    },
    "kernelspec": {
      "name": "python3",
      "display_name": "Python 3"
    }
  },
  "cells": [
    {
      "cell_type": "markdown",
      "metadata": {
        "id": "7k0IEKhe1MY0",
        "colab_type": "text"
      },
      "source": [
        "# Importando  archivos HDF5.\n",
        "\n",
        "## Introducción:\n",
        "\n",
        "Vemos que estan incrementando la manera de usar este tipo de archivos , ya que soportan grandes cantidadesde datos, *HDF5* o tambien conocido como Dato jerárquico con Formato version 5.\n",
        "\n",
        "Pero ¿De que tamaño estamos hablando?\n",
        "\n",
        "Etamos hablando de gigabytes o incluso terabytes de tamaño, HDF5 en si puede escalar exabytes.Exploremos con un un ejemplo concreco de LIGO, el proyecto del observatorio de ondas gravitacionales con interferometro laser.\n",
        "\n",
        "* primero importamos el paquete 'h5py'."
      ]
    },
    {
      "cell_type": "code",
      "metadata": {
        "id": "otfTBPhB1ECx",
        "colab_type": "code",
        "colab": {}
      },
      "source": [
        "# Importamos\n",
        "import h5py"
      ],
      "execution_count": 13,
      "outputs": []
    },
    {
      "cell_type": "markdown",
      "metadata": {
        "id": "ddy1Kyq92lVX",
        "colab_type": "text"
      },
      "source": [
        "Asignamos una variable a nuestra ruta de archivos."
      ]
    },
    {
      "cell_type": "code",
      "metadata": {
        "id": "vIZSl8l62Uos",
        "colab_type": "code",
        "colab": {}
      },
      "source": [
        "filename = 'https://assets.datacamp.com/production/repositories/487/datasets/ab9107b749b832daada36bfaa718d9a591a0d69c/L-L1_LOSC_4_V1-1126259446-32.hdf5'"
      ],
      "execution_count": 14,
      "outputs": []
    },
    {
      "cell_type": "markdown",
      "metadata": {
        "id": "sVI10YPg2tel",
        "colab_type": "text"
      },
      "source": [
        "Ahora importamos el archivo usando `h5py.File` con los argumentos de nuestro archivo y especificando que solo queremos leerlo."
      ]
    },
    {
      "cell_type": "code",
      "metadata": {
        "id": "kqjD3e382qrz",
        "colab_type": "code",
        "colab": {}
      },
      "source": [
        "data = h5py.File(filename,'r')"
      ],
      "execution_count": null,
      "outputs": []
    },
    {
      "cell_type": "markdown",
      "metadata": {
        "id": "FwI5ETv03Ypp",
        "colab_type": "text"
      },
      "source": [
        "## Estructura del archivo.\n",
        "\n",
        "Podemos explorar su estructura jerarquica como lo hariamos con un diccionario de Python , utilizando el metodo `keys`."
      ]
    },
    {
      "cell_type": "code",
      "metadata": {
        "id": "bGu6Eu0Y28g1",
        "colab_type": "code",
        "colab": {}
      },
      "source": [
        "for key in data.keys():\n",
        "  print(key)"
      ],
      "execution_count": 8,
      "outputs": []
    }
  ]
}