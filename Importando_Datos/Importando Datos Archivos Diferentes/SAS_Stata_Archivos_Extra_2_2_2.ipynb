{
  "nbformat": 4,
  "nbformat_minor": 0,
  "metadata": {
    "colab": {
      "name": "SAS/Stata_Archivos_Extra_2_2_2.ipynb",
      "provenance": [],
      "collapsed_sections": []
    },
    "kernelspec": {
      "name": "python3",
      "display_name": "Python 3"
    }
  },
  "cells": [
    {
      "cell_type": "markdown",
      "metadata": {
        "id": "iku18FGjsfEA",
        "colab_type": "text"
      },
      "source": [
        "<center>\n",
        "\n",
        "![](https://github.com/Chilangdon20/PYTHON/blob/master/Curso%20Basico/CursoExpress/Imagenes/Sas.png?raw=true)\n",
        "\n",
        "</center>\n",
        "\n",
        "# Importando Archivos SAS/Stata usando Pandas\n",
        "\n",
        "## Introducción:\n",
        "\n",
        "Existen muchos paquetes de software estadistico y aunque es posible que no necesitemos hacerlo todo el tiempo sera importante para nosotros como Cientifico de Datos en funcionamiento, poder importar estos arcvhiso en nuestro entorno Python.\n",
        "\n",
        "\n",
        "Los ejemplos mas comunes son SAS , que son un acronimo de *Statistical Analysis System* & STATA que son una contracción de *Statistics + DATA*.Es importante mencionar que SAS se usa mucho en el analisis de nefocios y ioestadistica, mientras que STATA es popular en la investigación académica de ciencias sociales como economía y epidemiología.\n",
        "\n",
        "Los archivos *SAS* son importantes por que *SAS* es un paquete de software que realiza  análisis avanzado,  análisis multivariado, inteligencia empresarial , gestion de datos, analisis predictivo y es un estandar para los estadísticos para realizar análisis computacionales.\n",
        "\n",
        "Los archivos SAS más comunes tienen la extensión `.sas7bdat` & `.sas7bcat`, que son archivos de conjuntos de datos y archivos de catalogo.Aprenderemos a importar los primeros usando la función `SAS7BDAT` del paquete `sas7bdat`.\n",
        "\n",
        "\n",
        "\n"
      ]
    },
    {
      "cell_type": "code",
      "metadata": {
        "id": "IArV9t5TvEAZ",
        "colab_type": "code",
        "colab": {
          "base_uri": "https://localhost:8080/",
          "height": 207
        },
        "outputId": "d31c9b92-e0de-43ad-92de-50e1523201e1"
      },
      "source": [
        "pip install sas7bdat"
      ],
      "execution_count": 2,
      "outputs": [
        {
          "output_type": "stream",
          "text": [
            "Collecting sas7bdat\n",
            "  Downloading https://files.pythonhosted.org/packages/4d/7b/d41d280b12c776e67c840bace0e5f02acda6adb13cd1fbb04293ece0bc3c/sas7bdat-2.2.3.tar.gz\n",
            "Requirement already satisfied: six>=1.8.0 in /usr/local/lib/python3.6/dist-packages (from sas7bdat) (1.15.0)\n",
            "Building wheels for collected packages: sas7bdat\n",
            "  Building wheel for sas7bdat (setup.py) ... \u001b[?25l\u001b[?25hdone\n",
            "  Created wheel for sas7bdat: filename=sas7bdat-2.2.3-cp36-none-any.whl size=16295 sha256=db9936e39f2299e54875c159c85e6ef01e2bc2d1842ad587618b2cb9a452f5ed\n",
            "  Stored in directory: /root/.cache/pip/wheels/e0/b0/d2/5d251f0c159a251ec247d9d7f6db889b2c396b2f247a64e5c4\n",
            "Successfully built sas7bdat\n",
            "Installing collected packages: sas7bdat\n",
            "Successfully installed sas7bdat-2.2.3\n"
          ],
          "name": "stdout"
        }
      ]
    },
    {
      "cell_type": "code",
      "metadata": {
        "id": "I6u9piRBu7NM",
        "colab_type": "code",
        "colab": {}
      },
      "source": [
        "import pandas as pd \n",
        "from sas7bdat import SAS7BDAT"
      ],
      "execution_count": 3,
      "outputs": []
    },
    {
      "cell_type": "markdown",
      "metadata": {
        "id": "74273pWtvI6t",
        "colab_type": "text"
      },
      "source": [
        "En este caso, podemos vincular el archivo a una variable usando un administrador de contexto.Dentro de este contexto , podemos asignar una variable y aplicar el método `.to_data_frame()` a nuestro archivo.\n"
      ]
    },
    {
      "cell_type": "code",
      "metadata": {
        "id": "BAM0zY2GqaXU",
        "colab_type": "code",
        "colab": {}
      },
      "source": [
        "data =  'https://assets.datacamp.com/production/repositories/487/datasets/0300d44b3ac77accc4b9706af86e33037bda6861/sales.sas7bdat'"
      ],
      "execution_count": 17,
      "outputs": []
    },
    {
      "cell_type": "code",
      "metadata": {
        "id": "xTRCZJALvkI4",
        "colab_type": "code",
        "colab": {}
      },
      "source": [
        "with SAS7BDAT('data') as file:\n",
        "  df_sas = file.to_data_frame()"
      ],
      "execution_count": null,
      "outputs": []
    },
    {
      "cell_type": "markdown",
      "metadata": {
        "id": "eJu0yjyIwqSc",
        "colab_type": "text"
      },
      "source": [
        "Los archivos Stata tienen extensión `.dta` y podemos importarlo usando pandas y ni siquiera necesitamos inicializar un administrador de contexo en este caso:"
      ]
    },
    {
      "cell_type": "code",
      "metadata": {
        "id": "ePtW7-1bvszu",
        "colab_type": "code",
        "colab": {}
      },
      "source": [
        "file = 'https://assets.datacamp.com/production/repositories/487/datasets/c4129edae533cf2683d8995f6dcdbcf5f41520ba/disarea.dta'\n",
        "\n",
        "data = pd.read_stata(file)\n"
      ],
      "execution_count": 24,
      "outputs": []
    },
    {
      "cell_type": "markdown",
      "metadata": {
        "id": "Z1zVNR0nyKb6",
        "colab_type": "text"
      },
      "source": [
        "A continuación visualicemos los resultados trazando un histograma de la columna `disa10`. "
      ]
    },
    {
      "cell_type": "code",
      "metadata": {
        "id": "fWBvE-Jdw-op",
        "colab_type": "code",
        "colab": {
          "base_uri": "https://localhost:8080/",
          "height": 295
        },
        "outputId": "83bd0089-b568-45ca-e6e7-95004270f51d"
      },
      "source": [
        "# Import pandas\n",
        "import pandas as pd\n",
        "import matplotlib.pyplot as plt\n",
        "\n",
        "\n",
        "\n",
        "# Plot\n",
        "pd.DataFrame.hist(data[['disa10']],color='blue')\n",
        "plt.xlabel('Grado de enfermedad')\n",
        "plt.ylabel('Numeros de países')\n",
        "plt.show()"
      ],
      "execution_count": 30,
      "outputs": [
        {
          "output_type": "display_data",
          "data": {
            "image/png": "[encoded data removed]",
            "text/plain": [
              "<Figure size 432x288 with 1 Axes>"
            ]
          },
          "metadata": {
            "tags": [],
            "needs_background": "light"
          }
        }
      ]
    }
  ]
}