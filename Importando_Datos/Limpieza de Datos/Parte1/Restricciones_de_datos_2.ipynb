{
  "nbformat": 4,
  "nbformat_minor": 0,
  "metadata": {
    "colab": {
      "name": "Restricciones_de_datos_2.ipynb",
      "provenance": [],
      "collapsed_sections": []
    },
    "kernelspec": {
      "name": "python3",
      "display_name": "Python 3"
    }
  },
  "cells": [
    {
      "cell_type": "markdown",
      "metadata": {
        "id": "Dn6CTti2w9NH",
        "colab_type": "text"
      },
      "source": [
        "# Restricciones de rango de los datos.\n",
        "\n",
        "En esta sección, vamos a hablar sobre los datos que debereian de estar dentro de un rango.\n",
        "\n",
        "¿Cómo tratamos con el rango de nuestros datos?\n",
        "\n",
        "Hay muchas opciones para hacer esto, podemos eliminarlos, sin embargo dependendo del tamaño de nuestros datos fuera de rango, podriamos estar perdiendo infromación esencial.\n",
        "\n",
        "Como regla genreal, solo eliminemos datos cuando una pequeña proporción de nuestro conjunto de datos se ve afectado por los valores de rango, isn embargo realmente necesitamos comprender nuestro conjunto de datos antes de decidir eliminar valores.\n",
        "\n",
        "Otra opción sería establecer mínimos o máximos personalzados para nuestras columnas.\n",
        "\n",
        "\n",
        "También podríamos configurar los datos como faltantes y eliminarlos, pero mas adelante vermos esto.\n",
        "\n",
        "También podriamos , dependiendo de los suspuestos comerciales detrás de  nuestos datos asignar un valor personalizado para cualquier valor de nuestros datos, ya que va mas alla de un cierto rango.\n",
        "\n",
        "Dependiendo de los supuestos detras de nuestros datos, también podemos cambiar los valores fuera de rango a un limite estricto.\n",
        "\n",
        "A continuación veremos algunos emplos sobre como tratar con todo esto:\n",
        "\n",
        "Restricciones para el tamaño de los neumaticos.\n",
        "\n",
        "En este ejemplo , nos basaremos en el trabajo que hemos estado haciendo con el DataFrame de ride_sharing. Trabajaremos con la columna tire_sizes, que contiene datos sobre el tamaño de los neumáticos de cada bicicleta.\n",
        "\n",
        "PROBLEMA:\n",
        "\n",
        "Los tamaños de los neumáticos de las bicicletas pueden ser **26 ″, 27 ″ o 29** ″ y aquí se almacenan correctamente como un valor categórico. En un esfuerzo por reducir los costos de mantenimiento, el proveedor de viajes compartidos decidió establecer el tamaño máximo de los neumáticos en 27 ″.\n",
        "\n",
        "En este ejemplo, nos aseguraremos de que la columna de tamaños de llantas tenga el rango correcto convirtiéndola primero en un número entero, luego estableciendo y probando el nuevo límite superior de 27 ″ para los tamaños de llantas.\n",
        "\n",
        "\n",
        "PASOS:\n",
        "\n",
        "* Convertir la columna `tyre_size` de categorica a numerica."
      ]
    },
    {
      "cell_type": "code",
      "metadata": {
        "id": "StJrSUbbw35H",
        "colab_type": "code",
        "colab": {}
      },
      "source": [
        "import pandas as pd\n",
        "\n",
        "ride_sharing = pd.read_csv(\"/content/ride_sharing_new.csv\")\n",
        "\n"
      ],
      "execution_count": 2,
      "outputs": []
    },
    {
      "cell_type": "code",
      "metadata": {
        "id": "mn2sh2WM0Zno",
        "colab_type": "code",
        "colab": {
          "base_uri": "https://localhost:8080/",
          "height": 360
        },
        "outputId": "1eedbcda-7dbc-4aea-8be3-3e9203b3e1bb"
      },
      "source": [
        "ride_sharing.head()"
      ],
      "execution_count": 3,
      "outputs": [
        {
          "output_type": "execute_result",
          "data": {
            "text/html": [
              "<div>\n",
              "<style scoped>\n",
              "    .dataframe tbody tr th:only-of-type {\n",
              "        vertical-align: middle;\n",
              "    }\n",
              "\n",
              "    .dataframe tbody tr th {\n",
              "        vertical-align: top;\n",
              "    }\n",
              "\n",
              "    .dataframe thead th {\n",
              "        text-align: right;\n",
              "    }\n",
              "</style>\n",
              "<table border=\"1\" class=\"dataframe\">\n",
              "  <thead>\n",
              "    <tr style=\"text-align: right;\">\n",
              "      <th></th>\n",
              "      <th>Unnamed: 0</th>\n",
              "      <th>duration</th>\n",
              "      <th>station_A_id</th>\n",
              "      <th>station_A_name</th>\n",
              "      <th>station_B_id</th>\n",
              "      <th>station_B_name</th>\n",
              "      <th>bike_id</th>\n",
              "      <th>user_type</th>\n",
              "      <th>user_birth_year</th>\n",
              "      <th>user_gender</th>\n",
              "    </tr>\n",
              "  </thead>\n",
              "  <tbody>\n",
              "    <tr>\n",
              "      <th>0</th>\n",
              "      <td>0</td>\n",
              "      <td>12 minutes</td>\n",
              "      <td>81</td>\n",
              "      <td>Berry St at 4th St</td>\n",
              "      <td>323</td>\n",
              "      <td>Broadway at Kearny</td>\n",
              "      <td>5480</td>\n",
              "      <td>2</td>\n",
              "      <td>1959</td>\n",
              "      <td>Male</td>\n",
              "    </tr>\n",
              "    <tr>\n",
              "      <th>1</th>\n",
              "      <td>1</td>\n",
              "      <td>24 minutes</td>\n",
              "      <td>3</td>\n",
              "      <td>Powell St BART Station (Market St at 4th St)</td>\n",
              "      <td>118</td>\n",
              "      <td>Eureka Valley Recreation Center</td>\n",
              "      <td>5193</td>\n",
              "      <td>2</td>\n",
              "      <td>1965</td>\n",
              "      <td>Male</td>\n",
              "    </tr>\n",
              "    <tr>\n",
              "      <th>2</th>\n",
              "      <td>2</td>\n",
              "      <td>8 minutes</td>\n",
              "      <td>67</td>\n",
              "      <td>San Francisco Caltrain Station 2  (Townsend St...</td>\n",
              "      <td>23</td>\n",
              "      <td>The Embarcadero at Steuart St</td>\n",
              "      <td>3652</td>\n",
              "      <td>3</td>\n",
              "      <td>1993</td>\n",
              "      <td>Male</td>\n",
              "    </tr>\n",
              "    <tr>\n",
              "      <th>3</th>\n",
              "      <td>3</td>\n",
              "      <td>4 minutes</td>\n",
              "      <td>16</td>\n",
              "      <td>Steuart St at Market St</td>\n",
              "      <td>28</td>\n",
              "      <td>The Embarcadero at Bryant St</td>\n",
              "      <td>1883</td>\n",
              "      <td>1</td>\n",
              "      <td>1979</td>\n",
              "      <td>Male</td>\n",
              "    </tr>\n",
              "    <tr>\n",
              "      <th>4</th>\n",
              "      <td>4</td>\n",
              "      <td>11 minutes</td>\n",
              "      <td>22</td>\n",
              "      <td>Howard St at Beale St</td>\n",
              "      <td>350</td>\n",
              "      <td>8th St at Brannan St</td>\n",
              "      <td>4626</td>\n",
              "      <td>2</td>\n",
              "      <td>1994</td>\n",
              "      <td>Male</td>\n",
              "    </tr>\n",
              "  </tbody>\n",
              "</table>\n",
              "</div>"
            ],
            "text/plain": [
              "   Unnamed: 0    duration  station_A_id  ... user_type  user_birth_year user_gender\n",
              "0           0  12 minutes            81  ...         2             1959        Male\n",
              "1           1  24 minutes             3  ...         2             1965        Male\n",
              "2           2   8 minutes            67  ...         3             1993        Male\n",
              "3           3   4 minutes            16  ...         1             1979        Male\n",
              "4           4  11 minutes            22  ...         2             1994        Male\n",
              "\n",
              "[5 rows x 10 columns]"
            ]
          },
          "metadata": {
            "tags": []
          },
          "execution_count": 3
        }
      ]
    },
    {
      "cell_type": "code",
      "metadata": {
        "id": "0Rl2xUt50iBK",
        "colab_type": "code",
        "colab": {}
      },
      "source": [
        "# Convertir a tipo numerico\n",
        "\n",
        "ride_sharing['tire_sizes'] = ride_sharing['tire_sizes'].astype('int')"
      ],
      "execution_count": null,
      "outputs": []
    },
    {
      "cell_type": "markdown",
      "metadata": {
        "id": "8ppzSmro043N",
        "colab_type": "text"
      },
      "source": [
        "* Usaremos `.loc[]` para establecer todos los valores de `tire_sizes` por encima de 27 a 27."
      ]
    },
    {
      "cell_type": "code",
      "metadata": {
        "id": "QNN_yRGM1B1V",
        "colab_type": "code",
        "colab": {}
      },
      "source": [
        "ride_sharing.loc[ride_sharing['tire_sizes'] > 27, 'tire_sizes'] = 27"
      ],
      "execution_count": null,
      "outputs": []
    },
    {
      "cell_type": "markdown",
      "metadata": {
        "id": "YFPKz10p1E1U",
        "colab_type": "text"
      },
      "source": [
        "* Reeconvertimos nuestros datos  a categoricos."
      ]
    },
    {
      "cell_type": "code",
      "metadata": {
        "id": "UxlStHgC1I8y",
        "colab_type": "code",
        "colab": {}
      },
      "source": [
        "\n",
        "ride_sharing['tire_sizes'] = ride_sharing['tire_sizes'].astype('category')\n"
      ],
      "execution_count": null,
      "outputs": []
    },
    {
      "cell_type": "markdown",
      "metadata": {
        "id": "ITdT5_Kk1Kng",
        "colab_type": "text"
      },
      "source": [
        "* Imprimirmos la descripcion de nuestros datos."
      ]
    },
    {
      "cell_type": "code",
      "metadata": {
        "id": "CkdtbJlB1Nwa",
        "colab_type": "code",
        "colab": {}
      },
      "source": [
        "print(ride_sharing['tire_sizes'].describe())"
      ],
      "execution_count": null,
      "outputs": []
    }
  ]
}