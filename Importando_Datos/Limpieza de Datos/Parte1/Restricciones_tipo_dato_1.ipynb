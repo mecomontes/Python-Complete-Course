{
  "nbformat": 4,
  "nbformat_minor": 0,
  "metadata": {
    "colab": {
      "name": "Restricciones_tipo_dato_1.ipynb",
      "provenance": [],
      "collapsed_sections": []
    },
    "kernelspec": {
      "name": "python3",
      "display_name": "Python 3"
    }
  },
  "cells": [
    {
      "cell_type": "markdown",
      "metadata": {
        "id": "ILEzoTBVNu8t",
        "colab_type": "text"
      },
      "source": [
        "# Restricciones en los tipos de datos.\n",
        "\n",
        "En estas secciones entenderemos como diagnosticar diferentes problemas en nuestros datos y como pueden surgir durante nuestro flujo de trabajo.\n",
        "\n",
        "Tambien entenderemos los efectos secundarios de no tratas nuestros datos correctamente y varias formas de abordar diferentes tipos de limpiea de datos.\n",
        "\n",
        "\n",
        "En este primer notebook, analizaremos los problemas de dtoas mas comunes que podemos encontrar y como abordarlos.\n",
        "\n",
        "## Por que necesitamos limpiar los datos?\n",
        "\n",
        "Para comprender por que necesitamos limpiar los datos, recordemos el flujo de trabajo de la ciencia de datos.\n",
        "\n",
        "En un flujo de trabajo de ciencia de datos tipico, **generalmente accedemos a nuestros datos sin procesar,** los exploramos y procesamos , tambien desarrollamos ideas utilizando visualizaciones o modelos prodictios y finalmente informamos estas ideas con dashboards o informes.\n",
        "\n",
        "Los datos sucios pueden aparecer debido a:\n",
        "* Valores duplicados.\n",
        "* Errores ortograficos. \n",
        "* Errores de analisis de tipos de datos y sistemas heradados.\n",
        "\n",
        "Si no nos asguramos de que los datos se limpian correctamente en la exploracion y en la fase de procesamiento, seguramente comprometeremos los conocimientos e informes generados posteriormente.\n",
        "\n",
        "Al trabajar con datos, hay varios tipos que podemos encontrar en el camino, podriamos estar trabajando con datos de texto, enteros,decimales,fechas, codigos postales etc.\n",
        "\n",
        "Afortunadamente Python tiene objetos de tipo de datos especificos para varios tipos de datos con los que ya estamos familiarizados.Esto hace que sea mucho mas facil manipular estos diversos tipos de datos en Python.\n",
        "\n",
        "Antes de preparanos para analizar y extraer informacion de nuestros datos necesitamos asegurarnos de que nuestras variables tengan los tipos de datos correctos, de lo contrario corremos el reisgo de comprometer nuestro analisis.\n",
        "\n",
        "\n",
        "A continuación realizaremos algunos ejemplos:\n",
        "\n",
        "En este ejercicio, y a lo largo de este notebook, trabajaremos con datos para compartir viajes en bicicleta en San Francisco llamados ride_sharing. \n",
        "\n",
        "Estos contienen información sobre las estaciones de inicio y finalización, la duración del viaje y cierta información para el usuario de un servicio de bicicletas compartidas.\n",
        "\n",
        "La columna `uder_type` contiene información sobre si un usuario está viajando gratis y toma los siguientes valores:\n",
        "\n",
        "* 1 = Ciclistas Gratuitos.\n",
        "\n",
        "* 2 = Ciclistas que pagan por viaje.\n",
        "\n",
        "* 3 = Ciclistas que pagan membresia.\n",
        "\n",
        "En este caso , imprimiremos la infromación de nuestro conjunto de datos y veremos un ejemplo de como un tipo de datos incorrecto puede fallar en nuestro análisis.\n",
        "\n",
        "PASOS:\n",
        "\n",
        "* Convertir `user_type` en categorico asignandole el tipo de dato `category` y lo guardaremos en la columna `user_type_cat`.\n",
        "\n",
        "* NOs aseguraremos de convertir correctamente `user_type_cat` correctamente mediente una declaración `assert`."
      ]
    },
    {
      "cell_type": "code",
      "metadata": {
        "id": "QbmW6PY7NcLK",
        "colab_type": "code",
        "colab": {
          "base_uri": "https://localhost:8080/",
          "height": 323
        },
        "outputId": "4c67fef5-4cea-4627-f4f6-241841b2d657"
      },
      "source": [
        "# importar pandas\n",
        "\n",
        "import pandas as pd\n",
        "\n",
        "# asignar nuestros datos a una vriable\n",
        "ride_sharing = pd.read_csv(\"/content/ride_sharing_new.csv\")\n",
        "\n",
        "# Imprimir la informacion del dataset\n",
        "\n",
        "print(ride_sharing.info())"
      ],
      "execution_count": 1,
      "outputs": [
        {
          "output_type": "stream",
          "text": [
            "<class 'pandas.core.frame.DataFrame'>\n",
            "RangeIndex: 25760 entries, 0 to 25759\n",
            "Data columns (total 10 columns):\n",
            " #   Column           Non-Null Count  Dtype \n",
            "---  ------           --------------  ----- \n",
            " 0   Unnamed: 0       25760 non-null  int64 \n",
            " 1   duration         25760 non-null  object\n",
            " 2   station_A_id     25760 non-null  int64 \n",
            " 3   station_A_name   25760 non-null  object\n",
            " 4   station_B_id     25760 non-null  int64 \n",
            " 5   station_B_name   25760 non-null  object\n",
            " 6   bike_id          25760 non-null  int64 \n",
            " 7   user_type        25760 non-null  int64 \n",
            " 8   user_birth_year  25760 non-null  int64 \n",
            " 9   user_gender      25760 non-null  object\n",
            "dtypes: int64(6), object(4)\n",
            "memory usage: 2.0+ MB\n",
            "None\n"
          ],
          "name": "stdout"
        }
      ]
    },
    {
      "cell_type": "code",
      "metadata": {
        "id": "lVq6BgDJs5EB",
        "colab_type": "code",
        "colab": {
          "base_uri": "https://localhost:8080/",
          "height": 170
        },
        "outputId": "0be450d0-3c30-4416-fc24-45a5f66643f9"
      },
      "source": [
        "# imprimir resumen estadistico de la columna user_type\n",
        "\n",
        "print(ride_sharing['user_type'].describe())"
      ],
      "execution_count": 2,
      "outputs": [
        {
          "output_type": "stream",
          "text": [
            "count    25760.000000\n",
            "mean         2.008385\n",
            "std          0.704541\n",
            "min          1.000000\n",
            "25%          2.000000\n",
            "50%          2.000000\n",
            "75%          3.000000\n",
            "max          3.000000\n",
            "Name: user_type, dtype: float64\n"
          ],
          "name": "stdout"
        }
      ]
    },
    {
      "cell_type": "markdown",
      "metadata": {
        "id": "OxgzZ0yCtI0r",
        "colab_type": "text"
      },
      "source": [
        "Podemos observar que esta descrito com una variable numerica , por lo que no tiene mucho sentido analizar esta información , para esto lo pasaremos a una variable categorica."
      ]
    },
    {
      "cell_type": "code",
      "metadata": {
        "id": "LkWE_2D6tE9V",
        "colab_type": "code",
        "colab": {}
      },
      "source": [
        "# convertir la columna a un tipo de dato categorico\n",
        "\n",
        "ride_sharing['user_type_cat'] = ride_sharing['user_type'].astype('category')"
      ],
      "execution_count": 5,
      "outputs": []
    },
    {
      "cell_type": "code",
      "metadata": {
        "id": "nN2GWl9HtdaV",
        "colab_type": "code",
        "colab": {}
      },
      "source": [
        "# Escribir una declaracion para confirmar el cambio de tipo de dato\n",
        "assert ride_sharing['user_type_cat'].dtype == 'category'"
      ],
      "execution_count": 8,
      "outputs": []
    },
    {
      "cell_type": "markdown",
      "metadata": {
        "id": "wfrlLW0zuLPa",
        "colab_type": "text"
      },
      "source": [
        "Vemos que no retorna ningun error por lo que nuestra conversión de datos es correcta.\n"
      ]
    },
    {
      "cell_type": "code",
      "metadata": {
        "id": "e9Iy5OnpuDvf",
        "colab_type": "code",
        "colab": {
          "base_uri": "https://localhost:8080/",
          "height": 102
        },
        "outputId": "9f7054a6-76a0-43ae-c688-43f515620154"
      },
      "source": [
        "# imprimir nuevamente el resumen estadistico de nuestra columna.\n",
        "\n",
        "print(ride_sharing['user_type_cat'].describe())"
      ],
      "execution_count": 9,
      "outputs": [
        {
          "output_type": "stream",
          "text": [
            "count     25760\n",
            "unique        3\n",
            "top           2\n",
            "freq      12972\n",
            "Name: user_type_cat, dtype: int64\n"
          ],
          "name": "stdout"
        }
      ]
    },
    {
      "cell_type": "markdown",
      "metadata": {
        "id": "7Ox4O74iuehR",
        "colab_type": "text"
      },
      "source": [
        "##  Sumar Strings & concatenar Numeros.\n",
        "\n",
        "Anteriormente , identificamos que la categoria es el tipo de datos corecto para nuestra columna `user_type` y la convertimos en una variable categorica para obtener información correcta.\n",
        "\n",
        "Otro problema común de tipos de datos es importar lo que deberían ser valores numéricos como cadenas, ya que las operaciones matemáticas como la suma y la multiplicación conducen a la concatenación de cadenas, no a salidas numéricas.\n",
        "\n",
        "En este segundo ejemplo , convertiremos la duracion de la columna `duration` a tipo entero , sin embargo antes nos tenemos que asegurar de eliminar la palabra `minutes` de la columna para asegurarnos de que pandas los lea como un número.\n",
        "\n",
        "PASOS:\n",
        "\n",
        "* Usaremos el método `strip()` para quitar ``minutes``y almacenarlo en una nueva columna:"
      ]
    },
    {
      "cell_type": "code",
      "metadata": {
        "id": "TU4rubOyuT-O",
        "colab_type": "code",
        "colab": {}
      },
      "source": [
        "# acceder a strip mediante .str\n",
        "ride_sharing['duration_trim'] = ride_sharing['duration'].str.strip('minutes')"
      ],
      "execution_count": 11,
      "outputs": []
    },
    {
      "cell_type": "markdown",
      "metadata": {
        "id": "4k-AncbAvh7e",
        "colab_type": "text"
      },
      "source": [
        "* Convertimos `duration_trim` a entero y lo amacenamos en `duration_time`"
      ]
    },
    {
      "cell_type": "code",
      "metadata": {
        "id": "LpHZVz3lvWkY",
        "colab_type": "code",
        "colab": {}
      },
      "source": [
        "ride_sharing['duration_time'] = ride_sharing['duration_trim'].astype('int')"
      ],
      "execution_count": 12,
      "outputs": []
    },
    {
      "cell_type": "markdown",
      "metadata": {
        "id": "s5cxQKd0vybn",
        "colab_type": "text"
      },
      "source": [
        "Escribimos una declaración de tipo `assert` para confirmar el cambio de datos."
      ]
    },
    {
      "cell_type": "code",
      "metadata": {
        "id": "IgvxVwHbvvWg",
        "colab_type": "code",
        "colab": {}
      },
      "source": [
        "assert ride_sharing['duration_time'].dtype == 'int'"
      ],
      "execution_count": 13,
      "outputs": []
    },
    {
      "cell_type": "markdown",
      "metadata": {
        "id": "0tFr2yAsv_gi",
        "colab_type": "text"
      },
      "source": [
        "Imprimimos el valor esperado de cada viaje , es decir la media."
      ]
    },
    {
      "cell_type": "code",
      "metadata": {
        "id": "65YRTDctv7Vr",
        "colab_type": "code",
        "colab": {
          "base_uri": "https://localhost:8080/",
          "height": 255
        },
        "outputId": "e3ad3a17-d69a-4ff8-ae75-8cc5e8eb6408"
      },
      "source": [
        "print(ride_sharing[['duration','duration_trim','duration_time']])\n"
      ],
      "execution_count": 15,
      "outputs": [
        {
          "output_type": "stream",
          "text": [
            "         duration duration_trim  duration_time\n",
            "0      12 minutes           12              12\n",
            "1      24 minutes           24              24\n",
            "2       8 minutes            8               8\n",
            "3       4 minutes            4               4\n",
            "4      11 minutes           11              11\n",
            "...           ...           ...            ...\n",
            "25755  11 minutes           11              11\n",
            "25756  10 minutes           10              10\n",
            "25757  14 minutes           14              14\n",
            "25758  14 minutes           14              14\n",
            "25759  29 minutes           29              29\n",
            "\n",
            "[25760 rows x 3 columns]\n"
          ],
          "name": "stdout"
        }
      ]
    },
    {
      "cell_type": "code",
      "metadata": {
        "id": "spA_RgCkwFPO",
        "colab_type": "code",
        "colab": {
          "base_uri": "https://localhost:8080/",
          "height": 34
        },
        "outputId": "c3201856-d87a-4609-e922-71b14c4f993a"
      },
      "source": [
        "print(\"El tiempo esperado por viaje es : {} mintuos \".format(ride_sharing['duration_time'].mean()))"
      ],
      "execution_count": 22,
      "outputs": [
        {
          "output_type": "stream",
          "text": [
            "El tiempo esperado por viaje es : 11.389052795031056 mintuos \n"
          ],
          "name": "stdout"
        }
      ]
    },
    {
      "cell_type": "code",
      "metadata": {
        "id": "LUX0ZHJlwXwv",
        "colab_type": "code",
        "colab": {}
      },
      "source": [
        ""
      ],
      "execution_count": null,
      "outputs": []
    }
  ]
}