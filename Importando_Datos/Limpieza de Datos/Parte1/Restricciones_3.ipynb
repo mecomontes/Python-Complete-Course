{
  "nbformat": 4,
  "nbformat_minor": 0,
  "metadata": {
    "colab": {
      "name": "Restricciones_3.ipynb",
      "provenance": [],
      "collapsed_sections": []
    },
    "kernelspec": {
      "name": "python3",
      "display_name": "Python 3"
    }
  },
  "cells": [
    {
      "cell_type": "markdown",
      "metadata": {
        "id": "8VtIBgRI1rqH",
        "colab_type": "text"
      },
      "source": [
        "# Restricciones.\n",
        "\n",
        "## ¿Qué son los valores duplicados?\n",
        "\n",
        "Los valores duplicados se pueden diagnosticar cuando tenemos exactamente la misma infromación repetida en varias filas, para algunas o todas las columnas de nuestro dataframe.\n",
        "\n",
        "Estos errores duplicados también pueden surgir debido a errores de diseño, ya sea en el proceso de negocios o en la canalización de datos.\n",
        "\n",
        "Sin embargo , a menudo surgen del acto necesario de unirse y podrian tener valores duplicados.\n",
        "\n",
        "\n",
        "---\n",
        "\n",
        "\n",
        "Primero veamos como encontrar valores duplicados, esto lo podemos hacer usando el método `.duplicated()`, que devuelve una serie de valores booleanos que son verdaderos para valores duplicados y falsos para valores no duplicados.\n",
        "\n",
        "Pra calibrar adecuadamente como encontramos datos duplicados , usaremos 2 argumentos del metodo `.duplicated()`.\n",
        "\n",
        "El argumento `subset` nos permite establecer una lista de nombres de columna para verificar la duplicación.\n",
        "\n",
        "\n",
        "---\n",
        "\n",
        "\n",
        "El argumento `keep` nos permite mantener la primera aparicion de un valor duplicado estableciendo `first`  o la ultima aparicion de un valor duplicado estableciendo `last` o mantener todas las apariciones de valores duplicados configurandolo en `False`.\n",
        "\n",
        "Los valores duplicados se pueden tratar facilmente, todo lo que se requiere es conservar uno de ellos y descartar los otros  y  podemos hacer esto usando el método `.drop_duplicated()` , que también incluye:\n",
        "\n",
        "El argumento `subset` nos permite establecer una lista de nombres de columna para verificar la duplicación.\n",
        "\n",
        "\n",
        "---\n",
        "\n",
        "\n",
        "\n",
        "---\n",
        "\n",
        "\n",
        "El argumento `keep` nos permite mantener la primera aparicion de un valor duplicado estableciendo `first`  o la ultima aparicion de un valor duplicado estableciendo `last` o mantener todas las apariciones de valores duplicados configurandolo en `False`.\n",
        "\n",
        "Agregando el argumento `inplace=True` , que elimina los valores duplicados directamente dentro del DataFrame.\n",
        "\n",
        "\n",
        "Recordemos que el método `groupby.agg()` permite agrupar por conjuntos de columnas comunes y valores estadisticos de retorno para columnas especifcas cuando realizamos alguna agregación.\n",
        "\n",
        "A continuación haremos un ejemplo para encontrar valores repetidos.\n",
        "\n",
        "\n",
        "\n"
      ]
    },
    {
      "cell_type": "code",
      "metadata": {
        "id": "hqzzm5771h2Z",
        "colab_type": "code",
        "colab": {
          "base_uri": "https://localhost:8080/",
          "height": 360
        },
        "outputId": "6c4b4796-3f6c-45e3-f4db-0c6303de25ea"
      },
      "source": [
        "import pandas as pd\n",
        "ride_sharing = pd.read_csv(\"/content/ride_sharing_new.csv\")\n",
        "\n",
        "ride_sharing.head()"
      ],
      "execution_count": 1,
      "outputs": [
        {
          "output_type": "execute_result",
          "data": {
            "text/html": [
              "<div>\n",
              "<style scoped>\n",
              "    .dataframe tbody tr th:only-of-type {\n",
              "        vertical-align: middle;\n",
              "    }\n",
              "\n",
              "    .dataframe tbody tr th {\n",
              "        vertical-align: top;\n",
              "    }\n",
              "\n",
              "    .dataframe thead th {\n",
              "        text-align: right;\n",
              "    }\n",
              "</style>\n",
              "<table border=\"1\" class=\"dataframe\">\n",
              "  <thead>\n",
              "    <tr style=\"text-align: right;\">\n",
              "      <th></th>\n",
              "      <th>Unnamed: 0</th>\n",
              "      <th>duration</th>\n",
              "      <th>station_A_id</th>\n",
              "      <th>station_A_name</th>\n",
              "      <th>station_B_id</th>\n",
              "      <th>station_B_name</th>\n",
              "      <th>bike_id</th>\n",
              "      <th>user_type</th>\n",
              "      <th>user_birth_year</th>\n",
              "      <th>user_gender</th>\n",
              "    </tr>\n",
              "  </thead>\n",
              "  <tbody>\n",
              "    <tr>\n",
              "      <th>0</th>\n",
              "      <td>0</td>\n",
              "      <td>12 minutes</td>\n",
              "      <td>81</td>\n",
              "      <td>Berry St at 4th St</td>\n",
              "      <td>323</td>\n",
              "      <td>Broadway at Kearny</td>\n",
              "      <td>5480</td>\n",
              "      <td>2</td>\n",
              "      <td>1959</td>\n",
              "      <td>Male</td>\n",
              "    </tr>\n",
              "    <tr>\n",
              "      <th>1</th>\n",
              "      <td>1</td>\n",
              "      <td>24 minutes</td>\n",
              "      <td>3</td>\n",
              "      <td>Powell St BART Station (Market St at 4th St)</td>\n",
              "      <td>118</td>\n",
              "      <td>Eureka Valley Recreation Center</td>\n",
              "      <td>5193</td>\n",
              "      <td>2</td>\n",
              "      <td>1965</td>\n",
              "      <td>Male</td>\n",
              "    </tr>\n",
              "    <tr>\n",
              "      <th>2</th>\n",
              "      <td>2</td>\n",
              "      <td>8 minutes</td>\n",
              "      <td>67</td>\n",
              "      <td>San Francisco Caltrain Station 2  (Townsend St...</td>\n",
              "      <td>23</td>\n",
              "      <td>The Embarcadero at Steuart St</td>\n",
              "      <td>3652</td>\n",
              "      <td>3</td>\n",
              "      <td>1993</td>\n",
              "      <td>Male</td>\n",
              "    </tr>\n",
              "    <tr>\n",
              "      <th>3</th>\n",
              "      <td>3</td>\n",
              "      <td>4 minutes</td>\n",
              "      <td>16</td>\n",
              "      <td>Steuart St at Market St</td>\n",
              "      <td>28</td>\n",
              "      <td>The Embarcadero at Bryant St</td>\n",
              "      <td>1883</td>\n",
              "      <td>1</td>\n",
              "      <td>1979</td>\n",
              "      <td>Male</td>\n",
              "    </tr>\n",
              "    <tr>\n",
              "      <th>4</th>\n",
              "      <td>4</td>\n",
              "      <td>11 minutes</td>\n",
              "      <td>22</td>\n",
              "      <td>Howard St at Beale St</td>\n",
              "      <td>350</td>\n",
              "      <td>8th St at Brannan St</td>\n",
              "      <td>4626</td>\n",
              "      <td>2</td>\n",
              "      <td>1994</td>\n",
              "      <td>Male</td>\n",
              "    </tr>\n",
              "  </tbody>\n",
              "</table>\n",
              "</div>"
            ],
            "text/plain": [
              "   Unnamed: 0    duration  station_A_id  ... user_type  user_birth_year user_gender\n",
              "0           0  12 minutes            81  ...         2             1959        Male\n",
              "1           1  24 minutes             3  ...         2             1965        Male\n",
              "2           2   8 minutes            67  ...         3             1993        Male\n",
              "3           3   4 minutes            16  ...         1             1979        Male\n",
              "4           4  11 minutes            22  ...         2             1994        Male\n",
              "\n",
              "[5 rows x 10 columns]"
            ]
          },
          "metadata": {
            "tags": []
          },
          "execution_count": 1
        }
      ]
    },
    {
      "cell_type": "code",
      "metadata": {
        "id": "KUg3Na4E4-uP",
        "colab_type": "code",
        "colab": {
          "base_uri": "https://localhost:8080/",
          "height": 255
        },
        "outputId": "1fcd7dd0-5748-450a-94ac-b5da6cb541e7"
      },
      "source": [
        "# Encontrar valores duplicados\n",
        "duplicates = ride_sharing.duplicated(subset = 'bike_id', keep = False)\n",
        "\n",
        "# Ordenar id duplicados\n",
        "duplicated_rides = ride_sharing[duplicates].sort_values('bike_id')\n",
        "\n",
        "# Imprmir columnas relevantes.\n",
        "print(duplicated_rides[['bike_id','duration','user_birth_year']])"
      ],
      "execution_count": 3,
      "outputs": [
        {
          "output_type": "stream",
          "text": [
            "       bike_id    duration  user_birth_year\n",
            "3638        11  12 minutes             1988\n",
            "6088        11   5 minutes             1985\n",
            "10857       11   4 minutes             1987\n",
            "10045       27  13 minutes             1989\n",
            "16104       27  10 minutes             1970\n",
            "...        ...         ...              ...\n",
            "8812      6638  10 minutes             1986\n",
            "6815      6638   5 minutes             1995\n",
            "8456      6638   7 minutes             1983\n",
            "8300      6638   6 minutes             1962\n",
            "8380      6638   8 minutes             1984\n",
            "\n",
            "[25717 rows x 3 columns]\n"
          ],
          "name": "stdout"
        }
      ]
    },
    {
      "cell_type": "markdown",
      "metadata": {
        "id": "hyWljdOK50v1",
        "colab_type": "text"
      },
      "source": [
        "### Tratando valores duplicados.\n"
      ]
    },
    {
      "cell_type": "code",
      "metadata": {
        "id": "8_MdQs5I5Vye",
        "colab_type": "code",
        "colab": {}
      },
      "source": [
        "# Elminar los duplicados completos en ride_sharing y almacena los resultados en ride_dup.\n",
        "ride_dup = ride_sharing.drop_duplicates()\n",
        "\n",
        "#Crear el diccionario de estadísticas que contiene la agregación mínima para user_birth_year y la agregación media durante la duración.\n",
        "statistics = {'user_birth_year': 'min', 'duration': 'mean'}\n",
        "\n",
        "# Group by ride_id and compute new statistics\n",
        "ride_unique = ride_dup.groupby('bike_id').agg(statistics).reset_index()\n",
        "\n",
        "# Find duplicated values again\n",
        "duplicates = ride_unique.duplicated(subset = 'bike_id', keep = False)\n",
        "duplicated_rides = ride_unique[duplicates == True]\n",
        "\n",
        "# Assert duplicates are processed\n",
        "assert duplicated_rides.shape[0] == 0"
      ],
      "execution_count": null,
      "outputs": []
    }
  ]
}