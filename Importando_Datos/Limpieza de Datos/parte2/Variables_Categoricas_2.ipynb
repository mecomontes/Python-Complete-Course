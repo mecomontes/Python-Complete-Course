{
  "nbformat": 4,
  "nbformat_minor": 0,
  "metadata": {
    "colab": {
      "name": "Variables_Categoricas_2.ipynb",
      "provenance": [],
      "collapsed_sections": []
    },
    "kernelspec": {
      "name": "python3",
      "display_name": "Python 3"
    }
  },
  "cells": [
    {
      "cell_type": "markdown",
      "metadata": {
        "id": "IEVnhx_DEcoi",
        "colab_type": "text"
      },
      "source": [
        "# Variables Categoricas\n",
        "\n",
        "En esta sección analizaremos otros tipos de problemas que podrían afectar las variables categóricas.Anteriormente vimos cómo los datos categoricos tienen un valor de restriccion, donde las columnas deben tener un conjunto predefinido de valores.\n",
        "\n",
        "\n",
        "Sin embargo , este no es el único conjunto de problems que podemos encontrar, al limpiar datos categóricos, algunos de los problemas que podemos encontrar incluyen inconsistencia de valores, presencia de demasiadas categorias que podrian colapsarse en una sola y asegurarnos de que los datos sean del tipo correcto.\n",
        "\n",
        "Comencemos por asegurarnos de que nuestros datos categoricos sean consistentes, un problema común de datos categóricos es tener valores que difieren ligeramente debido a la capitalización.\n",
        "\n",
        "* `married`,`Married`,`UNMARRIED`,`unmarried`\n",
        "\n",
        "No tratar con esto podría conducir a resultados engañosos cuando decidimos analizar nuestros datos.\n",
        "\n",
        "## CODIGO A UTILIZAR:\n",
        "\n",
        "* `value_counts()` - En pandas, para una columna en un DataFrame, podemos usar el método value_counts () para contar fácilmente las ocurrencias únicas de valores. También hay análisis interesantes adicionales que podemos hacer con value_counts ().Estos solo funcionana en Series de Pandas.\n",
        "\n",
        "* `groupby()` - La función se utiliza para dividir los datos en grupos según algunos criterios. Los objetos pandas se pueden dividir en cualquiera de sus ejes. La definición abstracta de agrupación es proporcionar una asignación de etiquetas a nombres de grupos.\n",
        "\n",
        "* `-count()` - Es usado para contar el numero de valores Nan a lo largo del ee dado.\n",
        "\n",
        "* `str-upper()` - Convierte todos los valores  a mayusculas.\n",
        "\n",
        "\n",
        "* `str_lower` - Convierte todos los valores a minusuclas.\n",
        "\n",
        "* `str.strip()` - Es una funcion que devuelve una copia de la cadena con los caracteres inicales y finales elminados,eneste caso la usaremos para elminar los espacios en blanco de un DataFrame.\n",
        "\n",
        "* `pd.qcut`Divide automaticamente nuestros datos basado en la distribucion de categoricas que establecemos en el argumento `q` , 'labels= column'\n",
        "\n",
        "\n",
        "*  `cut` - La función se usa para separar los elementos de la matriz en diferentes contenedores. La función de corte se utiliza principalmente para realizar análisis estadísticos en datos escalares.\n",
        "\n",
        "EJEMPLO:\n"
      ]
    },
    {
      "cell_type": "code",
      "metadata": {
        "id": "hSTTdRL3EVpx",
        "colab_type": "code",
        "colab": {
          "base_uri": "https://localhost:8080/",
          "height": 68
        },
        "outputId": "338300d5-f5cc-4db1-c81c-602a625d314c"
      },
      "source": [
        "string = \"\"\"  Chilangdon is great  \"\"\"\n",
        "\n",
        "# Imprimir string con espacios\n",
        "print(string)\n",
        "# Imprimir string sin espacios \n",
        "print(string.strip())\n",
        "# Imprimir string removiendo Chilangdon\n",
        "print(string.strip(' Chilangdon'))"
      ],
      "execution_count": null,
      "outputs": [
        {
          "output_type": "stream",
          "text": [
            "  Chilangdon is great  \n",
            "Chilangdon is great\n",
            "s great\n"
          ],
          "name": "stdout"
        }
      ]
    },
    {
      "cell_type": "markdown",
      "metadata": {
        "id": "mq8YRzEJLHP-",
        "colab_type": "text"
      },
      "source": [
        "A veces podemos crear categorias de nuestros datos, como la creación de grupos de ingresos familiares a partir de sus datos de ingresos economicos.\n",
        "\n",
        "Categorias de mapeo a menos categorias.\n",
        "\n",
        "Supongamos que tenemos una columna que contiene el sisterma operativo de diferentes dipositivos y contiene esos valores unicos.\n",
        "`Microsoft`,`MacOS`,`IOS`,`Linux`,`Android`\n",
        "Digamos que queremos agrupar esto en 2 categroias `DesktopOS`  & `MobileOS`\n",
        "\n",
        "Podemos hacer esto usando el método `replace`."
      ]
    },
    {
      "cell_type": "code",
      "metadata": {
        "id": "dpr19e6yKSRD",
        "colab_type": "code",
        "colab": {}
      },
      "source": [
        "# Crear un diccionario con los valorea a reemplazar\n",
        "\n",
        "mapeo = {'Microfost':'DesktopOS','MacOS':'DesktopOS',\n",
        "         'Linux':'DesktopOS','IOS':'MobileOS','Android':'MobileOs'}\n",
        "\n",
        "equipos['sistema_operativo'] = equipos['sistema_operativo'].replace(mapeo)\n",
        "\n",
        "equiops['sistema_operativo'].unique()"
      ],
      "execution_count": null,
      "outputs": []
    },
    {
      "cell_type": "markdown",
      "metadata": {
        "id": "ddq36amWNv32",
        "colab_type": "text"
      },
      "source": [
        "A continuación haremos algunos ejemplos practicos:\n",
        "\n",
        "\n",
        "* El DataFrame contiene metadatos de vuelo, como la aerolínea, el destino, los tiempos de espera, así como respuestas a preguntas clave sobre limpieza, seguridad y satisfacción en el aeropuerto de San Francisco.\n",
        "\n",
        "\n",
        "En este ejercicio, examinaremos dos columnas categóricas de este * DataFrame, `dest_region` y `dest_size` respectivamente, evaluaremos cómo abordarlas y nos aseguraremos de que estén limpias y listas para el análisis.\n",
        "\n"
      ]
    },
    {
      "cell_type": "code",
      "metadata": {
        "id": "D8fbSSXHOoAs",
        "colab_type": "code",
        "colab": {
          "base_uri": "https://localhost:8080/",
          "height": 68
        },
        "outputId": "2ae0f682-7e35-4bc9-c890-4ad2af3a9a68"
      },
      "source": [
        "import pandas as pd\n",
        "\n",
        "\n",
        "airlines = pd.read_csv(\"/content/airlines_final.csv\")\n",
        "\n",
        "# Imprimir la región de destino de los vuelos\n",
        "print(airlines['dest_region'].unique())\n"
      ],
      "execution_count": 1,
      "outputs": [
        {
          "output_type": "stream",
          "text": [
            "['Asia' 'Canada/Mexico' 'West US' 'East US' 'Midwest US' 'EAST US'\n",
            " 'Middle East' 'Europe' 'eur' 'Central/South America'\n",
            " 'Australia/New Zealand' 'middle east']\n"
          ],
          "name": "stdout"
        }
      ]
    },
    {
      "cell_type": "code",
      "metadata": {
        "id": "qej4pMYrO1tf",
        "colab_type": "code",
        "colab": {
          "base_uri": "https://localhost:8080/",
          "height": 51
        },
        "outputId": "b210cd09-bf66-495a-8dbf-5764a6a6845f"
      },
      "source": [
        "# imprimir la region de tamaño del equipaje\n",
        "print(airlines['dest_size'].unique())"
      ],
      "execution_count": null,
      "outputs": [
        {
          "output_type": "stream",
          "text": [
            "['Hub' 'Small' '    Hub' 'Medium' 'Large' 'Hub     ' '    Small'\n",
            " 'Medium     ' '    Medium' 'Small     ' '    Large' 'Large     ']\n"
          ],
          "name": "stdout"
        }
      ]
    },
    {
      "cell_type": "markdown",
      "metadata": {
        "id": "AcxHAiJTPNDI",
        "colab_type": "text"
      },
      "source": [
        "Al observar el resultado, ¿cuál crees que es el problema con estas columnas?\n",
        "\n",
        "Podemos observar que la columna `dest_region` , tiene valores inconsistentes devido a las mAyusculas u tiene un vlor que necesita ser reasignado.\n",
        "\n",
        "Tambien la columna `dest_size` tiene valores inconsistentes debido  s los espacios iniciales y finales.\n",
        "\n",
        "Veamos como podemos solucionar estos problemas:\n",
        "\n",
        "Empecemos las letras mayusculas de la columna `dest_region`."
      ]
    },
    {
      "cell_type": "code",
      "metadata": {
        "id": "Af1ZB4-NO3r3",
        "colab_type": "code",
        "colab": {
          "base_uri": "https://localhost:8080/",
          "height": 51
        },
        "outputId": "845f0427-230b-48a9-8457-bbb5f7a62e0b"
      },
      "source": [
        "# convertimos todos los valores a minusculas\n",
        "airlines[\"dest_region\"] = airlines[\"dest_region\"].str.lower()\n",
        "print(airlines['dest_region'].unique())"
      ],
      "execution_count": 3,
      "outputs": [
        {
          "output_type": "stream",
          "text": [
            "['asia' 'canada/mexico' 'west us' 'east us' 'midwest us' 'middle east'\n",
            " 'europe' 'eur' 'central/south america' 'australia/new zealand']\n"
          ],
          "name": "stdout"
        }
      ]
    },
    {
      "cell_type": "code",
      "metadata": {
        "id": "BVrVj_rzQlaS",
        "colab_type": "code",
        "colab": {
          "base_uri": "https://localhost:8080/",
          "height": 51
        },
        "outputId": "f99cb95d-f107-43cd-d442-79cb68c79e4c"
      },
      "source": [
        "# eliminar espacios\n",
        "\n",
        "dest_region = airlines[\"dest_region\"].str.strip()\n",
        "print(airlines['dest_region'].unique())"
      ],
      "execution_count": 4,
      "outputs": [
        {
          "output_type": "stream",
          "text": [
            "['asia' 'canada/mexico' 'west us' 'east us' 'midwest us' 'middle east'\n",
            " 'europe' 'eur' 'central/south america' 'australia/new zealand']\n"
          ],
          "name": "stdout"
        }
      ]
    },
    {
      "cell_type": "markdown",
      "metadata": {
        "id": "2MdMERLvy6P1",
        "colab_type": "text"
      },
      "source": [
        "## Variables inconsistentes.\n",
        "\n",
        "Ahora examinaremos dos columnas categóricas de este DataFrame, dest_region y dest_size respectivamente, evaluaremos cómo abordarlas y nos aseguraremos de que estén limpias y listas para el análisis."
      ]
    },
    {
      "cell_type": "code",
      "metadata": {
        "id": "MpfKvOVWQ_4_",
        "colab_type": "code",
        "colab": {
          "base_uri": "https://localhost:8080/",
          "height": 85
        },
        "outputId": "4e815a8a-2f98-466e-bc52-4d29c7f8c59b"
      },
      "source": [
        "# Imprimir valores únicos de ambas columnas\n",
        "print(airlines['dest_region'].unique())\n",
        "print(airlines['dest_size'].unique())"
      ],
      "execution_count": 5,
      "outputs": [
        {
          "output_type": "stream",
          "text": [
            "['asia' 'canada/mexico' 'west us' 'east us' 'midwest us' 'middle east'\n",
            " 'europe' 'eur' 'central/south america' 'australia/new zealand']\n",
            "['Hub' 'Small' '    Hub' 'Medium' 'Large' 'Hub     ' '    Small'\n",
            " 'Medium     ' '    Medium' 'Small     ' '    Large' 'Large     ']\n"
          ],
          "name": "stdout"
        }
      ]
    },
    {
      "cell_type": "code",
      "metadata": {
        "id": "ZYwUbOdhRBwG",
        "colab_type": "code",
        "colab": {}
      },
      "source": [
        "# minuscula la columna dest_region y luego reemplaza \"eur\" por \"europa\"\n",
        "\n",
        "airlines['dest_region'] = airlines['dest_region'].str.lower() \n",
        "airlines['dest_region'] = airlines['dest_region'].replace({'eur':'europe'})"
      ],
      "execution_count": 6,
      "outputs": []
    },
    {
      "cell_type": "markdown",
      "metadata": {
        "id": "cqBtO2Tkzolv",
        "colab_type": "text"
      },
      "source": [
        "Ahora examinaremos las columnas categóricas `dest_region` & `dest_size` , y veremos si necesitan algun tipo de limpieza pra despues analizarlas."
      ]
    },
    {
      "cell_type": "code",
      "metadata": {
        "id": "kpqMDOSAzbDa",
        "colab_type": "code",
        "colab": {}
      },
      "source": [
        "# eliminamos los espacios de dest_size\n",
        "\n",
        "airlines['dest_size'] = airlines['dest_size'].str.strip()"
      ],
      "execution_count": 7,
      "outputs": []
    },
    {
      "cell_type": "code",
      "metadata": {
        "id": "dP6Vq35k0O9h",
        "colab_type": "code",
        "colab": {
          "base_uri": "https://localhost:8080/",
          "height": 68
        },
        "outputId": "28334fe4-8527-4c15-ab15-02a9d720c5bf"
      },
      "source": [
        "# Verificamos que los datos esten correctamente implementados.\n",
        "print(airlines['dest_region'].unique())\n",
        "print(airlines['dest_size'].unique())"
      ],
      "execution_count": 9,
      "outputs": [
        {
          "output_type": "stream",
          "text": [
            "['asia' 'canada/mexico' 'west us' 'east us' 'midwest us' 'middle east'\n",
            " 'europe' 'central/south america' 'australia/new zealand']\n",
            "['Hub' 'Small' 'Medium' 'Large']\n"
          ],
          "name": "stdout"
        }
      ]
    },
    {
      "cell_type": "markdown",
      "metadata": {
        "id": "VtVmvbTr0o-_",
        "colab_type": "text"
      },
      "source": [
        "## Reasignación de categorías.\n",
        "\n",
        "Para comprender mejor a los encuestados de las aerolíneas, deseamos averiguar si existe una relación entre ciertas respuestas y el día de la semana y el tiempo de espera en la puerta de embarque.\n",
        "\n",
        "El DataFrame de la aerolínea contiene las columnas day y wait_min, que son categóricas y numéricas respectivamente. La columna del día contiene el día exacto en que se realizó un vuelo y wait_min contiene la cantidad de minutos que los viajeros tardaron en esperar en la puerta. Para facilitar su análisis, deseamos crear dos nuevas variables categóricas:\n",
        "\n",
        "* wait_type: 'corto' para 0-60 min, 'medio' para 60-180 y largo para 180+\n",
        "\n",
        "* day_week: 'weekday' si el día está en el día de la semana, 'weekend' si el día está en el fin de semana.\n",
        "\n",
        "### PASOS:\n",
        "\n",
        "\n",
        "1.   Crear los rangos y etiquetas para la columna `wit_type`\n",
        "2.   Crear la columna wait_type desde wait_min usando pd.cut (), mientras ingresamos label_ranges y label_names en los argumentos correctos.\n",
        "\n",
        "3. Crear el diccionario de mapeo que asignar los días de la semana a \"días de la semana\" y los días de fin de semana a \"fines de semana\".\n",
        "\n",
        "4. Crear la columna day_week usando .replace ().\n",
        "\n"
      ]
    },
    {
      "cell_type": "code",
      "metadata": {
        "id": "zDR-u2FF0QXr",
        "colab_type": "code",
        "colab": {
          "base_uri": "https://localhost:8080/",
          "height": 309
        },
        "outputId": "79e8c065-237a-4172-e5ec-545b59c72ec2"
      },
      "source": [
        "import numpy as np\n",
        "\n",
        "# Crear rangos de categorias\n",
        "label_ranges = [0, 60, 180, np.inf]\n",
        "label_names = ['short', 'medium', 'long']\n",
        "\n",
        "# Crear columna wait_type\n",
        "airlines['wait_type'] = pd.cut(airlines['wait_min'], bins = label_ranges, \n",
        "                               labels = label_names)\n",
        "\n",
        "# Crear asignaciones y reemplazar\n",
        "mappings = {'Monday':'weekday', 'Tuesday':'weekday', 'Wednesday': 'weekday', \n",
        "            'Thursday': 'weekday', 'Friday': 'weekday', \n",
        "            'Saturday': 'weekend', 'Sunday': 'weekend'}\n",
        "\n",
        "airlines['day_week'] = airlines['day'].replace(mappings)\n",
        "\n",
        "airlines.head()"
      ],
      "execution_count": 14,
      "outputs": [
        {
          "output_type": "execute_result",
          "data": {
            "text/html": [
              "<div>\n",
              "<style scoped>\n",
              "    .dataframe tbody tr th:only-of-type {\n",
              "        vertical-align: middle;\n",
              "    }\n",
              "\n",
              "    .dataframe tbody tr th {\n",
              "        vertical-align: top;\n",
              "    }\n",
              "\n",
              "    .dataframe thead th {\n",
              "        text-align: right;\n",
              "    }\n",
              "</style>\n",
              "<table border=\"1\" class=\"dataframe\">\n",
              "  <thead>\n",
              "    <tr style=\"text-align: right;\">\n",
              "      <th></th>\n",
              "      <th>Unnamed: 0</th>\n",
              "      <th>id</th>\n",
              "      <th>day</th>\n",
              "      <th>airline</th>\n",
              "      <th>destination</th>\n",
              "      <th>dest_region</th>\n",
              "      <th>dest_size</th>\n",
              "      <th>boarding_area</th>\n",
              "      <th>dept_time</th>\n",
              "      <th>wait_min</th>\n",
              "      <th>cleanliness</th>\n",
              "      <th>safety</th>\n",
              "      <th>satisfaction</th>\n",
              "      <th>wait_type</th>\n",
              "      <th>day_week</th>\n",
              "    </tr>\n",
              "  </thead>\n",
              "  <tbody>\n",
              "    <tr>\n",
              "      <th>0</th>\n",
              "      <td>0</td>\n",
              "      <td>1351</td>\n",
              "      <td>Tuesday</td>\n",
              "      <td>UNITED INTL</td>\n",
              "      <td>KANSAI</td>\n",
              "      <td>asia</td>\n",
              "      <td>Hub</td>\n",
              "      <td>Gates 91-102</td>\n",
              "      <td>2018-12-31</td>\n",
              "      <td>115.0</td>\n",
              "      <td>Clean</td>\n",
              "      <td>Neutral</td>\n",
              "      <td>Very satisfied</td>\n",
              "      <td>medium</td>\n",
              "      <td>weekday</td>\n",
              "    </tr>\n",
              "    <tr>\n",
              "      <th>1</th>\n",
              "      <td>1</td>\n",
              "      <td>373</td>\n",
              "      <td>Friday</td>\n",
              "      <td>ALASKA</td>\n",
              "      <td>SAN JOSE DEL CABO</td>\n",
              "      <td>canada/mexico</td>\n",
              "      <td>Small</td>\n",
              "      <td>Gates 50-59</td>\n",
              "      <td>2018-12-31</td>\n",
              "      <td>135.0</td>\n",
              "      <td>Clean</td>\n",
              "      <td>Very safe</td>\n",
              "      <td>Very satisfied</td>\n",
              "      <td>medium</td>\n",
              "      <td>weekday</td>\n",
              "    </tr>\n",
              "    <tr>\n",
              "      <th>2</th>\n",
              "      <td>2</td>\n",
              "      <td>2820</td>\n",
              "      <td>Thursday</td>\n",
              "      <td>DELTA</td>\n",
              "      <td>LOS ANGELES</td>\n",
              "      <td>west us</td>\n",
              "      <td>Hub</td>\n",
              "      <td>Gates 40-48</td>\n",
              "      <td>2018-12-31</td>\n",
              "      <td>70.0</td>\n",
              "      <td>Average</td>\n",
              "      <td>Somewhat safe</td>\n",
              "      <td>Neutral</td>\n",
              "      <td>medium</td>\n",
              "      <td>weekday</td>\n",
              "    </tr>\n",
              "    <tr>\n",
              "      <th>3</th>\n",
              "      <td>3</td>\n",
              "      <td>1157</td>\n",
              "      <td>Tuesday</td>\n",
              "      <td>SOUTHWEST</td>\n",
              "      <td>LOS ANGELES</td>\n",
              "      <td>west us</td>\n",
              "      <td>Hub</td>\n",
              "      <td>Gates 20-39</td>\n",
              "      <td>2018-12-31</td>\n",
              "      <td>190.0</td>\n",
              "      <td>Clean</td>\n",
              "      <td>Very safe</td>\n",
              "      <td>Somewhat satsified</td>\n",
              "      <td>long</td>\n",
              "      <td>weekday</td>\n",
              "    </tr>\n",
              "    <tr>\n",
              "      <th>4</th>\n",
              "      <td>4</td>\n",
              "      <td>2992</td>\n",
              "      <td>Wednesday</td>\n",
              "      <td>AMERICAN</td>\n",
              "      <td>MIAMI</td>\n",
              "      <td>east us</td>\n",
              "      <td>Hub</td>\n",
              "      <td>Gates 50-59</td>\n",
              "      <td>2018-12-31</td>\n",
              "      <td>559.0</td>\n",
              "      <td>Somewhat clean</td>\n",
              "      <td>Very safe</td>\n",
              "      <td>Somewhat satsified</td>\n",
              "      <td>long</td>\n",
              "      <td>weekday</td>\n",
              "    </tr>\n",
              "  </tbody>\n",
              "</table>\n",
              "</div>"
            ],
            "text/plain": [
              "   Unnamed: 0    id        day  ...        satisfaction wait_type day_week\n",
              "0           0  1351    Tuesday  ...      Very satisfied    medium  weekday\n",
              "1           1   373     Friday  ...      Very satisfied    medium  weekday\n",
              "2           2  2820   Thursday  ...             Neutral    medium  weekday\n",
              "3           3  1157    Tuesday  ...  Somewhat satsified      long  weekday\n",
              "4           4  2992  Wednesday  ...  Somewhat satsified      long  weekday\n",
              "\n",
              "[5 rows x 15 columns]"
            ]
          },
          "metadata": {
            "tags": []
          },
          "execution_count": 14
        }
      ]
    },
    {
      "cell_type": "code",
      "metadata": {
        "id": "8g_fW_P92Jyg",
        "colab_type": "code",
        "colab": {}
      },
      "source": [
        ""
      ],
      "execution_count": null,
      "outputs": []
    }
  ]
}