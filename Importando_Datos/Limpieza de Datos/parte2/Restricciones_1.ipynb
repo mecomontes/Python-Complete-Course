{
  "nbformat": 4,
  "nbformat_minor": 0,
  "metadata": {
    "colab": {
      "name": "Restricciones_1.ipynb",
      "provenance": [],
      "collapsed_sections": []
    },
    "kernelspec": {
      "name": "python3",
      "display_name": "Python 3"
    }
  },
  "cells": [
    {
      "cell_type": "markdown",
      "metadata": {
        "id": "v05VyFGjz0TD",
        "colab_type": "text"
      },
      "source": [
        "# Segunds parte Data Cleaning.\n",
        "\n",
        "En esta sección veremos problemas con el texto y con datos categóricos,en esta parte espcificamente veremos variables categóricas.\n",
        "\n",
        "Recordemos que los datos categóricos representan variables que representan un conjunto finito predefinido de categorias.\n",
        "\n",
        "Ejmplos de estos, podrian ser estado civil, ingresos del hogar, estado de un préstamo entre otros.\n",
        "\n",
        "Para ejecutar modelos de Machine Learning , amenudo se usan datos categóricos que se codifican como numeros.\n",
        "\n",
        "Dado que los datos categóricos representan un conjunto predefinido de categorias, no pueden tener valores que vayan más allá de esas categorias predefinidas.\n",
        "\n",
        "### ¿Cuándo podriamos tener problemas?\n",
        "\n",
        "Podemos tener inconsistencias en nuetros datos categóricos por una variedad de razones.Esto podría deverse a problemas de entrada de datos con texto libre vs campos desplegables, errores de análisis de datos entre otros.\n",
        "\n",
        "Hay una variedad de formas en las que podemos tratar esto,con soluciones cada vez más espeificas para diferentes tipos de inconsistencias.\n",
        "\n",
        "Simplemente, podemos soltar las filas con categorías incorrectas o podriamos intentar reasignar categorías incorrectas para corregirlas entre otros métodos.\n",
        "\n",
        "Antes de tratar con valores inconsistentes , tengamos un breve recordatorio de uniones, los dos tipos principales de uniones que nos interesan aqui son la antiunion y la union interna.\n",
        "\n",
        "\n",
        "Unimos DataFrames en columnas comunes entre ellos, por lo que una antiunion toma doas DataFrame A & B y devuelve los datos de un DataFrame que no esta contenido en el otro dataframe.\n",
        "\n",
        "\n",
        "En esta imagen estamos realizando una antiunion de A & B y estamos devolviendo las columnas de los DataFrames para valores que solo estan en la columna de A común entre los que se unen.\n",
        "\n",
        "**\"Lo que hay en A y no en B\"**\n",
        "\n",
        "![Antiunion](https://i.imgur.com/p5SKiOI.png)\n",
        "\n",
        "\n",
        "Los Inner Join o Uniones internas devuelve solo los datos contenidos en ambos DataFrames\n",
        "\n",
        "![Inner Join](https://external-content.duckduckgo.com/iu/?u=https%3A%2F%2Ftse3.mm.bing.net%2Fth%3Fid%3DOIP.4qKmiCic7MjCEaJI8k2dxgHaEc%26pid%3DApi&f=1)\n",
        "\n",
        "Por ejemplo , una unión interna de A & B devlveria las columnas de ambos DataFrames para valores que solo se encuentren en A & B, de la columna común entre ellos.\n",
        "\n",
        "## Código a utilizar:\n",
        "\n",
        "* `set()` - Esta función crea un objeto de un conjunto , los elementos de una lista de conjuntos estan desordenados , por que apareceran en orden aleatorio.\n",
        "\n"
      ]
    },
    {
      "cell_type": "code",
      "metadata": {
        "id": "qZLIKcgPzvDz",
        "colab_type": "code",
        "colab": {
          "base_uri": "https://localhost:8080/",
          "height": 34
        },
        "outputId": "9bff11c9-979b-4189-83e6-866601bac8bf"
      },
      "source": [
        "x = set(('apple', 'banana', 'cherry'))\n",
        "x"
      ],
      "execution_count": 2,
      "outputs": [
        {
          "output_type": "execute_result",
          "data": {
            "text/plain": [
              "{'apple', 'banana', 'cherry'}"
            ]
          },
          "metadata": {
            "tags": []
          },
          "execution_count": 2
        }
      ]
    },
    {
      "cell_type": "markdown",
      "metadata": {
        "id": "OWYSIhMG44wy",
        "colab_type": "text"
      },
      "source": [
        "* `difference()` - Este método devuelve la diferencia de conjuntos de dos conjuntos. \n",
        "\n",
        "Aqui un ejemplo:\n",
        "\n",
        "Sean `A` & `B` dos conjuntos, la diferencia de `A` & `B` es el conjunto de elementos que existen en A pero no en B , por ejemplo:"
      ]
    },
    {
      "cell_type": "code",
      "metadata": {
        "id": "9BT5zGPq4r2D",
        "colab_type": "code",
        "colab": {
          "base_uri": "https://localhost:8080/",
          "height": 34
        },
        "outputId": "46402af2-a22b-4001-b9ad-2dcc5a169e29"
      },
      "source": [
        "# Inicializar valores\n",
        "\n",
        "A = {1,2,3,56,7}\n",
        "B ={7,3,8,56,34}\n",
        "\n",
        "# Los numeros que solo estan en A pero no en B\n",
        "A.difference(B)\n",
        "# Los numeros que estan en B pero no en A\n",
        "B.difference(A)"
      ],
      "execution_count": 7,
      "outputs": [
        {
          "output_type": "execute_result",
          "data": {
            "text/plain": [
              "{8, 34}"
            ]
          },
          "metadata": {
            "tags": []
          },
          "execution_count": 7
        }
      ]
    },
    {
      "cell_type": "markdown",
      "metadata": {
        "id": "aBwFOsjQ6DbM",
        "colab_type": "text"
      },
      "source": [
        "* `.isin()`- El método pandas `isin()` se utiliza para **filtrar marcos de datos**. El método isin () ayuda a seleccionar filas con un valor particular (o múltiple) en una columna en particular.\n",
        "\n",
        "En el siguiente ejemplo, se comprueban las filas y se devuelve una serie booleana que es Verdadero siempre que Género = ”Hombre”. Luego, la serie se pasa al marco de datos para ver un nuevo marco de datos filtrado."
      ]
    },
    {
      "cell_type": "code",
      "metadata": {
        "id": "gj8xdOw65fOI",
        "colab_type": "code",
        "colab": {
          "base_uri": "https://localhost:8080/",
          "height": 238
        },
        "outputId": "d7f949b9-91d3-4fd1-8a2c-f740853a3c93"
      },
      "source": [
        "import pandas as pd\n",
        "\n",
        "data = pd.read_csv(\"/content/employees.csv\")\n",
        "\n",
        "data.head()"
      ],
      "execution_count": 8,
      "outputs": [
        {
          "output_type": "execute_result",
          "data": {
            "text/html": [
              "<div>\n",
              "<style scoped>\n",
              "    .dataframe tbody tr th:only-of-type {\n",
              "        vertical-align: middle;\n",
              "    }\n",
              "\n",
              "    .dataframe tbody tr th {\n",
              "        vertical-align: top;\n",
              "    }\n",
              "\n",
              "    .dataframe thead th {\n",
              "        text-align: right;\n",
              "    }\n",
              "</style>\n",
              "<table border=\"1\" class=\"dataframe\">\n",
              "  <thead>\n",
              "    <tr style=\"text-align: right;\">\n",
              "      <th></th>\n",
              "      <th>First Name</th>\n",
              "      <th>Gender</th>\n",
              "      <th>Start Date</th>\n",
              "      <th>Last Login Time</th>\n",
              "      <th>Salary</th>\n",
              "      <th>Bonus %</th>\n",
              "      <th>Senior Management</th>\n",
              "      <th>Team</th>\n",
              "    </tr>\n",
              "  </thead>\n",
              "  <tbody>\n",
              "    <tr>\n",
              "      <th>0</th>\n",
              "      <td>Douglas</td>\n",
              "      <td>Male</td>\n",
              "      <td>8/6/1993</td>\n",
              "      <td>12:42 PM</td>\n",
              "      <td>97308</td>\n",
              "      <td>6.945</td>\n",
              "      <td>True</td>\n",
              "      <td>Marketing</td>\n",
              "    </tr>\n",
              "    <tr>\n",
              "      <th>1</th>\n",
              "      <td>Thomas</td>\n",
              "      <td>Male</td>\n",
              "      <td>3/31/1996</td>\n",
              "      <td>6:53 AM</td>\n",
              "      <td>61933</td>\n",
              "      <td>4.170</td>\n",
              "      <td>True</td>\n",
              "      <td>NaN</td>\n",
              "    </tr>\n",
              "    <tr>\n",
              "      <th>2</th>\n",
              "      <td>Maria</td>\n",
              "      <td>Female</td>\n",
              "      <td>4/23/1993</td>\n",
              "      <td>11:17 AM</td>\n",
              "      <td>130590</td>\n",
              "      <td>11.858</td>\n",
              "      <td>False</td>\n",
              "      <td>Finance</td>\n",
              "    </tr>\n",
              "    <tr>\n",
              "      <th>3</th>\n",
              "      <td>Jerry</td>\n",
              "      <td>Male</td>\n",
              "      <td>3/4/2005</td>\n",
              "      <td>1:00 PM</td>\n",
              "      <td>138705</td>\n",
              "      <td>9.340</td>\n",
              "      <td>True</td>\n",
              "      <td>Finance</td>\n",
              "    </tr>\n",
              "    <tr>\n",
              "      <th>4</th>\n",
              "      <td>Larry</td>\n",
              "      <td>Male</td>\n",
              "      <td>1/24/1998</td>\n",
              "      <td>4:47 PM</td>\n",
              "      <td>101004</td>\n",
              "      <td>1.389</td>\n",
              "      <td>True</td>\n",
              "      <td>Client Services</td>\n",
              "    </tr>\n",
              "  </tbody>\n",
              "</table>\n",
              "</div>"
            ],
            "text/plain": [
              "  First Name  Gender Start Date  ... Bonus %  Senior Management             Team\n",
              "0    Douglas    Male   8/6/1993  ...   6.945               True        Marketing\n",
              "1     Thomas    Male  3/31/1996  ...   4.170               True              NaN\n",
              "2      Maria  Female  4/23/1993  ...  11.858              False          Finance\n",
              "3      Jerry    Male   3/4/2005  ...   9.340               True          Finance\n",
              "4      Larry    Male  1/24/1998  ...   1.389               True  Client Services\n",
              "\n",
              "[5 rows x 8 columns]"
            ]
          },
          "metadata": {
            "tags": []
          },
          "execution_count": 8
        }
      ]
    },
    {
      "cell_type": "markdown",
      "metadata": {
        "id": "1OiS7sDP6tOZ",
        "colab_type": "text"
      },
      "source": [
        "En este caso queremos ver que en la columna Gender se ubican todas las mujeres."
      ]
    },
    {
      "cell_type": "code",
      "metadata": {
        "id": "lHPA57Dm6ji9",
        "colab_type": "code",
        "colab": {
          "base_uri": "https://localhost:8080/",
          "height": 221
        },
        "outputId": "bee9fd72-4e13-4c7c-88f9-8427eee96774"
      },
      "source": [
        "new_data = data[\"Gender\"].isin([\"Male\"])\n",
        "new_data"
      ],
      "execution_count": 11,
      "outputs": [
        {
          "output_type": "execute_result",
          "data": {
            "text/plain": [
              "0       True\n",
              "1       True\n",
              "2      False\n",
              "3       True\n",
              "4       True\n",
              "       ...  \n",
              "995    False\n",
              "996     True\n",
              "997     True\n",
              "998     True\n",
              "999     True\n",
              "Name: Gender, Length: 1000, dtype: bool"
            ]
          },
          "metadata": {
            "tags": []
          },
          "execution_count": 11
        }
      ]
    },
    {
      "cell_type": "markdown",
      "metadata": {
        "id": "9zrSOIOH96B4",
        "colab_type": "text"
      },
      "source": [
        "* `unique()` - Al analizar los datos, muchas veces queremos ver los valores unios en una columna en particulas  lo que se puede hacer usando la función `unique()`."
      ]
    },
    {
      "cell_type": "markdown",
      "metadata": {
        "id": "l2QyhPUF7meB",
        "colab_type": "text"
      },
      "source": [
        "## Encontrando consistencias.\n",
        "\n",
        "En estos ejemplos usaremos el DataFrame de las aeroilneas de SanFrancisco , que contiene respuestas de encuestas sobre el aeropuerto de San Francisco de clientes de aerolineas.\n",
        "\n",
        "El dataFrame contiene metadatos de vuelo, como la aerolinea, el destino, los tiempos de espera, así omo respuestas a preguntas clave sobre limpieza, satisfacción.También creamos otro DataFrame, que contiene todos los valores posibles correctos para ls columnas de la encuesta."
      ]
    },
    {
      "cell_type": "code",
      "metadata": {
        "id": "BdGL1kJg6q86",
        "colab_type": "code",
        "colab": {
          "base_uri": "https://localhost:8080/",
          "height": 309
        },
        "outputId": "fbb3d524-3462-4281-c8a3-bf96dd5956dc"
      },
      "source": [
        "# DataFrame principal\n",
        "airlines = pd.read_csv(\"/content/airlines_final.csv\")\n",
        "airlines.head()"
      ],
      "execution_count": 20,
      "outputs": [
        {
          "output_type": "execute_result",
          "data": {
            "text/html": [
              "<div>\n",
              "<style scoped>\n",
              "    .dataframe tbody tr th:only-of-type {\n",
              "        vertical-align: middle;\n",
              "    }\n",
              "\n",
              "    .dataframe tbody tr th {\n",
              "        vertical-align: top;\n",
              "    }\n",
              "\n",
              "    .dataframe thead th {\n",
              "        text-align: right;\n",
              "    }\n",
              "</style>\n",
              "<table border=\"1\" class=\"dataframe\">\n",
              "  <thead>\n",
              "    <tr style=\"text-align: right;\">\n",
              "      <th></th>\n",
              "      <th>Unnamed: 0</th>\n",
              "      <th>id</th>\n",
              "      <th>day</th>\n",
              "      <th>airline</th>\n",
              "      <th>destination</th>\n",
              "      <th>dest_region</th>\n",
              "      <th>dest_size</th>\n",
              "      <th>boarding_area</th>\n",
              "      <th>dept_time</th>\n",
              "      <th>wait_min</th>\n",
              "      <th>cleanliness</th>\n",
              "      <th>safety</th>\n",
              "      <th>satisfaction</th>\n",
              "    </tr>\n",
              "  </thead>\n",
              "  <tbody>\n",
              "    <tr>\n",
              "      <th>0</th>\n",
              "      <td>0</td>\n",
              "      <td>1351</td>\n",
              "      <td>Tuesday</td>\n",
              "      <td>UNITED INTL</td>\n",
              "      <td>KANSAI</td>\n",
              "      <td>Asia</td>\n",
              "      <td>Hub</td>\n",
              "      <td>Gates 91-102</td>\n",
              "      <td>2018-12-31</td>\n",
              "      <td>115.0</td>\n",
              "      <td>Clean</td>\n",
              "      <td>Neutral</td>\n",
              "      <td>Very satisfied</td>\n",
              "    </tr>\n",
              "    <tr>\n",
              "      <th>1</th>\n",
              "      <td>1</td>\n",
              "      <td>373</td>\n",
              "      <td>Friday</td>\n",
              "      <td>ALASKA</td>\n",
              "      <td>SAN JOSE DEL CABO</td>\n",
              "      <td>Canada/Mexico</td>\n",
              "      <td>Small</td>\n",
              "      <td>Gates 50-59</td>\n",
              "      <td>2018-12-31</td>\n",
              "      <td>135.0</td>\n",
              "      <td>Clean</td>\n",
              "      <td>Very safe</td>\n",
              "      <td>Very satisfied</td>\n",
              "    </tr>\n",
              "    <tr>\n",
              "      <th>2</th>\n",
              "      <td>2</td>\n",
              "      <td>2820</td>\n",
              "      <td>Thursday</td>\n",
              "      <td>DELTA</td>\n",
              "      <td>LOS ANGELES</td>\n",
              "      <td>West US</td>\n",
              "      <td>Hub</td>\n",
              "      <td>Gates 40-48</td>\n",
              "      <td>2018-12-31</td>\n",
              "      <td>70.0</td>\n",
              "      <td>Average</td>\n",
              "      <td>Somewhat safe</td>\n",
              "      <td>Neutral</td>\n",
              "    </tr>\n",
              "    <tr>\n",
              "      <th>3</th>\n",
              "      <td>3</td>\n",
              "      <td>1157</td>\n",
              "      <td>Tuesday</td>\n",
              "      <td>SOUTHWEST</td>\n",
              "      <td>LOS ANGELES</td>\n",
              "      <td>West US</td>\n",
              "      <td>Hub</td>\n",
              "      <td>Gates 20-39</td>\n",
              "      <td>2018-12-31</td>\n",
              "      <td>190.0</td>\n",
              "      <td>Clean</td>\n",
              "      <td>Very safe</td>\n",
              "      <td>Somewhat satsified</td>\n",
              "    </tr>\n",
              "    <tr>\n",
              "      <th>4</th>\n",
              "      <td>4</td>\n",
              "      <td>2992</td>\n",
              "      <td>Wednesday</td>\n",
              "      <td>AMERICAN</td>\n",
              "      <td>MIAMI</td>\n",
              "      <td>East US</td>\n",
              "      <td>Hub</td>\n",
              "      <td>Gates 50-59</td>\n",
              "      <td>2018-12-31</td>\n",
              "      <td>559.0</td>\n",
              "      <td>Somewhat clean</td>\n",
              "      <td>Very safe</td>\n",
              "      <td>Somewhat satsified</td>\n",
              "    </tr>\n",
              "  </tbody>\n",
              "</table>\n",
              "</div>"
            ],
            "text/plain": [
              "   Unnamed: 0    id  ...         safety        satisfaction\n",
              "0           0  1351  ...        Neutral      Very satisfied\n",
              "1           1   373  ...      Very safe      Very satisfied\n",
              "2           2  2820  ...  Somewhat safe             Neutral\n",
              "3           3  1157  ...      Very safe  Somewhat satsified\n",
              "4           4  2992  ...      Very safe  Somewhat satsified\n",
              "\n",
              "[5 rows x 13 columns]"
            ]
          },
          "metadata": {
            "tags": []
          },
          "execution_count": 20
        }
      ]
    },
    {
      "cell_type": "code",
      "metadata": {
        "id": "P2Yo4-lH8RQ7",
        "colab_type": "code",
        "colab": {
          "base_uri": "https://localhost:8080/",
          "height": 204
        },
        "outputId": "c51240af-28e6-4668-8a32-3e28cd96ab3a"
      },
      "source": [
        "# DataFrame Secundario\n",
        "category = airlines.loc[:,[\"cleanliness\",\"safety\",\"satisfaction\"]]\n",
        "category.head()"
      ],
      "execution_count": 21,
      "outputs": [
        {
          "output_type": "execute_result",
          "data": {
            "text/html": [
              "<div>\n",
              "<style scoped>\n",
              "    .dataframe tbody tr th:only-of-type {\n",
              "        vertical-align: middle;\n",
              "    }\n",
              "\n",
              "    .dataframe tbody tr th {\n",
              "        vertical-align: top;\n",
              "    }\n",
              "\n",
              "    .dataframe thead th {\n",
              "        text-align: right;\n",
              "    }\n",
              "</style>\n",
              "<table border=\"1\" class=\"dataframe\">\n",
              "  <thead>\n",
              "    <tr style=\"text-align: right;\">\n",
              "      <th></th>\n",
              "      <th>cleanliness</th>\n",
              "      <th>safety</th>\n",
              "      <th>satisfaction</th>\n",
              "    </tr>\n",
              "  </thead>\n",
              "  <tbody>\n",
              "    <tr>\n",
              "      <th>0</th>\n",
              "      <td>Clean</td>\n",
              "      <td>Neutral</td>\n",
              "      <td>Very satisfied</td>\n",
              "    </tr>\n",
              "    <tr>\n",
              "      <th>1</th>\n",
              "      <td>Clean</td>\n",
              "      <td>Very safe</td>\n",
              "      <td>Very satisfied</td>\n",
              "    </tr>\n",
              "    <tr>\n",
              "      <th>2</th>\n",
              "      <td>Average</td>\n",
              "      <td>Somewhat safe</td>\n",
              "      <td>Neutral</td>\n",
              "    </tr>\n",
              "    <tr>\n",
              "      <th>3</th>\n",
              "      <td>Clean</td>\n",
              "      <td>Very safe</td>\n",
              "      <td>Somewhat satsified</td>\n",
              "    </tr>\n",
              "    <tr>\n",
              "      <th>4</th>\n",
              "      <td>Somewhat clean</td>\n",
              "      <td>Very safe</td>\n",
              "      <td>Somewhat satsified</td>\n",
              "    </tr>\n",
              "  </tbody>\n",
              "</table>\n",
              "</div>"
            ],
            "text/plain": [
              "      cleanliness         safety        satisfaction\n",
              "0           Clean        Neutral      Very satisfied\n",
              "1           Clean      Very safe      Very satisfied\n",
              "2         Average  Somewhat safe             Neutral\n",
              "3           Clean      Very safe  Somewhat satsified\n",
              "4  Somewhat clean      Very safe  Somewhat satsified"
            ]
          },
          "metadata": {
            "tags": []
          },
          "execution_count": 21
        }
      ]
    },
    {
      "cell_type": "markdown",
      "metadata": {
        "id": "9mt_TtCc9Mq9",
        "colab_type": "text"
      },
      "source": [
        "En este ejercicio, usaremos ambos DataFrames para encontrar respuestas de encuestas con valores inconsistentes y eliminarlas, realizando de manera efectiva una combinación externa e interna en ambos DataFrames ."
      ]
    },
    {
      "cell_type": "code",
      "metadata": {
        "id": "0NMl78Fd82By",
        "colab_type": "code",
        "colab": {
          "base_uri": "https://localhost:8080/",
          "height": 51
        },
        "outputId": "cd9db30e-b550-4282-f608-701506df4960"
      },
      "source": [
        "# Imprimir valores únicos de columnas de encuestas en aerolíneas\n",
        "\n",
        "print('Cleanliness',airlines['cleanliness'].unique(),\"\\n\")"
      ],
      "execution_count": 22,
      "outputs": [
        {
          "output_type": "stream",
          "text": [
            "Cleanliness ['Clean' 'Average' 'Somewhat clean' 'Somewhat dirty' 'Dirty'] \n",
            "\n"
          ],
          "name": "stdout"
        }
      ]
    },
    {
      "cell_type": "code",
      "metadata": {
        "id": "JkFN7u0e9uBd",
        "colab_type": "code",
        "colab": {
          "base_uri": "https://localhost:8080/",
          "height": 51
        },
        "outputId": "57577a7e-ba34-4739-87ff-cc67c0449d1d"
      },
      "source": [
        "print(\"Safety\",airlines[\"safety\"].unique(),\"\\n\")"
      ],
      "execution_count": 23,
      "outputs": [
        {
          "output_type": "stream",
          "text": [
            "Safety ['Neutral' 'Very safe' 'Somewhat safe' 'Very unsafe' 'Somewhat unsafe'] \n",
            "\n"
          ],
          "name": "stdout"
        }
      ]
    },
    {
      "cell_type": "code",
      "metadata": {
        "id": "a4CiU29J-QiB",
        "colab_type": "code",
        "colab": {
          "base_uri": "https://localhost:8080/",
          "height": 68
        },
        "outputId": "67383258-fe54-4290-e765-0f519afc3a77"
      },
      "source": [
        "print(\"Satisfaction\",airlines[\"satisfaction\"].unique(),\"\\n\")"
      ],
      "execution_count": 26,
      "outputs": [
        {
          "output_type": "stream",
          "text": [
            "Satisfaction ['Very satisfied' 'Neutral' 'Somewhat satsified' 'Somewhat unsatisfied'\n",
            " 'Very unsatisfied'] \n",
            "\n"
          ],
          "name": "stdout"
        }
      ]
    },
    {
      "cell_type": "markdown",
      "metadata": {
        "id": "-U22VBqm_eQR",
        "colab_type": "text"
      },
      "source": [
        "En este ejercicio, usaremos ambos DataFrames para encontrar respuestas de encuestas con valores inconsistentes y eliminarlas, realizando de manera efectiva una combinación externa e interna en ambos DataFrames."
      ]
    },
    {
      "cell_type": "code",
      "metadata": {
        "id": "a8L4DdXWByLo",
        "colab_type": "code",
        "colab": {
          "base_uri": "https://localhost:8080/",
          "height": 88
        },
        "outputId": "32cf71b1-5d8b-4b18-eee3-8e7243def86c"
      },
      "source": [
        "# Buscar categroai de limpieza que este en el dataframe aerlines y no en category\n",
        "\n",
        "cat_clean = set(airlines[\"cleanliness\"]).difference(category[\"cleanliness\"])\n",
        "\n",
        "# Hallar filas que esten en category\n",
        "\n",
        "cat_clean_rows = airlines[\"cleanliness\"].isin(cat_clean)\n",
        "\n",
        "# Imprimir las filas con una categoria incosistente\n",
        "\n",
        "print(airlines[cat_clean_rows])"
      ],
      "execution_count": 40,
      "outputs": [
        {
          "output_type": "stream",
          "text": [
            "Empty DataFrame\n",
            "Columns: [Unnamed: 0, id, day, airline, destination, dest_region, dest_size, boarding_area, dept_time, wait_min, cleanliness, safety, satisfaction]\n",
            "Index: []\n"
          ],
          "name": "stdout"
        }
      ]
    },
    {
      "cell_type": "markdown",
      "metadata": {
        "id": "mCMNcsMfDNJE",
        "colab_type": "text"
      },
      "source": [
        "Para eliminar las filas inconsistener y mantener las que solo son consistentes solo usamos el simbolo de tile , lo que devuelve todo excepto las filas inconsistenes."
      ]
    },
    {
      "cell_type": "markdown",
      "metadata": {
        "id": "GlrwtfX2DsUW",
        "colab_type": "text"
      },
      "source": [
        ""
      ]
    },
    {
      "cell_type": "code",
      "metadata": {
        "id": "vzHewk0MDIrp",
        "colab_type": "code",
        "colab": {
          "base_uri": "https://localhost:8080/",
          "height": 255
        },
        "outputId": "b0aa4770-df65-45da-a5db-9d4e3d074096"
      },
      "source": [
        "print(airlines[~cat_clean_rows])"
      ],
      "execution_count": 44,
      "outputs": [
        {
          "output_type": "stream",
          "text": [
            "      Unnamed: 0    id  ...         safety        satisfaction\n",
            "0              0  1351  ...        Neutral      Very satisfied\n",
            "1              1   373  ...      Very safe      Very satisfied\n",
            "2              2  2820  ...  Somewhat safe             Neutral\n",
            "3              3  1157  ...      Very safe  Somewhat satsified\n",
            "4              4  2992  ...      Very safe  Somewhat satsified\n",
            "...          ...   ...  ...            ...                 ...\n",
            "2472        2804  1475  ...        Neutral  Somewhat satsified\n",
            "2473        2805  2222  ...      Very safe      Very satisfied\n",
            "2474        2806  2684  ...      Very safe      Very satisfied\n",
            "2475        2807  2549  ...  Somewhat safe      Very satisfied\n",
            "2476        2808  2162  ...      Very safe  Somewhat satsified\n",
            "\n",
            "[2477 rows x 13 columns]\n"
          ],
          "name": "stdout"
        }
      ]
    }
  ]
}