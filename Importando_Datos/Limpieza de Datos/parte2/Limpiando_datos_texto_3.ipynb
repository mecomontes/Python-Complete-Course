{
  "nbformat": 4,
  "nbformat_minor": 0,
  "metadata": {
    "colab": {
      "name": "Limpiando_datos_texto_3.ipynb",
      "provenance": [],
      "collapsed_sections": []
    },
    "kernelspec": {
      "name": "python3",
      "display_name": "Python 3"
    }
  },
  "cells": [
    {
      "cell_type": "markdown",
      "metadata": {
        "id": "TY5n1S7d4AsV",
        "colab_type": "text"
      },
      "source": [
        "# Limpieza de datos de texto.\n",
        "\n",
        "En esta ultiima sección, hablaremos sobre datos de texto y expresiones regulares.\n",
        "\n",
        "¿Que son los datos de texto?\n",
        "\n",
        "Son uno de los tipos más comunes de tipos de datos, pueden ser nombres, números de teléfono, direcciones, correos electronicos y más.\n",
        "\n",
        "Problemas comunes de los datos de texto:\n",
        "\n",
        "* Manejo de inconsistencias.\n",
        "* Errores tipográficos.\n",
        "* Etc.\n",
        "\n",
        "## Código a usar:\n",
        "\n",
        "* `.replace()` - Método utilizado para reemplazar valores en un DataFrame.\n",
        "\n",
        "* `str.len()` - El método Pandas str.len () se utiliza para determinar la longitud de cada cadena en una serie Pandas. Este método es solo para series de cadenas.\n",
        "\n",
        "* `.loc[]` - El atributo Pandas DataFrame.loc accede a un grupo de filas y columnas por etiqueta (s) o una matriz booleana en el DataFrame dado.\n",
        "\n",
        "* `str.contains` - La función se usa para probar si el patrón o la expresión regular están contenidos dentro de una cadena de una serie o índice. \n",
        "\n",
        "## Expresiones regulares.\n",
        "\n",
        "Las expresiones regulares nos dan la capacidad de buscar cualquier patrón en los datos de texto, como solo digitos , por ejemplo si queremos limpiar numeros telefonicos donde hay parentesis, CRUP, ID etc.\n",
        "\n"
      ]
    }
  ]
}