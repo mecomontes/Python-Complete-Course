{
  "nbformat": 4,
  "nbformat_minor": 0,
  "metadata": {
    "colab": {
      "name": "Introducción1.1.ipynb",
      "provenance": [],
      "collapsed_sections": []
    },
    "kernelspec": {
      "name": "python3",
      "display_name": "Python 3"
    }
  },
  "cells": [
    {
      "cell_type": "markdown",
      "metadata": {
        "id": "vMgsy9R4dpRz",
        "colab_type": "text"
      },
      "source": [
        "![texto alternativo](https://external-content.duckduckgo.com/iu/?u=https%3A%2F%2Ftse1.mm.bing.net%2Fth%3Fid%3DOIP.Mfs0pHMfXXUGELsOLGYrqAHaC4%26pid%3DApi&f=1)\n",
        "\n",
        "# Importación de datos en Python.\n",
        "\n",
        "## Introducción:\n",
        "\n",
        "En este curso , aprenderemos cómo importar datos de una gran variedad de fuentes de datos de importación , por ejemplo:\n",
        "\n",
        "* Archivos planos -(.txt,.csvs,e.g.)\n",
        "\n",
        "* Archivos nativos de otro software - (Hojas de calculo, Archivos Stata,SAS & MATLAB)\n",
        "\n",
        "* Bases de datos relacionales como SQLite & PostgreSQL.\n",
        "\n",
        "\n",
        "En primer lugar vamos a aprender cómo importar archivos de texto básicos, que podemos clasificar ampliamente en 2 tipos de archivos:\n",
        "\n",
        "* Aquellos que contienen texto sin formato , como la descripción d eun proyecto o repositorio o algun libro.\n",
        "\n",
        "* Aquellos que contienen registros, es decir datos de tabla como el famoso dataset de titanic en el que cada fila es un pasajero único a bordo y la columna es una característica , como género , cabina y si sobrevivio o no.\n",
        "\n",
        "Este último se conoce como archivo plano y volveremos a el en un minuto.\n",
        "\n",
        "En esta seccion , descubriremos cómo leer lineas de un archivo de texto sin formato.\n",
        "\n",
        "\n",
        "\n",
        "---\n",
        "\n",
        "\n",
        "## Leyendo un archivo de texto.\n",
        "\n",
        "Para revisar cualquier arvchivo de texto sin formato, podemos usa la función de apretura básica de Python `open()` para abrir una conexión al archivo.\n",
        "\n",
        "### PASOS:\n",
        "\n",
        "* 1- Asignamos el nombre de archivo a una variable como string.\n"
      ]
    },
    {
      "cell_type": "code",
      "metadata": {
        "id": "7kfz0REWf4_h",
        "colab_type": "code",
        "colab": {}
      },
      "source": [
        "filename = '/content/IMPORTANTE.txt'"
      ],
      "execution_count": null,
      "outputs": []
    },
    {
      "cell_type": "markdown",
      "metadata": {
        "id": "Z4vogdwggE_y",
        "colab_type": "text"
      },
      "source": [
        "* 2-Pasamos el nombre de nuestro archivo a la función `open()` & tambien pasamos como argumento ``mode=r`` , esto nos asegura que solo podemos leerlo."
      ]
    },
    {
      "cell_type": "code",
      "metadata": {
        "id": "U9VWFSY4gTH1",
        "colab_type": "code",
        "colab": {}
      },
      "source": [
        "file = open(filename,mode='r') # Solo queremos leerlo no escribir sobre el."
      ],
      "execution_count": null,
      "outputs": []
    },
    {
      "cell_type": "markdown",
      "metadata": {
        "id": "FsHWyOpIgea3",
        "colab_type": "text"
      },
      "source": [
        "* 3- Asignamos el texto de nuestro archivo a una nueva variable , aplicando el metodo ``.read()`` a la conexión de nuestro archivo."
      ]
    },
    {
      "cell_type": "code",
      "metadata": {
        "id": "0_MAeOkAgsWz",
        "colab_type": "code",
        "colab": {}
      },
      "source": [
        "text = file.read()"
      ],
      "execution_count": null,
      "outputs": []
    },
    {
      "cell_type": "markdown",
      "metadata": {
        "id": "JiTQdiuigwzP",
        "colab_type": "text"
      },
      "source": [
        "* 4- Despues de hacer todo lo anterior , nos aseguramos de cerrar la conexión al archivo usando el comando ``file.close()``.Siempre es una buena practica mientras cocinamos nuestra información.\n",
        "\n"
      ]
    },
    {
      "cell_type": "markdown",
      "metadata": {
        "id": "WeKfml5KhNVa",
        "colab_type": "text"
      },
      "source": [
        "Luego imprimirmos el archivo en la consola para verificar que todo salio perfectamente."
      ]
    },
    {
      "cell_type": "code",
      "metadata": {
        "id": "eOmIKduLhCIP",
        "colab_type": "code",
        "colab": {
          "base_uri": "https://localhost:8080/",
          "height": 921
        },
        "outputId": "335f1964-5825-420d-b330-e0e9362d59fa"
      },
      "source": [
        "print(text)"
      ],
      "execution_count": null,
      "outputs": [
        {
          "output_type": "stream",
          "text": [
            "----------------------\n",
            "README PROYECTOS\n",
            "----------------------\n",
            "\n",
            "INTRODUCCION:\n",
            "Este readme contiene informacion importante para poder acceder al codigo SIN descargarlo\n",
            "y que sea de mayor comodidad para quienv ea esto.\n",
            "\n",
            "-------------------------\n",
            "CONTENIDO:\n",
            "\n",
            "1.LINKS: APPFES\n",
            "\n",
            "2.LINKS: Regresion Lineal.\n",
            "-------------------------\n",
            "\n",
            "================\n",
            "PROYECTO APPFES:\n",
            "================\n",
            "\n",
            "LINKS:\n",
            "\n",
            "https://github.com/Chilangdon20/JAVA/tree/master/Conceptos%20B%C3%A1sicos/Proyecto\n",
            "\n",
            "\n",
            "=========================\n",
            "PROYECTO REGRESION LINEAL:\n",
            "==========================\n",
            "\n",
            "LINKS:\n",
            "\n",
            "PROYECTO GENERAL:\n",
            "\n",
            "https://github.com/Chilangdon20/PYTHON/tree/master/Estadistica/Estadistica%20Descriptiva/RegresionLinealBasica/Proyecto\n",
            "\n",
            "PROYECTO-01:\n",
            "\n",
            "https://github.com/Chilangdon20/PYTHON/blob/master/Estadistica/Estadistica%20Descriptiva/RegresionLinealBasica/Proyecto/Proeycto01.ipynb\n",
            "\n",
            "PROYECTO-1:\n",
            "\n",
            "https://github.com/Chilangdon20/PYTHON/blob/master/Estadistica/Estadistica%20Descriptiva/RegresionLinealBasica/Proyecto/Proyecto1.ipynb\n",
            "\n",
            "PROYECTO-2:\n",
            "\n",
            "https://github.com/Chilangdon20/PYTHON/blob/master/Estadistica/Estadistica%20Descriptiva/RegresionLinealBasica/Proyecto/Proyecto02.ipynb\n",
            "\n",
            "PROYECTO-DIABTES:\n",
            "\n",
            "https://github.com/Chilangdon20/PYTHON/blob/master/Estadistica/Estadistica%20Descriptiva/RegresionLinealBasica/Proyecto/Diabetes.ipynb\n",
            "\n",
            "\n"
          ],
          "name": "stdout"
        }
      ]
    },
    {
      "cell_type": "markdown",
      "metadata": {
        "id": "s9rI6EBPikgE",
        "colab_type": "text"
      },
      "source": [
        "## IMPORTANTE:\n",
        "\n",
        "Si quisieramos abrir un archivo en orden para escribir , pasamos el argumento n``mode='w'``, no lo usaremos en este curso ya que este es un curso para importar datos , pero no esta de mas saberlo.\n",
        "\n"
      ]
    },
    {
      "cell_type": "code",
      "metadata": {
        "id": "NkU3hh9dic6X",
        "colab_type": "code",
        "colab": {}
      },
      "source": [
        "filename = '/content/IMPORTANTE.txt'\n",
        "file = open(filename,mode='w') # Escribir sobre el archivo.\n",
        "file.close()"
      ],
      "execution_count": null,
      "outputs": []
    },
    {
      "cell_type": "markdown",
      "metadata": {
        "id": "nmKc0Q1mjSHD",
        "colab_type": "text"
      },
      "source": [
        "Podemos evitar tener que cerrar la conexión del archivo usando la declaración `with`. Esto nos permite crear un contexto en el que podamos ejecutar comando con el archivo abierto:"
      ]
    },
    {
      "cell_type": "code",
      "metadata": {
        "id": "DQnwN16djMFC",
        "colab_type": "code",
        "colab": {
          "base_uri": "https://localhost:8080/",
          "height": 34
        },
        "outputId": "9da136d4-2b3f-4f6d-df64-11c25ecc7569"
      },
      "source": [
        "with open('/content/IMPORTANTE.txt', 'r') as file:\n",
        "  print(file.read())"
      ],
      "execution_count": null,
      "outputs": [
        {
          "output_type": "stream",
          "text": [
            "\n"
          ],
          "name": "stdout"
        }
      ]
    },
    {
      "cell_type": "markdown",
      "metadata": {
        "id": "MJcJAZISj090",
        "colab_type": "text"
      },
      "source": [
        "Lo que estamos haciendo aqui se llama vincular una variable en la construcción del administrador de contexto, mientras todavia estemos dentro de esta construcción el archivo se abrira.\n",
        "\n",
        "Esto es una buena practica, ya que nunca nos tendremos que preocupar por cerarlos.\n",
        "\n",
        "## Importar archivos de texto línea por línea Para archivos grandes.\n",
        "\n",
        "Es posible que no queramos imprimir todo su contenido en el shell es posible que queramos imprimir solo las primeras líneas. El método `readline()`, nos permite hacer esto. Cuando un archivo está abierto, puedes imprimir la primera línea ejecutando `file.readline()`. Si ejecutas el mismo comando nuevamente, se imprimirá la segunda línea, y así sucesivamente."
      ]
    },
    {
      "cell_type": "code",
      "metadata": {
        "id": "mxMfVI7ojqpY",
        "colab_type": "code",
        "colab": {}
      },
      "source": [
        "with open('/content/IMPORTANTE.txt') as file:\n",
        "    print(file.readline())"
      ],
      "execution_count": null,
      "outputs": []
    },
    {
      "cell_type": "markdown",
      "metadata": {
        "id": "yiggmC3MmiSw",
        "colab_type": "text"
      },
      "source": [
        "\n",
        "\n",
        "---\n",
        "\n",
        "\n"
      ]
    }
  ]
}