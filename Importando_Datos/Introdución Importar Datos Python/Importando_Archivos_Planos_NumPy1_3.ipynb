{
  "nbformat": 4,
  "nbformat_minor": 0,
  "metadata": {
    "colab": {
      "name": "Importando_Archivos_Planos_NumPy1_3.ipynb",
      "provenance": [],
      "collapsed_sections": []
    },
    "kernelspec": {
      "name": "python3",
      "display_name": "Python 3"
    }
  },
  "cells": [
    {
      "cell_type": "markdown",
      "metadata": {
        "id": "RSQ_eVJzt9F3",
        "colab_type": "text"
      },
      "source": [
        "![texto alternativo](https://external-content.duckduckgo.com/iu/?u=https%3A%2F%2Ftse3.mm.bing.net%2Fth%3Fid%3DOIP.vOfkHJYKiipQrnctDywK8wHaEt%26pid%3DApi&f=1)\n",
        "\n",
        "\n",
        "\n",
        "# Importando Archivos Planos Usando NumPy.\n",
        "\n",
        "## Introducción:\n",
        "\n",
        "Ahora que sabemos cómo usar la función `open()` incoroporada de Python para abrir archivos de texto, pero ¿Qué sucede si ahora queremos importar un archivo plano y asignarlo a una variable?\n",
        "\n",
        "Bueno si todos nuestros datos son númericos podemos usar el paquete NumPy para importar los datos como una matríz numpy.\n",
        "\n",
        "## ¿Pero por que Queremos hacer esto?\n",
        "\n",
        "\n",
        "* En primer lugar, las matrices NumPy son el estándar de Python para almacenar datos numéricos...Son eficientes rapidos y limpios.\n",
        "\n",
        "* En segundo lugar las matrices NumPy suelen ser escenciales para otros paquetes como Skit-Learn, un popular paquete para machine learning.\n",
        "\n",
        "\n",
        "¿Interesante no?...Pero eso no es todo NumPy tiene funciónes que hacen que la vida sea más fácil y eficiente para nosotros, en especial  importar datos \n",
        "como matrices estas son:\n",
        "\n",
        "* `loadtxt`\n",
        "\n",
        "* `genfromtxt`\n",
        "\n",
        "Para usarlos:\n",
        "\n",
        "* 1-Primero debemos importar numpy"
      ]
    },
    {
      "cell_type": "code",
      "metadata": {
        "id": "rV59UXAQt0ux",
        "colab_type": "code",
        "colab": {}
      },
      "source": [
        "import numpy as np"
      ],
      "execution_count": 1,
      "outputs": []
    },
    {
      "cell_type": "markdown",
      "metadata": {
        "id": "c2TZKRRPvsS1",
        "colab_type": "text"
      },
      "source": [
        "* 2- Luego llamamos a ``loadtxt`` y pasamos el nombre del archivo como primer argumento junto con el delimitador en el segundo argumento."
      ]
    },
    {
      "cell_type": "code",
      "metadata": {
        "id": "ifL912FPvqcM",
        "colab_type": "code",
        "colab": {}
      },
      "source": [
        "filename = 'https://assets.datacamp.com/production/repositories/487/datasets/d6d1b84ef06151ff913b4173e2eca8e6d5fa959b/mnist_kaggle_some_rows.csv'\n",
        "data = np.loadtxt(filename,delimiter=',')"
      ],
      "execution_count": 10,
      "outputs": []
    },
    {
      "cell_type": "code",
      "metadata": {
        "id": "HsaRKc7-wKcw",
        "colab_type": "code",
        "colab": {
          "base_uri": "https://localhost:8080/",
          "height": 136
        },
        "outputId": "27495be7-71e3-45c5-8b66-e9212a934db5"
      },
      "source": [
        "data"
      ],
      "execution_count": 3,
      "outputs": [
        {
          "output_type": "execute_result",
          "data": {
            "text/plain": [
              "array([[1., 0., 0., ..., 0., 0., 0.],\n",
              "       [0., 0., 0., ..., 0., 0., 0.],\n",
              "       [1., 0., 0., ..., 0., 0., 0.],\n",
              "       ...,\n",
              "       [2., 0., 0., ..., 0., 0., 0.],\n",
              "       [0., 0., 0., ..., 0., 0., 0.],\n",
              "       [5., 0., 0., ..., 0., 0., 0.]])"
            ]
          },
          "metadata": {
            "tags": []
          },
          "execution_count": 3
        }
      ]
    },
    {
      "cell_type": "markdown",
      "metadata": {
        "id": "X1UliQKtwBq0",
        "colab_type": "text"
      },
      "source": [
        "Tengamos en cuenta que el delimitador predeterminado es un espacio en blanco , por lo que generalmente tendremos que especificarlo explícitamente.\n",
        "\n",
        "## ¿Qué mas hay?\n",
        "\n",
        "Si aun hay mas cosas , por ejemplo hay una serie de argumento adicionales que podemos especificar.Si,por ejemplo, nuestros datos consisten en números y su encabezado tiene cadenas como nuestro archivo ``filename``, vamos a querer omitir la primera fila llamando a `loadtxt` con el argumento `skiprows=1`.\n",
        "\n",
        "Si solo queremos las columnas primera y tercera de los datos , establecemos el argumento `usecols=[0,2]`"
      ]
    },
    {
      "cell_type": "code",
      "metadata": {
        "id": "05SO0aBdv_ef",
        "colab_type": "code",
        "colab": {
          "base_uri": "https://localhost:8080/",
          "height": 1000
        },
        "outputId": "5f6a83d4-2c3e-401b-d8fa-e158470f4ee1"
      },
      "source": [
        "data = np.loadtxt(filename,delimiter=',',skiprows=1,usecols=[0,2])\n",
        "print(data)"
      ],
      "execution_count": 5,
      "outputs": [
        {
          "output_type": "stream",
          "text": [
            "[[0. 0.]\n",
            " [1. 0.]\n",
            " [4. 0.]\n",
            " [0. 0.]\n",
            " [0. 0.]\n",
            " [7. 0.]\n",
            " [3. 0.]\n",
            " [5. 0.]\n",
            " [3. 0.]\n",
            " [8. 0.]\n",
            " [9. 0.]\n",
            " [1. 0.]\n",
            " [3. 0.]\n",
            " [3. 0.]\n",
            " [1. 0.]\n",
            " [2. 0.]\n",
            " [0. 0.]\n",
            " [7. 0.]\n",
            " [5. 0.]\n",
            " [8. 0.]\n",
            " [6. 0.]\n",
            " [2. 0.]\n",
            " [0. 0.]\n",
            " [2. 0.]\n",
            " [3. 0.]\n",
            " [6. 0.]\n",
            " [9. 0.]\n",
            " [9. 0.]\n",
            " [7. 0.]\n",
            " [8. 0.]\n",
            " [9. 0.]\n",
            " [4. 0.]\n",
            " [9. 0.]\n",
            " [2. 0.]\n",
            " [1. 0.]\n",
            " [3. 0.]\n",
            " [1. 0.]\n",
            " [1. 0.]\n",
            " [4. 0.]\n",
            " [9. 0.]\n",
            " [1. 0.]\n",
            " [4. 0.]\n",
            " [4. 0.]\n",
            " [2. 0.]\n",
            " [6. 0.]\n",
            " [3. 0.]\n",
            " [7. 0.]\n",
            " [7. 0.]\n",
            " [4. 0.]\n",
            " [7. 0.]\n",
            " [5. 0.]\n",
            " [1. 0.]\n",
            " [9. 0.]\n",
            " [0. 0.]\n",
            " [2. 0.]\n",
            " [2. 0.]\n",
            " [3. 0.]\n",
            " [9. 0.]\n",
            " [1. 0.]\n",
            " [1. 0.]\n",
            " [1. 0.]\n",
            " [5. 0.]\n",
            " [0. 0.]\n",
            " [6. 0.]\n",
            " [3. 0.]\n",
            " [4. 0.]\n",
            " [8. 0.]\n",
            " [1. 0.]\n",
            " [0. 0.]\n",
            " [3. 0.]\n",
            " [9. 0.]\n",
            " [6. 0.]\n",
            " [2. 0.]\n",
            " [6. 0.]\n",
            " [4. 0.]\n",
            " [7. 0.]\n",
            " [1. 0.]\n",
            " [4. 0.]\n",
            " [1. 0.]\n",
            " [5. 0.]\n",
            " [4. 0.]\n",
            " [8. 0.]\n",
            " [9. 0.]\n",
            " [2. 0.]\n",
            " [9. 0.]\n",
            " [9. 0.]\n",
            " [8. 0.]\n",
            " [9. 0.]\n",
            " [6. 0.]\n",
            " [3. 0.]\n",
            " [6. 0.]\n",
            " [4. 0.]\n",
            " [6. 0.]\n",
            " [2. 0.]\n",
            " [9. 0.]\n",
            " [1. 0.]\n",
            " [2. 0.]\n",
            " [0. 0.]\n",
            " [5. 0.]]\n"
          ],
          "name": "stdout"
        }
      ]
    },
    {
      "cell_type": "markdown",
      "metadata": {
        "id": "Xhe-XTfkxUFW",
        "colab_type": "text"
      },
      "source": [
        "Tambien podemos importar diferentes tipos de datos en matrices NumPy , por ejemplo configurando el argumento `dtype=str` aseguramos que todas las entradas se importen como cadenas de texto.\n",
        "\n",
        "La función ``loadtxt``es ideal para casos básicos , pero tiene a descomponerse cuando tenemos tipos de datos mixtos, por ejemplo columnas que consisten en nombres y columnas que ocnsisten en números como vimos en nuestros datos el Titanic.\n",
        "\n",
        "\n",
        "Ejmeplo:\n",
        "\n",
        "El archivo seaslug.txt tiene un encabezado de texto, que consiste en cadenas está delimitado por tabuladores. Estos datos consisten en el porcentaje de larvas de babosas marinas que se habían metamorfoseado en un período de tiempo determinado. \n",
        "\n",
        "Debido al encabezado, si intentas importarlo tal como está usando np.loadtxt (), Python te arrojaría un ValueError y te diría que no podría convertir la cadena en flotante.\n",
        "\n",
        "\n",
        "Hay dos formas de lidiar con esto: en primer lugar, puedes establecer el tipo de datos dtype argumento igual a str (para cadena).\n",
        "\n",
        "Alternativamente, puedes omitir la primera fila como hemos visto antes, utilizando el argumento skiprows."
      ]
    },
    {
      "cell_type": "code",
      "metadata": {
        "id": "8neP_yf9yt_0",
        "colab_type": "code",
        "colab": {
          "base_uri": "https://localhost:8080/",
          "height": 313
        },
        "outputId": "5400eb98-4d56-47da-a9fa-d6d63aee1676"
      },
      "source": [
        "import matplotlib.pyplot as plt\n",
        "\n",
        "# Asginamos datos\n",
        "file = 'http://www.stat.ucla.edu/~rgould/datasets/seaslugs.dat'\n",
        "\n",
        "\n",
        "# Iimportamos archivo\n",
        "data = np.loadtxt(file, delimiter='\\t', dtype=str)\n",
        "\n",
        "# Imprimimos el primer elmento\n",
        "print(data[0])\n",
        "\n",
        "# Importamos datos como flotantes y omitimos la primera fila: data_float\n",
        "data_float = np.loadtxt(file, delimiter='\\t', dtype=float, skiprows=1)\n",
        "\n",
        "# Imprimiso losprimeros 10 elementos\n",
        "print(data_float[9])\n",
        "\n",
        "\n",
        "# Trazamos un diagrama de dispersión de los datos\n",
        "plt.scatter(data_float[:, 0], data_float[:, 1])\n",
        "plt.xlabel('tiempo (min.)')\n",
        "plt.ylabel('porcentaje de la larva')\n",
        "plt.show()"
      ],
      "execution_count": 18,
      "outputs": [
        {
          "output_type": "stream",
          "text": [
            "['99' '.067']\n",
            "[0.    0.533]\n"
          ],
          "name": "stdout"
        },
        {
          "output_type": "display_data",
          "data": {
            "image/png": "[encoded data removed]",
            "text/plain": [
              "<Figure size 432x288 with 1 Axes>"
            ]
          },
          "metadata": {
            "tags": [],
            "needs_background": "light"
          }
        }
      ]
    },
    {
      "cell_type": "markdown",
      "metadata": {
        "id": "qKTYPsqf165N",
        "colab_type": "text"
      },
      "source": [
        "## Trabajando con datos mixtos.\n",
        "\n",
        "La mayor parte del tiempo necesitaremos importar conjuntos de datos que tengan diferentes tipos de datos en diferentes columnas; una columna puede contener cadenas y otras flotantes, por ejemplo.La función `np.loadtxt()` se volvera loca si queremos hacer eso.\n",
        "\n",
        "Hay otra función, `np.genfromtxt()`, que puede manejar tales estructuras. Si le pasamos `dtype = None`, descubriremos qué tipos debe ser cada columna.\n",
        "\n",
        "Importamos nuestros datos `titanic3.csv` usando la función `np.genfromtxt()`:"
      ]
    },
    {
      "cell_type": "code",
      "metadata": {
        "id": "zKTjx2wZ0lGo",
        "colab_type": "code",
        "colab": {
          "base_uri": "https://localhost:8080/",
          "height": 71
        },
        "outputId": "3d97085c-8b1b-4abe-b358-1ca009681570"
      },
      "source": [
        "data = np.genfromtxt('https://assets.datacamp.com/production/repositories/487/datasets/be79810c4288801167cfb31dbedd396559816ade/titanic_sub.csv',delimiter=',', names=True, dtype=None)"
      ],
      "execution_count": 20,
      "outputs": [
        {
          "output_type": "stream",
          "text": [
            "/usr/local/lib/python3.6/dist-packages/ipykernel_launcher.py:1: VisibleDeprecationWarning: Reading unicode strings without specifying the encoding argument is deprecated. Set the encoding, use None for the system default.\n",
            "  \"\"\"Entry point for launching an IPython kernel.\n"
          ],
          "name": "stderr"
        }
      ]
    },
    {
      "cell_type": "markdown",
      "metadata": {
        "id": "L-5sxRYu3LIC",
        "colab_type": "text"
      },
      "source": [
        "Aquí, el primer argumento es el nombre de archivo, el segundo especifica el delimitador y el tercer nombre de argumento nos dice que hay un encabezado. Debido a que los datos son de diferentes tipos, los datos son un objeto llamado matriz estructurada. Debido a que las matrices numpy deben contener elementos que sean del mismo tipo, la matriz estructurada lo resuelve al ser una matriz 1D, donde cada elemento de la matriz es una fila del archivo plano importado. Puede probar esto comprobando la forma de la matriz en el shell ejecutando np.shape (datos).\n",
        "\n",
        "Acceder a filas y columnas de matrices estructuradas es súper intuitivo: para obtener la i-ésima fila, simplemente ejecutamos:"
      ]
    },
    {
      "cell_type": "code",
      "metadata": {
        "id": "AVj1sXjo22qU",
        "colab_type": "code",
        "colab": {
          "base_uri": "https://localhost:8080/",
          "height": 1000
        },
        "outputId": "1566d5f7-d244-4025-f5f8-f2101cfd93d0"
      },
      "source": [
        "data['Fare']"
      ],
      "execution_count": 22,
      "outputs": [
        {
          "output_type": "execute_result",
          "data": {
            "text/plain": [
              "array([  7.25  ,  71.2833,   7.925 ,  53.1   ,   8.05  ,   8.4583,\n",
              "        51.8625,  21.075 ,  11.1333,  30.0708,  16.7   ,  26.55  ,\n",
              "         8.05  ,  31.275 ,   7.8542,  16.    ,  29.125 ,  13.    ,\n",
              "        18.    ,   7.225 ,  26.    ,  13.    ,   8.0292,  35.5   ,\n",
              "        21.075 ,  31.3875,   7.225 , 263.    ,   7.8792,   7.8958,\n",
              "        27.7208, 146.5208,   7.75  ,  10.5   ,  82.1708,  52.    ,\n",
              "         7.2292,   8.05  ,  18.    ,  11.2417,   9.475 ,  21.    ,\n",
              "         7.8958,  41.5792,   7.8792,   8.05  ,  15.5   ,   7.75  ,\n",
              "        21.6792,  17.8   ,  39.6875,   7.8   ,  76.7292,  26.    ,\n",
              "        61.9792,  35.5   ,  10.5   ,   7.2292,  27.75  ,  46.9   ,\n",
              "         7.2292,  80.    ,  83.475 ,  27.9   ,  27.7208,  15.2458,\n",
              "        10.5   ,   8.1583,   7.925 ,   8.6625,  10.5   ,  46.9   ,\n",
              "        73.5   ,  14.4542,  56.4958,   7.65  ,   7.8958,   8.05  ,\n",
              "        29.    ,  12.475 ,   9.    ,   9.5   ,   7.7875,  47.1   ,\n",
              "        10.5   ,  15.85  ,  34.375 ,   8.05  , 263.    ,   8.05  ,\n",
              "         8.05  ,   7.8542,  61.175 ,  20.575 ,   7.25  ,   8.05  ,\n",
              "        34.6542,  63.3583,  23.    ,  26.    ,   7.8958,   7.8958,\n",
              "        77.2875,   8.6542,   7.925 ,   7.8958,   7.65  ,   7.775 ,\n",
              "         7.8958,  24.15  ,  52.    ,  14.4542,   8.05  ,   9.825 ,\n",
              "        14.4583,   7.925 ,   7.75  ,  21.    , 247.5208,  31.275 ,\n",
              "        73.5   ,   8.05  ,  30.0708,  13.    ,  77.2875,  11.2417,\n",
              "         7.75  ,   7.1417,  22.3583,   6.975 ,   7.8958,   7.05  ,\n",
              "        14.5   ,  26.    ,  13.    ,  15.0458,  26.2833,  53.1   ,\n",
              "         9.2167,  79.2   ,  15.2458,   7.75  ,  15.85  ,   6.75  ,\n",
              "        11.5   ,  36.75  ,   7.7958,  34.375 ,  26.    ,  13.    ,\n",
              "        12.525 ,  66.6   ,   8.05  ,  14.5   ,   7.3125,  61.3792,\n",
              "         7.7333,   8.05  ,   8.6625,  69.55  ,  16.1   ,  15.75  ,\n",
              "         7.775 ,   8.6625,  39.6875,  20.525 ,  55.    ,  27.9   ,\n",
              "        25.925 ,  56.4958,  33.5   ,  29.125 ,  11.1333,   7.925 ,\n",
              "        30.6958,   7.8542,  25.4667,  28.7125,  13.    ,   0.    ,\n",
              "        69.55  ,  15.05  ,  31.3875,  39.    ,  22.025 ,  50.    ,\n",
              "        15.5   ,  26.55  ,  15.5   ,   7.8958,  13.    ,  13.    ,\n",
              "         7.8542,  26.    ,  27.7208, 146.5208,   7.75  ,   8.4042,\n",
              "         7.75  ,  13.    ,   9.5   ,  69.55  ,   6.4958,   7.225 ,\n",
              "         8.05  ,  10.4625,  15.85  ,  18.7875,   7.75  ,  31.    ,\n",
              "         7.05  ,  21.    ,   7.25  ,  13.    ,   7.75  , 113.275 ,\n",
              "         7.925 ,  27.    ,  76.2917,  10.5   ,   8.05  ,  13.    ,\n",
              "         8.05  ,   7.8958,  90.    ,   9.35  ,  10.5   ,   7.25  ,\n",
              "        13.    ,  25.4667,  83.475 ,   7.775 ,  13.5   ,  31.3875,\n",
              "        10.5   ,   7.55  ,  26.    ,  26.25  ,  10.5   ,  12.275 ,\n",
              "        14.4542,  15.5   ,  10.5   ,   7.125 ,   7.225 ,  90.    ,\n",
              "         7.775 ,  14.5   ,  52.5542,  26.    ,   7.25  ,  10.4625,\n",
              "        26.55  ,  16.1   ,  20.2125,  15.2458,  79.2   ,  86.5   ,\n",
              "       512.3292,  26.    ,   7.75  ,  31.3875,  79.65  ,   0.    ,\n",
              "         7.75  ,  10.5   ,  39.6875,   7.775 , 153.4625, 135.6333,\n",
              "        31.    ,   0.    ,  19.5   ,  29.7   ,   7.75  ,  77.9583,\n",
              "         7.75  ,   0.    ,  29.125 ,  20.25  ,   7.75  ,   7.8542,\n",
              "         9.5   ,   8.05  ,  26.    ,   8.6625,   9.5   ,   7.8958,\n",
              "        13.    ,   7.75  ,  78.85  ,  91.0792,  12.875 ,   8.85  ,\n",
              "         7.8958,  27.7208,   7.2292, 151.55  ,  30.5   , 247.5208,\n",
              "         7.75  ,  23.25  ,   0.    ,  12.35  ,   8.05  , 151.55  ,\n",
              "       110.8833, 108.9   ,  24.    ,  56.9292,  83.1583, 262.375 ,\n",
              "        26.    ,   7.8958,  26.25  ,   7.8542,  26.    ,  14.    ,\n",
              "       164.8667, 134.5   ,   7.25  ,   7.8958,  12.35  ,  29.    ,\n",
              "        69.55  , 135.6333,   6.2375,  13.    ,  20.525 ,  57.9792,\n",
              "        23.25  ,  28.5   , 153.4625,  18.    , 133.65  ,   7.8958,\n",
              "        66.6   , 134.5   ,   8.05  ,  35.5   ,  26.    , 263.    ,\n",
              "        13.    ,  13.    ,  13.    ,  13.    ,  13.    ,  16.1   ,\n",
              "        15.9   ,   8.6625,   9.225 ,  35.    ,   7.2292,  17.8   ,\n",
              "         7.225 ,   9.5   ,  55.    ,  13.    ,   7.8792,   7.8792,\n",
              "        27.9   ,  27.7208,  14.4542,   7.05  ,  15.5   ,   7.25  ,\n",
              "        75.25  ,   7.2292,   7.75  ,  69.3   ,  55.4417,   6.4958,\n",
              "         8.05  , 135.6333,  21.075 ,  82.1708,   7.25  , 211.5   ,\n",
              "         4.0125,   7.775 , 227.525 ,  15.7417,   7.925 ,  52.    ,\n",
              "         7.8958,  73.5   ,  46.9   ,  13.    ,   7.7292,  12.    ,\n",
              "       120.    ,   7.7958,   7.925 , 113.275 ,  16.7   ,   7.7958,\n",
              "         7.8542,  26.    ,  10.5   ,  12.65  ,   7.925 ,   8.05  ,\n",
              "         9.825 ,  15.85  ,   8.6625,  21.    ,   7.75  ,  18.75  ,\n",
              "         7.775 ,  25.4667,   7.8958,   6.8583,  90.    ,   0.    ,\n",
              "         7.925 ,   8.05  ,  32.5   ,  13.    ,  13.    ,  24.15  ,\n",
              "         7.8958,   7.7333,   7.875 ,  14.4   ,  20.2125,   7.25  ,\n",
              "        26.    ,  26.    ,   7.75  ,   8.05  ,  26.55  ,  16.1   ,\n",
              "        26.    ,   7.125 ,  55.9   , 120.    ,  34.375 ,  18.75  ,\n",
              "       263.    ,  10.5   ,  26.25  ,   9.5   ,   7.775 ,  13.    ,\n",
              "         8.1125,  81.8583,  19.5   ,  26.55  ,  19.2583,  30.5   ,\n",
              "        27.75  ,  19.9667,  27.75  ,  89.1042,   8.05  ,   7.8958,\n",
              "        26.55  ,  51.8625,  10.5   ,   7.75  ,  26.55  ,   8.05  ,\n",
              "        38.5   ,  13.    ,   8.05  ,   7.05  ,   0.    ,  26.55  ,\n",
              "         7.725 ,  19.2583,   7.25  ,   8.6625,  27.75  ,  13.7917,\n",
              "         9.8375,  52.    ,  21.    ,   7.0458,   7.5208,  12.2875,\n",
              "        46.9   ,   0.    ,   8.05  ,   9.5875,  91.0792,  25.4667,\n",
              "        90.    ,  29.7   ,   8.05  ,  15.9   ,  19.9667,   7.25  ,\n",
              "        30.5   ,  49.5042,   8.05  ,  14.4583,  78.2667,  15.1   ,\n",
              "       151.55  ,   7.7958,   8.6625,   7.75  ,   7.6292,   9.5875,\n",
              "        86.5   , 108.9   ,  26.    ,  26.55  ,  22.525 ,  56.4958,\n",
              "         7.75  ,   8.05  ,  26.2875,  59.4   ,   7.4958,  34.0208,\n",
              "        10.5   ,  24.15  ,  26.    ,   7.8958,  93.5   ,   7.8958,\n",
              "         7.225 ,  57.9792,   7.2292,   7.75  ,  10.5   , 221.7792,\n",
              "         7.925 ,  11.5   ,  26.    ,   7.2292,   7.2292,  22.3583,\n",
              "         8.6625,  26.25  ,  26.55  , 106.425 ,  14.5   ,  49.5   ,\n",
              "        71.    ,  31.275 ,  31.275 ,  26.    , 106.425 ,  26.    ,\n",
              "        26.    ,  13.8625,  20.525 ,  36.75  , 110.8833,  26.    ,\n",
              "         7.8292,   7.225 ,   7.775 ,  26.55  ,  39.6   , 227.525 ,\n",
              "        79.65  ,  17.4   ,   7.75  ,   7.8958,  13.5   ,   8.05  ,\n",
              "         8.05  ,  24.15  ,   7.8958,  21.075 ,   7.2292,   7.8542,\n",
              "        10.5   ,  51.4792,  26.3875,   7.75  ,   8.05  ,  14.5   ,\n",
              "        13.    ,  55.9   ,  14.4583,   7.925 ,  30.    , 110.8833,\n",
              "        26.    ,  40.125 ,   8.7125,  79.65  ,  15.    ,  79.2   ,\n",
              "         8.05  ,   8.05  ,   7.125 ,  78.2667,   7.25  ,   7.75  ,\n",
              "        26.    ,  24.15  ,  33.    ,   0.    ,   7.225 ,  56.9292,\n",
              "        27.    ,   7.8958,  42.4   ,   8.05  ,  26.55  ,  15.55  ,\n",
              "         7.8958,  30.5   ,  41.5792, 153.4625,  31.275 ,   7.05  ,\n",
              "        15.5   ,   7.75  ,   8.05  ,  65.    ,  14.4   ,  16.1   ,\n",
              "        39.    ,  10.5   ,  14.4542,  52.5542,  15.7417,   7.8542,\n",
              "        16.1   ,  32.3208,  12.35  ,  77.9583,   7.8958,   7.7333,\n",
              "        30.    ,   7.0542,  30.5   ,   0.    ,  27.9   ,  13.    ,\n",
              "         7.925 ,  26.25  ,  39.6875,  16.1   ,   7.8542,  69.3   ,\n",
              "        27.9   ,  56.4958,  19.2583,  76.7292,   7.8958,  35.5   ,\n",
              "         7.55  ,   7.55  ,   7.8958,  23.    ,   8.4333,   7.8292,\n",
              "         6.75  ,  73.5   ,   7.8958,  15.5   ,  13.    , 113.275 ,\n",
              "       133.65  ,   7.225 ,  25.5875,   7.4958,   7.925 ,  73.5   ,\n",
              "        13.    ,   7.775 ,   8.05  ,  52.    ,  39.    ,  52.    ,\n",
              "        10.5   ,  13.    ,   0.    ,   7.775 ,   8.05  ,   9.8417,\n",
              "        46.9   , 512.3292,   8.1375,  76.7292,   9.225 ,  46.9   ,\n",
              "        39.    ,  41.5792,  39.6875,  10.1708,   7.7958, 211.3375,\n",
              "        57.    ,  13.4167,  56.4958,   7.225 ,  26.55  ,  13.5   ,\n",
              "         8.05  ,   7.7333, 110.8833,   7.65  , 227.525 ,  26.2875,\n",
              "        14.4542,   7.7417,   7.8542,  26.    ,  13.5   ,  26.2875,\n",
              "       151.55  ,  15.2458,  49.5042,  26.55  ,  52.    ,   9.4833,\n",
              "        13.    ,   7.65  , 227.525 ,  10.5   ,  15.5   ,   7.775 ,\n",
              "        33.    ,   7.0542,  13.    ,  13.    ,  53.1   ,   8.6625,\n",
              "        21.    ,   7.7375,  26.    ,   7.925 , 211.3375,  18.7875,\n",
              "         0.    ,  13.    ,  13.    ,  16.1   ,  34.375 , 512.3292,\n",
              "         7.8958,   7.8958,  30.    ,  78.85  , 262.375 ,  16.1   ,\n",
              "         7.925 ,  71.    ,  20.25  ,  13.    ,  53.1   ,   7.75  ,\n",
              "        23.    ,  12.475 ,   9.5   ,   7.8958,  65.    ,  14.5   ,\n",
              "         7.7958,  11.5   ,   8.05  ,  86.5   ,  14.5   ,   7.125 ,\n",
              "         7.2292, 120.    ,   7.775 ,  77.9583,  39.6   ,   7.75  ,\n",
              "        24.15  ,   8.3625,   9.5   ,   7.8542,  10.5   ,   7.225 ,\n",
              "        23.    ,   7.75  ,   7.75  ,  12.475 ,   7.7375, 211.3375,\n",
              "         7.2292,  57.    ,  30.    ,  23.45  ,   7.05  ,   7.25  ,\n",
              "         7.4958,  29.125 ,  20.575 ,  79.2   ,   7.75  ,  26.    ,\n",
              "        69.55  ,  30.6958,   7.8958,  13.    ,  25.9292,   8.6833,\n",
              "         7.2292,  24.15  ,  13.    ,  26.25  , 120.    ,   8.5167,\n",
              "         6.975 ,   7.775 ,   0.    ,   7.775 ,  13.    ,  53.1   ,\n",
              "         7.8875,  24.15  ,  10.5   ,  31.275 ,   8.05  ,   0.    ,\n",
              "         7.925 ,  37.0042,   6.45  ,  27.9   ,  93.5   ,   8.6625,\n",
              "         0.    ,  12.475 ,  39.6875,   6.95  ,  56.4958,  37.0042,\n",
              "         7.75  ,  80.    ,  14.4542,  18.75  ,   7.2292,   7.8542,\n",
              "         8.3   ,  83.1583,   8.6625,   8.05  ,  56.4958,  29.7   ,\n",
              "         7.925 ,  10.5   ,  31.    ,   6.4375,   8.6625,   7.55  ,\n",
              "        69.55  ,   7.8958,  33.    ,  89.1042,  31.275 ,   7.775 ,\n",
              "        15.2458,  39.4   ,  26.    ,   9.35  , 164.8667,  26.55  ,\n",
              "        19.2583,   7.2292,  14.1083,  11.5   ,  25.9292,  69.55  ,\n",
              "        13.    ,  13.    ,  13.8583,  50.4958,   9.5   ,  11.1333,\n",
              "         7.8958,  52.5542,   5.    ,   9.    ,  24.    ,   7.225 ,\n",
              "         9.8458,   7.8958,   7.8958,  83.1583,  26.    ,   7.8958,\n",
              "        10.5167,  10.5   ,   7.05  ,  29.125 ,  13.    ,  30.    ,\n",
              "        23.45  ,  30.    ,   7.75  ])"
            ]
          },
          "metadata": {
            "tags": []
          },
          "execution_count": 22
        }
      ]
    },
    {
      "cell_type": "markdown",
      "metadata": {
        "id": "5NUfDr3z3b-d",
        "colab_type": "text"
      },
      "source": [
        "Ahora veremos los ultimos 4 valores de la columna 'Survived'"
      ]
    },
    {
      "cell_type": "code",
      "metadata": {
        "id": "Yhh7cLPg3Ukh",
        "colab_type": "code",
        "colab": {
          "base_uri": "https://localhost:8080/",
          "height": 714
        },
        "outputId": "0cfe3b6e-16e7-4ea1-902b-22fc1243ecb8"
      },
      "source": [
        "data['Survived']"
      ],
      "execution_count": 25,
      "outputs": [
        {
          "output_type": "execute_result",
          "data": {
            "text/plain": [
              "array([0, 1, 1, 1, 0, 0, 0, 0, 1, 1, 1, 1, 0, 0, 0, 1, 0, 1, 0, 1, 0, 1,\n",
              "       1, 1, 0, 1, 0, 0, 1, 0, 0, 1, 1, 0, 0, 0, 1, 0, 0, 1, 0, 0, 0, 1,\n",
              "       1, 0, 0, 1, 0, 0, 0, 0, 1, 1, 0, 1, 1, 0, 1, 0, 0, 1, 0, 0, 0, 1,\n",
              "       1, 0, 1, 0, 0, 0, 0, 0, 1, 0, 0, 0, 1, 1, 0, 1, 1, 0, 1, 1, 0, 0,\n",
              "       1, 0, 0, 0, 0, 0, 0, 0, 0, 1, 1, 0, 0, 0, 0, 0, 0, 0, 1, 1, 0, 1,\n",
              "       0, 0, 0, 0, 0, 0, 0, 0, 0, 0, 0, 0, 0, 1, 0, 1, 0, 1, 1, 0, 0, 0,\n",
              "       0, 1, 0, 0, 1, 0, 0, 0, 0, 1, 1, 0, 0, 0, 1, 0, 0, 0, 0, 1, 0, 0,\n",
              "       0, 0, 1, 0, 0, 0, 0, 1, 0, 0, 0, 1, 1, 0, 0, 0, 0, 0, 1, 0, 0, 0,\n",
              "       0, 0, 0, 0, 0, 0, 0, 1, 1, 0, 1, 1, 0, 0, 1, 0, 1, 1, 1, 1, 0, 0,\n",
              "       1, 0, 0, 0, 0, 0, 1, 0, 0, 1, 1, 1, 0, 1, 0, 0, 0, 1, 1, 0, 1, 0,\n",
              "       1, 0, 0, 0, 1, 0, 1, 0, 0, 0, 1, 0, 0, 1, 0, 0, 0, 1, 0, 0, 0, 1,\n",
              "       0, 0, 0, 0, 0, 1, 1, 0, 0, 0, 0, 0, 0, 1, 1, 1, 1, 1, 0, 1, 0, 0,\n",
              "       0, 0, 0, 1, 1, 1, 0, 1, 1, 0, 1, 1, 0, 0, 0, 1, 0, 0, 0, 1, 0, 0,\n",
              "       1, 0, 1, 1, 1, 1, 0, 0, 0, 0, 0, 0, 1, 1, 1, 1, 0, 1, 0, 1, 1, 1,\n",
              "       0, 1, 1, 1, 0, 0, 0, 1, 1, 0, 1, 1, 0, 0, 1, 1, 0, 1, 0, 1, 1, 1,\n",
              "       1, 0, 0, 0, 1, 0, 0, 1, 1, 0, 1, 1, 0, 0, 0, 1, 1, 1, 1, 0, 0, 0,\n",
              "       0, 0, 0, 0, 1, 0, 1, 1, 0, 0, 0, 0, 0, 0, 1, 1, 1, 1, 1, 0, 0, 0,\n",
              "       0, 1, 1, 0, 0, 0, 1, 1, 0, 1, 0, 0, 0, 1, 0, 1, 1, 1, 0, 1, 1, 0,\n",
              "       0, 0, 0, 1, 1, 0, 0, 0, 0, 0, 0, 1, 0, 0, 0, 0, 1, 0, 1, 0, 1, 1,\n",
              "       0, 0, 0, 0, 0, 0, 0, 0, 1, 1, 0, 1, 1, 1, 1, 0, 0, 1, 0, 1, 0, 0,\n",
              "       1, 0, 0, 1, 1, 1, 1, 1, 1, 1, 0, 0, 0, 1, 0, 1, 0, 1, 1, 0, 1, 0,\n",
              "       0, 0, 0, 0, 0, 0, 0, 1, 0, 0, 1, 1, 0, 0, 0, 0, 0, 1, 0, 0, 0, 1,\n",
              "       1, 0, 1, 0, 0, 1, 0, 0, 0, 0, 0, 0, 1, 0, 0, 0, 0, 0, 0, 0, 1, 0,\n",
              "       1, 1, 0, 1, 1, 0, 1, 1, 0, 0, 1, 0, 1, 0, 1, 0, 0, 1, 0, 0, 1, 0,\n",
              "       0, 0, 1, 0, 0, 1, 0, 1, 0, 1, 0, 1, 1, 0, 0, 1, 0, 0, 1, 1, 0, 1,\n",
              "       1, 0, 0, 1, 1, 0, 1, 0, 1, 1, 0, 0, 0, 0, 0, 0, 0, 0, 0, 1, 1, 1,\n",
              "       1, 1, 0, 0, 1, 1, 0, 1, 1, 1, 0, 0, 0, 1, 0, 1, 0, 0, 0, 1, 0, 0,\n",
              "       0, 0, 1, 0, 0, 1, 1, 0, 0, 0, 1, 0, 0, 1, 1, 1, 0, 0, 1, 0, 0, 1,\n",
              "       0, 0, 1, 0, 0, 1, 1, 0, 0, 0, 0, 1, 0, 0, 1, 0, 1, 0, 0, 1, 0, 0,\n",
              "       0, 0, 0, 1, 0, 1, 1, 1, 0, 1, 0, 1, 0, 1, 0, 1, 0, 0, 0, 0, 0, 0,\n",
              "       1, 0, 0, 0, 1, 0, 0, 0, 0, 1, 1, 0, 0, 1, 0, 0, 0, 1, 0, 1, 0, 1,\n",
              "       0, 0, 0, 0, 0, 0, 0, 1, 1, 1, 1, 0, 0, 0, 0, 1, 0, 0, 1, 1, 0, 0,\n",
              "       0, 0, 1, 1, 1, 1, 1, 0, 1, 0, 0, 0, 1, 1, 0, 0, 1, 0, 0, 0, 1, 0,\n",
              "       1, 1, 0, 0, 1, 0, 0, 0, 0, 0, 0, 1, 0, 0, 1, 0, 1, 0, 1, 0, 0, 1,\n",
              "       0, 0, 1, 1, 0, 0, 1, 1, 0, 0, 0, 1, 0, 0, 1, 1, 0, 1, 0, 0, 0, 0,\n",
              "       0, 0, 0, 0, 1, 0, 0, 1, 0, 1, 1, 1, 0, 0, 0, 0, 1, 0, 1, 0, 0, 0,\n",
              "       0, 0, 0, 0, 1, 1, 0, 0, 0, 1, 1, 1, 1, 0, 0, 0, 0, 1, 0, 0, 0, 0,\n",
              "       0, 0, 0, 0, 0, 0, 1, 1, 0, 1, 0, 0, 0, 1, 1, 1, 1, 1, 0, 0, 0, 1,\n",
              "       0, 0, 1, 1, 0, 0, 1, 0, 0, 0, 0, 0, 0, 1, 0, 0, 0, 1, 0, 1, 1, 1,\n",
              "       1, 0, 0, 0, 1, 0, 0, 1, 1, 0, 0, 1, 0, 1, 0, 0, 1, 1, 0, 0, 0, 1,\n",
              "       1, 0, 0, 0, 0, 0, 0, 1, 0, 1, 0])"
            ]
          },
          "metadata": {
            "tags": []
          },
          "execution_count": 25
        }
      ]
    },
    {
      "cell_type": "markdown",
      "metadata": {
        "id": "WKaPOfmS3tKZ",
        "colab_type": "text"
      },
      "source": [
        "Acabamos de usar `np.genfromtxt()` para importar datos que contienen tipos de datos mixtos. También hay otra función `np.recfromcsv()` que se comporta de manera similar a `np.genfromtxt()`, excepto que su dtype predeterminado es None. Ahora practicaremos  para lograr el mismo resultado."
      ]
    },
    {
      "cell_type": "code",
      "metadata": {
        "id": "slH-lM1K3iut",
        "colab_type": "code",
        "colab": {
          "base_uri": "https://localhost:8080/",
          "height": 122
        },
        "outputId": "44e7e3d3-e5a2-4eed-a303-5bb8f207b734"
      },
      "source": [
        "# Asignamos nuestra ruta de archivo a la variable file\n",
        "file = 'https://assets.datacamp.com/production/repositories/487/datasets/be79810c4288801167cfb31dbedd396559816ade/titanic_sub.csv'\n",
        "\n",
        "# Importamos el archivo y usamos np.recfromcsv: d\n",
        "d = np.recfromcsv(file,delimiter=',',names=True,dtype=None)\n",
        "\n",
        "# Imprimimos las primeras 3 entradas de d\n",
        "print(d[:3])\n"
      ],
      "execution_count": 26,
      "outputs": [
        {
          "output_type": "stream",
          "text": [
            "[(1, 0, 3, b'male', 22., 1, 0, b'A/5 21171',  7.25  , b'', b'S')\n",
            " (2, 1, 1, b'female', 38., 1, 0, b'PC 17599', 71.2833, b'C85', b'C')\n",
            " (3, 1, 3, b'female', 26., 0, 0, b'STON/O2. 3101282',  7.925 , b'', b'S')]\n"
          ],
          "name": "stdout"
        },
        {
          "output_type": "stream",
          "text": [
            "/usr/local/lib/python3.6/dist-packages/numpy/lib/npyio.py:2372: VisibleDeprecationWarning: Reading unicode strings without specifying the encoding argument is deprecated. Set the encoding, use None for the system default.\n",
            "  output = genfromtxt(fname, **kwargs)\n"
          ],
          "name": "stderr"
        }
      ]
    },
    {
      "cell_type": "markdown",
      "metadata": {
        "id": "-FHcm-h14tPh",
        "colab_type": "text"
      },
      "source": [
        "Recursos:\n",
        "\n",
        "* [Imagen](https://external-content.duckduckgo.com/iu/?u=https%3A%2F%2Ftse3.mm.bing.net%2Fth%3Fid%3DOIP.vOfkHJYKiipQrnctDywK8wHaEt%26pid%3DApi&f=1)\n",
        "\n",
        "* [DataSet1]('http://www.stat.ucla.edu/~rgould/datasets/seaslugs.dat')\n",
        "\n",
        "* [DataSet2]('https://assets.datacamp.com/production/repositories/487/datasets/be79810c4288801167cfb31dbedd396559816ade/titanic_sub.csv'\n",
        ")"
      ]
    }
  ]
}