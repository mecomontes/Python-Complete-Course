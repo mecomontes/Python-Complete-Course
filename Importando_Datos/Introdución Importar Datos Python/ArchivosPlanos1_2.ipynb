{
  "nbformat": 4,
  "nbformat_minor": 0,
  "metadata": {
    "colab": {
      "name": "ArchivosPlanos1_2.ipynb",
      "provenance": [],
      "collapsed_sections": []
    },
    "kernelspec": {
      "name": "python3",
      "display_name": "Python 3"
    }
  },
  "cells": [
    {
      "cell_type": "markdown",
      "metadata": {
        "id": "E9vLixK8nZMc",
        "colab_type": "text"
      },
      "source": [
        "![texto alternativo](https://external-content.duckduckgo.com/iu/?u=https%3A%2F%2Ftse1.mm.bing.net%2Fth%3Fid%3DOIP.sQIuKh8_cuOqnGYU-lj5dwAAAA%26pid%3DApi&f=1)\n",
        "\n",
        "\n",
        "# La Importancia De Los Archivos Planos En Ciencia De Datos.\n",
        "\n",
        "## Introducción:\n",
        "\n",
        "Ahora que ya sabemos cómo importar archivos de texto sinn formato , veremos archivos planos como *titanic.csv*, en el que cada fila es un pasajero y cada columna una descricpión de alguna cualidad de los individuos abordo.\n",
        "\n",
        "\n",
        "Es escencial que cualquier cientifico de datos sepa con precisión el significado de archivo plano.\n",
        "\n",
        "## Archivos Planos - (A.P).\n",
        "\n",
        "Definición:\n",
        "\n",
        "Son archivos básicos que contienen registros, es decir , datos de tabla , sin relaciones estructuradas.Esto contrasta con una base de datos Relacional, por ejemplo en la que se pueden relacionar columnas de distinas tablas.\n",
        "\n",
        "En otras palabras los A.P consisten en registros, donde por un registro nos referimos a una fila de campos o traibutos, donde cada uno de los cuales contiene como máximo un elemento de información de estos.\n",
        "\n",
        "\n",
        "En el archivo plano 'titanic3.csv', cada registro es un pasajero único abordo y cada columna es una caracteristica.\n",
        "\n",
        "Tambien es importante tener en cuenta que un archivo plano puede tener un encabezado como en titanic3.csv, que es una fila que ocurre como la primera fila y describe el contenido de las columnas de datos o establece cuales son los atributos o caracterisicas correspondientes en cada columns.\n",
        "\n",
        "Es importante saber si nuestro archivo tiene encabezado o no , ya que puede alterar la importación de nuestros datos.\n",
        "\n",
        "\n",
        "# ¿ Por qué Son tan impotantes estos archivos en la C.D?\n",
        "\n",
        "Nosotros como cientificos de datos realmente nos gusta pensar en registros o filas de atributos.Ahora podemos notar que la extención de nuestro archivo es `.csv`.\n"
      ]
    },
    {
      "cell_type": "code",
      "metadata": {
        "id": "_tZPKfbOnXTg",
        "colab_type": "code",
        "colab": {}
      },
      "source": [
        "file = '/content/titanic3.csv'"
      ],
      "execution_count": 1,
      "outputs": []
    },
    {
      "cell_type": "markdown",
      "metadata": {
        "id": "OXXd69eErMH0",
        "colab_type": "text"
      },
      "source": [
        "Nos estaremos preguntando...¿Que rayos es *.CSV*?\n",
        "\n",
        "Bueno es simple *.csv* es un acrónimo de valor separado por comas o Comma separated Values y significa exactamente lo que dice.Los valores en cada fila están separados por comas.\n",
        "\n",
        "\n",
        "Otra extensión común para un archivo planto es *.txt* , que significa un archivo de texto.Los valores en archivos planos se pueden separar por caracteres o secuencias de caracteres de comas, como una pestaña y el carácter en cuestión se llama delimitador.\n",
        "\n",
        "Otra cosa importante a saber es que si nuestros datos consisten completamente en números y queremos almacenarlos como una matriz NumPy podriamos usar NumPy.\n",
        "\n",
        "Si en cambio , queremos almacenar los datos en un DataFrame , podriamos usar pandas.En el seiguiente notebook veremos como importar archivos planos usando Numpy.\n",
        "\n",
        "\n",
        "\n",
        "---\n",
        "\n",
        "\n",
        "\n",
        "---\n",
        "\n"
      ]
    }
  ]
}