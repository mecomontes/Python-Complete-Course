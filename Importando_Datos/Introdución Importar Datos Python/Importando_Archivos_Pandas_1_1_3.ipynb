{
  "nbformat": 4,
  "nbformat_minor": 0,
  "metadata": {
    "colab": {
      "name": "Importando_Archivos_Pandas_1_1_3.ipynb",
      "provenance": [],
      "collapsed_sections": []
    },
    "kernelspec": {
      "name": "python3",
      "display_name": "Python 3"
    }
  },
  "cells": [
    {
      "cell_type": "markdown",
      "metadata": {
        "id": "isfiYfszPESE",
        "colab_type": "text"
      },
      "source": [
        "<center>\n",
        "\n",
        "![](https://raw.githubusercontent.com/Chilangdon20/PYTHON/master/Curso%20Basico/CursoExpress/Imagenes/Padas.jpg)\n",
        "\n",
        "\n",
        "\n",
        "</center>\n",
        "\n",
        "# Importando Archivos Planos Usando Pandas\n",
        "\n",
        "## Introducción:\n",
        "\n",
        "Si bien los archivos son increiblemente potentes y cumplen una serie de propósitos aesenciales,no pueden cumplir una de las necesidades más básicas de un cientifico de datos:Tener 2 estructuras de datos etiquetadas tridimensionales con columnas de tipos potencialmente diferentes, en lo que se puede realizar fácilmente una gran cantidad de cosas que hacemos los cientificos de datos como son:\n",
        "\n",
        "* Manipular\n",
        "* Dividir\n",
        "* Agrupar\n",
        "* Unir\n",
        "* Fusionar\n",
        "* Realizar estadísticas de una manera amigable con los valores perdidos.\n",
        "* Lidiar con series de tiempo\n",
        "\n",
        "Todo este tipo de actividades y mas motivo a [Wes Mckinney](https://wesmckinney.com/https://wesmckinney.com/) a crear la biblioteca Pandas.Python ha sido bueno durante mucho tiempo  para la *mezcla* y *preparacion de datos* pero no para el análisis y modelado de datos.\n",
        "\n",
        "Pandas ayuda a llenar ese vacio, permitiendonos llevar a cabo todo el análisis de datos en Python , sin tener que cambiar a un lenguaje de dominio mas especifico como *R*.\n",
        "\n",
        "\n",
        "La estructura de datos más relevante para el flujo de trabajo de análisis y manipulación de datos que ofrece pandas es el **DataFrame**, y es el análogo Pythonico del DataFrame de R.\n",
        "\n",
        "La manipulación de DataFrame en Pandas puede ser muy util en todos los pasos de  un metodo para cientifico de datos, desde análisis de datos exploratorios hasta disputas de datos, preprocesamiento , construcción de modelos y visualización.\n",
        "\n",
        "\n",
        "Aqui veremos su gran utilidad en la immportación de archivos planos , incluso simplemente en la forma en que tratamos con datos faltantes, comentarios junto con muchos otros problemas que afectan a los cientifico de datos.\n",
        "\n",
        "## ¿Cómo usarlo?\n",
        "\n",
        "Para usar pandas primero debemos importarlo:"
      ]
    },
    {
      "cell_type": "code",
      "metadata": {
        "id": "GTB-qA50O9Zw",
        "colab_type": "code",
        "colab": {}
      },
      "source": [
        "import pandas as pd"
      ],
      "execution_count": 1,
      "outputs": []
    },
    {
      "cell_type": "markdown",
      "metadata": {
        "id": "GVg1oXg8TNCc",
        "colab_type": "text"
      },
      "source": [
        "Despues, si deseamos importar un CSV en el caso más básico , todo lo que tenemos que hacer es llamara a la función `read_csv` proporcionando un único argumento , que sera el nombre de nuestro archivo."
      ]
    },
    {
      "cell_type": "code",
      "metadata": {
        "id": "C8KvjVZWTMje",
        "colab_type": "code",
        "colab": {}
      },
      "source": [
        "filename = '/content/sample_data/california_housing_train.csv'\n",
        "data = pd.read_csv(filename)\n"
      ],
      "execution_count": 2,
      "outputs": []
    },
    {
      "cell_type": "markdown",
      "metadata": {
        "id": "QIQu0s-gUHnE",
        "colab_type": "text"
      },
      "source": [
        "Habiendo asignado el DataFrame , podemos verifricar las 5 primeras filas, incluido el encabezado con el comando `.head()`"
      ]
    },
    {
      "cell_type": "code",
      "metadata": {
        "id": "LXZlZB3pUGLy",
        "colab_type": "code",
        "colab": {
          "base_uri": "https://localhost:8080/",
          "height": 224
        },
        "outputId": "26ebede2-a578-41cc-f5fa-aa4048b7142f"
      },
      "source": [
        "data.head()"
      ],
      "execution_count": 3,
      "outputs": [
        {
          "output_type": "execute_result",
          "data": {
            "text/html": [
              "<div>\n",
              "<style scoped>\n",
              "    .dataframe tbody tr th:only-of-type {\n",
              "        vertical-align: middle;\n",
              "    }\n",
              "\n",
              "    .dataframe tbody tr th {\n",
              "        vertical-align: top;\n",
              "    }\n",
              "\n",
              "    .dataframe thead th {\n",
              "        text-align: right;\n",
              "    }\n",
              "</style>\n",
              "<table border=\"1\" class=\"dataframe\">\n",
              "  <thead>\n",
              "    <tr style=\"text-align: right;\">\n",
              "      <th></th>\n",
              "      <th>longitude</th>\n",
              "      <th>latitude</th>\n",
              "      <th>housing_median_age</th>\n",
              "      <th>total_rooms</th>\n",
              "      <th>total_bedrooms</th>\n",
              "      <th>population</th>\n",
              "      <th>households</th>\n",
              "      <th>median_income</th>\n",
              "      <th>median_house_value</th>\n",
              "    </tr>\n",
              "  </thead>\n",
              "  <tbody>\n",
              "    <tr>\n",
              "      <th>0</th>\n",
              "      <td>-114.31</td>\n",
              "      <td>34.19</td>\n",
              "      <td>15.0</td>\n",
              "      <td>5612.0</td>\n",
              "      <td>1283.0</td>\n",
              "      <td>1015.0</td>\n",
              "      <td>472.0</td>\n",
              "      <td>1.4936</td>\n",
              "      <td>66900.0</td>\n",
              "    </tr>\n",
              "    <tr>\n",
              "      <th>1</th>\n",
              "      <td>-114.47</td>\n",
              "      <td>34.40</td>\n",
              "      <td>19.0</td>\n",
              "      <td>7650.0</td>\n",
              "      <td>1901.0</td>\n",
              "      <td>1129.0</td>\n",
              "      <td>463.0</td>\n",
              "      <td>1.8200</td>\n",
              "      <td>80100.0</td>\n",
              "    </tr>\n",
              "    <tr>\n",
              "      <th>2</th>\n",
              "      <td>-114.56</td>\n",
              "      <td>33.69</td>\n",
              "      <td>17.0</td>\n",
              "      <td>720.0</td>\n",
              "      <td>174.0</td>\n",
              "      <td>333.0</td>\n",
              "      <td>117.0</td>\n",
              "      <td>1.6509</td>\n",
              "      <td>85700.0</td>\n",
              "    </tr>\n",
              "    <tr>\n",
              "      <th>3</th>\n",
              "      <td>-114.57</td>\n",
              "      <td>33.64</td>\n",
              "      <td>14.0</td>\n",
              "      <td>1501.0</td>\n",
              "      <td>337.0</td>\n",
              "      <td>515.0</td>\n",
              "      <td>226.0</td>\n",
              "      <td>3.1917</td>\n",
              "      <td>73400.0</td>\n",
              "    </tr>\n",
              "    <tr>\n",
              "      <th>4</th>\n",
              "      <td>-114.57</td>\n",
              "      <td>33.57</td>\n",
              "      <td>20.0</td>\n",
              "      <td>1454.0</td>\n",
              "      <td>326.0</td>\n",
              "      <td>624.0</td>\n",
              "      <td>262.0</td>\n",
              "      <td>1.9250</td>\n",
              "      <td>65500.0</td>\n",
              "    </tr>\n",
              "  </tbody>\n",
              "</table>\n",
              "</div>"
            ],
            "text/plain": [
              "   longitude  latitude  ...  median_income  median_house_value\n",
              "0    -114.31     34.19  ...         1.4936             66900.0\n",
              "1    -114.47     34.40  ...         1.8200             80100.0\n",
              "2    -114.56     33.69  ...         1.6509             85700.0\n",
              "3    -114.57     33.64  ...         3.1917             73400.0\n",
              "4    -114.57     33.57  ...         1.9250             65500.0\n",
              "\n",
              "[5 rows x 9 columns]"
            ]
          },
          "metadata": {
            "tags": []
          },
          "execution_count": 3
        }
      ]
    },
    {
      "cell_type": "markdown",
      "metadata": {
        "id": "8ShmJoEoUcgh",
        "colab_type": "text"
      },
      "source": [
        "También podemos convertir facilmente el DataFrame en una matriz NumPy llamando a `.values`"
      ]
    },
    {
      "cell_type": "code",
      "metadata": {
        "id": "OZLeYcvdUZF4",
        "colab_type": "code",
        "colab": {
          "base_uri": "https://localhost:8080/",
          "height": 238
        },
        "outputId": "d405ec8d-03b3-41b2-df94-af4ba1419891"
      },
      "source": [
        "data_np = data.values\n",
        "data_np"
      ],
      "execution_count": 4,
      "outputs": [
        {
          "output_type": "execute_result",
          "data": {
            "text/plain": [
              "array([[-1.1431e+02,  3.4190e+01,  1.5000e+01, ...,  4.7200e+02,\n",
              "         1.4936e+00,  6.6900e+04],\n",
              "       [-1.1447e+02,  3.4400e+01,  1.9000e+01, ...,  4.6300e+02,\n",
              "         1.8200e+00,  8.0100e+04],\n",
              "       [-1.1456e+02,  3.3690e+01,  1.7000e+01, ...,  1.1700e+02,\n",
              "         1.6509e+00,  8.5700e+04],\n",
              "       ...,\n",
              "       [-1.2430e+02,  4.1840e+01,  1.7000e+01, ...,  4.5600e+02,\n",
              "         3.0313e+00,  1.0360e+05],\n",
              "       [-1.2430e+02,  4.1800e+01,  1.9000e+01, ...,  4.7800e+02,\n",
              "         1.9797e+00,  8.5800e+04],\n",
              "       [-1.2435e+02,  4.0540e+01,  5.2000e+01, ...,  2.7000e+02,\n",
              "         3.0147e+00,  9.4600e+04]])"
            ]
          },
          "metadata": {
            "tags": []
          },
          "execution_count": 4
        }
      ]
    },
    {
      "cell_type": "markdown",
      "metadata": {
        "id": "cFUZURgpVbDi",
        "colab_type": "text"
      },
      "source": [
        "### EXTRA.\n",
        "\n",
        "Como beneficio adicional, es sencillo recuperar la matriz numpy correspondiente utilizando los valores de los atributos. Ahora lo haremos utilizando el conjunto de datos MNIST."
      ]
    },
    {
      "cell_type": "code",
      "metadata": {
        "id": "AI2-M4meUpEe",
        "colab_type": "code",
        "colab": {}
      },
      "source": [
        "# Asigna nuestra ruta de archivo a una variable\n",
        "file = 'https://assets.datacamp.com/production/repositories/487/datasets/d6d1b84ef06151ff913b4173e2eca8e6d5fa959b/mnist_kaggle_some_rows.csv'"
      ],
      "execution_count": 5,
      "outputs": []
    },
    {
      "cell_type": "markdown",
      "metadata": {
        "id": "FF9NsqXsV02W",
        "colab_type": "text"
      },
      "source": [
        "Es importante saber que este DataFrame no tiene en cabezado y solo queremos las 10 primeras filas por lo que debemos poner mas argumentos."
      ]
    },
    {
      "cell_type": "code",
      "metadata": {
        "id": "A4Y9smV2VyuT",
        "colab_type": "code",
        "colab": {}
      },
      "source": [
        "# Asigna datos a una variable con argumentos extras.\n",
        "data = pd.read_csv(file,nrows=10,header=None)"
      ],
      "execution_count": 6,
      "outputs": []
    },
    {
      "cell_type": "markdown",
      "metadata": {
        "id": "w_PfPQusWL4u",
        "colab_type": "text"
      },
      "source": [
        "Ahora queremos pasar nuestro Pandas DataFrame a una matriz NumPy."
      ]
    },
    {
      "cell_type": "code",
      "metadata": {
        "id": "kEr-JY7hWI4a",
        "colab_type": "code",
        "colab": {}
      },
      "source": [
        "data_np = data.values"
      ],
      "execution_count": 7,
      "outputs": []
    },
    {
      "cell_type": "markdown",
      "metadata": {
        "id": "66JOfd90WT1o",
        "colab_type": "text"
      },
      "source": [
        "Por ultimo imprimimos el tipo de nuestro `data_np`"
      ]
    },
    {
      "cell_type": "code",
      "metadata": {
        "id": "M8j-S3TqWSkO",
        "colab_type": "code",
        "colab": {
          "base_uri": "https://localhost:8080/",
          "height": 34
        },
        "outputId": "32e7258f-aade-4741-f111-741934b35c0b"
      },
      "source": [
        "print(type(data_np))"
      ],
      "execution_count": 8,
      "outputs": [
        {
          "output_type": "stream",
          "text": [
            "<class 'numpy.ndarray'>\n"
          ],
          "name": "stdout"
        }
      ]
    },
    {
      "cell_type": "markdown",
      "metadata": {
        "id": "AB1QF71fWyOZ",
        "colab_type": "text"
      },
      "source": [
        "El paquete pandas también es excelente para tratar muchos de los problemas que encontrarás al importar datos como científico de datos, como los comentarios que se producen en archivos planos, líneas vacías y valores faltantes. Ten en cuenta que los valores faltantes también se conocen comúnmente como NA o NaN. "
      ]
    },
    {
      "cell_type": "code",
      "metadata": {
        "id": "jBQlga3JXXAN",
        "colab_type": "code",
        "colab": {}
      },
      "source": [
        "data = pd.read_csv(file, sep='\\t', comment='#', na_values=['Nothing'])"
      ],
      "execution_count": 9,
      "outputs": []
    },
    {
      "cell_type": "markdown",
      "metadata": {
        "id": "WWW2jlTwXbzN",
        "colab_type": "text"
      },
      "source": [
        "ARGUMENTOS:\n",
        "\n",
        "* `sep` - Sirve para indicar como estan separados nuestros datos, en este caso es por tabuladores por lo que indicamos `'\\t'`.\n",
        "\n",
        "* `comment` - Sirve para indicar si hay comentarios en nuestro DataFrame en este caso los hay y estan señalados como `#`.\n",
        "\n",
        "* `n_values` - Sirve para indicar si hay valores NaN en este caso no los hay y ponemos `'Nothing'`"
      ]
    },
    {
      "cell_type": "markdown",
      "metadata": {
        "id": "jUyz4uqxYROi",
        "colab_type": "text"
      },
      "source": [
        "## Conclusión:\n",
        "\n",
        "Hemos visto diferentes formas de leer , imprmir e importar archivos planos, como cientifico de datos con mayor frecuecnia desearemos usar pandas, sin embargo es importante hechar un vistazo a todas las formas posbioes de importar , por que nunca sabemos cuando serán utiles.En los proximos Notebooks veremos cuán útil puede ser Pandas al importar otra variedad de archivos.\n",
        "\n"
      ]
    }
  ]
}