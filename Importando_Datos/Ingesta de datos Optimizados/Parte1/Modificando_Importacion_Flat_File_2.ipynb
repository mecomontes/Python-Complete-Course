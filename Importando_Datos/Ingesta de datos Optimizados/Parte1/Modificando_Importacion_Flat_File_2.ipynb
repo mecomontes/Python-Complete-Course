{
  "nbformat": 4,
  "nbformat_minor": 0,
  "metadata": {
    "colab": {
      "name": "Modificando_Importacion_Flat_File_2.ipynb",
      "provenance": [],
      "collapsed_sections": []
    },
    "kernelspec": {
      "name": "python3",
      "display_name": "Python 3"
    }
  },
  "cells": [
    {
      "cell_type": "markdown",
      "metadata": {
        "id": "jX0JV5gEKu6P",
        "colab_type": "text"
      },
      "source": [
        "# Importando datos necesarios.\n",
        "\n",
        "Ahora  sabemos como cargar un archivo plano en un DataFrame sin embargo , aveces solo queremos una parte del archivo, en esta sección veremos formas de limitar la cantidad de datos importados y cómo hacer que esos datos sean más fáciles de trabajas nombrando columnas,\n",
        "\n",
        "Regresemos a nuestro cojunto de datos fiscales de la lección anterior.\n",
        "\n"
      ]
    },
    {
      "cell_type": "code",
      "metadata": {
        "id": "fMyFqRLoIviK",
        "colab_type": "code",
        "colab": {
          "base_uri": "https://localhost:8080/",
          "height": 34
        },
        "outputId": "7157a845-f909-4872-834f-61bbf70eba95"
      },
      "source": [
        "#importamos paquetes necesrios\n",
        "from urllib.request import urlretrieve\n",
        "import pandas as pd\n",
        "\n",
        "# asiganmos la url \n",
        "data = \"https://assets.datacamp.com/production/repositories/4412/datasets/61bb27bf939aac4344d4f446ce6da1d1bf534174/vt_tax_data_2016.csv\"\n",
        "# guardamos el archivo\n",
        "urlretrieve(data)\n",
        "# leemo el arhivo en un dataframe\n",
        "\n",
        "df = pd.read_csv(data)\n",
        "\n",
        "print(df.shape)"
      ],
      "execution_count": 6,
      "outputs": [
        {
          "output_type": "stream",
          "text": [
            "(1476, 147)\n"
          ],
          "name": "stdout"
        }
      ]
    },
    {
      "cell_type": "markdown",
      "metadata": {
        "id": "6vtOyTCfL03D",
        "colab_type": "text"
      },
      "source": [
        "Al verificar el atributo de forma de los datos, vemos que tiene casi 1500 filas y 147 columnas, amenos que. nuestra computadora tenga poca memoria o esten varios procesos ejecutandose, Pandas puede mejorar fácilmente datos asi o mucho mas grandesm pero es más de lo que necesitamos, tenemos algunas opciones para reducirlo:\n",
        "\n",
        "## Limitando columnas.\n",
        "\n",
        "La primera forma es elegir columnas para cargar con el argumento de la plabra `usecols`, este puede tomar una lista de todos los nombres de la columna o todos los números de columna para importar, incluso puede aceptar una función para seleccionar columnas, por lo que podemos importar toas las columnas empezando con la letra N , pero esta es una técnica más avanzada.\n",
        "\n",
        "Para centrarnos en la cantidad de declaraciones de impuestos por banda de ingresos y código postal , nosotros podemos configurar una lista de los nomres de columna relevantes o sus numeros.\n",
        "\n"
      ]
    },
    {
      "cell_type": "code",
      "metadata": {
        "id": "_WtJmv24LaCf",
        "colab_type": "code",
        "colab": {}
      },
      "source": [
        "col_names = ['STATEFIPS','STATE','zipcode','agi_stub','N1']\n",
        "col_numbers = [0,1,2,3,4]"
      ],
      "execution_count": 7,
      "outputs": []
    },
    {
      "cell_type": "markdown",
      "metadata": {
        "id": "Pcn0ldZPPHO1",
        "colab_type": "text"
      },
      "source": [
        "Ahora cargamos nuestra ruta de archivos como siempre , pero esta vez, pasamod `usecols=col_names` con nuestra lista de nombres de columna:"
      ]
    },
    {
      "cell_type": "code",
      "metadata": {
        "id": "SOmfD2h7M_vC",
        "colab_type": "code",
        "colab": {}
      },
      "source": [
        "df = pd.read_csv(data,usecols=col_names)\n",
        "df_2 = pd.read_csv(data,usecols=col_numbers)"
      ],
      "execution_count": 10,
      "outputs": []
    },
    {
      "cell_type": "markdown",
      "metadata": {
        "id": "1PWCmZMCQ-sJ",
        "colab_type": "text"
      },
      "source": [
        "Podemos verificar para asegurarnos de que las dors formas producen el mismo resultado:"
      ]
    },
    {
      "cell_type": "code",
      "metadata": {
        "id": "2YygVXWLPYNJ",
        "colab_type": "code",
        "colab": {
          "base_uri": "https://localhost:8080/",
          "height": 34
        },
        "outputId": "4ad9fd28-d5e1-4da3-f4fb-1693f01b52c6"
      },
      "source": [
        "print(df.equals(df_2))"
      ],
      "execution_count": 12,
      "outputs": [
        {
          "output_type": "stream",
          "text": [
            "True\n"
          ],
          "name": "stdout"
        }
      ]
    },
    {
      "cell_type": "markdown",
      "metadata": {
        "id": "C6V8XVohRK4y",
        "colab_type": "text"
      },
      "source": [
        "# Limitando filas.\n",
        "\n",
        "Otra opción es reducir el número de filas importadas con el argumento `nrows`, al leer el achivo pasamos un numero entero del número maximo de filas que queremos , en este caso seran 500."
      ]
    },
    {
      "cell_type": "code",
      "metadata": {
        "id": "WoRIZiz0RGMt",
        "colab_type": "code",
        "colab": {
          "base_uri": "https://localhost:8080/",
          "height": 34
        },
        "outputId": "2fc3ccbf-b910-4105-aafa-5981258b856f"
      },
      "source": [
        "df_3 = pd.read_csv(data,nrows=500)\n",
        "df_3.shape"
      ],
      "execution_count": 14,
      "outputs": [
        {
          "output_type": "execute_result",
          "data": {
            "text/plain": [
              "(500, 147)"
            ]
          },
          "metadata": {
            "tags": []
          },
          "execution_count": 14
        }
      ]
    },
    {
      "cell_type": "markdown",
      "metadata": {
        "id": "hK8rMsKBRobx",
        "colab_type": "text"
      },
      "source": [
        "`nrows` es especialmente útil cuando se combina con el argumento `skiprows` para procesar un archivo en fragmentos, `skiprows`  acepta una lista de números de fila para omitir, tengamos en cuenta que Pandas automaticamente hace que la primera fila importe el encabezado , por lo que si omitimos la fila con lo nombres de columna, también debemos especificar que el encabezado no se igual a ninguno `header=none`.\n",
        "\n"
      ]
    },
    {
      "cell_type": "code",
      "metadata": {
        "id": "GJWIe8NXRhBp",
        "colab_type": "code",
        "colab": {
          "base_uri": "https://localhost:8080/",
          "height": 129
        },
        "outputId": "89c3a5c0-35a8-43e7-f76a-9ad8667ceb21"
      },
      "source": [
        "df_4 = pd.read_csv(data,nrows=500,skiprows=100,header=None)\n",
        "df_4.head(1)"
      ],
      "execution_count": 18,
      "outputs": [
        {
          "output_type": "execute_result",
          "data": {
            "text/html": [
              "<div>\n",
              "<style scoped>\n",
              "    .dataframe tbody tr th:only-of-type {\n",
              "        vertical-align: middle;\n",
              "    }\n",
              "\n",
              "    .dataframe tbody tr th {\n",
              "        vertical-align: top;\n",
              "    }\n",
              "\n",
              "    .dataframe thead th {\n",
              "        text-align: right;\n",
              "    }\n",
              "</style>\n",
              "<table border=\"1\" class=\"dataframe\">\n",
              "  <thead>\n",
              "    <tr style=\"text-align: right;\">\n",
              "      <th></th>\n",
              "      <th>0</th>\n",
              "      <th>1</th>\n",
              "      <th>2</th>\n",
              "      <th>3</th>\n",
              "      <th>4</th>\n",
              "      <th>5</th>\n",
              "      <th>6</th>\n",
              "      <th>7</th>\n",
              "      <th>8</th>\n",
              "      <th>9</th>\n",
              "      <th>10</th>\n",
              "      <th>11</th>\n",
              "      <th>12</th>\n",
              "      <th>13</th>\n",
              "      <th>14</th>\n",
              "      <th>15</th>\n",
              "      <th>16</th>\n",
              "      <th>17</th>\n",
              "      <th>18</th>\n",
              "      <th>19</th>\n",
              "      <th>20</th>\n",
              "      <th>21</th>\n",
              "      <th>22</th>\n",
              "      <th>23</th>\n",
              "      <th>24</th>\n",
              "      <th>25</th>\n",
              "      <th>26</th>\n",
              "      <th>27</th>\n",
              "      <th>28</th>\n",
              "      <th>29</th>\n",
              "      <th>30</th>\n",
              "      <th>31</th>\n",
              "      <th>32</th>\n",
              "      <th>33</th>\n",
              "      <th>34</th>\n",
              "      <th>35</th>\n",
              "      <th>36</th>\n",
              "      <th>37</th>\n",
              "      <th>38</th>\n",
              "      <th>39</th>\n",
              "      <th>...</th>\n",
              "      <th>107</th>\n",
              "      <th>108</th>\n",
              "      <th>109</th>\n",
              "      <th>110</th>\n",
              "      <th>111</th>\n",
              "      <th>112</th>\n",
              "      <th>113</th>\n",
              "      <th>114</th>\n",
              "      <th>115</th>\n",
              "      <th>116</th>\n",
              "      <th>117</th>\n",
              "      <th>118</th>\n",
              "      <th>119</th>\n",
              "      <th>120</th>\n",
              "      <th>121</th>\n",
              "      <th>122</th>\n",
              "      <th>123</th>\n",
              "      <th>124</th>\n",
              "      <th>125</th>\n",
              "      <th>126</th>\n",
              "      <th>127</th>\n",
              "      <th>128</th>\n",
              "      <th>129</th>\n",
              "      <th>130</th>\n",
              "      <th>131</th>\n",
              "      <th>132</th>\n",
              "      <th>133</th>\n",
              "      <th>134</th>\n",
              "      <th>135</th>\n",
              "      <th>136</th>\n",
              "      <th>137</th>\n",
              "      <th>138</th>\n",
              "      <th>139</th>\n",
              "      <th>140</th>\n",
              "      <th>141</th>\n",
              "      <th>142</th>\n",
              "      <th>143</th>\n",
              "      <th>144</th>\n",
              "      <th>145</th>\n",
              "      <th>146</th>\n",
              "    </tr>\n",
              "  </thead>\n",
              "  <tbody>\n",
              "    <tr>\n",
              "      <th>0</th>\n",
              "      <td>50</td>\n",
              "      <td>VT</td>\n",
              "      <td>5046</td>\n",
              "      <td>4</td>\n",
              "      <td>60</td>\n",
              "      <td>0</td>\n",
              "      <td>50</td>\n",
              "      <td>0</td>\n",
              "      <td>40</td>\n",
              "      <td>150</td>\n",
              "      <td>50</td>\n",
              "      <td>0</td>\n",
              "      <td>0</td>\n",
              "      <td>0</td>\n",
              "      <td>0</td>\n",
              "      <td>0</td>\n",
              "      <td>0</td>\n",
              "      <td>20</td>\n",
              "      <td>5179</td>\n",
              "      <td>60</td>\n",
              "      <td>5266</td>\n",
              "      <td>50</td>\n",
              "      <td>4008</td>\n",
              "      <td>30</td>\n",
              "      <td>5</td>\n",
              "      <td>30</td>\n",
              "      <td>100</td>\n",
              "      <td>30</td>\n",
              "      <td>71</td>\n",
              "      <td>30</td>\n",
              "      <td>23</td>\n",
              "      <td>30</td>\n",
              "      <td>360</td>\n",
              "      <td>30</td>\n",
              "      <td>75</td>\n",
              "      <td>0</td>\n",
              "      <td>0</td>\n",
              "      <td>0</td>\n",
              "      <td>0</td>\n",
              "      <td>0</td>\n",
              "      <td>...</td>\n",
              "      <td>0</td>\n",
              "      <td>0</td>\n",
              "      <td>0</td>\n",
              "      <td>0</td>\n",
              "      <td>40</td>\n",
              "      <td>59</td>\n",
              "      <td>0</td>\n",
              "      <td>0</td>\n",
              "      <td>0</td>\n",
              "      <td>0</td>\n",
              "      <td>0</td>\n",
              "      <td>0</td>\n",
              "      <td>0</td>\n",
              "      <td>0</td>\n",
              "      <td>0</td>\n",
              "      <td>0</td>\n",
              "      <td>60</td>\n",
              "      <td>619</td>\n",
              "      <td>0</td>\n",
              "      <td>0</td>\n",
              "      <td>0</td>\n",
              "      <td>0</td>\n",
              "      <td>0</td>\n",
              "      <td>0</td>\n",
              "      <td>0</td>\n",
              "      <td>0</td>\n",
              "      <td>0</td>\n",
              "      <td>0</td>\n",
              "      <td>60</td>\n",
              "      <td>475</td>\n",
              "      <td>60</td>\n",
              "      <td>515</td>\n",
              "      <td>0</td>\n",
              "      <td>0</td>\n",
              "      <td>0</td>\n",
              "      <td>0</td>\n",
              "      <td>20</td>\n",
              "      <td>113</td>\n",
              "      <td>40</td>\n",
              "      <td>166</td>\n",
              "    </tr>\n",
              "  </tbody>\n",
              "</table>\n",
              "<p>1 rows × 147 columns</p>\n",
              "</div>"
            ],
            "text/plain": [
              "   0   1     2    3    4    5    6    ...  140  141  142  143  144  145  146\n",
              "0   50  VT  5046    4   60    0   50  ...    0    0    0   20  113   40  166\n",
              "\n",
              "[1 rows x 147 columns]"
            ]
          },
          "metadata": {
            "tags": []
          },
          "execution_count": 18
        }
      ]
    },
    {
      "cell_type": "markdown",
      "metadata": {
        "id": "ZSfkNapDUJU_",
        "colab_type": "text"
      },
      "source": [
        "Al ver nuestro dataframe, vemos que no hay nombres de columna, arreglemos esto.\n",
        "\n",
        "Para asignar nombres de columna cuando no hay ninguno, usamos otro argumento de lectura CSV `names`.\n",
        "\n",
        "Este toma una lista de columna de nombres para nuestras columnas, si solo deseamos cambiar el nombre de algunas columnas debemos hacerlo despues de la importación.\n",
        "\n",
        "Para DataSets mas pequeños , nosotros podemos crear manualmente la lista de nombres con la ayuda de un diccionario.\n",
        "Pero en este caso no aremos esto ya que nos llevaria mucho tiempo , por lo que pasaremos el primer subconjunto de nuestros datos a la funcion `list` para obtener las etiquetas de columna."
      ]
    },
    {
      "cell_type": "code",
      "metadata": {
        "id": "Rwbpal_-UCdj",
        "colab_type": "code",
        "colab": {}
      },
      "source": [
        "col_names = list(df_3)"
      ],
      "execution_count": 19,
      "outputs": []
    },
    {
      "cell_type": "markdown",
      "metadata": {
        "id": "_5tjGmbzU9D3",
        "colab_type": "text"
      },
      "source": [
        "Despues leemos el archivo usando `nrows` & `skipwors` para obtener los siguientes 50 registros."
      ]
    },
    {
      "cell_type": "code",
      "metadata": {
        "id": "9Ayb_tgkU8bN",
        "colab_type": "code",
        "colab": {
          "base_uri": "https://localhost:8080/",
          "height": 129
        },
        "outputId": "c4436453-3bba-4e46-f7fd-c09e5c9b6a8c"
      },
      "source": [
        "df_5 = pd.read_csv(data,\n",
        "                   nrows=50,\n",
        "                   skiprows=450,\n",
        "                   header=None,\n",
        "                   names=col_names)\n",
        "df_5.head(1)"
      ],
      "execution_count": 20,
      "outputs": [
        {
          "output_type": "execute_result",
          "data": {
            "text/html": [
              "<div>\n",
              "<style scoped>\n",
              "    .dataframe tbody tr th:only-of-type {\n",
              "        vertical-align: middle;\n",
              "    }\n",
              "\n",
              "    .dataframe tbody tr th {\n",
              "        vertical-align: top;\n",
              "    }\n",
              "\n",
              "    .dataframe thead th {\n",
              "        text-align: right;\n",
              "    }\n",
              "</style>\n",
              "<table border=\"1\" class=\"dataframe\">\n",
              "  <thead>\n",
              "    <tr style=\"text-align: right;\">\n",
              "      <th></th>\n",
              "      <th>STATEFIPS</th>\n",
              "      <th>STATE</th>\n",
              "      <th>zipcode</th>\n",
              "      <th>agi_stub</th>\n",
              "      <th>N1</th>\n",
              "      <th>mars1</th>\n",
              "      <th>MARS2</th>\n",
              "      <th>MARS4</th>\n",
              "      <th>PREP</th>\n",
              "      <th>N2</th>\n",
              "      <th>NUMDEP</th>\n",
              "      <th>TOTAL_VITA</th>\n",
              "      <th>VITA</th>\n",
              "      <th>TCE</th>\n",
              "      <th>VITA_EIC</th>\n",
              "      <th>RAL</th>\n",
              "      <th>RAC</th>\n",
              "      <th>ELDERLY</th>\n",
              "      <th>A00100</th>\n",
              "      <th>N02650</th>\n",
              "      <th>A02650</th>\n",
              "      <th>N00200</th>\n",
              "      <th>A00200</th>\n",
              "      <th>N00300</th>\n",
              "      <th>A00300</th>\n",
              "      <th>N00600</th>\n",
              "      <th>A00600</th>\n",
              "      <th>N00650</th>\n",
              "      <th>A00650</th>\n",
              "      <th>N00700</th>\n",
              "      <th>A00700</th>\n",
              "      <th>N00900</th>\n",
              "      <th>A00900</th>\n",
              "      <th>N01000</th>\n",
              "      <th>A01000</th>\n",
              "      <th>N01400</th>\n",
              "      <th>A01400</th>\n",
              "      <th>N01700</th>\n",
              "      <th>A01700</th>\n",
              "      <th>SCHF</th>\n",
              "      <th>...</th>\n",
              "      <th>N07230</th>\n",
              "      <th>A07230</th>\n",
              "      <th>N07240</th>\n",
              "      <th>A07240</th>\n",
              "      <th>N07220</th>\n",
              "      <th>A07220</th>\n",
              "      <th>N07260</th>\n",
              "      <th>A07260</th>\n",
              "      <th>N09400</th>\n",
              "      <th>A09400</th>\n",
              "      <th>N85770</th>\n",
              "      <th>A85770</th>\n",
              "      <th>N85775</th>\n",
              "      <th>A85775</th>\n",
              "      <th>N09750</th>\n",
              "      <th>A09750</th>\n",
              "      <th>N10600</th>\n",
              "      <th>A10600</th>\n",
              "      <th>N59660</th>\n",
              "      <th>A59660</th>\n",
              "      <th>N59720</th>\n",
              "      <th>A59720</th>\n",
              "      <th>N11070</th>\n",
              "      <th>A11070</th>\n",
              "      <th>N10960</th>\n",
              "      <th>A10960</th>\n",
              "      <th>N11560</th>\n",
              "      <th>A11560</th>\n",
              "      <th>N06500</th>\n",
              "      <th>A06500</th>\n",
              "      <th>N10300</th>\n",
              "      <th>A10300</th>\n",
              "      <th>N85530</th>\n",
              "      <th>A85530</th>\n",
              "      <th>N85300</th>\n",
              "      <th>A85300</th>\n",
              "      <th>N11901</th>\n",
              "      <th>A11901</th>\n",
              "      <th>N11902</th>\n",
              "      <th>A11902</th>\n",
              "    </tr>\n",
              "  </thead>\n",
              "  <tbody>\n",
              "    <tr>\n",
              "      <th>0</th>\n",
              "      <td>50</td>\n",
              "      <td>VT</td>\n",
              "      <td>5342</td>\n",
              "      <td>6</td>\n",
              "      <td>0</td>\n",
              "      <td>0</td>\n",
              "      <td>0</td>\n",
              "      <td>0</td>\n",
              "      <td>0</td>\n",
              "      <td>0</td>\n",
              "      <td>0</td>\n",
              "      <td>0</td>\n",
              "      <td>0</td>\n",
              "      <td>0</td>\n",
              "      <td>0</td>\n",
              "      <td>0</td>\n",
              "      <td>0</td>\n",
              "      <td>0</td>\n",
              "      <td>0</td>\n",
              "      <td>0</td>\n",
              "      <td>0</td>\n",
              "      <td>0</td>\n",
              "      <td>0</td>\n",
              "      <td>0</td>\n",
              "      <td>0</td>\n",
              "      <td>0</td>\n",
              "      <td>0</td>\n",
              "      <td>0</td>\n",
              "      <td>0</td>\n",
              "      <td>0</td>\n",
              "      <td>0</td>\n",
              "      <td>0</td>\n",
              "      <td>0</td>\n",
              "      <td>0</td>\n",
              "      <td>0</td>\n",
              "      <td>0</td>\n",
              "      <td>0</td>\n",
              "      <td>0</td>\n",
              "      <td>0</td>\n",
              "      <td>0</td>\n",
              "      <td>...</td>\n",
              "      <td>0</td>\n",
              "      <td>0</td>\n",
              "      <td>0</td>\n",
              "      <td>0</td>\n",
              "      <td>0</td>\n",
              "      <td>0</td>\n",
              "      <td>0</td>\n",
              "      <td>0</td>\n",
              "      <td>0</td>\n",
              "      <td>0</td>\n",
              "      <td>0</td>\n",
              "      <td>0</td>\n",
              "      <td>0</td>\n",
              "      <td>0</td>\n",
              "      <td>0</td>\n",
              "      <td>0</td>\n",
              "      <td>0</td>\n",
              "      <td>0</td>\n",
              "      <td>0</td>\n",
              "      <td>0</td>\n",
              "      <td>0</td>\n",
              "      <td>0</td>\n",
              "      <td>0</td>\n",
              "      <td>0</td>\n",
              "      <td>0</td>\n",
              "      <td>0</td>\n",
              "      <td>0</td>\n",
              "      <td>0</td>\n",
              "      <td>0</td>\n",
              "      <td>0</td>\n",
              "      <td>0</td>\n",
              "      <td>0</td>\n",
              "      <td>0</td>\n",
              "      <td>0</td>\n",
              "      <td>0</td>\n",
              "      <td>0</td>\n",
              "      <td>0</td>\n",
              "      <td>0</td>\n",
              "      <td>0</td>\n",
              "      <td>0</td>\n",
              "    </tr>\n",
              "  </tbody>\n",
              "</table>\n",
              "<p>1 rows × 147 columns</p>\n",
              "</div>"
            ],
            "text/plain": [
              "   STATEFIPS STATE  zipcode  agi_stub  ...  N11901  A11901  N11902  A11902\n",
              "0         50    VT     5342         6  ...       0       0       0       0\n",
              "\n",
              "[1 rows x 147 columns]"
            ]
          },
          "metadata": {
            "tags": []
          },
          "execution_count": 20
        }
      ]
    },
    {
      "cell_type": "code",
      "metadata": {
        "id": "UZs7aDxxVTh8",
        "colab_type": "code",
        "colab": {}
      },
      "source": [
        ""
      ],
      "execution_count": null,
      "outputs": []
    }
  ]
}