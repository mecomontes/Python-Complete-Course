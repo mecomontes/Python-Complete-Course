{
 "cells": [
  {
   "cell_type": "markdown",
   "metadata": {},
   "source": [
    "# Conjunto de Entrenamiento , Conjunto de Validacion & Conjunto de Testing."
   ]
  },
  {
   "cell_type": "markdown",
   "metadata": {},
   "source": [
    "# Training set (Conjunto de entrenamiento)\n",
    " \n",
    " ## 60% DATOS.\n",
    " \n",
    "Es la muestra de datos utilizada para ajustar el modelo.\n",
    "\n",
    "El conjunto de datos real que utilizamos para entrenar el modelo (pesos y sesgos en el caso de la red neuronal). El modelo ve y aprende de estos datos.\n",
    "\n",
    "\n",
    "\n",
    "# Test Data set(Conjunto de Testing)\n",
    "\n",
    "## 20% DATOS\n",
    "\n",
    "La muestra de datos utilizada para proporcionar una evaluación imparcial de un modelo final ajustado en el conjunto de datos de entrenamiento.\n",
    "\n",
    "El conjunto de datos de prueba proporciona el estándar de oro utilizado para evaluar el modelo.\n",
    "\n",
    "Solo se usa una vez que un modelo está completamente entrenado (usando los conjuntos de entrenamiento y validación). \n",
    "\n",
    "# Validation Dataset(Conjunto de Validacion)\n",
    "\n",
    "## 20% DATOS\n",
    "\n",
    "El conjunto de validación se usa para evaluar un modelo dado, pero esto es para una evaluación frecuente. Nosotros, como ingenieros de aprendizaje automático, usamos estos datos para ajustar los hiperparámetros del modelo. Por lo tanto, el modelo ocasionalmente ve estos datos, pero nunca \"Aprende\" de esto. Nosotros utilizamos los resultados del conjunto de validación y actualizamos hiperparámetros de nivel superior. Entonces, la validación establecida de alguna manera afecta a un modelo, pero independientemente.\n",
    "\n",
    "Fuente:\n",
    "https://towardsdatascience.com/train-validation-and-test-sets-72cb40cba9e7"
   ]
  },
  {
   "cell_type": "markdown",
   "metadata": {},
   "source": [
    "# ¿COMO DIVIDIR UN DATASET EN CONJUNTO DE ENTRENO Y VALIDACION?"
   ]
  },
  {
   "cell_type": "code",
   "execution_count": 25,
   "metadata": {},
   "outputs": [],
   "source": [
    "import pandas as pd\n",
    "import numpy as np\n",
    "import matplotlib.pyplot as plt"
   ]
  },
  {
   "cell_type": "code",
   "execution_count": 38,
   "metadata": {},
   "outputs": [],
   "source": [
    "data = pd.read_csv(\"/Users/familiavs/Documents/GitHub/python-ml-course/datasets/customer-churn-model/Customer Churn Model.csv\")"
   ]
  },
  {
   "cell_type": "code",
   "execution_count": 39,
   "metadata": {},
   "outputs": [
    {
     "data": {
      "text/plain": [
       "3333"
      ]
     },
     "execution_count": 39,
     "metadata": {},
     "output_type": "execute_result"
    }
   ],
   "source": [
    "len(data)"
   ]
  },
  {
   "cell_type": "markdown",
   "metadata": {},
   "source": [
    "# Division basada en la distribucion normal."
   ]
  },
  {
   "cell_type": "code",
   "execution_count": 40,
   "metadata": {},
   "outputs": [],
   "source": [
    "#Creamos un vector de la misma longitud del dataset (semilla aleatoria)\n",
    "v  = np.random.randn(len(data))"
   ]
  },
  {
   "cell_type": "code",
   "execution_count": 41,
   "metadata": {},
   "outputs": [
    {
     "data": {
      "text/plain": [
       "(array([ 13.,  49., 248., 596., 910., 842., 484., 158.,  27.,   6.]),\n",
       " array([-3.49502673, -2.77007581, -2.04512489, -1.32017397, -0.59522305,\n",
       "         0.12972787,  0.85467879,  1.57962971,  2.30458062,  3.02953154,\n",
       "         3.75448246]),\n",
       " <a list of 10 Patch objects>)"
      ]
     },
     "execution_count": 41,
     "metadata": {},
     "output_type": "execute_result"
    },
    {
     "data": {
      "image/png": "[encoded data removed]",
      "text/plain": [
       "<Figure size 432x288 with 1 Axes>"
      ]
     },
     "metadata": {
      "needs_background": "light"
     },
     "output_type": "display_data"
    }
   ],
   "source": [
    "#Hacemos un histograma para observar en que intervalo estan los datos\n",
    "plt.hist(v)"
   ]
  },
  {
   "cell_type": "code",
   "execution_count": 44,
   "metadata": {},
   "outputs": [
    {
     "data": {
      "text/plain": [
       "array([ True,  True,  True, ...,  True,  True,  True])"
      ]
     },
     "execution_count": 44,
     "metadata": {},
     "output_type": "execute_result"
    }
   ],
   "source": [
    "#Creamos una division\n",
    "muestra = (v<0.8)\n",
    "muestra\n",
    "#Podemos obervar que el array ahora se convirtio en TRUE O FALSE"
   ]
  },
  {
   "cell_type": "code",
   "execution_count": 46,
   "metadata": {},
   "outputs": [],
   "source": [
    "#Definimos conjunto de entrenamiento y testeo\n",
    "\n",
    "training = data[muestra] #Aquellos que cumplen la condicion\n",
    "\n",
    "testing = data[~muestra] #Aquello que no cumplen la condicion"
   ]
  },
  {
   "cell_type": "code",
   "execution_count": 47,
   "metadata": {},
   "outputs": [
    {
     "data": {
      "text/plain": [
       "2598"
      ]
     },
     "execution_count": 47,
     "metadata": {},
     "output_type": "execute_result"
    }
   ],
   "source": [
    "#Comprobamos la longuitud de ambos\n",
    "len(training) #80%"
   ]
  },
  {
   "cell_type": "code",
   "execution_count": 48,
   "metadata": {},
   "outputs": [
    {
     "data": {
      "text/plain": [
       "735"
      ]
     },
     "execution_count": 48,
     "metadata": {},
     "output_type": "execute_result"
    }
   ],
   "source": [
    "len(testing) #20%"
   ]
  },
  {
   "cell_type": "markdown",
   "metadata": {},
   "source": [
    "# Division con la libreria sklearn."
   ]
  },
  {
   "cell_type": "code",
   "execution_count": 52,
   "metadata": {},
   "outputs": [],
   "source": [
    "from sklearn.model_selection import train_test_split"
   ]
  },
  {
   "cell_type": "code",
   "execution_count": 55,
   "metadata": {},
   "outputs": [],
   "source": [
    "#Definimos el conunto de entrenamiento aplicando la funcion train_teat_split\n",
    "train, test = train_test_split(data, test_size = 0.20)"
   ]
  },
  {
   "cell_type": "code",
   "execution_count": 56,
   "metadata": {},
   "outputs": [
    {
     "data": {
      "text/plain": [
       "2666"
      ]
     },
     "execution_count": 56,
     "metadata": {},
     "output_type": "execute_result"
    }
   ],
   "source": [
    "len(train)#Longuitud de entrenamiento"
   ]
  },
  {
   "cell_type": "code",
   "execution_count": 57,
   "metadata": {},
   "outputs": [
    {
     "data": {
      "text/plain": [
       "667"
      ]
     },
     "execution_count": 57,
     "metadata": {},
     "output_type": "execute_result"
    }
   ],
   "source": [
    "len(test)#Longuitud de prueba"
   ]
  },
  {
   "cell_type": "markdown",
   "metadata": {},
   "source": [
    "# Division usando una funcion de shuffle(Mezclado de datos)"
   ]
  },
  {
   "cell_type": "code",
   "execution_count": 61,
   "metadata": {},
   "outputs": [],
   "source": [
    "import sklearn"
   ]
  },
  {
   "cell_type": "code",
   "execution_count": 63,
   "metadata": {},
   "outputs": [],
   "source": [
    "#Mezclamos el dataset & asiganmos a los cojuntos la proporcion de datos.\n",
    "data2 = sklearn.utils.shuffle(data)"
   ]
  },
  {
   "cell_type": "code",
   "execution_count": 65,
   "metadata": {},
   "outputs": [],
   "source": [
    "cut_id = int(0.75*len(data2))\n",
    "train_data = data2[:cut_id]\n",
    "test_data = data2[cut_id+1:]"
   ]
  },
  {
   "cell_type": "code",
   "execution_count": 66,
   "metadata": {},
   "outputs": [
    {
     "data": {
      "text/plain": [
       "2499"
      ]
     },
     "execution_count": 66,
     "metadata": {},
     "output_type": "execute_result"
    }
   ],
   "source": [
    "len(train_data)"
   ]
  },
  {
   "cell_type": "code",
   "execution_count": 67,
   "metadata": {},
   "outputs": [
    {
     "data": {
      "text/plain": [
       "833"
      ]
     },
     "execution_count": 67,
     "metadata": {},
     "output_type": "execute_result"
    }
   ],
   "source": [
    "len(test_data)"
   ]
  },
  {
   "cell_type": "code",
   "execution_count": null,
   "metadata": {},
   "outputs": [],
   "source": []
  }
 ],
 "metadata": {
  "kernelspec": {
   "display_name": "Python 3",
   "language": "python",
   "name": "python3"
  },
  "language_info": {
   "codemirror_mode": {
    "name": "ipython",
    "version": 3
   },
   "file_extension": ".py",
   "mimetype": "text/x-python",
   "name": "python",
   "nbconvert_exporter": "python",
   "pygments_lexer": "ipython3",
   "version": "3.7.3"
  }
 },
 "nbformat": 4,
 "nbformat_minor": 2
}
