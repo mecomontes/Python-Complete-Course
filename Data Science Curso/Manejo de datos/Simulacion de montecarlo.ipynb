{
 "cells": [
  {
   "cell_type": "markdown",
   "metadata": {},
   "source": [
    "# Simulacion de Montecarlo"
   ]
  },
  {
   "cell_type": "markdown",
   "metadata": {},
   "source": [
    "Consiste en simular el calculo del valor exacto de el numero pi"
   ]
  },
  {
   "cell_type": "markdown",
   "metadata": {},
   "source": [
    "PASOS PARA GENERAR EL VALOR EXACTO DE PI\n",
    "- PASO1: Generar 2 numeros aleatorios \"x\" & \"y\" [0,1] entre el intervalo cerrado .\n",
    "\n",
    "- PASO 2: Calcular (X*X + Y*Y)\n",
    "\n",
    "- OBSERVACION_1: Si el valor es inferior a 1 estamos dentro del circulo.\n",
    "\n",
    "- OBSERVACION_2: Si el valor es superior a  1 estamos fuera del circulo.\n",
    "\n",
    "- PASO 3 : Calculamos el numero total de veces que estan dentro del cirlulo y lo dividimos entre el numero total de intentos para obtener una aproximacion de la PROBABILIDAD DE CAER DENTRO DEL CIRCULO (USAMOS DOCHA PROBABILIDAD PARA OBTENER EL VALOR DE PI).\n",
    "\n",
    "- PASO 4: Repetimos el experimento un numero suficiente de veces para otener diferentes aproximaciones de π.\n",
    "\n",
    "- PASO 5: Calculamos el promedio de los 1000 experimentos anteriores para  dar un valor final de π.\n"
   ]
  },
  {
   "cell_type": "code",
   "execution_count": 2,
   "metadata": {},
   "outputs": [],
   "source": [
    "import pandas as pd\n",
    "import numpy as np\n",
    "import matplotlib.pyplot as plt"
   ]
  },
  {
   "cell_type": "code",
   "execution_count": 11,
   "metadata": {},
   "outputs": [],
   "source": [
    "def pi_montecarlo(n, np_exp):\n",
    "    pi_avg = 0 #El numero PI empezara por valer 0.\n",
    "    pi_value_list = [] #C on este array iremos rellenanado con los diferentes resultados.\n",
    "    for i in range (np_exp): # PASO 1 & 2 Con este metodo calculamos el valor diferentes veces\n",
    "        value = 0\n",
    "        x = np.random.uniform(0,1,n).tolist()\n",
    "        y = np.random.uniform(0,1,n).tolist()\n",
    "        for j in range(n):#Segundo metodo que saca el valor de x^2 + y^2\n",
    "            z = np.sqrt(x[j] * x[j] + y[j] * y[j])\n",
    "            if z <=1: #Si el valor es inferior a 1 estamos dentro del circulo.\n",
    "                value += 1\n",
    "        float_value= float(value) #Aproximacion del valor convirtiendolo de tipo entero a tipo flotante.\n",
    "        pi_value = float_value * 4 / n\n",
    "        pi_value_list.append(pi_value)\n",
    "        pi_avg += pi_value \n",
    "    \n",
    "    pi = pi_avg/np_exp #Valor total de pi PASO 3\n",
    "\n",
    "    print(pi)\n",
    "    fig = plt.plot(pi_value_list)\n",
    "    return(pi, fig)"
   ]
  },
  {
   "cell_type": "code",
   "execution_count": 14,
   "metadata": {
    "collapsed": true
   },
   "outputs": [
    {
     "name": "stdout",
     "output_type": "stream",
     "text": [
      "3.1414743999999986\n"
     ]
    },
    {
     "data": {
      "text/plain": [
       "(3.1414743999999986, [<matplotlib.lines.Line2D at 0x11909aa90>])"
      ]
     },
     "execution_count": 14,
     "metadata": {},
     "output_type": "execute_result"
    },
    {
     "data": {
      "image/png": "[encoded data removed]",
      "text/plain": [
       "<Figure size 432x288 with 1 Axes>"
      ]
     },
     "metadata": {
      "needs_background": "light"
     },
     "output_type": "display_data"
    }
   ],
   "source": [
    "pi_montecarlo(10000, 1000) #Generamos n puntos y lo repetimos np_exp veces"
   ]
  },
  {
   "cell_type": "markdown",
   "metadata": {},
   "source": [
    "# SEGUNDO EJEMPLO \"INTEGRACIÓN CON MONTECARLO\"."
   ]
  },
  {
   "cell_type": "code",
   "execution_count": 33,
   "metadata": {},
   "outputs": [],
   "source": [
    "#Definimos la funcion a integrar que nos va a regresar el valor de e elvado a la menos x al cuadrado\n",
    "def G(x):\n",
    "    return np.exp(-x**2)\n",
    "#Definimos la funcion montecarlo que recibe como parametros G,a & b y el numero d epuntos\n",
    "def monte_carlo(G,a,b,M):\n",
    "    s = 0\n",
    "    for i in range(M):#Iteramos M veces\n",
    "        s += G(a+(b-a)*np.random.uniform(0,1,1)) #Con la funcion np.random.uniform generamos \"6 \" valores aleatorios en el intervalo de 0 a 1\n",
    "    return ((b-a)/M)*s[0]"
   ]
  },
  {
   "cell_type": "code",
   "execution_count": 34,
   "metadata": {},
   "outputs": [],
   "source": [
    "a = monte_carlo(G,1,3,10000)"
   ]
  },
  {
   "cell_type": "code",
   "execution_count": 35,
   "metadata": {},
   "outputs": [
    {
     "name": "stdout",
     "output_type": "stream",
     "text": [
      "La integral de G es: 0.13782012715858893 \n"
     ]
    }
   ],
   "source": [
    "print(\"La integral de G es: {} \".format(a))"
   ]
  },
  {
   "cell_type": "markdown",
   "metadata": {},
   "source": [
    "# Dummy Data Sets"
   ]
  },
  {
   "cell_type": "code",
   "execution_count": 42,
   "metadata": {},
   "outputs": [],
   "source": [
    "n = 10000\n",
    "#Con la funcion pd.DataFrame de la lbreria pandas creamos el dataset\n",
    "data = pd.DataFrame(\n",
    "    {\n",
    "        \n",
    "      'Normal_1' : np.random.randn(n),\n",
    "      'Normal_2' : 1.5 + 2.5 * np.random.randn(n),\n",
    "      'Uniforme' : np.random.uniform(5, 32, n)\n",
    "    \n",
    "    }\n",
    ")"
   ]
  },
  {
   "cell_type": "code",
   "execution_count": 43,
   "metadata": {},
   "outputs": [
    {
     "data": {
      "text/html": [
       "<div>\n",
       "<style scoped>\n",
       "    .dataframe tbody tr th:only-of-type {\n",
       "        vertical-align: middle;\n",
       "    }\n",
       "\n",
       "    .dataframe tbody tr th {\n",
       "        vertical-align: top;\n",
       "    }\n",
       "\n",
       "    .dataframe thead th {\n",
       "        text-align: right;\n",
       "    }\n",
       "</style>\n",
       "<table border=\"1\" class=\"dataframe\">\n",
       "  <thead>\n",
       "    <tr style=\"text-align: right;\">\n",
       "      <th></th>\n",
       "      <th>Normal_1</th>\n",
       "      <th>Normal_2</th>\n",
       "      <th>Uniforme</th>\n",
       "    </tr>\n",
       "  </thead>\n",
       "  <tbody>\n",
       "    <tr>\n",
       "      <th>count</th>\n",
       "      <td>10000.000000</td>\n",
       "      <td>10000.000000</td>\n",
       "      <td>10000.000000</td>\n",
       "    </tr>\n",
       "    <tr>\n",
       "      <th>mean</th>\n",
       "      <td>0.011181</td>\n",
       "      <td>1.515061</td>\n",
       "      <td>18.523789</td>\n",
       "    </tr>\n",
       "    <tr>\n",
       "      <th>std</th>\n",
       "      <td>1.001587</td>\n",
       "      <td>2.499874</td>\n",
       "      <td>7.824545</td>\n",
       "    </tr>\n",
       "    <tr>\n",
       "      <th>min</th>\n",
       "      <td>-4.591294</td>\n",
       "      <td>-9.355904</td>\n",
       "      <td>5.001384</td>\n",
       "    </tr>\n",
       "    <tr>\n",
       "      <th>25%</th>\n",
       "      <td>-0.672749</td>\n",
       "      <td>-0.147574</td>\n",
       "      <td>11.774933</td>\n",
       "    </tr>\n",
       "    <tr>\n",
       "      <th>50%</th>\n",
       "      <td>0.023704</td>\n",
       "      <td>1.510340</td>\n",
       "      <td>18.477272</td>\n",
       "    </tr>\n",
       "    <tr>\n",
       "      <th>75%</th>\n",
       "      <td>0.673888</td>\n",
       "      <td>3.197456</td>\n",
       "      <td>25.313733</td>\n",
       "    </tr>\n",
       "    <tr>\n",
       "      <th>max</th>\n",
       "      <td>3.845912</td>\n",
       "      <td>12.981447</td>\n",
       "      <td>31.999829</td>\n",
       "    </tr>\n",
       "  </tbody>\n",
       "</table>\n",
       "</div>"
      ],
      "text/plain": [
       "           Normal_1      Normal_2      Uniforme\n",
       "count  10000.000000  10000.000000  10000.000000\n",
       "mean       0.011181      1.515061     18.523789\n",
       "std        1.001587      2.499874      7.824545\n",
       "min       -4.591294     -9.355904      5.001384\n",
       "25%       -0.672749     -0.147574     11.774933\n",
       "50%        0.023704      1.510340     18.477272\n",
       "75%        0.673888      3.197456     25.313733\n",
       "max        3.845912     12.981447     31.999829"
      ]
     },
     "execution_count": 43,
     "metadata": {},
     "output_type": "execute_result"
    }
   ],
   "source": [
    "data.describe()"
   ]
  },
  {
   "cell_type": "code",
   "execution_count": 44,
   "metadata": {
    "collapsed": true
   },
   "outputs": [
    {
     "data": {
      "text/plain": [
       "(array([1.000e+00, 1.900e+01, 1.580e+02, 9.200e+02, 2.465e+03, 3.261e+03,\n",
       "        2.212e+03, 7.950e+02, 1.520e+02, 1.700e+01]),\n",
       " array([-4.59129443, -3.74757379, -2.90385315, -2.0601325 , -1.21641186,\n",
       "        -0.37269122,  0.47102942,  1.31475006,  2.1584707 ,  3.00219134,\n",
       "         3.84591198]),\n",
       " <a list of 10 Patch objects>)"
      ]
     },
     "execution_count": 44,
     "metadata": {},
     "output_type": "execute_result"
    },
    {
     "data": {
      "image/png": "[encoded data removed]",
      "text/plain": [
       "<Figure size 432x288 with 1 Axes>"
      ]
     },
     "metadata": {
      "needs_background": "light"
     },
     "output_type": "display_data"
    }
   ],
   "source": [
    "plt.hist(data['Normal_1'])"
   ]
  },
  {
   "cell_type": "code",
   "execution_count": 45,
   "metadata": {
    "collapsed": true
   },
   "outputs": [
    {
     "data": {
      "text/plain": [
       "(array([3.000e+00, 5.800e+01, 3.970e+02, 1.699e+03, 3.343e+03, 2.956e+03,\n",
       "        1.253e+03, 2.640e+02, 2.600e+01, 1.000e+00]),\n",
       " array([-9.35590445, -7.12216928, -4.88843411, -2.65469895, -0.42096378,\n",
       "         1.81277139,  4.04650655,  6.28024172,  8.51397689, 10.74771206,\n",
       "        12.98144722]),\n",
       " <a list of 10 Patch objects>)"
      ]
     },
     "execution_count": 45,
     "metadata": {},
     "output_type": "execute_result"
    },
    {
     "data": {
      "image/png": "[encoded data removed]",
      "text/plain": [
       "<Figure size 432x288 with 1 Axes>"
      ]
     },
     "metadata": {
      "needs_background": "light"
     },
     "output_type": "display_data"
    }
   ],
   "source": [
    "plt.hist(data['Normal_2'])"
   ]
  },
  {
   "cell_type": "code",
   "execution_count": 46,
   "metadata": {},
   "outputs": [
    {
     "data": {
      "text/plain": [
       "(array([1026.,  991.,  984.,  992., 1015.,  977.,  969., 1041.,  994.,\n",
       "        1011.]),\n",
       " array([ 5.00138429,  7.70122878, 10.40107327, 13.10091776, 15.80076225,\n",
       "        18.50060673, 21.20045122, 23.90029571, 26.6001402 , 29.29998469,\n",
       "        31.99982917]),\n",
       " <a list of 10 Patch objects>)"
      ]
     },
     "execution_count": 46,
     "metadata": {},
     "output_type": "execute_result"
    },
    {
     "data": {
      "image/png": "[encoded data removed]",
      "text/plain": [
       "<Figure size 432x288 with 1 Axes>"
      ]
     },
     "metadata": {
      "needs_background": "light"
     },
     "output_type": "display_data"
    }
   ],
   "source": [
    "plt.hist(data['Uniforme'])"
   ]
  },
  {
   "cell_type": "code",
   "execution_count": 69,
   "metadata": {},
   "outputs": [],
   "source": [
    "data = pd.read_csv(\"https://raw.githubusercontent.com/joanby/python-ml-course/master/datasets/customer-churn-model/Customer%20Churn%20Model.txt\")"
   ]
  },
  {
   "cell_type": "code",
   "execution_count": 70,
   "metadata": {},
   "outputs": [
    {
     "data": {
      "text/html": [
       "<div>\n",
       "<style scoped>\n",
       "    .dataframe tbody tr th:only-of-type {\n",
       "        vertical-align: middle;\n",
       "    }\n",
       "\n",
       "    .dataframe tbody tr th {\n",
       "        vertical-align: top;\n",
       "    }\n",
       "\n",
       "    .dataframe thead th {\n",
       "        text-align: right;\n",
       "    }\n",
       "</style>\n",
       "<table border=\"1\" class=\"dataframe\">\n",
       "  <thead>\n",
       "    <tr style=\"text-align: right;\">\n",
       "      <th></th>\n",
       "      <th>State</th>\n",
       "      <th>Account Length</th>\n",
       "      <th>Area Code</th>\n",
       "      <th>Phone</th>\n",
       "      <th>Int'l Plan</th>\n",
       "      <th>VMail Plan</th>\n",
       "      <th>VMail Message</th>\n",
       "      <th>Day Mins</th>\n",
       "      <th>Day Calls</th>\n",
       "      <th>Day Charge</th>\n",
       "      <th>...</th>\n",
       "      <th>Eve Calls</th>\n",
       "      <th>Eve Charge</th>\n",
       "      <th>Night Mins</th>\n",
       "      <th>Night Calls</th>\n",
       "      <th>Night Charge</th>\n",
       "      <th>Intl Mins</th>\n",
       "      <th>Intl Calls</th>\n",
       "      <th>Intl Charge</th>\n",
       "      <th>CustServ Calls</th>\n",
       "      <th>Churn?</th>\n",
       "    </tr>\n",
       "  </thead>\n",
       "  <tbody>\n",
       "    <tr>\n",
       "      <th>0</th>\n",
       "      <td>KS</td>\n",
       "      <td>128</td>\n",
       "      <td>415</td>\n",
       "      <td>382-4657</td>\n",
       "      <td>no</td>\n",
       "      <td>yes</td>\n",
       "      <td>25</td>\n",
       "      <td>265.1</td>\n",
       "      <td>110</td>\n",
       "      <td>45.07</td>\n",
       "      <td>...</td>\n",
       "      <td>99</td>\n",
       "      <td>16.78</td>\n",
       "      <td>244.7</td>\n",
       "      <td>91</td>\n",
       "      <td>11.01</td>\n",
       "      <td>10.0</td>\n",
       "      <td>3</td>\n",
       "      <td>2.70</td>\n",
       "      <td>1</td>\n",
       "      <td>False.</td>\n",
       "    </tr>\n",
       "    <tr>\n",
       "      <th>1</th>\n",
       "      <td>OH</td>\n",
       "      <td>107</td>\n",
       "      <td>415</td>\n",
       "      <td>371-7191</td>\n",
       "      <td>no</td>\n",
       "      <td>yes</td>\n",
       "      <td>26</td>\n",
       "      <td>161.6</td>\n",
       "      <td>123</td>\n",
       "      <td>27.47</td>\n",
       "      <td>...</td>\n",
       "      <td>103</td>\n",
       "      <td>16.62</td>\n",
       "      <td>254.4</td>\n",
       "      <td>103</td>\n",
       "      <td>11.45</td>\n",
       "      <td>13.7</td>\n",
       "      <td>3</td>\n",
       "      <td>3.70</td>\n",
       "      <td>1</td>\n",
       "      <td>False.</td>\n",
       "    </tr>\n",
       "    <tr>\n",
       "      <th>2</th>\n",
       "      <td>NJ</td>\n",
       "      <td>137</td>\n",
       "      <td>415</td>\n",
       "      <td>358-1921</td>\n",
       "      <td>no</td>\n",
       "      <td>no</td>\n",
       "      <td>0</td>\n",
       "      <td>243.4</td>\n",
       "      <td>114</td>\n",
       "      <td>41.38</td>\n",
       "      <td>...</td>\n",
       "      <td>110</td>\n",
       "      <td>10.30</td>\n",
       "      <td>162.6</td>\n",
       "      <td>104</td>\n",
       "      <td>7.32</td>\n",
       "      <td>12.2</td>\n",
       "      <td>5</td>\n",
       "      <td>3.29</td>\n",
       "      <td>0</td>\n",
       "      <td>False.</td>\n",
       "    </tr>\n",
       "    <tr>\n",
       "      <th>3</th>\n",
       "      <td>OH</td>\n",
       "      <td>84</td>\n",
       "      <td>408</td>\n",
       "      <td>375-9999</td>\n",
       "      <td>yes</td>\n",
       "      <td>no</td>\n",
       "      <td>0</td>\n",
       "      <td>299.4</td>\n",
       "      <td>71</td>\n",
       "      <td>50.90</td>\n",
       "      <td>...</td>\n",
       "      <td>88</td>\n",
       "      <td>5.26</td>\n",
       "      <td>196.9</td>\n",
       "      <td>89</td>\n",
       "      <td>8.86</td>\n",
       "      <td>6.6</td>\n",
       "      <td>7</td>\n",
       "      <td>1.78</td>\n",
       "      <td>2</td>\n",
       "      <td>False.</td>\n",
       "    </tr>\n",
       "    <tr>\n",
       "      <th>4</th>\n",
       "      <td>OK</td>\n",
       "      <td>75</td>\n",
       "      <td>415</td>\n",
       "      <td>330-6626</td>\n",
       "      <td>yes</td>\n",
       "      <td>no</td>\n",
       "      <td>0</td>\n",
       "      <td>166.7</td>\n",
       "      <td>113</td>\n",
       "      <td>28.34</td>\n",
       "      <td>...</td>\n",
       "      <td>122</td>\n",
       "      <td>12.61</td>\n",
       "      <td>186.9</td>\n",
       "      <td>121</td>\n",
       "      <td>8.41</td>\n",
       "      <td>10.1</td>\n",
       "      <td>3</td>\n",
       "      <td>2.73</td>\n",
       "      <td>3</td>\n",
       "      <td>False.</td>\n",
       "    </tr>\n",
       "  </tbody>\n",
       "</table>\n",
       "<p>5 rows × 21 columns</p>\n",
       "</div>"
      ],
      "text/plain": [
       "  State  Account Length  Area Code     Phone Int'l Plan VMail Plan  \\\n",
       "0    KS             128        415  382-4657         no        yes   \n",
       "1    OH             107        415  371-7191         no        yes   \n",
       "2    NJ             137        415  358-1921         no         no   \n",
       "3    OH              84        408  375-9999        yes         no   \n",
       "4    OK              75        415  330-6626        yes         no   \n",
       "\n",
       "   VMail Message  Day Mins  Day Calls  Day Charge  ...  Eve Calls  Eve Charge  \\\n",
       "0             25     265.1        110       45.07  ...         99       16.78   \n",
       "1             26     161.6        123       27.47  ...        103       16.62   \n",
       "2              0     243.4        114       41.38  ...        110       10.30   \n",
       "3              0     299.4         71       50.90  ...         88        5.26   \n",
       "4              0     166.7        113       28.34  ...        122       12.61   \n",
       "\n",
       "   Night Mins  Night Calls  Night Charge  Intl Mins  Intl Calls  Intl Charge  \\\n",
       "0       244.7           91         11.01       10.0           3         2.70   \n",
       "1       254.4          103         11.45       13.7           3         3.70   \n",
       "2       162.6          104          7.32       12.2           5         3.29   \n",
       "3       196.9           89          8.86        6.6           7         1.78   \n",
       "4       186.9          121          8.41       10.1           3         2.73   \n",
       "\n",
       "   CustServ Calls  Churn?  \n",
       "0               1  False.  \n",
       "1               1  False.  \n",
       "2               0  False.  \n",
       "3               2  False.  \n",
       "4               3  False.  \n",
       "\n",
       "[5 rows x 21 columns]"
      ]
     },
     "execution_count": 70,
     "metadata": {},
     "output_type": "execute_result"
    }
   ],
   "source": [
    "data.head()"
   ]
  },
  {
   "cell_type": "code",
   "execution_count": 54,
   "metadata": {},
   "outputs": [],
   "source": [
    "#Extraemos la lista de columnas\n",
    "column_name = data.columns.values.tolist()"
   ]
  },
  {
   "cell_type": "code",
   "execution_count": 55,
   "metadata": {},
   "outputs": [],
   "source": [
    "a = len(column_name)"
   ]
  },
  {
   "cell_type": "code",
   "execution_count": 67,
   "metadata": {},
   "outputs": [],
   "source": [
    "#Generamos un nuevo data set donde aparece la informacion de los dummysets\n",
    "new_data = pd.DataFrame(\n",
    "    {\n",
    "        \n",
    "      'Column Name' : column_name,\n",
    "      'A' : np.random.randn(a),\n",
    "      'B' : np.random.uniform(0,1,a)\n",
    "    \n",
    "    }\n",
    ")"
   ]
  },
  {
   "cell_type": "code",
   "execution_count": 68,
   "metadata": {},
   "outputs": [
    {
     "data": {
      "text/html": [
       "<div>\n",
       "<style scoped>\n",
       "    .dataframe tbody tr th:only-of-type {\n",
       "        vertical-align: middle;\n",
       "    }\n",
       "\n",
       "    .dataframe tbody tr th {\n",
       "        vertical-align: top;\n",
       "    }\n",
       "\n",
       "    .dataframe thead th {\n",
       "        text-align: right;\n",
       "    }\n",
       "</style>\n",
       "<table border=\"1\" class=\"dataframe\">\n",
       "  <thead>\n",
       "    <tr style=\"text-align: right;\">\n",
       "      <th></th>\n",
       "      <th>Column Name</th>\n",
       "      <th>A</th>\n",
       "      <th>B</th>\n",
       "    </tr>\n",
       "  </thead>\n",
       "  <tbody>\n",
       "    <tr>\n",
       "      <th>0</th>\n",
       "      <td>State</td>\n",
       "      <td>-0.374705</td>\n",
       "      <td>0.275306</td>\n",
       "    </tr>\n",
       "    <tr>\n",
       "      <th>1</th>\n",
       "      <td>Account Length</td>\n",
       "      <td>-0.073667</td>\n",
       "      <td>0.878826</td>\n",
       "    </tr>\n",
       "    <tr>\n",
       "      <th>2</th>\n",
       "      <td>Area Code</td>\n",
       "      <td>-1.003910</td>\n",
       "      <td>0.473572</td>\n",
       "    </tr>\n",
       "    <tr>\n",
       "      <th>3</th>\n",
       "      <td>Phone</td>\n",
       "      <td>-0.449698</td>\n",
       "      <td>0.537449</td>\n",
       "    </tr>\n",
       "    <tr>\n",
       "      <th>4</th>\n",
       "      <td>Int'l Plan</td>\n",
       "      <td>0.037778</td>\n",
       "      <td>0.071954</td>\n",
       "    </tr>\n",
       "    <tr>\n",
       "      <th>5</th>\n",
       "      <td>VMail Plan</td>\n",
       "      <td>-1.846850</td>\n",
       "      <td>0.276206</td>\n",
       "    </tr>\n",
       "    <tr>\n",
       "      <th>6</th>\n",
       "      <td>VMail Message</td>\n",
       "      <td>-1.942989</td>\n",
       "      <td>0.576329</td>\n",
       "    </tr>\n",
       "    <tr>\n",
       "      <th>7</th>\n",
       "      <td>Day Mins</td>\n",
       "      <td>-0.462267</td>\n",
       "      <td>0.899304</td>\n",
       "    </tr>\n",
       "    <tr>\n",
       "      <th>8</th>\n",
       "      <td>Day Calls</td>\n",
       "      <td>-0.663510</td>\n",
       "      <td>0.133323</td>\n",
       "    </tr>\n",
       "    <tr>\n",
       "      <th>9</th>\n",
       "      <td>Day Charge</td>\n",
       "      <td>0.951480</td>\n",
       "      <td>0.380453</td>\n",
       "    </tr>\n",
       "    <tr>\n",
       "      <th>10</th>\n",
       "      <td>Eve Mins</td>\n",
       "      <td>0.476979</td>\n",
       "      <td>0.427456</td>\n",
       "    </tr>\n",
       "    <tr>\n",
       "      <th>11</th>\n",
       "      <td>Eve Calls</td>\n",
       "      <td>0.221439</td>\n",
       "      <td>0.198820</td>\n",
       "    </tr>\n",
       "    <tr>\n",
       "      <th>12</th>\n",
       "      <td>Eve Charge</td>\n",
       "      <td>-0.917029</td>\n",
       "      <td>0.369131</td>\n",
       "    </tr>\n",
       "    <tr>\n",
       "      <th>13</th>\n",
       "      <td>Night Mins</td>\n",
       "      <td>2.597980</td>\n",
       "      <td>0.391886</td>\n",
       "    </tr>\n",
       "    <tr>\n",
       "      <th>14</th>\n",
       "      <td>Night Calls</td>\n",
       "      <td>0.843867</td>\n",
       "      <td>0.580780</td>\n",
       "    </tr>\n",
       "    <tr>\n",
       "      <th>15</th>\n",
       "      <td>Night Charge</td>\n",
       "      <td>-0.864854</td>\n",
       "      <td>0.931165</td>\n",
       "    </tr>\n",
       "    <tr>\n",
       "      <th>16</th>\n",
       "      <td>Intl Mins</td>\n",
       "      <td>-1.425113</td>\n",
       "      <td>0.471289</td>\n",
       "    </tr>\n",
       "    <tr>\n",
       "      <th>17</th>\n",
       "      <td>Intl Calls</td>\n",
       "      <td>0.320811</td>\n",
       "      <td>0.549033</td>\n",
       "    </tr>\n",
       "    <tr>\n",
       "      <th>18</th>\n",
       "      <td>Intl Charge</td>\n",
       "      <td>-1.889718</td>\n",
       "      <td>0.377100</td>\n",
       "    </tr>\n",
       "    <tr>\n",
       "      <th>19</th>\n",
       "      <td>CustServ Calls</td>\n",
       "      <td>-0.640440</td>\n",
       "      <td>0.237003</td>\n",
       "    </tr>\n",
       "    <tr>\n",
       "      <th>20</th>\n",
       "      <td>Churn?</td>\n",
       "      <td>-0.312397</td>\n",
       "      <td>0.654484</td>\n",
       "    </tr>\n",
       "  </tbody>\n",
       "</table>\n",
       "</div>"
      ],
      "text/plain": [
       "       Column Name         A         B\n",
       "0            State -0.374705  0.275306\n",
       "1   Account Length -0.073667  0.878826\n",
       "2        Area Code -1.003910  0.473572\n",
       "3            Phone -0.449698  0.537449\n",
       "4       Int'l Plan  0.037778  0.071954\n",
       "5       VMail Plan -1.846850  0.276206\n",
       "6    VMail Message -1.942989  0.576329\n",
       "7         Day Mins -0.462267  0.899304\n",
       "8        Day Calls -0.663510  0.133323\n",
       "9       Day Charge  0.951480  0.380453\n",
       "10        Eve Mins  0.476979  0.427456\n",
       "11       Eve Calls  0.221439  0.198820\n",
       "12      Eve Charge -0.917029  0.369131\n",
       "13      Night Mins  2.597980  0.391886\n",
       "14     Night Calls  0.843867  0.580780\n",
       "15    Night Charge -0.864854  0.931165\n",
       "16       Intl Mins -1.425113  0.471289\n",
       "17      Intl Calls  0.320811  0.549033\n",
       "18     Intl Charge -1.889718  0.377100\n",
       "19  CustServ Calls -0.640440  0.237003\n",
       "20          Churn? -0.312397  0.654484"
      ]
     },
     "execution_count": 68,
     "metadata": {},
     "output_type": "execute_result"
    }
   ],
   "source": [
    "new_data"
   ]
  },
  {
   "cell_type": "code",
   "execution_count": null,
   "metadata": {},
   "outputs": [],
   "source": []
  }
 ],
 "metadata": {
  "kernelspec": {
   "display_name": "Python 3",
   "language": "python",
   "name": "python3"
  },
  "language_info": {
   "codemirror_mode": {
    "name": "ipython",
    "version": 3
   },
   "file_extension": ".py",
   "mimetype": "text/x-python",
   "name": "python",
   "nbconvert_exporter": "python",
   "pygments_lexer": "ipython3",
   "version": "3.7.3"
  }
 },
 "nbformat": 4,
 "nbformat_minor": 2
}
