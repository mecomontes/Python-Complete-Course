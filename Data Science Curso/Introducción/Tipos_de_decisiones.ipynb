{
  "nbformat": 4,
  "nbformat_minor": 0,
  "metadata": {
    "colab": {
      "name": "Tipos de decisiones",
      "provenance": []
    },
    "kernelspec": {
      "name": "python3",
      "display_name": "Python 3"
    }
  },
  "cells": [
    {
      "cell_type": "markdown",
      "metadata": {
        "id": "Y1bP0_KkSrc3",
        "colab_type": "text"
      },
      "source": [
        "# TIPOS DE DECISIONES\n",
        "\n",
        "* **Decisiones programadas**\n",
        "\n",
        "  Como el tiempo es valioso y escaso, deben tenerse identificadas aquellas situaciones que, por su recurrencia o importancia relativa, puedan ser tipificadas de manera tal que, al ocurrir, ya se tenga decidido lo que se debe hacer.\n",
        "\n",
        "\n",
        "* **Decisiones no programadas**\n",
        "\n",
        " Involucran situaciones, imprevistas o muy importantes que requieren una solución específica y particular por parte de los implicados. \n",
        " \n",
        " Las decisiones no programadas por la importancia de la situación que involucran se reservan a personal de un nivel superior debido al impacto de sus consecuencias en la organización.\n",
        "\n",
        "* **Decisiones rutinarias**\n",
        "\n",
        "  Cuando las circunstancias son parecidas y el contexto es también similar, es probable que las empresas busquen la forma de establecer ciertos mecanismos recurrentes para tomar decisiones.\n",
        "\n",
        "* **Decisiones de emergencia**\n",
        "\n",
        "  Cuando la situación es inesperada y no hay precedentes, las empresas deben tomar medidas especiales para adaptarse al desarrollo de los acontecimientos.\n",
        "\n",
        "* **Decisiones estratégicas**\n",
        "\n",
        "   Este tipo de decisiones inquieren sobre objetivos de la empresa y tratan de vehicular estas metas a planes de desarrollo específicos. Usualmente, este tipo de decisiones son las que guían las corporaciones hacia el éxito o el fracaso, puesto que marcan el camino a seguir. Son decisiones que suele tomar el director general, el gerente y/o los accionistas.  \n",
        "\n",
        "\n",
        "* **Decisiones operativas**\n",
        "\n",
        "Son decisiones imprescindibles para el buen funcionamiento de la organización y una de sus misiones es resolver los conflictos entre personas, tanto desde un punto de vista humano como laboral. Su manejo debe ser cuidadoso ya que las decisiones operativas también incluyen determinaciones sobre la contratación y los despidos.\n"
      ]
    },
    {
      "cell_type": "code",
      "metadata": {
        "id": "YZe_hHt4SxQ0",
        "colab_type": "code",
        "colab": {}
      },
      "source": [
        ""
      ],
      "execution_count": 0,
      "outputs": []
    }
  ]
}