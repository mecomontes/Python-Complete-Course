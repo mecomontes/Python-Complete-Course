{
  "nbformat": 4,
  "nbformat_minor": 0,
  "metadata": {
    "colab": {
      "name": "SEMA",
      "provenance": []
    },
    "kernelspec": {
      "name": "python3",
      "display_name": "Python 3"
    }
  },
  "cells": [
    {
      "cell_type": "markdown",
      "metadata": {
        "id": "o8DayRvr5A6E",
        "colab_type": "text"
      },
      "source": [
        "# ***METODOLOGIA SEMA- (Sample,Explore,Modify,Model,Assess)***\n",
        "\n",
        "* **Fase I – \" Muestreo (Sample) \"**\n",
        "\n",
        "\n",
        "## → Extracción de una muestra representativa.\n",
        "\n",
        "En esta primera fase de la metodología, se realiza la **extracción de un conjunto de datos**    (población muestral) sobre la que se va a llevar a cabo el análisis. La muestra debe ser representativa de la población, caso contrario los resultados obtenidos no son válidos para el proceso en cuestión. El método de muestreo más común se denomina \" muestreo aleatorio simple \" , en el que **cada elemento en la población tiene la misma probabilidad de ser seleccionado.** En esta metodología, para cada una de las muestras escogidas se debe asociar un determinado nivel de confianza.\n",
        "\n",
        "* **Fase II – \" Exploración (Explore) \"**\n",
        "\n",
        "\n",
        "### → Analisis de los datos de la muestra seleccionada.\n",
        "\n",
        " En esta fase, se realiza un **análisis de los datos extraídos en la muestra**, para lo cual se propone el uso de herramientas de visualización o de diferentes técnicas estadísticas para la exploración de la información seleccionada, que contribuyan a poner de manifiesto relaciones entre variables. Esto permite **simplificar el problema y optimizar la eficiencia del modelo**, ayudando a refinar los procesos de descubrimiento de información en las fases subsiguientes del proceso en cuestión. \n",
        "\n",
        " * **Fase III – \" Modificación (Modify) \"**\n",
        " \n",
        "#  → Modificación de los datos.\n",
        "  \n",
        "   La tercera fase de la metodología, involucra la modificación de los datos que van a ser ingresados al modelo para que tengan el formato adecuado, mejorando la definición de los mismos.\n",
        "\n",
        "   **Fase IV – \" Modelado (Model) \"**\n",
        "   \n",
        "#   → Modelación de los datos. \n",
        "   \n",
        "   En esta fase, se procede a **modelar el conjunto de datos**, permitiendo al software realizar una búsqueda completa de combinaciones de datos que ayudarán a predecir los resultados esperados de manera confiable. El objetivo de esta fase **es establecer una relación entre las variables objeto del estudio y las variables explicativas, de manera tal que posibiliten inferir el valor de las mismas con un nivel de confianza determinado.** Las técnicas utilizadas para el modelado de los datos incluyen técnicas adaptativas, lógica difusa, reglas de asociación, árboles de decisión, redes neuronales y computación evolutiva; como así también involucran métodos estadísticos tradicionales.   "
      ]
    }
  ]
}