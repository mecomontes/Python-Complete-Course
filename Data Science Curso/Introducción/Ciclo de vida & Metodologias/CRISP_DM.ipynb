{
  "nbformat": 4,
  "nbformat_minor": 0,
  "metadata": {
    "colab": {
      "name": "CRISP-DM",
      "provenance": []
    },
    "kernelspec": {
      "name": "python3",
      "display_name": "Python 3"
    }
  },
  "cells": [
    {
      "cell_type": "markdown",
      "metadata": {
        "id": "okdJtmJWzzz_",
        "colab_type": "text"
      },
      "source": [
        "# **CRISP-DM** - (Cross Industry Standard Process for Data Mining)\n",
        "\n",
        "El modelo CRISP-DM cubre las fases de un proyecto, sus tareas respectivas, y las relaciones entre estas tareas. En este nivel de descripción no es posible identificar todas las relaciones; las relaciones podrían existir entre cualquier tarea según los objetivos, el contexto, y el interés del usuario sobre los datos.\n",
        "\n",
        "**FASES DE LA METODOLOGIA CRISP-DM**\n",
        "\n",
        "* **1. Entender El Negocio:**\n",
        "\n",
        "\n",
        "  En esta fase se **identifican** los objetivos a conseguir despues de un estudio cauteloso del negocio,exigencias y necesidades del cliente.\n",
        "\n",
        "  Crea un plan estrategico para alcanzar dichos  objetivos con unos requerimentos de fiabilidad y calidad.\n",
        "  \n",
        "  OBSERVACION : Se deben tener en cuanta la regulacion y normativas de ciberseguridad y privacidad de los datos.\n",
        "\n",
        "* **2. Adquisicion de los datos**:\n",
        "\n",
        "   Identificar los datos necesarios para conseguir los objetivos planteados , reconocer las fuentes de datos & describir los tipos de datos con los que vamos a trabajar e identificar aquellos que realmenteson necesarios, como ultima parte tenemos que reconocer los errores de los datos , como datos repetidos,incompletos e inconsistentes.\n",
        "\n",
        "* **3. Preparacion de los datos**:\n",
        "\n",
        "  Procesar los flujos de datos,solventar problemas de datos faltantes,controlar las inconsistencias de los flujos de datos y realizar la limpieza y estandarizacion de los datos.\n",
        "\n",
        "* **4. Modelacion**:\n",
        "\n",
        "  Determinar que modelo o tecnica es el mas apropiado para la resolucion del problema a tratar y que tecnica a aplicar de forma consistente atendiendo a los datos que tenemos ,los recursos y necesidades.\n",
        "\n",
        "  Cabe mencionar que en este punto podemos regresar al punto 3 para trabajar con los datos y tener una entrada de los mismos, acorde a las necesidades del modelo , en esta fase interviene el proceso de testing y desempeño del sistema para estudiar la calidad y fiablilidad de los resultados obtenidos con el modelo seleccionado y los elementos marcados.\n",
        "\n",
        "* **5. Evaluacion e Interpretacion**:\n",
        "\n",
        "   Visualizacion y analisis de los datos obtenidos y su correspondencia sobre los objetivos,la fiabilidad y calidad deseada.\n",
        "\n",
        "* **6. Despliegue del modelo**:\n",
        "Se visualiza el conocimiento y los resultados obtenidos se muesran al cliente.\n",
        "\n",
        "* **7. Operaciones**:\n",
        "\n",
        "  Realizar las acciones que el cliente vea convenientes acorde a los resultados obtenidos.Ademas,pasamos a una fase de seguimiento y mantenimiento del modelo.Puede ocurrir que la fiabilidad de los resultados del modelo baje por lo que se debe retomar el proyecto desde un inicio.\n",
        "\n",
        " \n",
        "\n",
        "\n",
        "\n"
      ]
    }
  ]
}