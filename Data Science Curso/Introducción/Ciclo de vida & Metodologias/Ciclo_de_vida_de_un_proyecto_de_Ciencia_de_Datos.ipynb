{
  "nbformat": 4,
  "nbformat_minor": 0,
  "metadata": {
    "colab": {
      "name": "Ciclo de vida de un proyecto de Ciencia de Datos",
      "provenance": []
    },
    "kernelspec": {
      "name": "python3",
      "display_name": "Python 3"
    }
  },
  "cells": [
    {
      "cell_type": "markdown",
      "metadata": {
        "id": "Zu17sUkgXSoF",
        "colab_type": "text"
      },
      "source": [
        "# **Ciclo de vida de un proyecto de ciencia de datos**\n",
        "\n",
        "Un proyecto de Ciencia de Datos toma sus bases en la forma de **administrar y ejecutar**\n",
        "un proyecto tecnológico, específicamente hablando de un proyecto de software.\n",
        "\n",
        "Un proyecto de software tiene un **ciclo**, el cual es el proceso que se sigue para **construir, entregar y hacer evolucionar el software**, desde la concepción de una idea hasta la entrega y retiro del sistema.\n",
        "\n",
        "Por otro lado, debemos tener en cuenta que\n",
        "la Ciencia de Datos se **identifica** dentro de un\n",
        "contexto multidisciplinar, donde **coexisten**\n",
        "diferentes perfiles profesionales que cubren\n",
        "una función determinada.  En este sentido,\n",
        "debemos aclarar que cada proyecto de\n",
        "Ciencia de Datos deberá asumir sus propios\n",
        "requerimientos que definirán sus requisitos y alcance.\n",
        "\n",
        "# CICLO DE VIDA:\n",
        "\n",
        "**Integracion & recopilacion:**\n",
        " - Entendimiento de APP\n",
        " - Seleccion,fuentes & conjunto de datos.\n",
        "\n",
        "**Seleccion,Limpieza & transformacion**\n",
        "\n",
        " - Programacion del conunto de datos que se va a utilizar.\n",
        "\n",
        " **Mineria de datos**\n",
        "\n",
        " - Se selecciona el estadistico o tarea que se va a realizar.\n",
        "\n",
        "**Evaluacion e Interpretacion**\n",
        "  - Se integran los conocimientos de datos obtenidos.\n",
        "\n",
        "**Difucion & uso**\n",
        " * Integracion del conocimiento obtenido.\n",
        "\n",
        " * Resolucion de posibles conflictos.\n",
        "\n",
        "\n",
        "\n",
        "\n",
        "\n",
        "\n",
        "\n"
      ]
    }
  ]
}