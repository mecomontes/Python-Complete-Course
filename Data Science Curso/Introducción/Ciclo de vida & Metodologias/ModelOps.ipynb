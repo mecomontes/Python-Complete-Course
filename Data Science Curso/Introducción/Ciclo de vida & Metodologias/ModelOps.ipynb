{
  "nbformat": 4,
  "nbformat_minor": 0,
  "metadata": {
    "colab": {
      "name": "ModelOps",
      "provenance": []
    },
    "kernelspec": {
      "name": "python3",
      "display_name": "Python 3"
    }
  },
  "cells": [
    {
      "cell_type": "markdown",
      "metadata": {
        "id": "pIFYHvM379Ay",
        "colab_type": "text"
      },
      "source": [
        "# **ModelOps**\n",
        "\n",
        "Esta metodologia , la cual se encarga de automatizar el despliegue del modelo, asi como su seguimiento, supervision y mantenimiento tal que acelera el desarrollo y mejora la escalabilidad de este tipo de proyectos.\n",
        "\n",
        "ModelOps se basa en la metodologia \"Devops\" la cual se emplea para el desarrollo de apps,mientras que ModelOps se centra en acelerar  el rpoceso de cracion de modelos desde su fase inicial del laboratoio.\n",
        "\n",
        "Aunque todavía es un concepto emergente, un enfoque de ModelOps generalmente involucra cultura, procesos y tecnología para ayudar a las organizaciones a obtener el máximo valor de la analítica. Con la rápida adopción de la inteligencia artificial (IA) y el aprendizaje automático, los activos y modelos analíticos se multiplican a un ritmo acelerado. Aunque muchas organizaciones reconocen la creciente importancia de una cultura basada en datos en su continua transformación digital, aplicar los cambios que sugieren los datos es un desafío.\n",
        "\n",
        "Las organizaciones a menudo luchan con las etapas finales de \"implementación, operacionalización y puesta en marcha de análisis\", según IDC. A medida que el desarrollo del modelo se vuelve más frecuente para resolver problemas comerciales, la implementación y la gobernanza a menudo son el último obstáculo. De hecho, IDC estima que solo el 35 por ciento de las organizaciones dicen que los modelos analíticos están completamente implementados en la producción.\n",
        "\n",
        "\n",
        "# **Elementos de un enfoque ModelOps**\n",
        "\n",
        "\n",
        "ModelOps tiene como objetivo estimular la colaboración dinámica y la productividad mejorada para los equipos de análisis y operaciones de TI, sin importar qué lenguaje analítico se use, a qué datos se acceda o dónde se implementará el modelo.\n",
        "\n",
        "Para poner en práctica los análisis del laboratorio, un enfoque de ModelOps incluye lo siguiente, según los especialistas:\n",
        "\n",
        "Acceder a datos de una fuente confiable y mantener los estándares de privacidad y seguridad.\n",
        "Evite el reproceso teniendo en cuenta un escenario de implementación al crear modelos.\n",
        "Retener el linaje de datos y la información de seguimiento para el gobierno y el cumplimiento de la auditoría.\n",
        "Lograr ModelOps rápidamente al tiempo que garantiza una estrecha colaboración entre los científicos de datos y TI.\n",
        "Centrarse en el monitoreo al implementar modelos para que los analistas puedan monitorear y volver a entrenar los modelos a medida que se degradan.\n"
      ]
    }
  ]
}