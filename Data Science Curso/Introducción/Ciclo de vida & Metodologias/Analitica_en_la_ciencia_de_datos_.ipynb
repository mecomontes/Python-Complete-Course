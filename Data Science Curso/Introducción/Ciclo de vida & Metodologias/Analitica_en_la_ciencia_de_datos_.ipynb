{
  "nbformat": 4,
  "nbformat_minor": 0,
  "metadata": {
    "colab": {
      "name": "Analitica en la ciencia de datos.",
      "provenance": []
    },
    "kernelspec": {
      "name": "python3",
      "display_name": "Python 3"
    }
  },
  "cells": [
    {
      "cell_type": "markdown",
      "metadata": {
        "id": "feTjH2NcXM_h",
        "colab_type": "text"
      },
      "source": [
        "LA ANALITICA EN LA CIENCIA DE DATOS.\n",
        "\n",
        "Para comprender mejor este concepto tenemos que enteder que es la analitica descriptiva.\n",
        "\n",
        "¿COMO FUNCIONA?\n",
        "\n",
        "La disciplina de la analitica precriptiva toma como base todo el conocimiento y tecnicas de las analiticas descriptiva y predictiva,tomando tambien de campos como la investigacion operativa y la optimizacion numerica.\n",
        "\n",
        "A grandes rasgos un sistema prescriptivo recopila infomacion del negocio, predice en base a la informacion que recopila predices en base a dicha informacion que impacto tendras las diferentes politicas o acciones que se vayan a tomar & escoge la politica con mayor retorno de la inversion mediante un proceso de optimizacion.\n",
        "\n",
        "¿Que es la analitica descriptiva?\n",
        "\n",
        "Consiste en **almacenar** y realizar agregaciones de datos historicos,visualizandolos de forma que puedan ayudar a la comprension del estado **actual** & **pasado** del negocio.\n",
        "\n",
        "La analitica descriptiva nos cuenta como ha funcionado nuestro negocio hasta la fecha, nos pemrite por ejemplo **detectar** que productos se venden mas & en que **zonas**.\n",
        "\n",
        "¿COMO FUNCIONA?\n",
        "\n",
        "Se basa en trabajar sobre un **sistema de almacenamiento** donde se ecneuntran concentrados los datos relevantes del negocio.\n",
        "\n",
        " ¿Que es la analitica predictiva?\n",
        "\n",
        " La analitica predictiva proporciona herramientas para estimar aquellos datos de negocios que son desconcoidos o inciertos , o que requieren de un proceso manual o costoso para su obtencion.\n",
        "\n",
        " VENTAJAS :\n",
        "\n",
        " * Permiten anticipar demandas de clientes en distintos puntos de venta,teniendo en cuenta factores controlables, como:\n",
        "  * El precio de venta.\n",
        "  * Calendario laborales o efectos meteorologicos.\n",
        "  * Detectar si una transaccion bancaria es susceptible de haber sido realizada como parte de un fraude.\n",
        "\n",
        "¿Como funciona?\n",
        "\n",
        "Para estimar una informacion desconocida, la analitica predictiva posee una serie de tecinas entre las que destacan:\n",
        "\n",
        "* **CLASIFICAION**:\n",
        "\n",
        "La clasificaion automatica se basa en la disciplina conocida como aprendizaje automatico supervisado.\n",
        "\n",
        "* **TECNICAS DE PREDICCION**:\n",
        "\n",
        "La capacidad de anticiparse a futuros cambios e incertidumbres en el negocio es fundamental para garantizar el exito.\n",
        "\n",
        "* **SEGMENTACION AUTOMATICA**:\n",
        "Las tecnicas de segmentacion analizan grandes volumenes de datos y detectan automaticamente grupos afines de elementos o casos discordantes.\n",
        "\n",
        "\n",
        "¿QUE ES LA ANALITICA PRESPCRIPTIVA?\n",
        "\n",
        "Permite llevar a una integracion completa con el negocio, mediante la prescripcion , el propio sistema de analisis realiza recomendaciones sobre las acciones que se han de seguir para reducir los costes o mejorar los beneficios.\n",
        "\n",
        "**CASOS DE USO**:\n",
        "\n",
        "* Generar planificaicones para crear calendarios de trransporte en un sistema de sitribucion , de forma que se minimicen los costes de desplazamiento & almacenamiento, a la par que se mantienen garantias sobre los niveles de servicio en los puntos de venta y se tienen en consideracion factores extrenos que afecten a las demandas esperadas.\n",
        "\n",
        "* Recomendar los precios mas adecuados para cad tipo de habitacion en una cadena hotelera con el fin de maximizar los beneficios, teniendo en cuenta preivisones de la demanda esperada y factores influenciadores como calendarios de festivos o meteorologia.\n",
        "\n",
        "* Estimar el numero de cleintes que asisitrian a un punto de venta cada dia y calcular el personal que sera necesario para garantizar el servicio mientras se mantiene los costes bajo control.\n",
        "\n",
        "\n",
        "\n"
      ]
    }
  ]
}