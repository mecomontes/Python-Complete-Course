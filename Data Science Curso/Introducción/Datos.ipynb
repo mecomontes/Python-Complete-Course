{
  "nbformat": 4,
  "nbformat_minor": 0,
  "metadata": {
    "colab": {
      "name": "Datos",
      "provenance": [],
      "toc_visible": true
    },
    "kernelspec": {
      "name": "python3",
      "display_name": "Python 3"
    }
  },
  "cells": [
    {
      "cell_type": "markdown",
      "metadata": {
        "id": "PQ7bEfmA20F0",
        "colab_type": "text"
      },
      "source": [
        "# DATOS\n",
        "INTRODUCCION\n",
        "\n",
        "Los datos cuantitativos y cualitativos son los que nos ayudan a fundamentar la investigación.  Nos dan la razón de la hipótesis o nos dicen que nuestra hipótesis esta mal.  La recolección de estos y la interpretación es realmente vital para el propósito de la investigación ya que sin estos nuestra investigación no vale la pena hacerlo.\n",
        "\n",
        "\n",
        " **Dato Cutantitativo (NUMERICO)** :\n",
        "\n",
        "Los datos cuantitativos se definen como el valor de los datos en forma de recuentos o números donde cada conjunto de datos tiene un valor numérico único asociado. Estos datos son cualquier información cuantificable que pueda usarse para cálculos matemáticos y análisis estadísticos, de modo que las decisiones de la vida real se puedan tomar en base a estas derivaciones matemáticas. Los datos cuantitativos se utilizan para responder preguntas como \"¿Cuántos?\", \"¿Con qué frecuencia?\", \"¿Cuánto?\". Estos datos pueden verificarse y también pueden evaluarse convenientemente utilizando técnicas matemáticas.\n",
        "\n",
        "# **Tipos de datos cuantitativos con ejemplos**\n",
        "\n",
        "Los tipos más comunes de datos cuantitativos son los siguientes:\n",
        "\n",
        "* **Contador:** \n",
        "\n",
        "  Cuenta equiparada con entidades. Por ejemplo, la cantidad de personas que descargan una aplicación en particular de la App Store.\n",
        "\n",
        "\n",
        "* **Medición de objetos físicos:**\n",
        "\n",
        "   Cálculo de la medición de cualquier cosa física. Por ejemplo, el ejecutivo de Recursos Humanos mide cuidadosamente el tamaño de cada cubículo asignado a los empleados recién incorporados.\n",
        "\n",
        "\n",
        "* **Cálculo sensorial:**\n",
        "\n",
        "   Mecanismo para “sentir” naturalmente los parámetros medidos para crear una fuente constante de información. Por ejemplo, una cámara digital convierte la información electromagnética en una cadena de datos numéricos.\n",
        "\n",
        "\n",
        "* **Proyección de datos:**\n",
        "\n",
        "   La proyección futura de datos se puede hacer usando algoritmos y  otras herramientas de análisis matemático. Por ejemplo, un vendedor predecirá un aumento en las ventas después de lanzar un nuevo producto con un análisis exhaustivo.\n",
        "\n",
        "\n",
        "* **Cuantificación de entidades cualitativas:**\n",
        "\n",
        " Identificar números para información cualitativa. Por ejemplo, pedir a los encuestados de una encuesta en línea que compartan la probabilidad de recomendación en una escala de 0-10.\n",
        "\n",
        "\n",
        "\n",
        "**DATO CUALITATIVO (NO NUMERICO)**\n",
        "\n",
        "\n",
        "Los datos cualitativos se definen como los datos que se aproximan y caracterizan.\n",
        "\n",
        "Se pueden observar y registrar datos cualitativos. Este tipo de datos es de naturaleza no numérica. Este tipo de datos se recopila a través de métodos de observación, entrevistas individuales, grupos focales y métodos similares. Los datos cualitativos en estadística también se conocen como datos categóricos. Datos que se pueden organizar categóricamente en función de los atributos y propiedades de una cosa o un fenómeno.\n",
        "\n",
        "\n",
        "# Ejemplos de datos cualitativos\n",
        "\n",
        "Los datos cualitativos también se denominan datos categóricos, ya que estos datos se pueden agrupar según las categorías.\n",
        "\n",
        "Por ejemplo, piense en un alumno leyendo un párrafo de un libro durante una de las sesiones de clase. Un maestro que está escuchando la lectura ofrece comentarios sobre cómo el niño leyó ese párrafo. Si el maestro proporciona una retroalimentación basada en la fluidez, la entonación, el lanzamiento de palabras, la claridad en la pronunciación sin darle una calificación al niño, esto se considera como un ejemplo de datos cualitativos.\n",
        "\n",
        "Es bastante fácil entender la diferencia entre los datos cualitativos y cuantitativos, los datos cualitativos no incluyen números en su definición de rasgos, mientras que los datos cuantitativos se tratan de números.\n",
        "\n",
        "El pastel es de color naranja, azul y negro (cualitativo).\n",
        "Las hembras tienen cabello castaño, negro, rubio y rojo (cualitativo).\n",
        "\n",
        "\n",
        "\n",
        "\n",
        "\n",
        "\n",
        "\n",
        "\n"
      ]
    },
    {
      "cell_type": "code",
      "metadata": {
        "id": "f-2DCr4D6hrD",
        "colab_type": "code",
        "colab": {}
      },
      "source": [
        ""
      ],
      "execution_count": 0,
      "outputs": []
    }
  ]
}