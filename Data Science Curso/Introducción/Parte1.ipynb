{
  "nbformat": 4,
  "nbformat_minor": 0,
  "metadata": {
    "colab": {
      "name": "Parte1",
      "provenance": [],
      "collapsed_sections": []
    },
    "kernelspec": {
      "name": "python3",
      "display_name": "Python 3"
    }
  },
  "cells": [
    {
      "cell_type": "markdown",
      "metadata": {
        "id": "9GVPupB5_jgT",
        "colab_type": "text"
      },
      "source": [
        "# *Panorama general de Big Data y Ciencia de datos*"
      ]
    },
    {
      "cell_type": "markdown",
      "metadata": {
        "id": "24zcVRSY_wPE",
        "colab_type": "text"
      },
      "source": [
        "Introduccion\n",
        "\n"
      ]
    },
    {
      "cell_type": "markdown",
      "metadata": {
        "id": "te4cxkBH__S5",
        "colab_type": "text"
      },
      "source": [
        "# ¿Que es exactamente Ciencia de Datos?\n",
        "\n",
        "Para comprender el concepto de ciencia de datos primero tenemos que saber que es ¿BIG DATA?.\n",
        "\n",
        "Podemos definir BigData como un conjunto de datos de una gran variedad y formatos acomulados a esto se le conoce como las **3'Vs.**\n",
        "\n",
        "# DATO:\n",
        "Un dato es la representacion simbolica de un atributo, que puede ser cualitativo o cuantitativo.\n",
        "\n",
        "#. BIG DATA = DATOS MASIVOS\n",
        "\n",
        "Podemos ver big data como datos masivos y a menudo no estructurados, en los que las capacidades de procesamiento de las\n",
        "herramientas tradicionales de gestión de datos resultan ser inadecuadas. \n",
        "\n",
        "**Big Data** puede\n",
        "ocupar terabytes y petabytes de espacio de almacenamiento en diversos formatos, incluidos\n",
        "texto, video, sonido, imágenes y más.\n",
        " # Las 3 V'S\n",
        "* **VOLUMEN:**\n",
        " Las organizaciones recopilan datos de una amplia variedad de fuentes, incluidas transacciones financieras, redes sociales ,sensores etc.\n",
        "\n",
        "\n",
        "* **VELOCIDAD:**\n",
        " Los datos fluyen a una velocidad sin precedentes y, por lo tanto, deben gestionarse\n",
        "de manera oportuna. El uso cada vez más frecuente de etiquetas RFID (identificaciones de radiofrecuencia),\n",
        "sensores y medición inteligente (sistemas de lectura de contadores) aumentan la necesidad\n",
        "de gestionar flujos de datos en tiempo real o casi.\n",
        "\n",
        "* **Variedad:**\n",
        " Los datos provienen de diferentes tipos de fuentes, esto hace que exista una diversidad en el formato y tipología en ellos. Los datos podrán ser estructurados, semi-estructurados o desestructurados, y sus fuentes podrán provenir de text and imagen files, web data, tweets, sensor data, audio, video, entre otros.\n",
        "\n",
        "\n",
        "\n"
      ]
    },
    {
      "cell_type": "code",
      "metadata": {
        "id": "6H44irDZBrud",
        "colab_type": "code",
        "colab": {}
      },
      "source": [
        ""
      ],
      "execution_count": 0,
      "outputs": []
    }
  ]
}