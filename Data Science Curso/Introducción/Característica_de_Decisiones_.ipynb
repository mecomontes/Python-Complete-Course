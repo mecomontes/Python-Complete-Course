{
  "nbformat": 4,
  "nbformat_minor": 0,
  "metadata": {
    "colab": {
      "name": "Característica de Decisiones.",
      "provenance": []
    },
    "kernelspec": {
      "name": "python3",
      "display_name": "Python 3"
    }
  },
  "cells": [
    {
      "cell_type": "markdown",
      "metadata": {
        "id": "_uHLzoZ8PUd9",
        "colab_type": "text"
      },
      "source": [
        "# Toma de Decisiones.\n",
        "\n",
        "   Los datos y los análisis están alterando los modelos de negocio y los ecosistemas existentes. La proliferación de nuevos conjuntos de datos y la introducción de capacidades masivas de migración de datos están socavando la información existente y los silos tecnológicos. Desde el uso de datos granulares para personalizar productos y servicios hasta el escalado de plataformas digitales para igualar compradores y vendedores, las empresas están utilizando análisis de negocios para permitir una toma de decisiones más rápida y basada en hechos. \n",
        "\n",
        "  **OBSERVACION:**\n",
        "  \n",
        "   El administrador pasa la mayor parte de su tiempo **resolviendo problemas y tomando decisiones.** Tomar la decisión correcta cada vez es la ambición de quienes practican la gerencia. Hacerlo requiere contar con un profundo conocimiento, y una amplia experiencia en el tema. \n",
        "La mayor parte de las decisiones gerenciales carecen de estructura y conllevan riesgo, incertidumbre y conflicto.\n",
        "\n",
        "  # **CARACTERISTICAS DE DECISIONES**\n",
        "\n",
        "*  **EFECTOS FUTUROS**\n",
        "\n",
        " Tiene que ver con la medida en que los compromisos relacionados con la decisión **afectarán el futuro.**\n",
        "\n",
        " Se refiere a la **velocidad** con que una decisión puede revertirse y la dificultad que implica hacer este cambio. \n",
        "\n",
        "* **REVERSIBILIDAD**\n",
        "\n",
        "  Esta característica se refiere a la **medida en que otras áreas o actividades se ven afectadas.** \n",
        "  \n",
        "  Si el impacto es extensivo, es indicado tomar la decisión a un nivel alto; un impacto único se asocia con una decisión tomada a un nivel bajo.\n",
        "\n",
        "* **IMPACTO**\n",
        "\n",
        "  Esta característica se refiere a la medida en que **otras áreas o actividades se ven afectadas.** \n",
        "  \n",
        "  Si el impacto es extensivo es indicado tomar la decisión a un nivel alto, un impacto único se asocia con una decisión tomada un nivel bajo.\n",
        "\n",
        "* **CALIDAD**\n",
        "\n",
        "  Este factor se refiere a las relaciones laborales, valores éticos, consideraciones legales, principios básicos de conducta, imagen de la compañía, etc. \n",
        "  \n",
        "  Si muchos de estos factores están involucrados **se requiere tomar la decisión a un nivel alto**, si solo algunos factores son relevantes se recomienda tomar la decisión a un nivel bajo.\n",
        "\n",
        "* **PERIOCIDAD**\n",
        "\n",
        "  Este elemento responde a la pregunta de si una decisión se toma frecuente o excepcionalmente: Una decisión excepcional es una decisión de alto nivel, mientras que una decisión que se toma frecuentemente es una decisión de nivel bajo.\n",
        "\n",
        "\n",
        "* **ESTRUCTURA**\n",
        "\n",
        "   Este determina si la decisión está programada, generalmente las decisiones programadas están definidas y requieren poco análisis, son de corto plazo, muy reversible y su complejidad es menor, mientras que las decisiones no programadas son aleatorias, requieren de mayor análisis y son de largo plazo, irreversibles y más complejas.\n",
        "\n",
        "\n",
        "FUENTES: \n",
        "https://courses.edx.org/courses/course-v1:TecdeMonterreyX+CDICD.1X+3T2019/courseware/d5feec4f908f47c5828919e6d9a9a4a8/2d725fd5d95f4b8c9319e0483dd19763/?child=last\n",
        "\n",
        "\n",
        "\n",
        "\n",
        "  \n",
        "\n",
        "\n",
        "\n"
      ]
    }
  ]
}