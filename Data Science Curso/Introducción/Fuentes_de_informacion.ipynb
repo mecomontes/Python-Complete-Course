{
  "nbformat": 4,
  "nbformat_minor": 0,
  "metadata": {
    "colab": {
      "name": "Fuentes de informacion",
      "provenance": []
    },
    "kernelspec": {
      "name": "python3",
      "display_name": "Python 3"
    }
  },
  "cells": [
    {
      "cell_type": "markdown",
      "metadata": {
        "id": "ON1xh6QM9c6J",
        "colab_type": "text"
      },
      "source": [
        "v's en big data fuentes:\n",
        "\n",
        "https://www.dummies.com/careers/find-a-job/the-4-vs-of-big-data/\n",
        "\n",
        "https://www.bbva.com/en/five-vs-big-data/\n",
        "\n",
        "https://www.forbes.com/sites/oreillymedia/2012/01/19/volume-velocity-variety-what-you-need-to-know-about-big-data/#37e6a9da1b6d\n",
        "\n",
        "https://www.youtube.com/watch?v=5civM4HpDyo\n",
        "\n",
        "DATOS:\n",
        "\n",
        "https://www.questionpro.com/blog/quantitative-data/\n",
        "\n",
        "https://www.youtube.com/watch?v=5civM4HpDyo\n",
        "\n",
        "PARTE 1 & ¿Como fucniona big data?:\n",
        "\n",
        "https://courses.edx.org/courses/course-v1:TecdeMonterreyX+CDICD.1X+3T2019/courseware/d5feec4f908f47c5828919e6d9a9a4a8/2d725fd5d95f4b8c9319e0483dd19763/1?activate_block_id=block-v1%3ATecdeMonterreyX%2BCDICD.1X%2B3T2019%2Btype%40problem%2Bblock%40efa501cc1720449b9f744237030d3911\n",
        "\n",
        "\n"
      ]
    }
  ]
}