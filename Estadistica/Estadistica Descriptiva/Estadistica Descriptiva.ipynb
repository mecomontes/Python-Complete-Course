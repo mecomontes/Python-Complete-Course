{
 "cells": [
  {
   "cell_type": "markdown",
   "metadata": {},
   "source": [
    "# ESTADISTICA DESCRIPTIVA\n",
    "\n",
    "La estadística descriptiva implica la abstracción de varias propiedades del conjuntos de observaciones, mediante el empleo de métodos gráficos, tabulares o numéricos. Entre estas propiedades están la frecuencia con que se dan varios valores en la observación, la noción de un valor típico o usual, la cantidad de variabilidad en un conjunto de datos observados y la medida de relaciones entre 2 o mas variables.\n",
    "\n",
    "El campo de la estadística descriptiva no tiene que ver con las implicaciones o conclusiones que se puedan deducir del conjuntos de datos. La estadística descriptiva sirve como método para organizar datos y poner de manifiesto sus características esenciales con el propósito de llegar a conclusiones.\n",
    "\n",
    "La presentación de la información estadística se puede realizar de las formas siguientes:\n",
    "\n",
    "Textual (en forma de texto).\n",
    "Cuadros.\n",
    "Gráficos.\n",
    "\n",
    "# Medidas de tendencia central\n",
    "\n",
    "\n",
    "Al describir grupos de observaciones, con frecuencia se desea describir el grupo con un solo número. Para tal fin, desde luego, no se usará el valor más elevado ni el valor más pequeño como único representante, ya que solo representan los extremos. Entonces sería más adecuado buscar un valor central.\n",
    "\n",
    "Las medidas que describen un valor típico en un grupo de observaciones suelen llamarse medidas de tendencia central. Es importante tener en cuenta que estas medidas se aplican a grupos, un promedio es una característica de grupo, no individual. Estos valores tienden a ocupar posiciones en el centro del grupo cuando el mismo se organiza de forma ascendente o descendente. Los más conocidos y utilizados son la **media aritmética, la mediana y la moda.**\n",
    "\n",
    "\n",
    "Medidas de variabilidad, dispersión o desviación\n",
    "\n",
    "\n",
    "Estas medidas miden el grado de dispersión de los datos, generalmente tomados a partir de los valores centrales.\n",
    "\n"
   ]
  },
  {
   "cell_type": "code",
   "execution_count": null,
   "metadata": {},
   "outputs": [],
   "source": []
  }
 ],
 "metadata": {
  "kernelspec": {
   "display_name": "Python 3",
   "language": "python",
   "name": "python3"
  },
  "language_info": {
   "codemirror_mode": {
    "name": "ipython",
    "version": 3
   },
   "file_extension": ".py",
   "mimetype": "text/x-python",
   "name": "python",
   "nbconvert_exporter": "python",
   "pygments_lexer": "ipython3",
   "version": "3.7.3"
  }
 },
 "nbformat": 4,
 "nbformat_minor": 2
}
