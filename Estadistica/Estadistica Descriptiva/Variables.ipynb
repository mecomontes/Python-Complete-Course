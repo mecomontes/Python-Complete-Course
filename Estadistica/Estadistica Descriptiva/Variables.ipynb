{
 "cells": [
  {
   "cell_type": "markdown",
   "metadata": {},
   "source": [
    "# VARIABLES\n",
    "\n",
    "## DEF:\n",
    "\n",
    "Una variable es una **caracteristica de nuestro interes que posee cada elemento de una poblacion & que es medible.**\n",
    "\n",
    "Se llama variable a una **característica que se observa en una población o muestra, y a la cual se desea estudiar.**\n",
    "\n",
    "La variable puede tomar diferentes valores dependiendo de cada individuo. Una variable se puede clasificar de la siguiente manera.\n",
    "\n",
    "\n",
    "## Variable CUANTITATIVA:\n",
    "\n",
    "Es aquella que toma valores **numéricos & representan una cantidad**. Dentro de ella, se subdividen en:\n",
    "\n",
    "\n",
    "## Continua-(Intervalo):\n",
    "\n",
    "Son valores **reales(R)**. \n",
    "\n",
    "Se dice que es de tipo intevalo si existe una nocion de distancia entre dos valores pero no necesariamente se pueden efectuar operaciones aritmeticas,el posible valor cero es arbitrario y no indica necesariamente la ausencia tootal de medida\n",
    "\n",
    "Pueden tomar cualquier valor dentro de un intervalo. Ej. Peso, estatura, sueldos.\n",
    "\n",
    "\n",
    "## Discreta-(Razon): \n",
    "\n",
    "toma valores **enteros(Z)**. Ej. N° de hijos de una familia, n° de alumnos de un curso.\n",
    "Cabe mencionar que una variable disctrea cuantitativa es discreta si el conjunto de sus posibles valores tiene un numero finos de elementos o biene n infito per numerable.\n",
    "\n",
    "\n",
    "## Variable CUALITATIVA: \n",
    "\n",
    "Es aquella que **describe cualidades.** No son numéricas y se subdividen en:\n",
    "\n",
    "\n",
    "## Nominal: \n",
    "\n",
    "Son **cualidades sin orden**. Ej. Estado civil, preferencia por una marca, sexo, lugar de residencia.\n",
    "     \n",
    "## Ordinal: \n",
    "\n",
    "Son **cualidades que representan un orden y jerarquía.**\n",
    "Ej. Nivel educacional, días de la semana, calidad de la atención, nivel socioeconómico.\n"
   ]
  },
  {
   "cell_type": "code",
   "execution_count": null,
   "metadata": {},
   "outputs": [],
   "source": []
  }
 ],
 "metadata": {
  "kernelspec": {
   "display_name": "Python 3",
   "language": "python",
   "name": "python3"
  },
  "language_info": {
   "codemirror_mode": {
    "name": "ipython",
    "version": 3
   },
   "file_extension": ".py",
   "mimetype": "text/x-python",
   "name": "python",
   "nbconvert_exporter": "python",
   "pygments_lexer": "ipython3",
   "version": "3.7.3"
  }
 },
 "nbformat": 4,
 "nbformat_minor": 2
}
