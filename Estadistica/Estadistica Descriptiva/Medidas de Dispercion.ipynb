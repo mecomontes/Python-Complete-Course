{
 "cells": [
  {
   "cell_type": "markdown",
   "metadata": {},
   "source": [
    "# Medidas de dispercion\n",
    "\n",
    "Las medidas de dispersión son importantes porque nos hablan de la variabilidad que encontramos en una determinada muestra o población. Cuando hablamos de muestra, esta dispersión es importante porque condiciona el error que vamos a tener a la hora de hacer inferencias para medidas de tendencia central.\n",
    "\n"
   ]
  },
  {
   "cell_type": "markdown",
   "metadata": {},
   "source": [
    "# VARIANZA\n",
    "\n",
    "## Def:\n",
    "Sean x1,x2...xn observaciones o mediciones de una cariabe cuantitativa .sea X la media.\n",
    "\n",
    "La varianza es como se aleja cada valor de la media. La varianza eleva los valores al cuadrado... nos introduce en una nueva dimensión... puede no tener sentido.\n",
    "\n"
   ]
  },
  {
   "cell_type": "code",
   "execution_count": 1,
   "metadata": {},
   "outputs": [],
   "source": [
    "import pandas as pd\n",
    "import numpy as np\n",
    "import random"
   ]
  },
  {
   "cell_type": "code",
   "execution_count": 2,
   "metadata": {
    "collapsed": true
   },
   "outputs": [
    {
     "data": {
      "text/plain": [
       "[69596,\n",
       " 820836,\n",
       " 190108,\n",
       " 543310,\n",
       " 392904,\n",
       " 480150,\n",
       " 386245,\n",
       " 248267,\n",
       " 81920,\n",
       " 337349,\n",
       " 166225,\n",
       " 166191,\n",
       " 197757,\n",
       " 557898,\n",
       " 504035,\n",
       " 927838,\n",
       " 362478,\n",
       " 986039,\n",
       " 695686,\n",
       " 282201,\n",
       " 204816,\n",
       " 115191,\n",
       " 246987,\n",
       " 380957,\n",
       " 137691,\n",
       " 153138,\n",
       " 29395,\n",
       " 706846,\n",
       " 91148,\n",
       " 913800,\n",
       " 879374,\n",
       " 793711,\n",
       " 331543,\n",
       " 68018,\n",
       " 777853,\n",
       " 466704,\n",
       " 76644,\n",
       " 937964,\n",
       " 120522,\n",
       " 84631,\n",
       " 793900,\n",
       " 689895,\n",
       " 964957,\n",
       " 765745,\n",
       " 215555,\n",
       " 457611,\n",
       " 45104,\n",
       " 24038,\n",
       " 503677,\n",
       " 422432,\n",
       " 291570,\n",
       " 468172,\n",
       " 682353,\n",
       " 636335,\n",
       " 829751,\n",
       " 12091,\n",
       " 540678,\n",
       " 800890,\n",
       " 954943,\n",
       " 699605,\n",
       " 881598,\n",
       " 778322,\n",
       " 563369,\n",
       " 107693,\n",
       " 927448,\n",
       " 362546,\n",
       " 240378,\n",
       " 60887,\n",
       " 363403,\n",
       " 114580,\n",
       " 924269,\n",
       " 603333,\n",
       " 37600,\n",
       " 791343,\n",
       " 299897,\n",
       " 737232,\n",
       " 588607,\n",
       " 764301,\n",
       " 625354,\n",
       " 580626]"
      ]
     },
     "execution_count": 2,
     "metadata": {},
     "output_type": "execute_result"
    }
   ],
   "source": [
    "X = (random.sample(range(1000000),80))\n",
    "X"
   ]
  },
  {
   "cell_type": "code",
   "execution_count": 7,
   "metadata": {},
   "outputs": [],
   "source": [
    "var = np.var(X)\n",
    "mean = np.mean(X)"
   ]
  },
  {
   "cell_type": "code",
   "execution_count": 7,
   "metadata": {},
   "outputs": [
    {
     "name": "stdout",
     "output_type": "stream",
     "text": [
      "La varianza de X es :91797076244.49983\n"
     ]
    }
   ],
   "source": [
    "print(\"La varianza de X es :{}\".format(var))"
   ]
  },
  {
   "cell_type": "markdown",
   "metadata": {},
   "source": [
    "# La desviación típica\n",
    "\n",
    "Es la raíz cuadrada de la varianza. Con la desviación típica volvemos a la dimensión original."
   ]
  },
  {
   "cell_type": "code",
   "execution_count": 4,
   "metadata": {},
   "outputs": [
    {
     "name": "stdout",
     "output_type": "stream",
     "text": [
      "La desviacion estandar  de X es :299943.12447669875\n"
     ]
    }
   ],
   "source": [
    "std = np.std(X)\n",
    "print(\"La desviacion estandar  de X es :{}\".format(std))"
   ]
  },
  {
   "cell_type": "markdown",
   "metadata": {},
   "source": [
    "# COEFICIENTE DE VARIACION\n",
    "\n",
    "El coeficiente de variación, también denominado como coeficiente de variación de Spearman, es una medida estadística que nos informa acerca de la **dispersión relativa de un conjunto de datos**. Su cálculo se obtiene de **dividir la desviación típica entre el valor absoluto de la media del conjunto** y por lo general se expresa en porcentaje para su mejor comprensión.El coeficiente de variación **nos permite tener una medida de dispersión que elimine las posibles distorsiones de las medias de dos o más poblaciones.**"
   ]
  },
  {
   "cell_type": "code",
   "execution_count": 9,
   "metadata": {},
   "outputs": [
    {
     "data": {
      "text/plain": [
       "64.73699616942203"
      ]
     },
     "execution_count": 9,
     "metadata": {},
     "output_type": "execute_result"
    }
   ],
   "source": [
    "coef = std/mean*100\n",
    "coef"
   ]
  },
  {
   "cell_type": "code",
   "execution_count": null,
   "metadata": {},
   "outputs": [],
   "source": []
  }
 ],
 "metadata": {
  "kernelspec": {
   "display_name": "Python 3",
   "language": "python",
   "name": "python3"
  },
  "language_info": {
   "codemirror_mode": {
    "name": "ipython",
    "version": 3
   },
   "file_extension": ".py",
   "mimetype": "text/x-python",
   "name": "python",
   "nbconvert_exporter": "python",
   "pygments_lexer": "ipython3",
   "version": "3.7.3"
  }
 },
 "nbformat": 4,
 "nbformat_minor": 2
}
