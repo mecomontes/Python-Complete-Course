{
 "cells": [
  {
   "cell_type": "markdown",
   "metadata": {},
   "source": [
    "# Poblacion\n",
    "\n",
    "\n",
    "## DEF:\n",
    "\n",
    "Una poblacion es un conjunto de personas u objetos en general , de los cuales nos interesa estudiar alguna de sus caracteristicas.\n",
    "\n",
    "En estadística una población es un conjunto de seres, individuos, objetos , elementos o eventos con determinadas características.\n",
    "\n",
    "Cabe mencionar quela palabra poblacion no tiene necesariamente el mismo significado como en el lenguaje comun , como en la \"poblacion de determinada ciudad es de 190 000\".La palabra poblacion se utiliza para denotar las observaciones o medidas y no los individuos u objeos.La poblacion puede ser **finita** o **infinita** .\n"
   ]
  },
  {
   "cell_type": "markdown",
   "metadata": {},
   "source": [
    "## Muestra\n",
    "\n",
    "Una muestra estadística es un subconjunto de datos perteneciente a una población de datos. Estadísticamente hablando, debe estar constituido por un cierto número de observaciones que representen adecuadamente el total de los datos.\n",
    "\n",
    "Podemos definir una muestra como cualquier subconjunto d euna poblaciona analzar.\n",
    "\n",
    "Al numero de elemento de la muestra se le llama **tamaño de la muestra** y usaremos la letra **\"n\"** pra denotarlo.\n",
    "\n",
    "En general las muestras no son arbitraria, se toman al azar con el fin de ser \"repreentativas de la poblacion\".\n",
    "\n",
    "# Características de una muestra estadística representativa\n",
    "\n",
    "Si se quiere hacer una buena investigación, la calidad de la muestra estadística es esencial. De nada sirve realizar las métricas estadísticas más complejas con los modelos más sofisticados si la muestra estadística está sesgada. Es decir, si la muestra no es representativa.\n",
    "\n",
    "A la hora de obtener una muestra representativa existen ciertos aspectos que el investigador debe conocer de antemano. Entre esos aspectos se encuentran las características de una muestra representativa. Las características de una muestra representativa son las siguientes:\n",
    "\n",
    "# # Tamaño suficientemente grande:\n",
    "\n",
    "Cuando trabajamos con muestras estamos, normalmente, trabajando con una cantidad de datos inferior a la población. Ahora bien, para que una muestra estadística sea representativa deberá ser lo suficientemente grande como para considerarse representativa. Por ejemplo, si nuestra población está formada por 10 millones de datos y escogemos 10, es difícil que sea representativa. Eso sí, no siempre a mayor tamaño la muestra es más representativa.\n",
    "\n",
    "\n",
    "# # Aleatoriedad: \n",
    "\n",
    "La selección de los datos de una muestra estadística debe ser aleatoria. Es decir, debe ser totalmente al azar. Si en lugar de realizarlo al azar, realizamos un proceso de selección de datos planificado, estamos introduciendo un sesgo a la obtención de datos. Por tanto, para evitar que la muestra sea sesgada y, por tanto, conseguir que sea una muestra representativa, debemos hacer una selección aleatoria.\n",
    "\n",
    "\n",
    "\n",
    "\n"
   ]
  },
  {
   "cell_type": "code",
   "execution_count": null,
   "metadata": {},
   "outputs": [],
   "source": []
  }
 ],
 "metadata": {
  "kernelspec": {
   "display_name": "Python 3",
   "language": "python",
   "name": "python3"
  },
  "language_info": {
   "codemirror_mode": {
    "name": "ipython",
    "version": 3
   },
   "file_extension": ".py",
   "mimetype": "text/x-python",
   "name": "python",
   "nbconvert_exporter": "python",
   "pygments_lexer": "ipython3",
   "version": "3.7.3"
  }
 },
 "nbformat": 4,
 "nbformat_minor": 2
}
