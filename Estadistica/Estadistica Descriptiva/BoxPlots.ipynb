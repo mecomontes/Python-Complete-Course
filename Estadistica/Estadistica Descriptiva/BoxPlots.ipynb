{
 "cells": [
  {
   "cell_type": "markdown",
   "metadata": {},
   "source": [
    "# Diagrama de caja y bigotes "
   ]
  },
  {
   "cell_type": "code",
   "execution_count": 17,
   "metadata": {},
   "outputs": [],
   "source": [
    "import numpy as np\n",
    "import matplotlib.pyplot as plt\n",
    "import seaborn as sb"
   ]
  },
  {
   "cell_type": "code",
   "execution_count": 22,
   "metadata": {},
   "outputs": [],
   "source": [
    "#Usamos la semilla del curso para obtener la misma informacion\n",
    "planetas = sb.load_dataset('planets')\n",
    "new = planetas.groupby('method')['year']\n",
    "np.random.seed(19880519)"
   ]
  },
  {
   "cell_type": "code",
   "execution_count": 4,
   "metadata": {},
   "outputs": [],
   "source": [
    "#Creamos las distribuciones\n",
    "dist1 = 100*np.random.rand(50)\n",
    "dist2 = 50*np.ones(25)\n",
    "#Colas de dispercion\n",
    "dist3 = 100+100*np.random.rand(10)\n",
    "dist4 = -100*np.random.rand(10)\n",
    "#Concatenamos los datos  con numpy\n",
    "data = np.concatenate((dist1,dist2,dist3,dist4))"
   ]
  },
  {
   "cell_type": "code",
   "execution_count": 24,
   "metadata": {},
   "outputs": [
    {
     "data": {
      "text/plain": [
       "{'whiskers': [<matplotlib.lines.Line2D at 0x11e7c76d8>,\n",
       "  <matplotlib.lines.Line2D at 0x11e7c7a90>],\n",
       " 'caps': [<matplotlib.lines.Line2D at 0x11e7c7dd8>,\n",
       "  <matplotlib.lines.Line2D at 0x11e7c7eb8>],\n",
       " 'boxes': [<matplotlib.lines.Line2D at 0x11e7c72e8>],\n",
       " 'medians': [<matplotlib.lines.Line2D at 0x11e7d14a8>],\n",
       " 'fliers': [<matplotlib.lines.Line2D at 0x11e7d17f0>],\n",
       " 'means': []}"
      ]
     },
     "execution_count": 24,
     "metadata": {},
     "output_type": "execute_result"
    },
    {
     "data": {
      "image/png": "[encoded data removed]",
      "text/plain": [
       "<Figure size 432x288 with 1 Axes>"
      ]
     },
     "metadata": {
      "needs_background": "light"
     },
     "output_type": "display_data"
    }
   ],
   "source": [
    "fig1,ax1 = plt.subplots()\n",
    "ax1.set_title(\"Boxplot Basico\")\n",
    "ax1.boxplot(data)"
   ]
  },
  {
   "cell_type": "code",
   "execution_count": 6,
   "metadata": {},
   "outputs": [
    {
     "data": {
      "text/plain": [
       "{'whiskers': [<matplotlib.lines.Line2D at 0x1131f4978>,\n",
       "  <matplotlib.lines.Line2D at 0x1131f4d30>],\n",
       " 'caps': [<matplotlib.lines.Line2D at 0x1131f4e10>,\n",
       "  <matplotlib.lines.Line2D at 0x1131ff400>],\n",
       " 'boxes': [<matplotlib.lines.Line2D at 0x1131f4588>],\n",
       " 'medians': [<matplotlib.lines.Line2D at 0x1131ff748>],\n",
       " 'fliers': [<matplotlib.lines.Line2D at 0x1131ffa90>],\n",
       " 'means': []}"
      ]
     },
     "execution_count": 6,
     "metadata": {},
     "output_type": "execute_result"
    },
    {
     "data": {
      "image/png": "[encoded data removed]",
      "text/plain": [
       "<Figure size 432x288 with 1 Axes>"
      ]
     },
     "metadata": {
      "needs_background": "light"
     },
     "output_type": "display_data"
    }
   ],
   "source": [
    "fig2,ax2 = plt.subplots()\n",
    "ax2.set_title(\"Boxplot con muescas\")\n",
    "ax2.boxplot(data,notch = True)"
   ]
  },
  {
   "cell_type": "code",
   "execution_count": 10,
   "metadata": {},
   "outputs": [
    {
     "data": {
      "text/plain": [
       "{'whiskers': [<matplotlib.lines.Line2D at 0x113614978>,\n",
       "  <matplotlib.lines.Line2D at 0x113614d30>],\n",
       " 'caps': [<matplotlib.lines.Line2D at 0x113614e10>,\n",
       "  <matplotlib.lines.Line2D at 0x11361e400>],\n",
       " 'boxes': [<matplotlib.lines.Line2D at 0x113614588>],\n",
       " 'medians': [<matplotlib.lines.Line2D at 0x11361e748>],\n",
       " 'fliers': [<matplotlib.lines.Line2D at 0x11361ea90>],\n",
       " 'means': []}"
      ]
     },
     "execution_count": 10,
     "metadata": {},
     "output_type": "execute_result"
    },
    {
     "data": {
      "image/png": "[encoded data removed]",
      "text/plain": [
       "<Figure size 432x288 with 1 Axes>"
      ]
     },
     "metadata": {
      "needs_background": "light"
     },
     "output_type": "display_data"
    }
   ],
   "source": [
    "green_diamond = dict(markerfacecolor=\"r\",marker=\"D\")\n",
    "fig3,ax3 = plt.subplots()\n",
    "ax3.set_title(\"Boxplot con outliers personalizados\")\n",
    "ax3.boxplot(data, flierprops=green_diamond)"
   ]
  },
  {
   "cell_type": "code",
   "execution_count": 11,
   "metadata": {},
   "outputs": [
    {
     "data": {
      "text/plain": [
       "{'whiskers': [<matplotlib.lines.Line2D at 0x11375a7f0>,\n",
       "  <matplotlib.lines.Line2D at 0x11375aba8>],\n",
       " 'caps': [<matplotlib.lines.Line2D at 0x11375aef0>,\n",
       "  <matplotlib.lines.Line2D at 0x11375afd0>],\n",
       " 'boxes': [<matplotlib.lines.Line2D at 0x11375a400>],\n",
       " 'medians': [<matplotlib.lines.Line2D at 0x1137655c0>],\n",
       " 'fliers': [],\n",
       " 'means': []}"
      ]
     },
     "execution_count": 11,
     "metadata": {},
     "output_type": "execute_result"
    },
    {
     "data": {
      "image/png": "[encoded data removed]",
      "text/plain": [
       "<Figure size 432x288 with 1 Axes>"
      ]
     },
     "metadata": {
      "needs_background": "light"
     },
     "output_type": "display_data"
    }
   ],
   "source": [
    "fig4,ax4 = plt.subplots()\n",
    "ax4.set_title(\"Boxplot sin outliers\")\n",
    "ax4.boxplot(data,showfliers = False)"
   ]
  },
  {
   "cell_type": "code",
   "execution_count": 16,
   "metadata": {},
   "outputs": [
    {
     "data": {
      "text/plain": [
       "{'whiskers': [<matplotlib.lines.Line2D at 0x113cb6320>,\n",
       "  <matplotlib.lines.Line2D at 0x113cb66d8>],\n",
       " 'caps': [<matplotlib.lines.Line2D at 0x113cb6a20>,\n",
       "  <matplotlib.lines.Line2D at 0x113cb6d68>],\n",
       " 'boxes': [<matplotlib.lines.Line2D at 0x113ca9ef0>],\n",
       " 'medians': [<matplotlib.lines.Line2D at 0x113cb6e48>],\n",
       " 'fliers': [<matplotlib.lines.Line2D at 0x113cc0438>],\n",
       " 'means': []}"
      ]
     },
     "execution_count": 16,
     "metadata": {},
     "output_type": "execute_result"
    },
    {
     "data": {
      "image/png": "[encoded data removed]",
      "text/plain": [
       "<Figure size 432x288 with 1 Axes>"
      ]
     },
     "metadata": {
      "needs_background": "light"
     },
     "output_type": "display_data"
    }
   ],
   "source": [
    "pink_square = dict(markerfacecolor=\"pink\",marker=\"s\")\n",
    "fig5,ax5 = plt.subplots()\n",
    "ax5.set_title(\"Boxplot personalizado\")\n",
    "ax5.boxplot(data,vert=False,flierprops = pink_square,whis=1.7)"
   ]
  },
  {
   "cell_type": "code",
   "execution_count": 25,
   "metadata": {},
   "outputs": [],
   "source": [
    "dist1 = 100*np.random.rand(50)\n",
    "dist2 = 40*np.ones(25)\n",
    "#Colas de dispercion\n",
    "dist3 = 100+100*np.random.rand(10)\n",
    "dist4 = -90*np.random.rand(10)\n",
    "#Concatenamos los datos  con numpy\n",
    "data2 = np.concatenate((dist1,dist2,dist3,dist4))"
   ]
  },
  {
   "cell_type": "code",
   "execution_count": 26,
   "metadata": {},
   "outputs": [],
   "source": [
    "data.shape = (-1,1)\n",
    "data2.shape = (-1,1)"
   ]
  },
  {
   "cell_type": "code",
   "execution_count": 29,
   "metadata": {
    "collapsed": true
   },
   "outputs": [
    {
     "data": {
      "text/plain": [
       "[array([[ 95.01724869],\n",
       "        [ 69.12380733],\n",
       "        [  0.48968187],\n",
       "        [ 47.05894682],\n",
       "        [  4.67473068],\n",
       "        [ 40.67623396],\n",
       "        [ 64.21756915],\n",
       "        [ 80.53317201],\n",
       "        [ 84.53778094],\n",
       "        [ 76.21458325],\n",
       "        [ 28.2380596 ],\n",
       "        [ 54.32356712],\n",
       "        [ 21.16504806],\n",
       "        [ 52.59957334],\n",
       "        [ 65.78326666],\n",
       "        [ 54.08796086],\n",
       "        [ 65.67253313],\n",
       "        [ 51.64959973],\n",
       "        [  9.65024989],\n",
       "        [ 26.83019698],\n",
       "        [ 14.21042473],\n",
       "        [ 13.33719378],\n",
       "        [ 18.38719552],\n",
       "        [ 13.45049344],\n",
       "        [ 97.07057711],\n",
       "        [ 18.73437919],\n",
       "        [ 39.92258068],\n",
       "        [ 12.73583334],\n",
       "        [ 34.15880868],\n",
       "        [ 27.34334446],\n",
       "        [ 63.40891363],\n",
       "        [ 36.87074717],\n",
       "        [ 33.79820623],\n",
       "        [ 21.86138707],\n",
       "        [ 17.0335533 ],\n",
       "        [ 38.27908563],\n",
       "        [  4.80311074],\n",
       "        [ 36.92550198],\n",
       "        [ 51.52779024],\n",
       "        [ 97.34127621],\n",
       "        [ 32.06991078],\n",
       "        [ 64.89984571],\n",
       "        [ 59.66134846],\n",
       "        [ 48.30605468],\n",
       "        [  0.8439178 ],\n",
       "        [ 37.71842933],\n",
       "        [ 88.4417325 ],\n",
       "        [ 72.57061663],\n",
       "        [ 90.17827533],\n",
       "        [ 21.40222012],\n",
       "        [ 50.        ],\n",
       "        [ 50.        ],\n",
       "        [ 50.        ],\n",
       "        [ 50.        ],\n",
       "        [ 50.        ],\n",
       "        [ 50.        ],\n",
       "        [ 50.        ],\n",
       "        [ 50.        ],\n",
       "        [ 50.        ],\n",
       "        [ 50.        ],\n",
       "        [ 50.        ],\n",
       "        [ 50.        ],\n",
       "        [ 50.        ],\n",
       "        [ 50.        ],\n",
       "        [ 50.        ],\n",
       "        [ 50.        ],\n",
       "        [ 50.        ],\n",
       "        [ 50.        ],\n",
       "        [ 50.        ],\n",
       "        [ 50.        ],\n",
       "        [ 50.        ],\n",
       "        [ 50.        ],\n",
       "        [ 50.        ],\n",
       "        [ 50.        ],\n",
       "        [ 50.        ],\n",
       "        [152.12564387],\n",
       "        [159.53092968],\n",
       "        [128.24711871],\n",
       "        [161.46335708],\n",
       "        [119.74804423],\n",
       "        [123.07403083],\n",
       "        [187.28301266],\n",
       "        [108.50690613],\n",
       "        [171.37788628],\n",
       "        [138.51984808],\n",
       "        [-90.21203423],\n",
       "        [-11.21848891],\n",
       "        [-58.83305068],\n",
       "        [-20.42825891],\n",
       "        [-33.45777572],\n",
       "        [-81.12987221],\n",
       "        [-61.30977143],\n",
       "        [-78.75615113],\n",
       "        [-89.19223415],\n",
       "        [-21.69129016]]),\n",
       " array([ 95.01724869,   0.48968187,   4.67473068,  64.21756915,\n",
       "         84.53778094,  28.2380596 ,  21.16504806,  65.78326666,\n",
       "         65.67253313,   9.65024989,  14.21042473,  18.38719552,\n",
       "         97.07057711,  39.92258068,  34.15880868,  63.40891363,\n",
       "         33.79820623,  17.0335533 ,   4.80311074,  51.52779024,\n",
       "         32.06991078,  59.66134846,   0.8439178 ,  88.4417325 ,\n",
       "         90.17827533,  40.        ,  40.        ,  40.        ,\n",
       "         40.        ,  40.        ,  40.        ,  40.        ,\n",
       "         40.        ,  40.        ,  40.        ,  40.        ,\n",
       "         40.        ,  40.        , 159.53092968, 161.46335708,\n",
       "        123.07403083, 108.50690613, 138.51984808, -10.09664002,\n",
       "        -18.38543301, -73.01688499, -70.88053601, -19.52216115])]"
      ]
     },
     "execution_count": 29,
     "metadata": {},
     "output_type": "execute_result"
    }
   ],
   "source": [
    "fulldata = [data,data2[::2,0]]\n",
    "fulldata"
   ]
  },
  {
   "cell_type": "code",
   "execution_count": 30,
   "metadata": {},
   "outputs": [
    {
     "data": {
      "text/plain": [
       "{'whiskers': [<matplotlib.lines.Line2D at 0x11e6ec9b0>,\n",
       "  <matplotlib.lines.Line2D at 0x11e6ecd68>,\n",
       "  <matplotlib.lines.Line2D at 0x11e6f3ef0>,\n",
       "  <matplotlib.lines.Line2D at 0x11e7014e0>],\n",
       " 'caps': [<matplotlib.lines.Line2D at 0x11e6ece48>,\n",
       "  <matplotlib.lines.Line2D at 0x11e6f3438>,\n",
       "  <matplotlib.lines.Line2D at 0x11e701828>,\n",
       "  <matplotlib.lines.Line2D at 0x11e701b70>],\n",
       " 'boxes': [<matplotlib.lines.Line2D at 0x11e774dd8>,\n",
       "  <matplotlib.lines.Line2D at 0x11e6f3e10>],\n",
       " 'medians': [<matplotlib.lines.Line2D at 0x11e6f3780>,\n",
       "  <matplotlib.lines.Line2D at 0x11e701eb8>],\n",
       " 'fliers': [<matplotlib.lines.Line2D at 0x11e6f3ac8>,\n",
       "  <matplotlib.lines.Line2D at 0x11e701f98>],\n",
       " 'means': []}"
      ]
     },
     "execution_count": 30,
     "metadata": {},
     "output_type": "execute_result"
    },
    {
     "data": {
      "image/png": "[encoded data removed]",
      "text/plain": [
       "<Figure size 432x288 with 1 Axes>"
      ]
     },
     "metadata": {
      "needs_background": "light"
     },
     "output_type": "display_data"
    }
   ],
   "source": [
    "fig7,axis7= plt.subplots()\n",
    "axis7.set_title(\"Muestras de diferente natiralez\")\n",
    "axis7.boxplot(fulldata)"
   ]
  },
  {
   "cell_type": "code",
   "execution_count": null,
   "metadata": {},
   "outputs": [],
   "source": []
  }
 ],
 "metadata": {
  "kernelspec": {
   "display_name": "Python 3",
   "language": "python",
   "name": "python3"
  },
  "language_info": {
   "codemirror_mode": {
    "name": "ipython",
    "version": 3
   },
   "file_extension": ".py",
   "mimetype": "text/x-python",
   "name": "python",
   "nbconvert_exporter": "python",
   "pygments_lexer": "ipython3",
   "version": "3.7.3"
  }
 },
 "nbformat": 4,
 "nbformat_minor": 2
}
