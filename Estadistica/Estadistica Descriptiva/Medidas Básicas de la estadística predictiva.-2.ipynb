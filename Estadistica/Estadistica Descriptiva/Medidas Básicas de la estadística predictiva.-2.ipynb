{
 "cells": [
  {
   "cell_type": "markdown",
   "metadata": {},
   "source": [
    "# Medidas Básicas de la estadística predictiva.\n"
   ]
  },
  {
   "cell_type": "markdown",
   "metadata": {},
   "source": [
    "Habitualmente necesitamos disponer de un valor numérico que represente la disparidad de datos de una distribución de frecuencias. Estos valores son los llamados parámetros centrales o medidas de centralización, ya que son valores \"intermedios\" que se situan alrededor del centro de la distribución.\n",
    "Se trata de la **media, la moda y la mediana** ."
   ]
  },
  {
   "cell_type": "markdown",
   "metadata": {},
   "source": [
    "# La media aritmética\n",
    "\n",
    "Para calcular la media se **suman** todos los valores de los datos y se **divide** por el número total.\n",
    "\n",
    "Cuando los datos se repiten, es más fácil formar la tabla de frecuencias y sumar los productos de cada valor por las veces que se repite, después dividimos por el nº total de datos."
   ]
  },
  {
   "cell_type": "code",
   "execution_count": 7,
   "metadata": {},
   "outputs": [],
   "source": [
    "import numpy as np\n",
    "from scipy import stats\n",
    "import matplotlib.pyplot as plt # importando matplotlib\n",
    "# Graficos embebidos.\n",
    "%matplotlib inline "
   ]
  },
  {
   "cell_type": "code",
   "execution_count": 42,
   "metadata": {},
   "outputs": [
    {
     "data": {
      "text/plain": [
       "array([ 5, 27,  0, ..., 57, 58, 32])"
      ]
     },
     "execution_count": 42,
     "metadata": {},
     "output_type": "execute_result"
    }
   ],
   "source": [
    "edad= np.random.randint(0,90,size = 40000)\n",
    "edad"
   ]
  },
  {
   "cell_type": "code",
   "execution_count": 43,
   "metadata": {},
   "outputs": [
    {
     "name": "stdout",
     "output_type": "stream",
     "text": [
      "Podemos observar que la media de nuestro conjunto de datos edad es 44.51175 , con la funcion .mean lo podemos calcular sin necesidad de hacer todas las operaciones\n"
     ]
    }
   ],
   "source": [
    "media = edad.mean()\n",
    "print(\"Podemos observar que la media de nuestro conjunto de datos edad es {} , con la funcion .mean lo podemos calcular sin necesidad de hacer todas las operaciones\".format(media))"
   ]
  },
  {
   "cell_type": "markdown",
   "metadata": {},
   "source": [
    "# La mediana\n",
    "\n",
    "Suponiendo que todos los datos están ordenados la mediana es el valor que ocupa la posición central, de modo que la mitad de los datos son menores y la otra mitad son mayores.\n",
    "\n",
    "Cuando la variable es discreta la mediana es el primer valor cuya frecuencia acumulada es mayor que **n/2.**\n",
    "\n",
    "Cuando los datos están agrupados, buscaremos la clase mediana que es la que su frecuencia absoluta acumulada sobrepasa la mitad de los datos (n/2)."
   ]
  },
  {
   "cell_type": "code",
   "execution_count": 46,
   "metadata": {},
   "outputs": [
    {
     "data": {
      "text/plain": [
       "45.0"
      ]
     },
     "execution_count": 46,
     "metadata": {},
     "output_type": "execute_result"
    }
   ],
   "source": [
    "mediana = np.median(edad)\n",
    "mediana"
   ]
  },
  {
   "cell_type": "markdown",
   "metadata": {},
   "source": [
    "# La moda\n",
    "\n",
    "\n",
    "La moda de una variable estadística es el **valor más repetido**, el que tiene mayor frecuencia absoluta.\n",
    "\n",
    "Si la variable es discreta se busca el valor de mayor frecuencia.\n",
    "Si los datos están agrupados, la clase de mayor frecuencia se llama clase modal."
   ]
  },
  {
   "cell_type": "code",
   "execution_count": 44,
   "metadata": {},
   "outputs": [
    {
     "data": {
      "text/plain": [
       "ModeResult(mode=array([53]), count=array([502]))"
      ]
     },
     "execution_count": 44,
     "metadata": {},
     "output_type": "execute_result"
    }
   ],
   "source": [
    "moda = stats.mode(edad)\n",
    "moda"
   ]
  },
  {
   "cell_type": "markdown",
   "metadata": {},
   "source": [
    "Podemos observar que en el conjunto de datos obtenidos la moda es 53 & aparece 502 veces en nuestro conjunto de datos."
   ]
  },
  {
   "cell_type": "markdown",
   "metadata": {},
   "source": [
    "# CUANTILES\n",
    "\n",
    "Consideremos  que x1, . . . , xn es un conjunto de n observaciones de una cierta variable cuantitativa de interés, y que estos valores se ordenan de menor a mayor, conservando las repeticiones. Un cuantil es un **número que separa a los datos en dos partes:** un cierto porcentaje de los datos son menores o iguales al cuantil y el porcentaje complementario corresponde a datos que son mayores o iguales al cuantil.\n",
    "\n",
    "Estos sirven par entender como es la distribucion de un conjunto de datos numericos.\n",
    "\n",
    "## TIPOS :\n",
    "\n",
    "Cuando **P “ 0.25,0.50 ó 0.75**, a los cuantiles correspondientes se le llama **CUARTILES**, y se usan las expresiones: primer cuartil, segundo cuartil y tercer cuartil, respectivamente.\n",
    "\n",
    "Cuando **P “ 0.1,0.2,...,0.9**, a los cuantiles correspondientes se les llama **DECILES**. Podemos referirnos al primer decil de un conjunto de datos, al segundo decil, etcétera."
   ]
  },
  {
   "cell_type": "markdown",
   "metadata": {},
   "source": [
    "# Percentil- (Cuantil al 100P%)\n",
    "\n",
    "El percentil es una medida de posición usada en estadística que indica, una vez ordenados los datos de menor a mayor, el **valor de la variable** por debajo del cual se encuentra un porcentaje dado de observaciones en un grupo.\n",
    "\n",
    "En otras ocasiones se requiere dividir al conjunto de datos en **cien porcentajes iguales** y entonces cuando **P “ 0.01,0.02,...,0.99** a los cuantiles correspondientes se les llama **PERCENTILES**."
   ]
  },
  {
   "cell_type": "code",
   "execution_count": 48,
   "metadata": {},
   "outputs": [
    {
     "data": {
      "text/plain": [
       "80.0"
      ]
     },
     "execution_count": 48,
     "metadata": {},
     "output_type": "execute_result"
    }
   ],
   "source": [
    "percentil = np.percentile(edad,90)\n",
    "percentil"
   ]
  },
  {
   "cell_type": "markdown",
   "metadata": {},
   "source": [
    "# Cuartiles y diagramas de cajas\n",
    "\n",
    "Los cuartiles son los **tres valores de la variable estadística que dividen a un conjunto de datos ordenados en cuatro partes iguales**. Q1, Q2 y Q3 determinan los valores correspondientes al **25%, al 50% y al 75%** de los datos. **Q2 coincide con la mediana.\n",
    "\n",
    "Los **diagramas de cajas** son una presentación visual que describe varias características importantes al mismo tiempo, tales como la dispersión y simetría. Para su realización se representan los tres cuartiles y los valores mínimo y máximo de los datos, sobre un rectángulo, alineado horizontal o verticalmente. Estos gráficos nos proporcionan abundante información y son sumamente útiles para encontrar valores atípicos y comparar dos conjunto de datos."
   ]
  },
  {
   "cell_type": "code",
   "execution_count": 5,
   "metadata": {},
   "outputs": [
    {
     "data": {
      "image/png": "[encoded data removed]",
      "text/plain": [
       "<Figure size 648x432 with 1 Axes>"
      ]
     },
     "metadata": {
      "needs_background": "light"
     },
     "output_type": "display_data"
    }
   ],
   "source": [
    "# Ejemplo de grafico de cajas en python\n",
    "\n",
    "datos_1 = np.random.normal(100, 10, 200)\n",
    "datos_2 = np.random.normal(80, 30, 200)\n",
    "datos_3 = np.random.normal(90, 20, 200)\n",
    "datos_4 = np.random.normal(70, 25, 200)\n",
    "\n",
    "datos_graf = [datos_1, datos_2, datos_3, datos_4]\n",
    "\n",
    "# Creando el objeto figura\n",
    "fig = plt.figure(1, figsize=(9, 6))\n",
    "\n",
    "# Creando el subgrafico\n",
    "ax = fig.add_subplot(111)\n",
    "\n",
    "# creando el grafico de cajas\n",
    "bp = ax.boxplot(datos_graf)\n",
    "\n",
    "# visualizar mas facile los atípicos\n",
    "for flier in bp['fliers']:\n",
    "    flier.set(marker='o', color='red', alpha=0.5)\n",
    "# los puntos aislados son valores atípicos"
   ]
  },
  {
   "cell_type": "code",
   "execution_count": null,
   "metadata": {},
   "outputs": [],
   "source": []
  },
  {
   "cell_type": "code",
   "execution_count": null,
   "metadata": {},
   "outputs": [],
   "source": []
  }
 ],
 "metadata": {
  "kernelspec": {
   "display_name": "Python 3",
   "language": "python",
   "name": "python3"
  },
  "language_info": {
   "codemirror_mode": {
    "name": "ipython",
    "version": 3
   },
   "file_extension": ".py",
   "mimetype": "text/x-python",
   "name": "python",
   "nbconvert_exporter": "python",
   "pygments_lexer": "ipython3",
   "version": "3.7.3"
  }
 },
 "nbformat": 4,
 "nbformat_minor": 2
}
