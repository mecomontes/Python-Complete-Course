{
 "cells": [
  {
   "cell_type": "markdown",
   "metadata": {},
   "source": [
    "# CUANTO DINERO TENGO DESPUES DE X AÑOS"
   ]
  },
  {
   "cell_type": "code",
   "execution_count": null,
   "metadata": {},
   "outputs": [],
   "source": [
    "import numpy as np\n",
    "import matplotlib.pyplot as plt"
   ]
  },
  {
   "cell_type": "code",
   "execution_count": null,
   "metadata": {},
   "outputs": [],
   "source": [
    "#Definimos funcion\n",
    "def interes(cantidad,tasa,tiempo,periodo):\n",
    "    pot=tiempo*periodo\n",
    "    a=cantidad*pow((1+tasa/periodo),pot)\n",
    "    return a"
   ]
  },
  {
   "cell_type": "code",
   "execution_count": null,
   "metadata": {},
   "outputs": [],
   "source": [
    "#Definimos los valores\n",
    "cantidad=17600\n",
    "tasa=0.045\n",
    "periodo=2\n",
    "tiempo=1"
   ]
  },
  {
   "cell_type": "code",
   "execution_count": null,
   "metadata": {},
   "outputs": [],
   "source": [
    "print(interes(cantidad,tasa,tiempo,periodo))"
   ]
  },
  {
   "cell_type": "code",
   "execution_count": null,
   "metadata": {},
   "outputs": [],
   "source": [
    "n=int(input(\"¿Cuantos años quieres calcular?\"))\n",
    "x=np.zeros(n)\n",
    "y=np.zeros(n)\n",
    "tiempo=0\n",
    "\n",
    "\n",
    "for i in range(0,n):\n",
    "    tiempo=tiempo+1\n",
    "    x[i]=tiempo\n",
    "    y[i]=interes(cantidad,tasa,tiempo,periodo)\n",
    " \n",
    "plt.scatter(x,y,color='pink')\n",
    "    "
   ]
  },
  {
   "cell_type": "code",
   "execution_count": null,
   "metadata": {},
   "outputs": [],
   "source": []
  }
 ],
 "metadata": {
  "kernelspec": {
   "display_name": "Python 3",
   "language": "python",
   "name": "python3"
  },
  "language_info": {
   "codemirror_mode": {
    "name": "ipython",
    "version": 3
   },
   "file_extension": ".py",
   "mimetype": "text/x-python",
   "name": "python",
   "nbconvert_exporter": "python",
   "pygments_lexer": "ipython3",
   "version": "3.7.3"
  }
 },
 "nbformat": 4,
 "nbformat_minor": 2
}
