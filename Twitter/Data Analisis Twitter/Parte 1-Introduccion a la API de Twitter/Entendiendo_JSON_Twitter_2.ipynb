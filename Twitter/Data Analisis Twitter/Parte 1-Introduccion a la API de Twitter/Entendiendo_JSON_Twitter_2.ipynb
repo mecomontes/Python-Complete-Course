{
  "nbformat": 4,
  "nbformat_minor": 0,
  "metadata": {
    "colab": {
      "name": "Entendiendo_JSON_Twitter_2.ipynb",
      "provenance": [],
      "collapsed_sections": []
    },
    "kernelspec": {
      "name": "python3",
      "display_name": "Python 3"
    }
  },
  "cells": [
    {
      "cell_type": "markdown",
      "metadata": {
        "id": "gEVZlIP3CHIJ",
        "colab_type": "text"
      },
      "source": [
        "# Entendinedo el formato de los datos.\n",
        "\n",
        "Ahora que sabemos como recppilar algunos datos de Twitter, profundicemos en la estructura de los datos, en los ejemplos de estos cuadernos la información se devuelve en JavaScript Object Notation o bien JSON.\n",
        "\n",
        "JSON es un formato de datos especial que es legible por humanos y se transfiere fácilmente entre máquinas, también esta estructurado de manera similar a los objetos de Python y está compuesto por una combinación de diccionarios y listas.\n",
        "\n",
        "Comprender el JSON de twitter es fundamental para saber cómo analizar los datos de Twitter.Hay muchos datos en un solo JSON de Twitter. \n",
        "\n",
        "Por ejemplo en un solo yweet original , es decir un tweet que no es un retweet o una cita, tiene información fundamental como el texto, cuándo se creó y la ID de tweet unica.\n",
        "\n",
        "También tiene información como cuántos retweets o favoritos tiene en el momento de recoleccion , en que idioma esta, si es una respuesta a un tweet y a qué tweet y usuario.\n",
        "\n",
        "![](https://www.annehelmond.nl/wordpress/wp-content/uploads/2012/12/Screen-Shot-2012-12-20-at-2.08.12-PM.png)\n",
        "\n",
        "Mas importante aún el JSON de twitter contiene varios objetos JSON secundarios importantes, estos son diccionarios almacenados en otros diccionarios.\n",
        "\n",
        "Los mas importantes que veremos aqui seran:\n",
        "*  `user` - Contiene toda la información útil que nos gustaria saber sobre el usuario que tuiteó ,incluyendo su nombre, su ID de twitter , su ubicacio1n y si estan verificados.\n",
        "\n",
        "* `place` - Contiene información sobre la geolocalización del tweet\n",
        "\n",
        "* `extended_tweet` - Contiene el texto completo de un tweet que tiene mas de 140 caracteres de longitud.\n",
        "\n",
        "Cuando un tweet es un retweet o contiene un tweet citado , todo ese tweet estará contenido en el JSON de twitter.\n",
        "\n",
        "Para retweets , ese tweet se almacenara en `retweeted_statud` & para un tweet citado en `quoted_sattus`.\n",
        "\n",
        "Para poder abrir un archivo json de twitter se utiliza el método `open()` y `read()` para cargar el archivo JSON en un solo objeto.\n",
        "\n",
        "También se usara el paquete json y el metodo `json.load` para convertir el JSON en un diccionario de Python.\n",
        "\n",
        "Se puede acceder al JSON twitter secundario como diccionarios anidados.\n",
        "\n",
        "A continuacio1n veremos como cargar un JSON twitter e python:\n",
        "\n",
        "\n"
      ]
    }
  ]
}