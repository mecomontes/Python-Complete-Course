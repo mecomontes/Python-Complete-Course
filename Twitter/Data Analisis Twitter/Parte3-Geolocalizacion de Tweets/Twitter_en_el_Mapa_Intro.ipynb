{
  "nbformat": 4,
  "nbformat_minor": 0,
  "metadata": {
    "colab": {
      "name": "Twitter_en_el_Mapa.ipynb",
      "provenance": [],
      "collapsed_sections": []
    },
    "kernelspec": {
      "name": "python3",
      "display_name": "Python 3"
    }
  },
  "cells": [
    {
      "cell_type": "markdown",
      "metadata": {
        "id": "RjEyepslCrrf",
        "colab_type": "text"
      },
      "source": [
        "# Mapas & datos de Twitter.\n",
        "\n",
        "En esta sección , vamos a trabajar con los datos geográficos de Twitter, aprenderemos como extraer coordenadas geográficas del JSON de Twitter y cómo poner esos datos en mapas atraes de Python.\n",
        "\n",
        "\n",
        "También veremos un poco acerca del paquete Basemap y cómo usarlo para crear mapas con los datos de Twitter, pero por que deberiamos de querer mapear datos de Twitter?\n",
        "\n",
        "Hay varias razones por las que quisiéramos poner datos de Twitter en un mapa:\n",
        "\n",
        "* Queremos entender la concentración geográfica de nuestro conjunto de datos de Twitter, si tenemos oun conjunto de datos de tweets sobre un evento ¿hay personas que teittean a los participantes? o en el evento son observadores comentando sobre el evento o la cobertura de noticias?\n",
        "\n",
        "* También podemos usar el mapeo com un medio para diferenciar entre diferentes tipos de tweets y usuarios de Twitter.Por ejemplo ¿Los cientificos tuitean más sobre R o sobre Python en Bangalore? o ¿Los fanaticos de la NBA tuitean más por los warriors o los Lakers más en California?\n",
        "\n",
        "\n",
        "Twitter obtiene datos de una unicación de varias maneras, no todos los tweets contienen datos de ubicación ya que los usuarios tienen que optar por compartir sus datos y una vez que aceptan compartir sus datos , se obtiene de su dispositivo, ya sea un smatphone , tablet o computadora.\n",
        "\n",
        "La precisión de estas ubicaciones puede variar ampliamente entre dispositivos , por lo que en general tiene mas sentido en la práctica agregar ubicaciones hasta el nivel del condado o estado.\n",
        "\n",
        "ADVERTENCIA - Aproximadamente el 1-3% contiene datos geograficos, dado lo que los usuarios de Twitter deben optar por que se recopilen sus datos de ubicación y que no todos los dispositivos tinen esta capacidad.\n",
        "\n",
        "Esto limita la generalización de las inferencias que puedes hacer apartir de datos geográficos por nosotros mismos.\n",
        "\n",
        "\n",
        "Los datos basados en la ubicación pueden adoptar varios formatos diferentes dentro del objeto JSON de twitter , donde cada uno de estos tiene diferentes niveles de precisión.\n",
        "\n",
        "En el nivel más básico e impreciso es que alguien puede mencionar su ubicación en el texto de su tweet.\n",
        "\n",
        "El segundo nivel es cuando el usuario mencionar su ubicación en su perfil de usuario.\n",
        "\n",
        "Tercero, su ubicación puede ser dada por lo que se le llma un cuadro delimitador, que es un cuadro de coordenadas geograficas dibujadas alrededor de su area general.\n",
        "\n",
        "Por ultimo , su ubicación exacta se puede determinar mediante coordenadas geográficas y puntos.\n",
        "\n",
        "### MOTIVACIÓN:\n",
        "\n",
        "Nos interesa saber cómo cambia la popularidad de nuestro producto a lo largo del tiempo en una única ubicación, el análisis. basado en ubicación es el más adecuado para esta pregunta de analisis"
      ]
    }
  ]
}