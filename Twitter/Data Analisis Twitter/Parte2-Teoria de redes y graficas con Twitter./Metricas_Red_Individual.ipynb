{
  "nbformat": 4,
  "nbformat_minor": 0,
  "metadata": {
    "colab": {
      "name": "Metricas_Red_Individual.ipynb",
      "provenance": [],
      "collapsed_sections": []
    },
    "kernelspec": {
      "name": "python3",
      "display_name": "Python 3"
    }
  },
  "cells": [
    {
      "cell_type": "markdown",
      "metadata": {
        "id": "CZsf_e8CAN6N",
        "colab_type": "text"
      },
      "source": [
        "# Metricas de una red Individual.\n",
        "\n",
        "Ahora que sabemos como cargar y visualizar datos de twitter, veamos algunas formas de analizar estos datos de forma cuantitativa.\n",
        "\n",
        "Para esta sección nos centraremos en alunas métricas de rede a nivel de nodo, digamos que nos gustaria entender quién e el usuario mas importante de la red o encontrar el grupo de ususarios más influyentes , aquellos que son las élites de la comunicación.\n",
        "\n",
        "Aquí es donde entra el concepto de centralidad, esta es una métric en el análisis de redes sociales que intenta encontrar el nodo más importante en una red determinada.\n",
        "\n",
        "Hay muchas formas diferentes de hacer esto, pero vamos a centrarnos en dos formas:\n",
        "\n",
        "* centralidad de grado :\n",
        "\n",
        "![](https://external-content.duckduckgo.com/iu/?u=https%3A%2F%2Ftse1.mm.bing.net%2Fth%3Fid%3DOIP.f0Y1reAERxyLJtydibkvGgHaFj%26pid%3DApi&f=1)\n",
        "\n",
        " Esta es la medida más simple de centralidad, es una medida de cuántos bordes están conectados a un nodo en particular.En una red dirigida , podemos descomponer aún mas en grados de entrada y salida.Recordemos que las redes de Twitter están dirigdas, lo que significa que los bordes solo van en una dirección y no son mutuos.\n",
        " - In-degree: Es el número de bordes que entran en un nodo.\n",
        "\n",
        " - Out-degree- Es el numero de bordes que salen de un nodo.\n",
        "\n",
        "Podemos pensar en esto como la cantidad de veces que alguien es retuiteado frente a la cantidad de retuits que hacen.\n",
        "\n",
        "\n",
        "* Centralidad de intermediación.\n",
        "\n",
        "![](https://external-content.duckduckgo.com/iu/?u=https%3A%2F%2Ftse1.mm.bing.net%2Fth%3Fid%3DOIP.MswpgOqaLy1h53AS8LI26QHaFj%26pid%3DApi&f=1)\n",
        "\n",
        "\n",
        "Mide cuántas rutas más cortas entre pares de nodos deben pasar por un nodo dado, pensemos en un aeropuerto , no tiene que tener muchos planos entrantes para ser importante, pero si nos concetamos a muchas partes del mundo entre si, tendriamos una alta centralidad de intermediación.\n",
        "\n",
        "Para las métricas a nivel de nodo , a menudo queremos ver que los usuarios tienen el valor mas alto para un tipo particular de centralidad.\n",
        "\n"
      ]
    },
    {
      "cell_type": "code",
      "metadata": {
        "id": "sxGmGJyZ_qEC",
        "colab_type": "code",
        "colab": {}
      },
      "source": [
        "from urllib.request import urlretrieve\n",
        "import pandas as pd\n",
        "import networkx as nx\n",
        "import matplotlib.pyplot as plt\n",
        "\n",
        "\n",
        "retweets = 'https://assets.datacamp.com/production/repositories/2161/datasets/51e79668580cdb86969c2c625172eaed2ded684a/sotu2018-rt.csv'\n",
        "urlretrieve(retweets)\n",
        "sotu_retweets = pd.read_csv(retweets)\n",
        "\n",
        "replies = 'https://assets.datacamp.com/production/repositories/2161/datasets/55860c218310485e9400997ae33aecd0e97f8b51/sotu2018-reply.csv'\n",
        "urlretrieve(replies)\n",
        "sotu_replies = pd.read_csv(replies)\n",
        "\n",
        "G_rt = nx.from_pandas_edgelist(\n",
        "    sotu_retweets,\n",
        "    source = 'user-screen_name',\n",
        "    target = 'retweeted_status-user-screen_name',\n",
        "    create_using = nx.DiGraph())\n",
        "\n",
        "G_reply = nx.from_pandas_edgelist(\n",
        "    sotu_retweets,\n",
        "    source = 'user-screen_name', \n",
        "    target = 'in_reply_to_screen_name',\n",
        "    create_using = nx.DiGraph())"
      ],
      "execution_count": 2,
      "outputs": []
    },
    {
      "cell_type": "markdown",
      "metadata": {
        "id": "15p0u59-FeBP",
        "colab_type": "text"
      },
      "source": [
        "REPASANDO:\n",
        "\n",
        "## Centralidad en grado\n",
        "\n",
        "La centralidad es una medida de la importancia de un nodo para una red. Hay muchos tipos diferentes de centralidad y cada uno de ellos tiene un significado ligeramente diferente en las redes de Twitter. En primer lugar, nos centramos en la centralidad de los grados, ya que su cálculo es sencillo y tiene una explicación intuitiva.\n",
        "\n",
        "Para redes dirigidas como Twitter, debemos tener cuidado de distinguir entre centralidad de grado interno y externo, especialmente en redes de retweet. \n",
        "\n",
        "La centralidad de grado para las redes de retweet indica a los usuarios **que están recibiendo muchos retweets.**\n",
        "\n",
        "### INSTRUCCIONES:\n",
        "\n",
        "* Calculamos la centralidad en grado para la red de retweet con `nx.in_degree_centrality()` y loguárdamos en `rt_centrality`.\n",
        "\n",
        "* Hagamos lo mismo con la red de respuesta y guárdelo en `reply_centrality`.\n",
        "\n",
        "* Pasamos los elementos (es decir, las tuplas clave-valor) de las centralidades de respuesta al constructor de DataFrame.\n",
        "\n",
        "\n",
        "* Hagamos lo mismo para la red de respuesta"
      ]
    },
    {
      "cell_type": "code",
      "metadata": {
        "id": "FvlsIUAxFG58",
        "colab_type": "code",
        "colab": {}
      },
      "source": [
        "column_names = ['screen_name', 'degree_centrality']\n",
        "# Generamos el grado de centralidad para los retweets\n",
        "rt_centrality = nx.in_degree_centrality(G_rt)\n",
        "\n",
        "# Generamos el grado de centralidad para los replies\n",
        "reply_centrality = nx.in_degree_centrality(G_reply)\n",
        "\n",
        "# Almacenamos centralidades en DataFrame\n",
        "rt = pd.DataFrame(list(rt_centrality.items()), columns = column_names)\n",
        "reply = pd.DataFrame(list(reply_centrality.items()), columns = column_names)\n",
        "\n"
      ],
      "execution_count": 9,
      "outputs": []
    },
    {
      "cell_type": "markdown",
      "metadata": {
        "id": "-k_WCbt6HJFo",
        "colab_type": "text"
      },
      "source": [
        "A continuación veremos los perfiles que sta resiviendo mas retweets y mas replies:"
      ]
    },
    {
      "cell_type": "code",
      "metadata": {
        "id": "uEBykh4HFOgl",
        "colab_type": "code",
        "colab": {
          "base_uri": "https://localhost:8080/",
          "height": 119
        },
        "outputId": "43efbe9c-0409-4cc9-b8a5-8c227df3b63e"
      },
      "source": [
        "# Imprima los primeros cinco resultados en orden descendente de centralidad\n",
        "print(rt.sort_values('degree_centrality', ascending = False).head())\n",
        "\n"
      ],
      "execution_count": 7,
      "outputs": [
        {
          "output_type": "stream",
          "text": [
            "      screen_name  degree_centrality\n",
            "84        FoxNews           0.055993\n",
            "38     WhiteHouse           0.031059\n",
            "1    ScottPresler           0.029746\n",
            "7      TomiLahren           0.019685\n",
            "175      HouseGOP           0.017060\n"
          ],
          "name": "stdout"
        }
      ]
    },
    {
      "cell_type": "code",
      "metadata": {
        "id": "oIR9wXoaGq_L",
        "colab_type": "code",
        "colab": {
          "base_uri": "https://localhost:8080/",
          "height": 119
        },
        "outputId": "8dfd9915-3c19-4d1d-be97-0aa914f9c99f"
      },
      "source": [
        "# Imprima los primeros cinco resultados en orden descendente de centralidad\n",
        "print(reply.sort_values('degree_centrality', ascending = False).head())"
      ],
      "execution_count": 8,
      "outputs": [
        {
          "output_type": "stream",
          "text": [
            "     screen_name  degree_centrality\n",
            "4297         NaN           0.000233\n",
            "3388         NaN           0.000233\n",
            "3399         NaN           0.000233\n",
            "1842         NaN           0.000233\n",
            "1844         NaN           0.000233\n"
          ],
          "name": "stdout"
        }
      ]
    },
    {
      "cell_type": "markdown",
      "metadata": {
        "id": "ITHWsWc2HZOa",
        "colab_type": "text"
      },
      "source": [
        "## Centralidad de intermediación\n",
        "\n",
        "La centralidad de intermediación para las redes de retweet y respuesta señala a los usuarios que se conectan entre las diferentes comunidades de Twitter. Estas comunidades pueden estar vinculadas por tema o ideología.\n",
        "\n",
        "## Instrucciones:\n",
        "\n",
        "* - Calculamos la centralidad de intermediación para la red de retweet usando `nx.betweenness_centrality()`.\n",
        "\n",
        "* - Hagamos lo mismo para la red de respuesta.\n",
        "\n",
        "\n",
        "* - Creamos un DataFrame a partir de centralidades de retweet.\n",
        "\n",
        "* - Hagmos lo mismo con la red de respuesta."
      ]
    },
    {
      "cell_type": "code",
      "metadata": {
        "id": "cVMMahXoGsph",
        "colab_type": "code",
        "colab": {}
      },
      "source": [
        "# Generar centralidad de intermediación para retweets\n",
        "rt_centrality = nx.betweenness_centrality(G_rt)\n",
        "# Generar centralidad de intermediación para respuestas\n",
        "reply_centrality = nx.betweenness_centrality(G_reply)\n",
        "\n",
        "# Almacenar centralidades en DataFrame\n",
        "rt = pd.DataFrame(list(rt_centrality.items()), columns = column_names)\n",
        "reply = pd.DataFrame(list(reply_centrality.items()), columns = column_names)\n",
        "\n"
      ],
      "execution_count": null,
      "outputs": []
    },
    {
      "cell_type": "code",
      "metadata": {
        "id": "JJgUGsdyH0y9",
        "colab_type": "code",
        "colab": {}
      },
      "source": [
        "# Imprimir los primeros cinco resultados en orden descendente de centralidad\n",
        "print(rt.sort_values('betweenness_centrality', ascending = False).head())\n",
        "\n",
        "# Imprimir los primeros cinco resultados en orden descendente de centralidad\n",
        "print(reply.sort_values('betweenness_centrality', ascending = False).head())"
      ],
      "execution_count": null,
      "outputs": []
    },
    {
      "cell_type": "markdown",
      "metadata": {
        "id": "jbsRgehtIUUp",
        "colab_type": "text"
      },
      "source": [
        "## RATIOS\n",
        "\n",
        "Si bien no es estrictamente una medida de importancia para una red, la idea de ser \"proporcionados\" es una medida de la red que es particular de Twitter y se usa típicamente para juzgar la impopularidad de un tweet. \"La proporción\", como se le llama, se calcula tomando el número de respuestas y dividiéndolo por el número de retweets. Para nuestros propósitos, tiene sentido conceptual tomar solo los grados internos de las redes de retweet y respuesta."
      ]
    },
    {
      "cell_type": "code",
      "metadata": {
        "id": "r92ASOnhIJ38",
        "colab_type": "code",
        "colab": {
          "base_uri": "https://localhost:8080/",
          "height": 732
        },
        "outputId": "ac8fd338-6e0b-4bbd-a135-512b4a21cda0"
      },
      "source": [
        "# Calculate in-degrees and store in DataFrame\n",
        "degree_rt = pd.DataFrame(list(G_rt.in_degree()), columns = column_names)\n",
        "degree_reply = pd.DataFrame(list(G_reply.in_degree()), columns = column_names)\n",
        "\n",
        "# Merge the two DataFrames on screen name\n",
        "ratio = degree_rt.merge(degree_reply, on = 'screen_name', suffixes = ('_rt', '_reply'))\n",
        "\n",
        "# Calculate the ratio\n",
        "ratio['ratio'] = ratio['degree_reply'] / ratio['degree_rt']\n",
        "\n",
        "# Exclude any tweets with less than 5 retweets\n",
        "ratio = ratio[ratio['degree_rt'] >= 5]\n",
        "\n",
        "# Print out first five with highest ratio\n",
        "print(ratio.sort_values('ratio', ascending = False).head())"
      ],
      "execution_count": 13,
      "outputs": [
        {
          "output_type": "error",
          "ename": "KeyError",
          "evalue": "ignored",
          "traceback": [
            "\u001b[0;31m---------------------------------------------------------------------------\u001b[0m",
            "\u001b[0;31mKeyError\u001b[0m                                  Traceback (most recent call last)",
            "\u001b[0;32m/usr/local/lib/python3.6/dist-packages/pandas/core/indexes/base.py\u001b[0m in \u001b[0;36mget_loc\u001b[0;34m(self, key, method, tolerance)\u001b[0m\n\u001b[1;32m   2645\u001b[0m             \u001b[0;32mtry\u001b[0m\u001b[0;34m:\u001b[0m\u001b[0;34m\u001b[0m\u001b[0;34m\u001b[0m\u001b[0m\n\u001b[0;32m-> 2646\u001b[0;31m                 \u001b[0;32mreturn\u001b[0m \u001b[0mself\u001b[0m\u001b[0;34m.\u001b[0m\u001b[0m_engine\u001b[0m\u001b[0;34m.\u001b[0m\u001b[0mget_loc\u001b[0m\u001b[0;34m(\u001b[0m\u001b[0mkey\u001b[0m\u001b[0;34m)\u001b[0m\u001b[0;34m\u001b[0m\u001b[0;34m\u001b[0m\u001b[0m\n\u001b[0m\u001b[1;32m   2647\u001b[0m             \u001b[0;32mexcept\u001b[0m \u001b[0mKeyError\u001b[0m\u001b[0;34m:\u001b[0m\u001b[0;34m\u001b[0m\u001b[0;34m\u001b[0m\u001b[0m\n",
            "\u001b[0;32mpandas/_libs/index.pyx\u001b[0m in \u001b[0;36mpandas._libs.index.IndexEngine.get_loc\u001b[0;34m()\u001b[0m\n",
            "\u001b[0;32mpandas/_libs/index.pyx\u001b[0m in \u001b[0;36mpandas._libs.index.IndexEngine.get_loc\u001b[0;34m()\u001b[0m\n",
            "\u001b[0;32mpandas/_libs/hashtable_class_helper.pxi\u001b[0m in \u001b[0;36mpandas._libs.hashtable.PyObjectHashTable.get_item\u001b[0;34m()\u001b[0m\n",
            "\u001b[0;32mpandas/_libs/hashtable_class_helper.pxi\u001b[0m in \u001b[0;36mpandas._libs.hashtable.PyObjectHashTable.get_item\u001b[0;34m()\u001b[0m\n",
            "\u001b[0;31mKeyError\u001b[0m: 'degree_reply'",
            "\nDuring handling of the above exception, another exception occurred:\n",
            "\u001b[0;31mKeyError\u001b[0m                                  Traceback (most recent call last)",
            "\u001b[0;32m<ipython-input-13-663f158a7590>\u001b[0m in \u001b[0;36m<module>\u001b[0;34m()\u001b[0m\n\u001b[1;32m      7\u001b[0m \u001b[0;34m\u001b[0m\u001b[0m\n\u001b[1;32m      8\u001b[0m \u001b[0;31m# Calculate the ratio\u001b[0m\u001b[0;34m\u001b[0m\u001b[0;34m\u001b[0m\u001b[0;34m\u001b[0m\u001b[0m\n\u001b[0;32m----> 9\u001b[0;31m \u001b[0mratio\u001b[0m\u001b[0;34m[\u001b[0m\u001b[0;34m'ratio'\u001b[0m\u001b[0;34m]\u001b[0m \u001b[0;34m=\u001b[0m \u001b[0mratio\u001b[0m\u001b[0;34m[\u001b[0m\u001b[0;34m'degree_reply'\u001b[0m\u001b[0;34m]\u001b[0m \u001b[0;34m/\u001b[0m \u001b[0mratio\u001b[0m\u001b[0;34m[\u001b[0m\u001b[0;34m'degree_rt'\u001b[0m\u001b[0;34m]\u001b[0m\u001b[0;34m\u001b[0m\u001b[0;34m\u001b[0m\u001b[0m\n\u001b[0m\u001b[1;32m     10\u001b[0m \u001b[0;34m\u001b[0m\u001b[0m\n\u001b[1;32m     11\u001b[0m \u001b[0;31m# Exclude any tweets with less than 5 retweets\u001b[0m\u001b[0;34m\u001b[0m\u001b[0;34m\u001b[0m\u001b[0;34m\u001b[0m\u001b[0m\n",
            "\u001b[0;32m/usr/local/lib/python3.6/dist-packages/pandas/core/frame.py\u001b[0m in \u001b[0;36m__getitem__\u001b[0;34m(self, key)\u001b[0m\n\u001b[1;32m   2798\u001b[0m             \u001b[0;32mif\u001b[0m \u001b[0mself\u001b[0m\u001b[0;34m.\u001b[0m\u001b[0mcolumns\u001b[0m\u001b[0;34m.\u001b[0m\u001b[0mnlevels\u001b[0m \u001b[0;34m>\u001b[0m \u001b[0;36m1\u001b[0m\u001b[0;34m:\u001b[0m\u001b[0;34m\u001b[0m\u001b[0;34m\u001b[0m\u001b[0m\n\u001b[1;32m   2799\u001b[0m                 \u001b[0;32mreturn\u001b[0m \u001b[0mself\u001b[0m\u001b[0;34m.\u001b[0m\u001b[0m_getitem_multilevel\u001b[0m\u001b[0;34m(\u001b[0m\u001b[0mkey\u001b[0m\u001b[0;34m)\u001b[0m\u001b[0;34m\u001b[0m\u001b[0;34m\u001b[0m\u001b[0m\n\u001b[0;32m-> 2800\u001b[0;31m             \u001b[0mindexer\u001b[0m \u001b[0;34m=\u001b[0m \u001b[0mself\u001b[0m\u001b[0;34m.\u001b[0m\u001b[0mcolumns\u001b[0m\u001b[0;34m.\u001b[0m\u001b[0mget_loc\u001b[0m\u001b[0;34m(\u001b[0m\u001b[0mkey\u001b[0m\u001b[0;34m)\u001b[0m\u001b[0;34m\u001b[0m\u001b[0;34m\u001b[0m\u001b[0m\n\u001b[0m\u001b[1;32m   2801\u001b[0m             \u001b[0;32mif\u001b[0m \u001b[0mis_integer\u001b[0m\u001b[0;34m(\u001b[0m\u001b[0mindexer\u001b[0m\u001b[0;34m)\u001b[0m\u001b[0;34m:\u001b[0m\u001b[0;34m\u001b[0m\u001b[0;34m\u001b[0m\u001b[0m\n\u001b[1;32m   2802\u001b[0m                 \u001b[0mindexer\u001b[0m \u001b[0;34m=\u001b[0m \u001b[0;34m[\u001b[0m\u001b[0mindexer\u001b[0m\u001b[0;34m]\u001b[0m\u001b[0;34m\u001b[0m\u001b[0;34m\u001b[0m\u001b[0m\n",
            "\u001b[0;32m/usr/local/lib/python3.6/dist-packages/pandas/core/indexes/base.py\u001b[0m in \u001b[0;36mget_loc\u001b[0;34m(self, key, method, tolerance)\u001b[0m\n\u001b[1;32m   2646\u001b[0m                 \u001b[0;32mreturn\u001b[0m \u001b[0mself\u001b[0m\u001b[0;34m.\u001b[0m\u001b[0m_engine\u001b[0m\u001b[0;34m.\u001b[0m\u001b[0mget_loc\u001b[0m\u001b[0;34m(\u001b[0m\u001b[0mkey\u001b[0m\u001b[0;34m)\u001b[0m\u001b[0;34m\u001b[0m\u001b[0;34m\u001b[0m\u001b[0m\n\u001b[1;32m   2647\u001b[0m             \u001b[0;32mexcept\u001b[0m \u001b[0mKeyError\u001b[0m\u001b[0;34m:\u001b[0m\u001b[0;34m\u001b[0m\u001b[0;34m\u001b[0m\u001b[0m\n\u001b[0;32m-> 2648\u001b[0;31m                 \u001b[0;32mreturn\u001b[0m \u001b[0mself\u001b[0m\u001b[0;34m.\u001b[0m\u001b[0m_engine\u001b[0m\u001b[0;34m.\u001b[0m\u001b[0mget_loc\u001b[0m\u001b[0;34m(\u001b[0m\u001b[0mself\u001b[0m\u001b[0;34m.\u001b[0m\u001b[0m_maybe_cast_indexer\u001b[0m\u001b[0;34m(\u001b[0m\u001b[0mkey\u001b[0m\u001b[0;34m)\u001b[0m\u001b[0;34m)\u001b[0m\u001b[0;34m\u001b[0m\u001b[0;34m\u001b[0m\u001b[0m\n\u001b[0m\u001b[1;32m   2649\u001b[0m         \u001b[0mindexer\u001b[0m \u001b[0;34m=\u001b[0m \u001b[0mself\u001b[0m\u001b[0;34m.\u001b[0m\u001b[0mget_indexer\u001b[0m\u001b[0;34m(\u001b[0m\u001b[0;34m[\u001b[0m\u001b[0mkey\u001b[0m\u001b[0;34m]\u001b[0m\u001b[0;34m,\u001b[0m \u001b[0mmethod\u001b[0m\u001b[0;34m=\u001b[0m\u001b[0mmethod\u001b[0m\u001b[0;34m,\u001b[0m \u001b[0mtolerance\u001b[0m\u001b[0;34m=\u001b[0m\u001b[0mtolerance\u001b[0m\u001b[0;34m)\u001b[0m\u001b[0;34m\u001b[0m\u001b[0;34m\u001b[0m\u001b[0m\n\u001b[1;32m   2650\u001b[0m         \u001b[0;32mif\u001b[0m \u001b[0mindexer\u001b[0m\u001b[0;34m.\u001b[0m\u001b[0mndim\u001b[0m \u001b[0;34m>\u001b[0m \u001b[0;36m1\u001b[0m \u001b[0;32mor\u001b[0m \u001b[0mindexer\u001b[0m\u001b[0;34m.\u001b[0m\u001b[0msize\u001b[0m \u001b[0;34m>\u001b[0m \u001b[0;36m1\u001b[0m\u001b[0;34m:\u001b[0m\u001b[0;34m\u001b[0m\u001b[0;34m\u001b[0m\u001b[0m\n",
            "\u001b[0;32mpandas/_libs/index.pyx\u001b[0m in \u001b[0;36mpandas._libs.index.IndexEngine.get_loc\u001b[0;34m()\u001b[0m\n",
            "\u001b[0;32mpandas/_libs/index.pyx\u001b[0m in \u001b[0;36mpandas._libs.index.IndexEngine.get_loc\u001b[0;34m()\u001b[0m\n",
            "\u001b[0;32mpandas/_libs/hashtable_class_helper.pxi\u001b[0m in \u001b[0;36mpandas._libs.hashtable.PyObjectHashTable.get_item\u001b[0;34m()\u001b[0m\n",
            "\u001b[0;32mpandas/_libs/hashtable_class_helper.pxi\u001b[0m in \u001b[0;36mpandas._libs.hashtable.PyObjectHashTable.get_item\u001b[0;34m()\u001b[0m\n",
            "\u001b[0;31mKeyError\u001b[0m: 'degree_reply'"
          ]
        }
      ]
    },
    {
      "cell_type": "code",
      "metadata": {
        "id": "b_591QMAIcrk",
        "colab_type": "code",
        "colab": {}
      },
      "source": [
        ""
      ],
      "execution_count": null,
      "outputs": []
    }
  ]
}