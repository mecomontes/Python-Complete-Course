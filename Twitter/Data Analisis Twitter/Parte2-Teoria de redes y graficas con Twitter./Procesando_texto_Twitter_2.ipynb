{
  "nbformat": 4,
  "nbformat_minor": 0,
  "metadata": {
    "colab": {
      "name": "Procesando_texto_Twitter.ipynb",
      "provenance": [],
      "collapsed_sections": []
    },
    "kernelspec": {
      "name": "python3",
      "display_name": "Python 3"
    }
  },
  "cells": [
    {
      "cell_type": "markdown",
      "metadata": {
        "id": "jwVWdpR_mv3z",
        "colab_type": "text"
      },
      "source": [
        "# Contando palabras.\n",
        "\n",
        "\n",
        "Uno de los análisis más básciso que podemos realizar es contar la cantidad de veces que una palabra o una frase ha aparecido en el texto & cuántas veces ha aparecido en comparación con otras palabras clave en el texto.\n",
        "\n",
        "¿Por qué debemos de contar palabras?\n",
        "\n",
        "* Contar palabras es el paso más básico que podemos dar para automatizar el análisis de texto.\n",
        "\n",
        "* Nos permite convertir palabras en números.\n",
        "\n",
        "* Puede decirnos cuantas veces se menciona una empresa, producto o hhashtag.\n",
        "\n",
        "### Método `str.contains`\n",
        "\n",
        "\n",
        "* Para contar la frecuencia de una palabra clave en particular usaremos el método `str.contains` , este **nos dice si una fila contiene o no la palabra clave en cuestión.**\n",
        "\n",
        "* `str.counts` - Devolvera un objeto booleano , que contendra solo valores True o False.\n",
        "* También tomara el arguemtno `case=False` que retorna una busqueda insensible de mayusuclas y minusculas.\n",
        "\n",
        "\n",
        "### EJEMPLO:\n",
        "\n",
        "Contar palabras clave conocidas es una de las primeras formas en que puedes analizar datos de texto en un conjunto de datos de Twitter. \n",
        "\n",
        "En este conjunto de datos, contarás la cantidad de veces que aparecen hashtags específicos en una colección de tweets sobre ciencia de datos. Con este fin, usará los métodos de cadena en el objeto Pandas Series para hacer esto.\n",
        "\n",
        "\n"
      ]
    },
    {
      "cell_type": "code",
      "metadata": {
        "id": "4RZfjwbPlzYJ",
        "colab_type": "code",
        "colab": {}
      },
      "source": [
        "import json\n",
        "import numpy as np\n",
        "import pandas as pd\n",
        "\n",
        "data = pd.read_csv(\"/content/data-science-hashtags.csv\")\n"
      ],
      "execution_count": 16,
      "outputs": []
    },
    {
      "cell_type": "code",
      "metadata": {
        "id": "hLjm8873v7z0",
        "colab_type": "code",
        "colab": {
          "base_uri": "https://localhost:8080/",
          "height": 34
        },
        "outputId": "04657cae-4941-40c8-8daa-395ec26803d5"
      },
      "source": [
        "# Encontrar menciones de #python en 'texto'\n",
        "python = data['text'].str.contains('#python',case=False)\n",
        "\n",
        "# Imprimios la proporción total de #python\n",
        "porcentaje = round(np.sum(python)/data.shape[0],2)\n",
        "print(\"Proporción de  #python tweets: {}% \".format(porcentaje))"
      ],
      "execution_count": 18,
      "outputs": [
        {
          "output_type": "stream",
          "text": [
            "Proporción de  #python tweets: 0.43% \n"
          ],
          "name": "stdout"
        }
      ]
    },
    {
      "cell_type": "markdown",
      "metadata": {
        "id": "SEda6XzSxpKy",
        "colab_type": "text"
      },
      "source": [
        "## Buscando texto en todos los lugares equivocados\n",
        "\n",
        "Recuerda que el texto relevante no solo puede estar en el campo de texto principal del tweet. También puede estar en  `extended_tweet`, `retweeted_status` o  `quoted_status`.\n",
        "\n",
        "Necesitamos verificar todos estos campos para asegurarnos de que hemos contabilizado todo el texto relevante. Haremos esto a menudo, así que crearemos una función que lo haga."
      ]
    },
    {
      "cell_type": "code",
      "metadata": {
        "id": "gR5YVG1LwGwo",
        "colab_type": "code",
        "colab": {}
      },
      "source": [
        "def check_word_in_tweet(word, data):\n",
        "    \"\"\"Comprueba si una palabra está en el texto de un conjunto de datos de Twitter. \n",
        "    Comprueba el texto y el tweet extendido (tweets de más de 140 caracteres) en busca de\n",
        "     tweets, retweets y tweets citados.\n",
        "    Devuelve una serie lógica de pandas.\n",
        "    \"\"\"\n",
        "    contains_column = data['text'].str.contains(word, case = False)\n",
        "    contains_column |= data['extended_tweet-full_text'].str.contains(word, case = False)\n",
        "    contains_column |= data['quoted_status-text'].str.contains(word, case = False)\n",
        "    contains_column |= data['quoted_status-extended_tweet-full_text'].str.contains(word, case = False)\n",
        "    contains_column |= data['retweeted_status-text'].str.contains(word, case = False)\n",
        "    contains_column |= data['retweeted_status-extended_tweet-full_text'].str.contains(word, case = False)\n",
        "    return contains_column"
      ],
      "execution_count": 19,
      "outputs": []
    },
    {
      "cell_type": "markdown",
      "metadata": {
        "id": "AWJ9gHEizT7X",
        "colab_type": "text"
      },
      "source": [
        "##  Comparando `#Python` vs `#R`.\n",
        "\n",
        "Ahora que tenemos una función para verificar si la palabra está o no en el tweet en varios lugares, podemos implementar esto en varias palabras y compararlas.Volvamos a nuestro ejemplo con el conjunto de datos de hashtag de ciencia de datos. Queremos ver cuántas veces ocurre esa #rstats en comparación con #python.\n"
      ]
    },
    {
      "cell_type": "code",
      "metadata": {
        "id": "vjye8KEozG7h",
        "colab_type": "code",
        "colab": {
          "base_uri": "https://localhost:8080/",
          "height": 51
        },
        "outputId": "d5ca6010-4001-4b3b-afeb-9c6ddf7d2604"
      },
      "source": [
        "# Encuentra menciones de #python en todos los campos de texto\n",
        "python = check_word_in_tweet('#python', data)\n",
        "\n",
        "# Encuentra menciones de #rstats en todos los campos de texto\n",
        "rstats = check_word_in_tweet('#rstats', data)\n",
        "\n",
        "#Imprimir el porcentaje de tweets en los que aparece #python\n",
        "pystats_t = round(np.sum(python) / python.shape[0],2)\n",
        "\n",
        "print(\"Proporción de  #python tweets: {}%\".format(pystats_t))\n",
        "\n",
        "#Imprimir el porcentaje de tweets en los que aparece #rstats\n",
        "rstats_t = round(np.sum(rstats) /rstats.shape[0],2)\n",
        "print(\"Proporción de  #rstats tweets: {}% \".format(rstats_t))"
      ],
      "execution_count": 23,
      "outputs": [
        {
          "output_type": "stream",
          "text": [
            "Proporción de  #python tweets: 0.57%\n",
            "Proporción de  #rstats tweets: 0.47% \n"
          ],
          "name": "stdout"
        }
      ]
    },
    {
      "cell_type": "code",
      "metadata": {
        "id": "J-e-iMlj0jhW",
        "colab_type": "code",
        "colab": {}
      },
      "source": [
        ""
      ],
      "execution_count": null,
      "outputs": []
    }
  ]
}