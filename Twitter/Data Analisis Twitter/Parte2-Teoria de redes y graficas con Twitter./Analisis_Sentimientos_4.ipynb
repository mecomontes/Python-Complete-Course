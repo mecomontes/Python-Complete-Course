{
  "nbformat": 4,
  "nbformat_minor": 0,
  "metadata": {
    "colab": {
      "name": "Analisis_Sentimientos_4.ipynb",
      "provenance": [],
      "collapsed_sections": [],
      "toc_visible": true
    },
    "kernelspec": {
      "name": "python3",
      "display_name": "Python 3"
    }
  },
  "cells": [
    {
      "cell_type": "markdown",
      "metadata": {
        "id": "imcXW_dM_K2t",
        "colab_type": "text"
      },
      "source": [
        "# Análisis de Sentimientos.\n",
        "\n",
        "Hasta ahora hermos podido detectar la presencia de palabras en tweets y trazar su prevalencia relativa a lo largo del timepo, ahora nos enfocaremos en un método para derivar significados del texto llamado análisis de sentimientos.\n",
        "\n",
        "### ¿Qué es?\n",
        "\n",
        "El análisis de sentimientos es un tipo de método de procesamiento del lenguaje natural que determina si una palabra , oración, párrafo o docmento es positivo o negativo.\n",
        "\n",
        "La idea detrás del análisis de sentimientos es que contamos las palabras que son positivas o negativas como proporción de las palabras en el resto del documento.\n",
        "\n",
        "Cadá documento obtiene un puntuación positiva y negativa, el análisis de sentimientos puede ser útil para evaluar las recciones a una empresa , producto, politico o politica.\n",
        "\n",
        "Usaremos VADER Sentimentlntensity Analizyer incluido en el kir de herramientas de lenguaje natural o `nltk`.\n",
        "\n",
        "El kit de herramientas VADER maneja documentos de textos cortos como tweets muy bien , porque mide sentimientos no solo con palabras particulares, sino también con emoji y diferentes tipos de mayusculas.\n",
        "\n",
        "Por ejemplo hay una diferencia cualitativa en `Nice` vs `NICE`, para usar VADER , primero lo importamos:"
      ]
    },
    {
      "cell_type": "code",
      "metadata": {
        "id": "tBGAItkt-9T6",
        "colab_type": "code",
        "colab": {
          "base_uri": "https://localhost:8080/",
          "height": 51
        },
        "outputId": "45825bc3-9e84-43c1-f28f-dee46fb1fda5"
      },
      "source": [
        "# Instalamos los recursos necesarios  e importamos SentimentIntensityAnalyzer\n",
        "import nltk\n",
        "import pandas as pd\n",
        "nltk.download('vader_lexicon')\n",
        "from nltk.sentiment.vader import SentimentIntensityAnalyzer"
      ],
      "execution_count": 77,
      "outputs": [
        {
          "output_type": "stream",
          "text": [
            "[nltk_data] Downloading package vader_lexicon to /root/nltk_data...\n",
            "[nltk_data]   Package vader_lexicon is already up-to-date!\n"
          ],
          "name": "stdout"
        }
      ]
    },
    {
      "cell_type": "markdown",
      "metadata": {
        "id": "N6IqdyskNrYk",
        "colab_type": "text"
      },
      "source": [
        "Luego instanciamos un SentimentIntensityAnalyzer:"
      ]
    },
    {
      "cell_type": "code",
      "metadata": {
        "id": "K1ICkpvGNjen",
        "colab_type": "code",
        "colab": {}
      },
      "source": [
        "sid = SentimentIntensityAnalyzer()"
      ],
      "execution_count": 78,
      "outputs": []
    },
    {
      "cell_type": "markdown",
      "metadata": {
        "id": "NjtFJXFaOq-f",
        "colab_type": "text"
      },
      "source": [
        "Por último podemos generar puntuaciones de sentimiento conla función `polarity_scores` y el me1todo `apply`.\n",
        "\n"
      ]
    },
    {
      "cell_type": "code",
      "metadata": {
        "id": "83u6xTtbN1uM",
        "colab_type": "code",
        "colab": {}
      },
      "source": [
        "ds_tweets = pd.read_csv(\"/content/data-science-hashtags.csv\")\n",
        "sentiment_score = tweets['text'].apply(sid.polarity_scores)\n"
      ],
      "execution_count": 99,
      "outputs": []
    },
    {
      "cell_type": "markdown",
      "metadata": {
        "id": "HgUj1esyO5GM",
        "colab_type": "text"
      },
      "source": [
        "Una parte crítica de cualquier tipo de procesamiento del lenguaje natural implica la lectura del texto y evaluar si el método tiene sentido en comparación con una lectura humana.\n",
        "\n",
        "Si estamos intentando replicar el significado con metodods computacionales, entonces tenemos que asegurarnos de que el significado tenga una validez aparente.\n",
        "\n",
        "\n",
        "La validez aparente **significa que la métrica coincide con el concepto que estamos tratando de medir,** en este caso queremos asegurarnos de que la puntuación del sentimiento coincida con nuestra idea de lo que significa que un tweet sea positivo o negativo.\n",
        "\n",
        "Aqui tenemos 2 ejemplos, un tweet positivo y uno negativo:\n",
        "\n",
        "`tweet1` se le a nuestros ojos como positivo y la puntuación compuesta es basntante alta aproximadamente 0."
      ]
    },
    {
      "cell_type": "code",
      "metadata": {
        "id": "vlXMoQc1Ojbo",
        "colab_type": "code",
        "colab": {
          "base_uri": "https://localhost:8080/",
          "height": 34
        },
        "outputId": "71ce49f2-3fee-439b-905b-ba187643b826"
      },
      "source": [
        "# tweet positivo.\n",
        "\n",
        "tweet1 = 'RT #CHILANGDON: Thanks for inviting me , and thanks fot the lovely visualization of the talk!...'\n",
        "print(sid.polarity_scores(tweet1))"
      ],
      "execution_count": 66,
      "outputs": [
        {
          "output_type": "stream",
          "text": [
            "{'neg': 0.0, 'neu': 0.474, 'pos': 0.526, 'compound': 0.9041}\n"
          ],
          "name": "stdout"
        }
      ]
    },
    {
      "cell_type": "markdown",
      "metadata": {
        "id": "eBS5KvwkR0W1",
        "colab_type": "text"
      },
      "source": [
        "Este segundo tweet se lee como negativo , pero la puntuación compuesta es solo ligeramente inferior a cero, alrrededor de -0."
      ]
    },
    {
      "cell_type": "code",
      "metadata": {
        "id": "OvqYqMIOQNPM",
        "colab_type": "code",
        "colab": {
          "base_uri": "https://localhost:8080/",
          "height": 34
        },
        "outputId": "2de138af-9b59-47e8-de54-152caa95def2"
      },
      "source": [
        "# tweet negativo\n",
        "\n",
        "tweet2 = 'Im fucking angry , because i am having problems with Github'\n",
        "print(sid.polarity_scores(tweet2))"
      ],
      "execution_count": 67,
      "outputs": [
        {
          "output_type": "stream",
          "text": [
            "{'neg': 0.473, 'neu': 0.527, 'pos': 0.0, 'compound': -0.7425}\n"
          ],
          "name": "stdout"
        }
      ]
    },
    {
      "cell_type": "markdown",
      "metadata": {
        "id": "TJEyv8TmQfca",
        "colab_type": "text"
      },
      "source": [
        "Cada proporción de opinión del analizador VALER proporciona cuatro valores:\n",
        "\n",
        "* negative - 'neg' - > Se explica por si mismo\n",
        "\n",
        "* neutral - 'neu' -> Mide palabras que no contribuyen al sentimiento.\n",
        "\n",
        "* positive - 'pos' - > Se explica por si mismo\n",
        "\n",
        "* compound - 'compound' -> Combinación de positivo y negativo.Es una evaluación general que oscila entre 1 negativo y 0 positivo.\n",
        "\n",
        "\n",
        "Generamos promedios de sentimientos a lo largo del timpo de la misma manera que eneramos medidas de prevalencia promedio. Extraeremos solo el campo `compund` de las puntuaciones de opinion."
      ]
    },
    {
      "cell_type": "code",
      "metadata": {
        "id": "l9oyPc37QcFa",
        "colab_type": "code",
        "colab": {}
      },
      "source": [
        "sentiment = sentiment_score.apply(lambda x: x['compound'])"
      ],
      "execution_count": 68,
      "outputs": []
    },
    {
      "cell_type": "markdown",
      "metadata": {
        "id": "nTxMa3bqSV3L",
        "colab_type": "text"
      },
      "source": [
        "Separamos , los sentimientos de cada empresa con nuestra función definida en notebooks anteriores , aqui la vuelvo a poner :"
      ]
    },
    {
      "cell_type": "code",
      "metadata": {
        "id": "Q41XtHeESQ-S",
        "colab_type": "code",
        "colab": {}
      },
      "source": [
        "def check_word_in_tweet(word, data):\n",
        "    \"\"\"Comprueba si una palabra está en el texto de un conjunto de datos de Twitter. \n",
        "    Comprueba el texto y el tweet extendido (tweets de más de 140 caracteres) en busca de\n",
        "     tweets, retweets y tweets citados.\n",
        "    Devuelve una serie lógica de pandas.\n",
        "    \"\"\"\n",
        "    contains_column = data['text'].str.contains(word, case = False)\n",
        "    contains_column |= data['extended_tweet-full_text'].str.contains(word, case = False)\n",
        "    contains_column |= data['quoted_status-text'].str.contains(word, case = False)\n",
        "    contains_column |= data['quoted_status-extended_tweet-full_text'].str.contains(word, case = False)\n",
        "    contains_column |= data['retweeted_status-text'].str.contains(word, case = False)\n",
        "    contains_column |= data['retweeted_status-extended_tweet-full_text'].str.contains(word, case = False)\n",
        "    return contains_column\n",
        "\n",
        "# ------------- TERMINO DE FUNCIÓN ----------\n"
      ],
      "execution_count": 69,
      "outputs": []
    }
  ]
}