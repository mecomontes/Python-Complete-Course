{
  "nbformat": 4,
  "nbformat_minor": 0,
  "metadata": {
    "colab": {
      "name": "Time_Series_3.ipynb",
      "provenance": [],
      "collapsed_sections": [],
      "toc_visible": true
    },
    "kernelspec": {
      "name": "python3",
      "display_name": "Python 3"
    }
  },
  "cells": [
    {
      "cell_type": "markdown",
      "metadata": {
        "id": "qhZeNxM32DBy",
        "colab_type": "text"
      },
      "source": [
        "# Time Series.\n",
        "\n",
        "Ahora que ya sabemos cómo verifica cuántos tweets mencionan una palabra o frase en un conjunto de datos de Twitter, vamos a contstruir sobre eso ilustrando cómo las menciones de palabras claves cambian con el timepo.\n",
        "\n",
        "Los tweets sobre empresas, productos y cuestiones políticas varían según el día , la hora , los minutos e incluso el segundo.\n",
        "\n",
        "Queremos poder capturar esa variación con el tiempo, cuando los datos se etiquetan con una fecha y hora , se les conoce como datos de *series de tiempo*\n",
        "o  *time series*  o  *over time data*.\n",
        "\n",
        "\n",
        "La estructura de los datos de series temporales generalmente contienen una fecha , hora y algun tipo de medida numérica.\n",
        "\n",
        "### CÓDIGO A USAR:\n",
        "\n",
        "* `pd.to_datetime` - Cuando se importa un archivo csv y se crea un marco de datos, los objetos de fecha y hora en el archivo se leen como un objeto de cadena en lugar de un objeto de fecha y hora y, por lo tanto, es muy difícil realizar operaciones como la diferencia horaria en una cadena en lugar de un objeto de fecha y hora . El método Pandas to_datetime () ayuda a convertir la cadena Date time en un objeto Python Date time.\n",
        "\n",
        "* `set_index`- Pandas set_index () es un método para establecer una lista, serie o marco de datos como índice de un marco de datos. La columna de índice también se puede configurar mientras se crea un marco de datos. Pero a veces un marco de datos está hecho de dos o más marcos de datos y, por lo tanto, el índice posterior se puede cambiar usando este método.\n",
        "\n",
        "* `.resample`- La función de Pandas dataframe.resample () se usa principalmente para datos de series de tiempo.\n",
        "\n",
        "Una serie de tiempo es una serie de puntos de datos indexados (o listados o graficados) en orden de tiempo. Más comúnmente, una serie de tiempo es una secuencia tomada en puntos sucesivos igualmente espaciados en el tiempo. Es un método de conveniencia para conversión de frecuencia y remuestreo de series de tiempo. El objeto debe tener un índice similar a una fecha y hora (DatetimeIndex, PeriodIndex o TimedeltaIndex) o pasar valores similares a la fecha y hora a la palabra clave on o level.\n",
        "\n",
        "## Creando un DataFrame de Series de Tiempo.\n",
        "\n",
        "Los datos de series de tiempo se utilizan cuando queremos analizar o explorar la variación en el tiempo. Esto es útil al explorar datos de texto de Twitter si queremos rastrear la prevalencia de una palabra o un conjunto de palabras. \n",
        "\n",
        "El primer paso para hacer esto es convertir el DataFrame en un formato que se pueda manejar usando métodos de series temporales de Pandas. Eso se puede hacer convirtiendo el índice a un tipo de fecha y hora."
      ]
    },
    {
      "cell_type": "code",
      "metadata": {
        "id": "RGmMkKZM19mO",
        "colab_type": "code",
        "colab": {
          "base_uri": "https://localhost:8080/",
          "height": 301
        },
        "outputId": "e00cee33-717a-4cf0-e6c1-3177fffa87b9"
      },
      "source": [
        "import json\n",
        "import numpy as np\n",
        "import pandas as pd\n",
        "import seaborn as sns\n",
        "import matplotlib.pyplot as plt\n",
        "\n",
        "ds_tweets = pd.read_csv(\"/content/data-science-hashtags.csv\")\n",
        "ds_tweets.head(2)"
      ],
      "execution_count": 27,
      "outputs": [
        {
          "output_type": "execute_result",
          "data": {
            "text/html": [
              "<div>\n",
              "<style scoped>\n",
              "    .dataframe tbody tr th:only-of-type {\n",
              "        vertical-align: middle;\n",
              "    }\n",
              "\n",
              "    .dataframe tbody tr th {\n",
              "        vertical-align: top;\n",
              "    }\n",
              "\n",
              "    .dataframe thead th {\n",
              "        text-align: right;\n",
              "    }\n",
              "</style>\n",
              "<table border=\"1\" class=\"dataframe\">\n",
              "  <thead>\n",
              "    <tr style=\"text-align: right;\">\n",
              "      <th></th>\n",
              "      <th>contributors</th>\n",
              "      <th>coordinates</th>\n",
              "      <th>created_at</th>\n",
              "      <th>display_text_range</th>\n",
              "      <th>entities</th>\n",
              "      <th>extended_entities</th>\n",
              "      <th>extended_tweet</th>\n",
              "      <th>extended_tweet-full_text</th>\n",
              "      <th>favorite_count</th>\n",
              "      <th>favorited</th>\n",
              "      <th>filter_level</th>\n",
              "      <th>geo</th>\n",
              "      <th>id</th>\n",
              "      <th>id_str</th>\n",
              "      <th>in_reply_to_screen_name</th>\n",
              "      <th>in_reply_to_status_id</th>\n",
              "      <th>in_reply_to_status_id_str</th>\n",
              "      <th>in_reply_to_user_id</th>\n",
              "      <th>in_reply_to_user_id_str</th>\n",
              "      <th>is_quote_status</th>\n",
              "      <th>lang</th>\n",
              "      <th>place</th>\n",
              "      <th>possibly_sensitive</th>\n",
              "      <th>quote_count</th>\n",
              "      <th>quoted_status</th>\n",
              "      <th>quoted_status-extended_tweet-full_text</th>\n",
              "      <th>quoted_status-text</th>\n",
              "      <th>quoted_status-user-screen_name</th>\n",
              "      <th>quoted_status_id</th>\n",
              "      <th>quoted_status_id_str</th>\n",
              "      <th>reply_count</th>\n",
              "      <th>retweet_count</th>\n",
              "      <th>retweeted</th>\n",
              "      <th>retweeted_status</th>\n",
              "      <th>retweeted_status-extended_tweet-full_text</th>\n",
              "      <th>retweeted_status-text</th>\n",
              "      <th>retweeted_status-user-screen_name</th>\n",
              "      <th>source</th>\n",
              "      <th>text</th>\n",
              "      <th>timestamp_ms</th>\n",
              "      <th>truncated</th>\n",
              "      <th>user</th>\n",
              "      <th>user-screen_name</th>\n",
              "    </tr>\n",
              "  </thead>\n",
              "  <tbody>\n",
              "    <tr>\n",
              "      <th>0</th>\n",
              "      <td>NaN</td>\n",
              "      <td>NaN</td>\n",
              "      <td>Thu Mar 01 07:02:41 +0000 2018</td>\n",
              "      <td>NaN</td>\n",
              "      <td>{'hashtags': [{'text': 'python', 'indices': [8...</td>\n",
              "      <td>NaN</td>\n",
              "      <td>NaN</td>\n",
              "      <td>NaN</td>\n",
              "      <td>0</td>\n",
              "      <td>False</td>\n",
              "      <td>low</td>\n",
              "      <td>NaN</td>\n",
              "      <td>969105628747608064</td>\n",
              "      <td>969105628747608064</td>\n",
              "      <td>NaN</td>\n",
              "      <td>NaN</td>\n",
              "      <td>NaN</td>\n",
              "      <td>NaN</td>\n",
              "      <td>NaN</td>\n",
              "      <td>False</td>\n",
              "      <td>en</td>\n",
              "      <td>NaN</td>\n",
              "      <td>False</td>\n",
              "      <td>0</td>\n",
              "      <td>NaN</td>\n",
              "      <td>NaN</td>\n",
              "      <td>NaN</td>\n",
              "      <td>NaN</td>\n",
              "      <td>NaN</td>\n",
              "      <td>NaN</td>\n",
              "      <td>0</td>\n",
              "      <td>0</td>\n",
              "      <td>False</td>\n",
              "      <td>{'created_at': 'Thu Mar 01 06:47:35 +0000 2018...</td>\n",
              "      <td>NaN</td>\n",
              "      <td>Learning Penetration Testing With Python  http...</td>\n",
              "      <td>pythonbot_</td>\n",
              "      <td>&lt;a href=\"https://todo.mushfiqweb.com\" rel=\"nof...</td>\n",
              "      <td>RT @pythonbot_: Learning Penetration Testing W...</td>\n",
              "      <td>1519887761662</td>\n",
              "      <td>False</td>\n",
              "      <td>{'id': 67016746, 'id_str': '67016746', 'name':...</td>\n",
              "      <td>mushfiqweb</td>\n",
              "    </tr>\n",
              "    <tr>\n",
              "      <th>1</th>\n",
              "      <td>NaN</td>\n",
              "      <td>NaN</td>\n",
              "      <td>Thu Mar 01 07:57:08 +0000 2018</td>\n",
              "      <td>NaN</td>\n",
              "      <td>{'hashtags': [{'text': 'Software', 'indices': ...</td>\n",
              "      <td>NaN</td>\n",
              "      <td>NaN</td>\n",
              "      <td>NaN</td>\n",
              "      <td>0</td>\n",
              "      <td>False</td>\n",
              "      <td>low</td>\n",
              "      <td>NaN</td>\n",
              "      <td>969119331530526721</td>\n",
              "      <td>969119331530526721</td>\n",
              "      <td>NaN</td>\n",
              "      <td>NaN</td>\n",
              "      <td>NaN</td>\n",
              "      <td>NaN</td>\n",
              "      <td>NaN</td>\n",
              "      <td>False</td>\n",
              "      <td>en</td>\n",
              "      <td>NaN</td>\n",
              "      <td>False</td>\n",
              "      <td>0</td>\n",
              "      <td>NaN</td>\n",
              "      <td>NaN</td>\n",
              "      <td>NaN</td>\n",
              "      <td>NaN</td>\n",
              "      <td>NaN</td>\n",
              "      <td>NaN</td>\n",
              "      <td>0</td>\n",
              "      <td>0</td>\n",
              "      <td>False</td>\n",
              "      <td>{'created_at': 'Thu Mar 01 07:54:04 +0000 2018...</td>\n",
              "      <td>NaN</td>\n",
              "      <td>Is Language Agnosticism the Future of #Softwar...</td>\n",
              "      <td>I_m_ranjeet</td>\n",
              "      <td>&lt;a href=\"https://www.botlibre.com\" rel=\"nofoll...</td>\n",
              "      <td>RT @I_m_ranjeet: Is Language Agnosticism the F...</td>\n",
              "      <td>1519891028660</td>\n",
              "      <td>False</td>\n",
              "      <td>{'id': 962595301109518336, 'id_str': '96259530...</td>\n",
              "      <td>Dw_Develops</td>\n",
              "    </tr>\n",
              "  </tbody>\n",
              "</table>\n",
              "</div>"
            ],
            "text/plain": [
              "   contributors  ... user-screen_name\n",
              "0           NaN  ...       mushfiqweb\n",
              "1           NaN  ...      Dw_Develops\n",
              "\n",
              "[2 rows x 43 columns]"
            ]
          },
          "metadata": {
            "tags": []
          },
          "execution_count": 27
        }
      ]
    },
    {
      "cell_type": "code",
      "metadata": {
        "id": "f2kyq7ce5hyU",
        "colab_type": "code",
        "colab": {
          "base_uri": "https://localhost:8080/",
          "height": 119
        },
        "outputId": "964d31eb-edaf-4559-bc37-5b8bbc0931e1"
      },
      "source": [
        "# Imprima created_at para ver el formato original de fecha y hora en los datos de Twitter\n",
        "print(ds_tweets['created_at'].head())"
      ],
      "execution_count": 28,
      "outputs": [
        {
          "output_type": "stream",
          "text": [
            "0    Thu Mar 01 07:02:41 +0000 2018\n",
            "1    Thu Mar 01 07:57:08 +0000 2018\n",
            "2    Thu Mar 01 08:09:02 +0000 2018\n",
            "3    Thu Mar 01 09:22:21 +0000 2018\n",
            "4    Thu Mar 01 12:04:04 +0000 2018\n",
            "Name: created_at, dtype: object\n"
          ],
          "name": "stdout"
        }
      ]
    },
    {
      "cell_type": "code",
      "metadata": {
        "id": "2h2IxxAb5q7H",
        "colab_type": "code",
        "colab": {}
      },
      "source": [
        "# Convierta la columna created_at en el objeto np.datetime\n",
        "ds_tweets['created_at'] = pd.to_datetime(ds_tweets['created_at'])"
      ],
      "execution_count": 29,
      "outputs": []
    },
    {
      "cell_type": "code",
      "metadata": {
        "id": "XzyFzMLy6de5",
        "colab_type": "code",
        "colab": {
          "base_uri": "https://localhost:8080/",
          "height": 119
        },
        "outputId": "143df538-e37f-4561-f4fa-31da50d25c6d"
      },
      "source": [
        "#Imprimir created_at para ver el nuevo formato\n",
        "print(ds_tweets['created_at'].head())\n",
        "\n"
      ],
      "execution_count": 30,
      "outputs": [
        {
          "output_type": "stream",
          "text": [
            "0   2018-03-01 07:02:41+00:00\n",
            "1   2018-03-01 07:57:08+00:00\n",
            "2   2018-03-01 08:09:02+00:00\n",
            "3   2018-03-01 09:22:21+00:00\n",
            "4   2018-03-01 12:04:04+00:00\n",
            "Name: created_at, dtype: datetime64[ns, UTC]\n"
          ],
          "name": "stdout"
        }
      ]
    },
    {
      "cell_type": "code",
      "metadata": {
        "id": "KAAIIlHK6klL",
        "colab_type": "code",
        "colab": {}
      },
      "source": [
        "# Establecer el índice de ds_tweets en created_at\n",
        "ds_tweets = ds_tweets.set_index('created_at')"
      ],
      "execution_count": 31,
      "outputs": []
    },
    {
      "cell_type": "markdown",
      "metadata": {
        "id": "UhRz5RUJ7Mci",
        "colab_type": "text"
      },
      "source": [
        "### Generando una frecuencia de medida\n",
        "\n",
        "Necesitamos producir una métrica que pueda graficarse a lo largo del tiempo. Nuestra función check_word_in_tweet () devuelve una serie booleana.\n",
        "\n",
        "Recuerda que el valor booleano es True == 1, por lo que podemos producir una columna para cada palabra clave que nos interese y usarla para comprender su prevalencia a lo largo del tiempo."
      ]
    },
    {
      "cell_type": "code",
      "metadata": {
        "id": "-IeeqGNn73Gd",
        "colab_type": "code",
        "colab": {}
      },
      "source": [
        "def check_word_in_tweet(word, data):\n",
        "    \"\"\"Comprueba si una palabra está en el texto de un conjunto de datos de Twitter. \n",
        "    Comprueba el texto y el tweet extendido (tweets de más de 140 caracteres) en busca de\n",
        "     tweets, retweets y tweets citados.\n",
        "    Devuelve una serie lógica de pandas.\n",
        "    \"\"\"\n",
        "    contains_column = data['text'].str.contains(word, case = False)\n",
        "    contains_column |= data['extended_tweet-full_text'].str.contains(word, case = False)\n",
        "    contains_column |= data['quoted_status-text'].str.contains(word, case = False)\n",
        "    contains_column |= data['quoted_status-extended_tweet-full_text'].str.contains(word, case = False)\n",
        "    contains_column |= data['retweeted_status-text'].str.contains(word, case = False)\n",
        "    contains_column |= data['retweeted_status-extended_tweet-full_text'].str.contains(word, case = False)\n",
        "    return contains_column"
      ],
      "execution_count": 32,
      "outputs": []
    },
    {
      "cell_type": "code",
      "metadata": {
        "id": "YlvYb9pP6qJf",
        "colab_type": "code",
        "colab": {}
      },
      "source": [
        "# Creamos una nueva volumna\n",
        "ds_tweets['python'] = check_word_in_tweet('#python',ds_tweets)\n",
        "\n",
        "# Creamos una nueva volumna\n",
        "ds_tweets['rstats'] = check_word_in_tweet('#rstats',ds_tweets)"
      ],
      "execution_count": 33,
      "outputs": []
    },
    {
      "cell_type": "markdown",
      "metadata": {
        "id": "myXVMMPW8aef",
        "colab_type": "text"
      },
      "source": [
        "### Trazar la frecuencia media\n",
        "\n",
        "Por último, crearemos un promedio diario de las menciones de ambos hashtags y las trazaremos a lo largo del tiempo.\n",
        "\n",
        "* Primero crearemos proporciones a partir de las dos series booleanas por día, luego las trazaremos. "
      ]
    },
    {
      "cell_type": "code",
      "metadata": {
        "id": "Yj-fz5H275Zk",
        "colab_type": "code",
        "colab": {
          "base_uri": "https://localhost:8080/",
          "height": 301
        },
        "outputId": "f0e8464c-04a0-4ee8-a32c-113b360d55a6"
      },
      "source": [
        "# estilo \n",
        "sns.set()\n",
        "# Media de la columna python por dia\n",
        "mean_python = ds_tweets['python'].resample('1 d').mean()\n",
        "\n",
        "# Media de la columna rstats por dia\n",
        "mean_rstats = ds_tweets['rstats'].resample('1 d').mean()\n",
        "\n",
        "# Graficar python / rstats medios por día\n",
        "_ = plt.plot(mean_python.index.day, mean_python, color = '#3CB371')\n",
        "_ = plt.plot(mean_rstats.index.day, mean_rstats, color = '#6495ED')\n",
        "\n",
        "# Agregar etiqeutas y mostrar\n",
        "plt.xlabel('Día'); plt.ylabel('Frecuencia')\n",
        "plt.title('Mención de lenguajes al paso del tiempo')\n",
        "plt.legend(('#python', '#rstats'))\n",
        "plt.show()"
      ],
      "execution_count": 43,
      "outputs": [
        {
          "output_type": "display_data",
          "data": {
            "image/png": "[encoded data removed]",
            "text/plain": [
              "<Figure size 432x288 with 1 Axes>"
            ]
          },
          "metadata": {
            "tags": []
          }
        }
      ]
    }
  ]
}