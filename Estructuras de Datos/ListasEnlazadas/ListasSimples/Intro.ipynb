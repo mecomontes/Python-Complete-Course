{
 "cells": [
  {
   "cell_type": "markdown",
   "metadata": {},
   "source": [
    "# Introduccion:\n",
    "\n",
    "A continuación se muestra una descripción simple de una lista enlazada individualmente:\n",
    "\n",
    "![](https://secureservercdn.net/160.153.138.219/b79.d22.myftpupload.com/wp-content/uploads/2015/09/Singly-linked-list.png)\n",
    "\n",
    "## Estructura:\n",
    "\n",
    "Cada lista enlazada consta de nodos, como se muestra en la ilustración anterior. Cada nodo tiene dos componentes:\n",
    "\n",
    "* Data : Permite que un nodo de la lista vinculada **almacene un elemento de datos que puede ser de tipo cadena, carácter, número o cualquier otro tipo de objeto**. En la ilustración anterior, los elementos de datos son A, B y C, que son de tipo carácter.\n",
    "\n",
    "* Next: Es un puntero que **apunta de un nodo a otro.**\n",
    "\n",
    "El inicio de la lista enlazada se conoce como **head**. head es un puntero que **apunta al principio de la lista enlazada**, por lo que si queremos recorrer la lista enlazada para obtener o acceder a un elemento de la lista enlazada, comenzaremos desde head y avanzaremos.\n",
    "\n",
    "\n",
    "El último componente de una lista enlazada individualmente es una noción de **NULL**. Esta idea de **NULL** termina la lista vinculada. En Python, lo llamamos `None`. El último nodo de una lista vinculada individualmente apunta a un objeto nulo, y eso le **indica que es el final de la lista vinculada.**\n",
    "\n",
    "## Arrays vs Listas enlazadas.\n",
    "\n",
    "**Insertion/Deletion:**\n",
    "\n",
    "La operación de inserción / eliminación es de orden $O(n)$  operaciones para la inserción / eliminación de valor al comienzo de el array.Ahora piense si nos dan un arrray y un valor para insertar al principio del array.\n",
    "\n",
    "Para la inserción, tenemos que **desplazar todos los elementos del array hacia la derecha.** El desplazamiento **deja espacio para el elemento al comienzo del array.**\n",
    "\n",
    "\n",
    "Debido al desplazamiento de los elementos, la complejidad temporal es **O (n)**. Lo mismo ocurre con la eliminación de un elemento desde el principio de una matriz. Nuevamente, cambiamos todos los elementos hacia atrás en un índice. Por tanto, esta operación también tiene un orden de $O(n)$ complejidad de tiempo.\n",
    "\n",
    "Insertar un nodo al principio de una lista enlazada dado el nodo principal es una operación de tiempo constante ya que necesitamos cambiar la orientación de algunos punteros. Si se nos da el puntero exacto después del cual tenemos que insertar otro nodo, será una operación de tiempo constante.\n",
    "\n",
    "## Accesando a los elementos.\n",
    "\n",
    "Acceder a cualquier elemento dado un índice en arrays es mejor que acceder a elementos n en listas enlazadas. Es una operación de tiempo constante para acceder a elementos en matrices. Si se le da unarray y un índice, puede darle inmediatamente el elemento en el que se almacena la entrada. Esto se debe a que los arrays son contiguos.\n",
    "\n",
    "Acceder a un enésimo elemento en una lista vinculada es una operación $O(n)$ dado que tiene acceso al nodo principal de la lista vinculada. Si queremos acceder a un elemento, debemos comenzar desde el puntero principal y recorrer toda la lista vinculada antes de poder acceder a él.\n",
    "\n",
    "**IMPLEMENTACIÓN:**\n",
    "\n",
    "* Clase Nodo\n",
    "\n",
    "* Clase LinkList"
   ]
  },
  {
   "cell_type": "code",
   "execution_count": 1,
   "metadata": {},
   "outputs": [],
   "source": [
    "class Nodo:\n",
    "  def __init__(self, dato):\n",
    "    self.data = dato\n",
    "    self.next = None\n",
    "\n",
    "class LinkedList:\n",
    "  def __init__(self):\n",
    "    self.head = None"
   ]
  },
  {
   "cell_type": "markdown",
   "metadata": {},
   "source": [
    "Creamos una clase llamada `Nodo`. En el constructor de esta clase, damos el argumento de `self` y `dato` en la línea 2.Cada nodo constará de datos y el siguiente. Definimos `self.data` igual a los datos que se pasan al constructor del objeto de la clase Nodo (línea 3).Establecemos `self.next` igual a `None` en la línea 4. Esto es algo que volveremos a establecer cuando hagamos uso del nodo, pero por ahora, simplemente lo establecemos en `None`. Eso es prácticamente todo lo que necesitamos para la clase Node en este momento.\n",
    "\n",
    "En la línea 6, definimos una clase `LinkedList` y, en el constructor, pasamos de nuevo `self`. En la línea 8, definimos el puntero principal, que apuntará al primer nodo de la lista vinculada. Inicialmente, lo establecemos igual a ``\n",
    "None`. Ahora que hemos definido las clases en nuestra implementación, aprenderemos cómo insertar elementos en una lista vinculada en la siguiente lección."
   ]
  }
 ],
 "metadata": {
  "kernelspec": {
   "display_name": "Python",
   "language": "python",
   "name": "conda-env-python-py"
  },
  "language_info": {
   "codemirror_mode": {
    "name": "ipython",
    "version": 3
   },
   "file_extension": ".py",
   "mimetype": "text/x-python",
   "name": "python",
   "nbconvert_exporter": "python",
   "pygments_lexer": "ipython3",
   "version": "3.6.11"
  }
 },
 "nbformat": 4,
 "nbformat_minor": 4
}
