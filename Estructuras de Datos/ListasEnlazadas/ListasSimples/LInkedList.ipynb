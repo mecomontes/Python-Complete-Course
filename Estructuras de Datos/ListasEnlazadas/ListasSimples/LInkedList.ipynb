{
 "cells": [
  {
   "cell_type": "code",
   "execution_count": 49,
   "metadata": {},
   "outputs": [],
   "source": [
    "class Node:\n",
    "    def __init__(self,value):\n",
    "        self.value = value\n",
    "        self.Next = None\n",
    "    def __str__(self):\n",
    "        return str(self.value)"
   ]
  },
  {
   "cell_type": "code",
   "execution_count": 58,
   "metadata": {},
   "outputs": [],
   "source": [
    "class LinkedList:\n",
    "    def __init__(self):\n",
    "        # inicializamos le valor de la lista , en este caso None , por que sera una lista vacia\n",
    "        self.First = None\n",
    "        self.Size = 0 \n",
    "    # funcion que agrega un valor a la lista\n",
    "    def Append(self,value):\n",
    "        # Creamos un nuevo nodo\n",
    "        MyNode = Node(value)\n",
    "        # i la lista esta vacia , mi nodo pasa a ser elprimero\n",
    "        if self.Size == 0:\n",
    "            self.First = Node\n",
    "        else:\n",
    "            # creamos el nodo que irarecorriendo toda la lista\n",
    "            Current = self.First\n",
    "            # mientras que existan elementos en nuestro nodo iremos preguntando cual es el siguiente\n",
    "            while Current.Next != None:\n",
    "                Current = Current.Next\n",
    "            Current.Next = MyNode\n",
    "        # VAmos aumentando el size de nuestra lista\n",
    "        self.size = +1\n",
    "        \n",
    "        return MyNode\n",
    "    \n",
    "    #funcion que elimina un valor de la lista\n",
    "    def remove(self,value):\n",
    "        # si el size es 0 nos retorna un false\n",
    "        if value.Size == 0:\n",
    "            return false\n",
    "        else:\n",
    "            Current = self.First\n",
    "            # mientras nuestro valor sea diferente a valor que estamos buscando\n",
    "            while Current.Next.value != value:\n",
    "                if Current.Next == None:\n",
    "                    break\n",
    "                else:\n",
    "                   # que vaya avandando\n",
    "                   Current = Current.Next\n",
    "            DeletedNode = Current.next\n",
    "            Current.Next = DeletedNode.Next\n",
    "        self.Size =-1\n",
    "        \n",
    "        return DeletedNode\n",
    "    \n",
    "    def __len__():\n",
    "        return self.Size\n",
    "    \n",
    "    def __str__(self):\n",
    "        String = \"[\"\n",
    "        Current = self.First\n",
    "        while Current != None:\n",
    "            String += str(Current)\n",
    "            String += str(\",\")\n",
    "            Current = Current.next\n",
    "        String += \"]\"\n",
    "        \n",
    "        return String"
   ]
  },
  {
   "cell_type": "code",
   "execution_count": 59,
   "metadata": {},
   "outputs": [],
   "source": [
    "Mylist = LinkedList()"
   ]
  },
  {
   "cell_type": "code",
   "execution_count": 60,
   "metadata": {},
   "outputs": [
    {
     "data": {
      "text/plain": [
       "<__main__.Node at 0x7f2a2c5dd7b8>"
      ]
     },
     "execution_count": 60,
     "metadata": {},
     "output_type": "execute_result"
    }
   ],
   "source": [
    "Mylist.Append(1)\n",
    "Mylist.Append(2)\n",
    "Mylist.Append(3)"
   ]
  },
  {
   "cell_type": "code",
   "execution_count": 61,
   "metadata": {},
   "outputs": [
    {
     "ename": "AttributeError",
     "evalue": "type object 'Node' has no attribute 'next'",
     "output_type": "error",
     "traceback": [
      "\u001b[0;31m---------------------------------------------------------------------------\u001b[0m",
      "\u001b[0;31mAttributeError\u001b[0m                            Traceback (most recent call last)",
      "\u001b[0;32m<ipython-input-61-0eea02cb310f>\u001b[0m in \u001b[0;36m<module>\u001b[0;34m\u001b[0m\n\u001b[0;32m----> 1\u001b[0;31m \u001b[0mprint\u001b[0m\u001b[0;34m(\u001b[0m\u001b[0mMylist\u001b[0m\u001b[0;34m)\u001b[0m\u001b[0;34m\u001b[0m\u001b[0;34m\u001b[0m\u001b[0m\n\u001b[0m",
      "\u001b[0;32m<ipython-input-58-d0bb5dca1305>\u001b[0m in \u001b[0;36m__str__\u001b[0;34m(self)\u001b[0m\n\u001b[1;32m     52\u001b[0m             \u001b[0mString\u001b[0m \u001b[0;34m+=\u001b[0m \u001b[0mstr\u001b[0m\u001b[0;34m(\u001b[0m\u001b[0mCurrent\u001b[0m\u001b[0;34m)\u001b[0m\u001b[0;34m\u001b[0m\u001b[0;34m\u001b[0m\u001b[0m\n\u001b[1;32m     53\u001b[0m             \u001b[0mString\u001b[0m \u001b[0;34m+=\u001b[0m \u001b[0mstr\u001b[0m\u001b[0;34m(\u001b[0m\u001b[0;34m\",\"\u001b[0m\u001b[0;34m)\u001b[0m\u001b[0;34m\u001b[0m\u001b[0;34m\u001b[0m\u001b[0m\n\u001b[0;32m---> 54\u001b[0;31m             \u001b[0mCurrent\u001b[0m \u001b[0;34m=\u001b[0m \u001b[0mCurrent\u001b[0m\u001b[0;34m.\u001b[0m\u001b[0mnext\u001b[0m\u001b[0;34m\u001b[0m\u001b[0;34m\u001b[0m\u001b[0m\n\u001b[0m\u001b[1;32m     55\u001b[0m         \u001b[0mString\u001b[0m \u001b[0;34m+=\u001b[0m \u001b[0;34m\"]\"\u001b[0m\u001b[0;34m\u001b[0m\u001b[0;34m\u001b[0m\u001b[0m\n\u001b[1;32m     56\u001b[0m \u001b[0;34m\u001b[0m\u001b[0m\n",
      "\u001b[0;31mAttributeError\u001b[0m: type object 'Node' has no attribute 'next'"
     ]
    }
   ],
   "source": [
    "print(Mylist)"
   ]
  },
  {
   "cell_type": "code",
   "execution_count": null,
   "metadata": {},
   "outputs": [],
   "source": []
  },
  {
   "cell_type": "code",
   "execution_count": null,
   "metadata": {},
   "outputs": [],
   "source": []
  }
 ],
 "metadata": {
  "kernelspec": {
   "display_name": "Python",
   "language": "python",
   "name": "conda-env-python-py"
  },
  "language_info": {
   "codemirror_mode": {
    "name": "ipython",
    "version": 3
   },
   "file_extension": ".py",
   "mimetype": "text/x-python",
   "name": "python",
   "nbconvert_exporter": "python",
   "pygments_lexer": "ipython3",
   "version": "3.6.11"
  }
 },
 "nbformat": 4,
 "nbformat_minor": 4
}
