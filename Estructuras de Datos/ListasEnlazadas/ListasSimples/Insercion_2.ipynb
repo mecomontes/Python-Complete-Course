{
 "cells": [
  {
   "cell_type": "markdown",
   "metadata": {},
   "source": [
    "## Insercion .\n",
    "\n",
    "\n",
    "En esta lección, aprenderemos cómo insertar elementos en una lista enlazada en diferentes lugares.\n",
    "\n",
    "\n",
    "En la lección anterior, definimos nuestras clases `Nodo` y `LinkedList`. \n",
    "\n",
    "En esta lección, implementaremos los métodos de clase para insertar elementos en una lista vinculada:\n",
    "\n",
    "\n",
    "## Append:\n",
    "\n",
    "El método `append` **insertará un elemento al final de la lista vinculada.** \n",
    "\n",
    "![](https://i2.wp.com/datascienceparichay.com/wp-content/uploads/2020/08/python-list-append-extend-and-insert.png?fit=1280%2C720&ssl=1)\n",
    "\n",
    "Ahora escribamos un poco de codigo:"
   ]
  },
  {
   "cell_type": "code",
   "execution_count": 1,
   "metadata": {},
   "outputs": [],
   "source": [
    "class Node:\n",
    "    def __init__(self,data):\n",
    "        self.data = data\n",
    "        self.next = None\n",
    "class LinkedList:\n",
    "    def __init__(self):\n",
    "        self.head = None\n",
    "    def append(self,data):\n",
    "        new_node = Node(data)"
   ]
  },
  {
   "cell_type": "markdown",
   "metadata": {},
   "source": [
    "Definimos un nuevo nodo usando nuestra clase Node en la línea 11. El cual consiste en  `data` y el siguiente campo. Pasamos `data` al método append, y el campo de datos en new_node tiene la entrada de datos que pasamos al método append.\n",
    "\n",
    "## Lista enlazada vacia.\n",
    "\n",
    "Para el método `append` , también debemos atender el caso en el cual nuestra lista este vacia.\n"
   ]
  },
  {
   "cell_type": "code",
   "execution_count": 2,
   "metadata": {},
   "outputs": [],
   "source": [
    "class Node:\n",
    "    def __init__(self,data):\n",
    "        self.data = data\n",
    "        self.next = None\n",
    "class LinkedList:\n",
    "    def __init__(self):\n",
    "        self.head = None\n",
    "    def append(self,data):\n",
    "        new_node = Node(data)\n",
    "        if self.head is None:\n",
    "            self.head = new_node\n",
    "            return"
   ]
  },
  {
   "cell_type": "markdown",
   "metadata": {},
   "source": [
    "En el código anterior, verificamos si la lista vinculada está vacía al verificar el encabezado de la lista vinculada. Si `self.head` es `None` en la línea 12, implica que es una **lista enlazada vacía y no hay nada allí.** El puntero principal no apunta a nada en absoluto y, por lo tanto, no hay ningún nodo en la lista vinculada.Si no hay ningún nodo en la lista vinculada, establecemos el puntero principal en `new_node` que creamos en la línea 13. En la siguiente línea, simplemente retornamos. El caso de una lista vinculada vacía es relativamente fácil de manejar.\n",
    "\n",
    "## Listas enlazadas no vacias\n",
    "\n",
    "Veamos qué podemos hacer si la lista vinculada no está vacía. Tenemos `new_node` que creamos y queremos agregarlo a la lista vinculada. Podemos comenzar desde el puntero principal y luego movernos a través de cada uno de los nodos en la lista vinculada hasta llegar al final, es decir,`None`. Una vez que llegamos a la ubicación en la que queremos insertar el new_node, lo insertamos como se muestra a continuación:"
   ]
  },
  {
   "cell_type": "code",
   "execution_count": 4,
   "metadata": {},
   "outputs": [],
   "source": [
    "class Node:\n",
    "  def __init__(self, data):\n",
    "    self.data = data\n",
    "    self.next = None\n",
    "\n",
    "class LinkedList:\n",
    "  def __init__(self):\n",
    "    self.head = None\n",
    "\n",
    "  def append(self, data):\n",
    "    new_node = Node(data)\n",
    "    if self.head is None:\n",
    "      self.head = new_node\n",
    "      return\n",
    "    last_node = self.head\n",
    "    while last_node.next:\n",
    "      last_node = last_node.next\n",
    "    last_node.next = new_node"
   ]
  },
  {
   "cell_type": "markdown",
   "metadata": {},
   "source": [
    "En la línea 15, definimos last_node que inicialmente es igual a la `head`. Esto implica que estamos al comienzo de la lista vinculada. Hemos nombrado la variable que definimos en la línea 15 `last_node` porque eso es a lo que eventualmente apuntará. Comenzará al principio de la lista vinculada y se moverá a través de la lista vinculada siempre que `last_node.next` no apunte a`None`.\n",
    "\n",
    "Seguimos moviéndonos de nodo a `node` en la línea 17 hasta que llegamos al `last_node` donde `last_node.next` apuntará a `None` y terminará el bucle while en la línea 16. Después de que concluya el bucle while, `last_node` apunta al último nodo. En la línea 18, ingresamos nuestro `new_node` en la lista vinculada estableciendo el siguiente de `last_node` en `new_node`, que tiene su propio siguiente apuntando a `None`.\n",
    "\n",
    "Ahora queremos alguna forma de verificar nuestro método `append` donde podamos imprimir los nodos de la lista vinculada. Para ello, creemos un método llamado `print_list()`.\n",
    "\n",
    "## `Print_list()`\n",
    "\n",
    "`print_list()` es un método de clase, por lo que tomará `self` como argumento e imprimirá las entradas de una lista enlazada. Comenzaremos desde el puntero principal e imprimiremos el componente de datos del nodo y luego pasaremos al siguiente nodo. Controlaremos el siguiente nodo para asegurarnos de que no sea Ninguno. Si no es así, pasamos al siguiente nodo. De esta manera, seguimos imprimiendo datos hasta que alcanzamos el componente de terminación nulo de la lista vinculada. "
   ]
  },
  {
   "cell_type": "code",
   "execution_count": 6,
   "metadata": {},
   "outputs": [],
   "source": [
    "class Node:\n",
    "  def __init__(self, data):\n",
    "    self.data = data\n",
    "    self.next = None\n",
    "\n",
    "class LinkedList:\n",
    "  def __init__(self):\n",
    "    self.head = None\n",
    "  \n",
    "  def print_list(self):\n",
    "    cur_node = self.head\n",
    "    while cur_node:\n",
    "      print(cur_node.data)\n",
    "      cur_node = cur_node.next\n",
    "\n",
    "  def append(self, data):\n",
    "    new_node = Node(data)\n",
    "    if self.head is None:\n",
    "      self.head = new_node\n",
    "      return\n",
    "    last_node = self.head\n",
    "    while last_node.next:\n",
    "      last_node = last_node.next\n",
    "    last_node.next = new_node"
   ]
  },
  {
   "cell_type": "code",
   "execution_count": 9,
   "metadata": {},
   "outputs": [
    {
     "name": "stdout",
     "output_type": "stream",
     "text": [
      "1\n",
      "2\n",
      "True\n",
      "D\n"
     ]
    }
   ],
   "source": [
    "llist = LinkedList()\n",
    "llist.append(1)\n",
    "llist.append(2)\n",
    "llist.append(True)\n",
    "llist.append(\"D\")\n",
    "\n",
    "\n",
    "llist.print_list()  "
   ]
  },
  {
   "cell_type": "markdown",
   "metadata": {},
   "source": [
    "## Prepend.\n",
    "\n",
    "El método de `prepend` **insertará un elemento al principio de la lista vinculada.**\n",
    "Creamos un nuevo nodo en base a los datos que se pasan, que en el caso anterior es \"D\". Ahora queremos que el siguiente de este nodo apunte al encabezado actual de la lista vinculada y reemplace el encabezado de la lista vinculada. "
   ]
  },
  {
   "cell_type": "code",
   "execution_count": 12,
   "metadata": {},
   "outputs": [
    {
     "name": "stdout",
     "output_type": "stream",
     "text": [
      "0\n",
      "1\n",
      "2\n",
      "3\n"
     ]
    }
   ],
   "source": [
    "class Node:\n",
    "  def __init__(self, data):\n",
    "    self.data = data\n",
    "    self.next = None\n",
    "\n",
    "class LinkedList:\n",
    "  def __init__(self):\n",
    "    self.head = None\n",
    "  \n",
    "  def print_list(self):\n",
    "    cur_node = self.head\n",
    "    while cur_node:\n",
    "      print(cur_node.data)\n",
    "      cur_node = cur_node.next\n",
    "\n",
    "  def append(self, data):\n",
    "    new_node = Node(data)\n",
    "    if self.head is None:\n",
    "      self.head = new_node\n",
    "      return\n",
    "    last_node = self.head\n",
    "    while last_node.next:\n",
    "      last_node = last_node.next\n",
    "    last_node.next = new_node\n",
    "\n",
    "  def prepend(self, data):\n",
    "    new_node = Node(data)\n",
    "\n",
    "    new_node.next = self.head\n",
    "    self.head = new_node\n",
    "  \n",
    "  \n",
    "llist = LinkedList()\n",
    "llist.append(\"1\")\n",
    "llist.append(2)\n",
    "llist.append(3)\n",
    "\n",
    "\n",
    "## Agregamos un elemento al principio de la lista\n",
    "llist.prepend(\"0\")\n",
    "\n",
    "llist.print_list()  "
   ]
  },
  {
   "cell_type": "markdown",
   "metadata": {},
   "source": [
    "Creamos un método llamado `prepemd`. Esto también toma `self` y `data`, ya que necesitamos decirle qué anteponer a la lista vinculada. Creamos un nodo basado en los datos pasados al método. A continuación, en la línea 29, apuntamos el siguiente de `new_node` al encabezado actual de la lista vinculada, y luego establecemos el encabezado de la lista vinculada igual a `new_node` en la línea 30. \n",
    "\n",
    "\n",
    "## Insertar despues del nodo\n",
    "\n",
    "El último método de inserción que queremos considerar en esta lección es insertar un elemento después de un nodo dado.Tenemos una lista vinculada que contiene elementos A, B y C. Ahora queremos insertar D, que es un nuevo nodo, después del nodo B.\n",
    "\n",
    "Analicemos los pasos necesarios para realizar la operación de insertar D después de B. Primero que nada, crearemos un nuevo nodo basado en los datos D.  A continuación, debemos verificar si el nodo que se insertará después está en la lista vinculada o no. Si no está en la lista vinculada, regresaremos; de lo contrario, configuramos el siguiente puntero del nuevo nodo (D) para que apunte a lo que apunta el siguiente puntero del nodo B, es decir, el nodo C. A continuación, para implementar el paso 3, podemos cambiar el siguiente puntero del nodo B para que apunte al nuevo nodo D. "
   ]
  },
  {
   "cell_type": "code",
   "execution_count": 13,
   "metadata": {},
   "outputs": [
    {
     "name": "stdout",
     "output_type": "stream",
     "text": [
      "A\n",
      "B\n",
      "D\n",
      "C\n"
     ]
    }
   ],
   "source": [
    "class Node:\n",
    "  def __init__(self, data):\n",
    "    self.data = data\n",
    "    self.next = None\n",
    "\n",
    "class LinkedList:\n",
    "  def __init__(self):\n",
    "    self.head = None\n",
    "  \n",
    "  def print_list(self):\n",
    "    cur_node = self.head\n",
    "    while cur_node:\n",
    "      print(cur_node.data)\n",
    "      cur_node = cur_node.next\n",
    "\n",
    "  def append(self, data):\n",
    "    new_node = Node(data)\n",
    "    if self.head is None:\n",
    "      self.head = new_node\n",
    "      return\n",
    "    last_node = self.head\n",
    "    while last_node.next:\n",
    "      last_node = last_node.next\n",
    "    last_node.next = new_node\n",
    "\n",
    "  def prepend(self, data):\n",
    "    new_node = Node(data)\n",
    "\n",
    "    new_node.next = self.head\n",
    "    self.head = new_node\n",
    "  \n",
    "  def insert_after_node(self, prev_node, data):\n",
    "    if not prev_node:\n",
    "      print(\"El nodo anterior no existe.\")\n",
    "      return\n",
    "    new_node = Node(data)\n",
    "\n",
    "    new_node.next = prev_node.next\n",
    "    prev_node.next = new_node\n",
    "\n",
    "  \n",
    "  \n",
    "llist = LinkedList()\n",
    "llist.append(\"A\")\n",
    "llist.append(\"B\")\n",
    "llist.append(\"C\")\n",
    "\n",
    "\n",
    "llist.insert_after_node(llist.head.next, \"D\")\n",
    "\n",
    "llist.print_list()  "
   ]
  },
  {
   "cell_type": "markdown",
   "metadata": {},
   "source": [
    "En el código anterior, creamos un nuevo método llamado `insert_after_node` en la línea 32. Se toma `self` ya que es un método de clase. También toma `prev_node`, que es el nodo anterior, después del cual tenemos que insertar el nuevo nodo y los datos que usaremos para crear `ew_node`.\n",
    "\n",
    "\n",
    "Como se mencionó anteriormente, primero queremos verificar si `prev_node` es `None` o no. Si `prev_node` es `None` o no existe, imprimimos lo siguiente en la línea 34:\n"
   ]
  },
  {
   "cell_type": "code",
   "execution_count": 15,
   "metadata": {},
   "outputs": [
    {
     "name": "stdout",
     "output_type": "stream",
     "text": [
      "El nodo anterio no existe\n"
     ]
    }
   ],
   "source": [
    "print(\"El nodo anterio no existe\")"
   ]
  },
  {
   "cell_type": "markdown",
   "metadata": {},
   "source": [
    "Si `prev_node` no es `None`, entonces creamos un nuevo nodo en la línea 36. Para ejecutar el tercer paso , configuramos `prev_node.next` al `new_node` en la línea 39 para que `new_nod` ahora venga después de `prev_node`. En el código anterior, insertamos D después de B e imprimimos la lista vinculada para verificar nuestro método."
   ]
  }
 ],
 "metadata": {
  "kernelspec": {
   "display_name": "Python",
   "language": "python",
   "name": "conda-env-python-py"
  },
  "language_info": {
   "codemirror_mode": {
    "name": "ipython",
    "version": 3
   },
   "file_extension": ".py",
   "mimetype": "text/x-python",
   "name": "python",
   "nbconvert_exporter": "python",
   "pygments_lexer": "ipython3",
   "version": "3.6.11"
  }
 },
 "nbformat": 4,
 "nbformat_minor": 4
}
