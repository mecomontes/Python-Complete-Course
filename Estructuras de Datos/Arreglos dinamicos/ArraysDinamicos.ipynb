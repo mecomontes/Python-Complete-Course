{
  "nbformat": 4,
  "nbformat_minor": 0,
  "metadata": {
    "colab": {
      "name": "ArraysDinamico",
      "provenance": []
    },
    "kernelspec": {
      "name": "python3",
      "display_name": "Python 3"
    }
  },
  "cells": [
    {
      "cell_type": "markdown",
      "metadata": {
        "id": "z9NUfbj92hbO"
      },
      "source": [
        "# Arrays dinamicos - Matriz Dinamica.\n",
        "\n",
        "Una array dinamico es similar a unarray, pero con la diferencia de que su tamaño se puede modificar dinámicamente en tiempo de ejecución. \n",
        "\n",
        "No es necesario especificar el tamaño de una matriz de antemano. Los elementos de una matriz ocupan un bloque contiguo de memoria y, una vez creados, su tamaño no se puede cambiar. \n",
        "\n",
        "Una matriz dinámica puede, una vez que la matriz está llena, asignar una mayor cantidad de memoria, copiar el contenido de la matriz original a este nuevo espacio y continuar llenando los espacios disponibles.\n",
        "\n",
        "## Implementación de una matriz dinamica en Python.\n",
        "\n",
        "La clave es proporcionar los medios para hacer crecer una matriz A que almacena los elementos de una lista. En realidad, no podemos hacer crecer la matriz, su capacidad es fija. Si un elemento se agrega a una lista a la vez, cuando la matriz subyacente está llena, debemos realizar los siguientes pasos:\n",
        "\n",
        "*  Asigne una nueva matriz B con mayor capacidad (una regla comúnmente utilizada para la nueva matriz es tener el doble de capacidad que la matriz existente).\n",
        "\n",
        "* Establezca **B[i] = A[i]**, para $i = 0 an-1$ donde n denota el número actual de elementos. \n",
        "\n",
        "* Establezca A = B, es decir, de aquí en adelante usaremos B como la matriz de la lista de apoyo. \n",
        "\n",
        "* Inserte un nuevo elemento en la nueva matriz.\n",
        "\n",
        "Ahora veamos como podemos implementarlo en Python.\n",
        "\n",
        "Primero, creemos una clase llamada ``Array Dinamico`` e inicialicemos el constructor con algunas propiedades. Primero de los cuales será la capacidad, que inicializaremos a 2."
      ]
    },
    {
      "cell_type": "code",
      "metadata": {
        "id": "HeKecF_Y2JU8"
      },
      "source": [
        "class ArrayDinamico:\n",
        "  def __init__(self):\n",
        "    self.array = [0] * 2\n",
        "    self.indiceActual = 0\n",
        "    self.capacidad = 2"
      ],
      "execution_count": 1,
      "outputs": []
    },
    {
      "cell_type": "markdown",
      "metadata": {
        "id": "VERb8oWr5WLd"
      },
      "source": [
        "El array se inicializa a una capacidad de 2 (podemos hacer esto con cualquier numero). La variable `indiceActual` es para **realizar un seguimiento de dónde está el último elemento del array.** Esto ayudará a la hora de agregar y eliminar elementos.\n",
        "\n",
        " Hablando de agregar y quitar, impleméntelos ahora."
      ]
    },
    {
      "cell_type": "code",
      "metadata": {
        "id": "KNu0KAZx5Pza"
      },
      "source": [
        "class ArrayDinamico:\n",
        "  def __init__(self):\n",
        "    self.array = [0] * 2\n",
        "    self.indiceActual = 0\n",
        "    self.capacidad = 2\n",
        "  def agregar(self,elemento):\n",
        "    if (self.indiceActual == self.capacidad):\n",
        "      self.cambiarArray()\n",
        "      self.array[indiceActual] = elemento\n",
        "      self.indiceActual += 1\n",
        "  def remover(self):\n",
        "    if (self.indiceActual == 0):\n",
        "      raise Exception(\"No se pueden remover elementos de una lista vacia\")\n",
        "    self.indiceActual -= 1"
      ],
      "execution_count": 2,
      "outputs": []
    },
    {
      "cell_type": "markdown",
      "metadata": {
        "id": "43G80PFj7G1o"
      },
      "source": [
        "Analicemos esta línea por línea. \n",
        "\n",
        "En la función `agregar`, primero estamos verificando si `indiceActual` es igual a la `capacidad` del array. \n",
        "\n",
        "Esto se debe a que, dado que estamos implementando el array dinámico con un array estático, debemos agregar algo de espacio al array estático para que quepan todos los elementos. \n",
        "\n",
        "Una vez que cambiamos el tamaño dela array, todo lo que queda por hacer es establecer el array en `indiceActual` igual al parámetro  `elemento` y luego incrementar el `indiceActual`\n",
        "\n",
        "Ahora, la eliminación de elementos se vuelve súper fácil. Todo lo que hay que hacer es disminuir el `indiceActual`.\n",
        "\n",
        "Observa cómo ni siquiera eliminamos el elemento. ¡Con solo disminuir el `indiceActual` te aseguras que cuando agreguemos un nuevo elemento, esa ranura en el array será reemplazada por el nuevo elemento!\n",
        "\n",
        "Ahora implementemos una función para el cambio de tamaño:"
      ]
    },
    {
      "cell_type": "code",
      "metadata": {
        "id": "zKmPa2346j1J"
      },
      "source": [
        "class ArrayDinamico:\n",
        "  def __init__(self):\n",
        "    self.array = [0] * 2\n",
        "    self.indiceActual = 0\n",
        "    self.capacidad = 5\n",
        "  def agregar(self,elemento):\n",
        "    if (self.indiceActual == self.capacidad):\n",
        "      self.cambiarArray()\n",
        "      self.array[indiceActual] = elemento\n",
        "      self.indiceActual += 1\n",
        "  def remover(self):\n",
        "    if (self.indiceActual == 0):\n",
        "      raise Exception(\"No se pueden remover elementos de una lista vacia\")\n",
        "    self.indiceActual -= 1\n",
        "  def cambioArray(self):\n",
        "    self.capacidad *= 2\n",
        "    newArray = [0]  * self.capacidad\n",
        "    for i in range(self.array):\n",
        "      newArray[i] = self.array[i]\n",
        "    self.array = newArray\n",
        "  def obtener(self,indice):\n",
        "    if (indice < 0 or indice >= self.indiceActual):\n",
        "      raise Exception(\"Indice fuera de los limites del array\")\n",
        "    return self.array[indice]\n",
        "  def size(self):\n",
        "    return len(self.array)"
      ],
      "execution_count": 59,
      "outputs": []
    },
    {
      "cell_type": "markdown",
      "metadata": {
        "id": "-0pFXIIq_N3g"
      },
      "source": [
        "La función `obtener()` solo lanza una excepción si el índice es menor que 0 o mayor o igual que el índice actual del array. \n",
        "\n",
        "De lo contrario, solo devuelve el valor en el índice del parámetro. Por último, la función `size()` solo devuelve la longitud del array.\n",
        "\n"
      ]
    }
  ]
}
