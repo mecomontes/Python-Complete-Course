{
 "cells": [
  {
   "cell_type": "code",
   "execution_count": 21,
   "metadata": {},
   "outputs": [],
   "source": [
    "#EJEMPLO DATA BASE\n",
    "\n",
    "\n",
    "#creamos una lista con la informacion del usuario.\n",
    "clientes = [\n",
    "    {\"nombre\" : \"Fernando\", \"apellidos\" : \"vazquez sanchez\", \"dni\" : \"420082523\" },\n",
    "    {\"nombre\" : \"maggs\", \"apellidos\" : \"romo\", \"dni\" : \"56758062\" }\n",
    "]\n"
   ]
  },
  {
   "cell_type": "code",
   "execution_count": 22,
   "metadata": {},
   "outputs": [],
   "source": [
    "def mostrar_cliente(clientes, dni):\n",
    "    for c in clientes:\n",
    "        if (dni == c['dni']):\n",
    "            print('{} {}'.format(c['nombre'],c['apellidos']))\n",
    "            return\n",
    "    print('Cliente no encontrado')\n"
   ]
  },
  {
   "cell_type": "code",
   "execution_count": 23,
   "metadata": {},
   "outputs": [
    {
     "name": "stdout",
     "output_type": "stream",
     "text": [
      "Fernando vazquez sanchez\n"
     ]
    }
   ],
   "source": [
    "mostrar_cliente(clientes,'420082523')"
   ]
  },
  {
   "cell_type": "code",
   "execution_count": 24,
   "metadata": {},
   "outputs": [],
   "source": [
    "# Creamos una función que borra un cliente en una lista a partir del DNI\n",
    "def borrar_cliente(clientes, dni):\n",
    "    for i,c in enumerate(clientes):\n",
    "        if (dni == c['dni']):\n",
    "            del( clientes[i] ) #Usamos la funcion del para eliminar al cliente que deseamos\n",
    "            print(str(c),\"> BORRADO\")\n",
    "            return\n",
    "\n",
    "    print('Cliente no encontrado')   \n",
    "    "
   ]
  },
  {
   "cell_type": "code",
   "execution_count": 25,
   "metadata": {},
   "outputs": [
    {
     "name": "stdout",
     "output_type": "stream",
     "text": [
      "{'nombre': 'Fernando', 'apellidos': 'vazquez sanchez', 'dni': '420082523'} > BORRADO\n"
     ]
    }
   ],
   "source": [
    "borrar_cliente(clientes,\"420082523\")"
   ]
  },
  {
   "cell_type": "code",
   "execution_count": 50,
   "metadata": {},
   "outputs": [
    {
     "name": "stdout",
     "output_type": "stream",
     "text": [
      "==LISTADO DE CLIENTES==\n",
      "[{'nombre': 'Fernando', 'apellidos': 'vazquez sanchez', 'dni': '420082523'}, {'nombre': 'maggs', 'apellidos': 'romo', 'dni': '56758062'}]\n",
      "\n",
      "==MOSTRAR CLIENTES POR DNI==\n",
      "Fernando vazquez sanchez\n",
      "maggs romo\n",
      "\n",
      "==BORRAR CLIENTES POR DNI==\n",
      "{'nombre': 'Fernando', 'apellidos': 'vazquez sanchez', 'dni': '420082523'} > BORRADO\n",
      "{'nombre': 'maggs', 'apellidos': 'romo', 'dni': '56758062'} > BORRADO\n",
      "\n",
      "==LISTADO DE CLIENTES==\n",
      "[]\n"
     ]
    }
   ],
   "source": [
    "print(\"==LISTADO DE CLIENTES==\")\n",
    "print(clientes)\n",
    "\n",
    "print(\"\\n==MOSTRAR CLIENTES POR DNI==\")\n",
    "mostrar_cliente(clientes, '420082523')\n",
    "mostrar_cliente(clientes, '56758062')\n",
    "\n",
    "print(\"\\n==BORRAR CLIENTES POR DNI==\")\n",
    "borrar_cliente(clientes, '420082523')\n",
    "borrar_cliente(clientes, '56758062')\n",
    "\n",
    "print(\"\\n==LISTADO DE CLIENTES==\")\n",
    "print(clientes)"
   ]
  },
  {
   "cell_type": "code",
   "execution_count": 29,
   "metadata": {},
   "outputs": [
    {
     "name": "stdout",
     "output_type": "stream",
     "text": [
      "==LISTADO DE CLIENTES==\n",
      "(<__main__.Cliente object at 0x10c410b38>, <__main__.Cliente object at 0x10c410b00>)\n",
      "\n",
      "==MOSTRAR CLIENTES POR DNI==\n",
      "Hector Costa Guzman\n",
      "Cliente no encontrado\n",
      "\n",
      "==BORRAR CLIENTES POR DNI==\n",
      "Cliente no encontrado\n",
      "Juan Gonzalez Marquez > BORRADO\n",
      "\n",
      "==LISTADO DE CLIENTES==\n",
      "[<__main__.Cliente object at 0x10c410b38>]\n"
     ]
    }
   ],
   "source": [
    "### No intentes entender este código, sólo fíjate en cómo se utiliza abajo  \n",
    "\n",
    "# Creo una estructura para los clientes\n",
    "class Cliente:\n",
    "\n",
    "    def __init__(self, dni, nombre, apellidos):\n",
    "        self.dni = dni\n",
    "        self.nombre = nombre\n",
    "        self.apellidos = apellidos\n",
    "\n",
    "    def __str__(self):\n",
    "        return '{} {}'.format(self.nombre,self.apellidos)\n",
    "\n",
    "# Y otra para las empresas\n",
    "class Empresa:\n",
    "\n",
    "    def __init__(self, clientes=[]):\n",
    "        self.clientes = clientes\n",
    "\n",
    "    def mostrar_cliente(self, dni=None):\n",
    "        for c in self.clientes:\n",
    "            if c.dni == dni:\n",
    "                print(c)\n",
    "                return\n",
    "        print(\"Cliente no encontrado\")\n",
    "\n",
    "    def borrar_cliente(self, dni=None):\n",
    "        for i,c in enumerate(self.clientes):\n",
    "            if c.dni == dni:\n",
    "                del(self.clientes[i])\n",
    "                print(str(c),\"> BORRADO\")\n",
    "                return\n",
    "        print(\"Cliente no encontrado\")\n",
    "\n",
    "### Ahora utilizaré ambas estructuras \n",
    "\n",
    "# Creo un par de clientes\n",
    "hector = Cliente(nombre=\"Hector\", apellidos=\"Costa Guzman\", dni=\"11111111A\")\n",
    "juan = Cliente(\"22222222B\", \"Juan\", \"Gonzalez Marquez\")\n",
    "t = (hector,juan)\n",
    "\n",
    "# Creo una empresa con los clientes iniciales\n",
    "empresa = Empresa(clientes=[hector, juan])\n",
    "\n",
    "# Muestro todos los clientes\n",
    "print(\"==LISTADO DE CLIENTES==\")\n",
    "print(t)\n",
    "\n",
    "print(\"\\n==MOSTRAR CLIENTES POR DNI==\")\n",
    "# Consulto clientes por DNI\n",
    "empresa.mostrar_cliente(\"11111111A\")\n",
    "empresa.mostrar_cliente(\"11111111Z\")\n",
    "\n",
    "print(\"\\n==BORRAR CLIENTES POR DNI==\")\n",
    "# Borro un cliente por DNI\n",
    "empresa.borrar_cliente(\"22222222V\")\n",
    "empresa.borrar_cliente(\"22222222B\")\n",
    "\n",
    "# Muestro de nuevo todos los clientes\n",
    "print(\"\\n==LISTADO DE CLIENTES==\")\n",
    "print(empresa.clientes)"
   ]
  },
  {
   "cell_type": "code",
   "execution_count": 27,
   "metadata": {},
   "outputs": [
    {
     "name": "stdout",
     "output_type": "stream",
     "text": [
      "Hector Costa Guzman\n"
     ]
    }
   ],
   "source": [
    "empresa.mostrar_cliente(dni=\"11111111A\")"
   ]
  },
  {
   "cell_type": "code",
   "execution_count": null,
   "metadata": {},
   "outputs": [],
   "source": []
  }
 ],
 "metadata": {
  "kernelspec": {
   "display_name": "Python 3",
   "language": "python",
   "name": "python3"
  },
  "language_info": {
   "codemirror_mode": {
    "name": "ipython",
    "version": 3
   },
   "file_extension": ".py",
   "mimetype": "text/x-python",
   "name": "python",
   "nbconvert_exporter": "python",
   "pygments_lexer": "ipython3",
   "version": "3.7.3"
  }
 },
 "nbformat": 4,
 "nbformat_minor": 2
}
