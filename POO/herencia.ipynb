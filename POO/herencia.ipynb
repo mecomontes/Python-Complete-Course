{
 "cells": [
  {
   "cell_type": "code",
   "execution_count": 1,
   "metadata": {},
   "outputs": [],
   "source": [
    "#HERENCIA"
   ]
  },
  {
   "cell_type": "code",
   "execution_count": 31,
   "metadata": {},
   "outputs": [
    {
     "name": "stdout",
     "output_type": "stream",
     "text": [
      "<__main__.Producto object at 0x107e46e10>\n"
     ]
    }
   ],
   "source": [
    "class Producto:\n",
    "    def __init__(self,referencia,tipo,nombre,pvp,descripcion,productor= None , distribuidor = None,isbn=None,autor=None):\n",
    "        self.referencia = referencia\n",
    "        self.tipo = tipo\n",
    "        self.nombre = nombre\n",
    "        self.pvp = pvp\n",
    "        self.descripcion = descripcion \n",
    "        self.productor = productor\n",
    "        self.distribuidor = distribuidor\n",
    "        self.isbn = isbn\n",
    "        self.autor = autor\n",
    "        \n",
    "adorno = Producto(\"00A\",\"ADORNO\",\"VASO ADORNADO\",15,'Vaso de crital con dibujos')        \n",
    "print(adorno)       \n",
    "        "
   ]
  },
  {
   "cell_type": "code",
   "execution_count": 32,
   "metadata": {},
   "outputs": [
    {
     "data": {
      "text/plain": [
       "<__main__.Producto at 0x107e46e10>"
      ]
     },
     "execution_count": 32,
     "metadata": {},
     "output_type": "execute_result"
    }
   ],
   "source": [
    "adorno"
   ]
  },
  {
   "cell_type": "code",
   "execution_count": 33,
   "metadata": {},
   "outputs": [
    {
     "data": {
      "text/plain": [
       "'ADORNO'"
      ]
     },
     "execution_count": 33,
     "metadata": {},
     "output_type": "execute_result"
    }
   ],
   "source": [
    "adorno.tipo"
   ]
  },
  {
   "cell_type": "code",
   "execution_count": 34,
   "metadata": {},
   "outputs": [
    {
     "name": "stdout",
     "output_type": "stream",
     "text": [
      "REFERENCIA:\t2030\n",
      "NOMBRE:\t\tVaso adornado\n",
      "PVP:\t\t15\n",
      "DESCRIPCION:\tvaso de cristal puro\n"
     ]
    }
   ],
   "source": [
    "class Producto:\n",
    "    def __init__(self,referencia,nombre,pvp,descripcion):\n",
    "        self.referencia = referencia\n",
    "        self.nombre = nombre\n",
    "        self.pvp = pvp\n",
    "        self.descripcion = descripcion\n",
    "        \n",
    "    def __str__(self):\n",
    "        return \"\"\"\\\n",
    "REFERENCIA:\\t{}\n",
    "NOMBRE:\\t\\t{}\n",
    "PVP:\\t\\t{}\n",
    "DESCRIPCION:\\t{}\"\"\".format(self.referencia,self.nombre,self.pvp,self.descripcion)\n",
    "\n",
    "class Adorno(Producto):\n",
    "    pass\n",
    "\n",
    "a = Adorno(2030,\"Vaso adornado\",15,\"vaso de cristal puro\")\n",
    "print(a)"
   ]
  },
  {
   "cell_type": "code",
   "execution_count": 35,
   "metadata": {},
   "outputs": [
    {
     "name": "stdout",
     "output_type": "stream",
     "text": [
      "REFERENCIA:\t2020\n",
      "NOMBRE:\t\tGalleta Oreo\n",
      "PVP:\t\t1\n",
      "DESCRIPCION:\t360 Grs \n",
      "PRODUCTOR:\tCHILANGDON\n",
      "DISTRIBUIDOR:\tSA\n"
     ]
    }
   ],
   "source": [
    "class Alimento(Producto):\n",
    "    productor = \"\"\n",
    "    distribuidor = \"\"\n",
    "\n",
    "    def __str__(self):\n",
    "        return \"\"\"\\\n",
    "REFERENCIA:\\t{}\n",
    "NOMBRE:\\t\\t{}\n",
    "PVP:\\t\\t{}\n",
    "DESCRIPCION:\\t{}\n",
    "PRODUCTOR:\\t{}\n",
    "DISTRIBUIDOR:\\t{}\"\"\".format(self.referencia,self.nombre,self.pvp,self.descripcion,self.productor,self.distribuidor)\n",
    "\n",
    "\n",
    "    \n",
    "al = Alimento(2020,\"Galleta Oreo\",1,\"360 Grs \")\n",
    "al.productor = \"CHILANGDON\"\n",
    "al.distribuidor = \"SA\"\n",
    "\n",
    "\n",
    "print(al)"
   ]
  },
  {
   "cell_type": "code",
   "execution_count": 49,
   "metadata": {},
   "outputs": [
    {
     "name": "stdout",
     "output_type": "stream",
     "text": [
      "REFERENCIA:\t1900\n",
      "NOMBRE:\t\tLos misrerables\n",
      "PVP:\t\t40\n",
      "Descripcion:\tInteresante obra francesa\n",
      "Autor:\tFernando Vazquez\n",
      "Tienda:\tEl sotano\n"
     ]
    }
   ],
   "source": [
    "class Libro(Producto):\n",
    "    productor = \"\"\n",
    "    distribuidor = \"\"\n",
    "\n",
    "    def __str__(self):\n",
    "        return \"\"\"\\\n",
    "REFERENCIA:\\t{}\n",
    "NOMBRE:\\t\\t{}\n",
    "PVP:\\t\\t{}\n",
    "Descripcion:\\t{}\n",
    "Autor:\\t{}\n",
    "Tienda:\\t{}\"\"\".format(self.referencia,self.nombre,self.pvp,self.descripcion,self.productor,self.distribuidor)\n",
    "li = Libro(1900,\"Los misrerables\",40,\"Interesante obra francesa\")\n",
    "li.productor = \"Fernando Vazquez\"\n",
    "li.distribuidor = \"El sotano\"\n",
    "print(li)"
   ]
  },
  {
   "cell_type": "code",
   "execution_count": 50,
   "metadata": {},
   "outputs": [],
   "source": [
    "productos = [al, li]"
   ]
  },
  {
   "cell_type": "code",
   "execution_count": 51,
   "metadata": {},
   "outputs": [],
   "source": [
    "productos.append(a)"
   ]
  },
  {
   "cell_type": "code",
   "execution_count": 52,
   "metadata": {},
   "outputs": [
    {
     "data": {
      "text/plain": [
       "[<__main__.Alimento at 0x107e57668>,\n",
       " <__main__.Libro at 0x107e41358>,\n",
       " <__main__.Adorno at 0x107e574e0>]"
      ]
     },
     "execution_count": 52,
     "metadata": {},
     "output_type": "execute_result"
    }
   ],
   "source": [
    "productos"
   ]
  },
  {
   "cell_type": "code",
   "execution_count": 53,
   "metadata": {},
   "outputs": [
    {
     "name": "stdout",
     "output_type": "stream",
     "text": [
      "REFERENCIA:\t2020\n",
      "NOMBRE:\t\tGalleta Oreo\n",
      "PVP:\t\t1\n",
      "DESCRIPCION:\t360 Grs \n",
      "PRODUCTOR:\tCHILANGDON\n",
      "DISTRIBUIDOR:\tSA \n",
      "\n",
      "REFERENCIA:\t1900\n",
      "NOMBRE:\t\tLos misrerables\n",
      "PVP:\t\t40\n",
      "Descripcion:\tInteresante obra francesa\n",
      "Autor:\tFernando Vazquez\n",
      "Tienda:\tEl sotano \n",
      "\n",
      "REFERENCIA:\t2030\n",
      "NOMBRE:\t\tVaso adornado\n",
      "PVP:\t\t15\n",
      "DESCRIPCION:\tvaso de cristal puro \n",
      "\n"
     ]
    }
   ],
   "source": [
    "for p in productos:\n",
    "    print(p,\"\\n\")"
   ]
  },
  {
   "cell_type": "code",
   "execution_count": 54,
   "metadata": {},
   "outputs": [
    {
     "name": "stdout",
     "output_type": "stream",
     "text": [
      "Galleta Oreo 360 Grs \n",
      "Los misrerables Interesante obra francesa Fernando Vazquez\n",
      "Vaso adornado vaso de cristal puro\n"
     ]
    }
   ],
   "source": [
    "for p in productos:\n",
    "    if( isinstance(p,Adorno)):\n",
    "        print(p.nombre,p.descripcion)\n",
    "    elif( isinstance(p,Alimento)):\n",
    "        print(p.nombre,p.descripcion)\n",
    "    elif( isinstance(p,Libro)):\n",
    "        print(p.nombre,p.descripcion,p.productor)    "
   ]
  },
  {
   "cell_type": "code",
   "execution_count": 57,
   "metadata": {},
   "outputs": [
    {
     "name": "stdout",
     "output_type": "stream",
     "text": [
      "REFERENCIA:\t1900\n",
      "NOMBRE:\t\tLos misrerables\n",
      "PVP:\t\t17.0\n",
      "Descripcion:\tInteresante obra francesa\n",
      "Autor:\tFernando Vazquez\n",
      "Tienda:\tEl sotano\n"
     ]
    }
   ],
   "source": [
    "def rebaja(p,rebaja):\n",
    "    \"\"\"Devueve un oproducto con una rebaja en porcentaje de su precio\"\"\"\n",
    "    \n",
    "    p.pvp = p.pvp - (p.pvp/100 * rebaja)\n",
    "    \n",
    "    return p\n",
    "li_rebajado = rebaja(li, 50)\n",
    "print(li_rebajado)"
   ]
  },
  {
   "cell_type": "code",
   "execution_count": 58,
   "metadata": {},
   "outputs": [
    {
     "name": "stdout",
     "output_type": "stream",
     "text": [
      "REFERENCIA:\t1900\n",
      "NOMBRE:\t\tLos misrerables\n",
      "PVP:\t\t17.0\n",
      "Descripcion:\tInteresante obra francesa\n",
      "Autor:\tFernando Vazquez\n",
      "Tienda:\tEl sotano\n"
     ]
    }
   ],
   "source": [
    "print(li)"
   ]
  },
  {
   "cell_type": "code",
   "execution_count": null,
   "metadata": {},
   "outputs": [],
   "source": []
  },
  {
   "cell_type": "code",
   "execution_count": null,
   "metadata": {},
   "outputs": [],
   "source": []
  }
 ],
 "metadata": {
  "kernelspec": {
   "display_name": "Python 3",
   "language": "python",
   "name": "python3"
  },
  "language_info": {
   "codemirror_mode": {
    "name": "ipython",
    "version": 3
   },
   "file_extension": ".py",
   "mimetype": "text/x-python",
   "name": "python",
   "nbconvert_exporter": "python",
   "pygments_lexer": "ipython3",
   "version": "3.7.3"
  }
 },
 "nbformat": 4,
 "nbformat_minor": 2
}
